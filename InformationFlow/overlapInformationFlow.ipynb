{
 "cells": [
  {
   "cell_type": "code",
   "execution_count": 7,
   "metadata": {},
   "outputs": [],
   "source": [
    "import pickle\n",
    "with open('/home//StepByStep/InformationFlow/result/0/example_0.pickle', 'rb') as f:\n",
    "    data = pickle.load(f)"
   ]
  },
  {
   "cell_type": "code",
   "execution_count": 6,
   "metadata": {},
   "outputs": [],
   "source": [
    "layer_head_pair = []\n",
    "for d in data:\n",
    "    layer_head_pair.append((d['layer'], d['head']))\n",
    "    for attending_layer_head in d['attending_layer_head']:\n",
    "        layer_head_pair.append((attending_layer_head['layer'], attending_layer_head['head']))\n",
    "layer_head_pair = list(set(layer_head_pair))"
   ]
  },
  {
   "cell_type": "code",
   "execution_count": 15,
   "metadata": {},
   "outputs": [],
   "source": [
    "layer_head = []\n",
    "for i in range(5):\n",
    "    with open(f'/home//StepByStep/InformationFlow/result/0/example_{i}.pickle', 'rb') as f:\n",
    "        data = pickle.load(f)\n",
    "    layer_head_pair = []\n",
    "    for d in data:\n",
    "        layer_head_pair.append((d['layer'], d['head']))\n",
    "        for attending_layer_head in d['attending_layer_head']:\n",
    "            layer_head_pair.append((attending_layer_head['layer'], attending_layer_head['head']))\n",
    "    layer_head_pair = list(set(layer_head_pair))\n",
    "    layer_head_pair = sorted(layer_head_pair, key=lambda x: x[0])\n",
    "    layer_head.append(layer_head_pair)"
   ]
  },
  {
   "cell_type": "code",
   "execution_count": 19,
   "metadata": {},
   "outputs": [
    {
     "name": "stdout",
     "output_type": "stream",
     "text": [
      "14\n",
      "24\n",
      "21\n",
      "12\n",
      "9\n"
     ]
    }
   ],
   "source": [
    "for i in range(5):\n",
    "    print(len(layer_head[i]))"
   ]
  },
  {
   "cell_type": "code",
   "execution_count": null,
   "metadata": {},
   "outputs": [],
   "source": []
  },
  {
   "cell_type": "code",
   "execution_count": 16,
   "metadata": {},
   "outputs": [],
   "source": [
    "common_set = set(layer_head[0])\n",
    "for sublist in layer_head[1:]:\n",
    "    common_set = common_set.intersection(sublist)\n"
   ]
  },
  {
   "cell_type": "code",
   "execution_count": 17,
   "metadata": {},
   "outputs": [
    {
     "data": {
      "text/plain": [
       "{(0, 22), (1, 7)}"
      ]
     },
     "execution_count": 17,
     "metadata": {},
     "output_type": "execute_result"
    }
   ],
   "source": [
    "common_set"
   ]
  },
  {
   "cell_type": "code",
   "execution_count": null,
   "metadata": {},
   "outputs": [],
   "source": []
  }
 ],
 "metadata": {
  "kernelspec": {
   "display_name": "venv",
   "language": "python",
   "name": "python3"
  },
  "language_info": {
   "codemirror_mode": {
    "name": "ipython",
    "version": 3
   },
   "file_extension": ".py",
   "mimetype": "text/x-python",
   "name": "python",
   "nbconvert_exporter": "python",
   "pygments_lexer": "ipython3",
   "version": "3.10.6"
  }
 },
 "nbformat": 4,
 "nbformat_minor": 2
}
