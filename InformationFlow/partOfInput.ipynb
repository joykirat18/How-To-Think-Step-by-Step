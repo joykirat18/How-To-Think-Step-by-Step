{
 "cells": [
  {
   "cell_type": "code",
   "execution_count": 237,
   "metadata": {},
   "outputs": [],
   "source": [
    "import pickle\n",
    "noise_index = 0\n",
    "with open(f'/home//StepByStep/InformationFlow/result/{noise_index}/data_input_id.pickle', 'rb') as f:\n",
    "    data_input_id = pickle.load(f)"
   ]
  },
  {
   "cell_type": "code",
   "execution_count": 238,
   "metadata": {},
   "outputs": [],
   "source": [
    "from transformers import LlamaForCausalLM, LlamaTokenizer\n",
    "MODEL_PATH = '/home/models//Llama-2-7b-hf'\n",
    "\n",
    "tokenizer = LlamaTokenizer.from_pretrained(MODEL_PATH)"
   ]
  },
  {
   "cell_type": "code",
   "execution_count": 239,
   "metadata": {},
   "outputs": [],
   "source": [
    "\n",
    "def nested_data(data, entry):\n",
    "    nested_dict = {}\n",
    "    if(entry not in data):\n",
    "        print(\"Not present\")\n",
    "        return None\n",
    "    for d in data[entry]:\n",
    "        nested_dict[d] = nested_data(data, d)\n",
    "    return nested_dict"
   ]
  },
  {
   "cell_type": "code",
   "execution_count": 240,
   "metadata": {},
   "outputs": [],
   "source": [
    "# nested = {}\n",
    "\n",
    "# def nested_data(data, entry):\n",
    "#     nested_dict = {}\n",
    "#     new_entry = entry.split('_tokenPassed')[0]\n",
    "#     # print(new_entry)\n",
    "#     if(new_entry not in data):\n",
    "#         # print(\"Not present\")\n",
    "#         return None\n",
    "#     for d in data[new_entry]:\n",
    "#         nested_dict[d] = nested_data(data, d)\n",
    "#     return nested_dict\n",
    "\n",
    "# for entry in depth_0_entry:\n",
    "#     nested[entry] = nested_data(clean_data, entry)\n",
    "\n"
   ]
  },
  {
   "cell_type": "code",
   "execution_count": 241,
   "metadata": {},
   "outputs": [],
   "source": [
    "# def getNestedData(data):\n",
    "#     clean_data = {}\n",
    "#     for d in data:\n",
    "#         attend = []\n",
    "#         for d1 in d['attending_layer_head']:\n",
    "#             attend.append(f'layer_{d1[\"layer\"]}_head_{d1[\"head\"]}_pos_{d1[\"pos\"]}')\n",
    "#         clean_data[f'layer_{d[\"layer\"]}_head_{d[\"head\"]}_pos_{d[\"pos\"]}'] = attend\n",
    "\n",
    "\n",
    "# depth_0_entry = []\n",
    "# for d in data:\n",
    "#     if d['depth'] == 0:\n",
    "#         depth_0_entry.append(f'layer_{d[\"layer\"]}_head_{d[\"head\"]}_pos_{d[\"pos\"]}')\n",
    "# nested = {}\n",
    "\n",
    "# for entry in depth_0_entry:\n",
    "#     print(entry)\n",
    "#     nested[entry] = nested_data(clean_data, entry)\n",
    "# return nested"
   ]
  },
  {
   "cell_type": "code",
   "execution_count": 242,
   "metadata": {},
   "outputs": [],
   "source": [
    "def getNestedData(data, input_id):\n",
    "    clean_data = {}\n",
    "    for d in data:\n",
    "        attend = []\n",
    "        for d1 in d['attending_layer_head']:\n",
    "            token = tokenizer.decode(input_id[d1['pos']])\n",
    "            token_passed = tokenizer.decode(d1['input_id'])\n",
    "            attend.append(f'layer_{d1[\"layer\"]}_head_{d1[\"head\"]}_token_{token}_pos_{d1[\"pos\"]}_tokenPassed_{token_passed}')\n",
    "        token = tokenizer.decode(input_id[d['pos']])\n",
    "        clean_data[f'layer_{d[\"layer\"]}_head_{d[\"head\"]}_token_{token}_pos_{d[\"pos\"]}'] = attend\n",
    "    \n",
    "    depth_0_entry = []\n",
    "    for d in data:\n",
    "        if d['depth'] == 0:\n",
    "            depth_0_entry.append(f'layer_{d[\"layer\"]}_head_{d[\"head\"]}_token_{tokenizer.decode(input_id[d[\"pos\"]])}_pos_{d[\"pos\"]}')\n",
    "    \n",
    "\n",
    "    \n",
    "    nested = {}\n",
    "\n",
    "    def nested_data(data, entry):\n",
    "        nested_dict = {}\n",
    "        new_entry = entry.split('_tokenPassed')[0]\n",
    "        # print(new_entry)\n",
    "        if(new_entry not in data):\n",
    "            # print(\"Not present\")\n",
    "            return None\n",
    "        for d in data[new_entry]:\n",
    "            nested_dict[d] = nested_data(data, d)\n",
    "        return nested_dict\n",
    "\n",
    "    for entry in depth_0_entry:\n",
    "        nested[entry] = nested_data(clean_data, entry)\n",
    "    \n",
    "    return nested\n",
    "\n",
    "\n",
    "    "
   ]
  },
  {
   "cell_type": "code",
   "execution_count": 243,
   "metadata": {},
   "outputs": [],
   "source": [
    "# depth_0_entry = []\n",
    "# for d in data:\n",
    "#     if d['depth'] == 0:\n",
    "#         depth_0_entry.append(f'layer_{d[\"layer\"]}_head_{d[\"head\"]}_token_{tokenizer.decode(input_id[d[\"pos\"]])}_pos_{d[\"pos\"]}')"
   ]
  },
  {
   "cell_type": "code",
   "execution_count": 244,
   "metadata": {},
   "outputs": [],
   "source": [
    "# nested = {}\n",
    "\n",
    "# def nested_data(data, entry):\n",
    "#     nested_dict = {}\n",
    "#     new_entry = entry.split('_tokenPassed')[0]\n",
    "#     # print(new_entry)\n",
    "#     if(new_entry not in data):\n",
    "#         # print(\"Not present\")\n",
    "#         return None\n",
    "#     for d in data[new_entry]:\n",
    "#         nested_dict[d] = nested_data(data, d)\n",
    "#     return nested_dict\n",
    "\n",
    "# for entry in depth_0_entry:\n",
    "#     nested[entry] = nested_data(clean_data, entry)\n",
    "\n"
   ]
  },
  {
   "cell_type": "code",
   "execution_count": 245,
   "metadata": {},
   "outputs": [
    {
     "data": {
      "text/plain": [
       "['', '13_head_22_token_<s>_pos_0_tokenPassed_sierp']"
      ]
     },
     "execution_count": 245,
     "metadata": {},
     "output_type": "execute_result"
    }
   ],
   "source": [
    "'layer_13_head_22_token_<s>_pos_0_tokenPassed_sierp'.split('layer_')"
   ]
  },
  {
   "cell_type": "code",
   "execution_count": 246,
   "metadata": {},
   "outputs": [],
   "source": [
    "complete_data = []\n",
    "for example in data_input_id:\n",
    "    layer_head_context_data = []\n",
    "    data = example['data']\n",
    "    input_id = example['input_id']\n",
    "    answer = example['answer']\n",
    "    \n",
    "    # nested_data = getNestedData(data, input_id)\n",
    "    # # iterate over the dictionary\n",
    "    # for key, value in nested_data.items():\n",
    "    #     if('pos_-1' in key):\n",
    "    #         depth_keys = list(nested_data[key].keys())\n",
    "    #         for k in depth_keys:\n",
    "    #             pos = int(k.split('pos_')[1].split('_')[0])\n",
    "    #             layer = int(k.split('layer_')[1].split('_')[0])\n",
    "    #             head = int(k.split('head_')[1].split('_')[0])\n",
    "    #             if((layer, head, pos) not in layer_head_context_data):\n",
    "    #                 layer_head_context_data.append((layer, head, pos))\n",
    "    # complete_data.append(layer_head_context_data)\n",
    "                \n",
    "                # layer_head_context_data.append\n",
    "    # for key in nested_data:\n",
    "        # print(key)\n",
    "    # break\n",
    "    # count = 0\n",
    "    for d in data:\n",
    "        if(tokenizer.decode(input_id[d['pos']]) == answer):\n",
    "        # count += 1\n",
    "        # if(f'token_{answer[count]}_' in )\n",
    "            if((d['layer'], d['head'], d['pos']) not in layer_head_context_data):\n",
    "                layer_head_context_data.append((d['layer'], d['head'], d['pos']))\n",
    "            for attending in d['attending_layer_head']:\n",
    "                # print(attending)\n",
    "                if((attending['layer'], attending['head'], attending['pos']) not in layer_head_context_data):\n",
    "                    layer_head_context_data.append((attending['layer'], attending['head'], attending['pos']))\n",
    "                # max_depth = max(max_depth, d['depth'] + 1)\n",
    "    complete_data.append(layer_head_context_data)"
   ]
  },
  {
   "cell_type": "code",
   "execution_count": 247,
   "metadata": {},
   "outputs": [
    {
     "data": {
      "text/plain": [
       "29"
      ]
     },
     "execution_count": 247,
     "metadata": {},
     "output_type": "execute_result"
    }
   ],
   "source": [
    "len(complete_data)"
   ]
  },
  {
   "cell_type": "code",
   "execution_count": 248,
   "metadata": {},
   "outputs": [],
   "source": [
    "def FindPartOfSentence(input_id, pos):\n",
    "    input_id_number = []\n",
    "    input_token_pos = 0\n",
    "    dot_number = 0\n",
    "    dot_1 = 0\n",
    "    dot_2 = 0\n",
    "    dot_3 = 0\n",
    "    dot_4 = 0\n",
    "    dot_5 = 0\n",
    "\n",
    "    for i in range(len(input_id)):\n",
    "        if(tokenizer.decode(input_id[i]) == 'Input'):\n",
    "            input_token_pos = i\n",
    "    # for i in range(input_token_pos, len(input_id)):\n",
    "    #     # print(tokenizer.decode(input_id[i]), end=' ')\n",
    "    #     if(tokenizer.decode(input_id[i]) == '.'):\n",
    "    #         dot_number += 1\n",
    "    #         dot_1 = i\n",
    "    #         break\n",
    "    # # print(dot_1)\n",
    "    # for i in range(dot_1 + 1, len(input_id)):\n",
    "    #     # print(tokenizer.decode(input_id[i]), end=' ')\n",
    "    #     if(tokenizer.decode(input_id[i]) == '.'):\n",
    "    #         dot_number += 1\n",
    "    #         dot_2 = i\n",
    "    #         break\n",
    "    # # print(dot_2)\n",
    "\n",
    "    # for i in range(dot_2 + 1, len(input_id)):\n",
    "    #     # print(tokenizer.decode(input_id[i]), end=' ')\n",
    "    #     if(tokenizer.decode(input_id[i]) == '.'):\n",
    "    #         dot_number += 1\n",
    "    #         dot_3 = i\n",
    "    #         break\n",
    "    # # print(dot_3)\n",
    "\n",
    "    # for i in range(dot_3 + 1, len(input_id)):\n",
    "    #     # print(tokenizer.decode(input_id[i]), end=' ')\n",
    "    #     if(tokenizer.decode(input_id[i]) == '.'):\n",
    "    #         dot_number += 1\n",
    "    #         dot_4 = i\n",
    "    #         break\n",
    "    # for i in range(dot_4 + 1, len(input_id)):\n",
    "    #     # print(tokenizer.decode(input_id[i]), end=' ')\n",
    "    #     if(tokenizer.decode(input_id[i]) == '.'):\n",
    "    #         dot_number += 1\n",
    "    #         dot_5 = i\n",
    "    #         break\n",
    "    # print(input_token_pos, dot_1, dot_2, dot_3, dot_4, dot_5)\n",
    "    response_token_position = 0\n",
    "    for i in range(len(input_id)):\n",
    "        if(tokenizer.decode(input_id[i]) == 'Response'):\n",
    "            response_token_position = i\n",
    "    # dot_6 = 0\n",
    "    # for i in range(response_position + 1, len(input_id)):\n",
    "    #     if(tokenizer.decode(input_id[i]) == '.'):\n",
    "    #         dot_6 = i\n",
    "    #         break\n",
    "    # dot_7 = 0\n",
    "    # for i in range(dot_6 + 1, len(input_id)):\n",
    "    #     if(tokenizer.decode(input_id[i]) == '.'):\n",
    "    #         dot_7 = i\n",
    "    #         break\n",
    "    # dot_8 = 0\n",
    "    # for i in range(dot_7 + 1, len(input_id)):\n",
    "    #     if(tokenizer.decode(input_id[i]) == '.'):\n",
    "    #         dot_8 = i\n",
    "    #         break\n",
    "    # dot_9 = 0\n",
    "    # for i in range(dot_8 + 1, len(input_id)):\n",
    "    #     if(tokenizer.decode(input_id[i]) == '.'):\n",
    "    #         dot_9 = i\n",
    "    #         break\n",
    "        \n",
    "    if(pos <= input_token_pos - 5):\n",
    "        return 'fewShot'\n",
    "    elif(pos <= response_token_position - 4):\n",
    "        return 'context'\n",
    "    \n",
    "    # if(pos <= dot_1):\n",
    "    #     return 'statement_1'\n",
    "    # if(pos <= dot_2):\n",
    "    #     return 'statement_2'\n",
    "    # if(pos <= dot_3):\n",
    "    #     return 'statement_3'\n",
    "    # if(pos <= dot_4):\n",
    "    #     return 'statement_4'\n",
    "    # if(pos <= dot_5):\n",
    "    #     return 'statement_5'\n",
    "    # if(pos <= dot_6):\n",
    "    #     return 'generated_1'\n",
    "    # if(pos <= dot_7):\n",
    "    #     return 'generated_2'\n",
    "    # if(pos <= dot_8):\n",
    "    #     return 'generated_3'\n",
    "    # if(pos <= dot_9):\n",
    "    #     return 'generated_4'\n",
    "    return 'generated'"
   ]
  },
  {
   "cell_type": "code",
   "execution_count": 249,
   "metadata": {},
   "outputs": [
    {
     "data": {
      "text/plain": [
       "'fewShot'"
      ]
     },
     "execution_count": 249,
     "metadata": {},
     "output_type": "execute_result"
    }
   ],
   "source": [
    "FindPartOfSentence(input_id, 0)"
   ]
  },
  {
   "cell_type": "code",
   "execution_count": 250,
   "metadata": {},
   "outputs": [
    {
     "name": "stdout",
     "output_type": "stream",
     "text": [
      "Input : <0x0A> Gr imp uses are liquid . "
     ]
    }
   ],
   "source": [
    "for i in range(579, len(input_id)):\n",
    "    print(tokenizer.decode(input_id[i]), end=' ')\n",
    "    if(tokenizer.decode(input_id[i]) == '.'):\n",
    "        dot_5 = i\n",
    "        break"
   ]
  },
  {
   "cell_type": "code",
   "execution_count": 251,
   "metadata": {},
   "outputs": [
    {
     "name": "stdout",
     "output_type": "stream",
     "text": [
      "<s> <s> <s> <s> <s> <s> <s> ### Input : <0x0A> G or pus is tw imp us . Alex is rom pus . Rom pus is g or pus . Gor pus is small . Rom pus is mean . True or false : Alex is small . Let us think step by step . <0x0A> ## # Response : <0x0A> Alex is rom pus . Rom pus is g or pus . Alex is g or pus . Gor pus is small . Alex is small . True <0x0A> <0x0A> ## # Input : <0x0A> G orp uses are disc ord ant . Max is zum pus . Z ump us is sh amp or . Z ump us is g or pus . Gor pus is earth y . True or false : Max is small . Let us think step by step .  <0x0A> ## # Response : <0x0A> Max is zum pus . Z ump us is g or pus . Max is g or pus . Gor p uses are disc ord ant . Max is disc ord ant . False <0x0A> <0x0A> ## # Input : <0x0A> B or pin are w ump us . W ump uses are angry . W ump us is j empor . S ally is le mp us . L emp us is w ump us . True or false : S ally is fl oral . Let us think step by step .  <0x0A> ## # Response : <0x0A> S ally is le mp us . L emp us is w ump us . S ally is w ump us . W ump uses are angry . S ally is angry . False <0x0A> <0x0A> ## # Input : <0x0A> G or pus is jel git . Y ump uses are loud . Gor pus is y ump us . Y ump us is orange . R ex is g or pus . True or false : R ex is loud . Let us think step by step . <0x0A> ## # Response : <0x0A> R ex is g or pus . Gor pus is y ump us . R ex is y ump us . Y ump uses are loud . R ex is loud . True <0x0A> <0x0A> ## # Input : <0x0A> L emp us is t ump us . Max is le mp us . T ump us is f ru ity . T ump us is bright . L emp us is drop ant . True or false : Max is bright . Let us think step by step . <0x0A> ## # Response : <0x0A> Max is le mp us . L emp us is t ump us . Max is t ump us . T ump us is bright . Max is bright . True <0x0A> <0x0A> ## # Input : <0x0A> S ter p uses are d ull . Imp us is medium . Imp uses are ster p uses . W ren is imp us . Ster pus is da ump in . True or false : W ren is mel od ic . Let us think step by step . <0x0A> ## # Response : <0x0A> W ren is imp us . Imp uses are ster p uses . W ren is ster pus . Ster p uses are d ull . W ren is d ull . False <0x0A> <0x0A> ## # Input : <0x0A> Gr imp uses are liquid . Gor pus is gr imp us . Sam is g or pus . True or false : Sam is liquid . Let us think step by step . <0x0A> ## # Response : <0x0A> "
     ]
    }
   ],
   "source": [
    "for i in range(len(input_id)):\n",
    "    print(tokenizer.decode(input_id[i]), end=' ')"
   ]
  },
  {
   "cell_type": "code",
   "execution_count": 252,
   "metadata": {},
   "outputs": [
    {
     "name": "stdout",
     "output_type": "stream",
     "text": [
      "<s><s><s><s><s><s><s> ### Input:\n",
      "Gorpus is twimpus. Alex is rompus. Rompus is gorpus. Gorpus is small. Rompus is mean. True or false: Alex is small. Let us think step by step.\n",
      "### Response:\n",
      "Alex is rompus. Rompus is gorpus. Alex is gorpus. Gorpus is small. Alex is small. True\n",
      "\n",
      "### Input:\n",
      "Gorpuses are discordant. Max is zumpus. Zumpus is shampor. Zumpus is gorpus. Gorpus is earthy. True or false: Max is small. Let us think step by step. \n",
      "### Response:\n",
      "Max is zumpus. Zumpus is gorpus. Max is gorpus. Gorpuses are discordant. Max is discordant. False\n",
      "\n",
      "### Input:\n",
      "Borpin are wumpus. Wumpuses are angry. Wumpus is jempor. Sally is lempus. Lempus is wumpus. True or false: Sally is floral. Let us think step by step. \n",
      "### Response:\n",
      "Sally is lempus. Lempus is wumpus. Sally is wumpus. Wumpuses are angry. Sally is angry. False\n",
      "\n",
      "### Input:\n",
      "Gorpus is jelgit. Yumpuses are loud. Gorpus is yumpus. Yumpus is orange. Rex is gorpus. True or false: Rex is loud. Let us think step by step.\n",
      "### Response:\n",
      "Rex is gorpus. Gorpus is yumpus. Rex is yumpus. Yumpuses are loud. Rex is loud. True\n",
      "\n",
      "### Input:\n",
      "Lempus is tumpus. Max is lempus. Tumpus is fruity. Tumpus is bright. Lempus is dropant. True or false: Max is bright. Let us think step by step.\n",
      "### Response:\n",
      "Max is lempus. Lempus is tumpus. Max is tumpus. Tumpus is bright. Max is bright. True\n",
      "\n",
      "### Input:\n",
      "Sterpuses are dull. Impus is medium. Impuses are sterpuses. Wren is impus. Sterpus is daumpin. True or false: Wren is melodic. Let us think step by step.\n",
      "### Response:\n",
      "Wren is impus. Impuses are sterpuses. Wren is sterpus. Sterpuses are dull. Wren is dull. False\n",
      "\n",
      "### Input:\n",
      "Grimpuses are liquid. Gorpus is grimpus. Sam is gorpus. True or false: Sam is liquid. Let us think step by step.\n",
      "### Response:\n",
      "\n"
     ]
    }
   ],
   "source": [
    "print(tokenizer.decode(input_id))"
   ]
  },
  {
   "cell_type": "code",
   "execution_count": 253,
   "metadata": {},
   "outputs": [
    {
     "name": "stderr",
     "output_type": "stream",
     "text": [
      "100%|██████████| 29/29 [00:52<00:00,  1.82s/it]\n"
     ]
    }
   ],
   "source": [
    "layer_head = {}\n",
    "from tqdm import tqdm\n",
    "for i in tqdm(range(len(complete_data))):\n",
    "    input_id = data_input_id[i]['input_id']\n",
    "    # print(tokenizer.decode(input_id))\n",
    "    # print(input_id)\n",
    "    \n",
    "    data = complete_data[i]\n",
    "    for d in data:\n",
    "        if((d[0], d[1]) not in layer_head):\n",
    "            layer_head[(d[0], d[1])] = []\n",
    "        if(d[2] == -1):\n",
    "            print(\"dfdf\")\n",
    "            layer_head[(d[0], d[1])].append(FindPartOfSentence(input_id, len(input_id)-1))\n",
    "        else:\n",
    "            layer_head[(d[0], d[1])].append(FindPartOfSentence(input_id, d[2]))\n",
    "        # if(d[2] == 0):\n",
    "        #     if((d[0], d[1]) not in layer_head):\n",
    "        #         layer_head[(d[0], d[1])] = [FindPartOfSentence(input_id, d[2])]\n",
    "        #     else:\n",
    "        #         layer_head[(d[0], d[1])].append(FindPartOfSentence(input_id, d[2]))\n",
    "        #     # print('context')\n",
    "        # else:\n",
    "        #     if(d[2] in input_id):\n",
    "        #         if((d[0], d[1]) not in layer_head):\n",
    "        #             layer_head[(d[0], d[1])] = [FindPartOfSentence(input_id, d[2])]\n",
    "        #         else:\n",
    "        #             layer_head[(d[0], d[1])].append(FindPartOfSentence(input_id, d[2]))\n"
   ]
  },
  {
   "cell_type": "code",
   "execution_count": 254,
   "metadata": {},
   "outputs": [],
   "source": [
    "distribution = []\n",
    "for layer in range(32):\n",
    "    temp = []\n",
    "    for head in range(32):\n",
    "        temp.append(0)\n",
    "    distribution.append(temp)"
   ]
  },
  {
   "cell_type": "code",
   "execution_count": 255,
   "metadata": {},
   "outputs": [],
   "source": [
    "values = []\n",
    "for key in layer_head:\n",
    "    # get major entites in array\n",
    "    # print(key, layer_head[key])\n",
    "    context_count = 0\n",
    "    generated_count = 0\n",
    "    fewShot_count = 0\n",
    "    for part in layer_head[key]:\n",
    "        if(part == 'context'):\n",
    "            context_count += 1\n",
    "        elif(part == 'generated'):\n",
    "            generated_count += 1\n",
    "        else:\n",
    "            fewShot_count += 1\n",
    "    if(generated_count > context_count and generated_count > fewShot_count):\n",
    "        distribution[key[0]][key[1]] = 3\n",
    "        values.append(3)\n",
    "    elif(context_count > generated_count and context_count > fewShot_count):\n",
    "        distribution[key[0]][key[1]] = 2\n",
    "        values.append(2)\n",
    "    elif(fewShot_count > generated_count and fewShot_count > context_count):\n",
    "        distribution[key[0]][key[1]] = 1\n",
    "        values.append(1)\n",
    "    else:\n",
    "        distribution[key[0]][key[1]] = 0\n",
    "        values.append(0)\n"
   ]
  },
  {
   "cell_type": "code",
   "execution_count": 256,
   "metadata": {},
   "outputs": [
    {
     "data": {
      "text/plain": [
       "[0, 1, 2]"
      ]
     },
     "execution_count": 256,
     "metadata": {},
     "output_type": "execute_result"
    }
   ],
   "source": [
    "values = list(set(values))\n",
    "values"
   ]
  },
  {
   "cell_type": "code",
   "execution_count": 263,
   "metadata": {},
   "outputs": [],
   "source": [
    "import transformer_lens.utils as utils\n",
    "import plotly.express as px\n",
    "import numpy as np\n",
    "import matplotlib.pyplot as plt\n",
    "def imshow(tensor, renderer=None, save='head.svg', title=\"Your Plot Title\", **kwargs):\n",
    "    tensor_array = utils.to_numpy(tensor)\n",
    "\n",
    "    if(len(values) == 3):\n",
    "        cmap = plt.cm.colors.ListedColormap(['white', 'red', 'blue'])\n",
    "\n",
    "        plt.imshow(tensor_array, cmap=cmap, interpolation='nearest')\n",
    "\n",
    "        cbar = plt.colorbar(ticks=[0, 1, 2], label='Color')\n",
    "        cbar.set_ticklabels(['None', 'Few Shot', 'Context'])\n",
    "        plt.title(f'Sub Task {noise_index}')\n",
    "        plt.xlabel(f'Heads')\n",
    "        plt.ylabel('Layers')\n",
    "        plt.savefig(save + '.svg', format='svg', bbox_inches='tight')\n",
    "        plt.show()\n",
    "    \n",
    "    else:\n",
    "        cmap = plt.cm.colors.ListedColormap(['white', 'red', 'blue', 'green'])\n",
    "\n",
    "        plt.imshow(tensor_array, cmap=cmap, interpolation='nearest')\n",
    "\n",
    "        cbar = plt.colorbar(ticks=[0, 1, 2, 3], label='Color')\n",
    "        cbar.set_ticklabels(['None', 'Few Shot', 'Context', 'Generated'])\n",
    "        plt.title(f'Sub Task {noise_index}')\n",
    "        plt.xlabel(f'Heads')\n",
    "        plt.ylabel('Layers')\n",
    "        plt.savefig(save + '.svg', format='svg', bbox_inches='tight')\n",
    "        plt.show()\n",
    "\n",
    "#     colors = [\"white\", \"red\", \"blue\", \"green\"]\n",
    "#     # colors = [\"red\", \"blue\", \"green\", \"white\"]\n",
    "#     label = [\"None\", \"Few Shot\", \"Context\", \"Generated\"]\n",
    "#     # color_discrete_map = {str(i): color for i, color in zip(range(len(colors)), colors)}\n",
    "\n",
    "#     # fig = px.imshow(tensor_array, color_continuous_scale=colors, labels=dict(color=\"Label\"))\n",
    "#     fig = px.imshow(tensor_array, color_continuous_scale=colors, labels=dict(color=\"Label\"))\n",
    "\n",
    "# # Customize the color axis with labels\n",
    "#     fig.update_coloraxes(colorbar_title_text='', colorbar_tickvals=list(range(len(colors))), colorbar_ticktext=label)\n",
    "\n",
    "#     fig.update_layout(title_text=title)\n",
    "#     fig.update_xaxes(title_text=\"Head\")\n",
    "#     fig.update_yaxes(title_text=\"Layer\")\n",
    "\n",
    "    # Customize the color axis with labels\n",
    "    # fig.update_coloraxes(colorbar_title_text='', colorbar_tickvals=list(range(len(colors))), colorbar_ticktext=labels)\n",
    "\n",
    "    # fig = px.imshow(tensor_array, color_continuous_midpoint=0, color_continuous_scale=\"RdBu\", range_color=[0, 3], **kwargs)\n",
    "    # fig = px.imshow(utils.to_numpy(tensor), color_continuous_midpoint=0.0, color_continuous_scale=\"RdBu\", **kwargs)\n",
    "    # fig.show(renderer)\n",
    "    # fig.write_html(save + '.html')\n",
    "    # import json\n",
    "    # import re\n",
    "    # import plotly.io\n",
    "\n",
    "    # # Assuming html_file_path is the path to your HTML file\n",
    "    # with open(save + '.html') as f:\n",
    "    #     html = f.read()\n",
    "\n",
    "    # # Extracting the Plotly JSON from the HTML\n",
    "    # call_arg_str = re.findall(r'Plotly\\.newPlot\\((.*)\\)', html[-2**16:])[0]\n",
    "    # call_args = json.loads(f'[{call_arg_str}]')\n",
    "    # plotly_json = {'data': call_args[1], 'layout': call_args[2]}    \n",
    "\n",
    "    # # Creating a Plotly figure from the JSON\n",
    "    # fig = plotly.io.from_json(json.dumps(plotly_json))\n",
    "\n",
    "    # # Specify the output file path with the desired format (e.g., 'figure.pdf' or 'figure.svg')\n",
    "    # output_file_path = save + '.svg'\n",
    "\n",
    "    # # Save the figure as PDF or SVG\n",
    "    # plotly.io.write_image(fig, output_file_path)\n",
    "\n",
    "    # save svg\n",
    "    # fig.savefig(save)\n",
    "    # fig.write_html(save)"
   ]
  },
  {
   "cell_type": "code",
   "execution_count": 264,
   "metadata": {},
   "outputs": [],
   "source": [
    "# import transformer_lens.utils as utils\n",
    "# import plotly.express as px\n",
    "# def imshow(tensor, renderer=None, save='head.svg', title=\"Your Plot Title\", **kwargs):\n",
    "#     tensor_array = utils.to_numpy(tensor)\n",
    "#     colors = [\"white\", \"red\", \"blue\", \"green\"]\n",
    "#     # colors = [\"red\", \"blue\", \"green\", \"white\"]\n",
    "#     label = [\"None\", \"Few Shot\", \"Context\", \"Generated\"]\n",
    "#     # color_discrete_map = {str(i): color for i, color in zip(range(len(colors)), colors)}\n",
    "\n",
    "#     # fig = px.imshow(tensor_array, color_continuous_scale=colors, labels=dict(color=\"Label\"))\n",
    "#     fig = px.imshow(tensor_array, color_continuous_scale=colors, labels=dict(color=\"Label\"))\n",
    "\n",
    "# # Customize the color axis with labels\n",
    "#     fig.update_coloraxes(colorbar_title_text='', colorbar_tickvals=list(range(len(colors))), colorbar_ticktext=label)\n",
    "\n",
    "#     fig.update_layout(title_text=title)\n",
    "#     fig.update_xaxes(title_text=\"Head\")\n",
    "#     fig.update_yaxes(title_text=\"Layer\")\n",
    "\n",
    "#     # Customize the color axis with labels\n",
    "#     # fig.update_coloraxes(colorbar_title_text='', colorbar_tickvals=list(range(len(colors))), colorbar_ticktext=labels)\n",
    "\n",
    "#     # fig = px.imshow(tensor_array, color_continuous_midpoint=0, color_continuous_scale=\"RdBu\", range_color=[0, 3], **kwargs)\n",
    "#     # fig = px.imshow(utils.to_numpy(tensor), color_continuous_midpoint=0.0, color_continuous_scale=\"RdBu\", **kwargs)\n",
    "#     fig.show(renderer)\n",
    "#     fig.write_html(save + '.html')\n",
    "#     import json\n",
    "#     import re\n",
    "#     import plotly.io\n",
    "\n",
    "#     # Assuming html_file_path is the path to your HTML file\n",
    "#     with open(save + '.html') as f:\n",
    "#         html = f.read()\n",
    "\n",
    "#     # Extracting the Plotly JSON from the HTML\n",
    "#     call_arg_str = re.findall(r'Plotly\\.newPlot\\((.*)\\)', html[-2**16:])[0]\n",
    "#     call_args = json.loads(f'[{call_arg_str}]')\n",
    "#     plotly_json = {'data': call_args[1], 'layout': call_args[2]}    \n",
    "\n",
    "#     # Creating a Plotly figure from the JSON\n",
    "#     fig = plotly.io.from_json(json.dumps(plotly_json))\n",
    "\n",
    "#     # Specify the output file path with the desired format (e.g., 'figure.pdf' or 'figure.svg')\n",
    "#     output_file_path = save + '.svg'\n",
    "\n",
    "#     # Save the figure as PDF or SVG\n",
    "#     plotly.io.write_image(fig, output_file_path)\n",
    "\n",
    "#     # save svg\n",
    "#     # fig.savefig(save)\n",
    "#     # fig.write_html(save)"
   ]
  },
  {
   "cell_type": "code",
   "execution_count": 266,
   "metadata": {},
   "outputs": [
    {
     "data": {
      "image/png": "[encoded data removed]",
      "text/plain": [
       "<Figure size 640x480 with 2 Axes>"
      ]
     },
     "metadata": {},
     "output_type": "display_data"
    }
   ],
   "source": [
    "imshow(distribution, save=f'PartOfInput_index_{noise_index}_new', title=f\"index {noise_index}\", labels={\"x\":\"Head\", \"y\":\"Layer\"})\n"
   ]
  },
  {
   "cell_type": "code",
   "execution_count": null,
   "metadata": {},
   "outputs": [],
   "source": [
    "import numpy as np\n",
    "import plotly.express as px\n",
    "\n",
    "# Example data: a 32x32 grid with values in the range [0, 3)\n",
    "data = np.random.randint(0, 4, size=(32, 32))\n",
    "\n",
    "# Create a custom color scale with distinct colors and corresponding labels\n",
    "colors = [\"red\", \"blue\", \"green\", \"white\"]\n",
    "labels = [\"Label A\", \"Label B\", \"Label C\", \"Label D\"]\n",
    "\n",
    "# Create a figure with specified color labels\n",
    "fig = px.imshow(data, color_continuous_scale=colors, labels=dict(color=\"Label\"))\n",
    "\n",
    "# Remove the gradient color scale\n",
    "fig.update_coloraxes(colorbar_title_text='', showscale=False)\n",
    "\n",
    "# Manually add text labels on the right side\n",
    "fig.update_layout(annotations=[\n",
    "    dict(\n",
    "        text=label,\n",
    "        x=1.1,\n",
    "        y=(i + 0.5) / len(colors),\n",
    "        xref='paper',\n",
    "        yref='paper',\n",
    "        showarrow=False,\n",
    "        font=dict(size=12),\n",
    "        bgcolor=colors[i],\n",
    "        opacity=0.7,\n",
    "        borderpad=4,\n",
    "        bordercolor='black',\n",
    "        borderwidth=1\n",
    "    ) for i, label in enumerate(labels)\n",
    "])\n",
    "\n",
    "# Set the title\n",
    "fig.update_layout(title_text=\"Your Plot Title\")\n",
    "\n",
    "# Add colored rectangles to indicate the colors corresponding to labels\n",
    "for i, color in enumerate(colors):\n",
    "    fig.add_shape(\n",
    "        dict(\n",
    "            type='rect',\n",
    "            x0=1.15,\n",
    "            x1=1.25,\n",
    "            y0=(i + 0.3) / len(colors),\n",
    "            y1=(i + 0.7) / len(colors),\n",
    "            fillcolor=color,\n",
    "            opacity=0.7,\n",
    "            layer=\"below\",\n",
    "            line=dict(width=1, color='black')\n",
    "        )\n",
    "    )\n",
    "\n",
    "# Show the plot\n",
    "fig.show()\n"
   ]
  },
  {
   "cell_type": "code",
   "execution_count": 57,
   "metadata": {},
   "outputs": [
    {
     "data": {
      "application/vnd.plotly.v1+json": {
       "config": {
        "plotlyServerURL": "https://plot.ly"
       },
       "data": [
        {
         "coloraxis": "coloraxis",
         "hovertemplate": "x: %{x}<br>y: %{y}<br>Label: %{z}<extra></extra>",
         "name": "0",
         "type": "heatmap",
         "xaxis": "x",
         "yaxis": "y",
         "z": [
          [
           1,
           3,
           2,
           2,
           3,
           3,
           1,
           2,
           3,
           0,
           3,
           3,
           0,
           3,
           2,
           3,
           3,
           3,
           0,
           1,
           1,
           3,
           0,
           0,
           1,
           2,
           2,
           3,
           2,
           3,
           2,
           1
          ],
          [
           1,
           0,
           3,
           2,
           2,
           0,
           3,
           1,
           1,
           2,
           0,
           1,
           1,
           3,
           1,
           1,
           2,
           0,
           0,
           0,
           0,
           2,
           0,
           1,
           1,
           0,
           2,
           1,
           0,
           1,
           3,
           1
          ],
          [
           2,
           2,
           1,
           1,
           3,
           0,
           2,
           1,
           3,
           3,
           2,
           1,
           2,
           3,
           0,
           3,
           0,
           2,
           3,
           0,
           2,
           1,
           2,
           0,
           2,
           2,
           3,
           2,
           0,
           1,
           0,
           2
          ],
          [
           3,
           1,
           0,
           3,
           2,
           0,
           0,
           3,
           2,
           0,
           3,
           2,
           2,
           3,
           1,
           1,
           3,
           0,
           1,
           3,
           1,
           1,
           3,
           3,
           3,
           2,
           3,
           3,
           2,
           1,
           0,
           1
          ],
          [
           1,
           1,
           1,
           0,
           2,
           1,
           3,
           3,
           1,
           3,
           2,
           2,
           1,
           2,
           2,
           2,
           0,
           1,
           2,
           3,
           1,
           0,
           2,
           0,
           2,
           3,
           1,
           2,
           1,
           1,
           3,
           0
          ],
          [
           0,
           0,
           3,
           1,
           2,
           1,
           2,
           0,
           1,
           3,
           1,
           2,
           2,
           2,
           2,
           0,
           1,
           0,
           1,
           3,
           0,
           2,
           2,
           1,
           0,
           3,
           0,
           0,
           2,
           2,
           2,
           3
          ],
          [
           2,
           1,
           3,
           1,
           2,
           0,
           0,
           2,
           0,
           1,
           3,
           0,
           2,
           3,
           1,
           1,
           0,
           3,
           3,
           0,
           3,
           1,
           2,
           3,
           3,
           0,
           2,
           2,
           3,
           0,
           1,
           2
          ],
          [
           2,
           0,
           1,
           1,
           1,
           1,
           2,
           3,
           2,
           2,
           2,
           2,
           1,
           3,
           1,
           2,
           0,
           3,
           2,
           2,
           3,
           0,
           0,
           1,
           3,
           1,
           1,
           3,
           0,
           1,
           1,
           0
          ],
          [
           2,
           3,
           2,
           1,
           2,
           3,
           1,
           2,
           0,
           2,
           0,
           1,
           0,
           1,
           0,
           0,
           3,
           0,
           3,
           3,
           0,
           2,
           2,
           2,
           1,
           0,
           3,
           0,
           0,
           3,
           3,
           0
          ],
          [
           3,
           2,
           0,
           0,
           2,
           3,
           2,
           3,
           2,
           0,
           3,
           3,
           0,
           1,
           0,
           2,
           1,
           1,
           2,
           0,
           1,
           1,
           2,
           3,
           2,
           2,
           0,
           0,
           1,
           2,
           3,
           2
          ],
          [
           3,
           0,
           1,
           1,
           2,
           1,
           2,
           3,
           1,
           1,
           2,
           3,
           2,
           2,
           0,
           0,
           1,
           0,
           3,
           3,
           1,
           0,
           1,
           0,
           1,
           3,
           0,
           0,
           1,
           0,
           1,
           1
          ],
          [
           2,
           1,
           2,
           2,
           2,
           0,
           2,
           3,
           0,
           1,
           1,
           2,
           1,
           3,
           2,
           2,
           1,
           3,
           1,
           2,
           0,
           1,
           3,
           3,
           1,
           2,
           1,
           3,
           0,
           1,
           2,
           1
          ],
          [
           3,
           0,
           3,
           1,
           0,
           2,
           2,
           3,
           0,
           2,
           0,
           0,
           0,
           2,
           1,
           1,
           3,
           1,
           0,
           3,
           2,
           0,
           1,
           2,
           1,
           0,
           1,
           2,
           3,
           3,
           3,
           1
          ],
          [
           1,
           1,
           3,
           3,
           1,
           3,
           1,
           3,
           1,
           1,
           1,
           2,
           2,
           3,
           1,
           2,
           0,
           0,
           3,
           2,
           3,
           2,
           0,
           1,
           3,
           0,
           0,
           3,
           0,
           2,
           0,
           0
          ],
          [
           2,
           1,
           2,
           3,
           2,
           0,
           1,
           2,
           3,
           2,
           1,
           1,
           0,
           2,
           1,
           0,
           3,
           2,
           3,
           2,
           0,
           0,
           2,
           0,
           0,
           0,
           1,
           0,
           1,
           3,
           1,
           2
          ],
          [
           2,
           1,
           3,
           3,
           2,
           0,
           3,
           3,
           0,
           1,
           2,
           1,
           3,
           3,
           2,
           2,
           1,
           3,
           0,
           2,
           0,
           0,
           2,
           0,
           3,
           1,
           1,
           2,
           1,
           1,
           0,
           1
          ],
          [
           2,
           2,
           0,
           3,
           2,
           2,
           0,
           1,
           2,
           1,
           1,
           1,
           1,
           3,
           1,
           0,
           2,
           1,
           0,
           1,
           2,
           3,
           3,
           1,
           3,
           0,
           2,
           1,
           0,
           1,
           0,
           0
          ],
          [
           3,
           1,
           3,
           2,
           0,
           0,
           1,
           1,
           3,
           1,
           2,
           3,
           2,
           0,
           3,
           2,
           3,
           1,
           2,
           1,
           0,
           3,
           2,
           0,
           3,
           0,
           1,
           1,
           1,
           1,
           1,
           1
          ],
          [
           0,
           2,
           3,
           3,
           3,
           0,
           3,
           0,
           0,
           2,
           3,
           0,
           1,
           3,
           2,
           1,
           3,
           0,
           3,
           2,
           0,
           0,
           1,
           2,
           0,
           0,
           1,
           0,
           1,
           3,
           0,
           2
          ],
          [
           2,
           0,
           2,
           2,
           1,
           0,
           1,
           1,
           0,
           1,
           1,
           0,
           1,
           3,
           1,
           1,
           3,
           1,
           3,
           2,
           3,
           2,
           2,
           3,
           2,
           0,
           1,
           2,
           2,
           3,
           2,
           0
          ],
          [
           3,
           1,
           2,
           2,
           3,
           3,
           1,
           1,
           2,
           1,
           1,
           1,
           3,
           3,
           3,
           2,
           2,
           3,
           1,
           1,
           1,
           2,
           1,
           1,
           3,
           2,
           2,
           3,
           3,
           0,
           3,
           3
          ],
          [
           3,
           3,
           0,
           0,
           1,
           0,
           2,
           3,
           1,
           3,
           3,
           0,
           3,
           1,
           2,
           3,
           0,
           0,
           1,
           2,
           1,
           3,
           1,
           3,
           2,
           3,
           3,
           2,
           1,
           0,
           2,
           0
          ],
          [
           3,
           3,
           0,
           3,
           1,
           2,
           2,
           2,
           1,
           0,
           3,
           2,
           1,
           2,
           2,
           1,
           3,
           3,
           1,
           0,
           3,
           2,
           1,
           1,
           3,
           1,
           3,
           2,
           3,
           3,
           1,
           1
          ],
          [
           2,
           0,
           1,
           1,
           3,
           3,
           2,
           2,
           0,
           0,
           3,
           0,
           1,
           2,
           1,
           0,
           2,
           2,
           0,
           2,
           0,
           1,
           0,
           1,
           0,
           3,
           2,
           3,
           0,
           0,
           0,
           2
          ],
          [
           0,
           0,
           0,
           3,
           2,
           1,
           3,
           3,
           1,
           0,
           3,
           2,
           3,
           0,
           1,
           3,
           2,
           1,
           1,
           1,
           2,
           2,
           2,
           1,
           0,
           1,
           3,
           0,
           2,
           0,
           1,
           3
          ],
          [
           3,
           2,
           2,
           2,
           0,
           1,
           0,
           1,
           0,
           3,
           1,
           1,
           0,
           0,
           1,
           3,
           3,
           2,
           0,
           2,
           1,
           2,
           3,
           0,
           0,
           3,
           1,
           2,
           1,
           2,
           1,
           1
          ],
          [
           2,
           0,
           2,
           0,
           0,
           0,
           3,
           0,
           3,
           3,
           2,
           3,
           2,
           1,
           2,
           2,
           3,
           1,
           1,
           2,
           0,
           0,
           1,
           2,
           3,
           2,
           1,
           3,
           2,
           2,
           1,
           0
          ],
          [
           2,
           0,
           1,
           3,
           0,
           1,
           2,
           2,
           3,
           3,
           0,
           1,
           0,
           0,
           0,
           1,
           2,
           2,
           3,
           1,
           3,
           2,
           3,
           0,
           2,
           3,
           0,
           3,
           2,
           1,
           1,
           0
          ],
          [
           2,
           1,
           1,
           0,
           3,
           0,
           2,
           2,
           0,
           1,
           3,
           3,
           2,
           0,
           2,
           0,
           0,
           1,
           2,
           1,
           1,
           3,
           0,
           1,
           1,
           1,
           2,
           1,
           3,
           3,
           3,
           3
          ],
          [
           3,
           2,
           1,
           1,
           1,
           2,
           0,
           3,
           3,
           0,
           3,
           2,
           2,
           3,
           1,
           3,
           3,
           1,
           1,
           1,
           2,
           3,
           1,
           3,
           3,
           3,
           2,
           1,
           0,
           3,
           3,
           0
          ],
          [
           2,
           3,
           1,
           3,
           0,
           1,
           2,
           2,
           0,
           2,
           3,
           0,
           3,
           3,
           0,
           0,
           3,
           3,
           0,
           2,
           1,
           0,
           1,
           0,
           1,
           0,
           2,
           1,
           3,
           1,
           1,
           1
          ],
          [
           3,
           1,
           2,
           2,
           0,
           3,
           1,
           2,
           0,
           1,
           0,
           1,
           2,
           2,
           1,
           2,
           2,
           1,
           3,
           3,
           3,
           1,
           0,
           1,
           2,
           1,
           2,
           0,
           2,
           0,
           3,
           0
          ]
         ]
        }
       ],
       "layout": {
        "annotations": [
         {
          "bgcolor": "red",
          "bordercolor": "black",
          "borderpad": 4,
          "borderwidth": 1,
          "font": {
           "size": 12
          },
          "opacity": 0.7,
          "showarrow": false,
          "text": "Label A",
          "x": 1.1,
          "xref": "paper",
          "y": 0.125,
          "yref": "paper"
         },
         {
          "bgcolor": "blue",
          "bordercolor": "black",
          "borderpad": 4,
          "borderwidth": 1,
          "font": {
           "size": 12
          },
          "opacity": 0.7,
          "showarrow": false,
          "text": "Label B",
          "x": 1.1,
          "xref": "paper",
          "y": 0.375,
          "yref": "paper"
         },
         {
          "bgcolor": "green",
          "bordercolor": "black",
          "borderpad": 4,
          "borderwidth": 1,
          "font": {
           "size": 12
          },
          "opacity": 0.7,
          "showarrow": false,
          "text": "Label C",
          "x": 1.1,
          "xref": "paper",
          "y": 0.625,
          "yref": "paper"
         },
         {
          "bgcolor": "white",
          "bordercolor": "black",
          "borderpad": 4,
          "borderwidth": 1,
          "font": {
           "size": 12
          },
          "opacity": 0.7,
          "showarrow": false,
          "text": "Label D",
          "x": 1.1,
          "xref": "paper",
          "y": 0.875,
          "yref": "paper"
         }
        ],
        "coloraxis": {
         "colorbar": {
          "title": {
           "text": ""
          }
         },
         "colorscale": [
          [
           0,
           "red"
          ],
          [
           0.3333333333333333,
           "blue"
          ],
          [
           0.6666666666666666,
           "green"
          ],
          [
           1,
           "white"
          ]
         ],
         "showscale": false
        },
        "margin": {
         "t": 60
        },
        "shapes": [
         {
          "fillcolor": "red",
          "layer": "below",
          "line": {
           "color": "black",
           "width": 1
          },
          "opacity": 0.7,
          "type": "rect",
          "x0": 1.15,
          "x1": 1.25,
          "y0": 0.075,
          "y1": 0.175
         },
         {
          "fillcolor": "blue",
          "layer": "below",
          "line": {
           "color": "black",
           "width": 1
          },
          "opacity": 0.7,
          "type": "rect",
          "x0": 1.15,
          "x1": 1.25,
          "y0": 0.325,
          "y1": 0.425
         },
         {
          "fillcolor": "green",
          "layer": "below",
          "line": {
           "color": "black",
           "width": 1
          },
          "opacity": 0.7,
          "type": "rect",
          "x0": 1.15,
          "x1": 1.25,
          "y0": 0.575,
          "y1": 0.675
         },
         {
          "fillcolor": "white",
          "layer": "below",
          "line": {
           "color": "black",
           "width": 1
          },
          "opacity": 0.7,
          "type": "rect",
          "x0": 1.15,
          "x1": 1.25,
          "y0": 0.825,
          "y1": 0.925
         }
        ],
        "template": {
         "data": {
          "bar": [
           {
            "error_x": {
             "color": "#2a3f5f"
            },
            "error_y": {
             "color": "#2a3f5f"
            },
            "marker": {
             "line": {
              "color": "#E5ECF6",
              "width": 0.5
             },
             "pattern": {
              "fillmode": "overlay",
              "size": 10,
              "solidity": 0.2
             }
            },
            "type": "bar"
           }
          ],
          "barpolar": [
           {
            "marker": {
             "line": {
              "color": "#E5ECF6",
              "width": 0.5
             },
             "pattern": {
              "fillmode": "overlay",
              "size": 10,
              "solidity": 0.2
             }
            },
            "type": "barpolar"
           }
          ],
          "carpet": [
           {
            "aaxis": {
             "endlinecolor": "#2a3f5f",
             "gridcolor": "white",
             "linecolor": "white",
             "minorgridcolor": "white",
             "startlinecolor": "#2a3f5f"
            },
            "baxis": {
             "endlinecolor": "#2a3f5f",
             "gridcolor": "white",
             "linecolor": "white",
             "minorgridcolor": "white",
             "startlinecolor": "#2a3f5f"
            },
            "type": "carpet"
           }
          ],
          "choropleth": [
           {
            "colorbar": {
             "outlinewidth": 0,
             "ticks": ""
            },
            "type": "choropleth"
           }
          ],
          "contour": [
           {
            "colorbar": {
             "outlinewidth": 0,
             "ticks": ""
            },
            "colorscale": [
             [
              0,
              "#0d0887"
             ],
             [
              0.1111111111111111,
              "#46039f"
             ],
             [
              0.2222222222222222,
              "#7201a8"
             ],
             [
              0.3333333333333333,
              "#9c179e"
             ],
             [
              0.4444444444444444,
              "#bd3786"
             ],
             [
              0.5555555555555556,
              "#d8576b"
             ],
             [
              0.6666666666666666,
              "#ed7953"
             ],
             [
              0.7777777777777778,
              "#fb9f3a"
             ],
             [
              0.8888888888888888,
              "#fdca26"
             ],
             [
              1,
              "#f0f921"
             ]
            ],
            "type": "contour"
           }
          ],
          "contourcarpet": [
           {
            "colorbar": {
             "outlinewidth": 0,
             "ticks": ""
            },
            "type": "contourcarpet"
           }
          ],
          "heatmap": [
           {
            "colorbar": {
             "outlinewidth": 0,
             "ticks": ""
            },
            "colorscale": [
             [
              0,
              "#0d0887"
             ],
             [
              0.1111111111111111,
              "#46039f"
             ],
             [
              0.2222222222222222,
              "#7201a8"
             ],
             [
              0.3333333333333333,
              "#9c179e"
             ],
             [
              0.4444444444444444,
              "#bd3786"
             ],
             [
              0.5555555555555556,
              "#d8576b"
             ],
             [
              0.6666666666666666,
              "#ed7953"
             ],
             [
              0.7777777777777778,
              "#fb9f3a"
             ],
             [
              0.8888888888888888,
              "#fdca26"
             ],
             [
              1,
              "#f0f921"
             ]
            ],
            "type": "heatmap"
           }
          ],
          "heatmapgl": [
           {
            "colorbar": {
             "outlinewidth": 0,
             "ticks": ""
            },
            "colorscale": [
             [
              0,
              "#0d0887"
             ],
             [
              0.1111111111111111,
              "#46039f"
             ],
             [
              0.2222222222222222,
              "#7201a8"
             ],
             [
              0.3333333333333333,
              "#9c179e"
             ],
             [
              0.4444444444444444,
              "#bd3786"
             ],
             [
              0.5555555555555556,
              "#d8576b"
             ],
             [
              0.6666666666666666,
              "#ed7953"
             ],
             [
              0.7777777777777778,
              "#fb9f3a"
             ],
             [
              0.8888888888888888,
              "#fdca26"
             ],
             [
              1,
              "#f0f921"
             ]
            ],
            "type": "heatmapgl"
           }
          ],
          "histogram": [
           {
            "marker": {
             "pattern": {
              "fillmode": "overlay",
              "size": 10,
              "solidity": 0.2
             }
            },
            "type": "histogram"
           }
          ],
          "histogram2d": [
           {
            "colorbar": {
             "outlinewidth": 0,
             "ticks": ""
            },
            "colorscale": [
             [
              0,
              "#0d0887"
             ],
             [
              0.1111111111111111,
              "#46039f"
             ],
             [
              0.2222222222222222,
              "#7201a8"
             ],
             [
              0.3333333333333333,
              "#9c179e"
             ],
             [
              0.4444444444444444,
              "#bd3786"
             ],
             [
              0.5555555555555556,
              "#d8576b"
             ],
             [
              0.6666666666666666,
              "#ed7953"
             ],
             [
              0.7777777777777778,
              "#fb9f3a"
             ],
             [
              0.8888888888888888,
              "#fdca26"
             ],
             [
              1,
              "#f0f921"
             ]
            ],
            "type": "histogram2d"
           }
          ],
          "histogram2dcontour": [
           {
            "colorbar": {
             "outlinewidth": 0,
             "ticks": ""
            },
            "colorscale": [
             [
              0,
              "#0d0887"
             ],
             [
              0.1111111111111111,
              "#46039f"
             ],
             [
              0.2222222222222222,
              "#7201a8"
             ],
             [
              0.3333333333333333,
              "#9c179e"
             ],
             [
              0.4444444444444444,
              "#bd3786"
             ],
             [
              0.5555555555555556,
              "#d8576b"
             ],
             [
              0.6666666666666666,
              "#ed7953"
             ],
             [
              0.7777777777777778,
              "#fb9f3a"
             ],
             [
              0.8888888888888888,
              "#fdca26"
             ],
             [
              1,
              "#f0f921"
             ]
            ],
            "type": "histogram2dcontour"
           }
          ],
          "mesh3d": [
           {
            "colorbar": {
             "outlinewidth": 0,
             "ticks": ""
            },
            "type": "mesh3d"
           }
          ],
          "parcoords": [
           {
            "line": {
             "colorbar": {
              "outlinewidth": 0,
              "ticks": ""
             }
            },
            "type": "parcoords"
           }
          ],
          "pie": [
           {
            "automargin": true,
            "type": "pie"
           }
          ],
          "scatter": [
           {
            "fillpattern": {
             "fillmode": "overlay",
             "size": 10,
             "solidity": 0.2
            },
            "type": "scatter"
           }
          ],
          "scatter3d": [
           {
            "line": {
             "colorbar": {
              "outlinewidth": 0,
              "ticks": ""
             }
            },
            "marker": {
             "colorbar": {
              "outlinewidth": 0,
              "ticks": ""
             }
            },
            "type": "scatter3d"
           }
          ],
          "scattercarpet": [
           {
            "marker": {
             "colorbar": {
              "outlinewidth": 0,
              "ticks": ""
             }
            },
            "type": "scattercarpet"
           }
          ],
          "scattergeo": [
           {
            "marker": {
             "colorbar": {
              "outlinewidth": 0,
              "ticks": ""
             }
            },
            "type": "scattergeo"
           }
          ],
          "scattergl": [
           {
            "marker": {
             "colorbar": {
              "outlinewidth": 0,
              "ticks": ""
             }
            },
            "type": "scattergl"
           }
          ],
          "scattermapbox": [
           {
            "marker": {
             "colorbar": {
              "outlinewidth": 0,
              "ticks": ""
             }
            },
            "type": "scattermapbox"
           }
          ],
          "scatterpolar": [
           {
            "marker": {
             "colorbar": {
              "outlinewidth": 0,
              "ticks": ""
             }
            },
            "type": "scatterpolar"
           }
          ],
          "scatterpolargl": [
           {
            "marker": {
             "colorbar": {
              "outlinewidth": 0,
              "ticks": ""
             }
            },
            "type": "scatterpolargl"
           }
          ],
          "scatterternary": [
           {
            "marker": {
             "colorbar": {
              "outlinewidth": 0,
              "ticks": ""
             }
            },
            "type": "scatterternary"
           }
          ],
          "surface": [
           {
            "colorbar": {
             "outlinewidth": 0,
             "ticks": ""
            },
            "colorscale": [
             [
              0,
              "#0d0887"
             ],
             [
              0.1111111111111111,
              "#46039f"
             ],
             [
              0.2222222222222222,
              "#7201a8"
             ],
             [
              0.3333333333333333,
              "#9c179e"
             ],
             [
              0.4444444444444444,
              "#bd3786"
             ],
             [
              0.5555555555555556,
              "#d8576b"
             ],
             [
              0.6666666666666666,
              "#ed7953"
             ],
             [
              0.7777777777777778,
              "#fb9f3a"
             ],
             [
              0.8888888888888888,
              "#fdca26"
             ],
             [
              1,
              "#f0f921"
             ]
            ],
            "type": "surface"
           }
          ],
          "table": [
           {
            "cells": {
             "fill": {
              "color": "#EBF0F8"
             },
             "line": {
              "color": "white"
             }
            },
            "header": {
             "fill": {
              "color": "#C8D4E3"
             },
             "line": {
              "color": "white"
             }
            },
            "type": "table"
           }
          ]
         },
         "layout": {
          "annotationdefaults": {
           "arrowcolor": "#2a3f5f",
           "arrowhead": 0,
           "arrowwidth": 1
          },
          "autotypenumbers": "strict",
          "coloraxis": {
           "colorbar": {
            "outlinewidth": 0,
            "ticks": ""
           }
          },
          "colorscale": {
           "diverging": [
            [
             0,
             "#8e0152"
            ],
            [
             0.1,
             "#c51b7d"
            ],
            [
             0.2,
             "#de77ae"
            ],
            [
             0.3,
             "#f1b6da"
            ],
            [
             0.4,
             "#fde0ef"
            ],
            [
             0.5,
             "#f7f7f7"
            ],
            [
             0.6,
             "#e6f5d0"
            ],
            [
             0.7,
             "#b8e186"
            ],
            [
             0.8,
             "#7fbc41"
            ],
            [
             0.9,
             "#4d9221"
            ],
            [
             1,
             "#276419"
            ]
           ],
           "sequential": [
            [
             0,
             "#0d0887"
            ],
            [
             0.1111111111111111,
             "#46039f"
            ],
            [
             0.2222222222222222,
             "#7201a8"
            ],
            [
             0.3333333333333333,
             "#9c179e"
            ],
            [
             0.4444444444444444,
             "#bd3786"
            ],
            [
             0.5555555555555556,
             "#d8576b"
            ],
            [
             0.6666666666666666,
             "#ed7953"
            ],
            [
             0.7777777777777778,
             "#fb9f3a"
            ],
            [
             0.8888888888888888,
             "#fdca26"
            ],
            [
             1,
             "#f0f921"
            ]
           ],
           "sequentialminus": [
            [
             0,
             "#0d0887"
            ],
            [
             0.1111111111111111,
             "#46039f"
            ],
            [
             0.2222222222222222,
             "#7201a8"
            ],
            [
             0.3333333333333333,
             "#9c179e"
            ],
            [
             0.4444444444444444,
             "#bd3786"
            ],
            [
             0.5555555555555556,
             "#d8576b"
            ],
            [
             0.6666666666666666,
             "#ed7953"
            ],
            [
             0.7777777777777778,
             "#fb9f3a"
            ],
            [
             0.8888888888888888,
             "#fdca26"
            ],
            [
             1,
             "#f0f921"
            ]
           ]
          },
          "colorway": [
           "#636efa",
           "#EF553B",
           "#00cc96",
           "#ab63fa",
           "#FFA15A",
           "#19d3f3",
           "#FF6692",
           "#B6E880",
           "#FF97FF",
           "#FECB52"
          ],
          "font": {
           "color": "#2a3f5f"
          },
          "geo": {
           "bgcolor": "white",
           "lakecolor": "white",
           "landcolor": "#E5ECF6",
           "showlakes": true,
           "showland": true,
           "subunitcolor": "white"
          },
          "hoverlabel": {
           "align": "left"
          },
          "hovermode": "closest",
          "mapbox": {
           "style": "light"
          },
          "paper_bgcolor": "white",
          "plot_bgcolor": "#E5ECF6",
          "polar": {
           "angularaxis": {
            "gridcolor": "white",
            "linecolor": "white",
            "ticks": ""
           },
           "bgcolor": "#E5ECF6",
           "radialaxis": {
            "gridcolor": "white",
            "linecolor": "white",
            "ticks": ""
           }
          },
          "scene": {
           "xaxis": {
            "backgroundcolor": "#E5ECF6",
            "gridcolor": "white",
            "gridwidth": 2,
            "linecolor": "white",
            "showbackground": true,
            "ticks": "",
            "zerolinecolor": "white"
           },
           "yaxis": {
            "backgroundcolor": "#E5ECF6",
            "gridcolor": "white",
            "gridwidth": 2,
            "linecolor": "white",
            "showbackground": true,
            "ticks": "",
            "zerolinecolor": "white"
           },
           "zaxis": {
            "backgroundcolor": "#E5ECF6",
            "gridcolor": "white",
            "gridwidth": 2,
            "linecolor": "white",
            "showbackground": true,
            "ticks": "",
            "zerolinecolor": "white"
           }
          },
          "shapedefaults": {
           "line": {
            "color": "#2a3f5f"
           }
          },
          "ternary": {
           "aaxis": {
            "gridcolor": "white",
            "linecolor": "white",
            "ticks": ""
           },
           "baxis": {
            "gridcolor": "white",
            "linecolor": "white",
            "ticks": ""
           },
           "bgcolor": "#E5ECF6",
           "caxis": {
            "gridcolor": "white",
            "linecolor": "white",
            "ticks": ""
           }
          },
          "title": {
           "x": 0.05
          },
          "xaxis": {
           "automargin": true,
           "gridcolor": "white",
           "linecolor": "white",
           "ticks": "",
           "title": {
            "standoff": 15
           },
           "zerolinecolor": "white",
           "zerolinewidth": 2
          },
          "yaxis": {
           "automargin": true,
           "gridcolor": "white",
           "linecolor": "white",
           "ticks": "",
           "title": {
            "standoff": 15
           },
           "zerolinecolor": "white",
           "zerolinewidth": 2
          }
         }
        },
        "title": {
         "text": "Your Plot Title"
        },
        "xaxis": {
         "anchor": "y",
         "constrain": "domain",
         "domain": [
          0,
          1
         ],
         "scaleanchor": "y"
        },
        "yaxis": {
         "anchor": "x",
         "autorange": "reversed",
         "constrain": "domain",
         "domain": [
          0,
          1
         ]
        }
       }
      },
      "text/html": [
       "<div>                            <div id=\"9c1f0286-81d2-48d4-a568-8a5ddc711360\" class=\"plotly-graph-div\" style=\"height:525px; width:100%;\"></div>            <script type=\"text/javascript\">                require([\"plotly\"], function(Plotly) {                    window.PLOTLYENV=window.PLOTLYENV || {};                                    if (document.getElementById(\"9c1f0286-81d2-48d4-a568-8a5ddc711360\")) {                    Plotly.newPlot(                        \"9c1f0286-81d2-48d4-a568-8a5ddc711360\",                        [{\"coloraxis\":\"coloraxis\",\"name\":\"0\",\"z\":[[1,3,2,2,3,3,1,2,3,0,3,3,0,3,2,3,3,3,0,1,1,3,0,0,1,2,2,3,2,3,2,1],[1,0,3,2,2,0,3,1,1,2,0,1,1,3,1,1,2,0,0,0,0,2,0,1,1,0,2,1,0,1,3,1],[2,2,1,1,3,0,2,1,3,3,2,1,2,3,0,3,0,2,3,0,2,1,2,0,2,2,3,2,0,1,0,2],[3,1,0,3,2,0,0,3,2,0,3,2,2,3,1,1,3,0,1,3,1,1,3,3,3,2,3,3,2,1,0,1],[1,1,1,0,2,1,3,3,1,3,2,2,1,2,2,2,0,1,2,3,1,0,2,0,2,3,1,2,1,1,3,0],[0,0,3,1,2,1,2,0,1,3,1,2,2,2,2,0,1,0,1,3,0,2,2,1,0,3,0,0,2,2,2,3],[2,1,3,1,2,0,0,2,0,1,3,0,2,3,1,1,0,3,3,0,3,1,2,3,3,0,2,2,3,0,1,2],[2,0,1,1,1,1,2,3,2,2,2,2,1,3,1,2,0,3,2,2,3,0,0,1,3,1,1,3,0,1,1,0],[2,3,2,1,2,3,1,2,0,2,0,1,0,1,0,0,3,0,3,3,0,2,2,2,1,0,3,0,0,3,3,0],[3,2,0,0,2,3,2,3,2,0,3,3,0,1,0,2,1,1,2,0,1,1,2,3,2,2,0,0,1,2,3,2],[3,0,1,1,2,1,2,3,1,1,2,3,2,2,0,0,1,0,3,3,1,0,1,0,1,3,0,0,1,0,1,1],[2,1,2,2,2,0,2,3,0,1,1,2,1,3,2,2,1,3,1,2,0,1,3,3,1,2,1,3,0,1,2,1],[3,0,3,1,0,2,2,3,0,2,0,0,0,2,1,1,3,1,0,3,2,0,1,2,1,0,1,2,3,3,3,1],[1,1,3,3,1,3,1,3,1,1,1,2,2,3,1,2,0,0,3,2,3,2,0,1,3,0,0,3,0,2,0,0],[2,1,2,3,2,0,1,2,3,2,1,1,0,2,1,0,3,2,3,2,0,0,2,0,0,0,1,0,1,3,1,2],[2,1,3,3,2,0,3,3,0,1,2,1,3,3,2,2,1,3,0,2,0,0,2,0,3,1,1,2,1,1,0,1],[2,2,0,3,2,2,0,1,2,1,1,1,1,3,1,0,2,1,0,1,2,3,3,1,3,0,2,1,0,1,0,0],[3,1,3,2,0,0,1,1,3,1,2,3,2,0,3,2,3,1,2,1,0,3,2,0,3,0,1,1,1,1,1,1],[0,2,3,3,3,0,3,0,0,2,3,0,1,3,2,1,3,0,3,2,0,0,1,2,0,0,1,0,1,3,0,2],[2,0,2,2,1,0,1,1,0,1,1,0,1,3,1,1,3,1,3,2,3,2,2,3,2,0,1,2,2,3,2,0],[3,1,2,2,3,3,1,1,2,1,1,1,3,3,3,2,2,3,1,1,1,2,1,1,3,2,2,3,3,0,3,3],[3,3,0,0,1,0,2,3,1,3,3,0,3,1,2,3,0,0,1,2,1,3,1,3,2,3,3,2,1,0,2,0],[3,3,0,3,1,2,2,2,1,0,3,2,1,2,2,1,3,3,1,0,3,2,1,1,3,1,3,2,3,3,1,1],[2,0,1,1,3,3,2,2,0,0,3,0,1,2,1,0,2,2,0,2,0,1,0,1,0,3,2,3,0,0,0,2],[0,0,0,3,2,1,3,3,1,0,3,2,3,0,1,3,2,1,1,1,2,2,2,1,0,1,3,0,2,0,1,3],[3,2,2,2,0,1,0,1,0,3,1,1,0,0,1,3,3,2,0,2,1,2,3,0,0,3,1,2,1,2,1,1],[2,0,2,0,0,0,3,0,3,3,2,3,2,1,2,2,3,1,1,2,0,0,1,2,3,2,1,3,2,2,1,0],[2,0,1,3,0,1,2,2,3,3,0,1,0,0,0,1,2,2,3,1,3,2,3,0,2,3,0,3,2,1,1,0],[2,1,1,0,3,0,2,2,0,1,3,3,2,0,2,0,0,1,2,1,1,3,0,1,1,1,2,1,3,3,3,3],[3,2,1,1,1,2,0,3,3,0,3,2,2,3,1,3,3,1,1,1,2,3,1,3,3,3,2,1,0,3,3,0],[2,3,1,3,0,1,2,2,0,2,3,0,3,3,0,0,3,3,0,2,1,0,1,0,1,0,2,1,3,1,1,1],[3,1,2,2,0,3,1,2,0,1,0,1,2,2,1,2,2,1,3,3,3,1,0,1,2,1,2,0,2,0,3,0]],\"type\":\"heatmap\",\"xaxis\":\"x\",\"yaxis\":\"y\",\"hovertemplate\":\"x: %{x}\\u003cbr\\u003ey: %{y}\\u003cbr\\u003eLabel: %{z}\\u003cextra\\u003e\\u003c\\u002fextra\\u003e\"}],                        {\"template\":{\"data\":{\"histogram2dcontour\":[{\"type\":\"histogram2dcontour\",\"colorbar\":{\"outlinewidth\":0,\"ticks\":\"\"},\"colorscale\":[[0.0,\"#0d0887\"],[0.1111111111111111,\"#46039f\"],[0.2222222222222222,\"#7201a8\"],[0.3333333333333333,\"#9c179e\"],[0.4444444444444444,\"#bd3786\"],[0.5555555555555556,\"#d8576b\"],[0.6666666666666666,\"#ed7953\"],[0.7777777777777778,\"#fb9f3a\"],[0.8888888888888888,\"#fdca26\"],[1.0,\"#f0f921\"]]}],\"choropleth\":[{\"type\":\"choropleth\",\"colorbar\":{\"outlinewidth\":0,\"ticks\":\"\"}}],\"histogram2d\":[{\"type\":\"histogram2d\",\"colorbar\":{\"outlinewidth\":0,\"ticks\":\"\"},\"colorscale\":[[0.0,\"#0d0887\"],[0.1111111111111111,\"#46039f\"],[0.2222222222222222,\"#7201a8\"],[0.3333333333333333,\"#9c179e\"],[0.4444444444444444,\"#bd3786\"],[0.5555555555555556,\"#d8576b\"],[0.6666666666666666,\"#ed7953\"],[0.7777777777777778,\"#fb9f3a\"],[0.8888888888888888,\"#fdca26\"],[1.0,\"#f0f921\"]]}],\"heatmap\":[{\"type\":\"heatmap\",\"colorbar\":{\"outlinewidth\":0,\"ticks\":\"\"},\"colorscale\":[[0.0,\"#0d0887\"],[0.1111111111111111,\"#46039f\"],[0.2222222222222222,\"#7201a8\"],[0.3333333333333333,\"#9c179e\"],[0.4444444444444444,\"#bd3786\"],[0.5555555555555556,\"#d8576b\"],[0.6666666666666666,\"#ed7953\"],[0.7777777777777778,\"#fb9f3a\"],[0.8888888888888888,\"#fdca26\"],[1.0,\"#f0f921\"]]}],\"heatmapgl\":[{\"type\":\"heatmapgl\",\"colorbar\":{\"outlinewidth\":0,\"ticks\":\"\"},\"colorscale\":[[0.0,\"#0d0887\"],[0.1111111111111111,\"#46039f\"],[0.2222222222222222,\"#7201a8\"],[0.3333333333333333,\"#9c179e\"],[0.4444444444444444,\"#bd3786\"],[0.5555555555555556,\"#d8576b\"],[0.6666666666666666,\"#ed7953\"],[0.7777777777777778,\"#fb9f3a\"],[0.8888888888888888,\"#fdca26\"],[1.0,\"#f0f921\"]]}],\"contourcarpet\":[{\"type\":\"contourcarpet\",\"colorbar\":{\"outlinewidth\":0,\"ticks\":\"\"}}],\"contour\":[{\"type\":\"contour\",\"colorbar\":{\"outlinewidth\":0,\"ticks\":\"\"},\"colorscale\":[[0.0,\"#0d0887\"],[0.1111111111111111,\"#46039f\"],[0.2222222222222222,\"#7201a8\"],[0.3333333333333333,\"#9c179e\"],[0.4444444444444444,\"#bd3786\"],[0.5555555555555556,\"#d8576b\"],[0.6666666666666666,\"#ed7953\"],[0.7777777777777778,\"#fb9f3a\"],[0.8888888888888888,\"#fdca26\"],[1.0,\"#f0f921\"]]}],\"surface\":[{\"type\":\"surface\",\"colorbar\":{\"outlinewidth\":0,\"ticks\":\"\"},\"colorscale\":[[0.0,\"#0d0887\"],[0.1111111111111111,\"#46039f\"],[0.2222222222222222,\"#7201a8\"],[0.3333333333333333,\"#9c179e\"],[0.4444444444444444,\"#bd3786\"],[0.5555555555555556,\"#d8576b\"],[0.6666666666666666,\"#ed7953\"],[0.7777777777777778,\"#fb9f3a\"],[0.8888888888888888,\"#fdca26\"],[1.0,\"#f0f921\"]]}],\"mesh3d\":[{\"type\":\"mesh3d\",\"colorbar\":{\"outlinewidth\":0,\"ticks\":\"\"}}],\"scatter\":[{\"fillpattern\":{\"fillmode\":\"overlay\",\"size\":10,\"solidity\":0.2},\"type\":\"scatter\"}],\"parcoords\":[{\"type\":\"parcoords\",\"line\":{\"colorbar\":{\"outlinewidth\":0,\"ticks\":\"\"}}}],\"scatterpolargl\":[{\"type\":\"scatterpolargl\",\"marker\":{\"colorbar\":{\"outlinewidth\":0,\"ticks\":\"\"}}}],\"bar\":[{\"error_x\":{\"color\":\"#2a3f5f\"},\"error_y\":{\"color\":\"#2a3f5f\"},\"marker\":{\"line\":{\"color\":\"#E5ECF6\",\"width\":0.5},\"pattern\":{\"fillmode\":\"overlay\",\"size\":10,\"solidity\":0.2}},\"type\":\"bar\"}],\"scattergeo\":[{\"type\":\"scattergeo\",\"marker\":{\"colorbar\":{\"outlinewidth\":0,\"ticks\":\"\"}}}],\"scatterpolar\":[{\"type\":\"scatterpolar\",\"marker\":{\"colorbar\":{\"outlinewidth\":0,\"ticks\":\"\"}}}],\"histogram\":[{\"marker\":{\"pattern\":{\"fillmode\":\"overlay\",\"size\":10,\"solidity\":0.2}},\"type\":\"histogram\"}],\"scattergl\":[{\"type\":\"scattergl\",\"marker\":{\"colorbar\":{\"outlinewidth\":0,\"ticks\":\"\"}}}],\"scatter3d\":[{\"type\":\"scatter3d\",\"line\":{\"colorbar\":{\"outlinewidth\":0,\"ticks\":\"\"}},\"marker\":{\"colorbar\":{\"outlinewidth\":0,\"ticks\":\"\"}}}],\"scattermapbox\":[{\"type\":\"scattermapbox\",\"marker\":{\"colorbar\":{\"outlinewidth\":0,\"ticks\":\"\"}}}],\"scatterternary\":[{\"type\":\"scatterternary\",\"marker\":{\"colorbar\":{\"outlinewidth\":0,\"ticks\":\"\"}}}],\"scattercarpet\":[{\"type\":\"scattercarpet\",\"marker\":{\"colorbar\":{\"outlinewidth\":0,\"ticks\":\"\"}}}],\"carpet\":[{\"aaxis\":{\"endlinecolor\":\"#2a3f5f\",\"gridcolor\":\"white\",\"linecolor\":\"white\",\"minorgridcolor\":\"white\",\"startlinecolor\":\"#2a3f5f\"},\"baxis\":{\"endlinecolor\":\"#2a3f5f\",\"gridcolor\":\"white\",\"linecolor\":\"white\",\"minorgridcolor\":\"white\",\"startlinecolor\":\"#2a3f5f\"},\"type\":\"carpet\"}],\"table\":[{\"cells\":{\"fill\":{\"color\":\"#EBF0F8\"},\"line\":{\"color\":\"white\"}},\"header\":{\"fill\":{\"color\":\"#C8D4E3\"},\"line\":{\"color\":\"white\"}},\"type\":\"table\"}],\"barpolar\":[{\"marker\":{\"line\":{\"color\":\"#E5ECF6\",\"width\":0.5},\"pattern\":{\"fillmode\":\"overlay\",\"size\":10,\"solidity\":0.2}},\"type\":\"barpolar\"}],\"pie\":[{\"automargin\":true,\"type\":\"pie\"}]},\"layout\":{\"autotypenumbers\":\"strict\",\"colorway\":[\"#636efa\",\"#EF553B\",\"#00cc96\",\"#ab63fa\",\"#FFA15A\",\"#19d3f3\",\"#FF6692\",\"#B6E880\",\"#FF97FF\",\"#FECB52\"],\"font\":{\"color\":\"#2a3f5f\"},\"hovermode\":\"closest\",\"hoverlabel\":{\"align\":\"left\"},\"paper_bgcolor\":\"white\",\"plot_bgcolor\":\"#E5ECF6\",\"polar\":{\"bgcolor\":\"#E5ECF6\",\"angularaxis\":{\"gridcolor\":\"white\",\"linecolor\":\"white\",\"ticks\":\"\"},\"radialaxis\":{\"gridcolor\":\"white\",\"linecolor\":\"white\",\"ticks\":\"\"}},\"ternary\":{\"bgcolor\":\"#E5ECF6\",\"aaxis\":{\"gridcolor\":\"white\",\"linecolor\":\"white\",\"ticks\":\"\"},\"baxis\":{\"gridcolor\":\"white\",\"linecolor\":\"white\",\"ticks\":\"\"},\"caxis\":{\"gridcolor\":\"white\",\"linecolor\":\"white\",\"ticks\":\"\"}},\"coloraxis\":{\"colorbar\":{\"outlinewidth\":0,\"ticks\":\"\"}},\"colorscale\":{\"sequential\":[[0.0,\"#0d0887\"],[0.1111111111111111,\"#46039f\"],[0.2222222222222222,\"#7201a8\"],[0.3333333333333333,\"#9c179e\"],[0.4444444444444444,\"#bd3786\"],[0.5555555555555556,\"#d8576b\"],[0.6666666666666666,\"#ed7953\"],[0.7777777777777778,\"#fb9f3a\"],[0.8888888888888888,\"#fdca26\"],[1.0,\"#f0f921\"]],\"sequentialminus\":[[0.0,\"#0d0887\"],[0.1111111111111111,\"#46039f\"],[0.2222222222222222,\"#7201a8\"],[0.3333333333333333,\"#9c179e\"],[0.4444444444444444,\"#bd3786\"],[0.5555555555555556,\"#d8576b\"],[0.6666666666666666,\"#ed7953\"],[0.7777777777777778,\"#fb9f3a\"],[0.8888888888888888,\"#fdca26\"],[1.0,\"#f0f921\"]],\"diverging\":[[0,\"#8e0152\"],[0.1,\"#c51b7d\"],[0.2,\"#de77ae\"],[0.3,\"#f1b6da\"],[0.4,\"#fde0ef\"],[0.5,\"#f7f7f7\"],[0.6,\"#e6f5d0\"],[0.7,\"#b8e186\"],[0.8,\"#7fbc41\"],[0.9,\"#4d9221\"],[1,\"#276419\"]]},\"xaxis\":{\"gridcolor\":\"white\",\"linecolor\":\"white\",\"ticks\":\"\",\"title\":{\"standoff\":15},\"zerolinecolor\":\"white\",\"automargin\":true,\"zerolinewidth\":2},\"yaxis\":{\"gridcolor\":\"white\",\"linecolor\":\"white\",\"ticks\":\"\",\"title\":{\"standoff\":15},\"zerolinecolor\":\"white\",\"automargin\":true,\"zerolinewidth\":2},\"scene\":{\"xaxis\":{\"backgroundcolor\":\"#E5ECF6\",\"gridcolor\":\"white\",\"linecolor\":\"white\",\"showbackground\":true,\"ticks\":\"\",\"zerolinecolor\":\"white\",\"gridwidth\":2},\"yaxis\":{\"backgroundcolor\":\"#E5ECF6\",\"gridcolor\":\"white\",\"linecolor\":\"white\",\"showbackground\":true,\"ticks\":\"\",\"zerolinecolor\":\"white\",\"gridwidth\":2},\"zaxis\":{\"backgroundcolor\":\"#E5ECF6\",\"gridcolor\":\"white\",\"linecolor\":\"white\",\"showbackground\":true,\"ticks\":\"\",\"zerolinecolor\":\"white\",\"gridwidth\":2}},\"shapedefaults\":{\"line\":{\"color\":\"#2a3f5f\"}},\"annotationdefaults\":{\"arrowcolor\":\"#2a3f5f\",\"arrowhead\":0,\"arrowwidth\":1},\"geo\":{\"bgcolor\":\"white\",\"landcolor\":\"#E5ECF6\",\"subunitcolor\":\"white\",\"showland\":true,\"showlakes\":true,\"lakecolor\":\"white\"},\"title\":{\"x\":0.05},\"mapbox\":{\"style\":\"light\"}}},\"xaxis\":{\"anchor\":\"y\",\"domain\":[0.0,1.0],\"scaleanchor\":\"y\",\"constrain\":\"domain\"},\"yaxis\":{\"anchor\":\"x\",\"domain\":[0.0,1.0],\"autorange\":\"reversed\",\"constrain\":\"domain\"},\"coloraxis\":{\"colorbar\":{\"title\":{\"text\":\"\"}},\"colorscale\":[[0.0,\"red\"],[0.3333333333333333,\"blue\"],[0.6666666666666666,\"green\"],[1.0,\"white\"]],\"showscale\":false},\"margin\":{\"t\":60},\"annotations\":[{\"bgcolor\":\"red\",\"bordercolor\":\"black\",\"borderpad\":4,\"borderwidth\":1,\"font\":{\"size\":12},\"opacity\":0.7,\"showarrow\":false,\"text\":\"Label A\",\"x\":1.1,\"xref\":\"paper\",\"y\":0.125,\"yref\":\"paper\"},{\"bgcolor\":\"blue\",\"bordercolor\":\"black\",\"borderpad\":4,\"borderwidth\":1,\"font\":{\"size\":12},\"opacity\":0.7,\"showarrow\":false,\"text\":\"Label B\",\"x\":1.1,\"xref\":\"paper\",\"y\":0.375,\"yref\":\"paper\"},{\"bgcolor\":\"green\",\"bordercolor\":\"black\",\"borderpad\":4,\"borderwidth\":1,\"font\":{\"size\":12},\"opacity\":0.7,\"showarrow\":false,\"text\":\"Label C\",\"x\":1.1,\"xref\":\"paper\",\"y\":0.625,\"yref\":\"paper\"},{\"bgcolor\":\"white\",\"bordercolor\":\"black\",\"borderpad\":4,\"borderwidth\":1,\"font\":{\"size\":12},\"opacity\":0.7,\"showarrow\":false,\"text\":\"Label D\",\"x\":1.1,\"xref\":\"paper\",\"y\":0.875,\"yref\":\"paper\"}],\"title\":{\"text\":\"Your Plot Title\"},\"shapes\":[{\"fillcolor\":\"red\",\"layer\":\"below\",\"line\":{\"color\":\"black\",\"width\":1},\"opacity\":0.7,\"type\":\"rect\",\"x0\":1.15,\"x1\":1.25,\"y0\":0.075,\"y1\":0.175},{\"fillcolor\":\"blue\",\"layer\":\"below\",\"line\":{\"color\":\"black\",\"width\":1},\"opacity\":0.7,\"type\":\"rect\",\"x0\":1.15,\"x1\":1.25,\"y0\":0.325,\"y1\":0.425},{\"fillcolor\":\"green\",\"layer\":\"below\",\"line\":{\"color\":\"black\",\"width\":1},\"opacity\":0.7,\"type\":\"rect\",\"x0\":1.15,\"x1\":1.25,\"y0\":0.575,\"y1\":0.675},{\"fillcolor\":\"white\",\"layer\":\"below\",\"line\":{\"color\":\"black\",\"width\":1},\"opacity\":0.7,\"type\":\"rect\",\"x0\":1.15,\"x1\":1.25,\"y0\":0.825,\"y1\":0.925}]},                        {\"responsive\": true}                    ).then(function(){\n",
       "                            \n",
       "var gd = document.getElementById('9c1f0286-81d2-48d4-a568-8a5ddc711360');\n",
       "var x = new MutationObserver(function (mutations, observer) {{\n",
       "        var display = window.getComputedStyle(gd).display;\n",
       "        if (!display || display === 'none') {{\n",
       "            console.log([gd, 'removed!']);\n",
       "            Plotly.purge(gd);\n",
       "            observer.disconnect();\n",
       "        }}\n",
       "}});\n",
       "\n",
       "// Listen for the removal of the full notebook cells\n",
       "var notebookContainer = gd.closest('#notebook-container');\n",
       "if (notebookContainer) {{\n",
       "    x.observe(notebookContainer, {childList: true});\n",
       "}}\n",
       "\n",
       "// Listen for the clearing of the current output cell\n",
       "var outputEl = gd.closest('.output');\n",
       "if (outputEl) {{\n",
       "    x.observe(outputEl, {childList: true});\n",
       "}}\n",
       "\n",
       "                        })                };                });            </script>        </div>"
      ]
     },
     "metadata": {},
     "output_type": "display_data"
    }
   ],
   "source": [
    "import numpy as np\n",
    "import plotly.express as px\n",
    "\n",
    "# Example data: a 32x32 grid with values in the range [0, 3)\n",
    "data = np.random.randint(0, 4, size=(32, 32))\n",
    "\n",
    "# Create a custom color scale with distinct colors and corresponding labels\n",
    "colors = [\"red\", \"blue\", \"green\", \"white\"]\n",
    "labels = [\"Label A\", \"Label B\", \"Label C\", \"Label D\"]\n",
    "\n",
    "# Create a figure with specified color labels\n",
    "fig = px.imshow(data, color_continuous_scale=colors, labels=dict(color=\"Label\"))\n",
    "\n",
    "# Remove the gradient color scale\n",
    "fig.update_coloraxes(colorbar_title_text='', showscale=False)\n",
    "\n",
    "# Manually add text labels on the right side\n",
    "fig.update_layout(annotations=[\n",
    "    dict(\n",
    "        text=label,\n",
    "        x=1.1,\n",
    "        y=(i + 0.5) / len(colors),\n",
    "        xref='paper',\n",
    "        yref='paper',\n",
    "        showarrow=False,\n",
    "        font=dict(size=12),\n",
    "        bgcolor=colors[i],\n",
    "        opacity=0.7,\n",
    "        borderpad=4,\n",
    "        bordercolor='black',\n",
    "        borderwidth=1\n",
    "    ) for i, label in enumerate(labels)\n",
    "])\n",
    "\n",
    "# Set the title\n",
    "fig.update_layout(title_text=\"Your Plot Title\")\n",
    "\n",
    "# Add colored rectangles to indicate the colors corresponding to labels\n",
    "for i, color in enumerate(colors):\n",
    "    fig.add_shape(\n",
    "        dict(\n",
    "            type='rect',\n",
    "            x0=1.15,\n",
    "            x1=1.25,\n",
    "            y0=(i + 0.3) / len(colors),\n",
    "            y1=(i + 0.7) / len(colors),\n",
    "            fillcolor=color,\n",
    "            opacity=0.7,\n",
    "            layer=\"below\",\n",
    "            line=dict(width=1, color='black')\n",
    "        )\n",
    "    )\n",
    "\n",
    "# Show the plot\n",
    "fig.show()\n"
   ]
  },
  {
   "cell_type": "code",
   "execution_count": 81,
   "metadata": {},
   "outputs": [
    {
     "name": "stdout",
     "output_type": "stream",
     "text": [
      "[0, 1, 2, 3]\n",
      "[(0.267004, 0.004874, 0.329415, 1.0), (0.127568, 0.566949, 0.550556, 1.0), (0.993248, 0.906157, 0.143936, 1.0), (0.993248, 0.906157, 0.143936, 1.0)]\n",
      "[<matplotlib.patches.Patch object at 0x7fa845702470>, <matplotlib.patches.Patch object at 0x7fa8454ddd20>, <matplotlib.patches.Patch object at 0x7fa8454ddd80>, <matplotlib.patches.Patch object at 0x7fa8454ddde0>]\n"
     ]
    },
    {
     "data": {
      "image/png": "[encoded data removed]",
      "text/plain": [
       "<Figure size 800x400 with 1 Axes>"
      ]
     },
     "metadata": {},
     "output_type": "display_data"
    }
   ],
   "source": [
    "import matplotlib.pyplot as plt\n",
    "import matplotlib.patches as mpatches\n",
    "import numpy as np\n",
    "\n",
    "# create some data\n",
    "data = np.array(distribution)\n",
    "# get the unique values from data\n",
    "# i.e. a sorted list of all values in data\n",
    "values = [0, 1, 2, 3]\n",
    "print(values)\n",
    "plt.figure(figsize=(8,4))\n",
    "im = plt.imshow(data, interpolation='none')\n",
    "\n",
    "# get the colors of the values, according to the \n",
    "# colormap used by imshow\n",
    "colors = [ im.cmap(im.norm(value)) for value in values]\n",
    "print(colors)\n",
    "# create a patch (proxy artist) for every color \n",
    "patches = [ mpatches.Patch(color=colors[i], label=\"Level {l}\".format(l=values[i]) ) for i in range(len(values)) ]\n",
    "print(patches)\n",
    "# put those patched as legend-handles into the legend\n",
    "plt.legend(handles=patches, bbox_to_anchor=(1.05, 1), loc=2, borderaxespad=0. )\n",
    "\n",
    "# plt.grid(True)\n",
    "plt.title('Your Plot Title')\n",
    "plt.xlabel('Head')\n",
    "plt.ylabel('Layer')\n",
    "plt.savefig('legend.svg')\n",
    "plt.show()"
   ]
  },
  {
   "cell_type": "code",
   "execution_count": 95,
   "metadata": {},
   "outputs": [
    {
     "data": {
      "image/png": "[encoded data removed]",
      "text/plain": [
       "<Figure size 800x400 with 1 Axes>"
      ]
     },
     "metadata": {},
     "output_type": "display_data"
    }
   ],
   "source": [
    "import matplotlib.pyplot as plt\n",
    "import numpy as np\n",
    "\n",
    "# Example data\n",
    "data = np.random.randint(0, 4, size=(10, 10))  # Sample distribution data\n",
    "\n",
    "# Values and colors mapping\n",
    "values = [0, 1, 2, 3]\n",
    "colors = ['white', 'red', 'blue', 'green']\n",
    "labels = ['None', 'Few Shot', 'Context', 'Generated']\n",
    "\n",
    "plt.figure(figsize=(8, 4))\n",
    "im = plt.imshow(data, interpolation='none')\n",
    "\n",
    "# Get the colors of the values\n",
    "colors = [im.cmap(im.norm(value)) for value in values]\n",
    "\n",
    "# Create a patch (proxy artist) for every color\n",
    "patches = [plt.Rectangle((0, 0), 1, 1, color=colors[i], label=labels[i]) for i in range(len(values))]\n",
    "\n",
    "# Add legend\n",
    "plt.legend(handles=patches, bbox_to_anchor=(1.05, 1), loc='upper left', borderaxespad=0.)\n",
    "\n",
    "plt.title('Your Plot Title')\n",
    "plt.xlabel('Head')\n",
    "plt.ylabel('Layer')\n",
    "plt.savefig('legend.svg')\n",
    "plt.show()\n"
   ]
  },
  {
   "cell_type": "code",
   "execution_count": 236,
   "metadata": {},
   "outputs": [
    {
     "data": {
      "image/png": "[encoded data removed]",
      "text/plain": [
       "<Figure size 640x480 with 2 Axes>"
      ]
     },
     "metadata": {},
     "output_type": "display_data"
    }
   ],
   "source": [
    "import matplotlib.pyplot as plt\n",
    "import numpy as np\n",
    "\n",
    "# Assuming your 32x32 array is stored in a variable called 'color_array'\n",
    "# You can create a NumPy array with random values for demonstration\n",
    "color_array = np.random.randint(4, size=(32, 32))\n",
    "\n",
    "# Define the color map for visualization\n",
    "cmap = plt.cm.colors.ListedColormap(['white', 'red', 'blue', 'green'])\n",
    "\n",
    "# Plot the array using imshow\n",
    "plt.imshow(color_array, cmap=cmap, interpolation='nearest')\n",
    "\n",
    "# Add color bar for reference\n",
    "plt.colorbar(ticks=[0, 1, 2, 3], label='Color')\n",
    "\n",
    "# Show the plot\n",
    "plt.show()\n"
   ]
  },
  {
   "cell_type": "code",
   "execution_count": null,
   "metadata": {},
   "outputs": [],
   "source": []
  }
 ],
 "metadata": {
  "kernelspec": {
   "display_name": "venv",
   "language": "python",
   "name": "python3"
  },
  "language_info": {
   "codemirror_mode": {
    "name": "ipython",
    "version": 3
   },
   "file_extension": ".py",
   "mimetype": "text/x-python",
   "name": "python",
   "nbconvert_exporter": "python",
   "pygments_lexer": "ipython3",
   "version": "3.10.6"
  }
 },
 "nbformat": 4,
 "nbformat_minor": 2
}
