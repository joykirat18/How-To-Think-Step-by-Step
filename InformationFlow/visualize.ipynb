{
 "cells": [
  {
   "cell_type": "code",
   "execution_count": 225,
   "metadata": {},
   "outputs": [],
   "source": [
    "import pickle\n",
    "noise_index = 9\n",
    "\n",
    "# iterate over all the files in folder\n",
    "folderName = f'/home//StepByStep/InformationFlow/result/{noise_index}'"
   ]
  },
  {
   "cell_type": "code",
   "execution_count": null,
   "metadata": {},
   "outputs": [],
   "source": []
  },
  {
   "cell_type": "code",
   "execution_count": 226,
   "metadata": {},
   "outputs": [],
   "source": [
    "\n",
    "def nested_data(data, entry):\n",
    "    nested_dict = {}\n",
    "    if(entry not in data):\n",
    "        print(\"Not present\")\n",
    "        return None\n",
    "    for d in data[entry]:\n",
    "        nested_dict[d] = nested_data(data, d)\n",
    "    return nested_dict\n",
    "\n",
    "\n",
    "\n"
   ]
  },
  {
   "cell_type": "code",
   "execution_count": 227,
   "metadata": {},
   "outputs": [],
   "source": [
    "def getNestedData(data):\n",
    "    clean_data = {}\n",
    "    for d in data:\n",
    "        attend = []\n",
    "        for d1 in d['attending_layer_head']:\n",
    "            attend.append(f'layer_{d1[\"layer\"]}_head_{d1[\"head\"]}_pos_{d1[\"pos\"]}')\n",
    "        clean_data[f'layer_{d[\"layer\"]}_head_{d[\"head\"]}_pos_{d[\"pos\"]}'] = attend\n",
    "    depth_0_entry = []\n",
    "    for d in data:\n",
    "        if d['depth'] == 0:\n",
    "            depth_0_entry.append(f'layer_{d[\"layer\"]}_head_{d[\"head\"]}_pos_{d[\"pos\"]}')\n",
    "    nested = {}\n",
    "\n",
    "    for entry in depth_0_entry:\n",
    "        nested[entry] = nested_data(clean_data, entry)\n",
    "    return nested"
   ]
  },
  {
   "cell_type": "code",
   "execution_count": 228,
   "metadata": {},
   "outputs": [],
   "source": [
    "max_depth = 0\n",
    "totalExamples = 0\n",
    "import os\n",
    "complete_data = []\n",
    "for filename in os.listdir(folderName):\n",
    "    layer_head_depth_data = []\n",
    "    if(filename.endswith('.pickle') and filename.startswith('example')):\n",
    "        with open(f'{folderName}/{filename}', 'rb') as f:\n",
    "            data = pickle.load(f)\n",
    "        # print(data)\n",
    "\n",
    "        for d in data:\n",
    "            if((d['layer'], d['head'], d['depth']) not in layer_head_depth_data):\n",
    "                layer_head_depth_data.append((d['layer'], d['head'], d['depth']))\n",
    "            for attending in d['attending_layer_head']:\n",
    "                if((attending['layer'], attending['head'], d['depth'] + 1) not in layer_head_depth_data):\n",
    "                    layer_head_depth_data.append((attending['layer'], attending['head'], d['depth'] + 1))\n",
    "                    max_depth = max(max_depth, d['depth'] + 1)\n",
    "        complete_data.extend(layer_head_depth_data)\n",
    "        totalExamples += 1\n",
    "    # break\n"
   ]
  },
  {
   "cell_type": "code",
   "execution_count": 229,
   "metadata": {},
   "outputs": [],
   "source": [
    "freq_layer_head_depth = {}\n",
    "for data in complete_data:\n",
    "    if(data in freq_layer_head_depth):\n",
    "        freq_layer_head_depth[data] += 1\n",
    "    else:\n",
    "        freq_layer_head_depth[data] = 1"
   ]
  },
  {
   "cell_type": "code",
   "execution_count": 230,
   "metadata": {},
   "outputs": [],
   "source": [
    "# with open(f'{folderName}/layer_head_depth.pickle', 'wb') as f:\n",
    "#     pickle.dump(freq_layer_head_depth, f)"
   ]
  },
  {
   "cell_type": "code",
   "execution_count": 231,
   "metadata": {},
   "outputs": [],
   "source": [
    "# depth_0_layer_head = []\n",
    "# for noise_index in range(10):\n",
    "#     layer_head = []\n",
    "#     with open(f'/home//StepByStep/InformationFlow/result/{noise_index}/layer_head_depth.pickle', 'rb') as f:\n",
    "#         data = pickle.load(f)\n",
    "#     for d in data:\n",
    "#         if((d[0], d[1]) not in layer_head and d[2] == 0):\n",
    "#             layer_head.append((d[0], d[1]))\n",
    "#     depth_0_layer_head.append(layer_head)\n",
    "    "
   ]
  },
  {
   "cell_type": "code",
   "execution_count": 232,
   "metadata": {},
   "outputs": [],
   "source": [
    "# import matplotlib.pyplot as plt\n",
    "\n",
    "# # Example: 10 lists of tuples with x and y coordinates\n",
    "# # data_lists = [\n",
    "#     # [(1, 2), (3, 4), (5, 6)],\n",
    "#     # [(2, 3), (4, 5), (6, 7)],\n",
    "#     # [(1, 5), (2, 6), (3, 7)],\n",
    "#     # ... add 7 more lists\n",
    "# # ]\n",
    "\n",
    "# # Define 10 different colors\n",
    "# colors = ['#FF0000', '#00FF00', '#0000FF', '#FFFF00', '#FF00FF', '#00FFFF', '#FFA500', '#800080', '#008000', '#000080']\n",
    "\n",
    "# # Create a scatter plot with different colors for each list\n",
    "# for i, data_list in enumerate(depth_0_layer_head):\n",
    "#     x_vals, y_vals = zip(*data_list)\n",
    "#     plt.scatter(x_vals, y_vals, label=f'Index {i}', color=colors[i], s=30)\n",
    "\n",
    "# # Set axis limits\n",
    "# plt.xlim(min(x for sublist in depth_0_layer_head for x, _ in sublist) - 1, max(x for sublist in depth_0_layer_head for x, _ in sublist) + 1)\n",
    "# plt.ylim(min(y for sublist in depth_0_layer_head for _, y in sublist) - 1, max(y for sublist in depth_0_layer_head for _, y in sublist) + 1)\n",
    "\n",
    "# # Add legend\n",
    "# plt.legend()\n",
    "# plt.gca().invert_yaxis()\n",
    "# # plt.gca().invert_xaxis()\n",
    "# plt.xlabel('Head')\n",
    "# plt.ylabel('Layer')\n",
    "# # Show the plot\n",
    "# plt.show()\n"
   ]
  },
  {
   "cell_type": "code",
   "execution_count": 233,
   "metadata": {},
   "outputs": [],
   "source": [
    "import transformer_lens.utils as utils\n",
    "import plotly.express as px\n",
    "def imshow(tensor, renderer=None, save='head.svg', **kwargs):\n",
    "    fig = px.imshow(utils.to_numpy(tensor), color_continuous_midpoint=0.0, color_continuous_scale=\"RdBu\", **kwargs)\n",
    "    fig.show(renderer)\n",
    "    # save svg\n",
    "    # fig.savefig(save)\n",
    "    fig.write_html(save)"
   ]
  },
  {
   "cell_type": "code",
   "execution_count": 234,
   "metadata": {},
   "outputs": [
    {
     "data": {
      "application/vnd.plotly.v1+json": {
       "config": {
        "plotlyServerURL": "https://plot.ly"
       },
       "data": [
        {
         "coloraxis": "coloraxis",
         "hovertemplate": "Head: %{x}<br>Layer: %{y}<br>color: %{z}<extra></extra>",
         "name": "0",
         "type": "heatmap",
         "xaxis": "x",
         "yaxis": "y",
         "z": [
          [
           0,
           0,
           0,
           0,
           0,
           0,
           0,
           0,
           0,
           0,
           0,
           0,
           0,
           0,
           0,
           0,
           0,
           0,
           0,
           0,
           0,
           0,
           0,
           0,
           0,
           0,
           0,
           0,
           0,
           0,
           0,
           0
          ],
          [
           0,
           0,
           0,
           0,
           0,
           0,
           0,
           0,
           0,
           0,
           0,
           0,
           0,
           0,
           0,
           0,
           0,
           0,
           0,
           0,
           0,
           0,
           0,
           0,
           0,
           0,
           0,
           0,
           0,
           0,
           0,
           0
          ],
          [
           0,
           0,
           0,
           0,
           0,
           0,
           0,
           0,
           0,
           0,
           0,
           0,
           0,
           0,
           0,
           0,
           0,
           0,
           0,
           0,
           0,
           0,
           0,
           0,
           0,
           0,
           0,
           0,
           0,
           0,
           0,
           0
          ],
          [
           0,
           0,
           0,
           0,
           0,
           0,
           0,
           0,
           0,
           0,
           0,
           0,
           0,
           0,
           0,
           0,
           0,
           0,
           0,
           0,
           0,
           0,
           0,
           0,
           0,
           0,
           0,
           0,
           0,
           0,
           0,
           0
          ],
          [
           0,
           0,
           0,
           0,
           0,
           0,
           0,
           0,
           0,
           0,
           0,
           0,
           0,
           0,
           0,
           0,
           0,
           0,
           0,
           0,
           0,
           0,
           0,
           0,
           0,
           0,
           0,
           0,
           0,
           0,
           0,
           0
          ],
          [
           0,
           0,
           0,
           0,
           0,
           0,
           0,
           0,
           0,
           0,
           0,
           0,
           0,
           0,
           0,
           0,
           0,
           0,
           0,
           0,
           0,
           0,
           0,
           0,
           0,
           0,
           0,
           0,
           0,
           0,
           0,
           0
          ],
          [
           0,
           0,
           0,
           0,
           0,
           0,
           0,
           0,
           0,
           0,
           0,
           0,
           0,
           0,
           0,
           0,
           0,
           0,
           0,
           0,
           0,
           0,
           0,
           0,
           0,
           0,
           0,
           0,
           0,
           0,
           0,
           0
          ],
          [
           0,
           0,
           0,
           0,
           0,
           0,
           0,
           0,
           0,
           0,
           0,
           0,
           0,
           0,
           0,
           0,
           0,
           0,
           0,
           0,
           0,
           0,
           0,
           0,
           0,
           0,
           0,
           0,
           0,
           0,
           0,
           0
          ],
          [
           0,
           0,
           0,
           0,
           0,
           0,
           0,
           0,
           0,
           0,
           0,
           0,
           0,
           0,
           0,
           0,
           0,
           0,
           0,
           0,
           0,
           0,
           0,
           0,
           0,
           0,
           0,
           0,
           0,
           0,
           0,
           0
          ],
          [
           0,
           0,
           0,
           0,
           0,
           0,
           0,
           0,
           0,
           0,
           0,
           0,
           0,
           0,
           0,
           0,
           0,
           0,
           0,
           0,
           0,
           0,
           0,
           0,
           0,
           0,
           0,
           0,
           0,
           0,
           0,
           0
          ],
          [
           0,
           0,
           0,
           0,
           0,
           0,
           0,
           0,
           0,
           0,
           0,
           0,
           0,
           0,
           0,
           0,
           0,
           0,
           0,
           0,
           0,
           0,
           0,
           0,
           0,
           0,
           0,
           0,
           0,
           0,
           0,
           0
          ],
          [
           0,
           0,
           0,
           0,
           0,
           0,
           0,
           0,
           0,
           0,
           0,
           0,
           0,
           0,
           0,
           0,
           0,
           0,
           0,
           0,
           0,
           0,
           0,
           0,
           0,
           0,
           0,
           0,
           0,
           0,
           0,
           0
          ],
          [
           0,
           0,
           0,
           0,
           0,
           0,
           0,
           0,
           0,
           0,
           0,
           0,
           0,
           0,
           0,
           0,
           0,
           0,
           0,
           0,
           0,
           0,
           0,
           0,
           0,
           0,
           0,
           0,
           0,
           0,
           0,
           0
          ],
          [
           0,
           0,
           0,
           0,
           0,
           0,
           0,
           0,
           0,
           0,
           0,
           0,
           0,
           0,
           0,
           0,
           0,
           0,
           0,
           0,
           0,
           0,
           0,
           0,
           0,
           0,
           0,
           0,
           0,
           0,
           0,
           0
          ],
          [
           0,
           0,
           0,
           0,
           0,
           0,
           0,
           0,
           0,
           0,
           0,
           0,
           0,
           0,
           0,
           0,
           0,
           0,
           0,
           0,
           0,
           0,
           0,
           0,
           0,
           0,
           0,
           0,
           0,
           0,
           0,
           0
          ],
          [
           0,
           0,
           0,
           0,
           0,
           0,
           0,
           0,
           0,
           0,
           0,
           0,
           0,
           0,
           0,
           0,
           0,
           0,
           0,
           0,
           0,
           0,
           0.1,
           0,
           0,
           0,
           0,
           0,
           0,
           0,
           0,
           0
          ],
          [
           0,
           0,
           0,
           0,
           0,
           0,
           0,
           0,
           0,
           0,
           0,
           0,
           0,
           0,
           0,
           0,
           0,
           0,
           0,
           0,
           0,
           0,
           0,
           0,
           0,
           0,
           0,
           0,
           0,
           0,
           0,
           0
          ],
          [
           0,
           0,
           0,
           0,
           0,
           0,
           0,
           0,
           0,
           0,
           0,
           0,
           0,
           0,
           0,
           0,
           0,
           0,
           0,
           0,
           0,
           0,
           0,
           0,
           0,
           0,
           0,
           0,
           0,
           0,
           0.1,
           0
          ],
          [
           0,
           0,
           0,
           0,
           0,
           0,
           0,
           0,
           0,
           0,
           0,
           0,
           0,
           0,
           0,
           0,
           0,
           0,
           0,
           0,
           0,
           0,
           0,
           0,
           0,
           0,
           0,
           0,
           0,
           0,
           0,
           0
          ],
          [
           0,
           0,
           0,
           0,
           0,
           0,
           0,
           0,
           0,
           0.2,
           0.1,
           0,
           0,
           0,
           0,
           0,
           0,
           0,
           0,
           0,
           0,
           0,
           0,
           0,
           0,
           0,
           0,
           0,
           0,
           0,
           0,
           0
          ],
          [
           0.2,
           0,
           0,
           0.2,
           0,
           0,
           0,
           0,
           0,
           0,
           0.1,
           0,
           0,
           0,
           0,
           0,
           0,
           0,
           0,
           0,
           0,
           0,
           0,
           0,
           0,
           0,
           0,
           0,
           0,
           0,
           0,
           0
          ],
          [
           0,
           0,
           0,
           0,
           0,
           0,
           0,
           0,
           0,
           0.2,
           0,
           0,
           0,
           0,
           0,
           0,
           0.3,
           0,
           0,
           0,
           0,
           0,
           0,
           0,
           0,
           0,
           0.1,
           0.1,
           0,
           0,
           0,
           0.2
          ],
          [
           0,
           0,
           0,
           0,
           0,
           0,
           0,
           0,
           0,
           0,
           0,
           0,
           0,
           0,
           0,
           0,
           0.1,
           0.1,
           0,
           0,
           0,
           0,
           0,
           0,
           0,
           0,
           0,
           0,
           0,
           0,
           0.1,
           0
          ],
          [
           0,
           0,
           0,
           0,
           0,
           0,
           0,
           0,
           0.1,
           0,
           0,
           0,
           0,
           0,
           0,
           0,
           0,
           0,
           0,
           0,
           0,
           0,
           0,
           0,
           0,
           0,
           0,
           0,
           0,
           0,
           0,
           0
          ],
          [
           0,
           0,
           0,
           0.1,
           0,
           0,
           0,
           0,
           0,
           0,
           0,
           0,
           0,
           0,
           0,
           0,
           0,
           0.3,
           0,
           0,
           0,
           0,
           0,
           0,
           0,
           0,
           0,
           0,
           0,
           0.1,
           0,
           0
          ],
          [
           0,
           0,
           0,
           0,
           0,
           0,
           0,
           0,
           0,
           0,
           0,
           0,
           0,
           0,
           0,
           0,
           0,
           0,
           0,
           0,
           0,
           0,
           0,
           0,
           0,
           0,
           0,
           0,
           0,
           0,
           0,
           0
          ],
          [
           0,
           0,
           0,
           0.1,
           0,
           0,
           0,
           0,
           0,
           0,
           0,
           0,
           0,
           0,
           0,
           0,
           0,
           0,
           0,
           0,
           0,
           0,
           0,
           0,
           0,
           0.3,
           0,
           0.1,
           0,
           0,
           0,
           0
          ],
          [
           0,
           0,
           0,
           0,
           0,
           0,
           0,
           0,
           0,
           0,
           0,
           0,
           0,
           0,
           0,
           0,
           0,
           0,
           0,
           0,
           0,
           0,
           0,
           0,
           0,
           0,
           0,
           0,
           0,
           0,
           0,
           0
          ],
          [
           0,
           0,
           0,
           0,
           0,
           0,
           0,
           0,
           0,
           0,
           0,
           0,
           0,
           0,
           0,
           0,
           0,
           0,
           0,
           0,
           0,
           0,
           0,
           0,
           0,
           0.1,
           0,
           0,
           0,
           0,
           0,
           0
          ],
          [
           0,
           0,
           0,
           0,
           0,
           0,
           0,
           0,
           0,
           0,
           0.2,
           0,
           0,
           0,
           0,
           0,
           0,
           0,
           0,
           0,
           0,
           0.1,
           0,
           0,
           0,
           0,
           0,
           0,
           0,
           0,
           0,
           0
          ],
          [
           0,
           0,
           0,
           0,
           0,
           0,
           0,
           0,
           0,
           0,
           0,
           0,
           0,
           0,
           0.1,
           0,
           0,
           0,
           0,
           0,
           0,
           0,
           0,
           0,
           0,
           0,
           0,
           0,
           0,
           0,
           0,
           0
          ],
          [
           0,
           0,
           0,
           0,
           0,
           0,
           0,
           0,
           0,
           0,
           0,
           0,
           0,
           0,
           0,
           0,
           0,
           0,
           0,
           0,
           0,
           0,
           0,
           0,
           0,
           0,
           0,
           0.2,
           0,
           0,
           0,
           0
          ]
         ]
        }
       ],
       "layout": {
        "coloraxis": {
         "cmid": 0,
         "colorscale": [
          [
           0,
           "rgb(103,0,31)"
          ],
          [
           0.1,
           "rgb(178,24,43)"
          ],
          [
           0.2,
           "rgb(214,96,77)"
          ],
          [
           0.3,
           "rgb(244,165,130)"
          ],
          [
           0.4,
           "rgb(253,219,199)"
          ],
          [
           0.5,
           "rgb(247,247,247)"
          ],
          [
           0.6,
           "rgb(209,229,240)"
          ],
          [
           0.7,
           "rgb(146,197,222)"
          ],
          [
           0.8,
           "rgb(67,147,195)"
          ],
          [
           0.9,
           "rgb(33,102,172)"
          ],
          [
           1,
           "rgb(5,48,97)"
          ]
         ]
        },
        "template": {
         "data": {
          "bar": [
           {
            "error_x": {
             "color": "#2a3f5f"
            },
            "error_y": {
             "color": "#2a3f5f"
            },
            "marker": {
             "line": {
              "color": "#E5ECF6",
              "width": 0.5
             },
             "pattern": {
              "fillmode": "overlay",
              "size": 10,
              "solidity": 0.2
             }
            },
            "type": "bar"
           }
          ],
          "barpolar": [
           {
            "marker": {
             "line": {
              "color": "#E5ECF6",
              "width": 0.5
             },
             "pattern": {
              "fillmode": "overlay",
              "size": 10,
              "solidity": 0.2
             }
            },
            "type": "barpolar"
           }
          ],
          "carpet": [
           {
            "aaxis": {
             "endlinecolor": "#2a3f5f",
             "gridcolor": "white",
             "linecolor": "white",
             "minorgridcolor": "white",
             "startlinecolor": "#2a3f5f"
            },
            "baxis": {
             "endlinecolor": "#2a3f5f",
             "gridcolor": "white",
             "linecolor": "white",
             "minorgridcolor": "white",
             "startlinecolor": "#2a3f5f"
            },
            "type": "carpet"
           }
          ],
          "choropleth": [
           {
            "colorbar": {
             "outlinewidth": 0,
             "ticks": ""
            },
            "type": "choropleth"
           }
          ],
          "contour": [
           {
            "colorbar": {
             "outlinewidth": 0,
             "ticks": ""
            },
            "colorscale": [
             [
              0,
              "#0d0887"
             ],
             [
              0.1111111111111111,
              "#46039f"
             ],
             [
              0.2222222222222222,
              "#7201a8"
             ],
             [
              0.3333333333333333,
              "#9c179e"
             ],
             [
              0.4444444444444444,
              "#bd3786"
             ],
             [
              0.5555555555555556,
              "#d8576b"
             ],
             [
              0.6666666666666666,
              "#ed7953"
             ],
             [
              0.7777777777777778,
              "#fb9f3a"
             ],
             [
              0.8888888888888888,
              "#fdca26"
             ],
             [
              1,
              "#f0f921"
             ]
            ],
            "type": "contour"
           }
          ],
          "contourcarpet": [
           {
            "colorbar": {
             "outlinewidth": 0,
             "ticks": ""
            },
            "type": "contourcarpet"
           }
          ],
          "heatmap": [
           {
            "colorbar": {
             "outlinewidth": 0,
             "ticks": ""
            },
            "colorscale": [
             [
              0,
              "#0d0887"
             ],
             [
              0.1111111111111111,
              "#46039f"
             ],
             [
              0.2222222222222222,
              "#7201a8"
             ],
             [
              0.3333333333333333,
              "#9c179e"
             ],
             [
              0.4444444444444444,
              "#bd3786"
             ],
             [
              0.5555555555555556,
              "#d8576b"
             ],
             [
              0.6666666666666666,
              "#ed7953"
             ],
             [
              0.7777777777777778,
              "#fb9f3a"
             ],
             [
              0.8888888888888888,
              "#fdca26"
             ],
             [
              1,
              "#f0f921"
             ]
            ],
            "type": "heatmap"
           }
          ],
          "heatmapgl": [
           {
            "colorbar": {
             "outlinewidth": 0,
             "ticks": ""
            },
            "colorscale": [
             [
              0,
              "#0d0887"
             ],
             [
              0.1111111111111111,
              "#46039f"
             ],
             [
              0.2222222222222222,
              "#7201a8"
             ],
             [
              0.3333333333333333,
              "#9c179e"
             ],
             [
              0.4444444444444444,
              "#bd3786"
             ],
             [
              0.5555555555555556,
              "#d8576b"
             ],
             [
              0.6666666666666666,
              "#ed7953"
             ],
             [
              0.7777777777777778,
              "#fb9f3a"
             ],
             [
              0.8888888888888888,
              "#fdca26"
             ],
             [
              1,
              "#f0f921"
             ]
            ],
            "type": "heatmapgl"
           }
          ],
          "histogram": [
           {
            "marker": {
             "pattern": {
              "fillmode": "overlay",
              "size": 10,
              "solidity": 0.2
             }
            },
            "type": "histogram"
           }
          ],
          "histogram2d": [
           {
            "colorbar": {
             "outlinewidth": 0,
             "ticks": ""
            },
            "colorscale": [
             [
              0,
              "#0d0887"
             ],
             [
              0.1111111111111111,
              "#46039f"
             ],
             [
              0.2222222222222222,
              "#7201a8"
             ],
             [
              0.3333333333333333,
              "#9c179e"
             ],
             [
              0.4444444444444444,
              "#bd3786"
             ],
             [
              0.5555555555555556,
              "#d8576b"
             ],
             [
              0.6666666666666666,
              "#ed7953"
             ],
             [
              0.7777777777777778,
              "#fb9f3a"
             ],
             [
              0.8888888888888888,
              "#fdca26"
             ],
             [
              1,
              "#f0f921"
             ]
            ],
            "type": "histogram2d"
           }
          ],
          "histogram2dcontour": [
           {
            "colorbar": {
             "outlinewidth": 0,
             "ticks": ""
            },
            "colorscale": [
             [
              0,
              "#0d0887"
             ],
             [
              0.1111111111111111,
              "#46039f"
             ],
             [
              0.2222222222222222,
              "#7201a8"
             ],
             [
              0.3333333333333333,
              "#9c179e"
             ],
             [
              0.4444444444444444,
              "#bd3786"
             ],
             [
              0.5555555555555556,
              "#d8576b"
             ],
             [
              0.6666666666666666,
              "#ed7953"
             ],
             [
              0.7777777777777778,
              "#fb9f3a"
             ],
             [
              0.8888888888888888,
              "#fdca26"
             ],
             [
              1,
              "#f0f921"
             ]
            ],
            "type": "histogram2dcontour"
           }
          ],
          "mesh3d": [
           {
            "colorbar": {
             "outlinewidth": 0,
             "ticks": ""
            },
            "type": "mesh3d"
           }
          ],
          "parcoords": [
           {
            "line": {
             "colorbar": {
              "outlinewidth": 0,
              "ticks": ""
             }
            },
            "type": "parcoords"
           }
          ],
          "pie": [
           {
            "automargin": true,
            "type": "pie"
           }
          ],
          "scatter": [
           {
            "fillpattern": {
             "fillmode": "overlay",
             "size": 10,
             "solidity": 0.2
            },
            "type": "scatter"
           }
          ],
          "scatter3d": [
           {
            "line": {
             "colorbar": {
              "outlinewidth": 0,
              "ticks": ""
             }
            },
            "marker": {
             "colorbar": {
              "outlinewidth": 0,
              "ticks": ""
             }
            },
            "type": "scatter3d"
           }
          ],
          "scattercarpet": [
           {
            "marker": {
             "colorbar": {
              "outlinewidth": 0,
              "ticks": ""
             }
            },
            "type": "scattercarpet"
           }
          ],
          "scattergeo": [
           {
            "marker": {
             "colorbar": {
              "outlinewidth": 0,
              "ticks": ""
             }
            },
            "type": "scattergeo"
           }
          ],
          "scattergl": [
           {
            "marker": {
             "colorbar": {
              "outlinewidth": 0,
              "ticks": ""
             }
            },
            "type": "scattergl"
           }
          ],
          "scattermapbox": [
           {
            "marker": {
             "colorbar": {
              "outlinewidth": 0,
              "ticks": ""
             }
            },
            "type": "scattermapbox"
           }
          ],
          "scatterpolar": [
           {
            "marker": {
             "colorbar": {
              "outlinewidth": 0,
              "ticks": ""
             }
            },
            "type": "scatterpolar"
           }
          ],
          "scatterpolargl": [
           {
            "marker": {
             "colorbar": {
              "outlinewidth": 0,
              "ticks": ""
             }
            },
            "type": "scatterpolargl"
           }
          ],
          "scatterternary": [
           {
            "marker": {
             "colorbar": {
              "outlinewidth": 0,
              "ticks": ""
             }
            },
            "type": "scatterternary"
           }
          ],
          "surface": [
           {
            "colorbar": {
             "outlinewidth": 0,
             "ticks": ""
            },
            "colorscale": [
             [
              0,
              "#0d0887"
             ],
             [
              0.1111111111111111,
              "#46039f"
             ],
             [
              0.2222222222222222,
              "#7201a8"
             ],
             [
              0.3333333333333333,
              "#9c179e"
             ],
             [
              0.4444444444444444,
              "#bd3786"
             ],
             [
              0.5555555555555556,
              "#d8576b"
             ],
             [
              0.6666666666666666,
              "#ed7953"
             ],
             [
              0.7777777777777778,
              "#fb9f3a"
             ],
             [
              0.8888888888888888,
              "#fdca26"
             ],
             [
              1,
              "#f0f921"
             ]
            ],
            "type": "surface"
           }
          ],
          "table": [
           {
            "cells": {
             "fill": {
              "color": "#EBF0F8"
             },
             "line": {
              "color": "white"
             }
            },
            "header": {
             "fill": {
              "color": "#C8D4E3"
             },
             "line": {
              "color": "white"
             }
            },
            "type": "table"
           }
          ]
         },
         "layout": {
          "annotationdefaults": {
           "arrowcolor": "#2a3f5f",
           "arrowhead": 0,
           "arrowwidth": 1
          },
          "autotypenumbers": "strict",
          "coloraxis": {
           "colorbar": {
            "outlinewidth": 0,
            "ticks": ""
           }
          },
          "colorscale": {
           "diverging": [
            [
             0,
             "#8e0152"
            ],
            [
             0.1,
             "#c51b7d"
            ],
            [
             0.2,
             "#de77ae"
            ],
            [
             0.3,
             "#f1b6da"
            ],
            [
             0.4,
             "#fde0ef"
            ],
            [
             0.5,
             "#f7f7f7"
            ],
            [
             0.6,
             "#e6f5d0"
            ],
            [
             0.7,
             "#b8e186"
            ],
            [
             0.8,
             "#7fbc41"
            ],
            [
             0.9,
             "#4d9221"
            ],
            [
             1,
             "#276419"
            ]
           ],
           "sequential": [
            [
             0,
             "#0d0887"
            ],
            [
             0.1111111111111111,
             "#46039f"
            ],
            [
             0.2222222222222222,
             "#7201a8"
            ],
            [
             0.3333333333333333,
             "#9c179e"
            ],
            [
             0.4444444444444444,
             "#bd3786"
            ],
            [
             0.5555555555555556,
             "#d8576b"
            ],
            [
             0.6666666666666666,
             "#ed7953"
            ],
            [
             0.7777777777777778,
             "#fb9f3a"
            ],
            [
             0.8888888888888888,
             "#fdca26"
            ],
            [
             1,
             "#f0f921"
            ]
           ],
           "sequentialminus": [
            [
             0,
             "#0d0887"
            ],
            [
             0.1111111111111111,
             "#46039f"
            ],
            [
             0.2222222222222222,
             "#7201a8"
            ],
            [
             0.3333333333333333,
             "#9c179e"
            ],
            [
             0.4444444444444444,
             "#bd3786"
            ],
            [
             0.5555555555555556,
             "#d8576b"
            ],
            [
             0.6666666666666666,
             "#ed7953"
            ],
            [
             0.7777777777777778,
             "#fb9f3a"
            ],
            [
             0.8888888888888888,
             "#fdca26"
            ],
            [
             1,
             "#f0f921"
            ]
           ]
          },
          "colorway": [
           "#636efa",
           "#EF553B",
           "#00cc96",
           "#ab63fa",
           "#FFA15A",
           "#19d3f3",
           "#FF6692",
           "#B6E880",
           "#FF97FF",
           "#FECB52"
          ],
          "font": {
           "color": "#2a3f5f"
          },
          "geo": {
           "bgcolor": "white",
           "lakecolor": "white",
           "landcolor": "#E5ECF6",
           "showlakes": true,
           "showland": true,
           "subunitcolor": "white"
          },
          "hoverlabel": {
           "align": "left"
          },
          "hovermode": "closest",
          "mapbox": {
           "style": "light"
          },
          "paper_bgcolor": "white",
          "plot_bgcolor": "#E5ECF6",
          "polar": {
           "angularaxis": {
            "gridcolor": "white",
            "linecolor": "white",
            "ticks": ""
           },
           "bgcolor": "#E5ECF6",
           "radialaxis": {
            "gridcolor": "white",
            "linecolor": "white",
            "ticks": ""
           }
          },
          "scene": {
           "xaxis": {
            "backgroundcolor": "#E5ECF6",
            "gridcolor": "white",
            "gridwidth": 2,
            "linecolor": "white",
            "showbackground": true,
            "ticks": "",
            "zerolinecolor": "white"
           },
           "yaxis": {
            "backgroundcolor": "#E5ECF6",
            "gridcolor": "white",
            "gridwidth": 2,
            "linecolor": "white",
            "showbackground": true,
            "ticks": "",
            "zerolinecolor": "white"
           },
           "zaxis": {
            "backgroundcolor": "#E5ECF6",
            "gridcolor": "white",
            "gridwidth": 2,
            "linecolor": "white",
            "showbackground": true,
            "ticks": "",
            "zerolinecolor": "white"
           }
          },
          "shapedefaults": {
           "line": {
            "color": "#2a3f5f"
           }
          },
          "ternary": {
           "aaxis": {
            "gridcolor": "white",
            "linecolor": "white",
            "ticks": ""
           },
           "baxis": {
            "gridcolor": "white",
            "linecolor": "white",
            "ticks": ""
           },
           "bgcolor": "#E5ECF6",
           "caxis": {
            "gridcolor": "white",
            "linecolor": "white",
            "ticks": ""
           }
          },
          "title": {
           "x": 0.05
          },
          "xaxis": {
           "automargin": true,
           "gridcolor": "white",
           "linecolor": "white",
           "ticks": "",
           "title": {
            "standoff": 15
           },
           "zerolinecolor": "white",
           "zerolinewidth": 2
          },
          "yaxis": {
           "automargin": true,
           "gridcolor": "white",
           "linecolor": "white",
           "ticks": "",
           "title": {
            "standoff": 15
           },
           "zerolinecolor": "white",
           "zerolinewidth": 2
          }
         }
        },
        "title": {
         "text": "index 9, depth 0"
        },
        "xaxis": {
         "anchor": "y",
         "constrain": "domain",
         "domain": [
          0,
          1
         ],
         "scaleanchor": "y",
         "title": {
          "text": "Head"
         }
        },
        "yaxis": {
         "anchor": "x",
         "autorange": "reversed",
         "constrain": "domain",
         "domain": [
          0,
          1
         ],
         "title": {
          "text": "Layer"
         }
        }
       }
      },
      "text/html": [
       "<div>                            <div id=\"595a8f54-09aa-4380-9509-a5cf62c87aff\" class=\"plotly-graph-div\" style=\"height:525px; width:100%;\"></div>            <script type=\"text/javascript\">                require([\"plotly\"], function(Plotly) {                    window.PLOTLYENV=window.PLOTLYENV || {};                                    if (document.getElementById(\"595a8f54-09aa-4380-9509-a5cf62c87aff\")) {                    Plotly.newPlot(                        \"595a8f54-09aa-4380-9509-a5cf62c87aff\",                        [{\"coloraxis\":\"coloraxis\",\"name\":\"0\",\"z\":[[0.0,0.0,0.0,0.0,0.0,0.0,0.0,0.0,0.0,0.0,0.0,0.0,0.0,0.0,0.0,0.0,0.0,0.0,0.0,0.0,0.0,0.0,0.0,0.0,0.0,0.0,0.0,0.0,0.0,0.0,0.0,0.0],[0.0,0.0,0.0,0.0,0.0,0.0,0.0,0.0,0.0,0.0,0.0,0.0,0.0,0.0,0.0,0.0,0.0,0.0,0.0,0.0,0.0,0.0,0.0,0.0,0.0,0.0,0.0,0.0,0.0,0.0,0.0,0.0],[0.0,0.0,0.0,0.0,0.0,0.0,0.0,0.0,0.0,0.0,0.0,0.0,0.0,0.0,0.0,0.0,0.0,0.0,0.0,0.0,0.0,0.0,0.0,0.0,0.0,0.0,0.0,0.0,0.0,0.0,0.0,0.0],[0.0,0.0,0.0,0.0,0.0,0.0,0.0,0.0,0.0,0.0,0.0,0.0,0.0,0.0,0.0,0.0,0.0,0.0,0.0,0.0,0.0,0.0,0.0,0.0,0.0,0.0,0.0,0.0,0.0,0.0,0.0,0.0],[0.0,0.0,0.0,0.0,0.0,0.0,0.0,0.0,0.0,0.0,0.0,0.0,0.0,0.0,0.0,0.0,0.0,0.0,0.0,0.0,0.0,0.0,0.0,0.0,0.0,0.0,0.0,0.0,0.0,0.0,0.0,0.0],[0.0,0.0,0.0,0.0,0.0,0.0,0.0,0.0,0.0,0.0,0.0,0.0,0.0,0.0,0.0,0.0,0.0,0.0,0.0,0.0,0.0,0.0,0.0,0.0,0.0,0.0,0.0,0.0,0.0,0.0,0.0,0.0],[0.0,0.0,0.0,0.0,0.0,0.0,0.0,0.0,0.0,0.0,0.0,0.0,0.0,0.0,0.0,0.0,0.0,0.0,0.0,0.0,0.0,0.0,0.0,0.0,0.0,0.0,0.0,0.0,0.0,0.0,0.0,0.0],[0.0,0.0,0.0,0.0,0.0,0.0,0.0,0.0,0.0,0.0,0.0,0.0,0.0,0.0,0.0,0.0,0.0,0.0,0.0,0.0,0.0,0.0,0.0,0.0,0.0,0.0,0.0,0.0,0.0,0.0,0.0,0.0],[0.0,0.0,0.0,0.0,0.0,0.0,0.0,0.0,0.0,0.0,0.0,0.0,0.0,0.0,0.0,0.0,0.0,0.0,0.0,0.0,0.0,0.0,0.0,0.0,0.0,0.0,0.0,0.0,0.0,0.0,0.0,0.0],[0.0,0.0,0.0,0.0,0.0,0.0,0.0,0.0,0.0,0.0,0.0,0.0,0.0,0.0,0.0,0.0,0.0,0.0,0.0,0.0,0.0,0.0,0.0,0.0,0.0,0.0,0.0,0.0,0.0,0.0,0.0,0.0],[0.0,0.0,0.0,0.0,0.0,0.0,0.0,0.0,0.0,0.0,0.0,0.0,0.0,0.0,0.0,0.0,0.0,0.0,0.0,0.0,0.0,0.0,0.0,0.0,0.0,0.0,0.0,0.0,0.0,0.0,0.0,0.0],[0.0,0.0,0.0,0.0,0.0,0.0,0.0,0.0,0.0,0.0,0.0,0.0,0.0,0.0,0.0,0.0,0.0,0.0,0.0,0.0,0.0,0.0,0.0,0.0,0.0,0.0,0.0,0.0,0.0,0.0,0.0,0.0],[0.0,0.0,0.0,0.0,0.0,0.0,0.0,0.0,0.0,0.0,0.0,0.0,0.0,0.0,0.0,0.0,0.0,0.0,0.0,0.0,0.0,0.0,0.0,0.0,0.0,0.0,0.0,0.0,0.0,0.0,0.0,0.0],[0.0,0.0,0.0,0.0,0.0,0.0,0.0,0.0,0.0,0.0,0.0,0.0,0.0,0.0,0.0,0.0,0.0,0.0,0.0,0.0,0.0,0.0,0.0,0.0,0.0,0.0,0.0,0.0,0.0,0.0,0.0,0.0],[0.0,0.0,0.0,0.0,0.0,0.0,0.0,0.0,0.0,0.0,0.0,0.0,0.0,0.0,0.0,0.0,0.0,0.0,0.0,0.0,0.0,0.0,0.0,0.0,0.0,0.0,0.0,0.0,0.0,0.0,0.0,0.0],[0.0,0.0,0.0,0.0,0.0,0.0,0.0,0.0,0.0,0.0,0.0,0.0,0.0,0.0,0.0,0.0,0.0,0.0,0.0,0.0,0.0,0.0,0.1,0.0,0.0,0.0,0.0,0.0,0.0,0.0,0.0,0.0],[0.0,0.0,0.0,0.0,0.0,0.0,0.0,0.0,0.0,0.0,0.0,0.0,0.0,0.0,0.0,0.0,0.0,0.0,0.0,0.0,0.0,0.0,0.0,0.0,0.0,0.0,0.0,0.0,0.0,0.0,0.0,0.0],[0.0,0.0,0.0,0.0,0.0,0.0,0.0,0.0,0.0,0.0,0.0,0.0,0.0,0.0,0.0,0.0,0.0,0.0,0.0,0.0,0.0,0.0,0.0,0.0,0.0,0.0,0.0,0.0,0.0,0.0,0.1,0.0],[0.0,0.0,0.0,0.0,0.0,0.0,0.0,0.0,0.0,0.0,0.0,0.0,0.0,0.0,0.0,0.0,0.0,0.0,0.0,0.0,0.0,0.0,0.0,0.0,0.0,0.0,0.0,0.0,0.0,0.0,0.0,0.0],[0.0,0.0,0.0,0.0,0.0,0.0,0.0,0.0,0.0,0.2,0.1,0.0,0.0,0.0,0.0,0.0,0.0,0.0,0.0,0.0,0.0,0.0,0.0,0.0,0.0,0.0,0.0,0.0,0.0,0.0,0.0,0.0],[0.2,0.0,0.0,0.2,0.0,0.0,0.0,0.0,0.0,0.0,0.1,0.0,0.0,0.0,0.0,0.0,0.0,0.0,0.0,0.0,0.0,0.0,0.0,0.0,0.0,0.0,0.0,0.0,0.0,0.0,0.0,0.0],[0.0,0.0,0.0,0.0,0.0,0.0,0.0,0.0,0.0,0.2,0.0,0.0,0.0,0.0,0.0,0.0,0.3,0.0,0.0,0.0,0.0,0.0,0.0,0.0,0.0,0.0,0.1,0.1,0.0,0.0,0.0,0.2],[0.0,0.0,0.0,0.0,0.0,0.0,0.0,0.0,0.0,0.0,0.0,0.0,0.0,0.0,0.0,0.0,0.1,0.1,0.0,0.0,0.0,0.0,0.0,0.0,0.0,0.0,0.0,0.0,0.0,0.0,0.1,0.0],[0.0,0.0,0.0,0.0,0.0,0.0,0.0,0.0,0.1,0.0,0.0,0.0,0.0,0.0,0.0,0.0,0.0,0.0,0.0,0.0,0.0,0.0,0.0,0.0,0.0,0.0,0.0,0.0,0.0,0.0,0.0,0.0],[0.0,0.0,0.0,0.1,0.0,0.0,0.0,0.0,0.0,0.0,0.0,0.0,0.0,0.0,0.0,0.0,0.0,0.3,0.0,0.0,0.0,0.0,0.0,0.0,0.0,0.0,0.0,0.0,0.0,0.1,0.0,0.0],[0.0,0.0,0.0,0.0,0.0,0.0,0.0,0.0,0.0,0.0,0.0,0.0,0.0,0.0,0.0,0.0,0.0,0.0,0.0,0.0,0.0,0.0,0.0,0.0,0.0,0.0,0.0,0.0,0.0,0.0,0.0,0.0],[0.0,0.0,0.0,0.1,0.0,0.0,0.0,0.0,0.0,0.0,0.0,0.0,0.0,0.0,0.0,0.0,0.0,0.0,0.0,0.0,0.0,0.0,0.0,0.0,0.0,0.3,0.0,0.1,0.0,0.0,0.0,0.0],[0.0,0.0,0.0,0.0,0.0,0.0,0.0,0.0,0.0,0.0,0.0,0.0,0.0,0.0,0.0,0.0,0.0,0.0,0.0,0.0,0.0,0.0,0.0,0.0,0.0,0.0,0.0,0.0,0.0,0.0,0.0,0.0],[0.0,0.0,0.0,0.0,0.0,0.0,0.0,0.0,0.0,0.0,0.0,0.0,0.0,0.0,0.0,0.0,0.0,0.0,0.0,0.0,0.0,0.0,0.0,0.0,0.0,0.1,0.0,0.0,0.0,0.0,0.0,0.0],[0.0,0.0,0.0,0.0,0.0,0.0,0.0,0.0,0.0,0.0,0.2,0.0,0.0,0.0,0.0,0.0,0.0,0.0,0.0,0.0,0.0,0.1,0.0,0.0,0.0,0.0,0.0,0.0,0.0,0.0,0.0,0.0],[0.0,0.0,0.0,0.0,0.0,0.0,0.0,0.0,0.0,0.0,0.0,0.0,0.0,0.0,0.1,0.0,0.0,0.0,0.0,0.0,0.0,0.0,0.0,0.0,0.0,0.0,0.0,0.0,0.0,0.0,0.0,0.0],[0.0,0.0,0.0,0.0,0.0,0.0,0.0,0.0,0.0,0.0,0.0,0.0,0.0,0.0,0.0,0.0,0.0,0.0,0.0,0.0,0.0,0.0,0.0,0.0,0.0,0.0,0.0,0.2,0.0,0.0,0.0,0.0]],\"type\":\"heatmap\",\"xaxis\":\"x\",\"yaxis\":\"y\",\"hovertemplate\":\"Head: %{x}\\u003cbr\\u003eLayer: %{y}\\u003cbr\\u003ecolor: %{z}\\u003cextra\\u003e\\u003c\\u002fextra\\u003e\"}],                        {\"template\":{\"data\":{\"histogram2dcontour\":[{\"type\":\"histogram2dcontour\",\"colorbar\":{\"outlinewidth\":0,\"ticks\":\"\"},\"colorscale\":[[0.0,\"#0d0887\"],[0.1111111111111111,\"#46039f\"],[0.2222222222222222,\"#7201a8\"],[0.3333333333333333,\"#9c179e\"],[0.4444444444444444,\"#bd3786\"],[0.5555555555555556,\"#d8576b\"],[0.6666666666666666,\"#ed7953\"],[0.7777777777777778,\"#fb9f3a\"],[0.8888888888888888,\"#fdca26\"],[1.0,\"#f0f921\"]]}],\"choropleth\":[{\"type\":\"choropleth\",\"colorbar\":{\"outlinewidth\":0,\"ticks\":\"\"}}],\"histogram2d\":[{\"type\":\"histogram2d\",\"colorbar\":{\"outlinewidth\":0,\"ticks\":\"\"},\"colorscale\":[[0.0,\"#0d0887\"],[0.1111111111111111,\"#46039f\"],[0.2222222222222222,\"#7201a8\"],[0.3333333333333333,\"#9c179e\"],[0.4444444444444444,\"#bd3786\"],[0.5555555555555556,\"#d8576b\"],[0.6666666666666666,\"#ed7953\"],[0.7777777777777778,\"#fb9f3a\"],[0.8888888888888888,\"#fdca26\"],[1.0,\"#f0f921\"]]}],\"heatmap\":[{\"type\":\"heatmap\",\"colorbar\":{\"outlinewidth\":0,\"ticks\":\"\"},\"colorscale\":[[0.0,\"#0d0887\"],[0.1111111111111111,\"#46039f\"],[0.2222222222222222,\"#7201a8\"],[0.3333333333333333,\"#9c179e\"],[0.4444444444444444,\"#bd3786\"],[0.5555555555555556,\"#d8576b\"],[0.6666666666666666,\"#ed7953\"],[0.7777777777777778,\"#fb9f3a\"],[0.8888888888888888,\"#fdca26\"],[1.0,\"#f0f921\"]]}],\"heatmapgl\":[{\"type\":\"heatmapgl\",\"colorbar\":{\"outlinewidth\":0,\"ticks\":\"\"},\"colorscale\":[[0.0,\"#0d0887\"],[0.1111111111111111,\"#46039f\"],[0.2222222222222222,\"#7201a8\"],[0.3333333333333333,\"#9c179e\"],[0.4444444444444444,\"#bd3786\"],[0.5555555555555556,\"#d8576b\"],[0.6666666666666666,\"#ed7953\"],[0.7777777777777778,\"#fb9f3a\"],[0.8888888888888888,\"#fdca26\"],[1.0,\"#f0f921\"]]}],\"contourcarpet\":[{\"type\":\"contourcarpet\",\"colorbar\":{\"outlinewidth\":0,\"ticks\":\"\"}}],\"contour\":[{\"type\":\"contour\",\"colorbar\":{\"outlinewidth\":0,\"ticks\":\"\"},\"colorscale\":[[0.0,\"#0d0887\"],[0.1111111111111111,\"#46039f\"],[0.2222222222222222,\"#7201a8\"],[0.3333333333333333,\"#9c179e\"],[0.4444444444444444,\"#bd3786\"],[0.5555555555555556,\"#d8576b\"],[0.6666666666666666,\"#ed7953\"],[0.7777777777777778,\"#fb9f3a\"],[0.8888888888888888,\"#fdca26\"],[1.0,\"#f0f921\"]]}],\"surface\":[{\"type\":\"surface\",\"colorbar\":{\"outlinewidth\":0,\"ticks\":\"\"},\"colorscale\":[[0.0,\"#0d0887\"],[0.1111111111111111,\"#46039f\"],[0.2222222222222222,\"#7201a8\"],[0.3333333333333333,\"#9c179e\"],[0.4444444444444444,\"#bd3786\"],[0.5555555555555556,\"#d8576b\"],[0.6666666666666666,\"#ed7953\"],[0.7777777777777778,\"#fb9f3a\"],[0.8888888888888888,\"#fdca26\"],[1.0,\"#f0f921\"]]}],\"mesh3d\":[{\"type\":\"mesh3d\",\"colorbar\":{\"outlinewidth\":0,\"ticks\":\"\"}}],\"scatter\":[{\"fillpattern\":{\"fillmode\":\"overlay\",\"size\":10,\"solidity\":0.2},\"type\":\"scatter\"}],\"parcoords\":[{\"type\":\"parcoords\",\"line\":{\"colorbar\":{\"outlinewidth\":0,\"ticks\":\"\"}}}],\"scatterpolargl\":[{\"type\":\"scatterpolargl\",\"marker\":{\"colorbar\":{\"outlinewidth\":0,\"ticks\":\"\"}}}],\"bar\":[{\"error_x\":{\"color\":\"#2a3f5f\"},\"error_y\":{\"color\":\"#2a3f5f\"},\"marker\":{\"line\":{\"color\":\"#E5ECF6\",\"width\":0.5},\"pattern\":{\"fillmode\":\"overlay\",\"size\":10,\"solidity\":0.2}},\"type\":\"bar\"}],\"scattergeo\":[{\"type\":\"scattergeo\",\"marker\":{\"colorbar\":{\"outlinewidth\":0,\"ticks\":\"\"}}}],\"scatterpolar\":[{\"type\":\"scatterpolar\",\"marker\":{\"colorbar\":{\"outlinewidth\":0,\"ticks\":\"\"}}}],\"histogram\":[{\"marker\":{\"pattern\":{\"fillmode\":\"overlay\",\"size\":10,\"solidity\":0.2}},\"type\":\"histogram\"}],\"scattergl\":[{\"type\":\"scattergl\",\"marker\":{\"colorbar\":{\"outlinewidth\":0,\"ticks\":\"\"}}}],\"scatter3d\":[{\"type\":\"scatter3d\",\"line\":{\"colorbar\":{\"outlinewidth\":0,\"ticks\":\"\"}},\"marker\":{\"colorbar\":{\"outlinewidth\":0,\"ticks\":\"\"}}}],\"scattermapbox\":[{\"type\":\"scattermapbox\",\"marker\":{\"colorbar\":{\"outlinewidth\":0,\"ticks\":\"\"}}}],\"scatterternary\":[{\"type\":\"scatterternary\",\"marker\":{\"colorbar\":{\"outlinewidth\":0,\"ticks\":\"\"}}}],\"scattercarpet\":[{\"type\":\"scattercarpet\",\"marker\":{\"colorbar\":{\"outlinewidth\":0,\"ticks\":\"\"}}}],\"carpet\":[{\"aaxis\":{\"endlinecolor\":\"#2a3f5f\",\"gridcolor\":\"white\",\"linecolor\":\"white\",\"minorgridcolor\":\"white\",\"startlinecolor\":\"#2a3f5f\"},\"baxis\":{\"endlinecolor\":\"#2a3f5f\",\"gridcolor\":\"white\",\"linecolor\":\"white\",\"minorgridcolor\":\"white\",\"startlinecolor\":\"#2a3f5f\"},\"type\":\"carpet\"}],\"table\":[{\"cells\":{\"fill\":{\"color\":\"#EBF0F8\"},\"line\":{\"color\":\"white\"}},\"header\":{\"fill\":{\"color\":\"#C8D4E3\"},\"line\":{\"color\":\"white\"}},\"type\":\"table\"}],\"barpolar\":[{\"marker\":{\"line\":{\"color\":\"#E5ECF6\",\"width\":0.5},\"pattern\":{\"fillmode\":\"overlay\",\"size\":10,\"solidity\":0.2}},\"type\":\"barpolar\"}],\"pie\":[{\"automargin\":true,\"type\":\"pie\"}]},\"layout\":{\"autotypenumbers\":\"strict\",\"colorway\":[\"#636efa\",\"#EF553B\",\"#00cc96\",\"#ab63fa\",\"#FFA15A\",\"#19d3f3\",\"#FF6692\",\"#B6E880\",\"#FF97FF\",\"#FECB52\"],\"font\":{\"color\":\"#2a3f5f\"},\"hovermode\":\"closest\",\"hoverlabel\":{\"align\":\"left\"},\"paper_bgcolor\":\"white\",\"plot_bgcolor\":\"#E5ECF6\",\"polar\":{\"bgcolor\":\"#E5ECF6\",\"angularaxis\":{\"gridcolor\":\"white\",\"linecolor\":\"white\",\"ticks\":\"\"},\"radialaxis\":{\"gridcolor\":\"white\",\"linecolor\":\"white\",\"ticks\":\"\"}},\"ternary\":{\"bgcolor\":\"#E5ECF6\",\"aaxis\":{\"gridcolor\":\"white\",\"linecolor\":\"white\",\"ticks\":\"\"},\"baxis\":{\"gridcolor\":\"white\",\"linecolor\":\"white\",\"ticks\":\"\"},\"caxis\":{\"gridcolor\":\"white\",\"linecolor\":\"white\",\"ticks\":\"\"}},\"coloraxis\":{\"colorbar\":{\"outlinewidth\":0,\"ticks\":\"\"}},\"colorscale\":{\"sequential\":[[0.0,\"#0d0887\"],[0.1111111111111111,\"#46039f\"],[0.2222222222222222,\"#7201a8\"],[0.3333333333333333,\"#9c179e\"],[0.4444444444444444,\"#bd3786\"],[0.5555555555555556,\"#d8576b\"],[0.6666666666666666,\"#ed7953\"],[0.7777777777777778,\"#fb9f3a\"],[0.8888888888888888,\"#fdca26\"],[1.0,\"#f0f921\"]],\"sequentialminus\":[[0.0,\"#0d0887\"],[0.1111111111111111,\"#46039f\"],[0.2222222222222222,\"#7201a8\"],[0.3333333333333333,\"#9c179e\"],[0.4444444444444444,\"#bd3786\"],[0.5555555555555556,\"#d8576b\"],[0.6666666666666666,\"#ed7953\"],[0.7777777777777778,\"#fb9f3a\"],[0.8888888888888888,\"#fdca26\"],[1.0,\"#f0f921\"]],\"diverging\":[[0,\"#8e0152\"],[0.1,\"#c51b7d\"],[0.2,\"#de77ae\"],[0.3,\"#f1b6da\"],[0.4,\"#fde0ef\"],[0.5,\"#f7f7f7\"],[0.6,\"#e6f5d0\"],[0.7,\"#b8e186\"],[0.8,\"#7fbc41\"],[0.9,\"#4d9221\"],[1,\"#276419\"]]},\"xaxis\":{\"gridcolor\":\"white\",\"linecolor\":\"white\",\"ticks\":\"\",\"title\":{\"standoff\":15},\"zerolinecolor\":\"white\",\"automargin\":true,\"zerolinewidth\":2},\"yaxis\":{\"gridcolor\":\"white\",\"linecolor\":\"white\",\"ticks\":\"\",\"title\":{\"standoff\":15},\"zerolinecolor\":\"white\",\"automargin\":true,\"zerolinewidth\":2},\"scene\":{\"xaxis\":{\"backgroundcolor\":\"#E5ECF6\",\"gridcolor\":\"white\",\"linecolor\":\"white\",\"showbackground\":true,\"ticks\":\"\",\"zerolinecolor\":\"white\",\"gridwidth\":2},\"yaxis\":{\"backgroundcolor\":\"#E5ECF6\",\"gridcolor\":\"white\",\"linecolor\":\"white\",\"showbackground\":true,\"ticks\":\"\",\"zerolinecolor\":\"white\",\"gridwidth\":2},\"zaxis\":{\"backgroundcolor\":\"#E5ECF6\",\"gridcolor\":\"white\",\"linecolor\":\"white\",\"showbackground\":true,\"ticks\":\"\",\"zerolinecolor\":\"white\",\"gridwidth\":2}},\"shapedefaults\":{\"line\":{\"color\":\"#2a3f5f\"}},\"annotationdefaults\":{\"arrowcolor\":\"#2a3f5f\",\"arrowhead\":0,\"arrowwidth\":1},\"geo\":{\"bgcolor\":\"white\",\"landcolor\":\"#E5ECF6\",\"subunitcolor\":\"white\",\"showland\":true,\"showlakes\":true,\"lakecolor\":\"white\"},\"title\":{\"x\":0.05},\"mapbox\":{\"style\":\"light\"}}},\"xaxis\":{\"anchor\":\"y\",\"domain\":[0.0,1.0],\"scaleanchor\":\"y\",\"constrain\":\"domain\",\"title\":{\"text\":\"Head\"}},\"yaxis\":{\"anchor\":\"x\",\"domain\":[0.0,1.0],\"autorange\":\"reversed\",\"constrain\":\"domain\",\"title\":{\"text\":\"Layer\"}},\"coloraxis\":{\"colorscale\":[[0.0,\"rgb(103,0,31)\"],[0.1,\"rgb(178,24,43)\"],[0.2,\"rgb(214,96,77)\"],[0.3,\"rgb(244,165,130)\"],[0.4,\"rgb(253,219,199)\"],[0.5,\"rgb(247,247,247)\"],[0.6,\"rgb(209,229,240)\"],[0.7,\"rgb(146,197,222)\"],[0.8,\"rgb(67,147,195)\"],[0.9,\"rgb(33,102,172)\"],[1.0,\"rgb(5,48,97)\"]],\"cmid\":0.0},\"title\":{\"text\":\"index 9, depth 0\"}},                        {\"responsive\": true}                    ).then(function(){\n",
       "                            \n",
       "var gd = document.getElementById('595a8f54-09aa-4380-9509-a5cf62c87aff');\n",
       "var x = new MutationObserver(function (mutations, observer) {{\n",
       "        var display = window.getComputedStyle(gd).display;\n",
       "        if (!display || display === 'none') {{\n",
       "            console.log([gd, 'removed!']);\n",
       "            Plotly.purge(gd);\n",
       "            observer.disconnect();\n",
       "        }}\n",
       "}});\n",
       "\n",
       "// Listen for the removal of the full notebook cells\n",
       "var notebookContainer = gd.closest('#notebook-container');\n",
       "if (notebookContainer) {{\n",
       "    x.observe(notebookContainer, {childList: true});\n",
       "}}\n",
       "\n",
       "// Listen for the clearing of the current output cell\n",
       "var outputEl = gd.closest('.output');\n",
       "if (outputEl) {{\n",
       "    x.observe(outputEl, {childList: true});\n",
       "}}\n",
       "\n",
       "                        })                };                });            </script>        </div>"
      ]
     },
     "metadata": {},
     "output_type": "display_data"
    },
    {
     "data": {
      "application/vnd.plotly.v1+json": {
       "config": {
        "plotlyServerURL": "https://plot.ly"
       },
       "data": [
        {
         "coloraxis": "coloraxis",
         "hovertemplate": "Head: %{x}<br>Layer: %{y}<br>color: %{z}<extra></extra>",
         "name": "0",
         "type": "heatmap",
         "xaxis": "x",
         "yaxis": "y",
         "z": [
          [
           0,
           0,
           0,
           0,
           0,
           0,
           0,
           0,
           0,
           0,
           0,
           0,
           0,
           0,
           0,
           0,
           0,
           0,
           0,
           0.1,
           0,
           0,
           0,
           0,
           0,
           0,
           0,
           0,
           0,
           0,
           0,
           0
          ],
          [
           0,
           0,
           0,
           0,
           0,
           0,
           0,
           0,
           0,
           0,
           0.1,
           0,
           0,
           0,
           0,
           0,
           0,
           0,
           0,
           0,
           0,
           0,
           0,
           0,
           0,
           0.1,
           0,
           0,
           0,
           0,
           0,
           0
          ],
          [
           0,
           0,
           0,
           0,
           0,
           0,
           0,
           0,
           0,
           0,
           0,
           0,
           0,
           0,
           0,
           0,
           0,
           0,
           0,
           0,
           0,
           0,
           0,
           0,
           0,
           0,
           0,
           0,
           0,
           0,
           0,
           0
          ],
          [
           0,
           0,
           0,
           0,
           0,
           0,
           0,
           0,
           0,
           0,
           0,
           0,
           0,
           0,
           0,
           0,
           0,
           0,
           0,
           0,
           0,
           0,
           0,
           0,
           0,
           0,
           0,
           0,
           0,
           0,
           0,
           0
          ],
          [
           0,
           0,
           0,
           0,
           0,
           0,
           0,
           0,
           0,
           0,
           0,
           0,
           0,
           0,
           0,
           0,
           0,
           0,
           0,
           0,
           0,
           0,
           0,
           0,
           0,
           0,
           0,
           0,
           0,
           0,
           0.1,
           0
          ],
          [
           0,
           0,
           0,
           0,
           0,
           0,
           0,
           0.1,
           0,
           0,
           0.1,
           0,
           0,
           0.1,
           0,
           0,
           0,
           0,
           0,
           0,
           0.1,
           0,
           0.2,
           0,
           0,
           0,
           0,
           0,
           0,
           0,
           0,
           0
          ],
          [
           0,
           0,
           0,
           0,
           0,
           0,
           0,
           0,
           0,
           0,
           0,
           0,
           0,
           0,
           0,
           0,
           0,
           0,
           0,
           0,
           0,
           0,
           0,
           0,
           0,
           0,
           0,
           0,
           0,
           0,
           0,
           0
          ],
          [
           0.1,
           0,
           0,
           0,
           0,
           0,
           0,
           0,
           0,
           0,
           0,
           0,
           0,
           0,
           0,
           0,
           0,
           0.1,
           0,
           0,
           0,
           0,
           0,
           0,
           0.1,
           0,
           0,
           0,
           0.1,
           0,
           0,
           0.3
          ],
          [
           0,
           0,
           0,
           0,
           0,
           0,
           0,
           0.1,
           0,
           0,
           0,
           0,
           0.2,
           0,
           0,
           0,
           0,
           0,
           0,
           0,
           0,
           0,
           0,
           0.1,
           0,
           0,
           0,
           0,
           0,
           0,
           0,
           0
          ],
          [
           0,
           0,
           0,
           0,
           0,
           0,
           0,
           0,
           0.1,
           0,
           0,
           0,
           0,
           0,
           0,
           0,
           0,
           0,
           0,
           0,
           0.1,
           0,
           0,
           0,
           0,
           0.1,
           0,
           0,
           0,
           0,
           0.1,
           0
          ],
          [
           0,
           0,
           0,
           0,
           0,
           0,
           0,
           0,
           0.1,
           0,
           0.1,
           0,
           0,
           0,
           0,
           0.1,
           0,
           0,
           0,
           0,
           0,
           0,
           0,
           0,
           0,
           0,
           0,
           0,
           0,
           0,
           0,
           0
          ],
          [
           0,
           0,
           0,
           0,
           0,
           0,
           0,
           0,
           0,
           0,
           0,
           0,
           0,
           0,
           0,
           0,
           0,
           0,
           0.2,
           0.1,
           0,
           0,
           0,
           0,
           0,
           0,
           0,
           0,
           0,
           0,
           0,
           0
          ],
          [
           0,
           0,
           0,
           0,
           0,
           0,
           0,
           0,
           0,
           0,
           0.1,
           0,
           0,
           0,
           0,
           0,
           0,
           0,
           0,
           0,
           0,
           0,
           0.1,
           0,
           0,
           0,
           0,
           0,
           0,
           0,
           0,
           0
          ],
          [
           0,
           0,
           0,
           0,
           0,
           0,
           0,
           0.1,
           0,
           0,
           0,
           0,
           0.1,
           0,
           0,
           0,
           0,
           0,
           0,
           0.4,
           0,
           0.1,
           0,
           0,
           0.1,
           0,
           0,
           0,
           0,
           0,
           0,
           0
          ],
          [
           0,
           0,
           0,
           0,
           0,
           0,
           0,
           0.1,
           0,
           0.1,
           0,
           0,
           0,
           0.1,
           0,
           0,
           0,
           0,
           0,
           0,
           0,
           0,
           0,
           0,
           0,
           0,
           0,
           0,
           0,
           0,
           0,
           0
          ],
          [
           0,
           0,
           0,
           0,
           0,
           0,
           0,
           0,
           0,
           0,
           0,
           0.1,
           0.4,
           0,
           0,
           0,
           0,
           0,
           0,
           0,
           0,
           0,
           0,
           0,
           0,
           0,
           0,
           0,
           0,
           0,
           0,
           0
          ],
          [
           0,
           0.4,
           0.1,
           0,
           0,
           0,
           0.1,
           0,
           0,
           0,
           0.1,
           0,
           0,
           0,
           0,
           0,
           0,
           0,
           0,
           0.5,
           0,
           0,
           0,
           0,
           0.3,
           0,
           0,
           0,
           0,
           0,
           0,
           0
          ],
          [
           0,
           0,
           0,
           0.1,
           0,
           0,
           0,
           0,
           0,
           0,
           0,
           0,
           0,
           0,
           0,
           0,
           0,
           0,
           0,
           0,
           0,
           0,
           0.4,
           0,
           0,
           0,
           0,
           0,
           0,
           0,
           0,
           0
          ],
          [
           0,
           0,
           0.1,
           0,
           0,
           0.1,
           0,
           0,
           0,
           0,
           0,
           0,
           0,
           0,
           0,
           0,
           0,
           0,
           0,
           0,
           0,
           0,
           0,
           0,
           0,
           0,
           0.3,
           0,
           0,
           0,
           0,
           0.1
          ],
          [
           0,
           0,
           0,
           0,
           0,
           0,
           0,
           0,
           0,
           0.2,
           0,
           0,
           0,
           0,
           0,
           0,
           0.3,
           0,
           0,
           0,
           0,
           0,
           0,
           0,
           0,
           0,
           0,
           0,
           0,
           0,
           0,
           0
          ],
          [
           0.1,
           0,
           0,
           0,
           0,
           0,
           0,
           0,
           0,
           0,
           0,
           0.1,
           0,
           0,
           0,
           0,
           0,
           0,
           0,
           0,
           0.1,
           0,
           0,
           0,
           0,
           0,
           0,
           0,
           0,
           0.1,
           0.1,
           0
          ],
          [
           0,
           0,
           0,
           0,
           0,
           0,
           0,
           0,
           0,
           0,
           0,
           0,
           0,
           0,
           0,
           0,
           0.3,
           0,
           0,
           0,
           0,
           0,
           0,
           0,
           0,
           0,
           0,
           0.1,
           0,
           0,
           0.2,
           0
          ],
          [
           0,
           0,
           0,
           0,
           0,
           0,
           0,
           0,
           0.2,
           0,
           0,
           0,
           0,
           0,
           0,
           0,
           0,
           0.1,
           0,
           0,
           0,
           0,
           0.1,
           0,
           0,
           0,
           0,
           0,
           0,
           0,
           0,
           0
          ],
          [
           0,
           0,
           0,
           0,
           0,
           0,
           0,
           0,
           0.1,
           0,
           0,
           0,
           0,
           0,
           0,
           0,
           0,
           0,
           0,
           0,
           0,
           0,
           0,
           0,
           0,
           0,
           0,
           0,
           0,
           0,
           0,
           0
          ],
          [
           0,
           0,
           0,
           0,
           0,
           0,
           0,
           0,
           0,
           0,
           0,
           0,
           0,
           0,
           0,
           0,
           0,
           0,
           0,
           0,
           0,
           0,
           0,
           0,
           0,
           0,
           0,
           0,
           0,
           0.2,
           0,
           0
          ],
          [
           0,
           0,
           0,
           0,
           0,
           0,
           0,
           0,
           0,
           0,
           0,
           0,
           0,
           0,
           0,
           0,
           0,
           0,
           0,
           0,
           0,
           0,
           0,
           0,
           0,
           0,
           0,
           0,
           0,
           0,
           0,
           0
          ],
          [
           0,
           0,
           0,
           0.1,
           0.1,
           0,
           0,
           0,
           0,
           0,
           0,
           0,
           0,
           0,
           0,
           0,
           0,
           0,
           0,
           0,
           0,
           0,
           0,
           0,
           0,
           0.3,
           0,
           0,
           0,
           0,
           0,
           0
          ],
          [
           0,
           0,
           0,
           0,
           0,
           0,
           0,
           0,
           0,
           0,
           0,
           0,
           0,
           0,
           0,
           0,
           0,
           0,
           0,
           0,
           0,
           0,
           0,
           0,
           0,
           0,
           0,
           0,
           0,
           0,
           0,
           0
          ],
          [
           0,
           0,
           0,
           0,
           0,
           0,
           0,
           0,
           0,
           0,
           0,
           0,
           0,
           0,
           0,
           0,
           0,
           0,
           0,
           0,
           0,
           0,
           0,
           0,
           0,
           0,
           0,
           0,
           0,
           0,
           0,
           0
          ],
          [
           0,
           0,
           0,
           0,
           0,
           0,
           0,
           0,
           0,
           0,
           0.1,
           0,
           0,
           0,
           0,
           0,
           0,
           0,
           0,
           0,
           0,
           0,
           0,
           0,
           0,
           0,
           0,
           0,
           0,
           0,
           0,
           0
          ],
          [
           0,
           0,
           0,
           0,
           0,
           0,
           0,
           0,
           0,
           0,
           0,
           0,
           0,
           0,
           0,
           0,
           0,
           0,
           0,
           0,
           0,
           0,
           0,
           0,
           0,
           0,
           0,
           0,
           0,
           0,
           0,
           0
          ],
          [
           0,
           0,
           0,
           0,
           0,
           0,
           0,
           0,
           0,
           0,
           0,
           0,
           0,
           0,
           0,
           0,
           0,
           0,
           0,
           0,
           0,
           0,
           0,
           0,
           0,
           0,
           0,
           0,
           0,
           0,
           0,
           0
          ]
         ]
        }
       ],
       "layout": {
        "coloraxis": {
         "cmid": 0,
         "colorscale": [
          [
           0,
           "rgb(103,0,31)"
          ],
          [
           0.1,
           "rgb(178,24,43)"
          ],
          [
           0.2,
           "rgb(214,96,77)"
          ],
          [
           0.3,
           "rgb(244,165,130)"
          ],
          [
           0.4,
           "rgb(253,219,199)"
          ],
          [
           0.5,
           "rgb(247,247,247)"
          ],
          [
           0.6,
           "rgb(209,229,240)"
          ],
          [
           0.7,
           "rgb(146,197,222)"
          ],
          [
           0.8,
           "rgb(67,147,195)"
          ],
          [
           0.9,
           "rgb(33,102,172)"
          ],
          [
           1,
           "rgb(5,48,97)"
          ]
         ]
        },
        "template": {
         "data": {
          "bar": [
           {
            "error_x": {
             "color": "#2a3f5f"
            },
            "error_y": {
             "color": "#2a3f5f"
            },
            "marker": {
             "line": {
              "color": "#E5ECF6",
              "width": 0.5
             },
             "pattern": {
              "fillmode": "overlay",
              "size": 10,
              "solidity": 0.2
             }
            },
            "type": "bar"
           }
          ],
          "barpolar": [
           {
            "marker": {
             "line": {
              "color": "#E5ECF6",
              "width": 0.5
             },
             "pattern": {
              "fillmode": "overlay",
              "size": 10,
              "solidity": 0.2
             }
            },
            "type": "barpolar"
           }
          ],
          "carpet": [
           {
            "aaxis": {
             "endlinecolor": "#2a3f5f",
             "gridcolor": "white",
             "linecolor": "white",
             "minorgridcolor": "white",
             "startlinecolor": "#2a3f5f"
            },
            "baxis": {
             "endlinecolor": "#2a3f5f",
             "gridcolor": "white",
             "linecolor": "white",
             "minorgridcolor": "white",
             "startlinecolor": "#2a3f5f"
            },
            "type": "carpet"
           }
          ],
          "choropleth": [
           {
            "colorbar": {
             "outlinewidth": 0,
             "ticks": ""
            },
            "type": "choropleth"
           }
          ],
          "contour": [
           {
            "colorbar": {
             "outlinewidth": 0,
             "ticks": ""
            },
            "colorscale": [
             [
              0,
              "#0d0887"
             ],
             [
              0.1111111111111111,
              "#46039f"
             ],
             [
              0.2222222222222222,
              "#7201a8"
             ],
             [
              0.3333333333333333,
              "#9c179e"
             ],
             [
              0.4444444444444444,
              "#bd3786"
             ],
             [
              0.5555555555555556,
              "#d8576b"
             ],
             [
              0.6666666666666666,
              "#ed7953"
             ],
             [
              0.7777777777777778,
              "#fb9f3a"
             ],
             [
              0.8888888888888888,
              "#fdca26"
             ],
             [
              1,
              "#f0f921"
             ]
            ],
            "type": "contour"
           }
          ],
          "contourcarpet": [
           {
            "colorbar": {
             "outlinewidth": 0,
             "ticks": ""
            },
            "type": "contourcarpet"
           }
          ],
          "heatmap": [
           {
            "colorbar": {
             "outlinewidth": 0,
             "ticks": ""
            },
            "colorscale": [
             [
              0,
              "#0d0887"
             ],
             [
              0.1111111111111111,
              "#46039f"
             ],
             [
              0.2222222222222222,
              "#7201a8"
             ],
             [
              0.3333333333333333,
              "#9c179e"
             ],
             [
              0.4444444444444444,
              "#bd3786"
             ],
             [
              0.5555555555555556,
              "#d8576b"
             ],
             [
              0.6666666666666666,
              "#ed7953"
             ],
             [
              0.7777777777777778,
              "#fb9f3a"
             ],
             [
              0.8888888888888888,
              "#fdca26"
             ],
             [
              1,
              "#f0f921"
             ]
            ],
            "type": "heatmap"
           }
          ],
          "heatmapgl": [
           {
            "colorbar": {
             "outlinewidth": 0,
             "ticks": ""
            },
            "colorscale": [
             [
              0,
              "#0d0887"
             ],
             [
              0.1111111111111111,
              "#46039f"
             ],
             [
              0.2222222222222222,
              "#7201a8"
             ],
             [
              0.3333333333333333,
              "#9c179e"
             ],
             [
              0.4444444444444444,
              "#bd3786"
             ],
             [
              0.5555555555555556,
              "#d8576b"
             ],
             [
              0.6666666666666666,
              "#ed7953"
             ],
             [
              0.7777777777777778,
              "#fb9f3a"
             ],
             [
              0.8888888888888888,
              "#fdca26"
             ],
             [
              1,
              "#f0f921"
             ]
            ],
            "type": "heatmapgl"
           }
          ],
          "histogram": [
           {
            "marker": {
             "pattern": {
              "fillmode": "overlay",
              "size": 10,
              "solidity": 0.2
             }
            },
            "type": "histogram"
           }
          ],
          "histogram2d": [
           {
            "colorbar": {
             "outlinewidth": 0,
             "ticks": ""
            },
            "colorscale": [
             [
              0,
              "#0d0887"
             ],
             [
              0.1111111111111111,
              "#46039f"
             ],
             [
              0.2222222222222222,
              "#7201a8"
             ],
             [
              0.3333333333333333,
              "#9c179e"
             ],
             [
              0.4444444444444444,
              "#bd3786"
             ],
             [
              0.5555555555555556,
              "#d8576b"
             ],
             [
              0.6666666666666666,
              "#ed7953"
             ],
             [
              0.7777777777777778,
              "#fb9f3a"
             ],
             [
              0.8888888888888888,
              "#fdca26"
             ],
             [
              1,
              "#f0f921"
             ]
            ],
            "type": "histogram2d"
           }
          ],
          "histogram2dcontour": [
           {
            "colorbar": {
             "outlinewidth": 0,
             "ticks": ""
            },
            "colorscale": [
             [
              0,
              "#0d0887"
             ],
             [
              0.1111111111111111,
              "#46039f"
             ],
             [
              0.2222222222222222,
              "#7201a8"
             ],
             [
              0.3333333333333333,
              "#9c179e"
             ],
             [
              0.4444444444444444,
              "#bd3786"
             ],
             [
              0.5555555555555556,
              "#d8576b"
             ],
             [
              0.6666666666666666,
              "#ed7953"
             ],
             [
              0.7777777777777778,
              "#fb9f3a"
             ],
             [
              0.8888888888888888,
              "#fdca26"
             ],
             [
              1,
              "#f0f921"
             ]
            ],
            "type": "histogram2dcontour"
           }
          ],
          "mesh3d": [
           {
            "colorbar": {
             "outlinewidth": 0,
             "ticks": ""
            },
            "type": "mesh3d"
           }
          ],
          "parcoords": [
           {
            "line": {
             "colorbar": {
              "outlinewidth": 0,
              "ticks": ""
             }
            },
            "type": "parcoords"
           }
          ],
          "pie": [
           {
            "automargin": true,
            "type": "pie"
           }
          ],
          "scatter": [
           {
            "fillpattern": {
             "fillmode": "overlay",
             "size": 10,
             "solidity": 0.2
            },
            "type": "scatter"
           }
          ],
          "scatter3d": [
           {
            "line": {
             "colorbar": {
              "outlinewidth": 0,
              "ticks": ""
             }
            },
            "marker": {
             "colorbar": {
              "outlinewidth": 0,
              "ticks": ""
             }
            },
            "type": "scatter3d"
           }
          ],
          "scattercarpet": [
           {
            "marker": {
             "colorbar": {
              "outlinewidth": 0,
              "ticks": ""
             }
            },
            "type": "scattercarpet"
           }
          ],
          "scattergeo": [
           {
            "marker": {
             "colorbar": {
              "outlinewidth": 0,
              "ticks": ""
             }
            },
            "type": "scattergeo"
           }
          ],
          "scattergl": [
           {
            "marker": {
             "colorbar": {
              "outlinewidth": 0,
              "ticks": ""
             }
            },
            "type": "scattergl"
           }
          ],
          "scattermapbox": [
           {
            "marker": {
             "colorbar": {
              "outlinewidth": 0,
              "ticks": ""
             }
            },
            "type": "scattermapbox"
           }
          ],
          "scatterpolar": [
           {
            "marker": {
             "colorbar": {
              "outlinewidth": 0,
              "ticks": ""
             }
            },
            "type": "scatterpolar"
           }
          ],
          "scatterpolargl": [
           {
            "marker": {
             "colorbar": {
              "outlinewidth": 0,
              "ticks": ""
             }
            },
            "type": "scatterpolargl"
           }
          ],
          "scatterternary": [
           {
            "marker": {
             "colorbar": {
              "outlinewidth": 0,
              "ticks": ""
             }
            },
            "type": "scatterternary"
           }
          ],
          "surface": [
           {
            "colorbar": {
             "outlinewidth": 0,
             "ticks": ""
            },
            "colorscale": [
             [
              0,
              "#0d0887"
             ],
             [
              0.1111111111111111,
              "#46039f"
             ],
             [
              0.2222222222222222,
              "#7201a8"
             ],
             [
              0.3333333333333333,
              "#9c179e"
             ],
             [
              0.4444444444444444,
              "#bd3786"
             ],
             [
              0.5555555555555556,
              "#d8576b"
             ],
             [
              0.6666666666666666,
              "#ed7953"
             ],
             [
              0.7777777777777778,
              "#fb9f3a"
             ],
             [
              0.8888888888888888,
              "#fdca26"
             ],
             [
              1,
              "#f0f921"
             ]
            ],
            "type": "surface"
           }
          ],
          "table": [
           {
            "cells": {
             "fill": {
              "color": "#EBF0F8"
             },
             "line": {
              "color": "white"
             }
            },
            "header": {
             "fill": {
              "color": "#C8D4E3"
             },
             "line": {
              "color": "white"
             }
            },
            "type": "table"
           }
          ]
         },
         "layout": {
          "annotationdefaults": {
           "arrowcolor": "#2a3f5f",
           "arrowhead": 0,
           "arrowwidth": 1
          },
          "autotypenumbers": "strict",
          "coloraxis": {
           "colorbar": {
            "outlinewidth": 0,
            "ticks": ""
           }
          },
          "colorscale": {
           "diverging": [
            [
             0,
             "#8e0152"
            ],
            [
             0.1,
             "#c51b7d"
            ],
            [
             0.2,
             "#de77ae"
            ],
            [
             0.3,
             "#f1b6da"
            ],
            [
             0.4,
             "#fde0ef"
            ],
            [
             0.5,
             "#f7f7f7"
            ],
            [
             0.6,
             "#e6f5d0"
            ],
            [
             0.7,
             "#b8e186"
            ],
            [
             0.8,
             "#7fbc41"
            ],
            [
             0.9,
             "#4d9221"
            ],
            [
             1,
             "#276419"
            ]
           ],
           "sequential": [
            [
             0,
             "#0d0887"
            ],
            [
             0.1111111111111111,
             "#46039f"
            ],
            [
             0.2222222222222222,
             "#7201a8"
            ],
            [
             0.3333333333333333,
             "#9c179e"
            ],
            [
             0.4444444444444444,
             "#bd3786"
            ],
            [
             0.5555555555555556,
             "#d8576b"
            ],
            [
             0.6666666666666666,
             "#ed7953"
            ],
            [
             0.7777777777777778,
             "#fb9f3a"
            ],
            [
             0.8888888888888888,
             "#fdca26"
            ],
            [
             1,
             "#f0f921"
            ]
           ],
           "sequentialminus": [
            [
             0,
             "#0d0887"
            ],
            [
             0.1111111111111111,
             "#46039f"
            ],
            [
             0.2222222222222222,
             "#7201a8"
            ],
            [
             0.3333333333333333,
             "#9c179e"
            ],
            [
             0.4444444444444444,
             "#bd3786"
            ],
            [
             0.5555555555555556,
             "#d8576b"
            ],
            [
             0.6666666666666666,
             "#ed7953"
            ],
            [
             0.7777777777777778,
             "#fb9f3a"
            ],
            [
             0.8888888888888888,
             "#fdca26"
            ],
            [
             1,
             "#f0f921"
            ]
           ]
          },
          "colorway": [
           "#636efa",
           "#EF553B",
           "#00cc96",
           "#ab63fa",
           "#FFA15A",
           "#19d3f3",
           "#FF6692",
           "#B6E880",
           "#FF97FF",
           "#FECB52"
          ],
          "font": {
           "color": "#2a3f5f"
          },
          "geo": {
           "bgcolor": "white",
           "lakecolor": "white",
           "landcolor": "#E5ECF6",
           "showlakes": true,
           "showland": true,
           "subunitcolor": "white"
          },
          "hoverlabel": {
           "align": "left"
          },
          "hovermode": "closest",
          "mapbox": {
           "style": "light"
          },
          "paper_bgcolor": "white",
          "plot_bgcolor": "#E5ECF6",
          "polar": {
           "angularaxis": {
            "gridcolor": "white",
            "linecolor": "white",
            "ticks": ""
           },
           "bgcolor": "#E5ECF6",
           "radialaxis": {
            "gridcolor": "white",
            "linecolor": "white",
            "ticks": ""
           }
          },
          "scene": {
           "xaxis": {
            "backgroundcolor": "#E5ECF6",
            "gridcolor": "white",
            "gridwidth": 2,
            "linecolor": "white",
            "showbackground": true,
            "ticks": "",
            "zerolinecolor": "white"
           },
           "yaxis": {
            "backgroundcolor": "#E5ECF6",
            "gridcolor": "white",
            "gridwidth": 2,
            "linecolor": "white",
            "showbackground": true,
            "ticks": "",
            "zerolinecolor": "white"
           },
           "zaxis": {
            "backgroundcolor": "#E5ECF6",
            "gridcolor": "white",
            "gridwidth": 2,
            "linecolor": "white",
            "showbackground": true,
            "ticks": "",
            "zerolinecolor": "white"
           }
          },
          "shapedefaults": {
           "line": {
            "color": "#2a3f5f"
           }
          },
          "ternary": {
           "aaxis": {
            "gridcolor": "white",
            "linecolor": "white",
            "ticks": ""
           },
           "baxis": {
            "gridcolor": "white",
            "linecolor": "white",
            "ticks": ""
           },
           "bgcolor": "#E5ECF6",
           "caxis": {
            "gridcolor": "white",
            "linecolor": "white",
            "ticks": ""
           }
          },
          "title": {
           "x": 0.05
          },
          "xaxis": {
           "automargin": true,
           "gridcolor": "white",
           "linecolor": "white",
           "ticks": "",
           "title": {
            "standoff": 15
           },
           "zerolinecolor": "white",
           "zerolinewidth": 2
          },
          "yaxis": {
           "automargin": true,
           "gridcolor": "white",
           "linecolor": "white",
           "ticks": "",
           "title": {
            "standoff": 15
           },
           "zerolinecolor": "white",
           "zerolinewidth": 2
          }
         }
        },
        "title": {
         "text": "index 9, depth 1"
        },
        "xaxis": {
         "anchor": "y",
         "constrain": "domain",
         "domain": [
          0,
          1
         ],
         "scaleanchor": "y",
         "title": {
          "text": "Head"
         }
        },
        "yaxis": {
         "anchor": "x",
         "autorange": "reversed",
         "constrain": "domain",
         "domain": [
          0,
          1
         ],
         "title": {
          "text": "Layer"
         }
        }
       }
      },
      "text/html": [
       "<div>                            <div id=\"855969da-c3cd-4064-a4b8-350a3e81809b\" class=\"plotly-graph-div\" style=\"height:525px; width:100%;\"></div>            <script type=\"text/javascript\">                require([\"plotly\"], function(Plotly) {                    window.PLOTLYENV=window.PLOTLYENV || {};                                    if (document.getElementById(\"855969da-c3cd-4064-a4b8-350a3e81809b\")) {                    Plotly.newPlot(                        \"855969da-c3cd-4064-a4b8-350a3e81809b\",                        [{\"coloraxis\":\"coloraxis\",\"name\":\"0\",\"z\":[[0.0,0.0,0.0,0.0,0.0,0.0,0.0,0.0,0.0,0.0,0.0,0.0,0.0,0.0,0.0,0.0,0.0,0.0,0.0,0.1,0.0,0.0,0.0,0.0,0.0,0.0,0.0,0.0,0.0,0.0,0.0,0.0],[0.0,0.0,0.0,0.0,0.0,0.0,0.0,0.0,0.0,0.0,0.1,0.0,0.0,0.0,0.0,0.0,0.0,0.0,0.0,0.0,0.0,0.0,0.0,0.0,0.0,0.1,0.0,0.0,0.0,0.0,0.0,0.0],[0.0,0.0,0.0,0.0,0.0,0.0,0.0,0.0,0.0,0.0,0.0,0.0,0.0,0.0,0.0,0.0,0.0,0.0,0.0,0.0,0.0,0.0,0.0,0.0,0.0,0.0,0.0,0.0,0.0,0.0,0.0,0.0],[0.0,0.0,0.0,0.0,0.0,0.0,0.0,0.0,0.0,0.0,0.0,0.0,0.0,0.0,0.0,0.0,0.0,0.0,0.0,0.0,0.0,0.0,0.0,0.0,0.0,0.0,0.0,0.0,0.0,0.0,0.0,0.0],[0.0,0.0,0.0,0.0,0.0,0.0,0.0,0.0,0.0,0.0,0.0,0.0,0.0,0.0,0.0,0.0,0.0,0.0,0.0,0.0,0.0,0.0,0.0,0.0,0.0,0.0,0.0,0.0,0.0,0.0,0.1,0.0],[0.0,0.0,0.0,0.0,0.0,0.0,0.0,0.1,0.0,0.0,0.1,0.0,0.0,0.1,0.0,0.0,0.0,0.0,0.0,0.0,0.1,0.0,0.2,0.0,0.0,0.0,0.0,0.0,0.0,0.0,0.0,0.0],[0.0,0.0,0.0,0.0,0.0,0.0,0.0,0.0,0.0,0.0,0.0,0.0,0.0,0.0,0.0,0.0,0.0,0.0,0.0,0.0,0.0,0.0,0.0,0.0,0.0,0.0,0.0,0.0,0.0,0.0,0.0,0.0],[0.1,0.0,0.0,0.0,0.0,0.0,0.0,0.0,0.0,0.0,0.0,0.0,0.0,0.0,0.0,0.0,0.0,0.1,0.0,0.0,0.0,0.0,0.0,0.0,0.1,0.0,0.0,0.0,0.1,0.0,0.0,0.3],[0.0,0.0,0.0,0.0,0.0,0.0,0.0,0.1,0.0,0.0,0.0,0.0,0.2,0.0,0.0,0.0,0.0,0.0,0.0,0.0,0.0,0.0,0.0,0.1,0.0,0.0,0.0,0.0,0.0,0.0,0.0,0.0],[0.0,0.0,0.0,0.0,0.0,0.0,0.0,0.0,0.1,0.0,0.0,0.0,0.0,0.0,0.0,0.0,0.0,0.0,0.0,0.0,0.1,0.0,0.0,0.0,0.0,0.1,0.0,0.0,0.0,0.0,0.1,0.0],[0.0,0.0,0.0,0.0,0.0,0.0,0.0,0.0,0.1,0.0,0.1,0.0,0.0,0.0,0.0,0.1,0.0,0.0,0.0,0.0,0.0,0.0,0.0,0.0,0.0,0.0,0.0,0.0,0.0,0.0,0.0,0.0],[0.0,0.0,0.0,0.0,0.0,0.0,0.0,0.0,0.0,0.0,0.0,0.0,0.0,0.0,0.0,0.0,0.0,0.0,0.2,0.1,0.0,0.0,0.0,0.0,0.0,0.0,0.0,0.0,0.0,0.0,0.0,0.0],[0.0,0.0,0.0,0.0,0.0,0.0,0.0,0.0,0.0,0.0,0.1,0.0,0.0,0.0,0.0,0.0,0.0,0.0,0.0,0.0,0.0,0.0,0.1,0.0,0.0,0.0,0.0,0.0,0.0,0.0,0.0,0.0],[0.0,0.0,0.0,0.0,0.0,0.0,0.0,0.1,0.0,0.0,0.0,0.0,0.1,0.0,0.0,0.0,0.0,0.0,0.0,0.4,0.0,0.1,0.0,0.0,0.1,0.0,0.0,0.0,0.0,0.0,0.0,0.0],[0.0,0.0,0.0,0.0,0.0,0.0,0.0,0.1,0.0,0.1,0.0,0.0,0.0,0.1,0.0,0.0,0.0,0.0,0.0,0.0,0.0,0.0,0.0,0.0,0.0,0.0,0.0,0.0,0.0,0.0,0.0,0.0],[0.0,0.0,0.0,0.0,0.0,0.0,0.0,0.0,0.0,0.0,0.0,0.1,0.4,0.0,0.0,0.0,0.0,0.0,0.0,0.0,0.0,0.0,0.0,0.0,0.0,0.0,0.0,0.0,0.0,0.0,0.0,0.0],[0.0,0.4,0.1,0.0,0.0,0.0,0.1,0.0,0.0,0.0,0.1,0.0,0.0,0.0,0.0,0.0,0.0,0.0,0.0,0.5,0.0,0.0,0.0,0.0,0.3,0.0,0.0,0.0,0.0,0.0,0.0,0.0],[0.0,0.0,0.0,0.1,0.0,0.0,0.0,0.0,0.0,0.0,0.0,0.0,0.0,0.0,0.0,0.0,0.0,0.0,0.0,0.0,0.0,0.0,0.4,0.0,0.0,0.0,0.0,0.0,0.0,0.0,0.0,0.0],[0.0,0.0,0.1,0.0,0.0,0.1,0.0,0.0,0.0,0.0,0.0,0.0,0.0,0.0,0.0,0.0,0.0,0.0,0.0,0.0,0.0,0.0,0.0,0.0,0.0,0.0,0.3,0.0,0.0,0.0,0.0,0.1],[0.0,0.0,0.0,0.0,0.0,0.0,0.0,0.0,0.0,0.2,0.0,0.0,0.0,0.0,0.0,0.0,0.3,0.0,0.0,0.0,0.0,0.0,0.0,0.0,0.0,0.0,0.0,0.0,0.0,0.0,0.0,0.0],[0.1,0.0,0.0,0.0,0.0,0.0,0.0,0.0,0.0,0.0,0.0,0.1,0.0,0.0,0.0,0.0,0.0,0.0,0.0,0.0,0.1,0.0,0.0,0.0,0.0,0.0,0.0,0.0,0.0,0.1,0.1,0.0],[0.0,0.0,0.0,0.0,0.0,0.0,0.0,0.0,0.0,0.0,0.0,0.0,0.0,0.0,0.0,0.0,0.3,0.0,0.0,0.0,0.0,0.0,0.0,0.0,0.0,0.0,0.0,0.1,0.0,0.0,0.2,0.0],[0.0,0.0,0.0,0.0,0.0,0.0,0.0,0.0,0.2,0.0,0.0,0.0,0.0,0.0,0.0,0.0,0.0,0.1,0.0,0.0,0.0,0.0,0.1,0.0,0.0,0.0,0.0,0.0,0.0,0.0,0.0,0.0],[0.0,0.0,0.0,0.0,0.0,0.0,0.0,0.0,0.1,0.0,0.0,0.0,0.0,0.0,0.0,0.0,0.0,0.0,0.0,0.0,0.0,0.0,0.0,0.0,0.0,0.0,0.0,0.0,0.0,0.0,0.0,0.0],[0.0,0.0,0.0,0.0,0.0,0.0,0.0,0.0,0.0,0.0,0.0,0.0,0.0,0.0,0.0,0.0,0.0,0.0,0.0,0.0,0.0,0.0,0.0,0.0,0.0,0.0,0.0,0.0,0.0,0.2,0.0,0.0],[0.0,0.0,0.0,0.0,0.0,0.0,0.0,0.0,0.0,0.0,0.0,0.0,0.0,0.0,0.0,0.0,0.0,0.0,0.0,0.0,0.0,0.0,0.0,0.0,0.0,0.0,0.0,0.0,0.0,0.0,0.0,0.0],[0.0,0.0,0.0,0.1,0.1,0.0,0.0,0.0,0.0,0.0,0.0,0.0,0.0,0.0,0.0,0.0,0.0,0.0,0.0,0.0,0.0,0.0,0.0,0.0,0.0,0.3,0.0,0.0,0.0,0.0,0.0,0.0],[0.0,0.0,0.0,0.0,0.0,0.0,0.0,0.0,0.0,0.0,0.0,0.0,0.0,0.0,0.0,0.0,0.0,0.0,0.0,0.0,0.0,0.0,0.0,0.0,0.0,0.0,0.0,0.0,0.0,0.0,0.0,0.0],[0.0,0.0,0.0,0.0,0.0,0.0,0.0,0.0,0.0,0.0,0.0,0.0,0.0,0.0,0.0,0.0,0.0,0.0,0.0,0.0,0.0,0.0,0.0,0.0,0.0,0.0,0.0,0.0,0.0,0.0,0.0,0.0],[0.0,0.0,0.0,0.0,0.0,0.0,0.0,0.0,0.0,0.0,0.1,0.0,0.0,0.0,0.0,0.0,0.0,0.0,0.0,0.0,0.0,0.0,0.0,0.0,0.0,0.0,0.0,0.0,0.0,0.0,0.0,0.0],[0.0,0.0,0.0,0.0,0.0,0.0,0.0,0.0,0.0,0.0,0.0,0.0,0.0,0.0,0.0,0.0,0.0,0.0,0.0,0.0,0.0,0.0,0.0,0.0,0.0,0.0,0.0,0.0,0.0,0.0,0.0,0.0],[0.0,0.0,0.0,0.0,0.0,0.0,0.0,0.0,0.0,0.0,0.0,0.0,0.0,0.0,0.0,0.0,0.0,0.0,0.0,0.0,0.0,0.0,0.0,0.0,0.0,0.0,0.0,0.0,0.0,0.0,0.0,0.0]],\"type\":\"heatmap\",\"xaxis\":\"x\",\"yaxis\":\"y\",\"hovertemplate\":\"Head: %{x}\\u003cbr\\u003eLayer: %{y}\\u003cbr\\u003ecolor: %{z}\\u003cextra\\u003e\\u003c\\u002fextra\\u003e\"}],                        {\"template\":{\"data\":{\"histogram2dcontour\":[{\"type\":\"histogram2dcontour\",\"colorbar\":{\"outlinewidth\":0,\"ticks\":\"\"},\"colorscale\":[[0.0,\"#0d0887\"],[0.1111111111111111,\"#46039f\"],[0.2222222222222222,\"#7201a8\"],[0.3333333333333333,\"#9c179e\"],[0.4444444444444444,\"#bd3786\"],[0.5555555555555556,\"#d8576b\"],[0.6666666666666666,\"#ed7953\"],[0.7777777777777778,\"#fb9f3a\"],[0.8888888888888888,\"#fdca26\"],[1.0,\"#f0f921\"]]}],\"choropleth\":[{\"type\":\"choropleth\",\"colorbar\":{\"outlinewidth\":0,\"ticks\":\"\"}}],\"histogram2d\":[{\"type\":\"histogram2d\",\"colorbar\":{\"outlinewidth\":0,\"ticks\":\"\"},\"colorscale\":[[0.0,\"#0d0887\"],[0.1111111111111111,\"#46039f\"],[0.2222222222222222,\"#7201a8\"],[0.3333333333333333,\"#9c179e\"],[0.4444444444444444,\"#bd3786\"],[0.5555555555555556,\"#d8576b\"],[0.6666666666666666,\"#ed7953\"],[0.7777777777777778,\"#fb9f3a\"],[0.8888888888888888,\"#fdca26\"],[1.0,\"#f0f921\"]]}],\"heatmap\":[{\"type\":\"heatmap\",\"colorbar\":{\"outlinewidth\":0,\"ticks\":\"\"},\"colorscale\":[[0.0,\"#0d0887\"],[0.1111111111111111,\"#46039f\"],[0.2222222222222222,\"#7201a8\"],[0.3333333333333333,\"#9c179e\"],[0.4444444444444444,\"#bd3786\"],[0.5555555555555556,\"#d8576b\"],[0.6666666666666666,\"#ed7953\"],[0.7777777777777778,\"#fb9f3a\"],[0.8888888888888888,\"#fdca26\"],[1.0,\"#f0f921\"]]}],\"heatmapgl\":[{\"type\":\"heatmapgl\",\"colorbar\":{\"outlinewidth\":0,\"ticks\":\"\"},\"colorscale\":[[0.0,\"#0d0887\"],[0.1111111111111111,\"#46039f\"],[0.2222222222222222,\"#7201a8\"],[0.3333333333333333,\"#9c179e\"],[0.4444444444444444,\"#bd3786\"],[0.5555555555555556,\"#d8576b\"],[0.6666666666666666,\"#ed7953\"],[0.7777777777777778,\"#fb9f3a\"],[0.8888888888888888,\"#fdca26\"],[1.0,\"#f0f921\"]]}],\"contourcarpet\":[{\"type\":\"contourcarpet\",\"colorbar\":{\"outlinewidth\":0,\"ticks\":\"\"}}],\"contour\":[{\"type\":\"contour\",\"colorbar\":{\"outlinewidth\":0,\"ticks\":\"\"},\"colorscale\":[[0.0,\"#0d0887\"],[0.1111111111111111,\"#46039f\"],[0.2222222222222222,\"#7201a8\"],[0.3333333333333333,\"#9c179e\"],[0.4444444444444444,\"#bd3786\"],[0.5555555555555556,\"#d8576b\"],[0.6666666666666666,\"#ed7953\"],[0.7777777777777778,\"#fb9f3a\"],[0.8888888888888888,\"#fdca26\"],[1.0,\"#f0f921\"]]}],\"surface\":[{\"type\":\"surface\",\"colorbar\":{\"outlinewidth\":0,\"ticks\":\"\"},\"colorscale\":[[0.0,\"#0d0887\"],[0.1111111111111111,\"#46039f\"],[0.2222222222222222,\"#7201a8\"],[0.3333333333333333,\"#9c179e\"],[0.4444444444444444,\"#bd3786\"],[0.5555555555555556,\"#d8576b\"],[0.6666666666666666,\"#ed7953\"],[0.7777777777777778,\"#fb9f3a\"],[0.8888888888888888,\"#fdca26\"],[1.0,\"#f0f921\"]]}],\"mesh3d\":[{\"type\":\"mesh3d\",\"colorbar\":{\"outlinewidth\":0,\"ticks\":\"\"}}],\"scatter\":[{\"fillpattern\":{\"fillmode\":\"overlay\",\"size\":10,\"solidity\":0.2},\"type\":\"scatter\"}],\"parcoords\":[{\"type\":\"parcoords\",\"line\":{\"colorbar\":{\"outlinewidth\":0,\"ticks\":\"\"}}}],\"scatterpolargl\":[{\"type\":\"scatterpolargl\",\"marker\":{\"colorbar\":{\"outlinewidth\":0,\"ticks\":\"\"}}}],\"bar\":[{\"error_x\":{\"color\":\"#2a3f5f\"},\"error_y\":{\"color\":\"#2a3f5f\"},\"marker\":{\"line\":{\"color\":\"#E5ECF6\",\"width\":0.5},\"pattern\":{\"fillmode\":\"overlay\",\"size\":10,\"solidity\":0.2}},\"type\":\"bar\"}],\"scattergeo\":[{\"type\":\"scattergeo\",\"marker\":{\"colorbar\":{\"outlinewidth\":0,\"ticks\":\"\"}}}],\"scatterpolar\":[{\"type\":\"scatterpolar\",\"marker\":{\"colorbar\":{\"outlinewidth\":0,\"ticks\":\"\"}}}],\"histogram\":[{\"marker\":{\"pattern\":{\"fillmode\":\"overlay\",\"size\":10,\"solidity\":0.2}},\"type\":\"histogram\"}],\"scattergl\":[{\"type\":\"scattergl\",\"marker\":{\"colorbar\":{\"outlinewidth\":0,\"ticks\":\"\"}}}],\"scatter3d\":[{\"type\":\"scatter3d\",\"line\":{\"colorbar\":{\"outlinewidth\":0,\"ticks\":\"\"}},\"marker\":{\"colorbar\":{\"outlinewidth\":0,\"ticks\":\"\"}}}],\"scattermapbox\":[{\"type\":\"scattermapbox\",\"marker\":{\"colorbar\":{\"outlinewidth\":0,\"ticks\":\"\"}}}],\"scatterternary\":[{\"type\":\"scatterternary\",\"marker\":{\"colorbar\":{\"outlinewidth\":0,\"ticks\":\"\"}}}],\"scattercarpet\":[{\"type\":\"scattercarpet\",\"marker\":{\"colorbar\":{\"outlinewidth\":0,\"ticks\":\"\"}}}],\"carpet\":[{\"aaxis\":{\"endlinecolor\":\"#2a3f5f\",\"gridcolor\":\"white\",\"linecolor\":\"white\",\"minorgridcolor\":\"white\",\"startlinecolor\":\"#2a3f5f\"},\"baxis\":{\"endlinecolor\":\"#2a3f5f\",\"gridcolor\":\"white\",\"linecolor\":\"white\",\"minorgridcolor\":\"white\",\"startlinecolor\":\"#2a3f5f\"},\"type\":\"carpet\"}],\"table\":[{\"cells\":{\"fill\":{\"color\":\"#EBF0F8\"},\"line\":{\"color\":\"white\"}},\"header\":{\"fill\":{\"color\":\"#C8D4E3\"},\"line\":{\"color\":\"white\"}},\"type\":\"table\"}],\"barpolar\":[{\"marker\":{\"line\":{\"color\":\"#E5ECF6\",\"width\":0.5},\"pattern\":{\"fillmode\":\"overlay\",\"size\":10,\"solidity\":0.2}},\"type\":\"barpolar\"}],\"pie\":[{\"automargin\":true,\"type\":\"pie\"}]},\"layout\":{\"autotypenumbers\":\"strict\",\"colorway\":[\"#636efa\",\"#EF553B\",\"#00cc96\",\"#ab63fa\",\"#FFA15A\",\"#19d3f3\",\"#FF6692\",\"#B6E880\",\"#FF97FF\",\"#FECB52\"],\"font\":{\"color\":\"#2a3f5f\"},\"hovermode\":\"closest\",\"hoverlabel\":{\"align\":\"left\"},\"paper_bgcolor\":\"white\",\"plot_bgcolor\":\"#E5ECF6\",\"polar\":{\"bgcolor\":\"#E5ECF6\",\"angularaxis\":{\"gridcolor\":\"white\",\"linecolor\":\"white\",\"ticks\":\"\"},\"radialaxis\":{\"gridcolor\":\"white\",\"linecolor\":\"white\",\"ticks\":\"\"}},\"ternary\":{\"bgcolor\":\"#E5ECF6\",\"aaxis\":{\"gridcolor\":\"white\",\"linecolor\":\"white\",\"ticks\":\"\"},\"baxis\":{\"gridcolor\":\"white\",\"linecolor\":\"white\",\"ticks\":\"\"},\"caxis\":{\"gridcolor\":\"white\",\"linecolor\":\"white\",\"ticks\":\"\"}},\"coloraxis\":{\"colorbar\":{\"outlinewidth\":0,\"ticks\":\"\"}},\"colorscale\":{\"sequential\":[[0.0,\"#0d0887\"],[0.1111111111111111,\"#46039f\"],[0.2222222222222222,\"#7201a8\"],[0.3333333333333333,\"#9c179e\"],[0.4444444444444444,\"#bd3786\"],[0.5555555555555556,\"#d8576b\"],[0.6666666666666666,\"#ed7953\"],[0.7777777777777778,\"#fb9f3a\"],[0.8888888888888888,\"#fdca26\"],[1.0,\"#f0f921\"]],\"sequentialminus\":[[0.0,\"#0d0887\"],[0.1111111111111111,\"#46039f\"],[0.2222222222222222,\"#7201a8\"],[0.3333333333333333,\"#9c179e\"],[0.4444444444444444,\"#bd3786\"],[0.5555555555555556,\"#d8576b\"],[0.6666666666666666,\"#ed7953\"],[0.7777777777777778,\"#fb9f3a\"],[0.8888888888888888,\"#fdca26\"],[1.0,\"#f0f921\"]],\"diverging\":[[0,\"#8e0152\"],[0.1,\"#c51b7d\"],[0.2,\"#de77ae\"],[0.3,\"#f1b6da\"],[0.4,\"#fde0ef\"],[0.5,\"#f7f7f7\"],[0.6,\"#e6f5d0\"],[0.7,\"#b8e186\"],[0.8,\"#7fbc41\"],[0.9,\"#4d9221\"],[1,\"#276419\"]]},\"xaxis\":{\"gridcolor\":\"white\",\"linecolor\":\"white\",\"ticks\":\"\",\"title\":{\"standoff\":15},\"zerolinecolor\":\"white\",\"automargin\":true,\"zerolinewidth\":2},\"yaxis\":{\"gridcolor\":\"white\",\"linecolor\":\"white\",\"ticks\":\"\",\"title\":{\"standoff\":15},\"zerolinecolor\":\"white\",\"automargin\":true,\"zerolinewidth\":2},\"scene\":{\"xaxis\":{\"backgroundcolor\":\"#E5ECF6\",\"gridcolor\":\"white\",\"linecolor\":\"white\",\"showbackground\":true,\"ticks\":\"\",\"zerolinecolor\":\"white\",\"gridwidth\":2},\"yaxis\":{\"backgroundcolor\":\"#E5ECF6\",\"gridcolor\":\"white\",\"linecolor\":\"white\",\"showbackground\":true,\"ticks\":\"\",\"zerolinecolor\":\"white\",\"gridwidth\":2},\"zaxis\":{\"backgroundcolor\":\"#E5ECF6\",\"gridcolor\":\"white\",\"linecolor\":\"white\",\"showbackground\":true,\"ticks\":\"\",\"zerolinecolor\":\"white\",\"gridwidth\":2}},\"shapedefaults\":{\"line\":{\"color\":\"#2a3f5f\"}},\"annotationdefaults\":{\"arrowcolor\":\"#2a3f5f\",\"arrowhead\":0,\"arrowwidth\":1},\"geo\":{\"bgcolor\":\"white\",\"landcolor\":\"#E5ECF6\",\"subunitcolor\":\"white\",\"showland\":true,\"showlakes\":true,\"lakecolor\":\"white\"},\"title\":{\"x\":0.05},\"mapbox\":{\"style\":\"light\"}}},\"xaxis\":{\"anchor\":\"y\",\"domain\":[0.0,1.0],\"scaleanchor\":\"y\",\"constrain\":\"domain\",\"title\":{\"text\":\"Head\"}},\"yaxis\":{\"anchor\":\"x\",\"domain\":[0.0,1.0],\"autorange\":\"reversed\",\"constrain\":\"domain\",\"title\":{\"text\":\"Layer\"}},\"coloraxis\":{\"colorscale\":[[0.0,\"rgb(103,0,31)\"],[0.1,\"rgb(178,24,43)\"],[0.2,\"rgb(214,96,77)\"],[0.3,\"rgb(244,165,130)\"],[0.4,\"rgb(253,219,199)\"],[0.5,\"rgb(247,247,247)\"],[0.6,\"rgb(209,229,240)\"],[0.7,\"rgb(146,197,222)\"],[0.8,\"rgb(67,147,195)\"],[0.9,\"rgb(33,102,172)\"],[1.0,\"rgb(5,48,97)\"]],\"cmid\":0.0},\"title\":{\"text\":\"index 9, depth 1\"}},                        {\"responsive\": true}                    ).then(function(){\n",
       "                            \n",
       "var gd = document.getElementById('855969da-c3cd-4064-a4b8-350a3e81809b');\n",
       "var x = new MutationObserver(function (mutations, observer) {{\n",
       "        var display = window.getComputedStyle(gd).display;\n",
       "        if (!display || display === 'none') {{\n",
       "            console.log([gd, 'removed!']);\n",
       "            Plotly.purge(gd);\n",
       "            observer.disconnect();\n",
       "        }}\n",
       "}});\n",
       "\n",
       "// Listen for the removal of the full notebook cells\n",
       "var notebookContainer = gd.closest('#notebook-container');\n",
       "if (notebookContainer) {{\n",
       "    x.observe(notebookContainer, {childList: true});\n",
       "}}\n",
       "\n",
       "// Listen for the clearing of the current output cell\n",
       "var outputEl = gd.closest('.output');\n",
       "if (outputEl) {{\n",
       "    x.observe(outputEl, {childList: true});\n",
       "}}\n",
       "\n",
       "                        })                };                });            </script>        </div>"
      ]
     },
     "metadata": {},
     "output_type": "display_data"
    },
    {
     "data": {
      "application/vnd.plotly.v1+json": {
       "config": {
        "plotlyServerURL": "https://plot.ly"
       },
       "data": [
        {
         "coloraxis": "coloraxis",
         "hovertemplate": "Head: %{x}<br>Layer: %{y}<br>color: %{z}<extra></extra>",
         "name": "0",
         "type": "heatmap",
         "xaxis": "x",
         "yaxis": "y",
         "z": [
          [
           0.6,
           0.1,
           0,
           0.6,
           0,
           0,
           0,
           0,
           0,
           0,
           0.1,
           0,
           0.1,
           0,
           0.1,
           0.1,
           0,
           0,
           0.1,
           0.2,
           0.1,
           0.2,
           0,
           0,
           0.1,
           0.3,
           0.1,
           0,
           0,
           0,
           0,
           0
          ],
          [
           0.1,
           0,
           0,
           0,
           0,
           0,
           0,
           0,
           0,
           0,
           0.5,
           0.4,
           0.2,
           0,
           0,
           0,
           0,
           0,
           0.1,
           0,
           0,
           0.2,
           0,
           0,
           0.3,
           0.1,
           0,
           0.1,
           0,
           0,
           0,
           0.2
          ],
          [
           0,
           0,
           0.1,
           0,
           0,
           0,
           0,
           0,
           0.2,
           0,
           0,
           0,
           0.1,
           0,
           0,
           0,
           0,
           0,
           0.1,
           0,
           0,
           0,
           0,
           0,
           0,
           0.1,
           0,
           0,
           0,
           0,
           0,
           0
          ],
          [
           0.3,
           0,
           0.1,
           0.1,
           0,
           0,
           0,
           0,
           0.3,
           0,
           0,
           0,
           0,
           0.3,
           0,
           0,
           0,
           0,
           0,
           0,
           0,
           0.1,
           0,
           0,
           0,
           0,
           0.3,
           0,
           0,
           0,
           0,
           0.1
          ],
          [
           0.1,
           0,
           0,
           0.1,
           0.3,
           0,
           0,
           0,
           0,
           0,
           0,
           0,
           0,
           0,
           0,
           0.2,
           0,
           0,
           0,
           0,
           0,
           0,
           0,
           0,
           0,
           0,
           0,
           0.2,
           0,
           0,
           0.2,
           0
          ],
          [
           0,
           0.2,
           0,
           0,
           0,
           0,
           0,
           0,
           0,
           0,
           0.3,
           0,
           0,
           0.1,
           0,
           0.2,
           0,
           0,
           0,
           0,
           0.7,
           0,
           0.4,
           0.2,
           0.1,
           0,
           0,
           0.1,
           0,
           0,
           0,
           0
          ],
          [
           0,
           0,
           0,
           0,
           0.1,
           0,
           0,
           0,
           0,
           0,
           0,
           0,
           0.2,
           0.1,
           0.1,
           0,
           0,
           0,
           0.7,
           0,
           0.1,
           0,
           0,
           0.4,
           0.1,
           0,
           0,
           0,
           0,
           0,
           0,
           0
          ],
          [
           0.1,
           0,
           0,
           0,
           0,
           0,
           0,
           0,
           0,
           0,
           0,
           0,
           0,
           0.1,
           0,
           0.1,
           0,
           0.1,
           0,
           0,
           0,
           0,
           0,
           0,
           0.5,
           0,
           0,
           0,
           0.3,
           0,
           0,
           0.4
          ],
          [
           0,
           0,
           0,
           0,
           0,
           0,
           0,
           0.2,
           0,
           0,
           0,
           0,
           0.1,
           0,
           0,
           0,
           0.2,
           0,
           0,
           0,
           0,
           0,
           0,
           0,
           0,
           0.1,
           0,
           0,
           0,
           0.1,
           0,
           0
          ],
          [
           0.1,
           0,
           0.2,
           0,
           0,
           0,
           0,
           0,
           0.1,
           0,
           0,
           0,
           0,
           0,
           0,
           0,
           0,
           0,
           0.1,
           0.1,
           0,
           0,
           0,
           0,
           0,
           0.2,
           0,
           0.2,
           0,
           0,
           0,
           0.1
          ],
          [
           0,
           0,
           0,
           0.2,
           0.1,
           0,
           0,
           0,
           0,
           0,
           0.3,
           0,
           0,
           0,
           0,
           0.1,
           0,
           0,
           0,
           0,
           0,
           0,
           0,
           0,
           0.1,
           0,
           0,
           0,
           0,
           0,
           0,
           0
          ],
          [
           0,
           0,
           0.2,
           0,
           0,
           0,
           0,
           0,
           0,
           0,
           0,
           0,
           0,
           0,
           0,
           0.1,
           0,
           0.1,
           0.7,
           0,
           0,
           0,
           0,
           0,
           0,
           0.3,
           0,
           0,
           0,
           0.1,
           0.1,
           0
          ],
          [
           0,
           0,
           0,
           0,
           0,
           0,
           0,
           0,
           0,
           0,
           0.1,
           0,
           0,
           0,
           0,
           0.1,
           0.2,
           0,
           0,
           0,
           0.1,
           0,
           0,
           0.1,
           0.2,
           0.1,
           0,
           0,
           0.1,
           0,
           0.1,
           0
          ],
          [
           0,
           0,
           0.1,
           0,
           0,
           0.1,
           0,
           0,
           0,
           0,
           0,
           0,
           0.1,
           0,
           0,
           0,
           0.2,
           0,
           0,
           0.2,
           0,
           0,
           0,
           0,
           0.2,
           0,
           0,
           0,
           0,
           0.3,
           0,
           0
          ],
          [
           0,
           0.1,
           0,
           0,
           0,
           0,
           0,
           0,
           0,
           0,
           0,
           0,
           0,
           0.1,
           0,
           0,
           0,
           0,
           0,
           0,
           0,
           0,
           0,
           0,
           0.1,
           0,
           0,
           0,
           0,
           0,
           0,
           0
          ],
          [
           0,
           0,
           0,
           0,
           0,
           0,
           0,
           0.1,
           0,
           0,
           0,
           0,
           0.5,
           0,
           0,
           0,
           0.1,
           0.1,
           0,
           0,
           0,
           0,
           0,
           0,
           0,
           0,
           0,
           0,
           0,
           0,
           0,
           0.1
          ],
          [
           0,
           0.1,
           0,
           0.1,
           0,
           0,
           0,
           0,
           0,
           0,
           0,
           0,
           0,
           0.1,
           0,
           0,
           0,
           0,
           0,
           0.3,
           0,
           0,
           0,
           0,
           0.1,
           0,
           0,
           0,
           0,
           0,
           0,
           0
          ],
          [
           0,
           0,
           0,
           0.2,
           0,
           0,
           0,
           0,
           0,
           0,
           0,
           0.1,
           0,
           0,
           0,
           0,
           0,
           0,
           0,
           0,
           0,
           0,
           0.5,
           0,
           0,
           0,
           0,
           0,
           0,
           0,
           0.2,
           0
          ],
          [
           0,
           0,
           0.1,
           0,
           0,
           0.1,
           0,
           0,
           0,
           0,
           0.1,
           0,
           0,
           0,
           0,
           0,
           0,
           0,
           0,
           0,
           0,
           0,
           0,
           0,
           0,
           0,
           0,
           0,
           0,
           0,
           0,
           0.2
          ],
          [
           0,
           0,
           0,
           0,
           0,
           0,
           0,
           0,
           0,
           0.1,
           0,
           0,
           0,
           0,
           0.1,
           0,
           0.1,
           0,
           0,
           0,
           0,
           0,
           0,
           0,
           0,
           0,
           0,
           0,
           0,
           0,
           0,
           0
          ],
          [
           0,
           0,
           0,
           0,
           0,
           0,
           0,
           0,
           0,
           0,
           0,
           0.1,
           0,
           0,
           0,
           0,
           0,
           0,
           0,
           0,
           0,
           0,
           0,
           0,
           0,
           0,
           0,
           0,
           0,
           0,
           0,
           0
          ],
          [
           0,
           0,
           0,
           0,
           0,
           0,
           0,
           0,
           0,
           0,
           0,
           0,
           0,
           0,
           0,
           0,
           0,
           0,
           0,
           0,
           0,
           0,
           0,
           0,
           0,
           0,
           0,
           0,
           0.1,
           0,
           0.1,
           0.1
          ],
          [
           0,
           0,
           0,
           0,
           0,
           0,
           0,
           0,
           0,
           0,
           0,
           0,
           0,
           0,
           0,
           0,
           0.1,
           0,
           0,
           0,
           0,
           0,
           0,
           0,
           0.1,
           0,
           0,
           0,
           0,
           0,
           0,
           0
          ],
          [
           0,
           0,
           0,
           0,
           0,
           0,
           0,
           0,
           0,
           0,
           0,
           0,
           0,
           0,
           0,
           0,
           0,
           0,
           0,
           0,
           0,
           0,
           0,
           0,
           0,
           0,
           0,
           0,
           0,
           0,
           0,
           0
          ],
          [
           0,
           0,
           0,
           0.1,
           0,
           0,
           0,
           0,
           0,
           0,
           0,
           0,
           0,
           0,
           0,
           0,
           0.1,
           0,
           0,
           0,
           0,
           0,
           0,
           0,
           0,
           0,
           0,
           0,
           0,
           0,
           0,
           0
          ],
          [
           0,
           0,
           0,
           0,
           0,
           0,
           0,
           0,
           0,
           0,
           0,
           0,
           0,
           0,
           0,
           0,
           0,
           0,
           0,
           0,
           0,
           0,
           0,
           0,
           0,
           0,
           0,
           0,
           0,
           0,
           0,
           0
          ],
          [
           0,
           0,
           0,
           0,
           0,
           0,
           0,
           0,
           0,
           0,
           0,
           0,
           0,
           0,
           0,
           0,
           0,
           0,
           0,
           0,
           0,
           0,
           0,
           0,
           0,
           0,
           0,
           0,
           0,
           0,
           0,
           0
          ],
          [
           0,
           0,
           0,
           0,
           0,
           0,
           0,
           0,
           0,
           0,
           0,
           0,
           0,
           0,
           0,
           0,
           0,
           0,
           0,
           0,
           0,
           0,
           0,
           0,
           0,
           0,
           0,
           0,
           0,
           0,
           0,
           0
          ],
          [
           0,
           0,
           0,
           0,
           0,
           0,
           0,
           0,
           0,
           0,
           0,
           0,
           0,
           0,
           0,
           0,
           0,
           0,
           0,
           0,
           0,
           0,
           0,
           0,
           0,
           0,
           0,
           0,
           0,
           0,
           0,
           0
          ],
          [
           0,
           0,
           0,
           0,
           0,
           0,
           0,
           0,
           0,
           0,
           0,
           0,
           0,
           0,
           0,
           0,
           0,
           0,
           0,
           0,
           0,
           0,
           0,
           0,
           0,
           0,
           0,
           0,
           0,
           0,
           0,
           0
          ],
          [
           0,
           0,
           0,
           0,
           0,
           0,
           0,
           0,
           0,
           0,
           0,
           0,
           0,
           0,
           0,
           0,
           0,
           0,
           0,
           0,
           0,
           0,
           0,
           0,
           0,
           0,
           0,
           0,
           0,
           0,
           0,
           0
          ],
          [
           0,
           0,
           0,
           0,
           0,
           0,
           0,
           0,
           0,
           0,
           0,
           0,
           0,
           0,
           0,
           0,
           0,
           0,
           0,
           0,
           0,
           0,
           0,
           0,
           0,
           0,
           0,
           0,
           0,
           0,
           0,
           0
          ]
         ]
        }
       ],
       "layout": {
        "coloraxis": {
         "cmid": 0,
         "colorscale": [
          [
           0,
           "rgb(103,0,31)"
          ],
          [
           0.1,
           "rgb(178,24,43)"
          ],
          [
           0.2,
           "rgb(214,96,77)"
          ],
          [
           0.3,
           "rgb(244,165,130)"
          ],
          [
           0.4,
           "rgb(253,219,199)"
          ],
          [
           0.5,
           "rgb(247,247,247)"
          ],
          [
           0.6,
           "rgb(209,229,240)"
          ],
          [
           0.7,
           "rgb(146,197,222)"
          ],
          [
           0.8,
           "rgb(67,147,195)"
          ],
          [
           0.9,
           "rgb(33,102,172)"
          ],
          [
           1,
           "rgb(5,48,97)"
          ]
         ]
        },
        "template": {
         "data": {
          "bar": [
           {
            "error_x": {
             "color": "#2a3f5f"
            },
            "error_y": {
             "color": "#2a3f5f"
            },
            "marker": {
             "line": {
              "color": "#E5ECF6",
              "width": 0.5
             },
             "pattern": {
              "fillmode": "overlay",
              "size": 10,
              "solidity": 0.2
             }
            },
            "type": "bar"
           }
          ],
          "barpolar": [
           {
            "marker": {
             "line": {
              "color": "#E5ECF6",
              "width": 0.5
             },
             "pattern": {
              "fillmode": "overlay",
              "size": 10,
              "solidity": 0.2
             }
            },
            "type": "barpolar"
           }
          ],
          "carpet": [
           {
            "aaxis": {
             "endlinecolor": "#2a3f5f",
             "gridcolor": "white",
             "linecolor": "white",
             "minorgridcolor": "white",
             "startlinecolor": "#2a3f5f"
            },
            "baxis": {
             "endlinecolor": "#2a3f5f",
             "gridcolor": "white",
             "linecolor": "white",
             "minorgridcolor": "white",
             "startlinecolor": "#2a3f5f"
            },
            "type": "carpet"
           }
          ],
          "choropleth": [
           {
            "colorbar": {
             "outlinewidth": 0,
             "ticks": ""
            },
            "type": "choropleth"
           }
          ],
          "contour": [
           {
            "colorbar": {
             "outlinewidth": 0,
             "ticks": ""
            },
            "colorscale": [
             [
              0,
              "#0d0887"
             ],
             [
              0.1111111111111111,
              "#46039f"
             ],
             [
              0.2222222222222222,
              "#7201a8"
             ],
             [
              0.3333333333333333,
              "#9c179e"
             ],
             [
              0.4444444444444444,
              "#bd3786"
             ],
             [
              0.5555555555555556,
              "#d8576b"
             ],
             [
              0.6666666666666666,
              "#ed7953"
             ],
             [
              0.7777777777777778,
              "#fb9f3a"
             ],
             [
              0.8888888888888888,
              "#fdca26"
             ],
             [
              1,
              "#f0f921"
             ]
            ],
            "type": "contour"
           }
          ],
          "contourcarpet": [
           {
            "colorbar": {
             "outlinewidth": 0,
             "ticks": ""
            },
            "type": "contourcarpet"
           }
          ],
          "heatmap": [
           {
            "colorbar": {
             "outlinewidth": 0,
             "ticks": ""
            },
            "colorscale": [
             [
              0,
              "#0d0887"
             ],
             [
              0.1111111111111111,
              "#46039f"
             ],
             [
              0.2222222222222222,
              "#7201a8"
             ],
             [
              0.3333333333333333,
              "#9c179e"
             ],
             [
              0.4444444444444444,
              "#bd3786"
             ],
             [
              0.5555555555555556,
              "#d8576b"
             ],
             [
              0.6666666666666666,
              "#ed7953"
             ],
             [
              0.7777777777777778,
              "#fb9f3a"
             ],
             [
              0.8888888888888888,
              "#fdca26"
             ],
             [
              1,
              "#f0f921"
             ]
            ],
            "type": "heatmap"
           }
          ],
          "heatmapgl": [
           {
            "colorbar": {
             "outlinewidth": 0,
             "ticks": ""
            },
            "colorscale": [
             [
              0,
              "#0d0887"
             ],
             [
              0.1111111111111111,
              "#46039f"
             ],
             [
              0.2222222222222222,
              "#7201a8"
             ],
             [
              0.3333333333333333,
              "#9c179e"
             ],
             [
              0.4444444444444444,
              "#bd3786"
             ],
             [
              0.5555555555555556,
              "#d8576b"
             ],
             [
              0.6666666666666666,
              "#ed7953"
             ],
             [
              0.7777777777777778,
              "#fb9f3a"
             ],
             [
              0.8888888888888888,
              "#fdca26"
             ],
             [
              1,
              "#f0f921"
             ]
            ],
            "type": "heatmapgl"
           }
          ],
          "histogram": [
           {
            "marker": {
             "pattern": {
              "fillmode": "overlay",
              "size": 10,
              "solidity": 0.2
             }
            },
            "type": "histogram"
           }
          ],
          "histogram2d": [
           {
            "colorbar": {
             "outlinewidth": 0,
             "ticks": ""
            },
            "colorscale": [
             [
              0,
              "#0d0887"
             ],
             [
              0.1111111111111111,
              "#46039f"
             ],
             [
              0.2222222222222222,
              "#7201a8"
             ],
             [
              0.3333333333333333,
              "#9c179e"
             ],
             [
              0.4444444444444444,
              "#bd3786"
             ],
             [
              0.5555555555555556,
              "#d8576b"
             ],
             [
              0.6666666666666666,
              "#ed7953"
             ],
             [
              0.7777777777777778,
              "#fb9f3a"
             ],
             [
              0.8888888888888888,
              "#fdca26"
             ],
             [
              1,
              "#f0f921"
             ]
            ],
            "type": "histogram2d"
           }
          ],
          "histogram2dcontour": [
           {
            "colorbar": {
             "outlinewidth": 0,
             "ticks": ""
            },
            "colorscale": [
             [
              0,
              "#0d0887"
             ],
             [
              0.1111111111111111,
              "#46039f"
             ],
             [
              0.2222222222222222,
              "#7201a8"
             ],
             [
              0.3333333333333333,
              "#9c179e"
             ],
             [
              0.4444444444444444,
              "#bd3786"
             ],
             [
              0.5555555555555556,
              "#d8576b"
             ],
             [
              0.6666666666666666,
              "#ed7953"
             ],
             [
              0.7777777777777778,
              "#fb9f3a"
             ],
             [
              0.8888888888888888,
              "#fdca26"
             ],
             [
              1,
              "#f0f921"
             ]
            ],
            "type": "histogram2dcontour"
           }
          ],
          "mesh3d": [
           {
            "colorbar": {
             "outlinewidth": 0,
             "ticks": ""
            },
            "type": "mesh3d"
           }
          ],
          "parcoords": [
           {
            "line": {
             "colorbar": {
              "outlinewidth": 0,
              "ticks": ""
             }
            },
            "type": "parcoords"
           }
          ],
          "pie": [
           {
            "automargin": true,
            "type": "pie"
           }
          ],
          "scatter": [
           {
            "fillpattern": {
             "fillmode": "overlay",
             "size": 10,
             "solidity": 0.2
            },
            "type": "scatter"
           }
          ],
          "scatter3d": [
           {
            "line": {
             "colorbar": {
              "outlinewidth": 0,
              "ticks": ""
             }
            },
            "marker": {
             "colorbar": {
              "outlinewidth": 0,
              "ticks": ""
             }
            },
            "type": "scatter3d"
           }
          ],
          "scattercarpet": [
           {
            "marker": {
             "colorbar": {
              "outlinewidth": 0,
              "ticks": ""
             }
            },
            "type": "scattercarpet"
           }
          ],
          "scattergeo": [
           {
            "marker": {
             "colorbar": {
              "outlinewidth": 0,
              "ticks": ""
             }
            },
            "type": "scattergeo"
           }
          ],
          "scattergl": [
           {
            "marker": {
             "colorbar": {
              "outlinewidth": 0,
              "ticks": ""
             }
            },
            "type": "scattergl"
           }
          ],
          "scattermapbox": [
           {
            "marker": {
             "colorbar": {
              "outlinewidth": 0,
              "ticks": ""
             }
            },
            "type": "scattermapbox"
           }
          ],
          "scatterpolar": [
           {
            "marker": {
             "colorbar": {
              "outlinewidth": 0,
              "ticks": ""
             }
            },
            "type": "scatterpolar"
           }
          ],
          "scatterpolargl": [
           {
            "marker": {
             "colorbar": {
              "outlinewidth": 0,
              "ticks": ""
             }
            },
            "type": "scatterpolargl"
           }
          ],
          "scatterternary": [
           {
            "marker": {
             "colorbar": {
              "outlinewidth": 0,
              "ticks": ""
             }
            },
            "type": "scatterternary"
           }
          ],
          "surface": [
           {
            "colorbar": {
             "outlinewidth": 0,
             "ticks": ""
            },
            "colorscale": [
             [
              0,
              "#0d0887"
             ],
             [
              0.1111111111111111,
              "#46039f"
             ],
             [
              0.2222222222222222,
              "#7201a8"
             ],
             [
              0.3333333333333333,
              "#9c179e"
             ],
             [
              0.4444444444444444,
              "#bd3786"
             ],
             [
              0.5555555555555556,
              "#d8576b"
             ],
             [
              0.6666666666666666,
              "#ed7953"
             ],
             [
              0.7777777777777778,
              "#fb9f3a"
             ],
             [
              0.8888888888888888,
              "#fdca26"
             ],
             [
              1,
              "#f0f921"
             ]
            ],
            "type": "surface"
           }
          ],
          "table": [
           {
            "cells": {
             "fill": {
              "color": "#EBF0F8"
             },
             "line": {
              "color": "white"
             }
            },
            "header": {
             "fill": {
              "color": "#C8D4E3"
             },
             "line": {
              "color": "white"
             }
            },
            "type": "table"
           }
          ]
         },
         "layout": {
          "annotationdefaults": {
           "arrowcolor": "#2a3f5f",
           "arrowhead": 0,
           "arrowwidth": 1
          },
          "autotypenumbers": "strict",
          "coloraxis": {
           "colorbar": {
            "outlinewidth": 0,
            "ticks": ""
           }
          },
          "colorscale": {
           "diverging": [
            [
             0,
             "#8e0152"
            ],
            [
             0.1,
             "#c51b7d"
            ],
            [
             0.2,
             "#de77ae"
            ],
            [
             0.3,
             "#f1b6da"
            ],
            [
             0.4,
             "#fde0ef"
            ],
            [
             0.5,
             "#f7f7f7"
            ],
            [
             0.6,
             "#e6f5d0"
            ],
            [
             0.7,
             "#b8e186"
            ],
            [
             0.8,
             "#7fbc41"
            ],
            [
             0.9,
             "#4d9221"
            ],
            [
             1,
             "#276419"
            ]
           ],
           "sequential": [
            [
             0,
             "#0d0887"
            ],
            [
             0.1111111111111111,
             "#46039f"
            ],
            [
             0.2222222222222222,
             "#7201a8"
            ],
            [
             0.3333333333333333,
             "#9c179e"
            ],
            [
             0.4444444444444444,
             "#bd3786"
            ],
            [
             0.5555555555555556,
             "#d8576b"
            ],
            [
             0.6666666666666666,
             "#ed7953"
            ],
            [
             0.7777777777777778,
             "#fb9f3a"
            ],
            [
             0.8888888888888888,
             "#fdca26"
            ],
            [
             1,
             "#f0f921"
            ]
           ],
           "sequentialminus": [
            [
             0,
             "#0d0887"
            ],
            [
             0.1111111111111111,
             "#46039f"
            ],
            [
             0.2222222222222222,
             "#7201a8"
            ],
            [
             0.3333333333333333,
             "#9c179e"
            ],
            [
             0.4444444444444444,
             "#bd3786"
            ],
            [
             0.5555555555555556,
             "#d8576b"
            ],
            [
             0.6666666666666666,
             "#ed7953"
            ],
            [
             0.7777777777777778,
             "#fb9f3a"
            ],
            [
             0.8888888888888888,
             "#fdca26"
            ],
            [
             1,
             "#f0f921"
            ]
           ]
          },
          "colorway": [
           "#636efa",
           "#EF553B",
           "#00cc96",
           "#ab63fa",
           "#FFA15A",
           "#19d3f3",
           "#FF6692",
           "#B6E880",
           "#FF97FF",
           "#FECB52"
          ],
          "font": {
           "color": "#2a3f5f"
          },
          "geo": {
           "bgcolor": "white",
           "lakecolor": "white",
           "landcolor": "#E5ECF6",
           "showlakes": true,
           "showland": true,
           "subunitcolor": "white"
          },
          "hoverlabel": {
           "align": "left"
          },
          "hovermode": "closest",
          "mapbox": {
           "style": "light"
          },
          "paper_bgcolor": "white",
          "plot_bgcolor": "#E5ECF6",
          "polar": {
           "angularaxis": {
            "gridcolor": "white",
            "linecolor": "white",
            "ticks": ""
           },
           "bgcolor": "#E5ECF6",
           "radialaxis": {
            "gridcolor": "white",
            "linecolor": "white",
            "ticks": ""
           }
          },
          "scene": {
           "xaxis": {
            "backgroundcolor": "#E5ECF6",
            "gridcolor": "white",
            "gridwidth": 2,
            "linecolor": "white",
            "showbackground": true,
            "ticks": "",
            "zerolinecolor": "white"
           },
           "yaxis": {
            "backgroundcolor": "#E5ECF6",
            "gridcolor": "white",
            "gridwidth": 2,
            "linecolor": "white",
            "showbackground": true,
            "ticks": "",
            "zerolinecolor": "white"
           },
           "zaxis": {
            "backgroundcolor": "#E5ECF6",
            "gridcolor": "white",
            "gridwidth": 2,
            "linecolor": "white",
            "showbackground": true,
            "ticks": "",
            "zerolinecolor": "white"
           }
          },
          "shapedefaults": {
           "line": {
            "color": "#2a3f5f"
           }
          },
          "ternary": {
           "aaxis": {
            "gridcolor": "white",
            "linecolor": "white",
            "ticks": ""
           },
           "baxis": {
            "gridcolor": "white",
            "linecolor": "white",
            "ticks": ""
           },
           "bgcolor": "#E5ECF6",
           "caxis": {
            "gridcolor": "white",
            "linecolor": "white",
            "ticks": ""
           }
          },
          "title": {
           "x": 0.05
          },
          "xaxis": {
           "automargin": true,
           "gridcolor": "white",
           "linecolor": "white",
           "ticks": "",
           "title": {
            "standoff": 15
           },
           "zerolinecolor": "white",
           "zerolinewidth": 2
          },
          "yaxis": {
           "automargin": true,
           "gridcolor": "white",
           "linecolor": "white",
           "ticks": "",
           "title": {
            "standoff": 15
           },
           "zerolinecolor": "white",
           "zerolinewidth": 2
          }
         }
        },
        "title": {
         "text": "index 9, depth 2"
        },
        "xaxis": {
         "anchor": "y",
         "constrain": "domain",
         "domain": [
          0,
          1
         ],
         "scaleanchor": "y",
         "title": {
          "text": "Head"
         }
        },
        "yaxis": {
         "anchor": "x",
         "autorange": "reversed",
         "constrain": "domain",
         "domain": [
          0,
          1
         ],
         "title": {
          "text": "Layer"
         }
        }
       }
      },
      "text/html": [
       "<div>                            <div id=\"76f974bb-55ac-4d96-ab91-2f00cd010478\" class=\"plotly-graph-div\" style=\"height:525px; width:100%;\"></div>            <script type=\"text/javascript\">                require([\"plotly\"], function(Plotly) {                    window.PLOTLYENV=window.PLOTLYENV || {};                                    if (document.getElementById(\"76f974bb-55ac-4d96-ab91-2f00cd010478\")) {                    Plotly.newPlot(                        \"76f974bb-55ac-4d96-ab91-2f00cd010478\",                        [{\"coloraxis\":\"coloraxis\",\"name\":\"0\",\"z\":[[0.6,0.1,0.0,0.6,0.0,0.0,0.0,0.0,0.0,0.0,0.1,0.0,0.1,0.0,0.1,0.1,0.0,0.0,0.1,0.2,0.1,0.2,0.0,0.0,0.1,0.3,0.1,0.0,0.0,0.0,0.0,0.0],[0.1,0.0,0.0,0.0,0.0,0.0,0.0,0.0,0.0,0.0,0.5,0.4,0.2,0.0,0.0,0.0,0.0,0.0,0.1,0.0,0.0,0.2,0.0,0.0,0.3,0.1,0.0,0.1,0.0,0.0,0.0,0.2],[0.0,0.0,0.1,0.0,0.0,0.0,0.0,0.0,0.2,0.0,0.0,0.0,0.1,0.0,0.0,0.0,0.0,0.0,0.1,0.0,0.0,0.0,0.0,0.0,0.0,0.1,0.0,0.0,0.0,0.0,0.0,0.0],[0.3,0.0,0.1,0.1,0.0,0.0,0.0,0.0,0.3,0.0,0.0,0.0,0.0,0.3,0.0,0.0,0.0,0.0,0.0,0.0,0.0,0.1,0.0,0.0,0.0,0.0,0.3,0.0,0.0,0.0,0.0,0.1],[0.1,0.0,0.0,0.1,0.3,0.0,0.0,0.0,0.0,0.0,0.0,0.0,0.0,0.0,0.0,0.2,0.0,0.0,0.0,0.0,0.0,0.0,0.0,0.0,0.0,0.0,0.0,0.2,0.0,0.0,0.2,0.0],[0.0,0.2,0.0,0.0,0.0,0.0,0.0,0.0,0.0,0.0,0.3,0.0,0.0,0.1,0.0,0.2,0.0,0.0,0.0,0.0,0.7,0.0,0.4,0.2,0.1,0.0,0.0,0.1,0.0,0.0,0.0,0.0],[0.0,0.0,0.0,0.0,0.1,0.0,0.0,0.0,0.0,0.0,0.0,0.0,0.2,0.1,0.1,0.0,0.0,0.0,0.7,0.0,0.1,0.0,0.0,0.4,0.1,0.0,0.0,0.0,0.0,0.0,0.0,0.0],[0.1,0.0,0.0,0.0,0.0,0.0,0.0,0.0,0.0,0.0,0.0,0.0,0.0,0.1,0.0,0.1,0.0,0.1,0.0,0.0,0.0,0.0,0.0,0.0,0.5,0.0,0.0,0.0,0.3,0.0,0.0,0.4],[0.0,0.0,0.0,0.0,0.0,0.0,0.0,0.2,0.0,0.0,0.0,0.0,0.1,0.0,0.0,0.0,0.2,0.0,0.0,0.0,0.0,0.0,0.0,0.0,0.0,0.1,0.0,0.0,0.0,0.1,0.0,0.0],[0.1,0.0,0.2,0.0,0.0,0.0,0.0,0.0,0.1,0.0,0.0,0.0,0.0,0.0,0.0,0.0,0.0,0.0,0.1,0.1,0.0,0.0,0.0,0.0,0.0,0.2,0.0,0.2,0.0,0.0,0.0,0.1],[0.0,0.0,0.0,0.2,0.1,0.0,0.0,0.0,0.0,0.0,0.3,0.0,0.0,0.0,0.0,0.1,0.0,0.0,0.0,0.0,0.0,0.0,0.0,0.0,0.1,0.0,0.0,0.0,0.0,0.0,0.0,0.0],[0.0,0.0,0.2,0.0,0.0,0.0,0.0,0.0,0.0,0.0,0.0,0.0,0.0,0.0,0.0,0.1,0.0,0.1,0.7,0.0,0.0,0.0,0.0,0.0,0.0,0.3,0.0,0.0,0.0,0.1,0.1,0.0],[0.0,0.0,0.0,0.0,0.0,0.0,0.0,0.0,0.0,0.0,0.1,0.0,0.0,0.0,0.0,0.1,0.2,0.0,0.0,0.0,0.1,0.0,0.0,0.1,0.2,0.1,0.0,0.0,0.1,0.0,0.1,0.0],[0.0,0.0,0.1,0.0,0.0,0.1,0.0,0.0,0.0,0.0,0.0,0.0,0.1,0.0,0.0,0.0,0.2,0.0,0.0,0.2,0.0,0.0,0.0,0.0,0.2,0.0,0.0,0.0,0.0,0.3,0.0,0.0],[0.0,0.1,0.0,0.0,0.0,0.0,0.0,0.0,0.0,0.0,0.0,0.0,0.0,0.1,0.0,0.0,0.0,0.0,0.0,0.0,0.0,0.0,0.0,0.0,0.1,0.0,0.0,0.0,0.0,0.0,0.0,0.0],[0.0,0.0,0.0,0.0,0.0,0.0,0.0,0.1,0.0,0.0,0.0,0.0,0.5,0.0,0.0,0.0,0.1,0.1,0.0,0.0,0.0,0.0,0.0,0.0,0.0,0.0,0.0,0.0,0.0,0.0,0.0,0.1],[0.0,0.1,0.0,0.1,0.0,0.0,0.0,0.0,0.0,0.0,0.0,0.0,0.0,0.1,0.0,0.0,0.0,0.0,0.0,0.3,0.0,0.0,0.0,0.0,0.1,0.0,0.0,0.0,0.0,0.0,0.0,0.0],[0.0,0.0,0.0,0.2,0.0,0.0,0.0,0.0,0.0,0.0,0.0,0.1,0.0,0.0,0.0,0.0,0.0,0.0,0.0,0.0,0.0,0.0,0.5,0.0,0.0,0.0,0.0,0.0,0.0,0.0,0.2,0.0],[0.0,0.0,0.1,0.0,0.0,0.1,0.0,0.0,0.0,0.0,0.1,0.0,0.0,0.0,0.0,0.0,0.0,0.0,0.0,0.0,0.0,0.0,0.0,0.0,0.0,0.0,0.0,0.0,0.0,0.0,0.0,0.2],[0.0,0.0,0.0,0.0,0.0,0.0,0.0,0.0,0.0,0.1,0.0,0.0,0.0,0.0,0.1,0.0,0.1,0.0,0.0,0.0,0.0,0.0,0.0,0.0,0.0,0.0,0.0,0.0,0.0,0.0,0.0,0.0],[0.0,0.0,0.0,0.0,0.0,0.0,0.0,0.0,0.0,0.0,0.0,0.1,0.0,0.0,0.0,0.0,0.0,0.0,0.0,0.0,0.0,0.0,0.0,0.0,0.0,0.0,0.0,0.0,0.0,0.0,0.0,0.0],[0.0,0.0,0.0,0.0,0.0,0.0,0.0,0.0,0.0,0.0,0.0,0.0,0.0,0.0,0.0,0.0,0.0,0.0,0.0,0.0,0.0,0.0,0.0,0.0,0.0,0.0,0.0,0.0,0.1,0.0,0.1,0.1],[0.0,0.0,0.0,0.0,0.0,0.0,0.0,0.0,0.0,0.0,0.0,0.0,0.0,0.0,0.0,0.0,0.1,0.0,0.0,0.0,0.0,0.0,0.0,0.0,0.1,0.0,0.0,0.0,0.0,0.0,0.0,0.0],[0.0,0.0,0.0,0.0,0.0,0.0,0.0,0.0,0.0,0.0,0.0,0.0,0.0,0.0,0.0,0.0,0.0,0.0,0.0,0.0,0.0,0.0,0.0,0.0,0.0,0.0,0.0,0.0,0.0,0.0,0.0,0.0],[0.0,0.0,0.0,0.1,0.0,0.0,0.0,0.0,0.0,0.0,0.0,0.0,0.0,0.0,0.0,0.0,0.1,0.0,0.0,0.0,0.0,0.0,0.0,0.0,0.0,0.0,0.0,0.0,0.0,0.0,0.0,0.0],[0.0,0.0,0.0,0.0,0.0,0.0,0.0,0.0,0.0,0.0,0.0,0.0,0.0,0.0,0.0,0.0,0.0,0.0,0.0,0.0,0.0,0.0,0.0,0.0,0.0,0.0,0.0,0.0,0.0,0.0,0.0,0.0],[0.0,0.0,0.0,0.0,0.0,0.0,0.0,0.0,0.0,0.0,0.0,0.0,0.0,0.0,0.0,0.0,0.0,0.0,0.0,0.0,0.0,0.0,0.0,0.0,0.0,0.0,0.0,0.0,0.0,0.0,0.0,0.0],[0.0,0.0,0.0,0.0,0.0,0.0,0.0,0.0,0.0,0.0,0.0,0.0,0.0,0.0,0.0,0.0,0.0,0.0,0.0,0.0,0.0,0.0,0.0,0.0,0.0,0.0,0.0,0.0,0.0,0.0,0.0,0.0],[0.0,0.0,0.0,0.0,0.0,0.0,0.0,0.0,0.0,0.0,0.0,0.0,0.0,0.0,0.0,0.0,0.0,0.0,0.0,0.0,0.0,0.0,0.0,0.0,0.0,0.0,0.0,0.0,0.0,0.0,0.0,0.0],[0.0,0.0,0.0,0.0,0.0,0.0,0.0,0.0,0.0,0.0,0.0,0.0,0.0,0.0,0.0,0.0,0.0,0.0,0.0,0.0,0.0,0.0,0.0,0.0,0.0,0.0,0.0,0.0,0.0,0.0,0.0,0.0],[0.0,0.0,0.0,0.0,0.0,0.0,0.0,0.0,0.0,0.0,0.0,0.0,0.0,0.0,0.0,0.0,0.0,0.0,0.0,0.0,0.0,0.0,0.0,0.0,0.0,0.0,0.0,0.0,0.0,0.0,0.0,0.0],[0.0,0.0,0.0,0.0,0.0,0.0,0.0,0.0,0.0,0.0,0.0,0.0,0.0,0.0,0.0,0.0,0.0,0.0,0.0,0.0,0.0,0.0,0.0,0.0,0.0,0.0,0.0,0.0,0.0,0.0,0.0,0.0]],\"type\":\"heatmap\",\"xaxis\":\"x\",\"yaxis\":\"y\",\"hovertemplate\":\"Head: %{x}\\u003cbr\\u003eLayer: %{y}\\u003cbr\\u003ecolor: %{z}\\u003cextra\\u003e\\u003c\\u002fextra\\u003e\"}],                        {\"template\":{\"data\":{\"histogram2dcontour\":[{\"type\":\"histogram2dcontour\",\"colorbar\":{\"outlinewidth\":0,\"ticks\":\"\"},\"colorscale\":[[0.0,\"#0d0887\"],[0.1111111111111111,\"#46039f\"],[0.2222222222222222,\"#7201a8\"],[0.3333333333333333,\"#9c179e\"],[0.4444444444444444,\"#bd3786\"],[0.5555555555555556,\"#d8576b\"],[0.6666666666666666,\"#ed7953\"],[0.7777777777777778,\"#fb9f3a\"],[0.8888888888888888,\"#fdca26\"],[1.0,\"#f0f921\"]]}],\"choropleth\":[{\"type\":\"choropleth\",\"colorbar\":{\"outlinewidth\":0,\"ticks\":\"\"}}],\"histogram2d\":[{\"type\":\"histogram2d\",\"colorbar\":{\"outlinewidth\":0,\"ticks\":\"\"},\"colorscale\":[[0.0,\"#0d0887\"],[0.1111111111111111,\"#46039f\"],[0.2222222222222222,\"#7201a8\"],[0.3333333333333333,\"#9c179e\"],[0.4444444444444444,\"#bd3786\"],[0.5555555555555556,\"#d8576b\"],[0.6666666666666666,\"#ed7953\"],[0.7777777777777778,\"#fb9f3a\"],[0.8888888888888888,\"#fdca26\"],[1.0,\"#f0f921\"]]}],\"heatmap\":[{\"type\":\"heatmap\",\"colorbar\":{\"outlinewidth\":0,\"ticks\":\"\"},\"colorscale\":[[0.0,\"#0d0887\"],[0.1111111111111111,\"#46039f\"],[0.2222222222222222,\"#7201a8\"],[0.3333333333333333,\"#9c179e\"],[0.4444444444444444,\"#bd3786\"],[0.5555555555555556,\"#d8576b\"],[0.6666666666666666,\"#ed7953\"],[0.7777777777777778,\"#fb9f3a\"],[0.8888888888888888,\"#fdca26\"],[1.0,\"#f0f921\"]]}],\"heatmapgl\":[{\"type\":\"heatmapgl\",\"colorbar\":{\"outlinewidth\":0,\"ticks\":\"\"},\"colorscale\":[[0.0,\"#0d0887\"],[0.1111111111111111,\"#46039f\"],[0.2222222222222222,\"#7201a8\"],[0.3333333333333333,\"#9c179e\"],[0.4444444444444444,\"#bd3786\"],[0.5555555555555556,\"#d8576b\"],[0.6666666666666666,\"#ed7953\"],[0.7777777777777778,\"#fb9f3a\"],[0.8888888888888888,\"#fdca26\"],[1.0,\"#f0f921\"]]}],\"contourcarpet\":[{\"type\":\"contourcarpet\",\"colorbar\":{\"outlinewidth\":0,\"ticks\":\"\"}}],\"contour\":[{\"type\":\"contour\",\"colorbar\":{\"outlinewidth\":0,\"ticks\":\"\"},\"colorscale\":[[0.0,\"#0d0887\"],[0.1111111111111111,\"#46039f\"],[0.2222222222222222,\"#7201a8\"],[0.3333333333333333,\"#9c179e\"],[0.4444444444444444,\"#bd3786\"],[0.5555555555555556,\"#d8576b\"],[0.6666666666666666,\"#ed7953\"],[0.7777777777777778,\"#fb9f3a\"],[0.8888888888888888,\"#fdca26\"],[1.0,\"#f0f921\"]]}],\"surface\":[{\"type\":\"surface\",\"colorbar\":{\"outlinewidth\":0,\"ticks\":\"\"},\"colorscale\":[[0.0,\"#0d0887\"],[0.1111111111111111,\"#46039f\"],[0.2222222222222222,\"#7201a8\"],[0.3333333333333333,\"#9c179e\"],[0.4444444444444444,\"#bd3786\"],[0.5555555555555556,\"#d8576b\"],[0.6666666666666666,\"#ed7953\"],[0.7777777777777778,\"#fb9f3a\"],[0.8888888888888888,\"#fdca26\"],[1.0,\"#f0f921\"]]}],\"mesh3d\":[{\"type\":\"mesh3d\",\"colorbar\":{\"outlinewidth\":0,\"ticks\":\"\"}}],\"scatter\":[{\"fillpattern\":{\"fillmode\":\"overlay\",\"size\":10,\"solidity\":0.2},\"type\":\"scatter\"}],\"parcoords\":[{\"type\":\"parcoords\",\"line\":{\"colorbar\":{\"outlinewidth\":0,\"ticks\":\"\"}}}],\"scatterpolargl\":[{\"type\":\"scatterpolargl\",\"marker\":{\"colorbar\":{\"outlinewidth\":0,\"ticks\":\"\"}}}],\"bar\":[{\"error_x\":{\"color\":\"#2a3f5f\"},\"error_y\":{\"color\":\"#2a3f5f\"},\"marker\":{\"line\":{\"color\":\"#E5ECF6\",\"width\":0.5},\"pattern\":{\"fillmode\":\"overlay\",\"size\":10,\"solidity\":0.2}},\"type\":\"bar\"}],\"scattergeo\":[{\"type\":\"scattergeo\",\"marker\":{\"colorbar\":{\"outlinewidth\":0,\"ticks\":\"\"}}}],\"scatterpolar\":[{\"type\":\"scatterpolar\",\"marker\":{\"colorbar\":{\"outlinewidth\":0,\"ticks\":\"\"}}}],\"histogram\":[{\"marker\":{\"pattern\":{\"fillmode\":\"overlay\",\"size\":10,\"solidity\":0.2}},\"type\":\"histogram\"}],\"scattergl\":[{\"type\":\"scattergl\",\"marker\":{\"colorbar\":{\"outlinewidth\":0,\"ticks\":\"\"}}}],\"scatter3d\":[{\"type\":\"scatter3d\",\"line\":{\"colorbar\":{\"outlinewidth\":0,\"ticks\":\"\"}},\"marker\":{\"colorbar\":{\"outlinewidth\":0,\"ticks\":\"\"}}}],\"scattermapbox\":[{\"type\":\"scattermapbox\",\"marker\":{\"colorbar\":{\"outlinewidth\":0,\"ticks\":\"\"}}}],\"scatterternary\":[{\"type\":\"scatterternary\",\"marker\":{\"colorbar\":{\"outlinewidth\":0,\"ticks\":\"\"}}}],\"scattercarpet\":[{\"type\":\"scattercarpet\",\"marker\":{\"colorbar\":{\"outlinewidth\":0,\"ticks\":\"\"}}}],\"carpet\":[{\"aaxis\":{\"endlinecolor\":\"#2a3f5f\",\"gridcolor\":\"white\",\"linecolor\":\"white\",\"minorgridcolor\":\"white\",\"startlinecolor\":\"#2a3f5f\"},\"baxis\":{\"endlinecolor\":\"#2a3f5f\",\"gridcolor\":\"white\",\"linecolor\":\"white\",\"minorgridcolor\":\"white\",\"startlinecolor\":\"#2a3f5f\"},\"type\":\"carpet\"}],\"table\":[{\"cells\":{\"fill\":{\"color\":\"#EBF0F8\"},\"line\":{\"color\":\"white\"}},\"header\":{\"fill\":{\"color\":\"#C8D4E3\"},\"line\":{\"color\":\"white\"}},\"type\":\"table\"}],\"barpolar\":[{\"marker\":{\"line\":{\"color\":\"#E5ECF6\",\"width\":0.5},\"pattern\":{\"fillmode\":\"overlay\",\"size\":10,\"solidity\":0.2}},\"type\":\"barpolar\"}],\"pie\":[{\"automargin\":true,\"type\":\"pie\"}]},\"layout\":{\"autotypenumbers\":\"strict\",\"colorway\":[\"#636efa\",\"#EF553B\",\"#00cc96\",\"#ab63fa\",\"#FFA15A\",\"#19d3f3\",\"#FF6692\",\"#B6E880\",\"#FF97FF\",\"#FECB52\"],\"font\":{\"color\":\"#2a3f5f\"},\"hovermode\":\"closest\",\"hoverlabel\":{\"align\":\"left\"},\"paper_bgcolor\":\"white\",\"plot_bgcolor\":\"#E5ECF6\",\"polar\":{\"bgcolor\":\"#E5ECF6\",\"angularaxis\":{\"gridcolor\":\"white\",\"linecolor\":\"white\",\"ticks\":\"\"},\"radialaxis\":{\"gridcolor\":\"white\",\"linecolor\":\"white\",\"ticks\":\"\"}},\"ternary\":{\"bgcolor\":\"#E5ECF6\",\"aaxis\":{\"gridcolor\":\"white\",\"linecolor\":\"white\",\"ticks\":\"\"},\"baxis\":{\"gridcolor\":\"white\",\"linecolor\":\"white\",\"ticks\":\"\"},\"caxis\":{\"gridcolor\":\"white\",\"linecolor\":\"white\",\"ticks\":\"\"}},\"coloraxis\":{\"colorbar\":{\"outlinewidth\":0,\"ticks\":\"\"}},\"colorscale\":{\"sequential\":[[0.0,\"#0d0887\"],[0.1111111111111111,\"#46039f\"],[0.2222222222222222,\"#7201a8\"],[0.3333333333333333,\"#9c179e\"],[0.4444444444444444,\"#bd3786\"],[0.5555555555555556,\"#d8576b\"],[0.6666666666666666,\"#ed7953\"],[0.7777777777777778,\"#fb9f3a\"],[0.8888888888888888,\"#fdca26\"],[1.0,\"#f0f921\"]],\"sequentialminus\":[[0.0,\"#0d0887\"],[0.1111111111111111,\"#46039f\"],[0.2222222222222222,\"#7201a8\"],[0.3333333333333333,\"#9c179e\"],[0.4444444444444444,\"#bd3786\"],[0.5555555555555556,\"#d8576b\"],[0.6666666666666666,\"#ed7953\"],[0.7777777777777778,\"#fb9f3a\"],[0.8888888888888888,\"#fdca26\"],[1.0,\"#f0f921\"]],\"diverging\":[[0,\"#8e0152\"],[0.1,\"#c51b7d\"],[0.2,\"#de77ae\"],[0.3,\"#f1b6da\"],[0.4,\"#fde0ef\"],[0.5,\"#f7f7f7\"],[0.6,\"#e6f5d0\"],[0.7,\"#b8e186\"],[0.8,\"#7fbc41\"],[0.9,\"#4d9221\"],[1,\"#276419\"]]},\"xaxis\":{\"gridcolor\":\"white\",\"linecolor\":\"white\",\"ticks\":\"\",\"title\":{\"standoff\":15},\"zerolinecolor\":\"white\",\"automargin\":true,\"zerolinewidth\":2},\"yaxis\":{\"gridcolor\":\"white\",\"linecolor\":\"white\",\"ticks\":\"\",\"title\":{\"standoff\":15},\"zerolinecolor\":\"white\",\"automargin\":true,\"zerolinewidth\":2},\"scene\":{\"xaxis\":{\"backgroundcolor\":\"#E5ECF6\",\"gridcolor\":\"white\",\"linecolor\":\"white\",\"showbackground\":true,\"ticks\":\"\",\"zerolinecolor\":\"white\",\"gridwidth\":2},\"yaxis\":{\"backgroundcolor\":\"#E5ECF6\",\"gridcolor\":\"white\",\"linecolor\":\"white\",\"showbackground\":true,\"ticks\":\"\",\"zerolinecolor\":\"white\",\"gridwidth\":2},\"zaxis\":{\"backgroundcolor\":\"#E5ECF6\",\"gridcolor\":\"white\",\"linecolor\":\"white\",\"showbackground\":true,\"ticks\":\"\",\"zerolinecolor\":\"white\",\"gridwidth\":2}},\"shapedefaults\":{\"line\":{\"color\":\"#2a3f5f\"}},\"annotationdefaults\":{\"arrowcolor\":\"#2a3f5f\",\"arrowhead\":0,\"arrowwidth\":1},\"geo\":{\"bgcolor\":\"white\",\"landcolor\":\"#E5ECF6\",\"subunitcolor\":\"white\",\"showland\":true,\"showlakes\":true,\"lakecolor\":\"white\"},\"title\":{\"x\":0.05},\"mapbox\":{\"style\":\"light\"}}},\"xaxis\":{\"anchor\":\"y\",\"domain\":[0.0,1.0],\"scaleanchor\":\"y\",\"constrain\":\"domain\",\"title\":{\"text\":\"Head\"}},\"yaxis\":{\"anchor\":\"x\",\"domain\":[0.0,1.0],\"autorange\":\"reversed\",\"constrain\":\"domain\",\"title\":{\"text\":\"Layer\"}},\"coloraxis\":{\"colorscale\":[[0.0,\"rgb(103,0,31)\"],[0.1,\"rgb(178,24,43)\"],[0.2,\"rgb(214,96,77)\"],[0.3,\"rgb(244,165,130)\"],[0.4,\"rgb(253,219,199)\"],[0.5,\"rgb(247,247,247)\"],[0.6,\"rgb(209,229,240)\"],[0.7,\"rgb(146,197,222)\"],[0.8,\"rgb(67,147,195)\"],[0.9,\"rgb(33,102,172)\"],[1.0,\"rgb(5,48,97)\"]],\"cmid\":0.0},\"title\":{\"text\":\"index 9, depth 2\"}},                        {\"responsive\": true}                    ).then(function(){\n",
       "                            \n",
       "var gd = document.getElementById('76f974bb-55ac-4d96-ab91-2f00cd010478');\n",
       "var x = new MutationObserver(function (mutations, observer) {{\n",
       "        var display = window.getComputedStyle(gd).display;\n",
       "        if (!display || display === 'none') {{\n",
       "            console.log([gd, 'removed!']);\n",
       "            Plotly.purge(gd);\n",
       "            observer.disconnect();\n",
       "        }}\n",
       "}});\n",
       "\n",
       "// Listen for the removal of the full notebook cells\n",
       "var notebookContainer = gd.closest('#notebook-container');\n",
       "if (notebookContainer) {{\n",
       "    x.observe(notebookContainer, {childList: true});\n",
       "}}\n",
       "\n",
       "// Listen for the clearing of the current output cell\n",
       "var outputEl = gd.closest('.output');\n",
       "if (outputEl) {{\n",
       "    x.observe(outputEl, {childList: true});\n",
       "}}\n",
       "\n",
       "                        })                };                });            </script>        </div>"
      ]
     },
     "metadata": {},
     "output_type": "display_data"
    },
    {
     "data": {
      "application/vnd.plotly.v1+json": {
       "config": {
        "plotlyServerURL": "https://plot.ly"
       },
       "data": [
        {
         "coloraxis": "coloraxis",
         "hovertemplate": "Head: %{x}<br>Layer: %{y}<br>color: %{z}<extra></extra>",
         "name": "0",
         "type": "heatmap",
         "xaxis": "x",
         "yaxis": "y",
         "z": [
          [
           0.8,
           0.3,
           0,
           0.8,
           0,
           0,
           0,
           0,
           0,
           0,
           0,
           0.6,
           0.7,
           0,
           0.3,
           0.2,
           0,
           0,
           0.2,
           0.3,
           0.6,
           0.3,
           0,
           0,
           0.1,
           0.4,
           0.8,
           0.2,
           0,
           0,
           0,
           0
          ],
          [
           0.1,
           0,
           0.1,
           0,
           0,
           0,
           0,
           0,
           0.2,
           0,
           0.8,
           0.2,
           0.4,
           0,
           0,
           0.2,
           0,
           0,
           0.1,
           0.1,
           0,
           0.1,
           0.2,
           0,
           0.6,
           0.1,
           0,
           0.2,
           0,
           0,
           0,
           0.1
          ],
          [
           0,
           0,
           0,
           0,
           0,
           0,
           0.1,
           0,
           0.1,
           0,
           0,
           0,
           0,
           0,
           0,
           0,
           0,
           0.2,
           0,
           0.2,
           0,
           0,
           0,
           0,
           0,
           0.1,
           0,
           0,
           0,
           0,
           0,
           0
          ],
          [
           0.3,
           0,
           0.2,
           0.2,
           0,
           0,
           0.2,
           0,
           0,
           0,
           0.1,
           0,
           0,
           0.1,
           0,
           0,
           0.1,
           0,
           0,
           0.1,
           0,
           0.4,
           0,
           0,
           0,
           0,
           0.1,
           0,
           0,
           0,
           0,
           0.1
          ],
          [
           0.1,
           0,
           0,
           0.4,
           0.1,
           0,
           0,
           0,
           0,
           0,
           0,
           0,
           0,
           0.1,
           0,
           0,
           0.1,
           0,
           0,
           0,
           0,
           0,
           0,
           0.2,
           0,
           0,
           0,
           0.2,
           0,
           0,
           0,
           0
          ],
          [
           0,
           0.2,
           0,
           0,
           0,
           0.1,
           0,
           0.1,
           0,
           0,
           0.3,
           0.1,
           0,
           0,
           0,
           0.2,
           0,
           0,
           0,
           0,
           0.8,
           0.2,
           0.3,
           0.1,
           0.3,
           0.1,
           0,
           0.3,
           0.3,
           0.3,
           0,
           0
          ],
          [
           0,
           0,
           0,
           0,
           0.3,
           0.2,
           0,
           0,
           0,
           0,
           0,
           0,
           0.1,
           0.1,
           0.1,
           0,
           0,
           0,
           0.2,
           0,
           0.2,
           0,
           0,
           0.1,
           0.1,
           0,
           0,
           0.1,
           0,
           0,
           0,
           0
          ],
          [
           0.1,
           0,
           0,
           0,
           0.2,
           0,
           0,
           0,
           0,
           0,
           0,
           0,
           0,
           0.2,
           0,
           0.1,
           0,
           0,
           0,
           0,
           0,
           0,
           0,
           0,
           0.6,
           0.1,
           0,
           0,
           0.1,
           0,
           0,
           0.3
          ],
          [
           0,
           0.2,
           0,
           0,
           0.1,
           0,
           0.1,
           0,
           0,
           0,
           0,
           0,
           0.3,
           0,
           0,
           0,
           0.1,
           0,
           0,
           0,
           0,
           0,
           0.2,
           0,
           0,
           0,
           0,
           0,
           0,
           0.2,
           0,
           0.1
          ],
          [
           0,
           0,
           0,
           0,
           0,
           0,
           0,
           0,
           0,
           0,
           0,
           0,
           0,
           0.1,
           0,
           0,
           0.1,
           0,
           0,
           0.2,
           0,
           0,
           0,
           0,
           0,
           0,
           0,
           0.2,
           0,
           0,
           0.1,
           0
          ],
          [
           0,
           0.1,
           0,
           0.2,
           0,
           0,
           0,
           0,
           0,
           0,
           0,
           0,
           0,
           0,
           0,
           0,
           0,
           0,
           0,
           0,
           0,
           0,
           0,
           0,
           0.1,
           0.2,
           0,
           0,
           0,
           0,
           0,
           0
          ],
          [
           0,
           0,
           0.1,
           0,
           0,
           0,
           0,
           0,
           0,
           0,
           0,
           0,
           0,
           0,
           0,
           0.1,
           0,
           0,
           0.1,
           0.1,
           0.1,
           0,
           0,
           0,
           0.1,
           0.1,
           0,
           0,
           0,
           0,
           0.1,
           0
          ],
          [
           0.1,
           0,
           0,
           0,
           0,
           0,
           0.1,
           0,
           0,
           0,
           0,
           0,
           0.1,
           0,
           0,
           0.1,
           0.2,
           0,
           0,
           0,
           0,
           0.2,
           0,
           0,
           0,
           0,
           0,
           0,
           0,
           0,
           0,
           0
          ],
          [
           0,
           0,
           0,
           0,
           0,
           0.1,
           0,
           0.2,
           0,
           0,
           0,
           0,
           0,
           0,
           0,
           0,
           0,
           0,
           0,
           0.1,
           0,
           0,
           0,
           0.1,
           0.1,
           0,
           0,
           0,
           0,
           0,
           0,
           0
          ],
          [
           0,
           0,
           0,
           0,
           0,
           0,
           0,
           0.1,
           0,
           0,
           0,
           0,
           0,
           0,
           0,
           0,
           0,
           0,
           0,
           0,
           0,
           0,
           0,
           0,
           0,
           0,
           0,
           0,
           0,
           0,
           0,
           0
          ],
          [
           0,
           0,
           0,
           0,
           0,
           0,
           0,
           0,
           0,
           0,
           0,
           0.1,
           0.2,
           0,
           0,
           0,
           0,
           0,
           0,
           0.1,
           0,
           0,
           0,
           0,
           0,
           0,
           0,
           0,
           0,
           0,
           0,
           0
          ],
          [
           0,
           0.2,
           0,
           0,
           0,
           0,
           0,
           0,
           0,
           0,
           0,
           0,
           0,
           0,
           0,
           0,
           0,
           0,
           0,
           0.1,
           0.1,
           0,
           0,
           0,
           0,
           0,
           0,
           0,
           0,
           0,
           0,
           0
          ],
          [
           0,
           0,
           0,
           0,
           0,
           0,
           0,
           0,
           0,
           0,
           0,
           0,
           0,
           0,
           0,
           0,
           0,
           0,
           0,
           0,
           0,
           0,
           0,
           0,
           0,
           0,
           0,
           0,
           0,
           0,
           0,
           0
          ],
          [
           0,
           0,
           0,
           0,
           0,
           0,
           0,
           0,
           0,
           0,
           0,
           0,
           0,
           0,
           0,
           0,
           0,
           0,
           0,
           0,
           0,
           0,
           0,
           0,
           0,
           0,
           0,
           0,
           0.1,
           0,
           0,
           0
          ],
          [
           0,
           0,
           0,
           0,
           0,
           0,
           0,
           0,
           0,
           0,
           0,
           0,
           0,
           0,
           0.1,
           0,
           0,
           0,
           0,
           0,
           0,
           0,
           0,
           0,
           0,
           0,
           0,
           0,
           0,
           0,
           0,
           0
          ],
          [
           0,
           0,
           0,
           0,
           0,
           0,
           0,
           0,
           0,
           0,
           0,
           0,
           0,
           0,
           0,
           0,
           0,
           0,
           0,
           0,
           0,
           0,
           0,
           0,
           0,
           0,
           0,
           0,
           0,
           0,
           0,
           0
          ],
          [
           0,
           0,
           0,
           0,
           0,
           0,
           0,
           0,
           0,
           0,
           0,
           0,
           0,
           0,
           0,
           0,
           0,
           0,
           0,
           0,
           0,
           0,
           0,
           0,
           0,
           0,
           0,
           0,
           0,
           0,
           0.1,
           0
          ],
          [
           0,
           0,
           0,
           0,
           0,
           0,
           0,
           0,
           0,
           0,
           0,
           0,
           0,
           0,
           0,
           0,
           0,
           0,
           0,
           0,
           0,
           0,
           0,
           0,
           0,
           0,
           0,
           0,
           0,
           0,
           0,
           0
          ],
          [
           0,
           0,
           0,
           0,
           0,
           0,
           0,
           0,
           0,
           0,
           0,
           0,
           0,
           0,
           0,
           0,
           0,
           0,
           0,
           0,
           0,
           0,
           0,
           0,
           0,
           0,
           0,
           0,
           0,
           0,
           0,
           0
          ],
          [
           0,
           0,
           0,
           0,
           0,
           0,
           0,
           0,
           0,
           0,
           0,
           0,
           0,
           0,
           0,
           0,
           0,
           0,
           0,
           0,
           0,
           0,
           0,
           0,
           0,
           0,
           0,
           0,
           0,
           0,
           0,
           0
          ],
          [
           0,
           0,
           0,
           0,
           0,
           0,
           0,
           0,
           0,
           0,
           0,
           0,
           0,
           0,
           0,
           0,
           0,
           0,
           0,
           0,
           0,
           0,
           0,
           0,
           0,
           0,
           0,
           0,
           0,
           0,
           0,
           0
          ],
          [
           0,
           0,
           0,
           0,
           0,
           0,
           0,
           0,
           0,
           0,
           0,
           0,
           0,
           0,
           0,
           0,
           0,
           0,
           0,
           0,
           0,
           0,
           0,
           0,
           0,
           0,
           0,
           0,
           0,
           0,
           0,
           0
          ],
          [
           0,
           0,
           0,
           0,
           0,
           0,
           0,
           0,
           0,
           0,
           0,
           0,
           0,
           0,
           0,
           0,
           0,
           0,
           0,
           0,
           0,
           0,
           0,
           0,
           0,
           0,
           0,
           0,
           0,
           0,
           0,
           0
          ],
          [
           0,
           0,
           0,
           0,
           0,
           0,
           0,
           0,
           0,
           0,
           0,
           0,
           0,
           0,
           0,
           0,
           0,
           0,
           0,
           0,
           0,
           0,
           0,
           0,
           0,
           0,
           0,
           0,
           0,
           0,
           0,
           0
          ],
          [
           0,
           0,
           0,
           0,
           0,
           0,
           0,
           0,
           0,
           0,
           0,
           0,
           0,
           0,
           0,
           0,
           0,
           0,
           0,
           0,
           0,
           0,
           0,
           0,
           0,
           0,
           0,
           0,
           0,
           0,
           0,
           0
          ],
          [
           0,
           0,
           0,
           0,
           0,
           0,
           0,
           0,
           0,
           0,
           0,
           0,
           0,
           0,
           0,
           0,
           0,
           0,
           0,
           0,
           0,
           0,
           0,
           0,
           0,
           0,
           0,
           0,
           0,
           0,
           0,
           0
          ],
          [
           0,
           0,
           0,
           0,
           0,
           0,
           0,
           0,
           0,
           0,
           0,
           0,
           0,
           0,
           0,
           0,
           0,
           0,
           0,
           0,
           0,
           0,
           0,
           0,
           0,
           0,
           0,
           0,
           0,
           0,
           0,
           0
          ]
         ]
        }
       ],
       "layout": {
        "coloraxis": {
         "cmid": 0,
         "colorscale": [
          [
           0,
           "rgb(103,0,31)"
          ],
          [
           0.1,
           "rgb(178,24,43)"
          ],
          [
           0.2,
           "rgb(214,96,77)"
          ],
          [
           0.3,
           "rgb(244,165,130)"
          ],
          [
           0.4,
           "rgb(253,219,199)"
          ],
          [
           0.5,
           "rgb(247,247,247)"
          ],
          [
           0.6,
           "rgb(209,229,240)"
          ],
          [
           0.7,
           "rgb(146,197,222)"
          ],
          [
           0.8,
           "rgb(67,147,195)"
          ],
          [
           0.9,
           "rgb(33,102,172)"
          ],
          [
           1,
           "rgb(5,48,97)"
          ]
         ]
        },
        "template": {
         "data": {
          "bar": [
           {
            "error_x": {
             "color": "#2a3f5f"
            },
            "error_y": {
             "color": "#2a3f5f"
            },
            "marker": {
             "line": {
              "color": "#E5ECF6",
              "width": 0.5
             },
             "pattern": {
              "fillmode": "overlay",
              "size": 10,
              "solidity": 0.2
             }
            },
            "type": "bar"
           }
          ],
          "barpolar": [
           {
            "marker": {
             "line": {
              "color": "#E5ECF6",
              "width": 0.5
             },
             "pattern": {
              "fillmode": "overlay",
              "size": 10,
              "solidity": 0.2
             }
            },
            "type": "barpolar"
           }
          ],
          "carpet": [
           {
            "aaxis": {
             "endlinecolor": "#2a3f5f",
             "gridcolor": "white",
             "linecolor": "white",
             "minorgridcolor": "white",
             "startlinecolor": "#2a3f5f"
            },
            "baxis": {
             "endlinecolor": "#2a3f5f",
             "gridcolor": "white",
             "linecolor": "white",
             "minorgridcolor": "white",
             "startlinecolor": "#2a3f5f"
            },
            "type": "carpet"
           }
          ],
          "choropleth": [
           {
            "colorbar": {
             "outlinewidth": 0,
             "ticks": ""
            },
            "type": "choropleth"
           }
          ],
          "contour": [
           {
            "colorbar": {
             "outlinewidth": 0,
             "ticks": ""
            },
            "colorscale": [
             [
              0,
              "#0d0887"
             ],
             [
              0.1111111111111111,
              "#46039f"
             ],
             [
              0.2222222222222222,
              "#7201a8"
             ],
             [
              0.3333333333333333,
              "#9c179e"
             ],
             [
              0.4444444444444444,
              "#bd3786"
             ],
             [
              0.5555555555555556,
              "#d8576b"
             ],
             [
              0.6666666666666666,
              "#ed7953"
             ],
             [
              0.7777777777777778,
              "#fb9f3a"
             ],
             [
              0.8888888888888888,
              "#fdca26"
             ],
             [
              1,
              "#f0f921"
             ]
            ],
            "type": "contour"
           }
          ],
          "contourcarpet": [
           {
            "colorbar": {
             "outlinewidth": 0,
             "ticks": ""
            },
            "type": "contourcarpet"
           }
          ],
          "heatmap": [
           {
            "colorbar": {
             "outlinewidth": 0,
             "ticks": ""
            },
            "colorscale": [
             [
              0,
              "#0d0887"
             ],
             [
              0.1111111111111111,
              "#46039f"
             ],
             [
              0.2222222222222222,
              "#7201a8"
             ],
             [
              0.3333333333333333,
              "#9c179e"
             ],
             [
              0.4444444444444444,
              "#bd3786"
             ],
             [
              0.5555555555555556,
              "#d8576b"
             ],
             [
              0.6666666666666666,
              "#ed7953"
             ],
             [
              0.7777777777777778,
              "#fb9f3a"
             ],
             [
              0.8888888888888888,
              "#fdca26"
             ],
             [
              1,
              "#f0f921"
             ]
            ],
            "type": "heatmap"
           }
          ],
          "heatmapgl": [
           {
            "colorbar": {
             "outlinewidth": 0,
             "ticks": ""
            },
            "colorscale": [
             [
              0,
              "#0d0887"
             ],
             [
              0.1111111111111111,
              "#46039f"
             ],
             [
              0.2222222222222222,
              "#7201a8"
             ],
             [
              0.3333333333333333,
              "#9c179e"
             ],
             [
              0.4444444444444444,
              "#bd3786"
             ],
             [
              0.5555555555555556,
              "#d8576b"
             ],
             [
              0.6666666666666666,
              "#ed7953"
             ],
             [
              0.7777777777777778,
              "#fb9f3a"
             ],
             [
              0.8888888888888888,
              "#fdca26"
             ],
             [
              1,
              "#f0f921"
             ]
            ],
            "type": "heatmapgl"
           }
          ],
          "histogram": [
           {
            "marker": {
             "pattern": {
              "fillmode": "overlay",
              "size": 10,
              "solidity": 0.2
             }
            },
            "type": "histogram"
           }
          ],
          "histogram2d": [
           {
            "colorbar": {
             "outlinewidth": 0,
             "ticks": ""
            },
            "colorscale": [
             [
              0,
              "#0d0887"
             ],
             [
              0.1111111111111111,
              "#46039f"
             ],
             [
              0.2222222222222222,
              "#7201a8"
             ],
             [
              0.3333333333333333,
              "#9c179e"
             ],
             [
              0.4444444444444444,
              "#bd3786"
             ],
             [
              0.5555555555555556,
              "#d8576b"
             ],
             [
              0.6666666666666666,
              "#ed7953"
             ],
             [
              0.7777777777777778,
              "#fb9f3a"
             ],
             [
              0.8888888888888888,
              "#fdca26"
             ],
             [
              1,
              "#f0f921"
             ]
            ],
            "type": "histogram2d"
           }
          ],
          "histogram2dcontour": [
           {
            "colorbar": {
             "outlinewidth": 0,
             "ticks": ""
            },
            "colorscale": [
             [
              0,
              "#0d0887"
             ],
             [
              0.1111111111111111,
              "#46039f"
             ],
             [
              0.2222222222222222,
              "#7201a8"
             ],
             [
              0.3333333333333333,
              "#9c179e"
             ],
             [
              0.4444444444444444,
              "#bd3786"
             ],
             [
              0.5555555555555556,
              "#d8576b"
             ],
             [
              0.6666666666666666,
              "#ed7953"
             ],
             [
              0.7777777777777778,
              "#fb9f3a"
             ],
             [
              0.8888888888888888,
              "#fdca26"
             ],
             [
              1,
              "#f0f921"
             ]
            ],
            "type": "histogram2dcontour"
           }
          ],
          "mesh3d": [
           {
            "colorbar": {
             "outlinewidth": 0,
             "ticks": ""
            },
            "type": "mesh3d"
           }
          ],
          "parcoords": [
           {
            "line": {
             "colorbar": {
              "outlinewidth": 0,
              "ticks": ""
             }
            },
            "type": "parcoords"
           }
          ],
          "pie": [
           {
            "automargin": true,
            "type": "pie"
           }
          ],
          "scatter": [
           {
            "fillpattern": {
             "fillmode": "overlay",
             "size": 10,
             "solidity": 0.2
            },
            "type": "scatter"
           }
          ],
          "scatter3d": [
           {
            "line": {
             "colorbar": {
              "outlinewidth": 0,
              "ticks": ""
             }
            },
            "marker": {
             "colorbar": {
              "outlinewidth": 0,
              "ticks": ""
             }
            },
            "type": "scatter3d"
           }
          ],
          "scattercarpet": [
           {
            "marker": {
             "colorbar": {
              "outlinewidth": 0,
              "ticks": ""
             }
            },
            "type": "scattercarpet"
           }
          ],
          "scattergeo": [
           {
            "marker": {
             "colorbar": {
              "outlinewidth": 0,
              "ticks": ""
             }
            },
            "type": "scattergeo"
           }
          ],
          "scattergl": [
           {
            "marker": {
             "colorbar": {
              "outlinewidth": 0,
              "ticks": ""
             }
            },
            "type": "scattergl"
           }
          ],
          "scattermapbox": [
           {
            "marker": {
             "colorbar": {
              "outlinewidth": 0,
              "ticks": ""
             }
            },
            "type": "scattermapbox"
           }
          ],
          "scatterpolar": [
           {
            "marker": {
             "colorbar": {
              "outlinewidth": 0,
              "ticks": ""
             }
            },
            "type": "scatterpolar"
           }
          ],
          "scatterpolargl": [
           {
            "marker": {
             "colorbar": {
              "outlinewidth": 0,
              "ticks": ""
             }
            },
            "type": "scatterpolargl"
           }
          ],
          "scatterternary": [
           {
            "marker": {
             "colorbar": {
              "outlinewidth": 0,
              "ticks": ""
             }
            },
            "type": "scatterternary"
           }
          ],
          "surface": [
           {
            "colorbar": {
             "outlinewidth": 0,
             "ticks": ""
            },
            "colorscale": [
             [
              0,
              "#0d0887"
             ],
             [
              0.1111111111111111,
              "#46039f"
             ],
             [
              0.2222222222222222,
              "#7201a8"
             ],
             [
              0.3333333333333333,
              "#9c179e"
             ],
             [
              0.4444444444444444,
              "#bd3786"
             ],
             [
              0.5555555555555556,
              "#d8576b"
             ],
             [
              0.6666666666666666,
              "#ed7953"
             ],
             [
              0.7777777777777778,
              "#fb9f3a"
             ],
             [
              0.8888888888888888,
              "#fdca26"
             ],
             [
              1,
              "#f0f921"
             ]
            ],
            "type": "surface"
           }
          ],
          "table": [
           {
            "cells": {
             "fill": {
              "color": "#EBF0F8"
             },
             "line": {
              "color": "white"
             }
            },
            "header": {
             "fill": {
              "color": "#C8D4E3"
             },
             "line": {
              "color": "white"
             }
            },
            "type": "table"
           }
          ]
         },
         "layout": {
          "annotationdefaults": {
           "arrowcolor": "#2a3f5f",
           "arrowhead": 0,
           "arrowwidth": 1
          },
          "autotypenumbers": "strict",
          "coloraxis": {
           "colorbar": {
            "outlinewidth": 0,
            "ticks": ""
           }
          },
          "colorscale": {
           "diverging": [
            [
             0,
             "#8e0152"
            ],
            [
             0.1,
             "#c51b7d"
            ],
            [
             0.2,
             "#de77ae"
            ],
            [
             0.3,
             "#f1b6da"
            ],
            [
             0.4,
             "#fde0ef"
            ],
            [
             0.5,
             "#f7f7f7"
            ],
            [
             0.6,
             "#e6f5d0"
            ],
            [
             0.7,
             "#b8e186"
            ],
            [
             0.8,
             "#7fbc41"
            ],
            [
             0.9,
             "#4d9221"
            ],
            [
             1,
             "#276419"
            ]
           ],
           "sequential": [
            [
             0,
             "#0d0887"
            ],
            [
             0.1111111111111111,
             "#46039f"
            ],
            [
             0.2222222222222222,
             "#7201a8"
            ],
            [
             0.3333333333333333,
             "#9c179e"
            ],
            [
             0.4444444444444444,
             "#bd3786"
            ],
            [
             0.5555555555555556,
             "#d8576b"
            ],
            [
             0.6666666666666666,
             "#ed7953"
            ],
            [
             0.7777777777777778,
             "#fb9f3a"
            ],
            [
             0.8888888888888888,
             "#fdca26"
            ],
            [
             1,
             "#f0f921"
            ]
           ],
           "sequentialminus": [
            [
             0,
             "#0d0887"
            ],
            [
             0.1111111111111111,
             "#46039f"
            ],
            [
             0.2222222222222222,
             "#7201a8"
            ],
            [
             0.3333333333333333,
             "#9c179e"
            ],
            [
             0.4444444444444444,
             "#bd3786"
            ],
            [
             0.5555555555555556,
             "#d8576b"
            ],
            [
             0.6666666666666666,
             "#ed7953"
            ],
            [
             0.7777777777777778,
             "#fb9f3a"
            ],
            [
             0.8888888888888888,
             "#fdca26"
            ],
            [
             1,
             "#f0f921"
            ]
           ]
          },
          "colorway": [
           "#636efa",
           "#EF553B",
           "#00cc96",
           "#ab63fa",
           "#FFA15A",
           "#19d3f3",
           "#FF6692",
           "#B6E880",
           "#FF97FF",
           "#FECB52"
          ],
          "font": {
           "color": "#2a3f5f"
          },
          "geo": {
           "bgcolor": "white",
           "lakecolor": "white",
           "landcolor": "#E5ECF6",
           "showlakes": true,
           "showland": true,
           "subunitcolor": "white"
          },
          "hoverlabel": {
           "align": "left"
          },
          "hovermode": "closest",
          "mapbox": {
           "style": "light"
          },
          "paper_bgcolor": "white",
          "plot_bgcolor": "#E5ECF6",
          "polar": {
           "angularaxis": {
            "gridcolor": "white",
            "linecolor": "white",
            "ticks": ""
           },
           "bgcolor": "#E5ECF6",
           "radialaxis": {
            "gridcolor": "white",
            "linecolor": "white",
            "ticks": ""
           }
          },
          "scene": {
           "xaxis": {
            "backgroundcolor": "#E5ECF6",
            "gridcolor": "white",
            "gridwidth": 2,
            "linecolor": "white",
            "showbackground": true,
            "ticks": "",
            "zerolinecolor": "white"
           },
           "yaxis": {
            "backgroundcolor": "#E5ECF6",
            "gridcolor": "white",
            "gridwidth": 2,
            "linecolor": "white",
            "showbackground": true,
            "ticks": "",
            "zerolinecolor": "white"
           },
           "zaxis": {
            "backgroundcolor": "#E5ECF6",
            "gridcolor": "white",
            "gridwidth": 2,
            "linecolor": "white",
            "showbackground": true,
            "ticks": "",
            "zerolinecolor": "white"
           }
          },
          "shapedefaults": {
           "line": {
            "color": "#2a3f5f"
           }
          },
          "ternary": {
           "aaxis": {
            "gridcolor": "white",
            "linecolor": "white",
            "ticks": ""
           },
           "baxis": {
            "gridcolor": "white",
            "linecolor": "white",
            "ticks": ""
           },
           "bgcolor": "#E5ECF6",
           "caxis": {
            "gridcolor": "white",
            "linecolor": "white",
            "ticks": ""
           }
          },
          "title": {
           "x": 0.05
          },
          "xaxis": {
           "automargin": true,
           "gridcolor": "white",
           "linecolor": "white",
           "ticks": "",
           "title": {
            "standoff": 15
           },
           "zerolinecolor": "white",
           "zerolinewidth": 2
          },
          "yaxis": {
           "automargin": true,
           "gridcolor": "white",
           "linecolor": "white",
           "ticks": "",
           "title": {
            "standoff": 15
           },
           "zerolinecolor": "white",
           "zerolinewidth": 2
          }
         }
        },
        "title": {
         "text": "index 9, depth 3"
        },
        "xaxis": {
         "anchor": "y",
         "constrain": "domain",
         "domain": [
          0,
          1
         ],
         "scaleanchor": "y",
         "title": {
          "text": "Head"
         }
        },
        "yaxis": {
         "anchor": "x",
         "autorange": "reversed",
         "constrain": "domain",
         "domain": [
          0,
          1
         ],
         "title": {
          "text": "Layer"
         }
        }
       }
      },
      "text/html": [
       "<div>                            <div id=\"8ad11c2d-a64b-4e24-a369-d9797a8f1274\" class=\"plotly-graph-div\" style=\"height:525px; width:100%;\"></div>            <script type=\"text/javascript\">                require([\"plotly\"], function(Plotly) {                    window.PLOTLYENV=window.PLOTLYENV || {};                                    if (document.getElementById(\"8ad11c2d-a64b-4e24-a369-d9797a8f1274\")) {                    Plotly.newPlot(                        \"8ad11c2d-a64b-4e24-a369-d9797a8f1274\",                        [{\"coloraxis\":\"coloraxis\",\"name\":\"0\",\"z\":[[0.8,0.3,0.0,0.8,0.0,0.0,0.0,0.0,0.0,0.0,0.0,0.6,0.7,0.0,0.3,0.2,0.0,0.0,0.2,0.3,0.6,0.3,0.0,0.0,0.1,0.4,0.8,0.2,0.0,0.0,0.0,0.0],[0.1,0.0,0.1,0.0,0.0,0.0,0.0,0.0,0.2,0.0,0.8,0.2,0.4,0.0,0.0,0.2,0.0,0.0,0.1,0.1,0.0,0.1,0.2,0.0,0.6,0.1,0.0,0.2,0.0,0.0,0.0,0.1],[0.0,0.0,0.0,0.0,0.0,0.0,0.1,0.0,0.1,0.0,0.0,0.0,0.0,0.0,0.0,0.0,0.0,0.2,0.0,0.2,0.0,0.0,0.0,0.0,0.0,0.1,0.0,0.0,0.0,0.0,0.0,0.0],[0.3,0.0,0.2,0.2,0.0,0.0,0.2,0.0,0.0,0.0,0.1,0.0,0.0,0.1,0.0,0.0,0.1,0.0,0.0,0.1,0.0,0.4,0.0,0.0,0.0,0.0,0.1,0.0,0.0,0.0,0.0,0.1],[0.1,0.0,0.0,0.4,0.1,0.0,0.0,0.0,0.0,0.0,0.0,0.0,0.0,0.1,0.0,0.0,0.1,0.0,0.0,0.0,0.0,0.0,0.0,0.2,0.0,0.0,0.0,0.2,0.0,0.0,0.0,0.0],[0.0,0.2,0.0,0.0,0.0,0.1,0.0,0.1,0.0,0.0,0.3,0.1,0.0,0.0,0.0,0.2,0.0,0.0,0.0,0.0,0.8,0.2,0.3,0.1,0.3,0.1,0.0,0.3,0.3,0.3,0.0,0.0],[0.0,0.0,0.0,0.0,0.3,0.2,0.0,0.0,0.0,0.0,0.0,0.0,0.1,0.1,0.1,0.0,0.0,0.0,0.2,0.0,0.2,0.0,0.0,0.1,0.1,0.0,0.0,0.1,0.0,0.0,0.0,0.0],[0.1,0.0,0.0,0.0,0.2,0.0,0.0,0.0,0.0,0.0,0.0,0.0,0.0,0.2,0.0,0.1,0.0,0.0,0.0,0.0,0.0,0.0,0.0,0.0,0.6,0.1,0.0,0.0,0.1,0.0,0.0,0.3],[0.0,0.2,0.0,0.0,0.1,0.0,0.1,0.0,0.0,0.0,0.0,0.0,0.3,0.0,0.0,0.0,0.1,0.0,0.0,0.0,0.0,0.0,0.2,0.0,0.0,0.0,0.0,0.0,0.0,0.2,0.0,0.1],[0.0,0.0,0.0,0.0,0.0,0.0,0.0,0.0,0.0,0.0,0.0,0.0,0.0,0.1,0.0,0.0,0.1,0.0,0.0,0.2,0.0,0.0,0.0,0.0,0.0,0.0,0.0,0.2,0.0,0.0,0.1,0.0],[0.0,0.1,0.0,0.2,0.0,0.0,0.0,0.0,0.0,0.0,0.0,0.0,0.0,0.0,0.0,0.0,0.0,0.0,0.0,0.0,0.0,0.0,0.0,0.0,0.1,0.2,0.0,0.0,0.0,0.0,0.0,0.0],[0.0,0.0,0.1,0.0,0.0,0.0,0.0,0.0,0.0,0.0,0.0,0.0,0.0,0.0,0.0,0.1,0.0,0.0,0.1,0.1,0.1,0.0,0.0,0.0,0.1,0.1,0.0,0.0,0.0,0.0,0.1,0.0],[0.1,0.0,0.0,0.0,0.0,0.0,0.1,0.0,0.0,0.0,0.0,0.0,0.1,0.0,0.0,0.1,0.2,0.0,0.0,0.0,0.0,0.2,0.0,0.0,0.0,0.0,0.0,0.0,0.0,0.0,0.0,0.0],[0.0,0.0,0.0,0.0,0.0,0.1,0.0,0.2,0.0,0.0,0.0,0.0,0.0,0.0,0.0,0.0,0.0,0.0,0.0,0.1,0.0,0.0,0.0,0.1,0.1,0.0,0.0,0.0,0.0,0.0,0.0,0.0],[0.0,0.0,0.0,0.0,0.0,0.0,0.0,0.1,0.0,0.0,0.0,0.0,0.0,0.0,0.0,0.0,0.0,0.0,0.0,0.0,0.0,0.0,0.0,0.0,0.0,0.0,0.0,0.0,0.0,0.0,0.0,0.0],[0.0,0.0,0.0,0.0,0.0,0.0,0.0,0.0,0.0,0.0,0.0,0.1,0.2,0.0,0.0,0.0,0.0,0.0,0.0,0.1,0.0,0.0,0.0,0.0,0.0,0.0,0.0,0.0,0.0,0.0,0.0,0.0],[0.0,0.2,0.0,0.0,0.0,0.0,0.0,0.0,0.0,0.0,0.0,0.0,0.0,0.0,0.0,0.0,0.0,0.0,0.0,0.1,0.1,0.0,0.0,0.0,0.0,0.0,0.0,0.0,0.0,0.0,0.0,0.0],[0.0,0.0,0.0,0.0,0.0,0.0,0.0,0.0,0.0,0.0,0.0,0.0,0.0,0.0,0.0,0.0,0.0,0.0,0.0,0.0,0.0,0.0,0.0,0.0,0.0,0.0,0.0,0.0,0.0,0.0,0.0,0.0],[0.0,0.0,0.0,0.0,0.0,0.0,0.0,0.0,0.0,0.0,0.0,0.0,0.0,0.0,0.0,0.0,0.0,0.0,0.0,0.0,0.0,0.0,0.0,0.0,0.0,0.0,0.0,0.0,0.1,0.0,0.0,0.0],[0.0,0.0,0.0,0.0,0.0,0.0,0.0,0.0,0.0,0.0,0.0,0.0,0.0,0.0,0.1,0.0,0.0,0.0,0.0,0.0,0.0,0.0,0.0,0.0,0.0,0.0,0.0,0.0,0.0,0.0,0.0,0.0],[0.0,0.0,0.0,0.0,0.0,0.0,0.0,0.0,0.0,0.0,0.0,0.0,0.0,0.0,0.0,0.0,0.0,0.0,0.0,0.0,0.0,0.0,0.0,0.0,0.0,0.0,0.0,0.0,0.0,0.0,0.0,0.0],[0.0,0.0,0.0,0.0,0.0,0.0,0.0,0.0,0.0,0.0,0.0,0.0,0.0,0.0,0.0,0.0,0.0,0.0,0.0,0.0,0.0,0.0,0.0,0.0,0.0,0.0,0.0,0.0,0.0,0.0,0.1,0.0],[0.0,0.0,0.0,0.0,0.0,0.0,0.0,0.0,0.0,0.0,0.0,0.0,0.0,0.0,0.0,0.0,0.0,0.0,0.0,0.0,0.0,0.0,0.0,0.0,0.0,0.0,0.0,0.0,0.0,0.0,0.0,0.0],[0.0,0.0,0.0,0.0,0.0,0.0,0.0,0.0,0.0,0.0,0.0,0.0,0.0,0.0,0.0,0.0,0.0,0.0,0.0,0.0,0.0,0.0,0.0,0.0,0.0,0.0,0.0,0.0,0.0,0.0,0.0,0.0],[0.0,0.0,0.0,0.0,0.0,0.0,0.0,0.0,0.0,0.0,0.0,0.0,0.0,0.0,0.0,0.0,0.0,0.0,0.0,0.0,0.0,0.0,0.0,0.0,0.0,0.0,0.0,0.0,0.0,0.0,0.0,0.0],[0.0,0.0,0.0,0.0,0.0,0.0,0.0,0.0,0.0,0.0,0.0,0.0,0.0,0.0,0.0,0.0,0.0,0.0,0.0,0.0,0.0,0.0,0.0,0.0,0.0,0.0,0.0,0.0,0.0,0.0,0.0,0.0],[0.0,0.0,0.0,0.0,0.0,0.0,0.0,0.0,0.0,0.0,0.0,0.0,0.0,0.0,0.0,0.0,0.0,0.0,0.0,0.0,0.0,0.0,0.0,0.0,0.0,0.0,0.0,0.0,0.0,0.0,0.0,0.0],[0.0,0.0,0.0,0.0,0.0,0.0,0.0,0.0,0.0,0.0,0.0,0.0,0.0,0.0,0.0,0.0,0.0,0.0,0.0,0.0,0.0,0.0,0.0,0.0,0.0,0.0,0.0,0.0,0.0,0.0,0.0,0.0],[0.0,0.0,0.0,0.0,0.0,0.0,0.0,0.0,0.0,0.0,0.0,0.0,0.0,0.0,0.0,0.0,0.0,0.0,0.0,0.0,0.0,0.0,0.0,0.0,0.0,0.0,0.0,0.0,0.0,0.0,0.0,0.0],[0.0,0.0,0.0,0.0,0.0,0.0,0.0,0.0,0.0,0.0,0.0,0.0,0.0,0.0,0.0,0.0,0.0,0.0,0.0,0.0,0.0,0.0,0.0,0.0,0.0,0.0,0.0,0.0,0.0,0.0,0.0,0.0],[0.0,0.0,0.0,0.0,0.0,0.0,0.0,0.0,0.0,0.0,0.0,0.0,0.0,0.0,0.0,0.0,0.0,0.0,0.0,0.0,0.0,0.0,0.0,0.0,0.0,0.0,0.0,0.0,0.0,0.0,0.0,0.0],[0.0,0.0,0.0,0.0,0.0,0.0,0.0,0.0,0.0,0.0,0.0,0.0,0.0,0.0,0.0,0.0,0.0,0.0,0.0,0.0,0.0,0.0,0.0,0.0,0.0,0.0,0.0,0.0,0.0,0.0,0.0,0.0]],\"type\":\"heatmap\",\"xaxis\":\"x\",\"yaxis\":\"y\",\"hovertemplate\":\"Head: %{x}\\u003cbr\\u003eLayer: %{y}\\u003cbr\\u003ecolor: %{z}\\u003cextra\\u003e\\u003c\\u002fextra\\u003e\"}],                        {\"template\":{\"data\":{\"histogram2dcontour\":[{\"type\":\"histogram2dcontour\",\"colorbar\":{\"outlinewidth\":0,\"ticks\":\"\"},\"colorscale\":[[0.0,\"#0d0887\"],[0.1111111111111111,\"#46039f\"],[0.2222222222222222,\"#7201a8\"],[0.3333333333333333,\"#9c179e\"],[0.4444444444444444,\"#bd3786\"],[0.5555555555555556,\"#d8576b\"],[0.6666666666666666,\"#ed7953\"],[0.7777777777777778,\"#fb9f3a\"],[0.8888888888888888,\"#fdca26\"],[1.0,\"#f0f921\"]]}],\"choropleth\":[{\"type\":\"choropleth\",\"colorbar\":{\"outlinewidth\":0,\"ticks\":\"\"}}],\"histogram2d\":[{\"type\":\"histogram2d\",\"colorbar\":{\"outlinewidth\":0,\"ticks\":\"\"},\"colorscale\":[[0.0,\"#0d0887\"],[0.1111111111111111,\"#46039f\"],[0.2222222222222222,\"#7201a8\"],[0.3333333333333333,\"#9c179e\"],[0.4444444444444444,\"#bd3786\"],[0.5555555555555556,\"#d8576b\"],[0.6666666666666666,\"#ed7953\"],[0.7777777777777778,\"#fb9f3a\"],[0.8888888888888888,\"#fdca26\"],[1.0,\"#f0f921\"]]}],\"heatmap\":[{\"type\":\"heatmap\",\"colorbar\":{\"outlinewidth\":0,\"ticks\":\"\"},\"colorscale\":[[0.0,\"#0d0887\"],[0.1111111111111111,\"#46039f\"],[0.2222222222222222,\"#7201a8\"],[0.3333333333333333,\"#9c179e\"],[0.4444444444444444,\"#bd3786\"],[0.5555555555555556,\"#d8576b\"],[0.6666666666666666,\"#ed7953\"],[0.7777777777777778,\"#fb9f3a\"],[0.8888888888888888,\"#fdca26\"],[1.0,\"#f0f921\"]]}],\"heatmapgl\":[{\"type\":\"heatmapgl\",\"colorbar\":{\"outlinewidth\":0,\"ticks\":\"\"},\"colorscale\":[[0.0,\"#0d0887\"],[0.1111111111111111,\"#46039f\"],[0.2222222222222222,\"#7201a8\"],[0.3333333333333333,\"#9c179e\"],[0.4444444444444444,\"#bd3786\"],[0.5555555555555556,\"#d8576b\"],[0.6666666666666666,\"#ed7953\"],[0.7777777777777778,\"#fb9f3a\"],[0.8888888888888888,\"#fdca26\"],[1.0,\"#f0f921\"]]}],\"contourcarpet\":[{\"type\":\"contourcarpet\",\"colorbar\":{\"outlinewidth\":0,\"ticks\":\"\"}}],\"contour\":[{\"type\":\"contour\",\"colorbar\":{\"outlinewidth\":0,\"ticks\":\"\"},\"colorscale\":[[0.0,\"#0d0887\"],[0.1111111111111111,\"#46039f\"],[0.2222222222222222,\"#7201a8\"],[0.3333333333333333,\"#9c179e\"],[0.4444444444444444,\"#bd3786\"],[0.5555555555555556,\"#d8576b\"],[0.6666666666666666,\"#ed7953\"],[0.7777777777777778,\"#fb9f3a\"],[0.8888888888888888,\"#fdca26\"],[1.0,\"#f0f921\"]]}],\"surface\":[{\"type\":\"surface\",\"colorbar\":{\"outlinewidth\":0,\"ticks\":\"\"},\"colorscale\":[[0.0,\"#0d0887\"],[0.1111111111111111,\"#46039f\"],[0.2222222222222222,\"#7201a8\"],[0.3333333333333333,\"#9c179e\"],[0.4444444444444444,\"#bd3786\"],[0.5555555555555556,\"#d8576b\"],[0.6666666666666666,\"#ed7953\"],[0.7777777777777778,\"#fb9f3a\"],[0.8888888888888888,\"#fdca26\"],[1.0,\"#f0f921\"]]}],\"mesh3d\":[{\"type\":\"mesh3d\",\"colorbar\":{\"outlinewidth\":0,\"ticks\":\"\"}}],\"scatter\":[{\"fillpattern\":{\"fillmode\":\"overlay\",\"size\":10,\"solidity\":0.2},\"type\":\"scatter\"}],\"parcoords\":[{\"type\":\"parcoords\",\"line\":{\"colorbar\":{\"outlinewidth\":0,\"ticks\":\"\"}}}],\"scatterpolargl\":[{\"type\":\"scatterpolargl\",\"marker\":{\"colorbar\":{\"outlinewidth\":0,\"ticks\":\"\"}}}],\"bar\":[{\"error_x\":{\"color\":\"#2a3f5f\"},\"error_y\":{\"color\":\"#2a3f5f\"},\"marker\":{\"line\":{\"color\":\"#E5ECF6\",\"width\":0.5},\"pattern\":{\"fillmode\":\"overlay\",\"size\":10,\"solidity\":0.2}},\"type\":\"bar\"}],\"scattergeo\":[{\"type\":\"scattergeo\",\"marker\":{\"colorbar\":{\"outlinewidth\":0,\"ticks\":\"\"}}}],\"scatterpolar\":[{\"type\":\"scatterpolar\",\"marker\":{\"colorbar\":{\"outlinewidth\":0,\"ticks\":\"\"}}}],\"histogram\":[{\"marker\":{\"pattern\":{\"fillmode\":\"overlay\",\"size\":10,\"solidity\":0.2}},\"type\":\"histogram\"}],\"scattergl\":[{\"type\":\"scattergl\",\"marker\":{\"colorbar\":{\"outlinewidth\":0,\"ticks\":\"\"}}}],\"scatter3d\":[{\"type\":\"scatter3d\",\"line\":{\"colorbar\":{\"outlinewidth\":0,\"ticks\":\"\"}},\"marker\":{\"colorbar\":{\"outlinewidth\":0,\"ticks\":\"\"}}}],\"scattermapbox\":[{\"type\":\"scattermapbox\",\"marker\":{\"colorbar\":{\"outlinewidth\":0,\"ticks\":\"\"}}}],\"scatterternary\":[{\"type\":\"scatterternary\",\"marker\":{\"colorbar\":{\"outlinewidth\":0,\"ticks\":\"\"}}}],\"scattercarpet\":[{\"type\":\"scattercarpet\",\"marker\":{\"colorbar\":{\"outlinewidth\":0,\"ticks\":\"\"}}}],\"carpet\":[{\"aaxis\":{\"endlinecolor\":\"#2a3f5f\",\"gridcolor\":\"white\",\"linecolor\":\"white\",\"minorgridcolor\":\"white\",\"startlinecolor\":\"#2a3f5f\"},\"baxis\":{\"endlinecolor\":\"#2a3f5f\",\"gridcolor\":\"white\",\"linecolor\":\"white\",\"minorgridcolor\":\"white\",\"startlinecolor\":\"#2a3f5f\"},\"type\":\"carpet\"}],\"table\":[{\"cells\":{\"fill\":{\"color\":\"#EBF0F8\"},\"line\":{\"color\":\"white\"}},\"header\":{\"fill\":{\"color\":\"#C8D4E3\"},\"line\":{\"color\":\"white\"}},\"type\":\"table\"}],\"barpolar\":[{\"marker\":{\"line\":{\"color\":\"#E5ECF6\",\"width\":0.5},\"pattern\":{\"fillmode\":\"overlay\",\"size\":10,\"solidity\":0.2}},\"type\":\"barpolar\"}],\"pie\":[{\"automargin\":true,\"type\":\"pie\"}]},\"layout\":{\"autotypenumbers\":\"strict\",\"colorway\":[\"#636efa\",\"#EF553B\",\"#00cc96\",\"#ab63fa\",\"#FFA15A\",\"#19d3f3\",\"#FF6692\",\"#B6E880\",\"#FF97FF\",\"#FECB52\"],\"font\":{\"color\":\"#2a3f5f\"},\"hovermode\":\"closest\",\"hoverlabel\":{\"align\":\"left\"},\"paper_bgcolor\":\"white\",\"plot_bgcolor\":\"#E5ECF6\",\"polar\":{\"bgcolor\":\"#E5ECF6\",\"angularaxis\":{\"gridcolor\":\"white\",\"linecolor\":\"white\",\"ticks\":\"\"},\"radialaxis\":{\"gridcolor\":\"white\",\"linecolor\":\"white\",\"ticks\":\"\"}},\"ternary\":{\"bgcolor\":\"#E5ECF6\",\"aaxis\":{\"gridcolor\":\"white\",\"linecolor\":\"white\",\"ticks\":\"\"},\"baxis\":{\"gridcolor\":\"white\",\"linecolor\":\"white\",\"ticks\":\"\"},\"caxis\":{\"gridcolor\":\"white\",\"linecolor\":\"white\",\"ticks\":\"\"}},\"coloraxis\":{\"colorbar\":{\"outlinewidth\":0,\"ticks\":\"\"}},\"colorscale\":{\"sequential\":[[0.0,\"#0d0887\"],[0.1111111111111111,\"#46039f\"],[0.2222222222222222,\"#7201a8\"],[0.3333333333333333,\"#9c179e\"],[0.4444444444444444,\"#bd3786\"],[0.5555555555555556,\"#d8576b\"],[0.6666666666666666,\"#ed7953\"],[0.7777777777777778,\"#fb9f3a\"],[0.8888888888888888,\"#fdca26\"],[1.0,\"#f0f921\"]],\"sequentialminus\":[[0.0,\"#0d0887\"],[0.1111111111111111,\"#46039f\"],[0.2222222222222222,\"#7201a8\"],[0.3333333333333333,\"#9c179e\"],[0.4444444444444444,\"#bd3786\"],[0.5555555555555556,\"#d8576b\"],[0.6666666666666666,\"#ed7953\"],[0.7777777777777778,\"#fb9f3a\"],[0.8888888888888888,\"#fdca26\"],[1.0,\"#f0f921\"]],\"diverging\":[[0,\"#8e0152\"],[0.1,\"#c51b7d\"],[0.2,\"#de77ae\"],[0.3,\"#f1b6da\"],[0.4,\"#fde0ef\"],[0.5,\"#f7f7f7\"],[0.6,\"#e6f5d0\"],[0.7,\"#b8e186\"],[0.8,\"#7fbc41\"],[0.9,\"#4d9221\"],[1,\"#276419\"]]},\"xaxis\":{\"gridcolor\":\"white\",\"linecolor\":\"white\",\"ticks\":\"\",\"title\":{\"standoff\":15},\"zerolinecolor\":\"white\",\"automargin\":true,\"zerolinewidth\":2},\"yaxis\":{\"gridcolor\":\"white\",\"linecolor\":\"white\",\"ticks\":\"\",\"title\":{\"standoff\":15},\"zerolinecolor\":\"white\",\"automargin\":true,\"zerolinewidth\":2},\"scene\":{\"xaxis\":{\"backgroundcolor\":\"#E5ECF6\",\"gridcolor\":\"white\",\"linecolor\":\"white\",\"showbackground\":true,\"ticks\":\"\",\"zerolinecolor\":\"white\",\"gridwidth\":2},\"yaxis\":{\"backgroundcolor\":\"#E5ECF6\",\"gridcolor\":\"white\",\"linecolor\":\"white\",\"showbackground\":true,\"ticks\":\"\",\"zerolinecolor\":\"white\",\"gridwidth\":2},\"zaxis\":{\"backgroundcolor\":\"#E5ECF6\",\"gridcolor\":\"white\",\"linecolor\":\"white\",\"showbackground\":true,\"ticks\":\"\",\"zerolinecolor\":\"white\",\"gridwidth\":2}},\"shapedefaults\":{\"line\":{\"color\":\"#2a3f5f\"}},\"annotationdefaults\":{\"arrowcolor\":\"#2a3f5f\",\"arrowhead\":0,\"arrowwidth\":1},\"geo\":{\"bgcolor\":\"white\",\"landcolor\":\"#E5ECF6\",\"subunitcolor\":\"white\",\"showland\":true,\"showlakes\":true,\"lakecolor\":\"white\"},\"title\":{\"x\":0.05},\"mapbox\":{\"style\":\"light\"}}},\"xaxis\":{\"anchor\":\"y\",\"domain\":[0.0,1.0],\"scaleanchor\":\"y\",\"constrain\":\"domain\",\"title\":{\"text\":\"Head\"}},\"yaxis\":{\"anchor\":\"x\",\"domain\":[0.0,1.0],\"autorange\":\"reversed\",\"constrain\":\"domain\",\"title\":{\"text\":\"Layer\"}},\"coloraxis\":{\"colorscale\":[[0.0,\"rgb(103,0,31)\"],[0.1,\"rgb(178,24,43)\"],[0.2,\"rgb(214,96,77)\"],[0.3,\"rgb(244,165,130)\"],[0.4,\"rgb(253,219,199)\"],[0.5,\"rgb(247,247,247)\"],[0.6,\"rgb(209,229,240)\"],[0.7,\"rgb(146,197,222)\"],[0.8,\"rgb(67,147,195)\"],[0.9,\"rgb(33,102,172)\"],[1.0,\"rgb(5,48,97)\"]],\"cmid\":0.0},\"title\":{\"text\":\"index 9, depth 3\"}},                        {\"responsive\": true}                    ).then(function(){\n",
       "                            \n",
       "var gd = document.getElementById('8ad11c2d-a64b-4e24-a369-d9797a8f1274');\n",
       "var x = new MutationObserver(function (mutations, observer) {{\n",
       "        var display = window.getComputedStyle(gd).display;\n",
       "        if (!display || display === 'none') {{\n",
       "            console.log([gd, 'removed!']);\n",
       "            Plotly.purge(gd);\n",
       "            observer.disconnect();\n",
       "        }}\n",
       "}});\n",
       "\n",
       "// Listen for the removal of the full notebook cells\n",
       "var notebookContainer = gd.closest('#notebook-container');\n",
       "if (notebookContainer) {{\n",
       "    x.observe(notebookContainer, {childList: true});\n",
       "}}\n",
       "\n",
       "// Listen for the clearing of the current output cell\n",
       "var outputEl = gd.closest('.output');\n",
       "if (outputEl) {{\n",
       "    x.observe(outputEl, {childList: true});\n",
       "}}\n",
       "\n",
       "                        })                };                });            </script>        </div>"
      ]
     },
     "metadata": {},
     "output_type": "display_data"
    }
   ],
   "source": [
    "matrixes = []\n",
    "for depth in range(4):\n",
    "    filtered = {}\n",
    "    for data in freq_layer_head_depth:\n",
    "        if(data[2] == depth):\n",
    "            filtered[data] = freq_layer_head_depth[data] / totalExamples\n",
    "    distribution = []\n",
    "    for layer in range(32):\n",
    "        temp = []\n",
    "        for head in range(32):\n",
    "            temp.append(0)\n",
    "        distribution.append(temp)\n",
    "    # iterate over dictionary\n",
    "    for data in filtered:\n",
    "        distribution[data[0]][data[1]] = filtered[data]\n",
    "    imshow(distribution, save=f'/home//StepByStep/InformationFlow/result/{noise_index}/depth_{depth}.html', title=f\"index {noise_index}, depth {depth}\", labels={\"x\":\"Head\", \"y\":\"Layer\"})\n",
    "    import json\n",
    "    import re\n",
    "    import plotly.io\n",
    "\n",
    "    # Assuming html_file_path is the path to your HTML file\n",
    "    with open(f'/home//StepByStep/InformationFlow/result/{noise_index}/depth_{depth}.html') as f:\n",
    "        html = f.read()\n",
    "\n",
    "    # Extracting the Plotly JSON from the HTML\n",
    "    call_arg_str = re.findall(r'Plotly\\.newPlot\\((.*)\\)', html[-2**16:])[0]\n",
    "    call_args = json.loads(f'[{call_arg_str}]')\n",
    "    plotly_json = {'data': call_args[1], 'layout': call_args[2]}    \n",
    "\n",
    "    # Creating a Plotly figure from the JSON\n",
    "    fig = plotly.io.from_json(json.dumps(plotly_json))\n",
    "\n",
    "    # Specify the output file path with the desired format (e.g., 'figure.pdf' or 'figure.svg')\n",
    "    output_file_path = f'/home//StepByStep/InformationFlow/result/{noise_index}/depth_{depth}_index_{noise_index}.svg'\n",
    "\n",
    "    # Save the figure as PDF or SVG\n",
    "    plotly.io.write_image(fig, output_file_path)\n",
    "\n",
    "\n",
    "    \n",
    "        \n"
   ]
  },
  {
   "cell_type": "code",
   "execution_count": 116,
   "metadata": {},
   "outputs": [],
   "source": [
    "depth = 0\n"
   ]
  },
  {
   "cell_type": "code",
   "execution_count": 117,
   "metadata": {},
   "outputs": [],
   "source": []
  },
  {
   "cell_type": "code",
   "execution_count": 118,
   "metadata": {},
   "outputs": [],
   "source": [
    "import transformer_lens.utils as utils\n",
    "import plotly.express as px\n",
    "def imshow(tensor, renderer=None, save='head.html', **kwargs):\n",
    "    fig = px.imshow(utils.to_numpy(tensor), color_continuous_midpoint=0.0, color_continuous_scale=\"RdBu\", **kwargs)\n",
    "    fig.show(renderer)\n",
    "    # fig.write_html(save)"
   ]
  },
  {
   "cell_type": "code",
   "execution_count": 133,
   "metadata": {},
   "outputs": [
    {
     "data": {
      "application/vnd.plotly.v1+json": {
       "config": {
        "plotlyServerURL": "https://plot.ly"
       },
       "data": [
        {
         "coloraxis": "coloraxis",
         "hovertemplate": "x: %{x}<br>y: %{y}<br>color: %{z}<extra></extra>",
         "name": "0",
         "type": "heatmap",
         "xaxis": "x",
         "yaxis": "y",
         "z": [
          [
           0.3399456,
           0.8881094,
           0.7378856,
           0.5502885,
           0.14598185,
           0.6614329,
           0.6703157,
           0.4698547,
           0.91833836,
           0.338807,
           0.70567846,
           0.92877066,
           0.10576326,
           0.3400693,
           0.63252556,
           0.48929375,
           0.5032238,
           0.13406146,
           0.21040344,
           0.9560237,
           0.6154406,
           0.41404408,
           0.12911958,
           0.7591871,
           0.30640525,
           0.68291134,
           0.4233467,
           0.5227573,
           0.6868605,
           0.66411704,
           0.7037951,
           0.79141855
          ],
          [
           0.924335,
           0.23533982,
           0.98137426,
           0.37440223,
           0.7152678,
           0.8121314,
           0.13739914,
           0.97628725,
           0.54951394,
           0.3381819,
           0.52354574,
           0.47464132,
           0.9077112,
           0.19461745,
           0.80646795,
           0.7377945,
           0.7145948,
           0.43649477,
           0.59830165,
           0.32590717,
           0.65122855,
           0.59584576,
           0.17833364,
           0.37615412,
           0.64482725,
           0.49348718,
           0.4748962,
           0.8671907,
           0.78172654,
           0.20403576,
           0.29874343,
           0.4746797
          ],
          [
           0.13762039,
           0.82032055,
           0.8899925,
           0.2197048,
           0.7546296,
           0.41746092,
           0.7452508,
           0.37528855,
           0.25999695,
           0.7740992,
           0.9761202,
           0.83135897,
           0.8841129,
           0.25738418,
           0.46441507,
           0.06994015,
           0.5846586,
           0.27821088,
           0.5567053,
           0.69410163,
           0.5417054,
           0.18582213,
           0.026640594,
           0.37277544,
           0.9704319,
           0.97624487,
           0.7108693,
           0.8950689,
           0.7692835,
           0.101588786,
           0.8493189,
           0.22120744
          ],
          [
           0.07301223,
           0.42499036,
           0.65609586,
           0.6305831,
           0.6086468,
           0.5292046,
           0.53581846,
           0.22515732,
           0.22569335,
           0.75865245,
           0.28091073,
           0.42703992,
           0.45875907,
           0.061697006,
           0.9206424,
           0.55206,
           0.20513582,
           0.27606207,
           0.8264518,
           0.93001,
           0.21271044,
           0.11165279,
           0.80780774,
           0.703697,
           0.070207715,
           0.8683066,
           0.3549335,
           0.68241566,
           0.9268082,
           0.91428757,
           0.17786431,
           0.7671796
          ],
          [
           0.78764427,
           0.6746598,
           0.978965,
           0.019573092,
           0.26537746,
           0.46605176,
           0.12747198,
           0.2726003,
           0.02994883,
           0.49295372,
           0.42192668,
           0.9459573,
           0.084484935,
           0.73850715,
           0.4592241,
           0.84073347,
           0.91087884,
           0.13660282,
           0.4474303,
           0.18037248,
           0.87589204,
           0.75549257,
           0.17920154,
           0.15229553,
           0.16422677,
           0.09436709,
           0.92806965,
           0.032378554,
           0.6425199,
           0.8791296,
           0.2904508,
           0.20833147
          ],
          [
           0.024765968,
           0.28423655,
           0.4295317,
           0.81923175,
           0.30497193,
           0.030391455,
           0.43027765,
           0.48009354,
           0.85199785,
           0.8586509,
           0.35858077,
           0.9185287,
           0.12321633,
           0.5180153,
           0.5586316,
           0.6863518,
           0.35904866,
           0.45849514,
           0.37793028,
           0.9238252,
           0.49522883,
           0.35828334,
           0.9790422,
           0.97327375,
           0.07769817,
           0.38293135,
           0.11005217,
           0.60572404,
           0.864032,
           0.2124232,
           0.5645549,
           0.53054553
          ],
          [
           0.83213437,
           0.030898929,
           0.49196762,
           0.8317498,
           0.46800047,
           0.65689045,
           0.99492455,
           0.06946272,
           0.002663374,
           0.25122017,
           0.18630522,
           0.73870176,
           0.4529369,
           0.7399983,
           0.18656147,
           0.040652692,
           0.89599645,
           0.024718702,
           0.21635526,
           0.13971525,
           0.11792374,
           0.37778914,
           0.70795774,
           0.56159455,
           0.17127472,
           0.37017518,
           0.6477802,
           0.024038255,
           0.9147775,
           0.076057434,
           0.11716372,
           0.9269728
          ],
          [
           0.1894626,
           0.9844929,
           0.2555319,
           0.8713794,
           0.5229941,
           0.6247874,
           0.09006786,
           0.7741338,
           0.63473547,
           0.44652367,
           0.63808846,
           0.39667916,
           0.67909646,
           0.6238173,
           0.5134619,
           0.8101937,
           0.8722271,
           0.6635791,
           0.05366057,
           0.86646956,
           0.48270607,
           0.8745871,
           0.61112434,
           0.34002948,
           0.35252458,
           0.5011988,
           0.343134,
           0.25411552,
           0.68912876,
           0.5963164,
           0.0587551,
           0.066486835
          ],
          [
           0.02630943,
           0.391464,
           0.9370219,
           0.7388903,
           0.3778245,
           0.4236275,
           0.5814317,
           0.16763592,
           0.6007879,
           0.13824338,
           0.7543557,
           0.74944496,
           0.20345026,
           0.32906336,
           0.39480597,
           0.9902154,
           0.28015435,
           0.32398373,
           0.36835206,
           0.7863678,
           0.49787414,
           0.42306376,
           0.9780185,
           0.76970243,
           0.1719839,
           0.7978645,
           0.41475707,
           0.7870115,
           0.4114836,
           0.95757794,
           0.92171717,
           0.5483499
          ],
          [
           0.27365196,
           0.33212805,
           0.114821136,
           0.49470884,
           0.97215563,
           0.8071639,
           0.024468303,
           0.16456217,
           0.5525461,
           0.7794094,
           0.501944,
           0.034794033,
           0.5795514,
           0.009415984,
           0.06451529,
           0.006897807,
           0.3121307,
           0.12384313,
           0.52140903,
           0.6596957,
           0.08305633,
           0.7215055,
           0.564222,
           0.14248222,
           0.8276205,
           0.88059044,
           0.14272857,
           0.9696911,
           0.9872663,
           0.73161215,
           0.7007305,
           0.61050254
          ],
          [
           0.8866749,
           0.2877847,
           0.5937938,
           0.627668,
           0.45427227,
           0.8300003,
           0.6674967,
           0.80389774,
           0.6323895,
           0.5430497,
           0.83675414,
           0.73120207,
           0.8314159,
           0.18284929,
           0.24811435,
           0.62611705,
           0.7703728,
           0.56446797,
           0.371772,
           0.07638079,
           0.8448586,
           0.74638706,
           0.2069903,
           0.78591216,
           0.12226361,
           0.22676843,
           0.87106436,
           0.61755615,
           0.084257305,
           0.898538,
           0.719382,
           0.9068629
          ],
          [
           0.16356868,
           0.044303477,
           0.7121888,
           0.56769335,
           0.7183736,
           0.9922402,
           0.32986158,
           0.6378455,
           0.39424795,
           0.7478036,
           0.70269763,
           0.09228766,
           0.13238102,
           0.045244873,
           0.84949535,
           0.85829437,
           0.74719924,
           0.115318954,
           0.7495068,
           0.061608016,
           0.9341641,
           0.22159517,
           0.24094564,
           0.9935974,
           0.77421385,
           0.45391858,
           0.94822663,
           0.28736532,
           0.5688112,
           0.714005,
           0.419196,
           0.47252864
          ],
          [
           0.21598041,
           0.27513427,
           0.048071146,
           0.39497662,
           0.20672512,
           0.6392153,
           0.26402682,
           0.5235871,
           0.19895273,
           0.15484041,
           0.2804796,
           0.029094279,
           0.6878294,
           0.5075948,
           0.9992286,
           0.54515773,
           0.08583176,
           0.25485384,
           0.9513551,
           0.62410265,
           0.039907873,
           0.70823973,
           0.35614198,
           0.18451893,
           0.3109331,
           0.5359397,
           0.7943479,
           0.6131863,
           0.87272155,
           0.48218822,
           0.8897235,
           0.93120533
          ],
          [
           0.98531616,
           0.0299083,
           0.38867217,
           0.46694887,
           0.7517223,
           0.07222766,
           0.6916411,
           0.7284774,
           0.9096401,
           0.26164448,
           0.37842858,
           0.2956134,
           0.62887627,
           0.8638177,
           0.28753775,
           0.31928933,
           0.6791709,
           0.9989779,
           0.8152043,
           0.07036686,
           0.039987445,
           0.058375776,
           0.55951947,
           0.88378304,
           0.88899136,
           0.6956824,
           0.9236603,
           0.4260363,
           0.13065785,
           0.11174983,
           0.14650911,
           0.66340226
          ],
          [
           0.5578935,
           0.32907623,
           0.32482356,
           0.18254238,
           0.027741194,
           0.2834624,
           0.9642536,
           0.2518025,
           0.86129314,
           0.52619183,
           0.63236725,
           0.3707081,
           0.92247546,
           0.024376154,
           0.16542542,
           0.27456963,
           0.37900692,
           0.13678193,
           0.010913968,
           0.5324837,
           0.9254307,
           0.44145155,
           0.44977933,
           0.06896758,
           0.72918296,
           0.7394546,
           0.0753997,
           0.6402828,
           0.9440609,
           0.048229694,
           0.881467,
           0.3426652
          ],
          [
           0.76543295,
           0.7242794,
           0.8567773,
           0.8903829,
           0.20345163,
           0.9808144,
           0.5919475,
           0.97353655,
           0.55956626,
           0.5518815,
           0.14660561,
           0.535723,
           0.9004221,
           0.4173277,
           0.7298289,
           0.99886274,
           0.226013,
           0.5899488,
           0.9194707,
           0.47461885,
           0.42435867,
           0.0681237,
           0.095739365,
           0.17314732,
           0.61831814,
           0.2508921,
           0.36116236,
           0.11410588,
           0.5482819,
           0.4019643,
           0.24934697,
           0.32483864
          ],
          [
           0.028241515,
           0.6678748,
           0.62618035,
           0.4505955,
           0.90673757,
           0.3030256,
           0.12226188,
           0.5036549,
           0.13144249,
           0.26737648,
           0.63653857,
           0.453695,
           0.8414892,
           0.20119715,
           0.9583783,
           0.7653954,
           0.30131912,
           0.5616207,
           0.6737888,
           0.4096812,
           0.18713605,
           0.9862163,
           0.7095408,
           0.13312614,
           0.8484872,
           0.72338325,
           0.56312317,
           0.15741467,
           0.16856074,
           0.25449455,
           0.11690104,
           0.498532
          ],
          [
           0.07368803,
           0.25621653,
           0.9673328,
           0.9334431,
           0.13913095,
           0.4887957,
           0.91204715,
           0.30419862,
           0.08202535,
           0.08075243,
           0.6398646,
           0.5631847,
           0.45486218,
           0.665144,
           0.545465,
           0.56071645,
           0.7556831,
           0.0049696565,
           0.29989803,
           0.14002198,
           0.8524626,
           0.17374003,
           0.4439022,
           0.6010906,
           0.75363714,
           0.31111777,
           0.38823777,
           0.10433197,
           0.86849535,
           0.2538147,
           0.030912817,
           0.81435335
          ],
          [
           0.13568872,
           0.5812478,
           0.33706027,
           0.6728082,
           0.4215175,
           0.6000609,
           0.8309227,
           0.95707846,
           0.7112775,
           0.31151426,
           0.83564407,
           0.49506027,
           0.8318214,
           0.9339962,
           0.46128428,
           0.36528963,
           0.8180434,
           0.3245647,
           0.33363593,
           0.35989892,
           0.99868035,
           0.5473861,
           0.9964925,
           0.98045814,
           0.33355057,
           0.026136816,
           0.56391436,
           0.16934973,
           0.44426566,
           0.6441929,
           0.4299814,
           0.6215158
          ],
          [
           0.49773955,
           0.7482994,
           0.12110084,
           0.7726961,
           0.7351913,
           0.058775663,
           0.91444546,
           0.31636447,
           0.8532143,
           0.9989282,
           0.08565402,
           0.525642,
           0.17308354,
           0.4774809,
           0.48368615,
           0.085787,
           0.6637527,
           0.52732766,
           0.51105857,
           0.5260727,
           0.50832194,
           0.198443,
           0.6264369,
           0.22701472,
           0.88395375,
           0.57017696,
           0.2801218,
           0.09378052,
           0.053254545,
           0.44574785,
           0.51178944,
           0.25710982
          ],
          [
           0.6400188,
           0.8533384,
           0.6462789,
           0.7521086,
           0.12208152,
           0.09028822,
           0.27255303,
           0.8225986,
           0.2736702,
           0.033809125,
           0.4548208,
           0.18763375,
           0.110910416,
           0.38267618,
           0.75298864,
           0.65187126,
           0.8058313,
           0.9664201,
           0.2697099,
           0.7223221,
           0.37367916,
           0.6948226,
           0.78609914,
           0.28179777,
           0.81234014,
           0.3208542,
           0.12550169,
           0.7047186,
           0.46849155,
           0.68139637,
           0.73358256,
           0.53909874
          ],
          [
           0.19638503,
           0.70575374,
           0.4217679,
           0.65520614,
           0.43402326,
           0.88716316,
           0.8546501,
           0.16050392,
           0.52458555,
           0.04681468,
           0.052312016,
           0.70970166,
           0.6938563,
           0.53171164,
           0.6543853,
           0.21616423,
           0.53700244,
           0.33912987,
           0.7705648,
           0.60186017,
           0.2956146,
           0.4946372,
           0.014130175,
           0.44346213,
           0.049836636,
           0.06506318,
           0.979254,
           0.9452752,
           0.88637626,
           0.24731374,
           0.21162176,
           0.71119505
          ],
          [
           0.7449955,
           0.44432408,
           0.07295346,
           0.3364895,
           0.23168045,
           0.6034588,
           0.35078746,
           0.32583922,
           0.099978864,
           0.95279676,
           0.20829445,
           0.5746652,
           0.8957976,
           0.9807971,
           0.7847192,
           0.10245818,
           0.46552724,
           0.14718199,
           0.045191407,
           0.7641579,
           0.30615753,
           0.7003013,
           0.118819535,
           0.401057,
           0.3014664,
           0.11889905,
           0.28728914,
           0.11945015,
           0.14821237,
           0.9436498,
           0.2698251,
           0.69040203
          ],
          [
           0.31843227,
           0.37835097,
           0.74835193,
           0.6506124,
           0.24423963,
           0.0556311,
           0.22213608,
           0.5472235,
           0.17597526,
           0.76742965,
           0.8832878,
           0.7275206,
           0.7698109,
           0.37841123,
           0.27956527,
           0.20115995,
           0.6653987,
           0.6749869,
           0.04502201,
           0.6806141,
           0.41876614,
           0.5562229,
           0.079087734,
           0.2795472,
           0.75508636,
           0.5545581,
           0.20189643,
           0.5561969,
           0.3516829,
           0.90928054,
           0.5955837,
           0.99151474
          ],
          [
           0.11194843,
           0.38888443,
           0.18155104,
           0.024954975,
           0.78239495,
           0.31307983,
           0.15339786,
           0.34419096,
           0.11032605,
           0.8219286,
           0.48116922,
           0.53950405,
           0.5406453,
           0.7812852,
           0.84874684,
           0.33910847,
           0.13242519,
           0.019483209,
           0.9502076,
           0.69940305,
           0.64695394,
           0.107308924,
           0.75701094,
           0.42795026,
           0.0224846,
           0.80885017,
           0.39865732,
           0.3044601,
           0.4238568,
           0.73850626,
           0.55201054,
           0.056059718
          ],
          [
           0.90155923,
           0.78865415,
           0.12103975,
           0.48237652,
           0.33029556,
           0.67162496,
           0.7040198,
           0.50021607,
           0.9331972,
           0.5244458,
           0.5017358,
           0.38134187,
           0.5596403,
           0.06228012,
           0.18718922,
           0.81759673,
           0.5869832,
           0.33342546,
           0.80657476,
           0.25050306,
           0.88858086,
           0.39489228,
           0.13708526,
           0.8386998,
           0.44042933,
           0.7681322,
           0.6949523,
           0.81005126,
           0.25010884,
           0.62814945,
           0.6064753,
           0.8050416
          ],
          [
           0.83210355,
           0.64683056,
           0.14281386,
           0.5983623,
           0.95385927,
           0.8545444,
           0.7814531,
           0.336994,
           0.8917729,
           0.20464736,
           0.043006122,
           0.39082128,
           0.25365102,
           0.32906002,
           0.4954772,
           0.7907851,
           0.50323135,
           0.6357332,
           0.214495,
           0.9407714,
           0.5561797,
           0.04503137,
           0.14079255,
           0.009186983,
           0.23063445,
           0.3227597,
           0.072234035,
           0.2581995,
           0.35204697,
           0.58076876,
           0.39669865,
           0.86118096
          ],
          [
           0.55902493,
           0.6089246,
           0.6499829,
           0.26350218,
           0.27659076,
           0.732171,
           0.7706459,
           0.7878712,
           0.41855848,
           0.99531674,
           0.7133704,
           0.84354615,
           0.1807344,
           0.3440233,
           0.1182518,
           0.78312004,
           0.87148696,
           0.5053428,
           0.8884312,
           0.55521625,
           0.9499577,
           0.2313863,
           0.9199249,
           0.36381513,
           0.7716789,
           0.6895327,
           0.7768518,
           0.9969147,
           0.65616995,
           0.036667705,
           0.32192218,
           0.6951614
          ],
          [
           0.0058971643,
           0.19589949,
           0.79635394,
           0.5071372,
           0.82540977,
           0.25236845,
           0.78496367,
           0.97297233,
           0.29220903,
           0.15240479,
           0.37076223,
           0.4517147,
           0.30846024,
           0.027144969,
           0.5470829,
           0.8532379,
           0.0069563985,
           0.6792384,
           0.99928284,
           0.7340181,
           0.18795174,
           0.56490177,
           0.7492995,
           0.94842935,
           0.6605619,
           0.5036036,
           0.9691233,
           0.5566348,
           0.38861305,
           0.06271148,
           0.72704476,
           0.57044774
          ],
          [
           0.5211167,
           0.47976035,
           0.6014708,
           0.9933855,
           0.20310146,
           0.7100202,
           0.16829187,
           0.30504793,
           0.8245096,
           0.98765695,
           0.36279774,
           0.040813148,
           0.08784318,
           0.6002119,
           0.55256486,
           0.5952843,
           0.39149874,
           0.02766192,
           0.6494563,
           0.7669993,
           0.6949856,
           0.09578055,
           0.5686131,
           0.8762895,
           0.4144227,
           0.33174074,
           0.6070139,
           0.22446,
           0.6493928,
           0.5465069,
           0.95309234,
           0.00004941225
          ],
          [
           0.52608836,
           0.3274625,
           0.6622718,
           0.5141694,
           0.3349697,
           0.13586563,
           0.49256152,
           0.07155228,
           0.6355465,
           0.94290733,
           0.6474163,
           0.9567157,
           0.98317456,
           0.6221902,
           0.37605786,
           0.39933592,
           0.16876602,
           0.5941104,
           0.0052815676,
           0.27253085,
           0.67302495,
           0.96829426,
           0.9938106,
           0.14926016,
           0.39913386,
           0.5465559,
           0.55198747,
           0.49973297,
           0.61661696,
           0.27673054,
           0.8135909,
           0.24693453
          ],
          [
           0.8554687,
           0.6333262,
           0.43751228,
           0.69045687,
           0.30499554,
           0.45027673,
           0.95730036,
           0.6767783,
           0.7462895,
           0.19856608,
           0.30565453,
           0.37109667,
           0.5946013,
           0.3889153,
           0.6068522,
           0.7898385,
           0.512141,
           0.078454554,
           0.913561,
           0.03531283,
           0.3454203,
           0.7308538,
           0.7449022,
           0.077551186,
           0.96942157,
           0.03796637,
           0.94635564,
           0.017444193,
           0.6537468,
           0.12278515,
           0.88506603,
           0.08014089
          ]
         ]
        }
       ],
       "layout": {
        "coloraxis": {
         "cmid": 0,
         "colorscale": [
          [
           0,
           "rgb(103,0,31)"
          ],
          [
           0.1,
           "rgb(178,24,43)"
          ],
          [
           0.2,
           "rgb(214,96,77)"
          ],
          [
           0.3,
           "rgb(244,165,130)"
          ],
          [
           0.4,
           "rgb(253,219,199)"
          ],
          [
           0.5,
           "rgb(247,247,247)"
          ],
          [
           0.6,
           "rgb(209,229,240)"
          ],
          [
           0.7,
           "rgb(146,197,222)"
          ],
          [
           0.8,
           "rgb(67,147,195)"
          ],
          [
           0.9,
           "rgb(33,102,172)"
          ],
          [
           1,
           "rgb(5,48,97)"
          ]
         ]
        },
        "template": {
         "data": {
          "bar": [
           {
            "error_x": {
             "color": "#2a3f5f"
            },
            "error_y": {
             "color": "#2a3f5f"
            },
            "marker": {
             "line": {
              "color": "#E5ECF6",
              "width": 0.5
             },
             "pattern": {
              "fillmode": "overlay",
              "size": 10,
              "solidity": 0.2
             }
            },
            "type": "bar"
           }
          ],
          "barpolar": [
           {
            "marker": {
             "line": {
              "color": "#E5ECF6",
              "width": 0.5
             },
             "pattern": {
              "fillmode": "overlay",
              "size": 10,
              "solidity": 0.2
             }
            },
            "type": "barpolar"
           }
          ],
          "carpet": [
           {
            "aaxis": {
             "endlinecolor": "#2a3f5f",
             "gridcolor": "white",
             "linecolor": "white",
             "minorgridcolor": "white",
             "startlinecolor": "#2a3f5f"
            },
            "baxis": {
             "endlinecolor": "#2a3f5f",
             "gridcolor": "white",
             "linecolor": "white",
             "minorgridcolor": "white",
             "startlinecolor": "#2a3f5f"
            },
            "type": "carpet"
           }
          ],
          "choropleth": [
           {
            "colorbar": {
             "outlinewidth": 0,
             "ticks": ""
            },
            "type": "choropleth"
           }
          ],
          "contour": [
           {
            "colorbar": {
             "outlinewidth": 0,
             "ticks": ""
            },
            "colorscale": [
             [
              0,
              "#0d0887"
             ],
             [
              0.1111111111111111,
              "#46039f"
             ],
             [
              0.2222222222222222,
              "#7201a8"
             ],
             [
              0.3333333333333333,
              "#9c179e"
             ],
             [
              0.4444444444444444,
              "#bd3786"
             ],
             [
              0.5555555555555556,
              "#d8576b"
             ],
             [
              0.6666666666666666,
              "#ed7953"
             ],
             [
              0.7777777777777778,
              "#fb9f3a"
             ],
             [
              0.8888888888888888,
              "#fdca26"
             ],
             [
              1,
              "#f0f921"
             ]
            ],
            "type": "contour"
           }
          ],
          "contourcarpet": [
           {
            "colorbar": {
             "outlinewidth": 0,
             "ticks": ""
            },
            "type": "contourcarpet"
           }
          ],
          "heatmap": [
           {
            "colorbar": {
             "outlinewidth": 0,
             "ticks": ""
            },
            "colorscale": [
             [
              0,
              "#0d0887"
             ],
             [
              0.1111111111111111,
              "#46039f"
             ],
             [
              0.2222222222222222,
              "#7201a8"
             ],
             [
              0.3333333333333333,
              "#9c179e"
             ],
             [
              0.4444444444444444,
              "#bd3786"
             ],
             [
              0.5555555555555556,
              "#d8576b"
             ],
             [
              0.6666666666666666,
              "#ed7953"
             ],
             [
              0.7777777777777778,
              "#fb9f3a"
             ],
             [
              0.8888888888888888,
              "#fdca26"
             ],
             [
              1,
              "#f0f921"
             ]
            ],
            "type": "heatmap"
           }
          ],
          "heatmapgl": [
           {
            "colorbar": {
             "outlinewidth": 0,
             "ticks": ""
            },
            "colorscale": [
             [
              0,
              "#0d0887"
             ],
             [
              0.1111111111111111,
              "#46039f"
             ],
             [
              0.2222222222222222,
              "#7201a8"
             ],
             [
              0.3333333333333333,
              "#9c179e"
             ],
             [
              0.4444444444444444,
              "#bd3786"
             ],
             [
              0.5555555555555556,
              "#d8576b"
             ],
             [
              0.6666666666666666,
              "#ed7953"
             ],
             [
              0.7777777777777778,
              "#fb9f3a"
             ],
             [
              0.8888888888888888,
              "#fdca26"
             ],
             [
              1,
              "#f0f921"
             ]
            ],
            "type": "heatmapgl"
           }
          ],
          "histogram": [
           {
            "marker": {
             "pattern": {
              "fillmode": "overlay",
              "size": 10,
              "solidity": 0.2
             }
            },
            "type": "histogram"
           }
          ],
          "histogram2d": [
           {
            "colorbar": {
             "outlinewidth": 0,
             "ticks": ""
            },
            "colorscale": [
             [
              0,
              "#0d0887"
             ],
             [
              0.1111111111111111,
              "#46039f"
             ],
             [
              0.2222222222222222,
              "#7201a8"
             ],
             [
              0.3333333333333333,
              "#9c179e"
             ],
             [
              0.4444444444444444,
              "#bd3786"
             ],
             [
              0.5555555555555556,
              "#d8576b"
             ],
             [
              0.6666666666666666,
              "#ed7953"
             ],
             [
              0.7777777777777778,
              "#fb9f3a"
             ],
             [
              0.8888888888888888,
              "#fdca26"
             ],
             [
              1,
              "#f0f921"
             ]
            ],
            "type": "histogram2d"
           }
          ],
          "histogram2dcontour": [
           {
            "colorbar": {
             "outlinewidth": 0,
             "ticks": ""
            },
            "colorscale": [
             [
              0,
              "#0d0887"
             ],
             [
              0.1111111111111111,
              "#46039f"
             ],
             [
              0.2222222222222222,
              "#7201a8"
             ],
             [
              0.3333333333333333,
              "#9c179e"
             ],
             [
              0.4444444444444444,
              "#bd3786"
             ],
             [
              0.5555555555555556,
              "#d8576b"
             ],
             [
              0.6666666666666666,
              "#ed7953"
             ],
             [
              0.7777777777777778,
              "#fb9f3a"
             ],
             [
              0.8888888888888888,
              "#fdca26"
             ],
             [
              1,
              "#f0f921"
             ]
            ],
            "type": "histogram2dcontour"
           }
          ],
          "mesh3d": [
           {
            "colorbar": {
             "outlinewidth": 0,
             "ticks": ""
            },
            "type": "mesh3d"
           }
          ],
          "parcoords": [
           {
            "line": {
             "colorbar": {
              "outlinewidth": 0,
              "ticks": ""
             }
            },
            "type": "parcoords"
           }
          ],
          "pie": [
           {
            "automargin": true,
            "type": "pie"
           }
          ],
          "scatter": [
           {
            "fillpattern": {
             "fillmode": "overlay",
             "size": 10,
             "solidity": 0.2
            },
            "type": "scatter"
           }
          ],
          "scatter3d": [
           {
            "line": {
             "colorbar": {
              "outlinewidth": 0,
              "ticks": ""
             }
            },
            "marker": {
             "colorbar": {
              "outlinewidth": 0,
              "ticks": ""
             }
            },
            "type": "scatter3d"
           }
          ],
          "scattercarpet": [
           {
            "marker": {
             "colorbar": {
              "outlinewidth": 0,
              "ticks": ""
             }
            },
            "type": "scattercarpet"
           }
          ],
          "scattergeo": [
           {
            "marker": {
             "colorbar": {
              "outlinewidth": 0,
              "ticks": ""
             }
            },
            "type": "scattergeo"
           }
          ],
          "scattergl": [
           {
            "marker": {
             "colorbar": {
              "outlinewidth": 0,
              "ticks": ""
             }
            },
            "type": "scattergl"
           }
          ],
          "scattermapbox": [
           {
            "marker": {
             "colorbar": {
              "outlinewidth": 0,
              "ticks": ""
             }
            },
            "type": "scattermapbox"
           }
          ],
          "scatterpolar": [
           {
            "marker": {
             "colorbar": {
              "outlinewidth": 0,
              "ticks": ""
             }
            },
            "type": "scatterpolar"
           }
          ],
          "scatterpolargl": [
           {
            "marker": {
             "colorbar": {
              "outlinewidth": 0,
              "ticks": ""
             }
            },
            "type": "scatterpolargl"
           }
          ],
          "scatterternary": [
           {
            "marker": {
             "colorbar": {
              "outlinewidth": 0,
              "ticks": ""
             }
            },
            "type": "scatterternary"
           }
          ],
          "surface": [
           {
            "colorbar": {
             "outlinewidth": 0,
             "ticks": ""
            },
            "colorscale": [
             [
              0,
              "#0d0887"
             ],
             [
              0.1111111111111111,
              "#46039f"
             ],
             [
              0.2222222222222222,
              "#7201a8"
             ],
             [
              0.3333333333333333,
              "#9c179e"
             ],
             [
              0.4444444444444444,
              "#bd3786"
             ],
             [
              0.5555555555555556,
              "#d8576b"
             ],
             [
              0.6666666666666666,
              "#ed7953"
             ],
             [
              0.7777777777777778,
              "#fb9f3a"
             ],
             [
              0.8888888888888888,
              "#fdca26"
             ],
             [
              1,
              "#f0f921"
             ]
            ],
            "type": "surface"
           }
          ],
          "table": [
           {
            "cells": {
             "fill": {
              "color": "#EBF0F8"
             },
             "line": {
              "color": "white"
             }
            },
            "header": {
             "fill": {
              "color": "#C8D4E3"
             },
             "line": {
              "color": "white"
             }
            },
            "type": "table"
           }
          ]
         },
         "layout": {
          "annotationdefaults": {
           "arrowcolor": "#2a3f5f",
           "arrowhead": 0,
           "arrowwidth": 1
          },
          "autotypenumbers": "strict",
          "coloraxis": {
           "colorbar": {
            "outlinewidth": 0,
            "ticks": ""
           }
          },
          "colorscale": {
           "diverging": [
            [
             0,
             "#8e0152"
            ],
            [
             0.1,
             "#c51b7d"
            ],
            [
             0.2,
             "#de77ae"
            ],
            [
             0.3,
             "#f1b6da"
            ],
            [
             0.4,
             "#fde0ef"
            ],
            [
             0.5,
             "#f7f7f7"
            ],
            [
             0.6,
             "#e6f5d0"
            ],
            [
             0.7,
             "#b8e186"
            ],
            [
             0.8,
             "#7fbc41"
            ],
            [
             0.9,
             "#4d9221"
            ],
            [
             1,
             "#276419"
            ]
           ],
           "sequential": [
            [
             0,
             "#0d0887"
            ],
            [
             0.1111111111111111,
             "#46039f"
            ],
            [
             0.2222222222222222,
             "#7201a8"
            ],
            [
             0.3333333333333333,
             "#9c179e"
            ],
            [
             0.4444444444444444,
             "#bd3786"
            ],
            [
             0.5555555555555556,
             "#d8576b"
            ],
            [
             0.6666666666666666,
             "#ed7953"
            ],
            [
             0.7777777777777778,
             "#fb9f3a"
            ],
            [
             0.8888888888888888,
             "#fdca26"
            ],
            [
             1,
             "#f0f921"
            ]
           ],
           "sequentialminus": [
            [
             0,
             "#0d0887"
            ],
            [
             0.1111111111111111,
             "#46039f"
            ],
            [
             0.2222222222222222,
             "#7201a8"
            ],
            [
             0.3333333333333333,
             "#9c179e"
            ],
            [
             0.4444444444444444,
             "#bd3786"
            ],
            [
             0.5555555555555556,
             "#d8576b"
            ],
            [
             0.6666666666666666,
             "#ed7953"
            ],
            [
             0.7777777777777778,
             "#fb9f3a"
            ],
            [
             0.8888888888888888,
             "#fdca26"
            ],
            [
             1,
             "#f0f921"
            ]
           ]
          },
          "colorway": [
           "#636efa",
           "#EF553B",
           "#00cc96",
           "#ab63fa",
           "#FFA15A",
           "#19d3f3",
           "#FF6692",
           "#B6E880",
           "#FF97FF",
           "#FECB52"
          ],
          "font": {
           "color": "#2a3f5f"
          },
          "geo": {
           "bgcolor": "white",
           "lakecolor": "white",
           "landcolor": "#E5ECF6",
           "showlakes": true,
           "showland": true,
           "subunitcolor": "white"
          },
          "hoverlabel": {
           "align": "left"
          },
          "hovermode": "closest",
          "mapbox": {
           "style": "light"
          },
          "paper_bgcolor": "white",
          "plot_bgcolor": "#E5ECF6",
          "polar": {
           "angularaxis": {
            "gridcolor": "white",
            "linecolor": "white",
            "ticks": ""
           },
           "bgcolor": "#E5ECF6",
           "radialaxis": {
            "gridcolor": "white",
            "linecolor": "white",
            "ticks": ""
           }
          },
          "scene": {
           "xaxis": {
            "backgroundcolor": "#E5ECF6",
            "gridcolor": "white",
            "gridwidth": 2,
            "linecolor": "white",
            "showbackground": true,
            "ticks": "",
            "zerolinecolor": "white"
           },
           "yaxis": {
            "backgroundcolor": "#E5ECF6",
            "gridcolor": "white",
            "gridwidth": 2,
            "linecolor": "white",
            "showbackground": true,
            "ticks": "",
            "zerolinecolor": "white"
           },
           "zaxis": {
            "backgroundcolor": "#E5ECF6",
            "gridcolor": "white",
            "gridwidth": 2,
            "linecolor": "white",
            "showbackground": true,
            "ticks": "",
            "zerolinecolor": "white"
           }
          },
          "shapedefaults": {
           "line": {
            "color": "#2a3f5f"
           }
          },
          "ternary": {
           "aaxis": {
            "gridcolor": "white",
            "linecolor": "white",
            "ticks": ""
           },
           "baxis": {
            "gridcolor": "white",
            "linecolor": "white",
            "ticks": ""
           },
           "bgcolor": "#E5ECF6",
           "caxis": {
            "gridcolor": "white",
            "linecolor": "white",
            "ticks": ""
           }
          },
          "title": {
           "x": 0.05
          },
          "xaxis": {
           "automargin": true,
           "gridcolor": "white",
           "linecolor": "white",
           "ticks": "",
           "title": {
            "standoff": 15
           },
           "zerolinecolor": "white",
           "zerolinewidth": 2
          },
          "yaxis": {
           "automargin": true,
           "gridcolor": "white",
           "linecolor": "white",
           "ticks": "",
           "title": {
            "standoff": 15
           },
           "zerolinecolor": "white",
           "zerolinewidth": 2
          }
         }
        },
        "title": {
         "text": "Matrix 1"
        },
        "xaxis": {
         "anchor": "y",
         "constrain": "domain",
         "domain": [
          0,
          1
         ],
         "scaleanchor": "y"
        },
        "yaxis": {
         "anchor": "x",
         "autorange": "reversed",
         "constrain": "domain",
         "domain": [
          0,
          1
         ]
        }
       }
      },
      "text/html": [
       "<div>                            <div id=\"1ea45ef7-2c7c-409e-ac99-c58b7c6d0be1\" class=\"plotly-graph-div\" style=\"height:525px; width:100%;\"></div>            <script type=\"text/javascript\">                require([\"plotly\"], function(Plotly) {                    window.PLOTLYENV=window.PLOTLYENV || {};                                    if (document.getElementById(\"1ea45ef7-2c7c-409e-ac99-c58b7c6d0be1\")) {                    Plotly.newPlot(                        \"1ea45ef7-2c7c-409e-ac99-c58b7c6d0be1\",                        [{\"coloraxis\":\"coloraxis\",\"name\":\"0\",\"z\":[[0.3399456,0.8881094,0.7378856,0.5502885,0.14598185,0.6614329,0.6703157,0.4698547,0.91833836,0.338807,0.70567846,0.92877066,0.10576326,0.3400693,0.63252556,0.48929375,0.5032238,0.13406146,0.21040344,0.9560237,0.6154406,0.41404408,0.12911958,0.7591871,0.30640525,0.68291134,0.4233467,0.5227573,0.6868605,0.66411704,0.7037951,0.79141855],[0.924335,0.23533982,0.98137426,0.37440223,0.7152678,0.8121314,0.13739914,0.97628725,0.54951394,0.3381819,0.52354574,0.47464132,0.9077112,0.19461745,0.80646795,0.7377945,0.7145948,0.43649477,0.59830165,0.32590717,0.65122855,0.59584576,0.17833364,0.37615412,0.64482725,0.49348718,0.4748962,0.8671907,0.78172654,0.20403576,0.29874343,0.4746797],[0.13762039,0.82032055,0.8899925,0.2197048,0.7546296,0.41746092,0.7452508,0.37528855,0.25999695,0.7740992,0.9761202,0.83135897,0.8841129,0.25738418,0.46441507,0.06994015,0.5846586,0.27821088,0.5567053,0.69410163,0.5417054,0.18582213,0.026640594,0.37277544,0.9704319,0.97624487,0.7108693,0.8950689,0.7692835,0.101588786,0.8493189,0.22120744],[0.07301223,0.42499036,0.65609586,0.6305831,0.6086468,0.5292046,0.53581846,0.22515732,0.22569335,0.75865245,0.28091073,0.42703992,0.45875907,0.061697006,0.9206424,0.55206,0.20513582,0.27606207,0.8264518,0.93001,0.21271044,0.11165279,0.80780774,0.703697,0.070207715,0.8683066,0.3549335,0.68241566,0.9268082,0.91428757,0.17786431,0.7671796],[0.78764427,0.6746598,0.978965,0.019573092,0.26537746,0.46605176,0.12747198,0.2726003,0.02994883,0.49295372,0.42192668,0.9459573,0.084484935,0.73850715,0.4592241,0.84073347,0.91087884,0.13660282,0.4474303,0.18037248,0.87589204,0.75549257,0.17920154,0.15229553,0.16422677,0.09436709,0.92806965,0.032378554,0.6425199,0.8791296,0.2904508,0.20833147],[0.024765968,0.28423655,0.4295317,0.81923175,0.30497193,0.030391455,0.43027765,0.48009354,0.85199785,0.8586509,0.35858077,0.9185287,0.12321633,0.5180153,0.5586316,0.6863518,0.35904866,0.45849514,0.37793028,0.9238252,0.49522883,0.35828334,0.9790422,0.97327375,0.07769817,0.38293135,0.11005217,0.60572404,0.864032,0.2124232,0.5645549,0.53054553],[0.83213437,0.030898929,0.49196762,0.8317498,0.46800047,0.65689045,0.99492455,0.06946272,0.002663374,0.25122017,0.18630522,0.73870176,0.4529369,0.7399983,0.18656147,0.040652692,0.89599645,0.024718702,0.21635526,0.13971525,0.11792374,0.37778914,0.70795774,0.56159455,0.17127472,0.37017518,0.6477802,0.024038255,0.9147775,0.076057434,0.11716372,0.9269728],[0.1894626,0.9844929,0.2555319,0.8713794,0.5229941,0.6247874,0.09006786,0.7741338,0.63473547,0.44652367,0.63808846,0.39667916,0.67909646,0.6238173,0.5134619,0.8101937,0.8722271,0.6635791,0.05366057,0.86646956,0.48270607,0.8745871,0.61112434,0.34002948,0.35252458,0.5011988,0.343134,0.25411552,0.68912876,0.5963164,0.0587551,0.066486835],[0.02630943,0.391464,0.9370219,0.7388903,0.3778245,0.4236275,0.5814317,0.16763592,0.6007879,0.13824338,0.7543557,0.74944496,0.20345026,0.32906336,0.39480597,0.9902154,0.28015435,0.32398373,0.36835206,0.7863678,0.49787414,0.42306376,0.9780185,0.76970243,0.1719839,0.7978645,0.41475707,0.7870115,0.4114836,0.95757794,0.92171717,0.5483499],[0.27365196,0.33212805,0.114821136,0.49470884,0.97215563,0.8071639,0.024468303,0.16456217,0.5525461,0.7794094,0.501944,0.034794033,0.5795514,0.009415984,0.06451529,0.006897807,0.3121307,0.12384313,0.52140903,0.6596957,0.08305633,0.7215055,0.564222,0.14248222,0.8276205,0.88059044,0.14272857,0.9696911,0.9872663,0.73161215,0.7007305,0.61050254],[0.8866749,0.2877847,0.5937938,0.627668,0.45427227,0.8300003,0.6674967,0.80389774,0.6323895,0.5430497,0.83675414,0.73120207,0.8314159,0.18284929,0.24811435,0.62611705,0.7703728,0.56446797,0.371772,0.07638079,0.8448586,0.74638706,0.2069903,0.78591216,0.12226361,0.22676843,0.87106436,0.61755615,0.084257305,0.898538,0.719382,0.9068629],[0.16356868,0.044303477,0.7121888,0.56769335,0.7183736,0.9922402,0.32986158,0.6378455,0.39424795,0.7478036,0.70269763,0.09228766,0.13238102,0.045244873,0.84949535,0.85829437,0.74719924,0.115318954,0.7495068,0.061608016,0.9341641,0.22159517,0.24094564,0.9935974,0.77421385,0.45391858,0.94822663,0.28736532,0.5688112,0.714005,0.419196,0.47252864],[0.21598041,0.27513427,0.048071146,0.39497662,0.20672512,0.6392153,0.26402682,0.5235871,0.19895273,0.15484041,0.2804796,0.029094279,0.6878294,0.5075948,0.9992286,0.54515773,0.08583176,0.25485384,0.9513551,0.62410265,0.039907873,0.70823973,0.35614198,0.18451893,0.3109331,0.5359397,0.7943479,0.6131863,0.87272155,0.48218822,0.8897235,0.93120533],[0.98531616,0.0299083,0.38867217,0.46694887,0.7517223,0.07222766,0.6916411,0.7284774,0.9096401,0.26164448,0.37842858,0.2956134,0.62887627,0.8638177,0.28753775,0.31928933,0.6791709,0.9989779,0.8152043,0.07036686,0.039987445,0.058375776,0.55951947,0.88378304,0.88899136,0.6956824,0.9236603,0.4260363,0.13065785,0.11174983,0.14650911,0.66340226],[0.5578935,0.32907623,0.32482356,0.18254238,0.027741194,0.2834624,0.9642536,0.2518025,0.86129314,0.52619183,0.63236725,0.3707081,0.92247546,0.024376154,0.16542542,0.27456963,0.37900692,0.13678193,0.010913968,0.5324837,0.9254307,0.44145155,0.44977933,0.06896758,0.72918296,0.7394546,0.0753997,0.6402828,0.9440609,0.048229694,0.881467,0.3426652],[0.76543295,0.7242794,0.8567773,0.8903829,0.20345163,0.9808144,0.5919475,0.97353655,0.55956626,0.5518815,0.14660561,0.535723,0.9004221,0.4173277,0.7298289,0.99886274,0.226013,0.5899488,0.9194707,0.47461885,0.42435867,0.0681237,0.095739365,0.17314732,0.61831814,0.2508921,0.36116236,0.11410588,0.5482819,0.4019643,0.24934697,0.32483864],[0.028241515,0.6678748,0.62618035,0.4505955,0.90673757,0.3030256,0.12226188,0.5036549,0.13144249,0.26737648,0.63653857,0.453695,0.8414892,0.20119715,0.9583783,0.7653954,0.30131912,0.5616207,0.6737888,0.4096812,0.18713605,0.9862163,0.7095408,0.13312614,0.8484872,0.72338325,0.56312317,0.15741467,0.16856074,0.25449455,0.11690104,0.498532],[0.07368803,0.25621653,0.9673328,0.9334431,0.13913095,0.4887957,0.91204715,0.30419862,0.08202535,0.08075243,0.6398646,0.5631847,0.45486218,0.665144,0.545465,0.56071645,0.7556831,0.0049696565,0.29989803,0.14002198,0.8524626,0.17374003,0.4439022,0.6010906,0.75363714,0.31111777,0.38823777,0.10433197,0.86849535,0.2538147,0.030912817,0.81435335],[0.13568872,0.5812478,0.33706027,0.6728082,0.4215175,0.6000609,0.8309227,0.95707846,0.7112775,0.31151426,0.83564407,0.49506027,0.8318214,0.9339962,0.46128428,0.36528963,0.8180434,0.3245647,0.33363593,0.35989892,0.99868035,0.5473861,0.9964925,0.98045814,0.33355057,0.026136816,0.56391436,0.16934973,0.44426566,0.6441929,0.4299814,0.6215158],[0.49773955,0.7482994,0.12110084,0.7726961,0.7351913,0.058775663,0.91444546,0.31636447,0.8532143,0.9989282,0.08565402,0.525642,0.17308354,0.4774809,0.48368615,0.085787,0.6637527,0.52732766,0.51105857,0.5260727,0.50832194,0.198443,0.6264369,0.22701472,0.88395375,0.57017696,0.2801218,0.09378052,0.053254545,0.44574785,0.51178944,0.25710982],[0.6400188,0.8533384,0.6462789,0.7521086,0.12208152,0.09028822,0.27255303,0.8225986,0.2736702,0.033809125,0.4548208,0.18763375,0.110910416,0.38267618,0.75298864,0.65187126,0.8058313,0.9664201,0.2697099,0.7223221,0.37367916,0.6948226,0.78609914,0.28179777,0.81234014,0.3208542,0.12550169,0.7047186,0.46849155,0.68139637,0.73358256,0.53909874],[0.19638503,0.70575374,0.4217679,0.65520614,0.43402326,0.88716316,0.8546501,0.16050392,0.52458555,0.04681468,0.052312016,0.70970166,0.6938563,0.53171164,0.6543853,0.21616423,0.53700244,0.33912987,0.7705648,0.60186017,0.2956146,0.4946372,0.014130175,0.44346213,0.049836636,0.06506318,0.979254,0.9452752,0.88637626,0.24731374,0.21162176,0.71119505],[0.7449955,0.44432408,0.07295346,0.3364895,0.23168045,0.6034588,0.35078746,0.32583922,0.099978864,0.95279676,0.20829445,0.5746652,0.8957976,0.9807971,0.7847192,0.10245818,0.46552724,0.14718199,0.045191407,0.7641579,0.30615753,0.7003013,0.118819535,0.401057,0.3014664,0.11889905,0.28728914,0.11945015,0.14821237,0.9436498,0.2698251,0.69040203],[0.31843227,0.37835097,0.74835193,0.6506124,0.24423963,0.0556311,0.22213608,0.5472235,0.17597526,0.76742965,0.8832878,0.7275206,0.7698109,0.37841123,0.27956527,0.20115995,0.6653987,0.6749869,0.04502201,0.6806141,0.41876614,0.5562229,0.079087734,0.2795472,0.75508636,0.5545581,0.20189643,0.5561969,0.3516829,0.90928054,0.5955837,0.99151474],[0.11194843,0.38888443,0.18155104,0.024954975,0.78239495,0.31307983,0.15339786,0.34419096,0.11032605,0.8219286,0.48116922,0.53950405,0.5406453,0.7812852,0.84874684,0.33910847,0.13242519,0.019483209,0.9502076,0.69940305,0.64695394,0.107308924,0.75701094,0.42795026,0.0224846,0.80885017,0.39865732,0.3044601,0.4238568,0.73850626,0.55201054,0.056059718],[0.90155923,0.78865415,0.12103975,0.48237652,0.33029556,0.67162496,0.7040198,0.50021607,0.9331972,0.5244458,0.5017358,0.38134187,0.5596403,0.06228012,0.18718922,0.81759673,0.5869832,0.33342546,0.80657476,0.25050306,0.88858086,0.39489228,0.13708526,0.8386998,0.44042933,0.7681322,0.6949523,0.81005126,0.25010884,0.62814945,0.6064753,0.8050416],[0.83210355,0.64683056,0.14281386,0.5983623,0.95385927,0.8545444,0.7814531,0.336994,0.8917729,0.20464736,0.043006122,0.39082128,0.25365102,0.32906002,0.4954772,0.7907851,0.50323135,0.6357332,0.214495,0.9407714,0.5561797,0.04503137,0.14079255,0.009186983,0.23063445,0.3227597,0.072234035,0.2581995,0.35204697,0.58076876,0.39669865,0.86118096],[0.55902493,0.6089246,0.6499829,0.26350218,0.27659076,0.732171,0.7706459,0.7878712,0.41855848,0.99531674,0.7133704,0.84354615,0.1807344,0.3440233,0.1182518,0.78312004,0.87148696,0.5053428,0.8884312,0.55521625,0.9499577,0.2313863,0.9199249,0.36381513,0.7716789,0.6895327,0.7768518,0.9969147,0.65616995,0.036667705,0.32192218,0.6951614],[0.0058971643,0.19589949,0.79635394,0.5071372,0.82540977,0.25236845,0.78496367,0.97297233,0.29220903,0.15240479,0.37076223,0.4517147,0.30846024,0.027144969,0.5470829,0.8532379,0.0069563985,0.6792384,0.99928284,0.7340181,0.18795174,0.56490177,0.7492995,0.94842935,0.6605619,0.5036036,0.9691233,0.5566348,0.38861305,0.06271148,0.72704476,0.57044774],[0.5211167,0.47976035,0.6014708,0.9933855,0.20310146,0.7100202,0.16829187,0.30504793,0.8245096,0.98765695,0.36279774,0.040813148,0.08784318,0.6002119,0.55256486,0.5952843,0.39149874,0.02766192,0.6494563,0.7669993,0.6949856,0.09578055,0.5686131,0.8762895,0.4144227,0.33174074,0.6070139,0.22446,0.6493928,0.5465069,0.95309234,0.00004941225],[0.52608836,0.3274625,0.6622718,0.5141694,0.3349697,0.13586563,0.49256152,0.07155228,0.6355465,0.94290733,0.6474163,0.9567157,0.98317456,0.6221902,0.37605786,0.39933592,0.16876602,0.5941104,0.0052815676,0.27253085,0.67302495,0.96829426,0.9938106,0.14926016,0.39913386,0.5465559,0.55198747,0.49973297,0.61661696,0.27673054,0.8135909,0.24693453],[0.8554687,0.6333262,0.43751228,0.69045687,0.30499554,0.45027673,0.95730036,0.6767783,0.7462895,0.19856608,0.30565453,0.37109667,0.5946013,0.3889153,0.6068522,0.7898385,0.512141,0.078454554,0.913561,0.03531283,0.3454203,0.7308538,0.7449022,0.077551186,0.96942157,0.03796637,0.94635564,0.017444193,0.6537468,0.12278515,0.88506603,0.08014089]],\"type\":\"heatmap\",\"xaxis\":\"x\",\"yaxis\":\"y\",\"hovertemplate\":\"x: %{x}\\u003cbr\\u003ey: %{y}\\u003cbr\\u003ecolor: %{z}\\u003cextra\\u003e\\u003c\\u002fextra\\u003e\"}],                        {\"template\":{\"data\":{\"histogram2dcontour\":[{\"type\":\"histogram2dcontour\",\"colorbar\":{\"outlinewidth\":0,\"ticks\":\"\"},\"colorscale\":[[0.0,\"#0d0887\"],[0.1111111111111111,\"#46039f\"],[0.2222222222222222,\"#7201a8\"],[0.3333333333333333,\"#9c179e\"],[0.4444444444444444,\"#bd3786\"],[0.5555555555555556,\"#d8576b\"],[0.6666666666666666,\"#ed7953\"],[0.7777777777777778,\"#fb9f3a\"],[0.8888888888888888,\"#fdca26\"],[1.0,\"#f0f921\"]]}],\"choropleth\":[{\"type\":\"choropleth\",\"colorbar\":{\"outlinewidth\":0,\"ticks\":\"\"}}],\"histogram2d\":[{\"type\":\"histogram2d\",\"colorbar\":{\"outlinewidth\":0,\"ticks\":\"\"},\"colorscale\":[[0.0,\"#0d0887\"],[0.1111111111111111,\"#46039f\"],[0.2222222222222222,\"#7201a8\"],[0.3333333333333333,\"#9c179e\"],[0.4444444444444444,\"#bd3786\"],[0.5555555555555556,\"#d8576b\"],[0.6666666666666666,\"#ed7953\"],[0.7777777777777778,\"#fb9f3a\"],[0.8888888888888888,\"#fdca26\"],[1.0,\"#f0f921\"]]}],\"heatmap\":[{\"type\":\"heatmap\",\"colorbar\":{\"outlinewidth\":0,\"ticks\":\"\"},\"colorscale\":[[0.0,\"#0d0887\"],[0.1111111111111111,\"#46039f\"],[0.2222222222222222,\"#7201a8\"],[0.3333333333333333,\"#9c179e\"],[0.4444444444444444,\"#bd3786\"],[0.5555555555555556,\"#d8576b\"],[0.6666666666666666,\"#ed7953\"],[0.7777777777777778,\"#fb9f3a\"],[0.8888888888888888,\"#fdca26\"],[1.0,\"#f0f921\"]]}],\"heatmapgl\":[{\"type\":\"heatmapgl\",\"colorbar\":{\"outlinewidth\":0,\"ticks\":\"\"},\"colorscale\":[[0.0,\"#0d0887\"],[0.1111111111111111,\"#46039f\"],[0.2222222222222222,\"#7201a8\"],[0.3333333333333333,\"#9c179e\"],[0.4444444444444444,\"#bd3786\"],[0.5555555555555556,\"#d8576b\"],[0.6666666666666666,\"#ed7953\"],[0.7777777777777778,\"#fb9f3a\"],[0.8888888888888888,\"#fdca26\"],[1.0,\"#f0f921\"]]}],\"contourcarpet\":[{\"type\":\"contourcarpet\",\"colorbar\":{\"outlinewidth\":0,\"ticks\":\"\"}}],\"contour\":[{\"type\":\"contour\",\"colorbar\":{\"outlinewidth\":0,\"ticks\":\"\"},\"colorscale\":[[0.0,\"#0d0887\"],[0.1111111111111111,\"#46039f\"],[0.2222222222222222,\"#7201a8\"],[0.3333333333333333,\"#9c179e\"],[0.4444444444444444,\"#bd3786\"],[0.5555555555555556,\"#d8576b\"],[0.6666666666666666,\"#ed7953\"],[0.7777777777777778,\"#fb9f3a\"],[0.8888888888888888,\"#fdca26\"],[1.0,\"#f0f921\"]]}],\"surface\":[{\"type\":\"surface\",\"colorbar\":{\"outlinewidth\":0,\"ticks\":\"\"},\"colorscale\":[[0.0,\"#0d0887\"],[0.1111111111111111,\"#46039f\"],[0.2222222222222222,\"#7201a8\"],[0.3333333333333333,\"#9c179e\"],[0.4444444444444444,\"#bd3786\"],[0.5555555555555556,\"#d8576b\"],[0.6666666666666666,\"#ed7953\"],[0.7777777777777778,\"#fb9f3a\"],[0.8888888888888888,\"#fdca26\"],[1.0,\"#f0f921\"]]}],\"mesh3d\":[{\"type\":\"mesh3d\",\"colorbar\":{\"outlinewidth\":0,\"ticks\":\"\"}}],\"scatter\":[{\"fillpattern\":{\"fillmode\":\"overlay\",\"size\":10,\"solidity\":0.2},\"type\":\"scatter\"}],\"parcoords\":[{\"type\":\"parcoords\",\"line\":{\"colorbar\":{\"outlinewidth\":0,\"ticks\":\"\"}}}],\"scatterpolargl\":[{\"type\":\"scatterpolargl\",\"marker\":{\"colorbar\":{\"outlinewidth\":0,\"ticks\":\"\"}}}],\"bar\":[{\"error_x\":{\"color\":\"#2a3f5f\"},\"error_y\":{\"color\":\"#2a3f5f\"},\"marker\":{\"line\":{\"color\":\"#E5ECF6\",\"width\":0.5},\"pattern\":{\"fillmode\":\"overlay\",\"size\":10,\"solidity\":0.2}},\"type\":\"bar\"}],\"scattergeo\":[{\"type\":\"scattergeo\",\"marker\":{\"colorbar\":{\"outlinewidth\":0,\"ticks\":\"\"}}}],\"scatterpolar\":[{\"type\":\"scatterpolar\",\"marker\":{\"colorbar\":{\"outlinewidth\":0,\"ticks\":\"\"}}}],\"histogram\":[{\"marker\":{\"pattern\":{\"fillmode\":\"overlay\",\"size\":10,\"solidity\":0.2}},\"type\":\"histogram\"}],\"scattergl\":[{\"type\":\"scattergl\",\"marker\":{\"colorbar\":{\"outlinewidth\":0,\"ticks\":\"\"}}}],\"scatter3d\":[{\"type\":\"scatter3d\",\"line\":{\"colorbar\":{\"outlinewidth\":0,\"ticks\":\"\"}},\"marker\":{\"colorbar\":{\"outlinewidth\":0,\"ticks\":\"\"}}}],\"scattermapbox\":[{\"type\":\"scattermapbox\",\"marker\":{\"colorbar\":{\"outlinewidth\":0,\"ticks\":\"\"}}}],\"scatterternary\":[{\"type\":\"scatterternary\",\"marker\":{\"colorbar\":{\"outlinewidth\":0,\"ticks\":\"\"}}}],\"scattercarpet\":[{\"type\":\"scattercarpet\",\"marker\":{\"colorbar\":{\"outlinewidth\":0,\"ticks\":\"\"}}}],\"carpet\":[{\"aaxis\":{\"endlinecolor\":\"#2a3f5f\",\"gridcolor\":\"white\",\"linecolor\":\"white\",\"minorgridcolor\":\"white\",\"startlinecolor\":\"#2a3f5f\"},\"baxis\":{\"endlinecolor\":\"#2a3f5f\",\"gridcolor\":\"white\",\"linecolor\":\"white\",\"minorgridcolor\":\"white\",\"startlinecolor\":\"#2a3f5f\"},\"type\":\"carpet\"}],\"table\":[{\"cells\":{\"fill\":{\"color\":\"#EBF0F8\"},\"line\":{\"color\":\"white\"}},\"header\":{\"fill\":{\"color\":\"#C8D4E3\"},\"line\":{\"color\":\"white\"}},\"type\":\"table\"}],\"barpolar\":[{\"marker\":{\"line\":{\"color\":\"#E5ECF6\",\"width\":0.5},\"pattern\":{\"fillmode\":\"overlay\",\"size\":10,\"solidity\":0.2}},\"type\":\"barpolar\"}],\"pie\":[{\"automargin\":true,\"type\":\"pie\"}]},\"layout\":{\"autotypenumbers\":\"strict\",\"colorway\":[\"#636efa\",\"#EF553B\",\"#00cc96\",\"#ab63fa\",\"#FFA15A\",\"#19d3f3\",\"#FF6692\",\"#B6E880\",\"#FF97FF\",\"#FECB52\"],\"font\":{\"color\":\"#2a3f5f\"},\"hovermode\":\"closest\",\"hoverlabel\":{\"align\":\"left\"},\"paper_bgcolor\":\"white\",\"plot_bgcolor\":\"#E5ECF6\",\"polar\":{\"bgcolor\":\"#E5ECF6\",\"angularaxis\":{\"gridcolor\":\"white\",\"linecolor\":\"white\",\"ticks\":\"\"},\"radialaxis\":{\"gridcolor\":\"white\",\"linecolor\":\"white\",\"ticks\":\"\"}},\"ternary\":{\"bgcolor\":\"#E5ECF6\",\"aaxis\":{\"gridcolor\":\"white\",\"linecolor\":\"white\",\"ticks\":\"\"},\"baxis\":{\"gridcolor\":\"white\",\"linecolor\":\"white\",\"ticks\":\"\"},\"caxis\":{\"gridcolor\":\"white\",\"linecolor\":\"white\",\"ticks\":\"\"}},\"coloraxis\":{\"colorbar\":{\"outlinewidth\":0,\"ticks\":\"\"}},\"colorscale\":{\"sequential\":[[0.0,\"#0d0887\"],[0.1111111111111111,\"#46039f\"],[0.2222222222222222,\"#7201a8\"],[0.3333333333333333,\"#9c179e\"],[0.4444444444444444,\"#bd3786\"],[0.5555555555555556,\"#d8576b\"],[0.6666666666666666,\"#ed7953\"],[0.7777777777777778,\"#fb9f3a\"],[0.8888888888888888,\"#fdca26\"],[1.0,\"#f0f921\"]],\"sequentialminus\":[[0.0,\"#0d0887\"],[0.1111111111111111,\"#46039f\"],[0.2222222222222222,\"#7201a8\"],[0.3333333333333333,\"#9c179e\"],[0.4444444444444444,\"#bd3786\"],[0.5555555555555556,\"#d8576b\"],[0.6666666666666666,\"#ed7953\"],[0.7777777777777778,\"#fb9f3a\"],[0.8888888888888888,\"#fdca26\"],[1.0,\"#f0f921\"]],\"diverging\":[[0,\"#8e0152\"],[0.1,\"#c51b7d\"],[0.2,\"#de77ae\"],[0.3,\"#f1b6da\"],[0.4,\"#fde0ef\"],[0.5,\"#f7f7f7\"],[0.6,\"#e6f5d0\"],[0.7,\"#b8e186\"],[0.8,\"#7fbc41\"],[0.9,\"#4d9221\"],[1,\"#276419\"]]},\"xaxis\":{\"gridcolor\":\"white\",\"linecolor\":\"white\",\"ticks\":\"\",\"title\":{\"standoff\":15},\"zerolinecolor\":\"white\",\"automargin\":true,\"zerolinewidth\":2},\"yaxis\":{\"gridcolor\":\"white\",\"linecolor\":\"white\",\"ticks\":\"\",\"title\":{\"standoff\":15},\"zerolinecolor\":\"white\",\"automargin\":true,\"zerolinewidth\":2},\"scene\":{\"xaxis\":{\"backgroundcolor\":\"#E5ECF6\",\"gridcolor\":\"white\",\"linecolor\":\"white\",\"showbackground\":true,\"ticks\":\"\",\"zerolinecolor\":\"white\",\"gridwidth\":2},\"yaxis\":{\"backgroundcolor\":\"#E5ECF6\",\"gridcolor\":\"white\",\"linecolor\":\"white\",\"showbackground\":true,\"ticks\":\"\",\"zerolinecolor\":\"white\",\"gridwidth\":2},\"zaxis\":{\"backgroundcolor\":\"#E5ECF6\",\"gridcolor\":\"white\",\"linecolor\":\"white\",\"showbackground\":true,\"ticks\":\"\",\"zerolinecolor\":\"white\",\"gridwidth\":2}},\"shapedefaults\":{\"line\":{\"color\":\"#2a3f5f\"}},\"annotationdefaults\":{\"arrowcolor\":\"#2a3f5f\",\"arrowhead\":0,\"arrowwidth\":1},\"geo\":{\"bgcolor\":\"white\",\"landcolor\":\"#E5ECF6\",\"subunitcolor\":\"white\",\"showland\":true,\"showlakes\":true,\"lakecolor\":\"white\"},\"title\":{\"x\":0.05},\"mapbox\":{\"style\":\"light\"}}},\"xaxis\":{\"anchor\":\"y\",\"domain\":[0.0,1.0],\"scaleanchor\":\"y\",\"constrain\":\"domain\"},\"yaxis\":{\"anchor\":\"x\",\"domain\":[0.0,1.0],\"autorange\":\"reversed\",\"constrain\":\"domain\"},\"coloraxis\":{\"colorscale\":[[0.0,\"rgb(103,0,31)\"],[0.1,\"rgb(178,24,43)\"],[0.2,\"rgb(214,96,77)\"],[0.3,\"rgb(244,165,130)\"],[0.4,\"rgb(253,219,199)\"],[0.5,\"rgb(247,247,247)\"],[0.6,\"rgb(209,229,240)\"],[0.7,\"rgb(146,197,222)\"],[0.8,\"rgb(67,147,195)\"],[0.9,\"rgb(33,102,172)\"],[1.0,\"rgb(5,48,97)\"]],\"cmid\":0.0},\"title\":{\"text\":\"Matrix 1\"}},                        {\"responsive\": true}                    ).then(function(){\n",
       "                            \n",
       "var gd = document.getElementById('1ea45ef7-2c7c-409e-ac99-c58b7c6d0be1');\n",
       "var x = new MutationObserver(function (mutations, observer) {{\n",
       "        var display = window.getComputedStyle(gd).display;\n",
       "        if (!display || display === 'none') {{\n",
       "            console.log([gd, 'removed!']);\n",
       "            Plotly.purge(gd);\n",
       "            observer.disconnect();\n",
       "        }}\n",
       "}});\n",
       "\n",
       "// Listen for the removal of the full notebook cells\n",
       "var notebookContainer = gd.closest('#notebook-container');\n",
       "if (notebookContainer) {{\n",
       "    x.observe(notebookContainer, {childList: true});\n",
       "}}\n",
       "\n",
       "// Listen for the clearing of the current output cell\n",
       "var outputEl = gd.closest('.output');\n",
       "if (outputEl) {{\n",
       "    x.observe(outputEl, {childList: true});\n",
       "}}\n",
       "\n",
       "                        })                };                });            </script>        </div>"
      ]
     },
     "metadata": {},
     "output_type": "display_data"
    },
    {
     "data": {
      "application/vnd.plotly.v1+json": {
       "config": {
        "plotlyServerURL": "https://plot.ly"
       },
       "data": [
        {
         "coloraxis": "coloraxis",
         "hovertemplate": "x: %{x}<br>y: %{y}<br>color: %{z}<extra></extra>",
         "name": "0",
         "type": "heatmap",
         "xaxis": "x",
         "yaxis": "y",
         "z": [
          [
           0.9695169,
           0.70350313,
           0.16139442,
           0.8946026,
           0.3588962,
           0.21406466,
           0.29962528,
           0.044499755,
           0.56834686,
           0.35157573,
           0.9612887,
           0.5512194,
           0.40910292,
           0.19582641,
           0.29901248,
           0.79157484,
           0.25007898,
           0.21305293,
           0.70866203,
           0.16670758,
           0.14477348,
           0.22452158,
           0.05772078,
           0.35350108,
           0.03222722,
           0.48650253,
           0.8174482,
           0.7207446,
           0.84706026,
           0.042461514,
           0.6692318,
           0.8654996
          ],
          [
           0.7451279,
           0.64660776,
           0.34209347,
           0.2842825,
           0.5088984,
           0.8885807,
           0.14779383,
           0.50162023,
           0.78117,
           0.28217041,
           0.7986796,
           0.049484253,
           0.5756434,
           0.9878982,
           0.5134986,
           0.87825686,
           0.66219044,
           0.5097616,
           0.51352495,
           0.21839184,
           0.21952343,
           0.019046664,
           0.8313477,
           0.65436035,
           0.5034617,
           0.65366644,
           0.21128744,
           0.40373582,
           0.42681342,
           0.73788834,
           0.20653296,
           0.28416467
          ],
          [
           0.21209699,
           0.7310097,
           0.74369425,
           0.30599284,
           0.74108016,
           0.5612937,
           0.3664099,
           0.27295005,
           0.33534527,
           0.35670012,
           0.31998056,
           0.8413374,
           0.6527909,
           0.6942165,
           0.2857092,
           0.0872339,
           0.93700045,
           0.33857012,
           0.46037936,
           0.39082295,
           0.32377797,
           0.29969668,
           0.04796654,
           0.8194547,
           0.98577154,
           0.10496491,
           0.3010456,
           0.05814588,
           0.87004083,
           0.8567249,
           0.2952425,
           0.4033265
          ],
          [
           0.016642034,
           0.05079329,
           0.5289967,
           0.3145867,
           0.31603462,
           0.70114696,
           0.616761,
           0.78689903,
           0.14128846,
           0.47508186,
           0.8477831,
           0.4444,
           0.3425908,
           0.11483258,
           0.47940457,
           0.6027583,
           0.58425736,
           0.029551625,
           0.5112138,
           0.5995396,
           0.6860081,
           0.7825876,
           0.051054657,
           0.9292843,
           0.5444205,
           0.9482369,
           0.015533149,
           0.6211683,
           0.5083556,
           0.7418077,
           0.8308798,
           0.10018265
          ],
          [
           0.12662077,
           0.53431875,
           0.7301805,
           0.17293465,
           0.9481139,
           0.6983404,
           0.649505,
           0.55948037,
           0.5040537,
           0.65890485,
           0.05887413,
           0.6570914,
           0.66188884,
           0.32289338,
           0.23843509,
           0.7176549,
           0.041487455,
           0.18209249,
           0.56743443,
           0.71637446,
           0.57908076,
           0.021765113,
           0.47558856,
           0.12502605,
           0.16549563,
           0.5531758,
           0.4941287,
           0.441822,
           0.8674445,
           0.22890413,
           0.07660693,
           0.70534885
          ],
          [
           0.5647902,
           0.30762225,
           0.7727197,
           0.7336416,
           0.36782688,
           0.9609201,
           0.49099296,
           0.15212208,
           0.012275875,
           0.37204027,
           0.29845357,
           0.46836996,
           0.3640043,
           0.395154,
           0.3244335,
           0.65583944,
           0.7973905,
           0.9644294,
           0.3125599,
           0.04403335,
           0.96662074,
           0.62536794,
           0.23355395,
           0.3672611,
           0.44139957,
           0.021199226,
           0.9160479,
           0.4932766,
           0.06226653,
           0.9034636,
           0.83189243,
           0.59200716
          ],
          [
           0.4865653,
           0.02149129,
           0.5357012,
           0.79884994,
           0.35683215,
           0.7392632,
           0.95253754,
           0.2201733,
           0.019255698,
           0.6552708,
           0.28441072,
           0.73320633,
           0.5352993,
           0.3144647,
           0.96264964,
           0.40618253,
           0.86130965,
           0.71582127,
           0.5891361,
           0.30002582,
           0.8326792,
           0.769506,
           0.8891198,
           0.8736613,
           0.3362322,
           0.6722198,
           0.9551916,
           0.5761303,
           0.46826947,
           0.94992006,
           0.8039279,
           0.8207671
          ],
          [
           0.19720238,
           0.6746262,
           0.7029608,
           0.9946582,
           0.1084342,
           0.53551364,
           0.46452653,
           0.9019781,
           0.147152,
           0.3713776,
           0.9535223,
           0.6148232,
           0.42297322,
           0.27176148,
           0.99968493,
           0.7513831,
           0.82186866,
           0.7354484,
           0.72866404,
           0.14905739,
           0.07679278,
           0.0773986,
           0.62807894,
           0.12629181,
           0.008986175,
           0.9936161,
           0.93896306,
           0.8019796,
           0.33724403,
           0.13383311,
           0.41394973,
           0.24448645
          ],
          [
           0.5338775,
           0.12271404,
           0.605484,
           0.35339344,
           0.7922516,
           0.68552506,
           0.79717916,
           0.8320453,
           0.31474358,
           0.58423096,
           0.40420294,
           0.48023617,
           0.16452026,
           0.9942736,
           0.5790204,
           0.85547346,
           0.30682158,
           0.54484737,
           0.89115614,
           0.012239695,
           0.8756581,
           0.15865582,
           0.37072116,
           0.7563997,
           0.9387324,
           0.361143,
           0.6090636,
           0.8647627,
           0.5892026,
           0.89418274,
           0.6650106,
           0.5571491
          ],
          [
           0.929396,
           0.8723109,
           0.04978794,
           0.6303641,
           0.5671284,
           0.21769863,
           0.7556337,
           0.3659665,
           0.3400985,
           0.27620703,
           0.36914396,
           0.48605204,
           0.6776444,
           0.47799432,
           0.051066577,
           0.42828375,
           0.18775928,
           0.9232118,
           0.50578016,
           0.62088233,
           0.21181351,
           0.22345245,
           0.0977056,
           0.40628117,
           0.6854546,
           0.657437,
           0.99544096,
           0.90718895,
           0.68200123,
           0.82082194,
           0.73115873,
           0.7174992
          ],
          [
           0.81297493,
           0.9299201,
           0.9726879,
           0.14661431,
           0.038265467,
           0.32988507,
           0.3698535,
           0.47292835,
           0.22233218,
           0.29179168,
           0.114607155,
           0.3914314,
           0.576208,
           0.22733736,
           0.04952824,
           0.6748251,
           0.17295676,
           0.5744448,
           0.85628116,
           0.2867853,
           0.2493509,
           0.8760859,
           0.35345882,
           0.5253018,
           0.52843857,
           0.5818278,
           0.14210474,
           0.79222524,
           0.65499455,
           0.37030256,
           0.57802355,
           0.39341474
          ],
          [
           0.67943126,
           0.57356423,
           0.49648726,
           0.5776553,
           0.062836826,
           0.65562564,
           0.15035278,
           0.9119671,
           0.716776,
           0.077703655,
           0.04454595,
           0.96756786,
           0.11585444,
           0.5567863,
           0.20472533,
           0.028039396,
           0.10139489,
           0.9060535,
           0.95728844,
           0.13617676,
           0.0067880154,
           0.18847162,
           0.65339166,
           0.29830718,
           0.610577,
           0.67384785,
           0.63015723,
           0.9882505,
           0.95564735,
           0.45452046,
           0.900487,
           0.6811775
          ],
          [
           0.92449653,
           0.20366782,
           0.77584404,
           0.67470205,
           0.24355543,
           0.6445318,
           0.6481018,
           0.42939264,
           0.24014378,
           0.40943015,
           0.33469826,
           0.48745394,
           0.5529492,
           0.768897,
           0.90024394,
           0.8226851,
           0.27929246,
           0.7818535,
           0.22539294,
           0.9565737,
           0.96225566,
           0.13409358,
           0.8170485,
           0.13968211,
           0.4438759,
           0.24412394,
           0.14763725,
           0.5400536,
           0.1331383,
           0.3950907,
           0.15826303,
           0.9921127
          ],
          [
           0.67836493,
           0.5122636,
           0.7420763,
           0.08112717,
           0.1743707,
           0.22561818,
           0.70882267,
           0.15497011,
           0.44883442,
           0.7306551,
           0.11339736,
           0.88583666,
           0.7320917,
           0.22452068,
           0.14661485,
           0.7749499,
           0.16330296,
           0.58496433,
           0.7446076,
           0.3683564,
           0.6722047,
           0.36599422,
           0.9072138,
           0.854532,
           0.8797052,
           0.3978793,
           0.7864653,
           0.7306652,
           0.2515208,
           0.74755335,
           0.558428,
           0.0817399
          ],
          [
           0.74913096,
           0.28517747,
           0.55559444,
           0.8956238,
           0.8768373,
           0.42780417,
           0.49740458,
           0.790047,
           0.034051836,
           0.5331777,
           0.79339105,
           0.40676403,
           0.85794836,
           0.07300341,
           0.4603011,
           0.19374454,
           0.35814726,
           0.68206966,
           0.89840245,
           0.5239116,
           0.9202306,
           0.80934864,
           0.21716756,
           0.6071556,
           0.21416241,
           0.7622294,
           0.94634986,
           0.82111096,
           0.027423918,
           0.076973915,
           0.7117658,
           0.81342417
          ],
          [
           0.95451146,
           0.89692825,
           0.34171265,
           0.13486242,
           0.17350978,
           0.76218575,
           0.55026424,
           0.68071944,
           0.612579,
           0.26344615,
           0.47450393,
           0.03672093,
           0.19535291,
           0.0790835,
           0.097067416,
           0.2762817,
           0.4667591,
           0.8909082,
           0.98076445,
           0.33869255,
           0.58158326,
           0.26392782,
           0.97787994,
           0.31938493,
           0.63044816,
           0.3666857,
           0.20011628,
           0.6119575,
           0.38833696,
           0.5722152,
           0.41237533,
           0.6594648
          ],
          [
           0.3827989,
           0.010583341,
           0.22994316,
           0.520521,
           0.872515,
           0.16221976,
           0.8593793,
           0.75352275,
           0.15746605,
           0.22073585,
           0.0010334849,
           0.38945776,
           0.9394741,
           0.23192132,
           0.13776225,
           0.5488501,
           0.48363644,
           0.90709966,
           0.7493121,
           0.60252386,
           0.8652491,
           0.81085104,
           0.7285925,
           0.95072764,
           0.25368577,
           0.36732566,
           0.46366268,
           0.5377047,
           0.62738633,
           0.75474286,
           0.9514572,
           0.35474885
          ],
          [
           0.5308339,
           0.9241229,
           0.9602856,
           0.057341278,
           0.3322941,
           0.09037608,
           0.14184856,
           0.6918604,
           0.17201936,
           0.632911,
           0.9447257,
           0.22770423,
           0.8865546,
           0.2930265,
           0.33189213,
           0.2319498,
           0.5371878,
           0.2140466,
           0.66189826,
           0.82034016,
           0.9712379,
           0.34871387,
           0.2682559,
           0.78146935,
           0.5618076,
           0.39278156,
           0.58344823,
           0.5208814,
           0.30657786,
           0.70860434,
           0.8136857,
           0.9372372
          ],
          [
           0.16917884,
           0.83864516,
           0.37740695,
           0.5057094,
           0.67071646,
           0.21060377,
           0.3231235,
           0.9400806,
           0.4716769,
           0.11736995,
           0.2340864,
           0.14780778,
           0.5967503,
           0.14388812,
           0.76970106,
           0.38494444,
           0.6231752,
           0.3418041,
           0.8288451,
           0.90161383,
           0.6712475,
           0.94793826,
           0.7267916,
           0.6958054,
           0.35997087,
           0.48311293,
           0.23891222,
           0.96318835,
           0.56920594,
           0.9074002,
           0.2026059,
           0.024142504
          ],
          [
           0.78641444,
           0.6179659,
           0.12212199,
           0.8649766,
           0.64713657,
           0.37172478,
           0.57254696,
           0.39551437,
           0.17985094,
           0.9496486,
           0.40013278,
           0.23009276,
           0.1873644,
           0.6603753,
           0.3553055,
           0.9635956,
           0.09464854,
           0.04647726,
           0.6981204,
           0.94069856,
           0.98358095,
           0.19940418,
           0.97583985,
           0.44931877,
           0.5206256,
           0.51634586,
           0.32223338,
           0.18703437,
           0.4030313,
           0.40908992,
           0.97737896,
           0.721728
          ],
          [
           0.58985525,
           0.4742908,
           0.5880133,
           0.041065633,
           0.048294485,
           0.06628376,
           0.97801775,
           0.066070795,
           0.20164722,
           0.965395,
           0.5117333,
           0.80406547,
           0.73535484,
           0.9623638,
           0.64354914,
           0.04004264,
           0.6509614,
           0.13482994,
           0.14390135,
           0.54221463,
           0.036937773,
           0.66421807,
           0.8647058,
           0.016634047,
           0.98345405,
           0.39352387,
           0.08122337,
           0.38049555,
           0.87403154,
           0.58620584,
           0.84888625,
           0.92710805
          ],
          [
           0.29929274,
           0.72755724,
           0.31507045,
           0.28536075,
           0.11838043,
           0.319394,
           0.14370215,
           0.8328149,
           0.47913527,
           0.19489688,
           0.015766978,
           0.48672032,
           0.20729715,
           0.35051215,
           0.56824714,
           0.25483263,
           0.089839876,
           0.13690752,
           0.27354652,
           0.096734226,
           0.4273342,
           0.32987535,
           0.7874116,
           0.9602051,
           0.7985555,
           0.8861066,
           0.0005822778,
           0.17039704,
           0.0799796,
           0.10214758,
           0.18999076,
           0.80683225
          ],
          [
           0.022151649,
           0.6280205,
           0.3526861,
           0.49004334,
           0.16955674,
           0.50555676,
           0.44913644,
           0.4754297,
           0.48816127,
           0.031125367,
           0.67896235,
           0.7671471,
           0.08552849,
           0.8772426,
           0.59776294,
           0.27710348,
           0.0028791428,
           0.48389065,
           0.32677895,
           0.4330321,
           0.45428818,
           0.80283314,
           0.23140472,
           0.7910582,
           0.309825,
           0.40456218,
           0.5321612,
           0.52321875,
           0.8739301,
           0.7057946,
           0.80284065,
           0.13119489
          ],
          [
           0.44655192,
           0.24618661,
           0.18021077,
           0.11688626,
           0.064676166,
           0.23606843,
           0.28729022,
           0.4231016,
           0.67384815,
           0.73311305,
           0.07687956,
           0.26130658,
           0.7274053,
           0.12295741,
           0.84313864,
           0.77665263,
           0.053524554,
           0.17867565,
           0.68260986,
           0.23474234,
           0.71181047,
           0.6711598,
           0.8201322,
           0.3328848,
           0.8942956,
           0.7843274,
           0.7879221,
           0.8154289,
           0.9194676,
           0.118641734,
           0.63512874,
           0.38752806
          ],
          [
           0.23236662,
           0.8847439,
           0.07890123,
           0.13754034,
           0.034096777,
           0.13627827,
           0.078130364,
           0.7140899,
           0.34647882,
           0.8533876,
           0.2658409,
           0.6033542,
           0.07489234,
           0.1746,
           0.17260927,
           0.8624368,
           0.64473826,
           0.59666026,
           0.077584565,
           0.5738026,
           0.976151,
           0.030661881,
           0.9587937,
           0.71474975,
           0.63981825,
           0.6395226,
           0.48964918,
           0.70306414,
           0.85815185,
           0.34180343,
           0.7601064,
           0.95289564
          ],
          [
           0.44797432,
           0.9236568,
           0.105588496,
           0.3403051,
           0.7429825,
           0.740467,
           0.6766799,
           0.027652204,
           0.58977747,
           0.44243878,
           0.6765326,
           0.9731851,
           0.9585347,
           0.6857983,
           0.7838573,
           0.110492885,
           0.5681332,
           0.6434433,
           0.5150994,
           0.57473254,
           0.6089359,
           0.52924263,
           0.8725458,
           0.11624652,
           0.045478582,
           0.2769037,
           0.6127284,
           0.8461941,
           0.70629036,
           0.89962626,
           0.8685369,
           0.40426546
          ],
          [
           0.5744424,
           0.95345503,
           0.6832219,
           0.8589945,
           0.25605446,
           0.5430087,
           0.45628786,
           0.09261608,
           0.84700644,
           0.29759455,
           0.27633995,
           0.79153824,
           0.2841248,
           0.37817943,
           0.12998843,
           0.44340903,
           0.51512975,
           0.62234044,
           0.1835618,
           0.82258594,
           0.20391506,
           0.91390836,
           0.1256653,
           0.3626281,
           0.13362002,
           0.2626357,
           0.63344043,
           0.8242204,
           0.08286756,
           0.018347025,
           0.42659086,
           0.18119961
          ],
          [
           0.3510309,
           0.04013753,
           0.08623105,
           0.10827589,
           0.957701,
           0.8486023,
           0.59652823,
           0.95744014,
           0.21569765,
           0.33384293,
           0.6572737,
           0.08573651,
           0.19509202,
           0.84825563,
           0.45344025,
           0.82923347,
           0.71305954,
           0.12690836,
           0.6273696,
           0.12646824,
           0.36277372,
           0.96865475,
           0.45479816,
           0.68059576,
           0.28772998,
           0.9506949,
           0.70330256,
           0.18358356,
           0.1418289,
           0.24501806,
           0.06572962,
           0.11014116
          ],
          [
           0.82565784,
           0.42215598,
           0.96884024,
           0.52806115,
           0.14980543,
           0.63473326,
           0.5851724,
           0.34188324,
           0.49859434,
           0.68108124,
           0.07662356,
           0.8002986,
           0.9913993,
           0.76791495,
           0.14749491,
           0.1610477,
           0.2827105,
           0.54786396,
           0.85763365,
           0.87512743,
           0.58504057,
           0.9911866,
           0.6974529,
           0.6240793,
           0.31764787,
           0.62425494,
           0.1615985,
           0.18174946,
           0.46848887,
           0.62137026,
           0.93219477,
           0.25060886
          ],
          [
           0.1448443,
           0.0044597983,
           0.92274946,
           0.17840022,
           0.55643743,
           0.12796211,
           0.8634526,
           0.73371655,
           0.47108722,
           0.4733898,
           0.34989655,
           0.21174216,
           0.07911605,
           0.55927426,
           0.49826777,
           0.40237886,
           0.6297399,
           0.30797178,
           0.3643914,
           0.87840855,
           0.87184167,
           0.1643377,
           0.18812579,
           0.44206786,
           0.5875321,
           0.9689006,
           0.36394918,
           0.38654178,
           0.007392466,
           0.1315558,
           0.27693582,
           0.2461226
          ],
          [
           0.87417394,
           0.21721482,
           0.6824073,
           0.47579026,
           0.56669354,
           0.57401496,
           0.18656403,
           0.8875476,
           0.12727845,
           0.19675565,
           0.5161039,
           0.27603596,
           0.5420184,
           0.5031559,
           0.7568719,
           0.24376458,
           0.69312805,
           0.8237198,
           0.0011755228,
           0.48951286,
           0.9254374,
           0.6210126,
           0.023423553,
           0.037105024,
           0.9494002,
           0.056844592,
           0.78416884,
           0.37020463,
           0.8568146,
           0.8962454,
           0.118252456,
           0.68901473
          ],
          [
           0.5132496,
           0.026765764,
           0.23339725,
           0.013372898,
           0.991881,
           0.7623101,
           0.4611689,
           0.91914845,
           0.9019396,
           0.7666252,
           0.1272428,
           0.92393696,
           0.8767532,
           0.11501908,
           0.30505556,
           0.80291563,
           0.43109703,
           0.19470704,
           0.58636314,
           0.14805293,
           0.75840735,
           0.9648238,
           0.45549875,
           0.7090109,
           0.56353956,
           0.43980682,
           0.9704975,
           0.06243658,
           0.0683257,
           0.8450376,
           0.5417905,
           0.6750879
          ]
         ]
        }
       ],
       "layout": {
        "coloraxis": {
         "cmid": 0,
         "colorscale": [
          [
           0,
           "rgb(103,0,31)"
          ],
          [
           0.1,
           "rgb(178,24,43)"
          ],
          [
           0.2,
           "rgb(214,96,77)"
          ],
          [
           0.3,
           "rgb(244,165,130)"
          ],
          [
           0.4,
           "rgb(253,219,199)"
          ],
          [
           0.5,
           "rgb(247,247,247)"
          ],
          [
           0.6,
           "rgb(209,229,240)"
          ],
          [
           0.7,
           "rgb(146,197,222)"
          ],
          [
           0.8,
           "rgb(67,147,195)"
          ],
          [
           0.9,
           "rgb(33,102,172)"
          ],
          [
           1,
           "rgb(5,48,97)"
          ]
         ]
        },
        "template": {
         "data": {
          "bar": [
           {
            "error_x": {
             "color": "#2a3f5f"
            },
            "error_y": {
             "color": "#2a3f5f"
            },
            "marker": {
             "line": {
              "color": "#E5ECF6",
              "width": 0.5
             },
             "pattern": {
              "fillmode": "overlay",
              "size": 10,
              "solidity": 0.2
             }
            },
            "type": "bar"
           }
          ],
          "barpolar": [
           {
            "marker": {
             "line": {
              "color": "#E5ECF6",
              "width": 0.5
             },
             "pattern": {
              "fillmode": "overlay",
              "size": 10,
              "solidity": 0.2
             }
            },
            "type": "barpolar"
           }
          ],
          "carpet": [
           {
            "aaxis": {
             "endlinecolor": "#2a3f5f",
             "gridcolor": "white",
             "linecolor": "white",
             "minorgridcolor": "white",
             "startlinecolor": "#2a3f5f"
            },
            "baxis": {
             "endlinecolor": "#2a3f5f",
             "gridcolor": "white",
             "linecolor": "white",
             "minorgridcolor": "white",
             "startlinecolor": "#2a3f5f"
            },
            "type": "carpet"
           }
          ],
          "choropleth": [
           {
            "colorbar": {
             "outlinewidth": 0,
             "ticks": ""
            },
            "type": "choropleth"
           }
          ],
          "contour": [
           {
            "colorbar": {
             "outlinewidth": 0,
             "ticks": ""
            },
            "colorscale": [
             [
              0,
              "#0d0887"
             ],
             [
              0.1111111111111111,
              "#46039f"
             ],
             [
              0.2222222222222222,
              "#7201a8"
             ],
             [
              0.3333333333333333,
              "#9c179e"
             ],
             [
              0.4444444444444444,
              "#bd3786"
             ],
             [
              0.5555555555555556,
              "#d8576b"
             ],
             [
              0.6666666666666666,
              "#ed7953"
             ],
             [
              0.7777777777777778,
              "#fb9f3a"
             ],
             [
              0.8888888888888888,
              "#fdca26"
             ],
             [
              1,
              "#f0f921"
             ]
            ],
            "type": "contour"
           }
          ],
          "contourcarpet": [
           {
            "colorbar": {
             "outlinewidth": 0,
             "ticks": ""
            },
            "type": "contourcarpet"
           }
          ],
          "heatmap": [
           {
            "colorbar": {
             "outlinewidth": 0,
             "ticks": ""
            },
            "colorscale": [
             [
              0,
              "#0d0887"
             ],
             [
              0.1111111111111111,
              "#46039f"
             ],
             [
              0.2222222222222222,
              "#7201a8"
             ],
             [
              0.3333333333333333,
              "#9c179e"
             ],
             [
              0.4444444444444444,
              "#bd3786"
             ],
             [
              0.5555555555555556,
              "#d8576b"
             ],
             [
              0.6666666666666666,
              "#ed7953"
             ],
             [
              0.7777777777777778,
              "#fb9f3a"
             ],
             [
              0.8888888888888888,
              "#fdca26"
             ],
             [
              1,
              "#f0f921"
             ]
            ],
            "type": "heatmap"
           }
          ],
          "heatmapgl": [
           {
            "colorbar": {
             "outlinewidth": 0,
             "ticks": ""
            },
            "colorscale": [
             [
              0,
              "#0d0887"
             ],
             [
              0.1111111111111111,
              "#46039f"
             ],
             [
              0.2222222222222222,
              "#7201a8"
             ],
             [
              0.3333333333333333,
              "#9c179e"
             ],
             [
              0.4444444444444444,
              "#bd3786"
             ],
             [
              0.5555555555555556,
              "#d8576b"
             ],
             [
              0.6666666666666666,
              "#ed7953"
             ],
             [
              0.7777777777777778,
              "#fb9f3a"
             ],
             [
              0.8888888888888888,
              "#fdca26"
             ],
             [
              1,
              "#f0f921"
             ]
            ],
            "type": "heatmapgl"
           }
          ],
          "histogram": [
           {
            "marker": {
             "pattern": {
              "fillmode": "overlay",
              "size": 10,
              "solidity": 0.2
             }
            },
            "type": "histogram"
           }
          ],
          "histogram2d": [
           {
            "colorbar": {
             "outlinewidth": 0,
             "ticks": ""
            },
            "colorscale": [
             [
              0,
              "#0d0887"
             ],
             [
              0.1111111111111111,
              "#46039f"
             ],
             [
              0.2222222222222222,
              "#7201a8"
             ],
             [
              0.3333333333333333,
              "#9c179e"
             ],
             [
              0.4444444444444444,
              "#bd3786"
             ],
             [
              0.5555555555555556,
              "#d8576b"
             ],
             [
              0.6666666666666666,
              "#ed7953"
             ],
             [
              0.7777777777777778,
              "#fb9f3a"
             ],
             [
              0.8888888888888888,
              "#fdca26"
             ],
             [
              1,
              "#f0f921"
             ]
            ],
            "type": "histogram2d"
           }
          ],
          "histogram2dcontour": [
           {
            "colorbar": {
             "outlinewidth": 0,
             "ticks": ""
            },
            "colorscale": [
             [
              0,
              "#0d0887"
             ],
             [
              0.1111111111111111,
              "#46039f"
             ],
             [
              0.2222222222222222,
              "#7201a8"
             ],
             [
              0.3333333333333333,
              "#9c179e"
             ],
             [
              0.4444444444444444,
              "#bd3786"
             ],
             [
              0.5555555555555556,
              "#d8576b"
             ],
             [
              0.6666666666666666,
              "#ed7953"
             ],
             [
              0.7777777777777778,
              "#fb9f3a"
             ],
             [
              0.8888888888888888,
              "#fdca26"
             ],
             [
              1,
              "#f0f921"
             ]
            ],
            "type": "histogram2dcontour"
           }
          ],
          "mesh3d": [
           {
            "colorbar": {
             "outlinewidth": 0,
             "ticks": ""
            },
            "type": "mesh3d"
           }
          ],
          "parcoords": [
           {
            "line": {
             "colorbar": {
              "outlinewidth": 0,
              "ticks": ""
             }
            },
            "type": "parcoords"
           }
          ],
          "pie": [
           {
            "automargin": true,
            "type": "pie"
           }
          ],
          "scatter": [
           {
            "fillpattern": {
             "fillmode": "overlay",
             "size": 10,
             "solidity": 0.2
            },
            "type": "scatter"
           }
          ],
          "scatter3d": [
           {
            "line": {
             "colorbar": {
              "outlinewidth": 0,
              "ticks": ""
             }
            },
            "marker": {
             "colorbar": {
              "outlinewidth": 0,
              "ticks": ""
             }
            },
            "type": "scatter3d"
           }
          ],
          "scattercarpet": [
           {
            "marker": {
             "colorbar": {
              "outlinewidth": 0,
              "ticks": ""
             }
            },
            "type": "scattercarpet"
           }
          ],
          "scattergeo": [
           {
            "marker": {
             "colorbar": {
              "outlinewidth": 0,
              "ticks": ""
             }
            },
            "type": "scattergeo"
           }
          ],
          "scattergl": [
           {
            "marker": {
             "colorbar": {
              "outlinewidth": 0,
              "ticks": ""
             }
            },
            "type": "scattergl"
           }
          ],
          "scattermapbox": [
           {
            "marker": {
             "colorbar": {
              "outlinewidth": 0,
              "ticks": ""
             }
            },
            "type": "scattermapbox"
           }
          ],
          "scatterpolar": [
           {
            "marker": {
             "colorbar": {
              "outlinewidth": 0,
              "ticks": ""
             }
            },
            "type": "scatterpolar"
           }
          ],
          "scatterpolargl": [
           {
            "marker": {
             "colorbar": {
              "outlinewidth": 0,
              "ticks": ""
             }
            },
            "type": "scatterpolargl"
           }
          ],
          "scatterternary": [
           {
            "marker": {
             "colorbar": {
              "outlinewidth": 0,
              "ticks": ""
             }
            },
            "type": "scatterternary"
           }
          ],
          "surface": [
           {
            "colorbar": {
             "outlinewidth": 0,
             "ticks": ""
            },
            "colorscale": [
             [
              0,
              "#0d0887"
             ],
             [
              0.1111111111111111,
              "#46039f"
             ],
             [
              0.2222222222222222,
              "#7201a8"
             ],
             [
              0.3333333333333333,
              "#9c179e"
             ],
             [
              0.4444444444444444,
              "#bd3786"
             ],
             [
              0.5555555555555556,
              "#d8576b"
             ],
             [
              0.6666666666666666,
              "#ed7953"
             ],
             [
              0.7777777777777778,
              "#fb9f3a"
             ],
             [
              0.8888888888888888,
              "#fdca26"
             ],
             [
              1,
              "#f0f921"
             ]
            ],
            "type": "surface"
           }
          ],
          "table": [
           {
            "cells": {
             "fill": {
              "color": "#EBF0F8"
             },
             "line": {
              "color": "white"
             }
            },
            "header": {
             "fill": {
              "color": "#C8D4E3"
             },
             "line": {
              "color": "white"
             }
            },
            "type": "table"
           }
          ]
         },
         "layout": {
          "annotationdefaults": {
           "arrowcolor": "#2a3f5f",
           "arrowhead": 0,
           "arrowwidth": 1
          },
          "autotypenumbers": "strict",
          "coloraxis": {
           "colorbar": {
            "outlinewidth": 0,
            "ticks": ""
           }
          },
          "colorscale": {
           "diverging": [
            [
             0,
             "#8e0152"
            ],
            [
             0.1,
             "#c51b7d"
            ],
            [
             0.2,
             "#de77ae"
            ],
            [
             0.3,
             "#f1b6da"
            ],
            [
             0.4,
             "#fde0ef"
            ],
            [
             0.5,
             "#f7f7f7"
            ],
            [
             0.6,
             "#e6f5d0"
            ],
            [
             0.7,
             "#b8e186"
            ],
            [
             0.8,
             "#7fbc41"
            ],
            [
             0.9,
             "#4d9221"
            ],
            [
             1,
             "#276419"
            ]
           ],
           "sequential": [
            [
             0,
             "#0d0887"
            ],
            [
             0.1111111111111111,
             "#46039f"
            ],
            [
             0.2222222222222222,
             "#7201a8"
            ],
            [
             0.3333333333333333,
             "#9c179e"
            ],
            [
             0.4444444444444444,
             "#bd3786"
            ],
            [
             0.5555555555555556,
             "#d8576b"
            ],
            [
             0.6666666666666666,
             "#ed7953"
            ],
            [
             0.7777777777777778,
             "#fb9f3a"
            ],
            [
             0.8888888888888888,
             "#fdca26"
            ],
            [
             1,
             "#f0f921"
            ]
           ],
           "sequentialminus": [
            [
             0,
             "#0d0887"
            ],
            [
             0.1111111111111111,
             "#46039f"
            ],
            [
             0.2222222222222222,
             "#7201a8"
            ],
            [
             0.3333333333333333,
             "#9c179e"
            ],
            [
             0.4444444444444444,
             "#bd3786"
            ],
            [
             0.5555555555555556,
             "#d8576b"
            ],
            [
             0.6666666666666666,
             "#ed7953"
            ],
            [
             0.7777777777777778,
             "#fb9f3a"
            ],
            [
             0.8888888888888888,
             "#fdca26"
            ],
            [
             1,
             "#f0f921"
            ]
           ]
          },
          "colorway": [
           "#636efa",
           "#EF553B",
           "#00cc96",
           "#ab63fa",
           "#FFA15A",
           "#19d3f3",
           "#FF6692",
           "#B6E880",
           "#FF97FF",
           "#FECB52"
          ],
          "font": {
           "color": "#2a3f5f"
          },
          "geo": {
           "bgcolor": "white",
           "lakecolor": "white",
           "landcolor": "#E5ECF6",
           "showlakes": true,
           "showland": true,
           "subunitcolor": "white"
          },
          "hoverlabel": {
           "align": "left"
          },
          "hovermode": "closest",
          "mapbox": {
           "style": "light"
          },
          "paper_bgcolor": "white",
          "plot_bgcolor": "#E5ECF6",
          "polar": {
           "angularaxis": {
            "gridcolor": "white",
            "linecolor": "white",
            "ticks": ""
           },
           "bgcolor": "#E5ECF6",
           "radialaxis": {
            "gridcolor": "white",
            "linecolor": "white",
            "ticks": ""
           }
          },
          "scene": {
           "xaxis": {
            "backgroundcolor": "#E5ECF6",
            "gridcolor": "white",
            "gridwidth": 2,
            "linecolor": "white",
            "showbackground": true,
            "ticks": "",
            "zerolinecolor": "white"
           },
           "yaxis": {
            "backgroundcolor": "#E5ECF6",
            "gridcolor": "white",
            "gridwidth": 2,
            "linecolor": "white",
            "showbackground": true,
            "ticks": "",
            "zerolinecolor": "white"
           },
           "zaxis": {
            "backgroundcolor": "#E5ECF6",
            "gridcolor": "white",
            "gridwidth": 2,
            "linecolor": "white",
            "showbackground": true,
            "ticks": "",
            "zerolinecolor": "white"
           }
          },
          "shapedefaults": {
           "line": {
            "color": "#2a3f5f"
           }
          },
          "ternary": {
           "aaxis": {
            "gridcolor": "white",
            "linecolor": "white",
            "ticks": ""
           },
           "baxis": {
            "gridcolor": "white",
            "linecolor": "white",
            "ticks": ""
           },
           "bgcolor": "#E5ECF6",
           "caxis": {
            "gridcolor": "white",
            "linecolor": "white",
            "ticks": ""
           }
          },
          "title": {
           "x": 0.05
          },
          "xaxis": {
           "automargin": true,
           "gridcolor": "white",
           "linecolor": "white",
           "ticks": "",
           "title": {
            "standoff": 15
           },
           "zerolinecolor": "white",
           "zerolinewidth": 2
          },
          "yaxis": {
           "automargin": true,
           "gridcolor": "white",
           "linecolor": "white",
           "ticks": "",
           "title": {
            "standoff": 15
           },
           "zerolinecolor": "white",
           "zerolinewidth": 2
          }
         }
        },
        "title": {
         "text": "Matrix 2"
        },
        "xaxis": {
         "anchor": "y",
         "constrain": "domain",
         "domain": [
          0,
          1
         ],
         "scaleanchor": "y"
        },
        "yaxis": {
         "anchor": "x",
         "autorange": "reversed",
         "constrain": "domain",
         "domain": [
          0,
          1
         ]
        }
       }
      },
      "text/html": [
       "<div>                            <div id=\"5a5cb873-cb0b-4a59-855c-c4ede34e4a4f\" class=\"plotly-graph-div\" style=\"height:525px; width:100%;\"></div>            <script type=\"text/javascript\">                require([\"plotly\"], function(Plotly) {                    window.PLOTLYENV=window.PLOTLYENV || {};                                    if (document.getElementById(\"5a5cb873-cb0b-4a59-855c-c4ede34e4a4f\")) {                    Plotly.newPlot(                        \"5a5cb873-cb0b-4a59-855c-c4ede34e4a4f\",                        [{\"coloraxis\":\"coloraxis\",\"name\":\"0\",\"z\":[[0.9695169,0.70350313,0.16139442,0.8946026,0.3588962,0.21406466,0.29962528,0.044499755,0.56834686,0.35157573,0.9612887,0.5512194,0.40910292,0.19582641,0.29901248,0.79157484,0.25007898,0.21305293,0.70866203,0.16670758,0.14477348,0.22452158,0.05772078,0.35350108,0.03222722,0.48650253,0.8174482,0.7207446,0.84706026,0.042461514,0.6692318,0.8654996],[0.7451279,0.64660776,0.34209347,0.2842825,0.5088984,0.8885807,0.14779383,0.50162023,0.78117,0.28217041,0.7986796,0.049484253,0.5756434,0.9878982,0.5134986,0.87825686,0.66219044,0.5097616,0.51352495,0.21839184,0.21952343,0.019046664,0.8313477,0.65436035,0.5034617,0.65366644,0.21128744,0.40373582,0.42681342,0.73788834,0.20653296,0.28416467],[0.21209699,0.7310097,0.74369425,0.30599284,0.74108016,0.5612937,0.3664099,0.27295005,0.33534527,0.35670012,0.31998056,0.8413374,0.6527909,0.6942165,0.2857092,0.0872339,0.93700045,0.33857012,0.46037936,0.39082295,0.32377797,0.29969668,0.04796654,0.8194547,0.98577154,0.10496491,0.3010456,0.05814588,0.87004083,0.8567249,0.2952425,0.4033265],[0.016642034,0.05079329,0.5289967,0.3145867,0.31603462,0.70114696,0.616761,0.78689903,0.14128846,0.47508186,0.8477831,0.4444,0.3425908,0.11483258,0.47940457,0.6027583,0.58425736,0.029551625,0.5112138,0.5995396,0.6860081,0.7825876,0.051054657,0.9292843,0.5444205,0.9482369,0.015533149,0.6211683,0.5083556,0.7418077,0.8308798,0.10018265],[0.12662077,0.53431875,0.7301805,0.17293465,0.9481139,0.6983404,0.649505,0.55948037,0.5040537,0.65890485,0.05887413,0.6570914,0.66188884,0.32289338,0.23843509,0.7176549,0.041487455,0.18209249,0.56743443,0.71637446,0.57908076,0.021765113,0.47558856,0.12502605,0.16549563,0.5531758,0.4941287,0.441822,0.8674445,0.22890413,0.07660693,0.70534885],[0.5647902,0.30762225,0.7727197,0.7336416,0.36782688,0.9609201,0.49099296,0.15212208,0.012275875,0.37204027,0.29845357,0.46836996,0.3640043,0.395154,0.3244335,0.65583944,0.7973905,0.9644294,0.3125599,0.04403335,0.96662074,0.62536794,0.23355395,0.3672611,0.44139957,0.021199226,0.9160479,0.4932766,0.06226653,0.9034636,0.83189243,0.59200716],[0.4865653,0.02149129,0.5357012,0.79884994,0.35683215,0.7392632,0.95253754,0.2201733,0.019255698,0.6552708,0.28441072,0.73320633,0.5352993,0.3144647,0.96264964,0.40618253,0.86130965,0.71582127,0.5891361,0.30002582,0.8326792,0.769506,0.8891198,0.8736613,0.3362322,0.6722198,0.9551916,0.5761303,0.46826947,0.94992006,0.8039279,0.8207671],[0.19720238,0.6746262,0.7029608,0.9946582,0.1084342,0.53551364,0.46452653,0.9019781,0.147152,0.3713776,0.9535223,0.6148232,0.42297322,0.27176148,0.99968493,0.7513831,0.82186866,0.7354484,0.72866404,0.14905739,0.07679278,0.0773986,0.62807894,0.12629181,0.008986175,0.9936161,0.93896306,0.8019796,0.33724403,0.13383311,0.41394973,0.24448645],[0.5338775,0.12271404,0.605484,0.35339344,0.7922516,0.68552506,0.79717916,0.8320453,0.31474358,0.58423096,0.40420294,0.48023617,0.16452026,0.9942736,0.5790204,0.85547346,0.30682158,0.54484737,0.89115614,0.012239695,0.8756581,0.15865582,0.37072116,0.7563997,0.9387324,0.361143,0.6090636,0.8647627,0.5892026,0.89418274,0.6650106,0.5571491],[0.929396,0.8723109,0.04978794,0.6303641,0.5671284,0.21769863,0.7556337,0.3659665,0.3400985,0.27620703,0.36914396,0.48605204,0.6776444,0.47799432,0.051066577,0.42828375,0.18775928,0.9232118,0.50578016,0.62088233,0.21181351,0.22345245,0.0977056,0.40628117,0.6854546,0.657437,0.99544096,0.90718895,0.68200123,0.82082194,0.73115873,0.7174992],[0.81297493,0.9299201,0.9726879,0.14661431,0.038265467,0.32988507,0.3698535,0.47292835,0.22233218,0.29179168,0.114607155,0.3914314,0.576208,0.22733736,0.04952824,0.6748251,0.17295676,0.5744448,0.85628116,0.2867853,0.2493509,0.8760859,0.35345882,0.5253018,0.52843857,0.5818278,0.14210474,0.79222524,0.65499455,0.37030256,0.57802355,0.39341474],[0.67943126,0.57356423,0.49648726,0.5776553,0.062836826,0.65562564,0.15035278,0.9119671,0.716776,0.077703655,0.04454595,0.96756786,0.11585444,0.5567863,0.20472533,0.028039396,0.10139489,0.9060535,0.95728844,0.13617676,0.0067880154,0.18847162,0.65339166,0.29830718,0.610577,0.67384785,0.63015723,0.9882505,0.95564735,0.45452046,0.900487,0.6811775],[0.92449653,0.20366782,0.77584404,0.67470205,0.24355543,0.6445318,0.6481018,0.42939264,0.24014378,0.40943015,0.33469826,0.48745394,0.5529492,0.768897,0.90024394,0.8226851,0.27929246,0.7818535,0.22539294,0.9565737,0.96225566,0.13409358,0.8170485,0.13968211,0.4438759,0.24412394,0.14763725,0.5400536,0.1331383,0.3950907,0.15826303,0.9921127],[0.67836493,0.5122636,0.7420763,0.08112717,0.1743707,0.22561818,0.70882267,0.15497011,0.44883442,0.7306551,0.11339736,0.88583666,0.7320917,0.22452068,0.14661485,0.7749499,0.16330296,0.58496433,0.7446076,0.3683564,0.6722047,0.36599422,0.9072138,0.854532,0.8797052,0.3978793,0.7864653,0.7306652,0.2515208,0.74755335,0.558428,0.0817399],[0.74913096,0.28517747,0.55559444,0.8956238,0.8768373,0.42780417,0.49740458,0.790047,0.034051836,0.5331777,0.79339105,0.40676403,0.85794836,0.07300341,0.4603011,0.19374454,0.35814726,0.68206966,0.89840245,0.5239116,0.9202306,0.80934864,0.21716756,0.6071556,0.21416241,0.7622294,0.94634986,0.82111096,0.027423918,0.076973915,0.7117658,0.81342417],[0.95451146,0.89692825,0.34171265,0.13486242,0.17350978,0.76218575,0.55026424,0.68071944,0.612579,0.26344615,0.47450393,0.03672093,0.19535291,0.0790835,0.097067416,0.2762817,0.4667591,0.8909082,0.98076445,0.33869255,0.58158326,0.26392782,0.97787994,0.31938493,0.63044816,0.3666857,0.20011628,0.6119575,0.38833696,0.5722152,0.41237533,0.6594648],[0.3827989,0.010583341,0.22994316,0.520521,0.872515,0.16221976,0.8593793,0.75352275,0.15746605,0.22073585,0.0010334849,0.38945776,0.9394741,0.23192132,0.13776225,0.5488501,0.48363644,0.90709966,0.7493121,0.60252386,0.8652491,0.81085104,0.7285925,0.95072764,0.25368577,0.36732566,0.46366268,0.5377047,0.62738633,0.75474286,0.9514572,0.35474885],[0.5308339,0.9241229,0.9602856,0.057341278,0.3322941,0.09037608,0.14184856,0.6918604,0.17201936,0.632911,0.9447257,0.22770423,0.8865546,0.2930265,0.33189213,0.2319498,0.5371878,0.2140466,0.66189826,0.82034016,0.9712379,0.34871387,0.2682559,0.78146935,0.5618076,0.39278156,0.58344823,0.5208814,0.30657786,0.70860434,0.8136857,0.9372372],[0.16917884,0.83864516,0.37740695,0.5057094,0.67071646,0.21060377,0.3231235,0.9400806,0.4716769,0.11736995,0.2340864,0.14780778,0.5967503,0.14388812,0.76970106,0.38494444,0.6231752,0.3418041,0.8288451,0.90161383,0.6712475,0.94793826,0.7267916,0.6958054,0.35997087,0.48311293,0.23891222,0.96318835,0.56920594,0.9074002,0.2026059,0.024142504],[0.78641444,0.6179659,0.12212199,0.8649766,0.64713657,0.37172478,0.57254696,0.39551437,0.17985094,0.9496486,0.40013278,0.23009276,0.1873644,0.6603753,0.3553055,0.9635956,0.09464854,0.04647726,0.6981204,0.94069856,0.98358095,0.19940418,0.97583985,0.44931877,0.5206256,0.51634586,0.32223338,0.18703437,0.4030313,0.40908992,0.97737896,0.721728],[0.58985525,0.4742908,0.5880133,0.041065633,0.048294485,0.06628376,0.97801775,0.066070795,0.20164722,0.965395,0.5117333,0.80406547,0.73535484,0.9623638,0.64354914,0.04004264,0.6509614,0.13482994,0.14390135,0.54221463,0.036937773,0.66421807,0.8647058,0.016634047,0.98345405,0.39352387,0.08122337,0.38049555,0.87403154,0.58620584,0.84888625,0.92710805],[0.29929274,0.72755724,0.31507045,0.28536075,0.11838043,0.319394,0.14370215,0.8328149,0.47913527,0.19489688,0.015766978,0.48672032,0.20729715,0.35051215,0.56824714,0.25483263,0.089839876,0.13690752,0.27354652,0.096734226,0.4273342,0.32987535,0.7874116,0.9602051,0.7985555,0.8861066,0.0005822778,0.17039704,0.0799796,0.10214758,0.18999076,0.80683225],[0.022151649,0.6280205,0.3526861,0.49004334,0.16955674,0.50555676,0.44913644,0.4754297,0.48816127,0.031125367,0.67896235,0.7671471,0.08552849,0.8772426,0.59776294,0.27710348,0.0028791428,0.48389065,0.32677895,0.4330321,0.45428818,0.80283314,0.23140472,0.7910582,0.309825,0.40456218,0.5321612,0.52321875,0.8739301,0.7057946,0.80284065,0.13119489],[0.44655192,0.24618661,0.18021077,0.11688626,0.064676166,0.23606843,0.28729022,0.4231016,0.67384815,0.73311305,0.07687956,0.26130658,0.7274053,0.12295741,0.84313864,0.77665263,0.053524554,0.17867565,0.68260986,0.23474234,0.71181047,0.6711598,0.8201322,0.3328848,0.8942956,0.7843274,0.7879221,0.8154289,0.9194676,0.118641734,0.63512874,0.38752806],[0.23236662,0.8847439,0.07890123,0.13754034,0.034096777,0.13627827,0.078130364,0.7140899,0.34647882,0.8533876,0.2658409,0.6033542,0.07489234,0.1746,0.17260927,0.8624368,0.64473826,0.59666026,0.077584565,0.5738026,0.976151,0.030661881,0.9587937,0.71474975,0.63981825,0.6395226,0.48964918,0.70306414,0.85815185,0.34180343,0.7601064,0.95289564],[0.44797432,0.9236568,0.105588496,0.3403051,0.7429825,0.740467,0.6766799,0.027652204,0.58977747,0.44243878,0.6765326,0.9731851,0.9585347,0.6857983,0.7838573,0.110492885,0.5681332,0.6434433,0.5150994,0.57473254,0.6089359,0.52924263,0.8725458,0.11624652,0.045478582,0.2769037,0.6127284,0.8461941,0.70629036,0.89962626,0.8685369,0.40426546],[0.5744424,0.95345503,0.6832219,0.8589945,0.25605446,0.5430087,0.45628786,0.09261608,0.84700644,0.29759455,0.27633995,0.79153824,0.2841248,0.37817943,0.12998843,0.44340903,0.51512975,0.62234044,0.1835618,0.82258594,0.20391506,0.91390836,0.1256653,0.3626281,0.13362002,0.2626357,0.63344043,0.8242204,0.08286756,0.018347025,0.42659086,0.18119961],[0.3510309,0.04013753,0.08623105,0.10827589,0.957701,0.8486023,0.59652823,0.95744014,0.21569765,0.33384293,0.6572737,0.08573651,0.19509202,0.84825563,0.45344025,0.82923347,0.71305954,0.12690836,0.6273696,0.12646824,0.36277372,0.96865475,0.45479816,0.68059576,0.28772998,0.9506949,0.70330256,0.18358356,0.1418289,0.24501806,0.06572962,0.11014116],[0.82565784,0.42215598,0.96884024,0.52806115,0.14980543,0.63473326,0.5851724,0.34188324,0.49859434,0.68108124,0.07662356,0.8002986,0.9913993,0.76791495,0.14749491,0.1610477,0.2827105,0.54786396,0.85763365,0.87512743,0.58504057,0.9911866,0.6974529,0.6240793,0.31764787,0.62425494,0.1615985,0.18174946,0.46848887,0.62137026,0.93219477,0.25060886],[0.1448443,0.0044597983,0.92274946,0.17840022,0.55643743,0.12796211,0.8634526,0.73371655,0.47108722,0.4733898,0.34989655,0.21174216,0.07911605,0.55927426,0.49826777,0.40237886,0.6297399,0.30797178,0.3643914,0.87840855,0.87184167,0.1643377,0.18812579,0.44206786,0.5875321,0.9689006,0.36394918,0.38654178,0.007392466,0.1315558,0.27693582,0.2461226],[0.87417394,0.21721482,0.6824073,0.47579026,0.56669354,0.57401496,0.18656403,0.8875476,0.12727845,0.19675565,0.5161039,0.27603596,0.5420184,0.5031559,0.7568719,0.24376458,0.69312805,0.8237198,0.0011755228,0.48951286,0.9254374,0.6210126,0.023423553,0.037105024,0.9494002,0.056844592,0.78416884,0.37020463,0.8568146,0.8962454,0.118252456,0.68901473],[0.5132496,0.026765764,0.23339725,0.013372898,0.991881,0.7623101,0.4611689,0.91914845,0.9019396,0.7666252,0.1272428,0.92393696,0.8767532,0.11501908,0.30505556,0.80291563,0.43109703,0.19470704,0.58636314,0.14805293,0.75840735,0.9648238,0.45549875,0.7090109,0.56353956,0.43980682,0.9704975,0.06243658,0.0683257,0.8450376,0.5417905,0.6750879]],\"type\":\"heatmap\",\"xaxis\":\"x\",\"yaxis\":\"y\",\"hovertemplate\":\"x: %{x}\\u003cbr\\u003ey: %{y}\\u003cbr\\u003ecolor: %{z}\\u003cextra\\u003e\\u003c\\u002fextra\\u003e\"}],                        {\"template\":{\"data\":{\"histogram2dcontour\":[{\"type\":\"histogram2dcontour\",\"colorbar\":{\"outlinewidth\":0,\"ticks\":\"\"},\"colorscale\":[[0.0,\"#0d0887\"],[0.1111111111111111,\"#46039f\"],[0.2222222222222222,\"#7201a8\"],[0.3333333333333333,\"#9c179e\"],[0.4444444444444444,\"#bd3786\"],[0.5555555555555556,\"#d8576b\"],[0.6666666666666666,\"#ed7953\"],[0.7777777777777778,\"#fb9f3a\"],[0.8888888888888888,\"#fdca26\"],[1.0,\"#f0f921\"]]}],\"choropleth\":[{\"type\":\"choropleth\",\"colorbar\":{\"outlinewidth\":0,\"ticks\":\"\"}}],\"histogram2d\":[{\"type\":\"histogram2d\",\"colorbar\":{\"outlinewidth\":0,\"ticks\":\"\"},\"colorscale\":[[0.0,\"#0d0887\"],[0.1111111111111111,\"#46039f\"],[0.2222222222222222,\"#7201a8\"],[0.3333333333333333,\"#9c179e\"],[0.4444444444444444,\"#bd3786\"],[0.5555555555555556,\"#d8576b\"],[0.6666666666666666,\"#ed7953\"],[0.7777777777777778,\"#fb9f3a\"],[0.8888888888888888,\"#fdca26\"],[1.0,\"#f0f921\"]]}],\"heatmap\":[{\"type\":\"heatmap\",\"colorbar\":{\"outlinewidth\":0,\"ticks\":\"\"},\"colorscale\":[[0.0,\"#0d0887\"],[0.1111111111111111,\"#46039f\"],[0.2222222222222222,\"#7201a8\"],[0.3333333333333333,\"#9c179e\"],[0.4444444444444444,\"#bd3786\"],[0.5555555555555556,\"#d8576b\"],[0.6666666666666666,\"#ed7953\"],[0.7777777777777778,\"#fb9f3a\"],[0.8888888888888888,\"#fdca26\"],[1.0,\"#f0f921\"]]}],\"heatmapgl\":[{\"type\":\"heatmapgl\",\"colorbar\":{\"outlinewidth\":0,\"ticks\":\"\"},\"colorscale\":[[0.0,\"#0d0887\"],[0.1111111111111111,\"#46039f\"],[0.2222222222222222,\"#7201a8\"],[0.3333333333333333,\"#9c179e\"],[0.4444444444444444,\"#bd3786\"],[0.5555555555555556,\"#d8576b\"],[0.6666666666666666,\"#ed7953\"],[0.7777777777777778,\"#fb9f3a\"],[0.8888888888888888,\"#fdca26\"],[1.0,\"#f0f921\"]]}],\"contourcarpet\":[{\"type\":\"contourcarpet\",\"colorbar\":{\"outlinewidth\":0,\"ticks\":\"\"}}],\"contour\":[{\"type\":\"contour\",\"colorbar\":{\"outlinewidth\":0,\"ticks\":\"\"},\"colorscale\":[[0.0,\"#0d0887\"],[0.1111111111111111,\"#46039f\"],[0.2222222222222222,\"#7201a8\"],[0.3333333333333333,\"#9c179e\"],[0.4444444444444444,\"#bd3786\"],[0.5555555555555556,\"#d8576b\"],[0.6666666666666666,\"#ed7953\"],[0.7777777777777778,\"#fb9f3a\"],[0.8888888888888888,\"#fdca26\"],[1.0,\"#f0f921\"]]}],\"surface\":[{\"type\":\"surface\",\"colorbar\":{\"outlinewidth\":0,\"ticks\":\"\"},\"colorscale\":[[0.0,\"#0d0887\"],[0.1111111111111111,\"#46039f\"],[0.2222222222222222,\"#7201a8\"],[0.3333333333333333,\"#9c179e\"],[0.4444444444444444,\"#bd3786\"],[0.5555555555555556,\"#d8576b\"],[0.6666666666666666,\"#ed7953\"],[0.7777777777777778,\"#fb9f3a\"],[0.8888888888888888,\"#fdca26\"],[1.0,\"#f0f921\"]]}],\"mesh3d\":[{\"type\":\"mesh3d\",\"colorbar\":{\"outlinewidth\":0,\"ticks\":\"\"}}],\"scatter\":[{\"fillpattern\":{\"fillmode\":\"overlay\",\"size\":10,\"solidity\":0.2},\"type\":\"scatter\"}],\"parcoords\":[{\"type\":\"parcoords\",\"line\":{\"colorbar\":{\"outlinewidth\":0,\"ticks\":\"\"}}}],\"scatterpolargl\":[{\"type\":\"scatterpolargl\",\"marker\":{\"colorbar\":{\"outlinewidth\":0,\"ticks\":\"\"}}}],\"bar\":[{\"error_x\":{\"color\":\"#2a3f5f\"},\"error_y\":{\"color\":\"#2a3f5f\"},\"marker\":{\"line\":{\"color\":\"#E5ECF6\",\"width\":0.5},\"pattern\":{\"fillmode\":\"overlay\",\"size\":10,\"solidity\":0.2}},\"type\":\"bar\"}],\"scattergeo\":[{\"type\":\"scattergeo\",\"marker\":{\"colorbar\":{\"outlinewidth\":0,\"ticks\":\"\"}}}],\"scatterpolar\":[{\"type\":\"scatterpolar\",\"marker\":{\"colorbar\":{\"outlinewidth\":0,\"ticks\":\"\"}}}],\"histogram\":[{\"marker\":{\"pattern\":{\"fillmode\":\"overlay\",\"size\":10,\"solidity\":0.2}},\"type\":\"histogram\"}],\"scattergl\":[{\"type\":\"scattergl\",\"marker\":{\"colorbar\":{\"outlinewidth\":0,\"ticks\":\"\"}}}],\"scatter3d\":[{\"type\":\"scatter3d\",\"line\":{\"colorbar\":{\"outlinewidth\":0,\"ticks\":\"\"}},\"marker\":{\"colorbar\":{\"outlinewidth\":0,\"ticks\":\"\"}}}],\"scattermapbox\":[{\"type\":\"scattermapbox\",\"marker\":{\"colorbar\":{\"outlinewidth\":0,\"ticks\":\"\"}}}],\"scatterternary\":[{\"type\":\"scatterternary\",\"marker\":{\"colorbar\":{\"outlinewidth\":0,\"ticks\":\"\"}}}],\"scattercarpet\":[{\"type\":\"scattercarpet\",\"marker\":{\"colorbar\":{\"outlinewidth\":0,\"ticks\":\"\"}}}],\"carpet\":[{\"aaxis\":{\"endlinecolor\":\"#2a3f5f\",\"gridcolor\":\"white\",\"linecolor\":\"white\",\"minorgridcolor\":\"white\",\"startlinecolor\":\"#2a3f5f\"},\"baxis\":{\"endlinecolor\":\"#2a3f5f\",\"gridcolor\":\"white\",\"linecolor\":\"white\",\"minorgridcolor\":\"white\",\"startlinecolor\":\"#2a3f5f\"},\"type\":\"carpet\"}],\"table\":[{\"cells\":{\"fill\":{\"color\":\"#EBF0F8\"},\"line\":{\"color\":\"white\"}},\"header\":{\"fill\":{\"color\":\"#C8D4E3\"},\"line\":{\"color\":\"white\"}},\"type\":\"table\"}],\"barpolar\":[{\"marker\":{\"line\":{\"color\":\"#E5ECF6\",\"width\":0.5},\"pattern\":{\"fillmode\":\"overlay\",\"size\":10,\"solidity\":0.2}},\"type\":\"barpolar\"}],\"pie\":[{\"automargin\":true,\"type\":\"pie\"}]},\"layout\":{\"autotypenumbers\":\"strict\",\"colorway\":[\"#636efa\",\"#EF553B\",\"#00cc96\",\"#ab63fa\",\"#FFA15A\",\"#19d3f3\",\"#FF6692\",\"#B6E880\",\"#FF97FF\",\"#FECB52\"],\"font\":{\"color\":\"#2a3f5f\"},\"hovermode\":\"closest\",\"hoverlabel\":{\"align\":\"left\"},\"paper_bgcolor\":\"white\",\"plot_bgcolor\":\"#E5ECF6\",\"polar\":{\"bgcolor\":\"#E5ECF6\",\"angularaxis\":{\"gridcolor\":\"white\",\"linecolor\":\"white\",\"ticks\":\"\"},\"radialaxis\":{\"gridcolor\":\"white\",\"linecolor\":\"white\",\"ticks\":\"\"}},\"ternary\":{\"bgcolor\":\"#E5ECF6\",\"aaxis\":{\"gridcolor\":\"white\",\"linecolor\":\"white\",\"ticks\":\"\"},\"baxis\":{\"gridcolor\":\"white\",\"linecolor\":\"white\",\"ticks\":\"\"},\"caxis\":{\"gridcolor\":\"white\",\"linecolor\":\"white\",\"ticks\":\"\"}},\"coloraxis\":{\"colorbar\":{\"outlinewidth\":0,\"ticks\":\"\"}},\"colorscale\":{\"sequential\":[[0.0,\"#0d0887\"],[0.1111111111111111,\"#46039f\"],[0.2222222222222222,\"#7201a8\"],[0.3333333333333333,\"#9c179e\"],[0.4444444444444444,\"#bd3786\"],[0.5555555555555556,\"#d8576b\"],[0.6666666666666666,\"#ed7953\"],[0.7777777777777778,\"#fb9f3a\"],[0.8888888888888888,\"#fdca26\"],[1.0,\"#f0f921\"]],\"sequentialminus\":[[0.0,\"#0d0887\"],[0.1111111111111111,\"#46039f\"],[0.2222222222222222,\"#7201a8\"],[0.3333333333333333,\"#9c179e\"],[0.4444444444444444,\"#bd3786\"],[0.5555555555555556,\"#d8576b\"],[0.6666666666666666,\"#ed7953\"],[0.7777777777777778,\"#fb9f3a\"],[0.8888888888888888,\"#fdca26\"],[1.0,\"#f0f921\"]],\"diverging\":[[0,\"#8e0152\"],[0.1,\"#c51b7d\"],[0.2,\"#de77ae\"],[0.3,\"#f1b6da\"],[0.4,\"#fde0ef\"],[0.5,\"#f7f7f7\"],[0.6,\"#e6f5d0\"],[0.7,\"#b8e186\"],[0.8,\"#7fbc41\"],[0.9,\"#4d9221\"],[1,\"#276419\"]]},\"xaxis\":{\"gridcolor\":\"white\",\"linecolor\":\"white\",\"ticks\":\"\",\"title\":{\"standoff\":15},\"zerolinecolor\":\"white\",\"automargin\":true,\"zerolinewidth\":2},\"yaxis\":{\"gridcolor\":\"white\",\"linecolor\":\"white\",\"ticks\":\"\",\"title\":{\"standoff\":15},\"zerolinecolor\":\"white\",\"automargin\":true,\"zerolinewidth\":2},\"scene\":{\"xaxis\":{\"backgroundcolor\":\"#E5ECF6\",\"gridcolor\":\"white\",\"linecolor\":\"white\",\"showbackground\":true,\"ticks\":\"\",\"zerolinecolor\":\"white\",\"gridwidth\":2},\"yaxis\":{\"backgroundcolor\":\"#E5ECF6\",\"gridcolor\":\"white\",\"linecolor\":\"white\",\"showbackground\":true,\"ticks\":\"\",\"zerolinecolor\":\"white\",\"gridwidth\":2},\"zaxis\":{\"backgroundcolor\":\"#E5ECF6\",\"gridcolor\":\"white\",\"linecolor\":\"white\",\"showbackground\":true,\"ticks\":\"\",\"zerolinecolor\":\"white\",\"gridwidth\":2}},\"shapedefaults\":{\"line\":{\"color\":\"#2a3f5f\"}},\"annotationdefaults\":{\"arrowcolor\":\"#2a3f5f\",\"arrowhead\":0,\"arrowwidth\":1},\"geo\":{\"bgcolor\":\"white\",\"landcolor\":\"#E5ECF6\",\"subunitcolor\":\"white\",\"showland\":true,\"showlakes\":true,\"lakecolor\":\"white\"},\"title\":{\"x\":0.05},\"mapbox\":{\"style\":\"light\"}}},\"xaxis\":{\"anchor\":\"y\",\"domain\":[0.0,1.0],\"scaleanchor\":\"y\",\"constrain\":\"domain\"},\"yaxis\":{\"anchor\":\"x\",\"domain\":[0.0,1.0],\"autorange\":\"reversed\",\"constrain\":\"domain\"},\"coloraxis\":{\"colorscale\":[[0.0,\"rgb(103,0,31)\"],[0.1,\"rgb(178,24,43)\"],[0.2,\"rgb(214,96,77)\"],[0.3,\"rgb(244,165,130)\"],[0.4,\"rgb(253,219,199)\"],[0.5,\"rgb(247,247,247)\"],[0.6,\"rgb(209,229,240)\"],[0.7,\"rgb(146,197,222)\"],[0.8,\"rgb(67,147,195)\"],[0.9,\"rgb(33,102,172)\"],[1.0,\"rgb(5,48,97)\"]],\"cmid\":0.0},\"title\":{\"text\":\"Matrix 2\"}},                        {\"responsive\": true}                    ).then(function(){\n",
       "                            \n",
       "var gd = document.getElementById('5a5cb873-cb0b-4a59-855c-c4ede34e4a4f');\n",
       "var x = new MutationObserver(function (mutations, observer) {{\n",
       "        var display = window.getComputedStyle(gd).display;\n",
       "        if (!display || display === 'none') {{\n",
       "            console.log([gd, 'removed!']);\n",
       "            Plotly.purge(gd);\n",
       "            observer.disconnect();\n",
       "        }}\n",
       "}});\n",
       "\n",
       "// Listen for the removal of the full notebook cells\n",
       "var notebookContainer = gd.closest('#notebook-container');\n",
       "if (notebookContainer) {{\n",
       "    x.observe(notebookContainer, {childList: true});\n",
       "}}\n",
       "\n",
       "// Listen for the clearing of the current output cell\n",
       "var outputEl = gd.closest('.output');\n",
       "if (outputEl) {{\n",
       "    x.observe(outputEl, {childList: true});\n",
       "}}\n",
       "\n",
       "                        })                };                });            </script>        </div>"
      ]
     },
     "metadata": {},
     "output_type": "display_data"
    },
    {
     "data": {
      "application/vnd.plotly.v1+json": {
       "config": {
        "plotlyServerURL": "https://plot.ly"
       },
       "data": [
        {
         "coloraxis": "coloraxis",
         "hovertemplate": "x: %{x}<br>y: %{y}<br>color: %{z}<extra></extra>",
         "name": "0",
         "type": "heatmap",
         "xaxis": "x",
         "yaxis": "y",
         "z": [
          [
           0.43228525,
           0.8621302,
           0.59269696,
           0.7617278,
           0.281869,
           0.7429147,
           0.88244337,
           0.46960455,
           0.30559307,
           0.44955587,
           0.1769365,
           0.33690786,
           0.50893825,
           0.34316218,
           0.80678505,
           0.10280645,
           0.47410613,
           0.5405771,
           0.12849087,
           0.07934463,
           0.83671796,
           0.50542706,
           0.37458158,
           0.54871863,
           0.76291883,
           0.029830098,
           0.38790172,
           0.59437376,
           0.6287006,
           0.083031,
           0.93377674,
           0.98517185
          ],
          [
           0.10007435,
           0.11740142,
           0.8789686,
           0.7861427,
           0.65158224,
           0.9015767,
           0.3489654,
           0.22694618,
           0.8209548,
           0.6621901,
           0.04324627,
           0.73744476,
           0.801386,
           0.5464709,
           0.46277714,
           0.8093161,
           0.6933051,
           0.6789407,
           0.8703872,
           0.84522414,
           0.14250702,
           0.75772864,
           0.4353239,
           0.73832005,
           0.916189,
           0.550878,
           0.21669507,
           0.18529493,
           0.23000145,
           0.8341189,
           0.68618166,
           0.1885491
          ],
          [
           0.7619537,
           0.049420416,
           0.700499,
           0.7775925,
           0.18632078,
           0.79325867,
           0.5381603,
           0.45527303,
           0.4135942,
           0.45198876,
           0.6727644,
           0.7056383,
           0.29600656,
           0.86654955,
           0.8394178,
           0.49255413,
           0.90276295,
           0.51809514,
           0.98653495,
           0.010960281,
           0.017544031,
           0.89978296,
           0.5020941,
           0.7408263,
           0.8726994,
           0.4041642,
           0.6049852,
           0.051317275,
           0.4128682,
           0.48639196,
           0.4411674,
           0.35923505
          ],
          [
           0.67280906,
           0.12450868,
           0.7624595,
           0.68231046,
           0.56635654,
           0.09740919,
           0.25047952,
           0.49043477,
           0.38784963,
           0.3303057,
           0.5611717,
           0.9257797,
           0.0014719367,
           0.032446265,
           0.6502256,
           0.8200145,
           0.15397316,
           0.6527893,
           0.4631732,
           0.76432586,
           0.49043792,
           0.95714927,
           0.93262523,
           0.0013585091,
           0.07794416,
           0.82471716,
           0.060690403,
           0.076961994,
           0.09062672,
           0.28366137,
           0.16952723,
           0.09787911
          ],
          [
           0.9200459,
           0.22687566,
           0.3679554,
           0.35837144,
           0.92969865,
           0.16427112,
           0.7135393,
           0.58895576,
           0.13125682,
           0.99699503,
           0.01496774,
           0.038083434,
           0.028146207,
           0.2993942,
           0.103179276,
           0.5684566,
           0.2555312,
           0.28682387,
           0.9358283,
           0.77783614,
           0.7424613,
           0.8303598,
           0.46473652,
           0.44445562,
           0.7639191,
           0.18755633,
           0.7997086,
           0.0800153,
           0.73261654,
           0.21011055,
           0.63328695,
           0.17245394
          ],
          [
           0.81844324,
           0.6785769,
           0.93397725,
           0.81361663,
           0.97749066,
           0.77115923,
           0.27395123,
           0.49257803,
           0.19393224,
           0.7623452,
           0.18290609,
           0.21096647,
           0.25103348,
           0.94434875,
           0.23504704,
           0.07702762,
           0.61443317,
           0.10425365,
           0.36642104,
           0.3089159,
           0.2633304,
           0.13456655,
           0.2780404,
           0.20386785,
           0.75064135,
           0.17363644,
           0.2515157,
           0.78900146,
           0.9030421,
           0.6416603,
           0.38322335,
           0.96078825
          ],
          [
           0.93881494,
           0.7705249,
           0.18492001,
           0.15128893,
           0.37691277,
           0.61140156,
           0.90445757,
           0.532365,
           0.4616384,
           0.9991113,
           0.7704108,
           0.96418005,
           0.85896003,
           0.367908,
           0.79226786,
           0.30387962,
           0.98811954,
           0.49744654,
           0.21930945,
           0.42362988,
           0.6991804,
           0.33569467,
           0.7809032,
           0.2903595,
           0.50452065,
           0.6026231,
           0.4321195,
           0.44832337,
           0.15526068,
           0.5439734,
           0.8005626,
           0.66381633
          ],
          [
           0.84871083,
           0.4859166,
           0.075659215,
           0.6062492,
           0.1762271,
           0.11456597,
           0.5583097,
           0.1385144,
           0.6380482,
           0.02217561,
           0.15279603,
           0.50233656,
           0.9763022,
           0.9402727,
           0.20559949,
           0.7523692,
           0.3166806,
           0.38765538,
           0.54609543,
           0.9833592,
           0.6453012,
           0.8662572,
           0.22640681,
           0.1571868,
           0.40554595,
           0.57484895,
           0.5877797,
           0.0058323145,
           0.44685006,
           0.76807225,
           0.28313506,
           0.35962582
          ],
          [
           0.2869137,
           0.9570165,
           0.34990513,
           0.47263962,
           0.27753443,
           0.7795931,
           0.3242941,
           0.5523338,
           0.09912467,
           0.14294428,
           0.6992811,
           0.8459342,
           0.52621794,
           0.20973074,
           0.69184554,
           0.33116513,
           0.100081384,
           0.9527631,
           0.49442488,
           0.6623522,
           0.8314069,
           0.50459844,
           0.8919113,
           0.8316423,
           0.727489,
           0.5698501,
           0.75410086,
           0.29060203,
           0.55678993,
           0.28062868,
           0.99488413,
           0.9681901
          ],
          [
           0.20639294,
           0.04654938,
           0.02548498,
           0.37204206,
           0.4330535,
           0.42737812,
           0.6669202,
           0.31304204,
           0.42177844,
           0.70501435,
           0.08584595,
           0.113876104,
           0.50731814,
           0.16506308,
           0.77594495,
           0.14497852,
           0.010555744,
           0.91830504,
           0.32654178,
           0.86255425,
           0.23517472,
           0.58808845,
           0.14310104,
           0.6664424,
           0.80237603,
           0.8732478,
           0.75673175,
           0.22926283,
           0.0023897886,
           0.46021372,
           0.13467991,
           0.30313742
          ],
          [
           0.46218318,
           0.26402962,
           0.5131167,
           0.30128074,
           0.1614669,
           0.8641728,
           0.42860663,
           0.7616073,
           0.8017048,
           0.6613081,
           0.9490593,
           0.6941568,
           0.6464264,
           0.9705932,
           0.97424084,
           0.91558254,
           0.60986936,
           0.6924578,
           0.7746715,
           0.4256248,
           0.013784945,
           0.89800715,
           0.3497604,
           0.865904,
           0.2843343,
           0.32967538,
           0.68614554,
           0.62293464,
           0.8847311,
           0.741127,
           0.44478524,
           0.9757184
          ],
          [
           0.10208899,
           0.22972447,
           0.039155066,
           0.786002,
           0.5217655,
           0.8777171,
           0.37627834,
           0.9242597,
           0.9738382,
           0.9835625,
           0.24090046,
           0.930767,
           0.75116503,
           0.757224,
           0.81946945,
           0.9921908,
           0.68349403,
           0.2881568,
           0.07009494,
           0.5812575,
           0.6578545,
           0.65354764,
           0.5053052,
           0.14729291,
           0.81871426,
           0.53844434,
           0.33795667,
           0.772578,
           0.06806892,
           0.25927472,
           0.59086496,
           0.37246364
          ],
          [
           0.2863077,
           0.02234608,
           0.718051,
           0.35293806,
           0.07463658,
           0.1909625,
           0.30166173,
           0.53827167,
           0.18254465,
           0.7772898,
           0.9960584,
           0.3911904,
           0.65132964,
           0.91986877,
           0.27681303,
           0.031045198,
           0.6221673,
           0.7543937,
           0.12564737,
           0.40395892,
           0.77950144,
           0.3435369,
           0.03849739,
           0.66825694,
           0.39786136,
           0.7382238,
           0.15464592,
           0.21845716,
           0.9989383,
           0.11366582,
           0.76292855,
           0.59296966
          ],
          [
           0.061526716,
           0.48864293,
           0.16365254,
           0.85497713,
           0.78439075,
           0.6875597,
           0.4308684,
           0.23045075,
           0.20284885,
           0.2669692,
           0.16562402,
           0.7635773,
           0.6850657,
           0.024882793,
           0.44014722,
           0.63043535,
           0.050190628,
           0.937833,
           0.9864211,
           0.3122548,
           0.5950149,
           0.15391582,
           0.9162746,
           0.91350967,
           0.5018801,
           0.060926855,
           0.8631585,
           0.66568685,
           0.3174736,
           0.25202096,
           0.8848849,
           0.6001697
          ],
          [
           0.62222016,
           0.14089286,
           0.56613666,
           0.6743705,
           0.06382108,
           0.7781636,
           0.6815105,
           0.12716293,
           0.5666654,
           0.09924561,
           0.43416405,
           0.9132971,
           0.70629424,
           0.72403336,
           0.33606648,
           0.6790515,
           0.0724023,
           0.18024015,
           0.6023414,
           0.14838088,
           0.3647861,
           0.8715448,
           0.53445643,
           0.3241495,
           0.087750256,
           0.81524324,
           0.13736951,
           0.97917855,
           0.04245305,
           0.098825574,
           0.3553627,
           0.83637154
          ],
          [
           0.82248944,
           0.4151184,
           0.79009897,
           0.15371531,
           0.27210158,
           0.65748274,
           0.107138515,
           0.16927063,
           0.2960835,
           0.8668459,
           0.4344735,
           0.7830867,
           0.32339507,
           0.6784352,
           0.25344056,
           0.3262571,
           0.6249213,
           0.46977532,
           0.17023808,
           0.9836693,
           0.7074349,
           0.071163535,
           0.1773656,
           0.016702533,
           0.42406756,
           0.114201844,
           0.024136066,
           0.04064071,
           0.56957453,
           0.57178336,
           0.50794107,
           0.64049244
          ],
          [
           0.2804709,
           0.89887565,
           0.3452242,
           0.99464214,
           0.7277039,
           0.06329477,
           0.48464775,
           0.7356401,
           0.4041353,
           0.8549458,
           0.85492474,
           0.002773285,
           0.49816108,
           0.15310955,
           0.8109547,
           0.53171337,
           0.92225695,
           0.632841,
           0.055910528,
           0.95097893,
           0.8942292,
           0.57017523,
           0.4835453,
           0.78841805,
           0.61251986,
           0.7132002,
           0.6862679,
           0.5620121,
           0.45257115,
           0.45748824,
           0.6092884,
           0.022082508
          ],
          [
           0.73549443,
           0.8275464,
           0.29664266,
           0.81424296,
           0.09786868,
           0.28291005,
           0.8831023,
           0.36268824,
           0.22292751,
           0.9711102,
           0.22355425,
           0.38937283,
           0.13505036,
           0.41041803,
           0.48460418,
           0.6776436,
           0.2663344,
           0.012110531,
           0.07270795,
           0.4667347,
           0.7797049,
           0.66364986,
           0.89477396,
           0.27232867,
           0.3225506,
           0.4126479,
           0.520936,
           0.9236097,
           0.936436,
           0.19919819,
           0.11466879,
           0.806668
          ],
          [
           0.44106382,
           0.7362755,
           0.947362,
           0.29282916,
           0.8449619,
           0.90593344,
           0.84122616,
           0.3342417,
           0.80225736,
           0.16550308,
           0.4725262,
           0.45688367,
           0.7811518,
           0.54863,
           0.2042597,
           0.3110237,
           0.21761876,
           0.22618306,
           0.36617535,
           0.30988723,
           0.10904312,
           0.80350983,
           0.005235374,
           0.041289985,
           0.7797056,
           0.6315835,
           0.90523726,
           0.84919393,
           0.80228215,
           0.4803272,
           0.3024258,
           0.27149713
          ],
          [
           0.15542042,
           0.90028673,
           0.36257392,
           0.6381556,
           0.344801,
           0.113113225,
           0.01295954,
           0.34467995,
           0.83202237,
           0.2301004,
           0.32175773,
           0.9720633,
           0.12589532,
           0.805376,
           0.95239633,
           0.7287101,
           0.45178944,
           0.0753575,
           0.4760183,
           0.81658226,
           0.9167434,
           0.7107975,
           0.07711607,
           0.5521673,
           0.79131347,
           0.5224535,
           0.66973907,
           0.334673,
           0.81988674,
           0.26709098,
           0.666636,
           0.5289611
          ],
          [
           0.85187846,
           0.22048855,
           0.8425022,
           0.67652506,
           0.9145983,
           0.8607577,
           0.6143842,
           0.3199702,
           0.96733296,
           0.65957415,
           0.14760149,
           0.1284821,
           0.39259815,
           0.9958535,
           0.76664823,
           0.93171453,
           0.4324366,
           0.762236,
           0.77882457,
           0.42356122,
           0.3943423,
           0.05531937,
           0.683951,
           0.4453627,
           0.32771552,
           0.7458265,
           0.6553472,
           0.78329736,
           0.23179775,
           0.7859687,
           0.4560271,
           0.6609713
          ],
          [
           0.53479546,
           0.5879353,
           0.5852384,
           0.8032112,
           0.9900308,
           0.69250494,
           0.40052253,
           0.6798558,
           0.5184832,
           0.61103916,
           0.8839118,
           0.32385743,
           0.84707326,
           0.16041756,
           0.7533681,
           0.53006536,
           0.7769603,
           0.88283664,
           0.9018702,
           0.8305695,
           0.1640802,
           0.18272209,
           0.3904184,
           0.7989035,
           0.88098776,
           0.3478688,
           0.31702912,
           0.113830805,
           0.2713822,
           0.029769361,
           0.9229804,
           0.44991553
          ],
          [
           0.16060728,
           0.5519777,
           0.572812,
           0.77485114,
           0.7042664,
           0.6036204,
           0.38533783,
           0.5185611,
           0.94304264,
           0.45501143,
           0.78936684,
           0.49008918,
           0.4999588,
           0.961354,
           0.14817077,
           0.5386141,
           0.87589216,
           0.2021513,
           0.2178083,
           0.100152254,
           0.92268866,
           0.11964476,
           0.4698428,
           0.21767175,
           0.41611564,
           0.3802895,
           0.29125273,
           0.74389213,
           0.616887,
           0.60071594,
           0.42161655,
           0.6029683
          ],
          [
           0.5222214,
           0.5902293,
           0.98791075,
           0.41029155,
           0.5498646,
           0.59479827,
           0.95009136,
           0.36810774,
           0.067154884,
           0.6799474,
           0.53552693,
           0.93079424,
           0.7156413,
           0.96641386,
           0.05859208,
           0.34982592,
           0.1560095,
           0.49386007,
           0.65178126,
           0.5987466,
           0.76735616,
           0.73509765,
           0.9903624,
           0.752252,
           0.6762691,
           0.9194633,
           0.40754163,
           0.3220693,
           0.83299243,
           0.44166028,
           0.5439793,
           0.15533441
          ],
          [
           0.35309583,
           0.28830206,
           0.91148674,
           0.4123487,
           0.2888137,
           0.79637265,
           0.7747834,
           0.38195515,
           0.9572693,
           0.35516894,
           0.6869705,
           0.9145992,
           0.6869804,
           0.26463443,
           0.54609436,
           0.08489847,
           0.5602659,
           0.039586842,
           0.66156393,
           0.7540728,
           0.93041795,
           0.4682594,
           0.6378152,
           0.14064628,
           0.20871049,
           0.79322726,
           0.06798911,
           0.69763756,
           0.8390708,
           0.24142772,
           0.32741594,
           0.11453563
          ],
          [
           0.6621807,
           0.80447495,
           0.24961239,
           0.66410434,
           0.09318447,
           0.31546474,
           0.5199805,
           0.068550766,
           0.55419385,
           0.3184368,
           0.90924656,
           0.06911397,
           0.7964268,
           0.40143055,
           0.50232136,
           0.6804034,
           0.0294047,
           0.7012756,
           0.11870134,
           0.85221183,
           0.1988427,
           0.62591624,
           0.13482946,
           0.86220217,
           0.51013124,
           0.49419105,
           0.8079426,
           0.5796967,
           0.2586395,
           0.8158434,
           0.3242041,
           0.16725546
          ],
          [
           0.6168128,
           0.8036077,
           0.91500425,
           0.49609882,
           0.67408955,
           0.49130052,
           0.41587168,
           0.2433874,
           0.8640703,
           0.22768801,
           0.102140725,
           0.739769,
           0.3976779,
           0.31665373,
           0.7441505,
           0.5994968,
           0.05991006,
           0.18813694,
           0.2695732,
           0.0046384335,
           0.10401875,
           0.6115579,
           0.2426076,
           0.5995718,
           0.58778363,
           0.23680812,
           0.3855803,
           0.37182468,
           0.039244413,
           0.4142002,
           0.11328697,
           0.20963085
          ],
          [
           0.7029583,
           0.0521338,
           0.33129328,
           0.34329373,
           0.73314184,
           0.20009238,
           0.843797,
           0.9274058,
           0.5607661,
           0.22437179,
           0.16604966,
           0.41785675,
           0.5492588,
           0.009084344,
           0.8739486,
           0.63529533,
           0.15031266,
           0.35341424,
           0.21748286,
           0.20398968,
           0.45004737,
           0.34209216,
           0.63425386,
           0.10774547,
           0.9431122,
           0.18422306,
           0.88328594,
           0.50484437,
           0.42676705,
           0.017447293,
           0.7709934,
           0.09560466
          ],
          [
           0.74052763,
           0.5894979,
           0.44599086,
           0.30093306,
           0.9014724,
           0.76076126,
           0.49763477,
           0.26033235,
           0.5681674,
           0.6023942,
           0.35778278,
           0.5171116,
           0.16217142,
           0.14147902,
           0.9657594,
           0.005993724,
           0.77616966,
           0.24668467,
           0.57756096,
           0.5687663,
           0.89243144,
           0.35753495,
           0.6530843,
           0.85398567,
           0.5783229,
           0.25879264,
           0.14938104,
           0.44780123,
           0.7591059,
           0.013028383,
           0.2113387,
           0.42374802
          ],
          [
           0.77515215,
           0.5316958,
           0.50615937,
           0.29859382,
           0.6343524,
           0.73450154,
           0.76980853,
           0.6890715,
           0.40649295,
           0.62299067,
           0.9567439,
           0.57947016,
           0.82063717,
           0.19258076,
           0.4782052,
           0.7045675,
           0.60186666,
           0.7242773,
           0.8186105,
           0.09440184,
           0.9807366,
           0.6035721,
           0.22096997,
           0.5543681,
           0.66762954,
           0.67579955,
           0.18026584,
           0.97548187,
           0.39318025,
           0.80214643,
           0.4671706,
           0.32929355
          ],
          [
           0.022037983,
           0.3058495,
           0.19094181,
           0.5691903,
           0.93397194,
           0.8890408,
           0.5348346,
           0.67455274,
           0.80678225,
           0.41396505,
           0.35948604,
           0.85718346,
           0.08614302,
           0.8406869,
           0.58885753,
           0.82447046,
           0.06532174,
           0.33428735,
           0.7800665,
           0.33742565,
           0.2432037,
           0.8049316,
           0.1518122,
           0.051638305,
           0.04335636,
           0.8709269,
           0.04352659,
           0.19137013,
           0.4018916,
           0.5216107,
           0.7301019,
           0.6351435
          ],
          [
           0.17589587,
           0.34386218,
           0.53581107,
           0.5646515,
           0.9941717,
           0.8957309,
           0.3672347,
           0.9135995,
           0.3531837,
           0.33249187,
           0.038561642,
           0.038806677,
           0.30881047,
           0.27354157,
           0.7738613,
           0.24909091,
           0.940644,
           0.34173095,
           0.19987774,
           0.99082714,
           0.2617643,
           0.3386925,
           0.35715115,
           0.8605905,
           0.2824514,
           0.99958116,
           0.89373916,
           0.23421991,
           0.8984554,
           0.030073404,
           0.17280656,
           0.048695564
          ]
         ]
        }
       ],
       "layout": {
        "coloraxis": {
         "cmid": 0,
         "colorscale": [
          [
           0,
           "rgb(103,0,31)"
          ],
          [
           0.1,
           "rgb(178,24,43)"
          ],
          [
           0.2,
           "rgb(214,96,77)"
          ],
          [
           0.3,
           "rgb(244,165,130)"
          ],
          [
           0.4,
           "rgb(253,219,199)"
          ],
          [
           0.5,
           "rgb(247,247,247)"
          ],
          [
           0.6,
           "rgb(209,229,240)"
          ],
          [
           0.7,
           "rgb(146,197,222)"
          ],
          [
           0.8,
           "rgb(67,147,195)"
          ],
          [
           0.9,
           "rgb(33,102,172)"
          ],
          [
           1,
           "rgb(5,48,97)"
          ]
         ]
        },
        "template": {
         "data": {
          "bar": [
           {
            "error_x": {
             "color": "#2a3f5f"
            },
            "error_y": {
             "color": "#2a3f5f"
            },
            "marker": {
             "line": {
              "color": "#E5ECF6",
              "width": 0.5
             },
             "pattern": {
              "fillmode": "overlay",
              "size": 10,
              "solidity": 0.2
             }
            },
            "type": "bar"
           }
          ],
          "barpolar": [
           {
            "marker": {
             "line": {
              "color": "#E5ECF6",
              "width": 0.5
             },
             "pattern": {
              "fillmode": "overlay",
              "size": 10,
              "solidity": 0.2
             }
            },
            "type": "barpolar"
           }
          ],
          "carpet": [
           {
            "aaxis": {
             "endlinecolor": "#2a3f5f",
             "gridcolor": "white",
             "linecolor": "white",
             "minorgridcolor": "white",
             "startlinecolor": "#2a3f5f"
            },
            "baxis": {
             "endlinecolor": "#2a3f5f",
             "gridcolor": "white",
             "linecolor": "white",
             "minorgridcolor": "white",
             "startlinecolor": "#2a3f5f"
            },
            "type": "carpet"
           }
          ],
          "choropleth": [
           {
            "colorbar": {
             "outlinewidth": 0,
             "ticks": ""
            },
            "type": "choropleth"
           }
          ],
          "contour": [
           {
            "colorbar": {
             "outlinewidth": 0,
             "ticks": ""
            },
            "colorscale": [
             [
              0,
              "#0d0887"
             ],
             [
              0.1111111111111111,
              "#46039f"
             ],
             [
              0.2222222222222222,
              "#7201a8"
             ],
             [
              0.3333333333333333,
              "#9c179e"
             ],
             [
              0.4444444444444444,
              "#bd3786"
             ],
             [
              0.5555555555555556,
              "#d8576b"
             ],
             [
              0.6666666666666666,
              "#ed7953"
             ],
             [
              0.7777777777777778,
              "#fb9f3a"
             ],
             [
              0.8888888888888888,
              "#fdca26"
             ],
             [
              1,
              "#f0f921"
             ]
            ],
            "type": "contour"
           }
          ],
          "contourcarpet": [
           {
            "colorbar": {
             "outlinewidth": 0,
             "ticks": ""
            },
            "type": "contourcarpet"
           }
          ],
          "heatmap": [
           {
            "colorbar": {
             "outlinewidth": 0,
             "ticks": ""
            },
            "colorscale": [
             [
              0,
              "#0d0887"
             ],
             [
              0.1111111111111111,
              "#46039f"
             ],
             [
              0.2222222222222222,
              "#7201a8"
             ],
             [
              0.3333333333333333,
              "#9c179e"
             ],
             [
              0.4444444444444444,
              "#bd3786"
             ],
             [
              0.5555555555555556,
              "#d8576b"
             ],
             [
              0.6666666666666666,
              "#ed7953"
             ],
             [
              0.7777777777777778,
              "#fb9f3a"
             ],
             [
              0.8888888888888888,
              "#fdca26"
             ],
             [
              1,
              "#f0f921"
             ]
            ],
            "type": "heatmap"
           }
          ],
          "heatmapgl": [
           {
            "colorbar": {
             "outlinewidth": 0,
             "ticks": ""
            },
            "colorscale": [
             [
              0,
              "#0d0887"
             ],
             [
              0.1111111111111111,
              "#46039f"
             ],
             [
              0.2222222222222222,
              "#7201a8"
             ],
             [
              0.3333333333333333,
              "#9c179e"
             ],
             [
              0.4444444444444444,
              "#bd3786"
             ],
             [
              0.5555555555555556,
              "#d8576b"
             ],
             [
              0.6666666666666666,
              "#ed7953"
             ],
             [
              0.7777777777777778,
              "#fb9f3a"
             ],
             [
              0.8888888888888888,
              "#fdca26"
             ],
             [
              1,
              "#f0f921"
             ]
            ],
            "type": "heatmapgl"
           }
          ],
          "histogram": [
           {
            "marker": {
             "pattern": {
              "fillmode": "overlay",
              "size": 10,
              "solidity": 0.2
             }
            },
            "type": "histogram"
           }
          ],
          "histogram2d": [
           {
            "colorbar": {
             "outlinewidth": 0,
             "ticks": ""
            },
            "colorscale": [
             [
              0,
              "#0d0887"
             ],
             [
              0.1111111111111111,
              "#46039f"
             ],
             [
              0.2222222222222222,
              "#7201a8"
             ],
             [
              0.3333333333333333,
              "#9c179e"
             ],
             [
              0.4444444444444444,
              "#bd3786"
             ],
             [
              0.5555555555555556,
              "#d8576b"
             ],
             [
              0.6666666666666666,
              "#ed7953"
             ],
             [
              0.7777777777777778,
              "#fb9f3a"
             ],
             [
              0.8888888888888888,
              "#fdca26"
             ],
             [
              1,
              "#f0f921"
             ]
            ],
            "type": "histogram2d"
           }
          ],
          "histogram2dcontour": [
           {
            "colorbar": {
             "outlinewidth": 0,
             "ticks": ""
            },
            "colorscale": [
             [
              0,
              "#0d0887"
             ],
             [
              0.1111111111111111,
              "#46039f"
             ],
             [
              0.2222222222222222,
              "#7201a8"
             ],
             [
              0.3333333333333333,
              "#9c179e"
             ],
             [
              0.4444444444444444,
              "#bd3786"
             ],
             [
              0.5555555555555556,
              "#d8576b"
             ],
             [
              0.6666666666666666,
              "#ed7953"
             ],
             [
              0.7777777777777778,
              "#fb9f3a"
             ],
             [
              0.8888888888888888,
              "#fdca26"
             ],
             [
              1,
              "#f0f921"
             ]
            ],
            "type": "histogram2dcontour"
           }
          ],
          "mesh3d": [
           {
            "colorbar": {
             "outlinewidth": 0,
             "ticks": ""
            },
            "type": "mesh3d"
           }
          ],
          "parcoords": [
           {
            "line": {
             "colorbar": {
              "outlinewidth": 0,
              "ticks": ""
             }
            },
            "type": "parcoords"
           }
          ],
          "pie": [
           {
            "automargin": true,
            "type": "pie"
           }
          ],
          "scatter": [
           {
            "fillpattern": {
             "fillmode": "overlay",
             "size": 10,
             "solidity": 0.2
            },
            "type": "scatter"
           }
          ],
          "scatter3d": [
           {
            "line": {
             "colorbar": {
              "outlinewidth": 0,
              "ticks": ""
             }
            },
            "marker": {
             "colorbar": {
              "outlinewidth": 0,
              "ticks": ""
             }
            },
            "type": "scatter3d"
           }
          ],
          "scattercarpet": [
           {
            "marker": {
             "colorbar": {
              "outlinewidth": 0,
              "ticks": ""
             }
            },
            "type": "scattercarpet"
           }
          ],
          "scattergeo": [
           {
            "marker": {
             "colorbar": {
              "outlinewidth": 0,
              "ticks": ""
             }
            },
            "type": "scattergeo"
           }
          ],
          "scattergl": [
           {
            "marker": {
             "colorbar": {
              "outlinewidth": 0,
              "ticks": ""
             }
            },
            "type": "scattergl"
           }
          ],
          "scattermapbox": [
           {
            "marker": {
             "colorbar": {
              "outlinewidth": 0,
              "ticks": ""
             }
            },
            "type": "scattermapbox"
           }
          ],
          "scatterpolar": [
           {
            "marker": {
             "colorbar": {
              "outlinewidth": 0,
              "ticks": ""
             }
            },
            "type": "scatterpolar"
           }
          ],
          "scatterpolargl": [
           {
            "marker": {
             "colorbar": {
              "outlinewidth": 0,
              "ticks": ""
             }
            },
            "type": "scatterpolargl"
           }
          ],
          "scatterternary": [
           {
            "marker": {
             "colorbar": {
              "outlinewidth": 0,
              "ticks": ""
             }
            },
            "type": "scatterternary"
           }
          ],
          "surface": [
           {
            "colorbar": {
             "outlinewidth": 0,
             "ticks": ""
            },
            "colorscale": [
             [
              0,
              "#0d0887"
             ],
             [
              0.1111111111111111,
              "#46039f"
             ],
             [
              0.2222222222222222,
              "#7201a8"
             ],
             [
              0.3333333333333333,
              "#9c179e"
             ],
             [
              0.4444444444444444,
              "#bd3786"
             ],
             [
              0.5555555555555556,
              "#d8576b"
             ],
             [
              0.6666666666666666,
              "#ed7953"
             ],
             [
              0.7777777777777778,
              "#fb9f3a"
             ],
             [
              0.8888888888888888,
              "#fdca26"
             ],
             [
              1,
              "#f0f921"
             ]
            ],
            "type": "surface"
           }
          ],
          "table": [
           {
            "cells": {
             "fill": {
              "color": "#EBF0F8"
             },
             "line": {
              "color": "white"
             }
            },
            "header": {
             "fill": {
              "color": "#C8D4E3"
             },
             "line": {
              "color": "white"
             }
            },
            "type": "table"
           }
          ]
         },
         "layout": {
          "annotationdefaults": {
           "arrowcolor": "#2a3f5f",
           "arrowhead": 0,
           "arrowwidth": 1
          },
          "autotypenumbers": "strict",
          "coloraxis": {
           "colorbar": {
            "outlinewidth": 0,
            "ticks": ""
           }
          },
          "colorscale": {
           "diverging": [
            [
             0,
             "#8e0152"
            ],
            [
             0.1,
             "#c51b7d"
            ],
            [
             0.2,
             "#de77ae"
            ],
            [
             0.3,
             "#f1b6da"
            ],
            [
             0.4,
             "#fde0ef"
            ],
            [
             0.5,
             "#f7f7f7"
            ],
            [
             0.6,
             "#e6f5d0"
            ],
            [
             0.7,
             "#b8e186"
            ],
            [
             0.8,
             "#7fbc41"
            ],
            [
             0.9,
             "#4d9221"
            ],
            [
             1,
             "#276419"
            ]
           ],
           "sequential": [
            [
             0,
             "#0d0887"
            ],
            [
             0.1111111111111111,
             "#46039f"
            ],
            [
             0.2222222222222222,
             "#7201a8"
            ],
            [
             0.3333333333333333,
             "#9c179e"
            ],
            [
             0.4444444444444444,
             "#bd3786"
            ],
            [
             0.5555555555555556,
             "#d8576b"
            ],
            [
             0.6666666666666666,
             "#ed7953"
            ],
            [
             0.7777777777777778,
             "#fb9f3a"
            ],
            [
             0.8888888888888888,
             "#fdca26"
            ],
            [
             1,
             "#f0f921"
            ]
           ],
           "sequentialminus": [
            [
             0,
             "#0d0887"
            ],
            [
             0.1111111111111111,
             "#46039f"
            ],
            [
             0.2222222222222222,
             "#7201a8"
            ],
            [
             0.3333333333333333,
             "#9c179e"
            ],
            [
             0.4444444444444444,
             "#bd3786"
            ],
            [
             0.5555555555555556,
             "#d8576b"
            ],
            [
             0.6666666666666666,
             "#ed7953"
            ],
            [
             0.7777777777777778,
             "#fb9f3a"
            ],
            [
             0.8888888888888888,
             "#fdca26"
            ],
            [
             1,
             "#f0f921"
            ]
           ]
          },
          "colorway": [
           "#636efa",
           "#EF553B",
           "#00cc96",
           "#ab63fa",
           "#FFA15A",
           "#19d3f3",
           "#FF6692",
           "#B6E880",
           "#FF97FF",
           "#FECB52"
          ],
          "font": {
           "color": "#2a3f5f"
          },
          "geo": {
           "bgcolor": "white",
           "lakecolor": "white",
           "landcolor": "#E5ECF6",
           "showlakes": true,
           "showland": true,
           "subunitcolor": "white"
          },
          "hoverlabel": {
           "align": "left"
          },
          "hovermode": "closest",
          "mapbox": {
           "style": "light"
          },
          "paper_bgcolor": "white",
          "plot_bgcolor": "#E5ECF6",
          "polar": {
           "angularaxis": {
            "gridcolor": "white",
            "linecolor": "white",
            "ticks": ""
           },
           "bgcolor": "#E5ECF6",
           "radialaxis": {
            "gridcolor": "white",
            "linecolor": "white",
            "ticks": ""
           }
          },
          "scene": {
           "xaxis": {
            "backgroundcolor": "#E5ECF6",
            "gridcolor": "white",
            "gridwidth": 2,
            "linecolor": "white",
            "showbackground": true,
            "ticks": "",
            "zerolinecolor": "white"
           },
           "yaxis": {
            "backgroundcolor": "#E5ECF6",
            "gridcolor": "white",
            "gridwidth": 2,
            "linecolor": "white",
            "showbackground": true,
            "ticks": "",
            "zerolinecolor": "white"
           },
           "zaxis": {
            "backgroundcolor": "#E5ECF6",
            "gridcolor": "white",
            "gridwidth": 2,
            "linecolor": "white",
            "showbackground": true,
            "ticks": "",
            "zerolinecolor": "white"
           }
          },
          "shapedefaults": {
           "line": {
            "color": "#2a3f5f"
           }
          },
          "ternary": {
           "aaxis": {
            "gridcolor": "white",
            "linecolor": "white",
            "ticks": ""
           },
           "baxis": {
            "gridcolor": "white",
            "linecolor": "white",
            "ticks": ""
           },
           "bgcolor": "#E5ECF6",
           "caxis": {
            "gridcolor": "white",
            "linecolor": "white",
            "ticks": ""
           }
          },
          "title": {
           "x": 0.05
          },
          "xaxis": {
           "automargin": true,
           "gridcolor": "white",
           "linecolor": "white",
           "ticks": "",
           "title": {
            "standoff": 15
           },
           "zerolinecolor": "white",
           "zerolinewidth": 2
          },
          "yaxis": {
           "automargin": true,
           "gridcolor": "white",
           "linecolor": "white",
           "ticks": "",
           "title": {
            "standoff": 15
           },
           "zerolinecolor": "white",
           "zerolinewidth": 2
          }
         }
        },
        "title": {
         "text": "Matrix 3"
        },
        "xaxis": {
         "anchor": "y",
         "constrain": "domain",
         "domain": [
          0,
          1
         ],
         "scaleanchor": "y"
        },
        "yaxis": {
         "anchor": "x",
         "autorange": "reversed",
         "constrain": "domain",
         "domain": [
          0,
          1
         ]
        }
       }
      },
      "text/html": [
       "<div>                            <div id=\"04209f9b-35ab-4a1c-9201-cabcbf97a66a\" class=\"plotly-graph-div\" style=\"height:525px; width:100%;\"></div>            <script type=\"text/javascript\">                require([\"plotly\"], function(Plotly) {                    window.PLOTLYENV=window.PLOTLYENV || {};                                    if (document.getElementById(\"04209f9b-35ab-4a1c-9201-cabcbf97a66a\")) {                    Plotly.newPlot(                        \"04209f9b-35ab-4a1c-9201-cabcbf97a66a\",                        [{\"coloraxis\":\"coloraxis\",\"name\":\"0\",\"z\":[[0.43228525,0.8621302,0.59269696,0.7617278,0.281869,0.7429147,0.88244337,0.46960455,0.30559307,0.44955587,0.1769365,0.33690786,0.50893825,0.34316218,0.80678505,0.10280645,0.47410613,0.5405771,0.12849087,0.07934463,0.83671796,0.50542706,0.37458158,0.54871863,0.76291883,0.029830098,0.38790172,0.59437376,0.6287006,0.083031,0.93377674,0.98517185],[0.10007435,0.11740142,0.8789686,0.7861427,0.65158224,0.9015767,0.3489654,0.22694618,0.8209548,0.6621901,0.04324627,0.73744476,0.801386,0.5464709,0.46277714,0.8093161,0.6933051,0.6789407,0.8703872,0.84522414,0.14250702,0.75772864,0.4353239,0.73832005,0.916189,0.550878,0.21669507,0.18529493,0.23000145,0.8341189,0.68618166,0.1885491],[0.7619537,0.049420416,0.700499,0.7775925,0.18632078,0.79325867,0.5381603,0.45527303,0.4135942,0.45198876,0.6727644,0.7056383,0.29600656,0.86654955,0.8394178,0.49255413,0.90276295,0.51809514,0.98653495,0.010960281,0.017544031,0.89978296,0.5020941,0.7408263,0.8726994,0.4041642,0.6049852,0.051317275,0.4128682,0.48639196,0.4411674,0.35923505],[0.67280906,0.12450868,0.7624595,0.68231046,0.56635654,0.09740919,0.25047952,0.49043477,0.38784963,0.3303057,0.5611717,0.9257797,0.0014719367,0.032446265,0.6502256,0.8200145,0.15397316,0.6527893,0.4631732,0.76432586,0.49043792,0.95714927,0.93262523,0.0013585091,0.07794416,0.82471716,0.060690403,0.076961994,0.09062672,0.28366137,0.16952723,0.09787911],[0.9200459,0.22687566,0.3679554,0.35837144,0.92969865,0.16427112,0.7135393,0.58895576,0.13125682,0.99699503,0.01496774,0.038083434,0.028146207,0.2993942,0.103179276,0.5684566,0.2555312,0.28682387,0.9358283,0.77783614,0.7424613,0.8303598,0.46473652,0.44445562,0.7639191,0.18755633,0.7997086,0.0800153,0.73261654,0.21011055,0.63328695,0.17245394],[0.81844324,0.6785769,0.93397725,0.81361663,0.97749066,0.77115923,0.27395123,0.49257803,0.19393224,0.7623452,0.18290609,0.21096647,0.25103348,0.94434875,0.23504704,0.07702762,0.61443317,0.10425365,0.36642104,0.3089159,0.2633304,0.13456655,0.2780404,0.20386785,0.75064135,0.17363644,0.2515157,0.78900146,0.9030421,0.6416603,0.38322335,0.96078825],[0.93881494,0.7705249,0.18492001,0.15128893,0.37691277,0.61140156,0.90445757,0.532365,0.4616384,0.9991113,0.7704108,0.96418005,0.85896003,0.367908,0.79226786,0.30387962,0.98811954,0.49744654,0.21930945,0.42362988,0.6991804,0.33569467,0.7809032,0.2903595,0.50452065,0.6026231,0.4321195,0.44832337,0.15526068,0.5439734,0.8005626,0.66381633],[0.84871083,0.4859166,0.075659215,0.6062492,0.1762271,0.11456597,0.5583097,0.1385144,0.6380482,0.02217561,0.15279603,0.50233656,0.9763022,0.9402727,0.20559949,0.7523692,0.3166806,0.38765538,0.54609543,0.9833592,0.6453012,0.8662572,0.22640681,0.1571868,0.40554595,0.57484895,0.5877797,0.0058323145,0.44685006,0.76807225,0.28313506,0.35962582],[0.2869137,0.9570165,0.34990513,0.47263962,0.27753443,0.7795931,0.3242941,0.5523338,0.09912467,0.14294428,0.6992811,0.8459342,0.52621794,0.20973074,0.69184554,0.33116513,0.100081384,0.9527631,0.49442488,0.6623522,0.8314069,0.50459844,0.8919113,0.8316423,0.727489,0.5698501,0.75410086,0.29060203,0.55678993,0.28062868,0.99488413,0.9681901],[0.20639294,0.04654938,0.02548498,0.37204206,0.4330535,0.42737812,0.6669202,0.31304204,0.42177844,0.70501435,0.08584595,0.113876104,0.50731814,0.16506308,0.77594495,0.14497852,0.010555744,0.91830504,0.32654178,0.86255425,0.23517472,0.58808845,0.14310104,0.6664424,0.80237603,0.8732478,0.75673175,0.22926283,0.0023897886,0.46021372,0.13467991,0.30313742],[0.46218318,0.26402962,0.5131167,0.30128074,0.1614669,0.8641728,0.42860663,0.7616073,0.8017048,0.6613081,0.9490593,0.6941568,0.6464264,0.9705932,0.97424084,0.91558254,0.60986936,0.6924578,0.7746715,0.4256248,0.013784945,0.89800715,0.3497604,0.865904,0.2843343,0.32967538,0.68614554,0.62293464,0.8847311,0.741127,0.44478524,0.9757184],[0.10208899,0.22972447,0.039155066,0.786002,0.5217655,0.8777171,0.37627834,0.9242597,0.9738382,0.9835625,0.24090046,0.930767,0.75116503,0.757224,0.81946945,0.9921908,0.68349403,0.2881568,0.07009494,0.5812575,0.6578545,0.65354764,0.5053052,0.14729291,0.81871426,0.53844434,0.33795667,0.772578,0.06806892,0.25927472,0.59086496,0.37246364],[0.2863077,0.02234608,0.718051,0.35293806,0.07463658,0.1909625,0.30166173,0.53827167,0.18254465,0.7772898,0.9960584,0.3911904,0.65132964,0.91986877,0.27681303,0.031045198,0.6221673,0.7543937,0.12564737,0.40395892,0.77950144,0.3435369,0.03849739,0.66825694,0.39786136,0.7382238,0.15464592,0.21845716,0.9989383,0.11366582,0.76292855,0.59296966],[0.061526716,0.48864293,0.16365254,0.85497713,0.78439075,0.6875597,0.4308684,0.23045075,0.20284885,0.2669692,0.16562402,0.7635773,0.6850657,0.024882793,0.44014722,0.63043535,0.050190628,0.937833,0.9864211,0.3122548,0.5950149,0.15391582,0.9162746,0.91350967,0.5018801,0.060926855,0.8631585,0.66568685,0.3174736,0.25202096,0.8848849,0.6001697],[0.62222016,0.14089286,0.56613666,0.6743705,0.06382108,0.7781636,0.6815105,0.12716293,0.5666654,0.09924561,0.43416405,0.9132971,0.70629424,0.72403336,0.33606648,0.6790515,0.0724023,0.18024015,0.6023414,0.14838088,0.3647861,0.8715448,0.53445643,0.3241495,0.087750256,0.81524324,0.13736951,0.97917855,0.04245305,0.098825574,0.3553627,0.83637154],[0.82248944,0.4151184,0.79009897,0.15371531,0.27210158,0.65748274,0.107138515,0.16927063,0.2960835,0.8668459,0.4344735,0.7830867,0.32339507,0.6784352,0.25344056,0.3262571,0.6249213,0.46977532,0.17023808,0.9836693,0.7074349,0.071163535,0.1773656,0.016702533,0.42406756,0.114201844,0.024136066,0.04064071,0.56957453,0.57178336,0.50794107,0.64049244],[0.2804709,0.89887565,0.3452242,0.99464214,0.7277039,0.06329477,0.48464775,0.7356401,0.4041353,0.8549458,0.85492474,0.002773285,0.49816108,0.15310955,0.8109547,0.53171337,0.92225695,0.632841,0.055910528,0.95097893,0.8942292,0.57017523,0.4835453,0.78841805,0.61251986,0.7132002,0.6862679,0.5620121,0.45257115,0.45748824,0.6092884,0.022082508],[0.73549443,0.8275464,0.29664266,0.81424296,0.09786868,0.28291005,0.8831023,0.36268824,0.22292751,0.9711102,0.22355425,0.38937283,0.13505036,0.41041803,0.48460418,0.6776436,0.2663344,0.012110531,0.07270795,0.4667347,0.7797049,0.66364986,0.89477396,0.27232867,0.3225506,0.4126479,0.520936,0.9236097,0.936436,0.19919819,0.11466879,0.806668],[0.44106382,0.7362755,0.947362,0.29282916,0.8449619,0.90593344,0.84122616,0.3342417,0.80225736,0.16550308,0.4725262,0.45688367,0.7811518,0.54863,0.2042597,0.3110237,0.21761876,0.22618306,0.36617535,0.30988723,0.10904312,0.80350983,0.005235374,0.041289985,0.7797056,0.6315835,0.90523726,0.84919393,0.80228215,0.4803272,0.3024258,0.27149713],[0.15542042,0.90028673,0.36257392,0.6381556,0.344801,0.113113225,0.01295954,0.34467995,0.83202237,0.2301004,0.32175773,0.9720633,0.12589532,0.805376,0.95239633,0.7287101,0.45178944,0.0753575,0.4760183,0.81658226,0.9167434,0.7107975,0.07711607,0.5521673,0.79131347,0.5224535,0.66973907,0.334673,0.81988674,0.26709098,0.666636,0.5289611],[0.85187846,0.22048855,0.8425022,0.67652506,0.9145983,0.8607577,0.6143842,0.3199702,0.96733296,0.65957415,0.14760149,0.1284821,0.39259815,0.9958535,0.76664823,0.93171453,0.4324366,0.762236,0.77882457,0.42356122,0.3943423,0.05531937,0.683951,0.4453627,0.32771552,0.7458265,0.6553472,0.78329736,0.23179775,0.7859687,0.4560271,0.6609713],[0.53479546,0.5879353,0.5852384,0.8032112,0.9900308,0.69250494,0.40052253,0.6798558,0.5184832,0.61103916,0.8839118,0.32385743,0.84707326,0.16041756,0.7533681,0.53006536,0.7769603,0.88283664,0.9018702,0.8305695,0.1640802,0.18272209,0.3904184,0.7989035,0.88098776,0.3478688,0.31702912,0.113830805,0.2713822,0.029769361,0.9229804,0.44991553],[0.16060728,0.5519777,0.572812,0.77485114,0.7042664,0.6036204,0.38533783,0.5185611,0.94304264,0.45501143,0.78936684,0.49008918,0.4999588,0.961354,0.14817077,0.5386141,0.87589216,0.2021513,0.2178083,0.100152254,0.92268866,0.11964476,0.4698428,0.21767175,0.41611564,0.3802895,0.29125273,0.74389213,0.616887,0.60071594,0.42161655,0.6029683],[0.5222214,0.5902293,0.98791075,0.41029155,0.5498646,0.59479827,0.95009136,0.36810774,0.067154884,0.6799474,0.53552693,0.93079424,0.7156413,0.96641386,0.05859208,0.34982592,0.1560095,0.49386007,0.65178126,0.5987466,0.76735616,0.73509765,0.9903624,0.752252,0.6762691,0.9194633,0.40754163,0.3220693,0.83299243,0.44166028,0.5439793,0.15533441],[0.35309583,0.28830206,0.91148674,0.4123487,0.2888137,0.79637265,0.7747834,0.38195515,0.9572693,0.35516894,0.6869705,0.9145992,0.6869804,0.26463443,0.54609436,0.08489847,0.5602659,0.039586842,0.66156393,0.7540728,0.93041795,0.4682594,0.6378152,0.14064628,0.20871049,0.79322726,0.06798911,0.69763756,0.8390708,0.24142772,0.32741594,0.11453563],[0.6621807,0.80447495,0.24961239,0.66410434,0.09318447,0.31546474,0.5199805,0.068550766,0.55419385,0.3184368,0.90924656,0.06911397,0.7964268,0.40143055,0.50232136,0.6804034,0.0294047,0.7012756,0.11870134,0.85221183,0.1988427,0.62591624,0.13482946,0.86220217,0.51013124,0.49419105,0.8079426,0.5796967,0.2586395,0.8158434,0.3242041,0.16725546],[0.6168128,0.8036077,0.91500425,0.49609882,0.67408955,0.49130052,0.41587168,0.2433874,0.8640703,0.22768801,0.102140725,0.739769,0.3976779,0.31665373,0.7441505,0.5994968,0.05991006,0.18813694,0.2695732,0.0046384335,0.10401875,0.6115579,0.2426076,0.5995718,0.58778363,0.23680812,0.3855803,0.37182468,0.039244413,0.4142002,0.11328697,0.20963085],[0.7029583,0.0521338,0.33129328,0.34329373,0.73314184,0.20009238,0.843797,0.9274058,0.5607661,0.22437179,0.16604966,0.41785675,0.5492588,0.009084344,0.8739486,0.63529533,0.15031266,0.35341424,0.21748286,0.20398968,0.45004737,0.34209216,0.63425386,0.10774547,0.9431122,0.18422306,0.88328594,0.50484437,0.42676705,0.017447293,0.7709934,0.09560466],[0.74052763,0.5894979,0.44599086,0.30093306,0.9014724,0.76076126,0.49763477,0.26033235,0.5681674,0.6023942,0.35778278,0.5171116,0.16217142,0.14147902,0.9657594,0.005993724,0.77616966,0.24668467,0.57756096,0.5687663,0.89243144,0.35753495,0.6530843,0.85398567,0.5783229,0.25879264,0.14938104,0.44780123,0.7591059,0.013028383,0.2113387,0.42374802],[0.77515215,0.5316958,0.50615937,0.29859382,0.6343524,0.73450154,0.76980853,0.6890715,0.40649295,0.62299067,0.9567439,0.57947016,0.82063717,0.19258076,0.4782052,0.7045675,0.60186666,0.7242773,0.8186105,0.09440184,0.9807366,0.6035721,0.22096997,0.5543681,0.66762954,0.67579955,0.18026584,0.97548187,0.39318025,0.80214643,0.4671706,0.32929355],[0.022037983,0.3058495,0.19094181,0.5691903,0.93397194,0.8890408,0.5348346,0.67455274,0.80678225,0.41396505,0.35948604,0.85718346,0.08614302,0.8406869,0.58885753,0.82447046,0.06532174,0.33428735,0.7800665,0.33742565,0.2432037,0.8049316,0.1518122,0.051638305,0.04335636,0.8709269,0.04352659,0.19137013,0.4018916,0.5216107,0.7301019,0.6351435],[0.17589587,0.34386218,0.53581107,0.5646515,0.9941717,0.8957309,0.3672347,0.9135995,0.3531837,0.33249187,0.038561642,0.038806677,0.30881047,0.27354157,0.7738613,0.24909091,0.940644,0.34173095,0.19987774,0.99082714,0.2617643,0.3386925,0.35715115,0.8605905,0.2824514,0.99958116,0.89373916,0.23421991,0.8984554,0.030073404,0.17280656,0.048695564]],\"type\":\"heatmap\",\"xaxis\":\"x\",\"yaxis\":\"y\",\"hovertemplate\":\"x: %{x}\\u003cbr\\u003ey: %{y}\\u003cbr\\u003ecolor: %{z}\\u003cextra\\u003e\\u003c\\u002fextra\\u003e\"}],                        {\"template\":{\"data\":{\"histogram2dcontour\":[{\"type\":\"histogram2dcontour\",\"colorbar\":{\"outlinewidth\":0,\"ticks\":\"\"},\"colorscale\":[[0.0,\"#0d0887\"],[0.1111111111111111,\"#46039f\"],[0.2222222222222222,\"#7201a8\"],[0.3333333333333333,\"#9c179e\"],[0.4444444444444444,\"#bd3786\"],[0.5555555555555556,\"#d8576b\"],[0.6666666666666666,\"#ed7953\"],[0.7777777777777778,\"#fb9f3a\"],[0.8888888888888888,\"#fdca26\"],[1.0,\"#f0f921\"]]}],\"choropleth\":[{\"type\":\"choropleth\",\"colorbar\":{\"outlinewidth\":0,\"ticks\":\"\"}}],\"histogram2d\":[{\"type\":\"histogram2d\",\"colorbar\":{\"outlinewidth\":0,\"ticks\":\"\"},\"colorscale\":[[0.0,\"#0d0887\"],[0.1111111111111111,\"#46039f\"],[0.2222222222222222,\"#7201a8\"],[0.3333333333333333,\"#9c179e\"],[0.4444444444444444,\"#bd3786\"],[0.5555555555555556,\"#d8576b\"],[0.6666666666666666,\"#ed7953\"],[0.7777777777777778,\"#fb9f3a\"],[0.8888888888888888,\"#fdca26\"],[1.0,\"#f0f921\"]]}],\"heatmap\":[{\"type\":\"heatmap\",\"colorbar\":{\"outlinewidth\":0,\"ticks\":\"\"},\"colorscale\":[[0.0,\"#0d0887\"],[0.1111111111111111,\"#46039f\"],[0.2222222222222222,\"#7201a8\"],[0.3333333333333333,\"#9c179e\"],[0.4444444444444444,\"#bd3786\"],[0.5555555555555556,\"#d8576b\"],[0.6666666666666666,\"#ed7953\"],[0.7777777777777778,\"#fb9f3a\"],[0.8888888888888888,\"#fdca26\"],[1.0,\"#f0f921\"]]}],\"heatmapgl\":[{\"type\":\"heatmapgl\",\"colorbar\":{\"outlinewidth\":0,\"ticks\":\"\"},\"colorscale\":[[0.0,\"#0d0887\"],[0.1111111111111111,\"#46039f\"],[0.2222222222222222,\"#7201a8\"],[0.3333333333333333,\"#9c179e\"],[0.4444444444444444,\"#bd3786\"],[0.5555555555555556,\"#d8576b\"],[0.6666666666666666,\"#ed7953\"],[0.7777777777777778,\"#fb9f3a\"],[0.8888888888888888,\"#fdca26\"],[1.0,\"#f0f921\"]]}],\"contourcarpet\":[{\"type\":\"contourcarpet\",\"colorbar\":{\"outlinewidth\":0,\"ticks\":\"\"}}],\"contour\":[{\"type\":\"contour\",\"colorbar\":{\"outlinewidth\":0,\"ticks\":\"\"},\"colorscale\":[[0.0,\"#0d0887\"],[0.1111111111111111,\"#46039f\"],[0.2222222222222222,\"#7201a8\"],[0.3333333333333333,\"#9c179e\"],[0.4444444444444444,\"#bd3786\"],[0.5555555555555556,\"#d8576b\"],[0.6666666666666666,\"#ed7953\"],[0.7777777777777778,\"#fb9f3a\"],[0.8888888888888888,\"#fdca26\"],[1.0,\"#f0f921\"]]}],\"surface\":[{\"type\":\"surface\",\"colorbar\":{\"outlinewidth\":0,\"ticks\":\"\"},\"colorscale\":[[0.0,\"#0d0887\"],[0.1111111111111111,\"#46039f\"],[0.2222222222222222,\"#7201a8\"],[0.3333333333333333,\"#9c179e\"],[0.4444444444444444,\"#bd3786\"],[0.5555555555555556,\"#d8576b\"],[0.6666666666666666,\"#ed7953\"],[0.7777777777777778,\"#fb9f3a\"],[0.8888888888888888,\"#fdca26\"],[1.0,\"#f0f921\"]]}],\"mesh3d\":[{\"type\":\"mesh3d\",\"colorbar\":{\"outlinewidth\":0,\"ticks\":\"\"}}],\"scatter\":[{\"fillpattern\":{\"fillmode\":\"overlay\",\"size\":10,\"solidity\":0.2},\"type\":\"scatter\"}],\"parcoords\":[{\"type\":\"parcoords\",\"line\":{\"colorbar\":{\"outlinewidth\":0,\"ticks\":\"\"}}}],\"scatterpolargl\":[{\"type\":\"scatterpolargl\",\"marker\":{\"colorbar\":{\"outlinewidth\":0,\"ticks\":\"\"}}}],\"bar\":[{\"error_x\":{\"color\":\"#2a3f5f\"},\"error_y\":{\"color\":\"#2a3f5f\"},\"marker\":{\"line\":{\"color\":\"#E5ECF6\",\"width\":0.5},\"pattern\":{\"fillmode\":\"overlay\",\"size\":10,\"solidity\":0.2}},\"type\":\"bar\"}],\"scattergeo\":[{\"type\":\"scattergeo\",\"marker\":{\"colorbar\":{\"outlinewidth\":0,\"ticks\":\"\"}}}],\"scatterpolar\":[{\"type\":\"scatterpolar\",\"marker\":{\"colorbar\":{\"outlinewidth\":0,\"ticks\":\"\"}}}],\"histogram\":[{\"marker\":{\"pattern\":{\"fillmode\":\"overlay\",\"size\":10,\"solidity\":0.2}},\"type\":\"histogram\"}],\"scattergl\":[{\"type\":\"scattergl\",\"marker\":{\"colorbar\":{\"outlinewidth\":0,\"ticks\":\"\"}}}],\"scatter3d\":[{\"type\":\"scatter3d\",\"line\":{\"colorbar\":{\"outlinewidth\":0,\"ticks\":\"\"}},\"marker\":{\"colorbar\":{\"outlinewidth\":0,\"ticks\":\"\"}}}],\"scattermapbox\":[{\"type\":\"scattermapbox\",\"marker\":{\"colorbar\":{\"outlinewidth\":0,\"ticks\":\"\"}}}],\"scatterternary\":[{\"type\":\"scatterternary\",\"marker\":{\"colorbar\":{\"outlinewidth\":0,\"ticks\":\"\"}}}],\"scattercarpet\":[{\"type\":\"scattercarpet\",\"marker\":{\"colorbar\":{\"outlinewidth\":0,\"ticks\":\"\"}}}],\"carpet\":[{\"aaxis\":{\"endlinecolor\":\"#2a3f5f\",\"gridcolor\":\"white\",\"linecolor\":\"white\",\"minorgridcolor\":\"white\",\"startlinecolor\":\"#2a3f5f\"},\"baxis\":{\"endlinecolor\":\"#2a3f5f\",\"gridcolor\":\"white\",\"linecolor\":\"white\",\"minorgridcolor\":\"white\",\"startlinecolor\":\"#2a3f5f\"},\"type\":\"carpet\"}],\"table\":[{\"cells\":{\"fill\":{\"color\":\"#EBF0F8\"},\"line\":{\"color\":\"white\"}},\"header\":{\"fill\":{\"color\":\"#C8D4E3\"},\"line\":{\"color\":\"white\"}},\"type\":\"table\"}],\"barpolar\":[{\"marker\":{\"line\":{\"color\":\"#E5ECF6\",\"width\":0.5},\"pattern\":{\"fillmode\":\"overlay\",\"size\":10,\"solidity\":0.2}},\"type\":\"barpolar\"}],\"pie\":[{\"automargin\":true,\"type\":\"pie\"}]},\"layout\":{\"autotypenumbers\":\"strict\",\"colorway\":[\"#636efa\",\"#EF553B\",\"#00cc96\",\"#ab63fa\",\"#FFA15A\",\"#19d3f3\",\"#FF6692\",\"#B6E880\",\"#FF97FF\",\"#FECB52\"],\"font\":{\"color\":\"#2a3f5f\"},\"hovermode\":\"closest\",\"hoverlabel\":{\"align\":\"left\"},\"paper_bgcolor\":\"white\",\"plot_bgcolor\":\"#E5ECF6\",\"polar\":{\"bgcolor\":\"#E5ECF6\",\"angularaxis\":{\"gridcolor\":\"white\",\"linecolor\":\"white\",\"ticks\":\"\"},\"radialaxis\":{\"gridcolor\":\"white\",\"linecolor\":\"white\",\"ticks\":\"\"}},\"ternary\":{\"bgcolor\":\"#E5ECF6\",\"aaxis\":{\"gridcolor\":\"white\",\"linecolor\":\"white\",\"ticks\":\"\"},\"baxis\":{\"gridcolor\":\"white\",\"linecolor\":\"white\",\"ticks\":\"\"},\"caxis\":{\"gridcolor\":\"white\",\"linecolor\":\"white\",\"ticks\":\"\"}},\"coloraxis\":{\"colorbar\":{\"outlinewidth\":0,\"ticks\":\"\"}},\"colorscale\":{\"sequential\":[[0.0,\"#0d0887\"],[0.1111111111111111,\"#46039f\"],[0.2222222222222222,\"#7201a8\"],[0.3333333333333333,\"#9c179e\"],[0.4444444444444444,\"#bd3786\"],[0.5555555555555556,\"#d8576b\"],[0.6666666666666666,\"#ed7953\"],[0.7777777777777778,\"#fb9f3a\"],[0.8888888888888888,\"#fdca26\"],[1.0,\"#f0f921\"]],\"sequentialminus\":[[0.0,\"#0d0887\"],[0.1111111111111111,\"#46039f\"],[0.2222222222222222,\"#7201a8\"],[0.3333333333333333,\"#9c179e\"],[0.4444444444444444,\"#bd3786\"],[0.5555555555555556,\"#d8576b\"],[0.6666666666666666,\"#ed7953\"],[0.7777777777777778,\"#fb9f3a\"],[0.8888888888888888,\"#fdca26\"],[1.0,\"#f0f921\"]],\"diverging\":[[0,\"#8e0152\"],[0.1,\"#c51b7d\"],[0.2,\"#de77ae\"],[0.3,\"#f1b6da\"],[0.4,\"#fde0ef\"],[0.5,\"#f7f7f7\"],[0.6,\"#e6f5d0\"],[0.7,\"#b8e186\"],[0.8,\"#7fbc41\"],[0.9,\"#4d9221\"],[1,\"#276419\"]]},\"xaxis\":{\"gridcolor\":\"white\",\"linecolor\":\"white\",\"ticks\":\"\",\"title\":{\"standoff\":15},\"zerolinecolor\":\"white\",\"automargin\":true,\"zerolinewidth\":2},\"yaxis\":{\"gridcolor\":\"white\",\"linecolor\":\"white\",\"ticks\":\"\",\"title\":{\"standoff\":15},\"zerolinecolor\":\"white\",\"automargin\":true,\"zerolinewidth\":2},\"scene\":{\"xaxis\":{\"backgroundcolor\":\"#E5ECF6\",\"gridcolor\":\"white\",\"linecolor\":\"white\",\"showbackground\":true,\"ticks\":\"\",\"zerolinecolor\":\"white\",\"gridwidth\":2},\"yaxis\":{\"backgroundcolor\":\"#E5ECF6\",\"gridcolor\":\"white\",\"linecolor\":\"white\",\"showbackground\":true,\"ticks\":\"\",\"zerolinecolor\":\"white\",\"gridwidth\":2},\"zaxis\":{\"backgroundcolor\":\"#E5ECF6\",\"gridcolor\":\"white\",\"linecolor\":\"white\",\"showbackground\":true,\"ticks\":\"\",\"zerolinecolor\":\"white\",\"gridwidth\":2}},\"shapedefaults\":{\"line\":{\"color\":\"#2a3f5f\"}},\"annotationdefaults\":{\"arrowcolor\":\"#2a3f5f\",\"arrowhead\":0,\"arrowwidth\":1},\"geo\":{\"bgcolor\":\"white\",\"landcolor\":\"#E5ECF6\",\"subunitcolor\":\"white\",\"showland\":true,\"showlakes\":true,\"lakecolor\":\"white\"},\"title\":{\"x\":0.05},\"mapbox\":{\"style\":\"light\"}}},\"xaxis\":{\"anchor\":\"y\",\"domain\":[0.0,1.0],\"scaleanchor\":\"y\",\"constrain\":\"domain\"},\"yaxis\":{\"anchor\":\"x\",\"domain\":[0.0,1.0],\"autorange\":\"reversed\",\"constrain\":\"domain\"},\"coloraxis\":{\"colorscale\":[[0.0,\"rgb(103,0,31)\"],[0.1,\"rgb(178,24,43)\"],[0.2,\"rgb(214,96,77)\"],[0.3,\"rgb(244,165,130)\"],[0.4,\"rgb(253,219,199)\"],[0.5,\"rgb(247,247,247)\"],[0.6,\"rgb(209,229,240)\"],[0.7,\"rgb(146,197,222)\"],[0.8,\"rgb(67,147,195)\"],[0.9,\"rgb(33,102,172)\"],[1.0,\"rgb(5,48,97)\"]],\"cmid\":0.0},\"title\":{\"text\":\"Matrix 3\"}},                        {\"responsive\": true}                    ).then(function(){\n",
       "                            \n",
       "var gd = document.getElementById('04209f9b-35ab-4a1c-9201-cabcbf97a66a');\n",
       "var x = new MutationObserver(function (mutations, observer) {{\n",
       "        var display = window.getComputedStyle(gd).display;\n",
       "        if (!display || display === 'none') {{\n",
       "            console.log([gd, 'removed!']);\n",
       "            Plotly.purge(gd);\n",
       "            observer.disconnect();\n",
       "        }}\n",
       "}});\n",
       "\n",
       "// Listen for the removal of the full notebook cells\n",
       "var notebookContainer = gd.closest('#notebook-container');\n",
       "if (notebookContainer) {{\n",
       "    x.observe(notebookContainer, {childList: true});\n",
       "}}\n",
       "\n",
       "// Listen for the clearing of the current output cell\n",
       "var outputEl = gd.closest('.output');\n",
       "if (outputEl) {{\n",
       "    x.observe(outputEl, {childList: true});\n",
       "}}\n",
       "\n",
       "                        })                };                });            </script>        </div>"
      ]
     },
     "metadata": {},
     "output_type": "display_data"
    },
    {
     "data": {
      "application/vnd.plotly.v1+json": {
       "config": {
        "plotlyServerURL": "https://plot.ly"
       },
       "data": [
        {
         "coloraxis": "coloraxis",
         "hovertemplate": "x: %{x}<br>y: %{y}<br>color: %{z}<extra></extra>",
         "name": "0",
         "type": "heatmap",
         "xaxis": "x",
         "yaxis": "y",
         "z": [
          [
           0.17676258,
           0.31527293,
           0.3305,
           0.29820585,
           0.84861714,
           0.0783754,
           0.34313804,
           0.26654762,
           0.3098666,
           0.5879422,
           0.40440738,
           0.66291517,
           0.6515387,
           0.021459877,
           0.3820284,
           0.44231153,
           0.00037640333,
           0.1732176,
           0.16404128,
           0.12136155,
           0.5658249,
           0.39088386,
           0.40609205,
           0.4810884,
           0.6794225,
           0.021148741,
           0.14711958,
           0.94559693,
           0.28717035,
           0.27717817,
           0.099850476,
           0.4862914
          ],
          [
           0.8370515,
           0.8340316,
           0.5302389,
           0.39852744,
           0.55905217,
           0.90386546,
           0.9506836,
           0.13998663,
           0.825848,
           0.4611277,
           0.56954277,
           0.70593446,
           0.42919242,
           0.4105137,
           0.6601698,
           0.6449157,
           0.5221028,
           0.8861585,
           0.10936576,
           0.23772293,
           0.06844443,
           0.48456234,
           0.2231878,
           0.29646158,
           0.8067382,
           0.47663385,
           0.31666988,
           0.14412826,
           0.119283855,
           0.29711664,
           0.5845266,
           0.105336726
          ],
          [
           0.24535006,
           0.55409575,
           0.49763376,
           0.7074255,
           0.83794105,
           0.6980015,
           0.598014,
           0.06004423,
           0.35799098,
           0.22916377,
           0.53583765,
           0.38359588,
           0.013631523,
           0.39050317,
           0.31621003,
           0.7160522,
           0.16717225,
           0.8446159,
           0.32613742,
           0.9508577,
           0.64175344,
           0.05347097,
           0.572205,
           0.69807667,
           0.26179183,
           0.48299938,
           0.4182161,
           0.82680154,
           0.8719278,
           0.55314255,
           0.76005995,
           0.3456478
          ],
          [
           0.6699133,
           0.18314648,
           0.5599136,
           0.26217335,
           0.3734668,
           0.6180558,
           0.0015057921,
           0.18542165,
           0.6867501,
           0.39905143,
           0.97373325,
           0.6849755,
           0.79956424,
           0.1797803,
           0.48491704,
           0.22063094,
           0.50653833,
           0.23695731,
           0.825762,
           0.54663545,
           0.7853459,
           0.42713165,
           0.22268552,
           0.32964122,
           0.71716046,
           0.018577456,
           0.2842394,
           0.3271861,
           0.35228246,
           0.83696026,
           0.6495414,
           0.31148857
          ],
          [
           0.6461834,
           0.15671909,
           0.7859451,
           0.0022755265,
           0.81894606,
           0.33950675,
           0.96987116,
           0.2931127,
           0.10988712,
           0.25382185,
           0.40144885,
           0.8903061,
           0.45064282,
           0.11783093,
           0.90378976,
           0.8446233,
           0.44091946,
           0.7784693,
           0.65836143,
           0.8929828,
           0.21299332,
           0.461141,
           0.5370277,
           0.78022605,
           0.25364953,
           0.6065578,
           0.14146513,
           0.64888567,
           0.9296299,
           0.33620763,
           0.29843426,
           0.5922335
          ],
          [
           0.96905005,
           0.2533254,
           0.97468984,
           0.69084233,
           0.9072213,
           0.9439927,
           0.16599423,
           0.43631148,
           0.84822893,
           0.9212993,
           0.81385046,
           0.94389254,
           0.24010968,
           0.7913469,
           0.24046397,
           0.79048,
           0.34824085,
           0.9254087,
           0.7661704,
           0.24649632,
           0.13341296,
           0.09570646,
           0.94177645,
           0.6410666,
           0.24476022,
           0.5564229,
           0.011030495,
           0.90397483,
           0.32720572,
           0.7167535,
           0.34801394,
           0.4188245
          ],
          [
           0.7100632,
           0.7315814,
           0.9905234,
           0.9615783,
           0.7381126,
           0.9919201,
           0.6392069,
           0.0051618814,
           0.22243726,
           0.17322928,
           0.5742806,
           0.40557522,
           0.6522821,
           0.008964837,
           0.35254353,
           0.5988882,
           0.03477168,
           0.14114803,
           0.04824072,
           0.17064482,
           0.720831,
           0.23819321,
           0.8783138,
           0.89070666,
           0.63349056,
           0.5326943,
           0.9757273,
           0.9250115,
           0.056362987,
           0.32229722,
           0.26987505,
           0.9809847
          ],
          [
           0.66670156,
           0.71501195,
           0.42213053,
           0.7505788,
           0.7696533,
           0.39903975,
           0.5640142,
           0.36302817,
           0.16979015,
           0.83182114,
           0.8287544,
           0.026274621,
           0.48210633,
           0.40868545,
           0.51964253,
           0.20374978,
           0.76727736,
           0.62959164,
           0.09753442,
           0.6730854,
           0.37320495,
           0.11759794,
           0.12021726,
           0.22616452,
           0.13905281,
           0.6567217,
           0.47616833,
           0.6968217,
           0.74707127,
           0.6352882,
           0.37706518,
           0.29189724
          ],
          [
           0.35245383,
           0.7701094,
           0.32628953,
           0.21653897,
           0.73999774,
           0.25898623,
           0.564418,
           0.89046377,
           0.97514516,
           0.9069319,
           0.11354464,
           0.73421806,
           0.5875435,
           0.58331966,
           0.95971715,
           0.15819609,
           0.31355512,
           0.23512328,
           0.59490854,
           0.61748564,
           0.6196199,
           0.03040862,
           0.6725572,
           0.46813118,
           0.40869427,
           0.5698478,
           0.5158778,
           0.71045333,
           0.5055246,
           0.30002093,
           0.39680386,
           0.5263969
          ],
          [
           0.19495523,
           0.58438194,
           0.28323823,
           0.94360167,
           0.26092136,
           0.062158942,
           0.11942792,
           0.25132954,
           0.053411484,
           0.40267032,
           0.27463466,
           0.7345692,
           0.28825116,
           0.30182058,
           0.7311184,
           0.59889543,
           0.45865083,
           0.2666834,
           0.44242913,
           0.19851649,
           0.17453903,
           0.9624116,
           0.07051605,
           0.23769301,
           0.740135,
           0.95877254,
           0.8897845,
           0.7214449,
           0.6120887,
           0.78497267,
           0.78950673,
           0.721397
          ],
          [
           0.6301759,
           0.87570953,
           0.62155634,
           0.84147805,
           0.5274003,
           0.5263989,
           0.08106345,
           0.38362557,
           0.3511871,
           0.17410475,
           0.86813325,
           0.9745289,
           0.9800898,
           0.16825181,
           0.6614101,
           0.19828403,
           0.38336176,
           0.46390426,
           0.06133902,
           0.050267875,
           0.91505873,
           0.5775731,
           0.16767937,
           0.8870396,
           0.85190177,
           0.9372488,
           0.28489357,
           0.83619833,
           0.5807208,
           0.120302916,
           0.63155925,
           0.45625103
          ],
          [
           0.03580767,
           0.55107063,
           0.8014544,
           0.4860946,
           0.56131977,
           0.7966975,
           0.14105713,
           0.9248464,
           0.5118329,
           0.8078003,
           0.57288235,
           0.53534466,
           0.101316094,
           0.09656143,
           0.0957216,
           0.5141289,
           0.5177031,
           0.23343796,
           0.7978293,
           0.9828664,
           0.7674426,
           0.4709562,
           0.75592047,
           0.5829754,
           0.8750356,
           0.57075655,
           0.32153904,
           0.16908234,
           0.6185239,
           0.4877779,
           0.03911656,
           0.67675877
          ],
          [
           0.6699608,
           0.27915084,
           0.12095803,
           0.60063607,
           0.8666765,
           0.3595327,
           0.10007423,
           0.3009038,
           0.84991664,
           0.24482727,
           0.6882651,
           0.66134655,
           0.61190677,
           0.8800436,
           0.1687125,
           0.2393874,
           0.10142678,
           0.7924282,
           0.60318136,
           0.8107309,
           0.28356856,
           0.14473957,
           0.3004833,
           0.28122336,
           0.90077287,
           0.53567034,
           0.03346646,
           0.6464722,
           0.93852395,
           0.019936323,
           0.6249324,
           0.38095927
          ],
          [
           0.32482576,
           0.9153102,
           0.6969108,
           0.8688438,
           0.812792,
           0.14817166,
           0.8726927,
           0.63520044,
           0.4631033,
           0.21914935,
           0.907406,
           0.3999582,
           0.39105648,
           0.917127,
           0.5662555,
           0.3779204,
           0.1874395,
           0.37274426,
           0.92562705,
           0.47335035,
           0.2076956,
           0.94231385,
           0.64728665,
           0.805042,
           0.5196129,
           0.0232718,
           0.8685137,
           0.090027094,
           0.7112059,
           0.0049223304,
           0.6489258,
           0.37285137
          ],
          [
           0.6296271,
           0.48248953,
           0.34872526,
           0.815368,
           0.8481069,
           0.71056575,
           0.5320474,
           0.57090527,
           0.7341725,
           0.6314511,
           0.48926127,
           0.7839999,
           0.75564533,
           0.0059150457,
           0.27229303,
           0.3843423,
           0.14521956,
           0.2731424,
           0.04440224,
           0.016930759,
           0.24358386,
           0.7241967,
           0.48407555,
           0.503742,
           0.60506195,
           0.5616142,
           0.878628,
           0.32655948,
           0.95711803,
           0.2530858,
           0.6099441,
           0.5838554
          ],
          [
           0.16116059,
           0.8404394,
           0.7428303,
           0.64807487,
           0.5091645,
           0.97004855,
           0.8491298,
           0.7570091,
           0.37218046,
           0.66395825,
           0.90941864,
           0.94734514,
           0.93337524,
           0.64656425,
           0.36661404,
           0.022618234,
           0.12463009,
           0.8621917,
           0.5668848,
           0.0065930486,
           0.30022663,
           0.00045502186,
           0.06385726,
           0.114403605,
           0.7647895,
           0.1574195,
           0.17447293,
           0.09313649,
           0.08471233,
           0.064501464,
           0.32979548,
           0.22177261
          ],
          [
           0.7660153,
           0.15972114,
           0.10479134,
           0.58557045,
           0.9650312,
           0.035918057,
           0.68471545,
           0.00969559,
           0.62671196,
           0.27857423,
           0.21088725,
           0.8291934,
           0.4833933,
           0.15021408,
           0.88089615,
           0.26561362,
           0.72488993,
           0.929877,
           0.9594707,
           0.9001141,
           0.661361,
           0.075858474,
           0.92482024,
           0.39817798,
           0.33852434,
           0.5411293,
           0.78023785,
           0.1546523,
           0.4665268,
           0.20299554,
           0.25594813,
           0.44443554
          ],
          [
           0.37623185,
           0.5740344,
           0.92355883,
           0.45807558,
           0.2416699,
           0.77853,
           0.37304688,
           0.51227397,
           0.48307693,
           0.67696583,
           0.08991176,
           0.104774535,
           0.68920916,
           0.6543076,
           0.25582814,
           0.25975037,
           0.025559723,
           0.6007466,
           0.7661063,
           0.80612206,
           0.82068324,
           0.19768155,
           0.5642451,
           0.37064284,
           0.8281011,
           0.123024285,
           0.35061276,
           0.7744773,
           0.9944074,
           0.3204915,
           0.4466284,
           0.5354426
          ],
          [
           0.9395748,
           0.25093877,
           0.15008986,
           0.29445708,
           0.80719805,
           0.6074459,
           0.83353835,
           0.5984907,
           0.969872,
           0.19821078,
           0.5538513,
           0.49450767,
           0.426933,
           0.20337331,
           0.3697235,
           0.10358757,
           0.55286616,
           0.36019152,
           0.8857802,
           0.7312,
           0.15628815,
           0.532192,
           0.76366264,
           0.41045576,
           0.9729731,
           0.5067701,
           0.9741753,
           0.013471067,
           0.87906307,
           0.39194036,
           0.4245984,
           0.96853244
          ],
          [
           0.5272909,
           0.19233048,
           0.19013047,
           0.18290251,
           0.87486917,
           0.01456064,
           0.1583525,
           0.56469005,
           0.93726176,
           0.56536305,
           0.9242332,
           0.7173854,
           0.20473194,
           0.44824016,
           0.8074967,
           0.9206651,
           0.1651277,
           0.40842235,
           0.4864322,
           0.22628576,
           0.2882865,
           0.6256203,
           0.7002722,
           0.39393693,
           0.778549,
           0.63167906,
           0.1252085,
           0.8237292,
           0.7399315,
           0.13713896,
           0.5088682,
           0.563764
          ],
          [
           0.48457962,
           0.76636595,
           0.03881991,
           0.44281965,
           0.20659709,
           0.441608,
           0.024830937,
           0.54429007,
           0.0521487,
           0.9688529,
           0.47733188,
           0.4185868,
           0.8512558,
           0.67468584,
           0.16797215,
           0.8418785,
           0.6431614,
           0.8198705,
           0.93239933,
           0.45900738,
           0.89293313,
           0.59319186,
           0.020927072,
           0.6445998,
           0.72778296,
           0.582856,
           0.25908887,
           0.5438038,
           0.3910641,
           0.7157324,
           0.60801756,
           0.08458781
          ],
          [
           0.828138,
           0.45162606,
           0.5934787,
           0.2945751,
           0.4237966,
           0.828301,
           0.04365146,
           0.84959424,
           0.7870662,
           0.77664137,
           0.8235082,
           0.15605438,
           0.044144034,
           0.17492247,
           0.16610616,
           0.44756854,
           0.05775839,
           0.14102542,
           0.43293357,
           0.5327612,
           0.44410795,
           0.8956171,
           0.73904145,
           0.4917544,
           0.6822587,
           0.7700983,
           0.98901445,
           0.90292007,
           0.08189309,
           0.2998709,
           0.82272154,
           0.7241688
          ],
          [
           0.07444775,
           0.4061684,
           0.98505336,
           0.2741074,
           0.8149439,
           0.6045905,
           0.575363,
           0.39678663,
           0.5580485,
           0.83501285,
           0.13088131,
           0.38446337,
           0.23026222,
           0.47788388,
           0.110183656,
           0.47997755,
           0.2544852,
           0.57288164,
           0.34303278,
           0.8917077,
           0.36471498,
           0.2793039,
           0.66313875,
           0.0019572377,
           0.13451242,
           0.7232669,
           0.39960164,
           0.23230064,
           0.75080585,
           0.6291144,
           0.8289198,
           0.7486263
          ],
          [
           0.79296327,
           0.76031995,
           0.5878112,
           0.6158893,
           0.40789992,
           0.6538032,
           0.31422323,
           0.5593587,
           0.9226424,
           0.23972291,
           0.66795665,
           0.56723034,
           0.33477688,
           0.855327,
           0.30112982,
           0.31300873,
           0.019950628,
           0.0028891563,
           0.47505754,
           0.126778,
           0.030556142,
           0.6276612,
           0.87041384,
           0.8742377,
           0.731339,
           0.5226878,
           0.32824343,
           0.309384,
           0.55033517,
           0.17429388,
           0.6106859,
           0.3290066
          ],
          [
           0.40258855,
           0.45914036,
           0.14306712,
           0.22526544,
           0.9747498,
           0.19429106,
           0.11813021,
           0.12222165,
           0.06799114,
           0.6684527,
           0.11411661,
           0.011491358,
           0.11769664,
           0.29387206,
           0.35493493,
           0.47298974,
           0.8153852,
           0.13161564,
           0.97374135,
           0.23800004,
           0.86108065,
           0.6216347,
           0.583879,
           0.39139122,
           0.0954451,
           0.8088085,
           0.042452395,
           0.64406526,
           0.26761007,
           0.072303295,
           0.60818964,
           0.019472599
          ],
          [
           0.13586187,
           0.4510113,
           0.63311297,
           0.6796021,
           0.6292916,
           0.11906159,
           0.15265256,
           0.85647285,
           0.47896045,
           0.41632372,
           0.27982193,
           0.8791149,
           0.30433494,
           0.29094034,
           0.7421694,
           0.6388991,
           0.8020012,
           0.97459966,
           0.5684006,
           0.75461143,
           0.045787096,
           0.64556617,
           0.26594537,
           0.016054094,
           0.3262924,
           0.84032035,
           0.50810796,
           0.38642716,
           0.67280096,
           0.81745964,
           0.03873205,
           0.078201115
          ],
          [
           0.6677881,
           0.69740945,
           0.1644857,
           0.7350355,
           0.57107925,
           0.34461004,
           0.2441448,
           0.17669415,
           0.7676227,
           0.5219663,
           0.86852115,
           0.39039075,
           0.3540699,
           0.40684897,
           0.61282194,
           0.06984705,
           0.44952267,
           0.32879102,
           0.47276634,
           0.36297286,
           0.47541106,
           0.23996204,
           0.1535042,
           0.33163458,
           0.6206745,
           0.31884772,
           0.5748967,
           0.8275794,
           0.34814906,
           0.5644581,
           0.6889785,
           0.106396854
          ],
          [
           0.055092394,
           0.8506211,
           0.49136496,
           0.016782463,
           0.46290553,
           0.017604649,
           0.4118154,
           0.49165964,
           0.5112102,
           0.59345317,
           0.4415896,
           0.15497464,
           0.97570014,
           0.40696764,
           0.83158,
           0.36012363,
           0.4876576,
           0.8538182,
           0.26870143,
           0.35916352,
           0.9471888,
           0.80555075,
           0.3082837,
           0.95901823,
           0.7346655,
           0.5908235,
           0.33905494,
           0.33546996,
           0.27082598,
           0.30044508,
           0.5588147,
           0.7405835
          ],
          [
           0.18716908,
           0.1166867,
           0.3995523,
           0.4367596,
           0.2600202,
           0.56650347,
           0.5486246,
           0.031809032,
           0.543379,
           0.846605,
           0.20277667,
           0.9713244,
           0.21777314,
           0.8445793,
           0.5111264,
           0.47673404,
           0.7329827,
           0.4301219,
           0.66707677,
           0.4321736,
           0.6143138,
           0.6475815,
           0.4622543,
           0.7159681,
           0.6395438,
           0.66752124,
           0.0753082,
           0.2929759,
           0.22128975,
           0.16496366,
           0.16478676,
           0.023121059
          ],
          [
           0.9602851,
           0.4788823,
           0.7850541,
           0.07167125,
           0.9073142,
           0.6376559,
           0.44025403,
           0.40728074,
           0.5704671,
           0.66063803,
           0.27997005,
           0.064038575,
           0.39169163,
           0.1970011,
           0.4507426,
           0.29185176,
           0.6390339,
           0.01293242,
           0.78918767,
           0.21064031,
           0.29930794,
           0.2086299,
           0.4019978,
           0.81217253,
           0.013911366,
           0.27151364,
           0.935148,
           0.32137096,
           0.9999003,
           0.88930947,
           0.33620334,
           0.62563866
          ],
          [
           0.79866636,
           0.32789624,
           0.21801132,
           0.5236286,
           0.5110696,
           0.91102535,
           0.14321065,
           0.40844613,
           0.41210008,
           0.6657541,
           0.87866056,
           0.3836072,
           0.81306964,
           0.690569,
           0.7634806,
           0.15866655,
           0.050683975,
           0.0032175183,
           0.28462493,
           0.79733497,
           0.4447133,
           0.53090173,
           0.59620106,
           0.5950745,
           0.74266046,
           0.47324502,
           0.46607566,
           0.64529085,
           0.7792437,
           0.8267395,
           0.17017514,
           0.77013344
          ],
          [
           0.12169874,
           0.48392135,
           0.60569495,
           0.7982305,
           0.92102015,
           0.47060794,
           0.9604172,
           0.13480115,
           0.12596685,
           0.87542033,
           0.09874123,
           0.09287733,
           0.5631365,
           0.009713888,
           0.70957756,
           0.67736864,
           0.5088362,
           0.87755036,
           0.8931796,
           0.15200377,
           0.50785166,
           0.47571403,
           0.48629087,
           0.52208066,
           0.78553045,
           0.7712827,
           0.15907955,
           0.11867827,
           0.8587999,
           0.21016246,
           0.73494005,
           0.7539023
          ]
         ]
        }
       ],
       "layout": {
        "coloraxis": {
         "cmid": 0,
         "colorscale": [
          [
           0,
           "rgb(103,0,31)"
          ],
          [
           0.1,
           "rgb(178,24,43)"
          ],
          [
           0.2,
           "rgb(214,96,77)"
          ],
          [
           0.3,
           "rgb(244,165,130)"
          ],
          [
           0.4,
           "rgb(253,219,199)"
          ],
          [
           0.5,
           "rgb(247,247,247)"
          ],
          [
           0.6,
           "rgb(209,229,240)"
          ],
          [
           0.7,
           "rgb(146,197,222)"
          ],
          [
           0.8,
           "rgb(67,147,195)"
          ],
          [
           0.9,
           "rgb(33,102,172)"
          ],
          [
           1,
           "rgb(5,48,97)"
          ]
         ]
        },
        "template": {
         "data": {
          "bar": [
           {
            "error_x": {
             "color": "#2a3f5f"
            },
            "error_y": {
             "color": "#2a3f5f"
            },
            "marker": {
             "line": {
              "color": "#E5ECF6",
              "width": 0.5
             },
             "pattern": {
              "fillmode": "overlay",
              "size": 10,
              "solidity": 0.2
             }
            },
            "type": "bar"
           }
          ],
          "barpolar": [
           {
            "marker": {
             "line": {
              "color": "#E5ECF6",
              "width": 0.5
             },
             "pattern": {
              "fillmode": "overlay",
              "size": 10,
              "solidity": 0.2
             }
            },
            "type": "barpolar"
           }
          ],
          "carpet": [
           {
            "aaxis": {
             "endlinecolor": "#2a3f5f",
             "gridcolor": "white",
             "linecolor": "white",
             "minorgridcolor": "white",
             "startlinecolor": "#2a3f5f"
            },
            "baxis": {
             "endlinecolor": "#2a3f5f",
             "gridcolor": "white",
             "linecolor": "white",
             "minorgridcolor": "white",
             "startlinecolor": "#2a3f5f"
            },
            "type": "carpet"
           }
          ],
          "choropleth": [
           {
            "colorbar": {
             "outlinewidth": 0,
             "ticks": ""
            },
            "type": "choropleth"
           }
          ],
          "contour": [
           {
            "colorbar": {
             "outlinewidth": 0,
             "ticks": ""
            },
            "colorscale": [
             [
              0,
              "#0d0887"
             ],
             [
              0.1111111111111111,
              "#46039f"
             ],
             [
              0.2222222222222222,
              "#7201a8"
             ],
             [
              0.3333333333333333,
              "#9c179e"
             ],
             [
              0.4444444444444444,
              "#bd3786"
             ],
             [
              0.5555555555555556,
              "#d8576b"
             ],
             [
              0.6666666666666666,
              "#ed7953"
             ],
             [
              0.7777777777777778,
              "#fb9f3a"
             ],
             [
              0.8888888888888888,
              "#fdca26"
             ],
             [
              1,
              "#f0f921"
             ]
            ],
            "type": "contour"
           }
          ],
          "contourcarpet": [
           {
            "colorbar": {
             "outlinewidth": 0,
             "ticks": ""
            },
            "type": "contourcarpet"
           }
          ],
          "heatmap": [
           {
            "colorbar": {
             "outlinewidth": 0,
             "ticks": ""
            },
            "colorscale": [
             [
              0,
              "#0d0887"
             ],
             [
              0.1111111111111111,
              "#46039f"
             ],
             [
              0.2222222222222222,
              "#7201a8"
             ],
             [
              0.3333333333333333,
              "#9c179e"
             ],
             [
              0.4444444444444444,
              "#bd3786"
             ],
             [
              0.5555555555555556,
              "#d8576b"
             ],
             [
              0.6666666666666666,
              "#ed7953"
             ],
             [
              0.7777777777777778,
              "#fb9f3a"
             ],
             [
              0.8888888888888888,
              "#fdca26"
             ],
             [
              1,
              "#f0f921"
             ]
            ],
            "type": "heatmap"
           }
          ],
          "heatmapgl": [
           {
            "colorbar": {
             "outlinewidth": 0,
             "ticks": ""
            },
            "colorscale": [
             [
              0,
              "#0d0887"
             ],
             [
              0.1111111111111111,
              "#46039f"
             ],
             [
              0.2222222222222222,
              "#7201a8"
             ],
             [
              0.3333333333333333,
              "#9c179e"
             ],
             [
              0.4444444444444444,
              "#bd3786"
             ],
             [
              0.5555555555555556,
              "#d8576b"
             ],
             [
              0.6666666666666666,
              "#ed7953"
             ],
             [
              0.7777777777777778,
              "#fb9f3a"
             ],
             [
              0.8888888888888888,
              "#fdca26"
             ],
             [
              1,
              "#f0f921"
             ]
            ],
            "type": "heatmapgl"
           }
          ],
          "histogram": [
           {
            "marker": {
             "pattern": {
              "fillmode": "overlay",
              "size": 10,
              "solidity": 0.2
             }
            },
            "type": "histogram"
           }
          ],
          "histogram2d": [
           {
            "colorbar": {
             "outlinewidth": 0,
             "ticks": ""
            },
            "colorscale": [
             [
              0,
              "#0d0887"
             ],
             [
              0.1111111111111111,
              "#46039f"
             ],
             [
              0.2222222222222222,
              "#7201a8"
             ],
             [
              0.3333333333333333,
              "#9c179e"
             ],
             [
              0.4444444444444444,
              "#bd3786"
             ],
             [
              0.5555555555555556,
              "#d8576b"
             ],
             [
              0.6666666666666666,
              "#ed7953"
             ],
             [
              0.7777777777777778,
              "#fb9f3a"
             ],
             [
              0.8888888888888888,
              "#fdca26"
             ],
             [
              1,
              "#f0f921"
             ]
            ],
            "type": "histogram2d"
           }
          ],
          "histogram2dcontour": [
           {
            "colorbar": {
             "outlinewidth": 0,
             "ticks": ""
            },
            "colorscale": [
             [
              0,
              "#0d0887"
             ],
             [
              0.1111111111111111,
              "#46039f"
             ],
             [
              0.2222222222222222,
              "#7201a8"
             ],
             [
              0.3333333333333333,
              "#9c179e"
             ],
             [
              0.4444444444444444,
              "#bd3786"
             ],
             [
              0.5555555555555556,
              "#d8576b"
             ],
             [
              0.6666666666666666,
              "#ed7953"
             ],
             [
              0.7777777777777778,
              "#fb9f3a"
             ],
             [
              0.8888888888888888,
              "#fdca26"
             ],
             [
              1,
              "#f0f921"
             ]
            ],
            "type": "histogram2dcontour"
           }
          ],
          "mesh3d": [
           {
            "colorbar": {
             "outlinewidth": 0,
             "ticks": ""
            },
            "type": "mesh3d"
           }
          ],
          "parcoords": [
           {
            "line": {
             "colorbar": {
              "outlinewidth": 0,
              "ticks": ""
             }
            },
            "type": "parcoords"
           }
          ],
          "pie": [
           {
            "automargin": true,
            "type": "pie"
           }
          ],
          "scatter": [
           {
            "fillpattern": {
             "fillmode": "overlay",
             "size": 10,
             "solidity": 0.2
            },
            "type": "scatter"
           }
          ],
          "scatter3d": [
           {
            "line": {
             "colorbar": {
              "outlinewidth": 0,
              "ticks": ""
             }
            },
            "marker": {
             "colorbar": {
              "outlinewidth": 0,
              "ticks": ""
             }
            },
            "type": "scatter3d"
           }
          ],
          "scattercarpet": [
           {
            "marker": {
             "colorbar": {
              "outlinewidth": 0,
              "ticks": ""
             }
            },
            "type": "scattercarpet"
           }
          ],
          "scattergeo": [
           {
            "marker": {
             "colorbar": {
              "outlinewidth": 0,
              "ticks": ""
             }
            },
            "type": "scattergeo"
           }
          ],
          "scattergl": [
           {
            "marker": {
             "colorbar": {
              "outlinewidth": 0,
              "ticks": ""
             }
            },
            "type": "scattergl"
           }
          ],
          "scattermapbox": [
           {
            "marker": {
             "colorbar": {
              "outlinewidth": 0,
              "ticks": ""
             }
            },
            "type": "scattermapbox"
           }
          ],
          "scatterpolar": [
           {
            "marker": {
             "colorbar": {
              "outlinewidth": 0,
              "ticks": ""
             }
            },
            "type": "scatterpolar"
           }
          ],
          "scatterpolargl": [
           {
            "marker": {
             "colorbar": {
              "outlinewidth": 0,
              "ticks": ""
             }
            },
            "type": "scatterpolargl"
           }
          ],
          "scatterternary": [
           {
            "marker": {
             "colorbar": {
              "outlinewidth": 0,
              "ticks": ""
             }
            },
            "type": "scatterternary"
           }
          ],
          "surface": [
           {
            "colorbar": {
             "outlinewidth": 0,
             "ticks": ""
            },
            "colorscale": [
             [
              0,
              "#0d0887"
             ],
             [
              0.1111111111111111,
              "#46039f"
             ],
             [
              0.2222222222222222,
              "#7201a8"
             ],
             [
              0.3333333333333333,
              "#9c179e"
             ],
             [
              0.4444444444444444,
              "#bd3786"
             ],
             [
              0.5555555555555556,
              "#d8576b"
             ],
             [
              0.6666666666666666,
              "#ed7953"
             ],
             [
              0.7777777777777778,
              "#fb9f3a"
             ],
             [
              0.8888888888888888,
              "#fdca26"
             ],
             [
              1,
              "#f0f921"
             ]
            ],
            "type": "surface"
           }
          ],
          "table": [
           {
            "cells": {
             "fill": {
              "color": "#EBF0F8"
             },
             "line": {
              "color": "white"
             }
            },
            "header": {
             "fill": {
              "color": "#C8D4E3"
             },
             "line": {
              "color": "white"
             }
            },
            "type": "table"
           }
          ]
         },
         "layout": {
          "annotationdefaults": {
           "arrowcolor": "#2a3f5f",
           "arrowhead": 0,
           "arrowwidth": 1
          },
          "autotypenumbers": "strict",
          "coloraxis": {
           "colorbar": {
            "outlinewidth": 0,
            "ticks": ""
           }
          },
          "colorscale": {
           "diverging": [
            [
             0,
             "#8e0152"
            ],
            [
             0.1,
             "#c51b7d"
            ],
            [
             0.2,
             "#de77ae"
            ],
            [
             0.3,
             "#f1b6da"
            ],
            [
             0.4,
             "#fde0ef"
            ],
            [
             0.5,
             "#f7f7f7"
            ],
            [
             0.6,
             "#e6f5d0"
            ],
            [
             0.7,
             "#b8e186"
            ],
            [
             0.8,
             "#7fbc41"
            ],
            [
             0.9,
             "#4d9221"
            ],
            [
             1,
             "#276419"
            ]
           ],
           "sequential": [
            [
             0,
             "#0d0887"
            ],
            [
             0.1111111111111111,
             "#46039f"
            ],
            [
             0.2222222222222222,
             "#7201a8"
            ],
            [
             0.3333333333333333,
             "#9c179e"
            ],
            [
             0.4444444444444444,
             "#bd3786"
            ],
            [
             0.5555555555555556,
             "#d8576b"
            ],
            [
             0.6666666666666666,
             "#ed7953"
            ],
            [
             0.7777777777777778,
             "#fb9f3a"
            ],
            [
             0.8888888888888888,
             "#fdca26"
            ],
            [
             1,
             "#f0f921"
            ]
           ],
           "sequentialminus": [
            [
             0,
             "#0d0887"
            ],
            [
             0.1111111111111111,
             "#46039f"
            ],
            [
             0.2222222222222222,
             "#7201a8"
            ],
            [
             0.3333333333333333,
             "#9c179e"
            ],
            [
             0.4444444444444444,
             "#bd3786"
            ],
            [
             0.5555555555555556,
             "#d8576b"
            ],
            [
             0.6666666666666666,
             "#ed7953"
            ],
            [
             0.7777777777777778,
             "#fb9f3a"
            ],
            [
             0.8888888888888888,
             "#fdca26"
            ],
            [
             1,
             "#f0f921"
            ]
           ]
          },
          "colorway": [
           "#636efa",
           "#EF553B",
           "#00cc96",
           "#ab63fa",
           "#FFA15A",
           "#19d3f3",
           "#FF6692",
           "#B6E880",
           "#FF97FF",
           "#FECB52"
          ],
          "font": {
           "color": "#2a3f5f"
          },
          "geo": {
           "bgcolor": "white",
           "lakecolor": "white",
           "landcolor": "#E5ECF6",
           "showlakes": true,
           "showland": true,
           "subunitcolor": "white"
          },
          "hoverlabel": {
           "align": "left"
          },
          "hovermode": "closest",
          "mapbox": {
           "style": "light"
          },
          "paper_bgcolor": "white",
          "plot_bgcolor": "#E5ECF6",
          "polar": {
           "angularaxis": {
            "gridcolor": "white",
            "linecolor": "white",
            "ticks": ""
           },
           "bgcolor": "#E5ECF6",
           "radialaxis": {
            "gridcolor": "white",
            "linecolor": "white",
            "ticks": ""
           }
          },
          "scene": {
           "xaxis": {
            "backgroundcolor": "#E5ECF6",
            "gridcolor": "white",
            "gridwidth": 2,
            "linecolor": "white",
            "showbackground": true,
            "ticks": "",
            "zerolinecolor": "white"
           },
           "yaxis": {
            "backgroundcolor": "#E5ECF6",
            "gridcolor": "white",
            "gridwidth": 2,
            "linecolor": "white",
            "showbackground": true,
            "ticks": "",
            "zerolinecolor": "white"
           },
           "zaxis": {
            "backgroundcolor": "#E5ECF6",
            "gridcolor": "white",
            "gridwidth": 2,
            "linecolor": "white",
            "showbackground": true,
            "ticks": "",
            "zerolinecolor": "white"
           }
          },
          "shapedefaults": {
           "line": {
            "color": "#2a3f5f"
           }
          },
          "ternary": {
           "aaxis": {
            "gridcolor": "white",
            "linecolor": "white",
            "ticks": ""
           },
           "baxis": {
            "gridcolor": "white",
            "linecolor": "white",
            "ticks": ""
           },
           "bgcolor": "#E5ECF6",
           "caxis": {
            "gridcolor": "white",
            "linecolor": "white",
            "ticks": ""
           }
          },
          "title": {
           "x": 0.05
          },
          "xaxis": {
           "automargin": true,
           "gridcolor": "white",
           "linecolor": "white",
           "ticks": "",
           "title": {
            "standoff": 15
           },
           "zerolinecolor": "white",
           "zerolinewidth": 2
          },
          "yaxis": {
           "automargin": true,
           "gridcolor": "white",
           "linecolor": "white",
           "ticks": "",
           "title": {
            "standoff": 15
           },
           "zerolinecolor": "white",
           "zerolinewidth": 2
          }
         }
        },
        "title": {
         "text": "Matrix 4"
        },
        "xaxis": {
         "anchor": "y",
         "constrain": "domain",
         "domain": [
          0,
          1
         ],
         "scaleanchor": "y"
        },
        "yaxis": {
         "anchor": "x",
         "autorange": "reversed",
         "constrain": "domain",
         "domain": [
          0,
          1
         ]
        }
       }
      },
      "text/html": [
       "<div>                            <div id=\"0f5a93c7-e68c-481a-8d81-2d736fbb98df\" class=\"plotly-graph-div\" style=\"height:525px; width:100%;\"></div>            <script type=\"text/javascript\">                require([\"plotly\"], function(Plotly) {                    window.PLOTLYENV=window.PLOTLYENV || {};                                    if (document.getElementById(\"0f5a93c7-e68c-481a-8d81-2d736fbb98df\")) {                    Plotly.newPlot(                        \"0f5a93c7-e68c-481a-8d81-2d736fbb98df\",                        [{\"coloraxis\":\"coloraxis\",\"name\":\"0\",\"z\":[[0.17676258,0.31527293,0.3305,0.29820585,0.84861714,0.0783754,0.34313804,0.26654762,0.3098666,0.5879422,0.40440738,0.66291517,0.6515387,0.021459877,0.3820284,0.44231153,0.00037640333,0.1732176,0.16404128,0.12136155,0.5658249,0.39088386,0.40609205,0.4810884,0.6794225,0.021148741,0.14711958,0.94559693,0.28717035,0.27717817,0.099850476,0.4862914],[0.8370515,0.8340316,0.5302389,0.39852744,0.55905217,0.90386546,0.9506836,0.13998663,0.825848,0.4611277,0.56954277,0.70593446,0.42919242,0.4105137,0.6601698,0.6449157,0.5221028,0.8861585,0.10936576,0.23772293,0.06844443,0.48456234,0.2231878,0.29646158,0.8067382,0.47663385,0.31666988,0.14412826,0.119283855,0.29711664,0.5845266,0.105336726],[0.24535006,0.55409575,0.49763376,0.7074255,0.83794105,0.6980015,0.598014,0.06004423,0.35799098,0.22916377,0.53583765,0.38359588,0.013631523,0.39050317,0.31621003,0.7160522,0.16717225,0.8446159,0.32613742,0.9508577,0.64175344,0.05347097,0.572205,0.69807667,0.26179183,0.48299938,0.4182161,0.82680154,0.8719278,0.55314255,0.76005995,0.3456478],[0.6699133,0.18314648,0.5599136,0.26217335,0.3734668,0.6180558,0.0015057921,0.18542165,0.6867501,0.39905143,0.97373325,0.6849755,0.79956424,0.1797803,0.48491704,0.22063094,0.50653833,0.23695731,0.825762,0.54663545,0.7853459,0.42713165,0.22268552,0.32964122,0.71716046,0.018577456,0.2842394,0.3271861,0.35228246,0.83696026,0.6495414,0.31148857],[0.6461834,0.15671909,0.7859451,0.0022755265,0.81894606,0.33950675,0.96987116,0.2931127,0.10988712,0.25382185,0.40144885,0.8903061,0.45064282,0.11783093,0.90378976,0.8446233,0.44091946,0.7784693,0.65836143,0.8929828,0.21299332,0.461141,0.5370277,0.78022605,0.25364953,0.6065578,0.14146513,0.64888567,0.9296299,0.33620763,0.29843426,0.5922335],[0.96905005,0.2533254,0.97468984,0.69084233,0.9072213,0.9439927,0.16599423,0.43631148,0.84822893,0.9212993,0.81385046,0.94389254,0.24010968,0.7913469,0.24046397,0.79048,0.34824085,0.9254087,0.7661704,0.24649632,0.13341296,0.09570646,0.94177645,0.6410666,0.24476022,0.5564229,0.011030495,0.90397483,0.32720572,0.7167535,0.34801394,0.4188245],[0.7100632,0.7315814,0.9905234,0.9615783,0.7381126,0.9919201,0.6392069,0.0051618814,0.22243726,0.17322928,0.5742806,0.40557522,0.6522821,0.008964837,0.35254353,0.5988882,0.03477168,0.14114803,0.04824072,0.17064482,0.720831,0.23819321,0.8783138,0.89070666,0.63349056,0.5326943,0.9757273,0.9250115,0.056362987,0.32229722,0.26987505,0.9809847],[0.66670156,0.71501195,0.42213053,0.7505788,0.7696533,0.39903975,0.5640142,0.36302817,0.16979015,0.83182114,0.8287544,0.026274621,0.48210633,0.40868545,0.51964253,0.20374978,0.76727736,0.62959164,0.09753442,0.6730854,0.37320495,0.11759794,0.12021726,0.22616452,0.13905281,0.6567217,0.47616833,0.6968217,0.74707127,0.6352882,0.37706518,0.29189724],[0.35245383,0.7701094,0.32628953,0.21653897,0.73999774,0.25898623,0.564418,0.89046377,0.97514516,0.9069319,0.11354464,0.73421806,0.5875435,0.58331966,0.95971715,0.15819609,0.31355512,0.23512328,0.59490854,0.61748564,0.6196199,0.03040862,0.6725572,0.46813118,0.40869427,0.5698478,0.5158778,0.71045333,0.5055246,0.30002093,0.39680386,0.5263969],[0.19495523,0.58438194,0.28323823,0.94360167,0.26092136,0.062158942,0.11942792,0.25132954,0.053411484,0.40267032,0.27463466,0.7345692,0.28825116,0.30182058,0.7311184,0.59889543,0.45865083,0.2666834,0.44242913,0.19851649,0.17453903,0.9624116,0.07051605,0.23769301,0.740135,0.95877254,0.8897845,0.7214449,0.6120887,0.78497267,0.78950673,0.721397],[0.6301759,0.87570953,0.62155634,0.84147805,0.5274003,0.5263989,0.08106345,0.38362557,0.3511871,0.17410475,0.86813325,0.9745289,0.9800898,0.16825181,0.6614101,0.19828403,0.38336176,0.46390426,0.06133902,0.050267875,0.91505873,0.5775731,0.16767937,0.8870396,0.85190177,0.9372488,0.28489357,0.83619833,0.5807208,0.120302916,0.63155925,0.45625103],[0.03580767,0.55107063,0.8014544,0.4860946,0.56131977,0.7966975,0.14105713,0.9248464,0.5118329,0.8078003,0.57288235,0.53534466,0.101316094,0.09656143,0.0957216,0.5141289,0.5177031,0.23343796,0.7978293,0.9828664,0.7674426,0.4709562,0.75592047,0.5829754,0.8750356,0.57075655,0.32153904,0.16908234,0.6185239,0.4877779,0.03911656,0.67675877],[0.6699608,0.27915084,0.12095803,0.60063607,0.8666765,0.3595327,0.10007423,0.3009038,0.84991664,0.24482727,0.6882651,0.66134655,0.61190677,0.8800436,0.1687125,0.2393874,0.10142678,0.7924282,0.60318136,0.8107309,0.28356856,0.14473957,0.3004833,0.28122336,0.90077287,0.53567034,0.03346646,0.6464722,0.93852395,0.019936323,0.6249324,0.38095927],[0.32482576,0.9153102,0.6969108,0.8688438,0.812792,0.14817166,0.8726927,0.63520044,0.4631033,0.21914935,0.907406,0.3999582,0.39105648,0.917127,0.5662555,0.3779204,0.1874395,0.37274426,0.92562705,0.47335035,0.2076956,0.94231385,0.64728665,0.805042,0.5196129,0.0232718,0.8685137,0.090027094,0.7112059,0.0049223304,0.6489258,0.37285137],[0.6296271,0.48248953,0.34872526,0.815368,0.8481069,0.71056575,0.5320474,0.57090527,0.7341725,0.6314511,0.48926127,0.7839999,0.75564533,0.0059150457,0.27229303,0.3843423,0.14521956,0.2731424,0.04440224,0.016930759,0.24358386,0.7241967,0.48407555,0.503742,0.60506195,0.5616142,0.878628,0.32655948,0.95711803,0.2530858,0.6099441,0.5838554],[0.16116059,0.8404394,0.7428303,0.64807487,0.5091645,0.97004855,0.8491298,0.7570091,0.37218046,0.66395825,0.90941864,0.94734514,0.93337524,0.64656425,0.36661404,0.022618234,0.12463009,0.8621917,0.5668848,0.0065930486,0.30022663,0.00045502186,0.06385726,0.114403605,0.7647895,0.1574195,0.17447293,0.09313649,0.08471233,0.064501464,0.32979548,0.22177261],[0.7660153,0.15972114,0.10479134,0.58557045,0.9650312,0.035918057,0.68471545,0.00969559,0.62671196,0.27857423,0.21088725,0.8291934,0.4833933,0.15021408,0.88089615,0.26561362,0.72488993,0.929877,0.9594707,0.9001141,0.661361,0.075858474,0.92482024,0.39817798,0.33852434,0.5411293,0.78023785,0.1546523,0.4665268,0.20299554,0.25594813,0.44443554],[0.37623185,0.5740344,0.92355883,0.45807558,0.2416699,0.77853,0.37304688,0.51227397,0.48307693,0.67696583,0.08991176,0.104774535,0.68920916,0.6543076,0.25582814,0.25975037,0.025559723,0.6007466,0.7661063,0.80612206,0.82068324,0.19768155,0.5642451,0.37064284,0.8281011,0.123024285,0.35061276,0.7744773,0.9944074,0.3204915,0.4466284,0.5354426],[0.9395748,0.25093877,0.15008986,0.29445708,0.80719805,0.6074459,0.83353835,0.5984907,0.969872,0.19821078,0.5538513,0.49450767,0.426933,0.20337331,0.3697235,0.10358757,0.55286616,0.36019152,0.8857802,0.7312,0.15628815,0.532192,0.76366264,0.41045576,0.9729731,0.5067701,0.9741753,0.013471067,0.87906307,0.39194036,0.4245984,0.96853244],[0.5272909,0.19233048,0.19013047,0.18290251,0.87486917,0.01456064,0.1583525,0.56469005,0.93726176,0.56536305,0.9242332,0.7173854,0.20473194,0.44824016,0.8074967,0.9206651,0.1651277,0.40842235,0.4864322,0.22628576,0.2882865,0.6256203,0.7002722,0.39393693,0.778549,0.63167906,0.1252085,0.8237292,0.7399315,0.13713896,0.5088682,0.563764],[0.48457962,0.76636595,0.03881991,0.44281965,0.20659709,0.441608,0.024830937,0.54429007,0.0521487,0.9688529,0.47733188,0.4185868,0.8512558,0.67468584,0.16797215,0.8418785,0.6431614,0.8198705,0.93239933,0.45900738,0.89293313,0.59319186,0.020927072,0.6445998,0.72778296,0.582856,0.25908887,0.5438038,0.3910641,0.7157324,0.60801756,0.08458781],[0.828138,0.45162606,0.5934787,0.2945751,0.4237966,0.828301,0.04365146,0.84959424,0.7870662,0.77664137,0.8235082,0.15605438,0.044144034,0.17492247,0.16610616,0.44756854,0.05775839,0.14102542,0.43293357,0.5327612,0.44410795,0.8956171,0.73904145,0.4917544,0.6822587,0.7700983,0.98901445,0.90292007,0.08189309,0.2998709,0.82272154,0.7241688],[0.07444775,0.4061684,0.98505336,0.2741074,0.8149439,0.6045905,0.575363,0.39678663,0.5580485,0.83501285,0.13088131,0.38446337,0.23026222,0.47788388,0.110183656,0.47997755,0.2544852,0.57288164,0.34303278,0.8917077,0.36471498,0.2793039,0.66313875,0.0019572377,0.13451242,0.7232669,0.39960164,0.23230064,0.75080585,0.6291144,0.8289198,0.7486263],[0.79296327,0.76031995,0.5878112,0.6158893,0.40789992,0.6538032,0.31422323,0.5593587,0.9226424,0.23972291,0.66795665,0.56723034,0.33477688,0.855327,0.30112982,0.31300873,0.019950628,0.0028891563,0.47505754,0.126778,0.030556142,0.6276612,0.87041384,0.8742377,0.731339,0.5226878,0.32824343,0.309384,0.55033517,0.17429388,0.6106859,0.3290066],[0.40258855,0.45914036,0.14306712,0.22526544,0.9747498,0.19429106,0.11813021,0.12222165,0.06799114,0.6684527,0.11411661,0.011491358,0.11769664,0.29387206,0.35493493,0.47298974,0.8153852,0.13161564,0.97374135,0.23800004,0.86108065,0.6216347,0.583879,0.39139122,0.0954451,0.8088085,0.042452395,0.64406526,0.26761007,0.072303295,0.60818964,0.019472599],[0.13586187,0.4510113,0.63311297,0.6796021,0.6292916,0.11906159,0.15265256,0.85647285,0.47896045,0.41632372,0.27982193,0.8791149,0.30433494,0.29094034,0.7421694,0.6388991,0.8020012,0.97459966,0.5684006,0.75461143,0.045787096,0.64556617,0.26594537,0.016054094,0.3262924,0.84032035,0.50810796,0.38642716,0.67280096,0.81745964,0.03873205,0.078201115],[0.6677881,0.69740945,0.1644857,0.7350355,0.57107925,0.34461004,0.2441448,0.17669415,0.7676227,0.5219663,0.86852115,0.39039075,0.3540699,0.40684897,0.61282194,0.06984705,0.44952267,0.32879102,0.47276634,0.36297286,0.47541106,0.23996204,0.1535042,0.33163458,0.6206745,0.31884772,0.5748967,0.8275794,0.34814906,0.5644581,0.6889785,0.106396854],[0.055092394,0.8506211,0.49136496,0.016782463,0.46290553,0.017604649,0.4118154,0.49165964,0.5112102,0.59345317,0.4415896,0.15497464,0.97570014,0.40696764,0.83158,0.36012363,0.4876576,0.8538182,0.26870143,0.35916352,0.9471888,0.80555075,0.3082837,0.95901823,0.7346655,0.5908235,0.33905494,0.33546996,0.27082598,0.30044508,0.5588147,0.7405835],[0.18716908,0.1166867,0.3995523,0.4367596,0.2600202,0.56650347,0.5486246,0.031809032,0.543379,0.846605,0.20277667,0.9713244,0.21777314,0.8445793,0.5111264,0.47673404,0.7329827,0.4301219,0.66707677,0.4321736,0.6143138,0.6475815,0.4622543,0.7159681,0.6395438,0.66752124,0.0753082,0.2929759,0.22128975,0.16496366,0.16478676,0.023121059],[0.9602851,0.4788823,0.7850541,0.07167125,0.9073142,0.6376559,0.44025403,0.40728074,0.5704671,0.66063803,0.27997005,0.064038575,0.39169163,0.1970011,0.4507426,0.29185176,0.6390339,0.01293242,0.78918767,0.21064031,0.29930794,0.2086299,0.4019978,0.81217253,0.013911366,0.27151364,0.935148,0.32137096,0.9999003,0.88930947,0.33620334,0.62563866],[0.79866636,0.32789624,0.21801132,0.5236286,0.5110696,0.91102535,0.14321065,0.40844613,0.41210008,0.6657541,0.87866056,0.3836072,0.81306964,0.690569,0.7634806,0.15866655,0.050683975,0.0032175183,0.28462493,0.79733497,0.4447133,0.53090173,0.59620106,0.5950745,0.74266046,0.47324502,0.46607566,0.64529085,0.7792437,0.8267395,0.17017514,0.77013344],[0.12169874,0.48392135,0.60569495,0.7982305,0.92102015,0.47060794,0.9604172,0.13480115,0.12596685,0.87542033,0.09874123,0.09287733,0.5631365,0.009713888,0.70957756,0.67736864,0.5088362,0.87755036,0.8931796,0.15200377,0.50785166,0.47571403,0.48629087,0.52208066,0.78553045,0.7712827,0.15907955,0.11867827,0.8587999,0.21016246,0.73494005,0.7539023]],\"type\":\"heatmap\",\"xaxis\":\"x\",\"yaxis\":\"y\",\"hovertemplate\":\"x: %{x}\\u003cbr\\u003ey: %{y}\\u003cbr\\u003ecolor: %{z}\\u003cextra\\u003e\\u003c\\u002fextra\\u003e\"}],                        {\"template\":{\"data\":{\"histogram2dcontour\":[{\"type\":\"histogram2dcontour\",\"colorbar\":{\"outlinewidth\":0,\"ticks\":\"\"},\"colorscale\":[[0.0,\"#0d0887\"],[0.1111111111111111,\"#46039f\"],[0.2222222222222222,\"#7201a8\"],[0.3333333333333333,\"#9c179e\"],[0.4444444444444444,\"#bd3786\"],[0.5555555555555556,\"#d8576b\"],[0.6666666666666666,\"#ed7953\"],[0.7777777777777778,\"#fb9f3a\"],[0.8888888888888888,\"#fdca26\"],[1.0,\"#f0f921\"]]}],\"choropleth\":[{\"type\":\"choropleth\",\"colorbar\":{\"outlinewidth\":0,\"ticks\":\"\"}}],\"histogram2d\":[{\"type\":\"histogram2d\",\"colorbar\":{\"outlinewidth\":0,\"ticks\":\"\"},\"colorscale\":[[0.0,\"#0d0887\"],[0.1111111111111111,\"#46039f\"],[0.2222222222222222,\"#7201a8\"],[0.3333333333333333,\"#9c179e\"],[0.4444444444444444,\"#bd3786\"],[0.5555555555555556,\"#d8576b\"],[0.6666666666666666,\"#ed7953\"],[0.7777777777777778,\"#fb9f3a\"],[0.8888888888888888,\"#fdca26\"],[1.0,\"#f0f921\"]]}],\"heatmap\":[{\"type\":\"heatmap\",\"colorbar\":{\"outlinewidth\":0,\"ticks\":\"\"},\"colorscale\":[[0.0,\"#0d0887\"],[0.1111111111111111,\"#46039f\"],[0.2222222222222222,\"#7201a8\"],[0.3333333333333333,\"#9c179e\"],[0.4444444444444444,\"#bd3786\"],[0.5555555555555556,\"#d8576b\"],[0.6666666666666666,\"#ed7953\"],[0.7777777777777778,\"#fb9f3a\"],[0.8888888888888888,\"#fdca26\"],[1.0,\"#f0f921\"]]}],\"heatmapgl\":[{\"type\":\"heatmapgl\",\"colorbar\":{\"outlinewidth\":0,\"ticks\":\"\"},\"colorscale\":[[0.0,\"#0d0887\"],[0.1111111111111111,\"#46039f\"],[0.2222222222222222,\"#7201a8\"],[0.3333333333333333,\"#9c179e\"],[0.4444444444444444,\"#bd3786\"],[0.5555555555555556,\"#d8576b\"],[0.6666666666666666,\"#ed7953\"],[0.7777777777777778,\"#fb9f3a\"],[0.8888888888888888,\"#fdca26\"],[1.0,\"#f0f921\"]]}],\"contourcarpet\":[{\"type\":\"contourcarpet\",\"colorbar\":{\"outlinewidth\":0,\"ticks\":\"\"}}],\"contour\":[{\"type\":\"contour\",\"colorbar\":{\"outlinewidth\":0,\"ticks\":\"\"},\"colorscale\":[[0.0,\"#0d0887\"],[0.1111111111111111,\"#46039f\"],[0.2222222222222222,\"#7201a8\"],[0.3333333333333333,\"#9c179e\"],[0.4444444444444444,\"#bd3786\"],[0.5555555555555556,\"#d8576b\"],[0.6666666666666666,\"#ed7953\"],[0.7777777777777778,\"#fb9f3a\"],[0.8888888888888888,\"#fdca26\"],[1.0,\"#f0f921\"]]}],\"surface\":[{\"type\":\"surface\",\"colorbar\":{\"outlinewidth\":0,\"ticks\":\"\"},\"colorscale\":[[0.0,\"#0d0887\"],[0.1111111111111111,\"#46039f\"],[0.2222222222222222,\"#7201a8\"],[0.3333333333333333,\"#9c179e\"],[0.4444444444444444,\"#bd3786\"],[0.5555555555555556,\"#d8576b\"],[0.6666666666666666,\"#ed7953\"],[0.7777777777777778,\"#fb9f3a\"],[0.8888888888888888,\"#fdca26\"],[1.0,\"#f0f921\"]]}],\"mesh3d\":[{\"type\":\"mesh3d\",\"colorbar\":{\"outlinewidth\":0,\"ticks\":\"\"}}],\"scatter\":[{\"fillpattern\":{\"fillmode\":\"overlay\",\"size\":10,\"solidity\":0.2},\"type\":\"scatter\"}],\"parcoords\":[{\"type\":\"parcoords\",\"line\":{\"colorbar\":{\"outlinewidth\":0,\"ticks\":\"\"}}}],\"scatterpolargl\":[{\"type\":\"scatterpolargl\",\"marker\":{\"colorbar\":{\"outlinewidth\":0,\"ticks\":\"\"}}}],\"bar\":[{\"error_x\":{\"color\":\"#2a3f5f\"},\"error_y\":{\"color\":\"#2a3f5f\"},\"marker\":{\"line\":{\"color\":\"#E5ECF6\",\"width\":0.5},\"pattern\":{\"fillmode\":\"overlay\",\"size\":10,\"solidity\":0.2}},\"type\":\"bar\"}],\"scattergeo\":[{\"type\":\"scattergeo\",\"marker\":{\"colorbar\":{\"outlinewidth\":0,\"ticks\":\"\"}}}],\"scatterpolar\":[{\"type\":\"scatterpolar\",\"marker\":{\"colorbar\":{\"outlinewidth\":0,\"ticks\":\"\"}}}],\"histogram\":[{\"marker\":{\"pattern\":{\"fillmode\":\"overlay\",\"size\":10,\"solidity\":0.2}},\"type\":\"histogram\"}],\"scattergl\":[{\"type\":\"scattergl\",\"marker\":{\"colorbar\":{\"outlinewidth\":0,\"ticks\":\"\"}}}],\"scatter3d\":[{\"type\":\"scatter3d\",\"line\":{\"colorbar\":{\"outlinewidth\":0,\"ticks\":\"\"}},\"marker\":{\"colorbar\":{\"outlinewidth\":0,\"ticks\":\"\"}}}],\"scattermapbox\":[{\"type\":\"scattermapbox\",\"marker\":{\"colorbar\":{\"outlinewidth\":0,\"ticks\":\"\"}}}],\"scatterternary\":[{\"type\":\"scatterternary\",\"marker\":{\"colorbar\":{\"outlinewidth\":0,\"ticks\":\"\"}}}],\"scattercarpet\":[{\"type\":\"scattercarpet\",\"marker\":{\"colorbar\":{\"outlinewidth\":0,\"ticks\":\"\"}}}],\"carpet\":[{\"aaxis\":{\"endlinecolor\":\"#2a3f5f\",\"gridcolor\":\"white\",\"linecolor\":\"white\",\"minorgridcolor\":\"white\",\"startlinecolor\":\"#2a3f5f\"},\"baxis\":{\"endlinecolor\":\"#2a3f5f\",\"gridcolor\":\"white\",\"linecolor\":\"white\",\"minorgridcolor\":\"white\",\"startlinecolor\":\"#2a3f5f\"},\"type\":\"carpet\"}],\"table\":[{\"cells\":{\"fill\":{\"color\":\"#EBF0F8\"},\"line\":{\"color\":\"white\"}},\"header\":{\"fill\":{\"color\":\"#C8D4E3\"},\"line\":{\"color\":\"white\"}},\"type\":\"table\"}],\"barpolar\":[{\"marker\":{\"line\":{\"color\":\"#E5ECF6\",\"width\":0.5},\"pattern\":{\"fillmode\":\"overlay\",\"size\":10,\"solidity\":0.2}},\"type\":\"barpolar\"}],\"pie\":[{\"automargin\":true,\"type\":\"pie\"}]},\"layout\":{\"autotypenumbers\":\"strict\",\"colorway\":[\"#636efa\",\"#EF553B\",\"#00cc96\",\"#ab63fa\",\"#FFA15A\",\"#19d3f3\",\"#FF6692\",\"#B6E880\",\"#FF97FF\",\"#FECB52\"],\"font\":{\"color\":\"#2a3f5f\"},\"hovermode\":\"closest\",\"hoverlabel\":{\"align\":\"left\"},\"paper_bgcolor\":\"white\",\"plot_bgcolor\":\"#E5ECF6\",\"polar\":{\"bgcolor\":\"#E5ECF6\",\"angularaxis\":{\"gridcolor\":\"white\",\"linecolor\":\"white\",\"ticks\":\"\"},\"radialaxis\":{\"gridcolor\":\"white\",\"linecolor\":\"white\",\"ticks\":\"\"}},\"ternary\":{\"bgcolor\":\"#E5ECF6\",\"aaxis\":{\"gridcolor\":\"white\",\"linecolor\":\"white\",\"ticks\":\"\"},\"baxis\":{\"gridcolor\":\"white\",\"linecolor\":\"white\",\"ticks\":\"\"},\"caxis\":{\"gridcolor\":\"white\",\"linecolor\":\"white\",\"ticks\":\"\"}},\"coloraxis\":{\"colorbar\":{\"outlinewidth\":0,\"ticks\":\"\"}},\"colorscale\":{\"sequential\":[[0.0,\"#0d0887\"],[0.1111111111111111,\"#46039f\"],[0.2222222222222222,\"#7201a8\"],[0.3333333333333333,\"#9c179e\"],[0.4444444444444444,\"#bd3786\"],[0.5555555555555556,\"#d8576b\"],[0.6666666666666666,\"#ed7953\"],[0.7777777777777778,\"#fb9f3a\"],[0.8888888888888888,\"#fdca26\"],[1.0,\"#f0f921\"]],\"sequentialminus\":[[0.0,\"#0d0887\"],[0.1111111111111111,\"#46039f\"],[0.2222222222222222,\"#7201a8\"],[0.3333333333333333,\"#9c179e\"],[0.4444444444444444,\"#bd3786\"],[0.5555555555555556,\"#d8576b\"],[0.6666666666666666,\"#ed7953\"],[0.7777777777777778,\"#fb9f3a\"],[0.8888888888888888,\"#fdca26\"],[1.0,\"#f0f921\"]],\"diverging\":[[0,\"#8e0152\"],[0.1,\"#c51b7d\"],[0.2,\"#de77ae\"],[0.3,\"#f1b6da\"],[0.4,\"#fde0ef\"],[0.5,\"#f7f7f7\"],[0.6,\"#e6f5d0\"],[0.7,\"#b8e186\"],[0.8,\"#7fbc41\"],[0.9,\"#4d9221\"],[1,\"#276419\"]]},\"xaxis\":{\"gridcolor\":\"white\",\"linecolor\":\"white\",\"ticks\":\"\",\"title\":{\"standoff\":15},\"zerolinecolor\":\"white\",\"automargin\":true,\"zerolinewidth\":2},\"yaxis\":{\"gridcolor\":\"white\",\"linecolor\":\"white\",\"ticks\":\"\",\"title\":{\"standoff\":15},\"zerolinecolor\":\"white\",\"automargin\":true,\"zerolinewidth\":2},\"scene\":{\"xaxis\":{\"backgroundcolor\":\"#E5ECF6\",\"gridcolor\":\"white\",\"linecolor\":\"white\",\"showbackground\":true,\"ticks\":\"\",\"zerolinecolor\":\"white\",\"gridwidth\":2},\"yaxis\":{\"backgroundcolor\":\"#E5ECF6\",\"gridcolor\":\"white\",\"linecolor\":\"white\",\"showbackground\":true,\"ticks\":\"\",\"zerolinecolor\":\"white\",\"gridwidth\":2},\"zaxis\":{\"backgroundcolor\":\"#E5ECF6\",\"gridcolor\":\"white\",\"linecolor\":\"white\",\"showbackground\":true,\"ticks\":\"\",\"zerolinecolor\":\"white\",\"gridwidth\":2}},\"shapedefaults\":{\"line\":{\"color\":\"#2a3f5f\"}},\"annotationdefaults\":{\"arrowcolor\":\"#2a3f5f\",\"arrowhead\":0,\"arrowwidth\":1},\"geo\":{\"bgcolor\":\"white\",\"landcolor\":\"#E5ECF6\",\"subunitcolor\":\"white\",\"showland\":true,\"showlakes\":true,\"lakecolor\":\"white\"},\"title\":{\"x\":0.05},\"mapbox\":{\"style\":\"light\"}}},\"xaxis\":{\"anchor\":\"y\",\"domain\":[0.0,1.0],\"scaleanchor\":\"y\",\"constrain\":\"domain\"},\"yaxis\":{\"anchor\":\"x\",\"domain\":[0.0,1.0],\"autorange\":\"reversed\",\"constrain\":\"domain\"},\"coloraxis\":{\"colorscale\":[[0.0,\"rgb(103,0,31)\"],[0.1,\"rgb(178,24,43)\"],[0.2,\"rgb(214,96,77)\"],[0.3,\"rgb(244,165,130)\"],[0.4,\"rgb(253,219,199)\"],[0.5,\"rgb(247,247,247)\"],[0.6,\"rgb(209,229,240)\"],[0.7,\"rgb(146,197,222)\"],[0.8,\"rgb(67,147,195)\"],[0.9,\"rgb(33,102,172)\"],[1.0,\"rgb(5,48,97)\"]],\"cmid\":0.0},\"title\":{\"text\":\"Matrix 4\"}},                        {\"responsive\": true}                    ).then(function(){\n",
       "                            \n",
       "var gd = document.getElementById('0f5a93c7-e68c-481a-8d81-2d736fbb98df');\n",
       "var x = new MutationObserver(function (mutations, observer) {{\n",
       "        var display = window.getComputedStyle(gd).display;\n",
       "        if (!display || display === 'none') {{\n",
       "            console.log([gd, 'removed!']);\n",
       "            Plotly.purge(gd);\n",
       "            observer.disconnect();\n",
       "        }}\n",
       "}});\n",
       "\n",
       "// Listen for the removal of the full notebook cells\n",
       "var notebookContainer = gd.closest('#notebook-container');\n",
       "if (notebookContainer) {{\n",
       "    x.observe(notebookContainer, {childList: true});\n",
       "}}\n",
       "\n",
       "// Listen for the clearing of the current output cell\n",
       "var outputEl = gd.closest('.output');\n",
       "if (outputEl) {{\n",
       "    x.observe(outputEl, {childList: true});\n",
       "}}\n",
       "\n",
       "                        })                };                });            </script>        </div>"
      ]
     },
     "metadata": {},
     "output_type": "display_data"
    }
   ],
   "source": [
    "import torch\n",
    "import transformer_lens.utils as utils\n",
    "\n",
    "# Example: Four 32x32 matrices\n",
    "matrix1 = torch.rand(32, 32)\n",
    "matrix2 = torch.rand(32, 32)\n",
    "matrix3 = torch.rand(32, 32)\n",
    "matrix4 = torch.rand(32, 32)\n",
    "\n",
    "# Assuming `imshow` is defined in the utils module\n",
    "def imshow(tensor, renderer=None, save='head.html', **kwargs):\n",
    "    import plotly.express as px  # Importing inside the function for better encapsulation\n",
    "    fig = px.imshow(utils.to_numpy(tensor), color_continuous_midpoint=0.0, color_continuous_scale=\"RdBu\", **kwargs)\n",
    "    fig.show(renderer)\n",
    "    # fig.write_html(save)\n",
    "\n",
    "# Plot each matrix using imshow\n",
    "imshow(matrix1, save='matrix1.html', title='Matrix 1')\n",
    "imshow(matrix2, save='matrix2.html', title='Matrix 2')\n",
    "imshow(matrix3, save='matrix3.html', title='Matrix 3')\n",
    "imshow(matrix4, save='matrix4.html', title='Matrix 4')\n"
   ]
  },
  {
   "cell_type": "code",
   "execution_count": 131,
   "metadata": {},
   "outputs": [
    {
     "data": {
      "application/vnd.plotly.v1+json": {
       "config": {
        "plotlyServerURL": "https://plot.ly"
       },
       "data": [
        {
         "coloraxis": "coloraxis",
         "hovertemplate": "Head: %{x}<br>Layer: %{y}<br>color: %{z}<extra></extra>",
         "name": "0",
         "type": "heatmap",
         "xaxis": "x",
         "yaxis": "y",
         "z": [
          [
           0,
           0,
           0,
           0,
           0,
           0,
           0,
           0,
           0,
           0,
           0,
           0,
           0,
           0,
           0,
           0,
           0,
           0,
           0,
           0,
           0,
           0,
           0,
           0,
           0,
           0,
           0,
           0,
           0,
           0,
           0,
           0
          ],
          [
           0,
           0,
           0,
           0,
           0,
           0,
           0,
           0,
           0,
           0,
           0,
           0,
           0,
           0,
           0,
           0,
           0,
           0,
           0,
           0,
           0,
           0,
           0,
           0,
           0,
           0,
           0,
           0,
           0,
           0,
           0,
           0
          ],
          [
           0,
           0,
           0,
           0,
           0,
           0,
           0,
           0,
           0,
           0,
           0,
           0,
           0,
           0,
           0,
           0,
           0,
           0,
           0,
           0,
           0,
           0,
           0,
           0,
           0,
           0,
           0,
           0,
           0,
           0,
           0,
           0
          ],
          [
           0,
           0,
           0,
           0,
           0,
           0,
           0,
           0,
           0,
           0,
           0,
           0,
           0,
           0,
           0,
           0,
           0,
           0,
           0,
           0,
           0,
           0,
           0,
           0,
           0,
           0,
           0,
           0,
           0,
           0,
           0,
           0
          ],
          [
           0,
           0,
           0,
           0,
           0,
           0,
           0,
           0,
           0,
           0,
           0,
           0,
           0,
           0,
           0,
           0,
           0,
           0,
           0,
           0,
           0,
           0,
           0,
           0,
           0,
           0,
           0,
           0,
           0,
           0,
           0,
           0
          ],
          [
           0,
           0,
           0,
           0,
           0,
           0,
           0,
           0,
           0,
           0,
           0,
           0,
           0,
           0,
           0,
           0,
           0,
           0,
           0,
           0,
           0,
           0,
           0,
           0,
           0,
           0,
           0,
           0,
           0,
           0,
           0,
           0
          ],
          [
           0,
           0,
           0,
           0,
           0,
           0,
           0,
           0,
           0,
           0,
           0,
           0,
           0,
           0,
           0,
           0,
           0,
           0,
           0,
           0,
           0,
           0,
           0,
           0,
           0,
           0,
           0,
           0,
           0,
           0,
           0,
           0
          ],
          [
           0,
           0,
           0,
           0,
           0,
           0,
           0,
           0,
           0,
           0,
           0,
           0,
           0,
           0,
           0,
           0,
           0,
           0,
           0,
           0,
           0,
           0,
           0,
           0,
           0,
           0,
           0,
           0,
           0,
           0,
           0,
           0
          ],
          [
           0,
           0,
           0,
           0,
           0,
           0,
           0,
           0,
           0,
           0,
           0,
           0,
           0,
           0,
           0,
           0,
           0,
           0,
           0,
           0,
           0,
           0,
           0,
           0,
           0,
           0,
           0,
           0,
           0,
           0,
           0,
           0
          ],
          [
           0,
           0,
           0,
           0,
           0,
           0,
           0,
           0,
           0,
           0,
           0,
           0,
           0,
           0,
           0,
           0,
           0,
           0,
           0,
           0,
           0,
           0,
           0,
           0,
           0,
           0,
           0,
           0,
           0,
           0,
           0,
           0
          ],
          [
           0,
           0,
           0,
           0,
           0,
           0,
           0,
           0,
           0,
           0,
           0,
           0,
           0,
           0,
           0,
           0,
           0,
           0,
           0,
           0,
           0,
           0,
           0,
           0,
           0,
           0,
           0,
           0,
           0,
           0,
           0,
           0
          ],
          [
           0,
           0,
           0,
           0,
           0,
           0,
           0,
           0,
           0,
           0,
           0,
           0,
           0,
           0,
           0,
           0,
           0,
           0,
           0,
           0,
           0,
           0,
           0,
           0,
           0,
           0,
           0,
           0,
           0,
           0,
           0,
           0
          ],
          [
           0,
           0,
           0,
           0,
           0,
           0,
           0,
           0,
           0,
           0,
           0,
           0,
           0,
           0,
           0,
           0,
           0,
           0,
           0,
           0,
           0,
           0,
           0,
           0,
           0,
           0,
           0,
           0,
           0,
           0,
           0,
           0
          ],
          [
           0,
           0,
           0,
           0,
           0,
           0,
           0,
           0,
           0,
           0,
           0,
           0,
           0,
           0,
           0,
           0,
           0,
           0,
           0,
           0,
           0,
           0,
           0,
           0,
           0,
           0,
           0,
           0,
           0,
           0,
           0,
           0
          ],
          [
           0,
           0,
           0,
           0,
           0,
           0,
           0,
           0,
           0,
           0,
           0,
           0,
           0,
           0,
           0,
           0,
           0,
           0,
           0,
           0,
           0,
           0,
           0,
           0,
           0,
           0,
           0,
           0,
           0,
           0,
           0,
           0
          ],
          [
           0,
           0,
           0,
           0,
           0,
           0,
           0,
           0,
           0,
           0,
           0,
           0,
           0,
           0,
           0,
           0,
           0,
           0,
           0,
           0,
           0,
           0,
           0.1,
           0,
           0,
           0,
           0,
           0,
           0,
           0,
           0,
           0
          ],
          [
           0,
           0,
           0,
           0,
           0,
           0,
           0,
           0,
           0,
           0,
           0,
           0,
           0,
           0,
           0,
           0,
           0,
           0,
           0,
           0,
           0,
           0,
           0,
           0,
           0,
           0,
           0,
           0,
           0,
           0,
           0,
           0
          ],
          [
           0,
           0,
           0,
           0,
           0,
           0,
           0,
           0,
           0,
           0,
           0,
           0,
           0,
           0,
           0,
           0,
           0,
           0,
           0,
           0,
           0,
           0,
           0,
           0,
           0,
           0,
           0,
           0,
           0,
           0,
           0.1,
           0
          ],
          [
           0,
           0,
           0,
           0,
           0,
           0,
           0,
           0,
           0,
           0,
           0,
           0,
           0,
           0,
           0,
           0,
           0,
           0,
           0,
           0,
           0,
           0,
           0,
           0,
           0,
           0,
           0,
           0,
           0,
           0,
           0,
           0
          ],
          [
           0,
           0,
           0,
           0,
           0,
           0,
           0,
           0,
           0,
           0.2,
           0.1,
           0,
           0,
           0,
           0,
           0,
           0,
           0,
           0,
           0,
           0,
           0,
           0,
           0,
           0,
           0,
           0,
           0,
           0,
           0,
           0,
           0
          ],
          [
           0.2,
           0,
           0,
           0.2,
           0,
           0,
           0,
           0,
           0,
           0,
           0.1,
           0,
           0,
           0,
           0,
           0,
           0,
           0,
           0,
           0,
           0,
           0,
           0,
           0,
           0,
           0,
           0,
           0,
           0,
           0,
           0,
           0
          ],
          [
           0,
           0,
           0,
           0,
           0,
           0,
           0,
           0,
           0,
           0.2,
           0,
           0,
           0,
           0,
           0,
           0,
           0.3,
           0,
           0,
           0,
           0,
           0,
           0,
           0,
           0,
           0,
           0.1,
           0.1,
           0,
           0,
           0,
           0.2
          ],
          [
           0,
           0,
           0,
           0,
           0,
           0,
           0,
           0,
           0,
           0,
           0,
           0,
           0,
           0,
           0,
           0,
           0.1,
           0.1,
           0,
           0,
           0,
           0,
           0,
           0,
           0,
           0,
           0,
           0,
           0,
           0,
           0.1,
           0
          ],
          [
           0,
           0,
           0,
           0,
           0,
           0,
           0,
           0,
           0.1,
           0,
           0,
           0,
           0,
           0,
           0,
           0,
           0,
           0,
           0,
           0,
           0,
           0,
           0,
           0,
           0,
           0,
           0,
           0,
           0,
           0,
           0,
           0
          ],
          [
           0,
           0,
           0,
           0.1,
           0,
           0,
           0,
           0,
           0,
           0,
           0,
           0,
           0,
           0,
           0,
           0,
           0,
           0.3,
           0,
           0,
           0,
           0,
           0,
           0,
           0,
           0,
           0,
           0,
           0,
           0.1,
           0,
           0
          ],
          [
           0,
           0,
           0,
           0,
           0,
           0,
           0,
           0,
           0,
           0,
           0,
           0,
           0,
           0,
           0,
           0,
           0,
           0,
           0,
           0,
           0,
           0,
           0,
           0,
           0,
           0,
           0,
           0,
           0,
           0,
           0,
           0
          ],
          [
           0,
           0,
           0,
           0.1,
           0,
           0,
           0,
           0,
           0,
           0,
           0,
           0,
           0,
           0,
           0,
           0,
           0,
           0,
           0,
           0,
           0,
           0,
           0,
           0,
           0,
           0.3,
           0,
           0.1,
           0,
           0,
           0,
           0
          ],
          [
           0,
           0,
           0,
           0,
           0,
           0,
           0,
           0,
           0,
           0,
           0,
           0,
           0,
           0,
           0,
           0,
           0,
           0,
           0,
           0,
           0,
           0,
           0,
           0,
           0,
           0,
           0,
           0,
           0,
           0,
           0,
           0
          ],
          [
           0,
           0,
           0,
           0,
           0,
           0,
           0,
           0,
           0,
           0,
           0,
           0,
           0,
           0,
           0,
           0,
           0,
           0,
           0,
           0,
           0,
           0,
           0,
           0,
           0,
           0.1,
           0,
           0,
           0,
           0,
           0,
           0
          ],
          [
           0,
           0,
           0,
           0,
           0,
           0,
           0,
           0,
           0,
           0,
           0.2,
           0,
           0,
           0,
           0,
           0,
           0,
           0,
           0,
           0,
           0,
           0.1,
           0,
           0,
           0,
           0,
           0,
           0,
           0,
           0,
           0,
           0
          ],
          [
           0,
           0,
           0,
           0,
           0,
           0,
           0,
           0,
           0,
           0,
           0,
           0,
           0,
           0,
           0.1,
           0,
           0,
           0,
           0,
           0,
           0,
           0,
           0,
           0,
           0,
           0,
           0,
           0,
           0,
           0,
           0,
           0
          ],
          [
           0,
           0,
           0,
           0,
           0,
           0,
           0,
           0,
           0,
           0,
           0,
           0,
           0,
           0,
           0,
           0,
           0,
           0,
           0,
           0,
           0,
           0,
           0,
           0,
           0,
           0,
           0,
           0.2,
           0,
           0,
           0,
           0
          ]
         ]
        }
       ],
       "layout": {
        "coloraxis": {
         "cmid": 0,
         "colorscale": [
          [
           0,
           "rgb(103,0,31)"
          ],
          [
           0.1,
           "rgb(178,24,43)"
          ],
          [
           0.2,
           "rgb(214,96,77)"
          ],
          [
           0.3,
           "rgb(244,165,130)"
          ],
          [
           0.4,
           "rgb(253,219,199)"
          ],
          [
           0.5,
           "rgb(247,247,247)"
          ],
          [
           0.6,
           "rgb(209,229,240)"
          ],
          [
           0.7,
           "rgb(146,197,222)"
          ],
          [
           0.8,
           "rgb(67,147,195)"
          ],
          [
           0.9,
           "rgb(33,102,172)"
          ],
          [
           1,
           "rgb(5,48,97)"
          ]
         ]
        },
        "template": {
         "data": {
          "bar": [
           {
            "error_x": {
             "color": "#2a3f5f"
            },
            "error_y": {
             "color": "#2a3f5f"
            },
            "marker": {
             "line": {
              "color": "#E5ECF6",
              "width": 0.5
             },
             "pattern": {
              "fillmode": "overlay",
              "size": 10,
              "solidity": 0.2
             }
            },
            "type": "bar"
           }
          ],
          "barpolar": [
           {
            "marker": {
             "line": {
              "color": "#E5ECF6",
              "width": 0.5
             },
             "pattern": {
              "fillmode": "overlay",
              "size": 10,
              "solidity": 0.2
             }
            },
            "type": "barpolar"
           }
          ],
          "carpet": [
           {
            "aaxis": {
             "endlinecolor": "#2a3f5f",
             "gridcolor": "white",
             "linecolor": "white",
             "minorgridcolor": "white",
             "startlinecolor": "#2a3f5f"
            },
            "baxis": {
             "endlinecolor": "#2a3f5f",
             "gridcolor": "white",
             "linecolor": "white",
             "minorgridcolor": "white",
             "startlinecolor": "#2a3f5f"
            },
            "type": "carpet"
           }
          ],
          "choropleth": [
           {
            "colorbar": {
             "outlinewidth": 0,
             "ticks": ""
            },
            "type": "choropleth"
           }
          ],
          "contour": [
           {
            "colorbar": {
             "outlinewidth": 0,
             "ticks": ""
            },
            "colorscale": [
             [
              0,
              "#0d0887"
             ],
             [
              0.1111111111111111,
              "#46039f"
             ],
             [
              0.2222222222222222,
              "#7201a8"
             ],
             [
              0.3333333333333333,
              "#9c179e"
             ],
             [
              0.4444444444444444,
              "#bd3786"
             ],
             [
              0.5555555555555556,
              "#d8576b"
             ],
             [
              0.6666666666666666,
              "#ed7953"
             ],
             [
              0.7777777777777778,
              "#fb9f3a"
             ],
             [
              0.8888888888888888,
              "#fdca26"
             ],
             [
              1,
              "#f0f921"
             ]
            ],
            "type": "contour"
           }
          ],
          "contourcarpet": [
           {
            "colorbar": {
             "outlinewidth": 0,
             "ticks": ""
            },
            "type": "contourcarpet"
           }
          ],
          "heatmap": [
           {
            "colorbar": {
             "outlinewidth": 0,
             "ticks": ""
            },
            "colorscale": [
             [
              0,
              "#0d0887"
             ],
             [
              0.1111111111111111,
              "#46039f"
             ],
             [
              0.2222222222222222,
              "#7201a8"
             ],
             [
              0.3333333333333333,
              "#9c179e"
             ],
             [
              0.4444444444444444,
              "#bd3786"
             ],
             [
              0.5555555555555556,
              "#d8576b"
             ],
             [
              0.6666666666666666,
              "#ed7953"
             ],
             [
              0.7777777777777778,
              "#fb9f3a"
             ],
             [
              0.8888888888888888,
              "#fdca26"
             ],
             [
              1,
              "#f0f921"
             ]
            ],
            "type": "heatmap"
           }
          ],
          "heatmapgl": [
           {
            "colorbar": {
             "outlinewidth": 0,
             "ticks": ""
            },
            "colorscale": [
             [
              0,
              "#0d0887"
             ],
             [
              0.1111111111111111,
              "#46039f"
             ],
             [
              0.2222222222222222,
              "#7201a8"
             ],
             [
              0.3333333333333333,
              "#9c179e"
             ],
             [
              0.4444444444444444,
              "#bd3786"
             ],
             [
              0.5555555555555556,
              "#d8576b"
             ],
             [
              0.6666666666666666,
              "#ed7953"
             ],
             [
              0.7777777777777778,
              "#fb9f3a"
             ],
             [
              0.8888888888888888,
              "#fdca26"
             ],
             [
              1,
              "#f0f921"
             ]
            ],
            "type": "heatmapgl"
           }
          ],
          "histogram": [
           {
            "marker": {
             "pattern": {
              "fillmode": "overlay",
              "size": 10,
              "solidity": 0.2
             }
            },
            "type": "histogram"
           }
          ],
          "histogram2d": [
           {
            "colorbar": {
             "outlinewidth": 0,
             "ticks": ""
            },
            "colorscale": [
             [
              0,
              "#0d0887"
             ],
             [
              0.1111111111111111,
              "#46039f"
             ],
             [
              0.2222222222222222,
              "#7201a8"
             ],
             [
              0.3333333333333333,
              "#9c179e"
             ],
             [
              0.4444444444444444,
              "#bd3786"
             ],
             [
              0.5555555555555556,
              "#d8576b"
             ],
             [
              0.6666666666666666,
              "#ed7953"
             ],
             [
              0.7777777777777778,
              "#fb9f3a"
             ],
             [
              0.8888888888888888,
              "#fdca26"
             ],
             [
              1,
              "#f0f921"
             ]
            ],
            "type": "histogram2d"
           }
          ],
          "histogram2dcontour": [
           {
            "colorbar": {
             "outlinewidth": 0,
             "ticks": ""
            },
            "colorscale": [
             [
              0,
              "#0d0887"
             ],
             [
              0.1111111111111111,
              "#46039f"
             ],
             [
              0.2222222222222222,
              "#7201a8"
             ],
             [
              0.3333333333333333,
              "#9c179e"
             ],
             [
              0.4444444444444444,
              "#bd3786"
             ],
             [
              0.5555555555555556,
              "#d8576b"
             ],
             [
              0.6666666666666666,
              "#ed7953"
             ],
             [
              0.7777777777777778,
              "#fb9f3a"
             ],
             [
              0.8888888888888888,
              "#fdca26"
             ],
             [
              1,
              "#f0f921"
             ]
            ],
            "type": "histogram2dcontour"
           }
          ],
          "mesh3d": [
           {
            "colorbar": {
             "outlinewidth": 0,
             "ticks": ""
            },
            "type": "mesh3d"
           }
          ],
          "parcoords": [
           {
            "line": {
             "colorbar": {
              "outlinewidth": 0,
              "ticks": ""
             }
            },
            "type": "parcoords"
           }
          ],
          "pie": [
           {
            "automargin": true,
            "type": "pie"
           }
          ],
          "scatter": [
           {
            "fillpattern": {
             "fillmode": "overlay",
             "size": 10,
             "solidity": 0.2
            },
            "type": "scatter"
           }
          ],
          "scatter3d": [
           {
            "line": {
             "colorbar": {
              "outlinewidth": 0,
              "ticks": ""
             }
            },
            "marker": {
             "colorbar": {
              "outlinewidth": 0,
              "ticks": ""
             }
            },
            "type": "scatter3d"
           }
          ],
          "scattercarpet": [
           {
            "marker": {
             "colorbar": {
              "outlinewidth": 0,
              "ticks": ""
             }
            },
            "type": "scattercarpet"
           }
          ],
          "scattergeo": [
           {
            "marker": {
             "colorbar": {
              "outlinewidth": 0,
              "ticks": ""
             }
            },
            "type": "scattergeo"
           }
          ],
          "scattergl": [
           {
            "marker": {
             "colorbar": {
              "outlinewidth": 0,
              "ticks": ""
             }
            },
            "type": "scattergl"
           }
          ],
          "scattermapbox": [
           {
            "marker": {
             "colorbar": {
              "outlinewidth": 0,
              "ticks": ""
             }
            },
            "type": "scattermapbox"
           }
          ],
          "scatterpolar": [
           {
            "marker": {
             "colorbar": {
              "outlinewidth": 0,
              "ticks": ""
             }
            },
            "type": "scatterpolar"
           }
          ],
          "scatterpolargl": [
           {
            "marker": {
             "colorbar": {
              "outlinewidth": 0,
              "ticks": ""
             }
            },
            "type": "scatterpolargl"
           }
          ],
          "scatterternary": [
           {
            "marker": {
             "colorbar": {
              "outlinewidth": 0,
              "ticks": ""
             }
            },
            "type": "scatterternary"
           }
          ],
          "surface": [
           {
            "colorbar": {
             "outlinewidth": 0,
             "ticks": ""
            },
            "colorscale": [
             [
              0,
              "#0d0887"
             ],
             [
              0.1111111111111111,
              "#46039f"
             ],
             [
              0.2222222222222222,
              "#7201a8"
             ],
             [
              0.3333333333333333,
              "#9c179e"
             ],
             [
              0.4444444444444444,
              "#bd3786"
             ],
             [
              0.5555555555555556,
              "#d8576b"
             ],
             [
              0.6666666666666666,
              "#ed7953"
             ],
             [
              0.7777777777777778,
              "#fb9f3a"
             ],
             [
              0.8888888888888888,
              "#fdca26"
             ],
             [
              1,
              "#f0f921"
             ]
            ],
            "type": "surface"
           }
          ],
          "table": [
           {
            "cells": {
             "fill": {
              "color": "#EBF0F8"
             },
             "line": {
              "color": "white"
             }
            },
            "header": {
             "fill": {
              "color": "#C8D4E3"
             },
             "line": {
              "color": "white"
             }
            },
            "type": "table"
           }
          ]
         },
         "layout": {
          "annotationdefaults": {
           "arrowcolor": "#2a3f5f",
           "arrowhead": 0,
           "arrowwidth": 1
          },
          "autotypenumbers": "strict",
          "coloraxis": {
           "colorbar": {
            "outlinewidth": 0,
            "ticks": ""
           }
          },
          "colorscale": {
           "diverging": [
            [
             0,
             "#8e0152"
            ],
            [
             0.1,
             "#c51b7d"
            ],
            [
             0.2,
             "#de77ae"
            ],
            [
             0.3,
             "#f1b6da"
            ],
            [
             0.4,
             "#fde0ef"
            ],
            [
             0.5,
             "#f7f7f7"
            ],
            [
             0.6,
             "#e6f5d0"
            ],
            [
             0.7,
             "#b8e186"
            ],
            [
             0.8,
             "#7fbc41"
            ],
            [
             0.9,
             "#4d9221"
            ],
            [
             1,
             "#276419"
            ]
           ],
           "sequential": [
            [
             0,
             "#0d0887"
            ],
            [
             0.1111111111111111,
             "#46039f"
            ],
            [
             0.2222222222222222,
             "#7201a8"
            ],
            [
             0.3333333333333333,
             "#9c179e"
            ],
            [
             0.4444444444444444,
             "#bd3786"
            ],
            [
             0.5555555555555556,
             "#d8576b"
            ],
            [
             0.6666666666666666,
             "#ed7953"
            ],
            [
             0.7777777777777778,
             "#fb9f3a"
            ],
            [
             0.8888888888888888,
             "#fdca26"
            ],
            [
             1,
             "#f0f921"
            ]
           ],
           "sequentialminus": [
            [
             0,
             "#0d0887"
            ],
            [
             0.1111111111111111,
             "#46039f"
            ],
            [
             0.2222222222222222,
             "#7201a8"
            ],
            [
             0.3333333333333333,
             "#9c179e"
            ],
            [
             0.4444444444444444,
             "#bd3786"
            ],
            [
             0.5555555555555556,
             "#d8576b"
            ],
            [
             0.6666666666666666,
             "#ed7953"
            ],
            [
             0.7777777777777778,
             "#fb9f3a"
            ],
            [
             0.8888888888888888,
             "#fdca26"
            ],
            [
             1,
             "#f0f921"
            ]
           ]
          },
          "colorway": [
           "#636efa",
           "#EF553B",
           "#00cc96",
           "#ab63fa",
           "#FFA15A",
           "#19d3f3",
           "#FF6692",
           "#B6E880",
           "#FF97FF",
           "#FECB52"
          ],
          "font": {
           "color": "#2a3f5f"
          },
          "geo": {
           "bgcolor": "white",
           "lakecolor": "white",
           "landcolor": "#E5ECF6",
           "showlakes": true,
           "showland": true,
           "subunitcolor": "white"
          },
          "hoverlabel": {
           "align": "left"
          },
          "hovermode": "closest",
          "mapbox": {
           "style": "light"
          },
          "paper_bgcolor": "white",
          "plot_bgcolor": "#E5ECF6",
          "polar": {
           "angularaxis": {
            "gridcolor": "white",
            "linecolor": "white",
            "ticks": ""
           },
           "bgcolor": "#E5ECF6",
           "radialaxis": {
            "gridcolor": "white",
            "linecolor": "white",
            "ticks": ""
           }
          },
          "scene": {
           "xaxis": {
            "backgroundcolor": "#E5ECF6",
            "gridcolor": "white",
            "gridwidth": 2,
            "linecolor": "white",
            "showbackground": true,
            "ticks": "",
            "zerolinecolor": "white"
           },
           "yaxis": {
            "backgroundcolor": "#E5ECF6",
            "gridcolor": "white",
            "gridwidth": 2,
            "linecolor": "white",
            "showbackground": true,
            "ticks": "",
            "zerolinecolor": "white"
           },
           "zaxis": {
            "backgroundcolor": "#E5ECF6",
            "gridcolor": "white",
            "gridwidth": 2,
            "linecolor": "white",
            "showbackground": true,
            "ticks": "",
            "zerolinecolor": "white"
           }
          },
          "shapedefaults": {
           "line": {
            "color": "#2a3f5f"
           }
          },
          "ternary": {
           "aaxis": {
            "gridcolor": "white",
            "linecolor": "white",
            "ticks": ""
           },
           "baxis": {
            "gridcolor": "white",
            "linecolor": "white",
            "ticks": ""
           },
           "bgcolor": "#E5ECF6",
           "caxis": {
            "gridcolor": "white",
            "linecolor": "white",
            "ticks": ""
           }
          },
          "title": {
           "x": 0.05
          },
          "xaxis": {
           "automargin": true,
           "gridcolor": "white",
           "linecolor": "white",
           "ticks": "",
           "title": {
            "standoff": 15
           },
           "zerolinecolor": "white",
           "zerolinewidth": 2
          },
          "yaxis": {
           "automargin": true,
           "gridcolor": "white",
           "linecolor": "white",
           "ticks": "",
           "title": {
            "standoff": 15
           },
           "zerolinecolor": "white",
           "zerolinewidth": 2
          }
         }
        },
        "title": {
         "text": "Depth 3"
        },
        "xaxis": {
         "anchor": "y",
         "constrain": "domain",
         "domain": [
          0,
          1
         ],
         "scaleanchor": "y",
         "title": {
          "text": "Head"
         }
        },
        "yaxis": {
         "anchor": "x",
         "autorange": "reversed",
         "constrain": "domain",
         "domain": [
          0,
          1
         ],
         "title": {
          "text": "Layer"
         }
        }
       }
      },
      "text/html": [
       "<div>                            <div id=\"43c06367-d4bc-46fd-a2b9-6530aec0de96\" class=\"plotly-graph-div\" style=\"height:525px; width:100%;\"></div>            <script type=\"text/javascript\">                require([\"plotly\"], function(Plotly) {                    window.PLOTLYENV=window.PLOTLYENV || {};                                    if (document.getElementById(\"43c06367-d4bc-46fd-a2b9-6530aec0de96\")) {                    Plotly.newPlot(                        \"43c06367-d4bc-46fd-a2b9-6530aec0de96\",                        [{\"coloraxis\":\"coloraxis\",\"name\":\"0\",\"z\":[[0.0,0.0,0.0,0.0,0.0,0.0,0.0,0.0,0.0,0.0,0.0,0.0,0.0,0.0,0.0,0.0,0.0,0.0,0.0,0.0,0.0,0.0,0.0,0.0,0.0,0.0,0.0,0.0,0.0,0.0,0.0,0.0],[0.0,0.0,0.0,0.0,0.0,0.0,0.0,0.0,0.0,0.0,0.0,0.0,0.0,0.0,0.0,0.0,0.0,0.0,0.0,0.0,0.0,0.0,0.0,0.0,0.0,0.0,0.0,0.0,0.0,0.0,0.0,0.0],[0.0,0.0,0.0,0.0,0.0,0.0,0.0,0.0,0.0,0.0,0.0,0.0,0.0,0.0,0.0,0.0,0.0,0.0,0.0,0.0,0.0,0.0,0.0,0.0,0.0,0.0,0.0,0.0,0.0,0.0,0.0,0.0],[0.0,0.0,0.0,0.0,0.0,0.0,0.0,0.0,0.0,0.0,0.0,0.0,0.0,0.0,0.0,0.0,0.0,0.0,0.0,0.0,0.0,0.0,0.0,0.0,0.0,0.0,0.0,0.0,0.0,0.0,0.0,0.0],[0.0,0.0,0.0,0.0,0.0,0.0,0.0,0.0,0.0,0.0,0.0,0.0,0.0,0.0,0.0,0.0,0.0,0.0,0.0,0.0,0.0,0.0,0.0,0.0,0.0,0.0,0.0,0.0,0.0,0.0,0.0,0.0],[0.0,0.0,0.0,0.0,0.0,0.0,0.0,0.0,0.0,0.0,0.0,0.0,0.0,0.0,0.0,0.0,0.0,0.0,0.0,0.0,0.0,0.0,0.0,0.0,0.0,0.0,0.0,0.0,0.0,0.0,0.0,0.0],[0.0,0.0,0.0,0.0,0.0,0.0,0.0,0.0,0.0,0.0,0.0,0.0,0.0,0.0,0.0,0.0,0.0,0.0,0.0,0.0,0.0,0.0,0.0,0.0,0.0,0.0,0.0,0.0,0.0,0.0,0.0,0.0],[0.0,0.0,0.0,0.0,0.0,0.0,0.0,0.0,0.0,0.0,0.0,0.0,0.0,0.0,0.0,0.0,0.0,0.0,0.0,0.0,0.0,0.0,0.0,0.0,0.0,0.0,0.0,0.0,0.0,0.0,0.0,0.0],[0.0,0.0,0.0,0.0,0.0,0.0,0.0,0.0,0.0,0.0,0.0,0.0,0.0,0.0,0.0,0.0,0.0,0.0,0.0,0.0,0.0,0.0,0.0,0.0,0.0,0.0,0.0,0.0,0.0,0.0,0.0,0.0],[0.0,0.0,0.0,0.0,0.0,0.0,0.0,0.0,0.0,0.0,0.0,0.0,0.0,0.0,0.0,0.0,0.0,0.0,0.0,0.0,0.0,0.0,0.0,0.0,0.0,0.0,0.0,0.0,0.0,0.0,0.0,0.0],[0.0,0.0,0.0,0.0,0.0,0.0,0.0,0.0,0.0,0.0,0.0,0.0,0.0,0.0,0.0,0.0,0.0,0.0,0.0,0.0,0.0,0.0,0.0,0.0,0.0,0.0,0.0,0.0,0.0,0.0,0.0,0.0],[0.0,0.0,0.0,0.0,0.0,0.0,0.0,0.0,0.0,0.0,0.0,0.0,0.0,0.0,0.0,0.0,0.0,0.0,0.0,0.0,0.0,0.0,0.0,0.0,0.0,0.0,0.0,0.0,0.0,0.0,0.0,0.0],[0.0,0.0,0.0,0.0,0.0,0.0,0.0,0.0,0.0,0.0,0.0,0.0,0.0,0.0,0.0,0.0,0.0,0.0,0.0,0.0,0.0,0.0,0.0,0.0,0.0,0.0,0.0,0.0,0.0,0.0,0.0,0.0],[0.0,0.0,0.0,0.0,0.0,0.0,0.0,0.0,0.0,0.0,0.0,0.0,0.0,0.0,0.0,0.0,0.0,0.0,0.0,0.0,0.0,0.0,0.0,0.0,0.0,0.0,0.0,0.0,0.0,0.0,0.0,0.0],[0.0,0.0,0.0,0.0,0.0,0.0,0.0,0.0,0.0,0.0,0.0,0.0,0.0,0.0,0.0,0.0,0.0,0.0,0.0,0.0,0.0,0.0,0.0,0.0,0.0,0.0,0.0,0.0,0.0,0.0,0.0,0.0],[0.0,0.0,0.0,0.0,0.0,0.0,0.0,0.0,0.0,0.0,0.0,0.0,0.0,0.0,0.0,0.0,0.0,0.0,0.0,0.0,0.0,0.0,0.1,0.0,0.0,0.0,0.0,0.0,0.0,0.0,0.0,0.0],[0.0,0.0,0.0,0.0,0.0,0.0,0.0,0.0,0.0,0.0,0.0,0.0,0.0,0.0,0.0,0.0,0.0,0.0,0.0,0.0,0.0,0.0,0.0,0.0,0.0,0.0,0.0,0.0,0.0,0.0,0.0,0.0],[0.0,0.0,0.0,0.0,0.0,0.0,0.0,0.0,0.0,0.0,0.0,0.0,0.0,0.0,0.0,0.0,0.0,0.0,0.0,0.0,0.0,0.0,0.0,0.0,0.0,0.0,0.0,0.0,0.0,0.0,0.1,0.0],[0.0,0.0,0.0,0.0,0.0,0.0,0.0,0.0,0.0,0.0,0.0,0.0,0.0,0.0,0.0,0.0,0.0,0.0,0.0,0.0,0.0,0.0,0.0,0.0,0.0,0.0,0.0,0.0,0.0,0.0,0.0,0.0],[0.0,0.0,0.0,0.0,0.0,0.0,0.0,0.0,0.0,0.2,0.1,0.0,0.0,0.0,0.0,0.0,0.0,0.0,0.0,0.0,0.0,0.0,0.0,0.0,0.0,0.0,0.0,0.0,0.0,0.0,0.0,0.0],[0.2,0.0,0.0,0.2,0.0,0.0,0.0,0.0,0.0,0.0,0.1,0.0,0.0,0.0,0.0,0.0,0.0,0.0,0.0,0.0,0.0,0.0,0.0,0.0,0.0,0.0,0.0,0.0,0.0,0.0,0.0,0.0],[0.0,0.0,0.0,0.0,0.0,0.0,0.0,0.0,0.0,0.2,0.0,0.0,0.0,0.0,0.0,0.0,0.3,0.0,0.0,0.0,0.0,0.0,0.0,0.0,0.0,0.0,0.1,0.1,0.0,0.0,0.0,0.2],[0.0,0.0,0.0,0.0,0.0,0.0,0.0,0.0,0.0,0.0,0.0,0.0,0.0,0.0,0.0,0.0,0.1,0.1,0.0,0.0,0.0,0.0,0.0,0.0,0.0,0.0,0.0,0.0,0.0,0.0,0.1,0.0],[0.0,0.0,0.0,0.0,0.0,0.0,0.0,0.0,0.1,0.0,0.0,0.0,0.0,0.0,0.0,0.0,0.0,0.0,0.0,0.0,0.0,0.0,0.0,0.0,0.0,0.0,0.0,0.0,0.0,0.0,0.0,0.0],[0.0,0.0,0.0,0.1,0.0,0.0,0.0,0.0,0.0,0.0,0.0,0.0,0.0,0.0,0.0,0.0,0.0,0.3,0.0,0.0,0.0,0.0,0.0,0.0,0.0,0.0,0.0,0.0,0.0,0.1,0.0,0.0],[0.0,0.0,0.0,0.0,0.0,0.0,0.0,0.0,0.0,0.0,0.0,0.0,0.0,0.0,0.0,0.0,0.0,0.0,0.0,0.0,0.0,0.0,0.0,0.0,0.0,0.0,0.0,0.0,0.0,0.0,0.0,0.0],[0.0,0.0,0.0,0.1,0.0,0.0,0.0,0.0,0.0,0.0,0.0,0.0,0.0,0.0,0.0,0.0,0.0,0.0,0.0,0.0,0.0,0.0,0.0,0.0,0.0,0.3,0.0,0.1,0.0,0.0,0.0,0.0],[0.0,0.0,0.0,0.0,0.0,0.0,0.0,0.0,0.0,0.0,0.0,0.0,0.0,0.0,0.0,0.0,0.0,0.0,0.0,0.0,0.0,0.0,0.0,0.0,0.0,0.0,0.0,0.0,0.0,0.0,0.0,0.0],[0.0,0.0,0.0,0.0,0.0,0.0,0.0,0.0,0.0,0.0,0.0,0.0,0.0,0.0,0.0,0.0,0.0,0.0,0.0,0.0,0.0,0.0,0.0,0.0,0.0,0.1,0.0,0.0,0.0,0.0,0.0,0.0],[0.0,0.0,0.0,0.0,0.0,0.0,0.0,0.0,0.0,0.0,0.2,0.0,0.0,0.0,0.0,0.0,0.0,0.0,0.0,0.0,0.0,0.1,0.0,0.0,0.0,0.0,0.0,0.0,0.0,0.0,0.0,0.0],[0.0,0.0,0.0,0.0,0.0,0.0,0.0,0.0,0.0,0.0,0.0,0.0,0.0,0.0,0.1,0.0,0.0,0.0,0.0,0.0,0.0,0.0,0.0,0.0,0.0,0.0,0.0,0.0,0.0,0.0,0.0,0.0],[0.0,0.0,0.0,0.0,0.0,0.0,0.0,0.0,0.0,0.0,0.0,0.0,0.0,0.0,0.0,0.0,0.0,0.0,0.0,0.0,0.0,0.0,0.0,0.0,0.0,0.0,0.0,0.2,0.0,0.0,0.0,0.0]],\"type\":\"heatmap\",\"xaxis\":\"x\",\"yaxis\":\"y\",\"hovertemplate\":\"Head: %{x}\\u003cbr\\u003eLayer: %{y}\\u003cbr\\u003ecolor: %{z}\\u003cextra\\u003e\\u003c\\u002fextra\\u003e\"}],                        {\"template\":{\"data\":{\"histogram2dcontour\":[{\"type\":\"histogram2dcontour\",\"colorbar\":{\"outlinewidth\":0,\"ticks\":\"\"},\"colorscale\":[[0.0,\"#0d0887\"],[0.1111111111111111,\"#46039f\"],[0.2222222222222222,\"#7201a8\"],[0.3333333333333333,\"#9c179e\"],[0.4444444444444444,\"#bd3786\"],[0.5555555555555556,\"#d8576b\"],[0.6666666666666666,\"#ed7953\"],[0.7777777777777778,\"#fb9f3a\"],[0.8888888888888888,\"#fdca26\"],[1.0,\"#f0f921\"]]}],\"choropleth\":[{\"type\":\"choropleth\",\"colorbar\":{\"outlinewidth\":0,\"ticks\":\"\"}}],\"histogram2d\":[{\"type\":\"histogram2d\",\"colorbar\":{\"outlinewidth\":0,\"ticks\":\"\"},\"colorscale\":[[0.0,\"#0d0887\"],[0.1111111111111111,\"#46039f\"],[0.2222222222222222,\"#7201a8\"],[0.3333333333333333,\"#9c179e\"],[0.4444444444444444,\"#bd3786\"],[0.5555555555555556,\"#d8576b\"],[0.6666666666666666,\"#ed7953\"],[0.7777777777777778,\"#fb9f3a\"],[0.8888888888888888,\"#fdca26\"],[1.0,\"#f0f921\"]]}],\"heatmap\":[{\"type\":\"heatmap\",\"colorbar\":{\"outlinewidth\":0,\"ticks\":\"\"},\"colorscale\":[[0.0,\"#0d0887\"],[0.1111111111111111,\"#46039f\"],[0.2222222222222222,\"#7201a8\"],[0.3333333333333333,\"#9c179e\"],[0.4444444444444444,\"#bd3786\"],[0.5555555555555556,\"#d8576b\"],[0.6666666666666666,\"#ed7953\"],[0.7777777777777778,\"#fb9f3a\"],[0.8888888888888888,\"#fdca26\"],[1.0,\"#f0f921\"]]}],\"heatmapgl\":[{\"type\":\"heatmapgl\",\"colorbar\":{\"outlinewidth\":0,\"ticks\":\"\"},\"colorscale\":[[0.0,\"#0d0887\"],[0.1111111111111111,\"#46039f\"],[0.2222222222222222,\"#7201a8\"],[0.3333333333333333,\"#9c179e\"],[0.4444444444444444,\"#bd3786\"],[0.5555555555555556,\"#d8576b\"],[0.6666666666666666,\"#ed7953\"],[0.7777777777777778,\"#fb9f3a\"],[0.8888888888888888,\"#fdca26\"],[1.0,\"#f0f921\"]]}],\"contourcarpet\":[{\"type\":\"contourcarpet\",\"colorbar\":{\"outlinewidth\":0,\"ticks\":\"\"}}],\"contour\":[{\"type\":\"contour\",\"colorbar\":{\"outlinewidth\":0,\"ticks\":\"\"},\"colorscale\":[[0.0,\"#0d0887\"],[0.1111111111111111,\"#46039f\"],[0.2222222222222222,\"#7201a8\"],[0.3333333333333333,\"#9c179e\"],[0.4444444444444444,\"#bd3786\"],[0.5555555555555556,\"#d8576b\"],[0.6666666666666666,\"#ed7953\"],[0.7777777777777778,\"#fb9f3a\"],[0.8888888888888888,\"#fdca26\"],[1.0,\"#f0f921\"]]}],\"surface\":[{\"type\":\"surface\",\"colorbar\":{\"outlinewidth\":0,\"ticks\":\"\"},\"colorscale\":[[0.0,\"#0d0887\"],[0.1111111111111111,\"#46039f\"],[0.2222222222222222,\"#7201a8\"],[0.3333333333333333,\"#9c179e\"],[0.4444444444444444,\"#bd3786\"],[0.5555555555555556,\"#d8576b\"],[0.6666666666666666,\"#ed7953\"],[0.7777777777777778,\"#fb9f3a\"],[0.8888888888888888,\"#fdca26\"],[1.0,\"#f0f921\"]]}],\"mesh3d\":[{\"type\":\"mesh3d\",\"colorbar\":{\"outlinewidth\":0,\"ticks\":\"\"}}],\"scatter\":[{\"fillpattern\":{\"fillmode\":\"overlay\",\"size\":10,\"solidity\":0.2},\"type\":\"scatter\"}],\"parcoords\":[{\"type\":\"parcoords\",\"line\":{\"colorbar\":{\"outlinewidth\":0,\"ticks\":\"\"}}}],\"scatterpolargl\":[{\"type\":\"scatterpolargl\",\"marker\":{\"colorbar\":{\"outlinewidth\":0,\"ticks\":\"\"}}}],\"bar\":[{\"error_x\":{\"color\":\"#2a3f5f\"},\"error_y\":{\"color\":\"#2a3f5f\"},\"marker\":{\"line\":{\"color\":\"#E5ECF6\",\"width\":0.5},\"pattern\":{\"fillmode\":\"overlay\",\"size\":10,\"solidity\":0.2}},\"type\":\"bar\"}],\"scattergeo\":[{\"type\":\"scattergeo\",\"marker\":{\"colorbar\":{\"outlinewidth\":0,\"ticks\":\"\"}}}],\"scatterpolar\":[{\"type\":\"scatterpolar\",\"marker\":{\"colorbar\":{\"outlinewidth\":0,\"ticks\":\"\"}}}],\"histogram\":[{\"marker\":{\"pattern\":{\"fillmode\":\"overlay\",\"size\":10,\"solidity\":0.2}},\"type\":\"histogram\"}],\"scattergl\":[{\"type\":\"scattergl\",\"marker\":{\"colorbar\":{\"outlinewidth\":0,\"ticks\":\"\"}}}],\"scatter3d\":[{\"type\":\"scatter3d\",\"line\":{\"colorbar\":{\"outlinewidth\":0,\"ticks\":\"\"}},\"marker\":{\"colorbar\":{\"outlinewidth\":0,\"ticks\":\"\"}}}],\"scattermapbox\":[{\"type\":\"scattermapbox\",\"marker\":{\"colorbar\":{\"outlinewidth\":0,\"ticks\":\"\"}}}],\"scatterternary\":[{\"type\":\"scatterternary\",\"marker\":{\"colorbar\":{\"outlinewidth\":0,\"ticks\":\"\"}}}],\"scattercarpet\":[{\"type\":\"scattercarpet\",\"marker\":{\"colorbar\":{\"outlinewidth\":0,\"ticks\":\"\"}}}],\"carpet\":[{\"aaxis\":{\"endlinecolor\":\"#2a3f5f\",\"gridcolor\":\"white\",\"linecolor\":\"white\",\"minorgridcolor\":\"white\",\"startlinecolor\":\"#2a3f5f\"},\"baxis\":{\"endlinecolor\":\"#2a3f5f\",\"gridcolor\":\"white\",\"linecolor\":\"white\",\"minorgridcolor\":\"white\",\"startlinecolor\":\"#2a3f5f\"},\"type\":\"carpet\"}],\"table\":[{\"cells\":{\"fill\":{\"color\":\"#EBF0F8\"},\"line\":{\"color\":\"white\"}},\"header\":{\"fill\":{\"color\":\"#C8D4E3\"},\"line\":{\"color\":\"white\"}},\"type\":\"table\"}],\"barpolar\":[{\"marker\":{\"line\":{\"color\":\"#E5ECF6\",\"width\":0.5},\"pattern\":{\"fillmode\":\"overlay\",\"size\":10,\"solidity\":0.2}},\"type\":\"barpolar\"}],\"pie\":[{\"automargin\":true,\"type\":\"pie\"}]},\"layout\":{\"autotypenumbers\":\"strict\",\"colorway\":[\"#636efa\",\"#EF553B\",\"#00cc96\",\"#ab63fa\",\"#FFA15A\",\"#19d3f3\",\"#FF6692\",\"#B6E880\",\"#FF97FF\",\"#FECB52\"],\"font\":{\"color\":\"#2a3f5f\"},\"hovermode\":\"closest\",\"hoverlabel\":{\"align\":\"left\"},\"paper_bgcolor\":\"white\",\"plot_bgcolor\":\"#E5ECF6\",\"polar\":{\"bgcolor\":\"#E5ECF6\",\"angularaxis\":{\"gridcolor\":\"white\",\"linecolor\":\"white\",\"ticks\":\"\"},\"radialaxis\":{\"gridcolor\":\"white\",\"linecolor\":\"white\",\"ticks\":\"\"}},\"ternary\":{\"bgcolor\":\"#E5ECF6\",\"aaxis\":{\"gridcolor\":\"white\",\"linecolor\":\"white\",\"ticks\":\"\"},\"baxis\":{\"gridcolor\":\"white\",\"linecolor\":\"white\",\"ticks\":\"\"},\"caxis\":{\"gridcolor\":\"white\",\"linecolor\":\"white\",\"ticks\":\"\"}},\"coloraxis\":{\"colorbar\":{\"outlinewidth\":0,\"ticks\":\"\"}},\"colorscale\":{\"sequential\":[[0.0,\"#0d0887\"],[0.1111111111111111,\"#46039f\"],[0.2222222222222222,\"#7201a8\"],[0.3333333333333333,\"#9c179e\"],[0.4444444444444444,\"#bd3786\"],[0.5555555555555556,\"#d8576b\"],[0.6666666666666666,\"#ed7953\"],[0.7777777777777778,\"#fb9f3a\"],[0.8888888888888888,\"#fdca26\"],[1.0,\"#f0f921\"]],\"sequentialminus\":[[0.0,\"#0d0887\"],[0.1111111111111111,\"#46039f\"],[0.2222222222222222,\"#7201a8\"],[0.3333333333333333,\"#9c179e\"],[0.4444444444444444,\"#bd3786\"],[0.5555555555555556,\"#d8576b\"],[0.6666666666666666,\"#ed7953\"],[0.7777777777777778,\"#fb9f3a\"],[0.8888888888888888,\"#fdca26\"],[1.0,\"#f0f921\"]],\"diverging\":[[0,\"#8e0152\"],[0.1,\"#c51b7d\"],[0.2,\"#de77ae\"],[0.3,\"#f1b6da\"],[0.4,\"#fde0ef\"],[0.5,\"#f7f7f7\"],[0.6,\"#e6f5d0\"],[0.7,\"#b8e186\"],[0.8,\"#7fbc41\"],[0.9,\"#4d9221\"],[1,\"#276419\"]]},\"xaxis\":{\"gridcolor\":\"white\",\"linecolor\":\"white\",\"ticks\":\"\",\"title\":{\"standoff\":15},\"zerolinecolor\":\"white\",\"automargin\":true,\"zerolinewidth\":2},\"yaxis\":{\"gridcolor\":\"white\",\"linecolor\":\"white\",\"ticks\":\"\",\"title\":{\"standoff\":15},\"zerolinecolor\":\"white\",\"automargin\":true,\"zerolinewidth\":2},\"scene\":{\"xaxis\":{\"backgroundcolor\":\"#E5ECF6\",\"gridcolor\":\"white\",\"linecolor\":\"white\",\"showbackground\":true,\"ticks\":\"\",\"zerolinecolor\":\"white\",\"gridwidth\":2},\"yaxis\":{\"backgroundcolor\":\"#E5ECF6\",\"gridcolor\":\"white\",\"linecolor\":\"white\",\"showbackground\":true,\"ticks\":\"\",\"zerolinecolor\":\"white\",\"gridwidth\":2},\"zaxis\":{\"backgroundcolor\":\"#E5ECF6\",\"gridcolor\":\"white\",\"linecolor\":\"white\",\"showbackground\":true,\"ticks\":\"\",\"zerolinecolor\":\"white\",\"gridwidth\":2}},\"shapedefaults\":{\"line\":{\"color\":\"#2a3f5f\"}},\"annotationdefaults\":{\"arrowcolor\":\"#2a3f5f\",\"arrowhead\":0,\"arrowwidth\":1},\"geo\":{\"bgcolor\":\"white\",\"landcolor\":\"#E5ECF6\",\"subunitcolor\":\"white\",\"showland\":true,\"showlakes\":true,\"lakecolor\":\"white\"},\"title\":{\"x\":0.05},\"mapbox\":{\"style\":\"light\"}}},\"xaxis\":{\"anchor\":\"y\",\"domain\":[0.0,1.0],\"scaleanchor\":\"y\",\"constrain\":\"domain\",\"title\":{\"text\":\"Head\"}},\"yaxis\":{\"anchor\":\"x\",\"domain\":[0.0,1.0],\"autorange\":\"reversed\",\"constrain\":\"domain\",\"title\":{\"text\":\"Layer\"}},\"coloraxis\":{\"colorscale\":[[0.0,\"rgb(103,0,31)\"],[0.1,\"rgb(178,24,43)\"],[0.2,\"rgb(214,96,77)\"],[0.3,\"rgb(244,165,130)\"],[0.4,\"rgb(253,219,199)\"],[0.5,\"rgb(247,247,247)\"],[0.6,\"rgb(209,229,240)\"],[0.7,\"rgb(146,197,222)\"],[0.8,\"rgb(67,147,195)\"],[0.9,\"rgb(33,102,172)\"],[1.0,\"rgb(5,48,97)\"]],\"cmid\":0.0},\"title\":{\"text\":\"Depth 3\"}},                        {\"responsive\": true}                    ).then(function(){\n",
       "                            \n",
       "var gd = document.getElementById('43c06367-d4bc-46fd-a2b9-6530aec0de96');\n",
       "var x = new MutationObserver(function (mutations, observer) {{\n",
       "        var display = window.getComputedStyle(gd).display;\n",
       "        if (!display || display === 'none') {{\n",
       "            console.log([gd, 'removed!']);\n",
       "            Plotly.purge(gd);\n",
       "            observer.disconnect();\n",
       "        }}\n",
       "}});\n",
       "\n",
       "// Listen for the removal of the full notebook cells\n",
       "var notebookContainer = gd.closest('#notebook-container');\n",
       "if (notebookContainer) {{\n",
       "    x.observe(notebookContainer, {childList: true});\n",
       "}}\n",
       "\n",
       "// Listen for the clearing of the current output cell\n",
       "var outputEl = gd.closest('.output');\n",
       "if (outputEl) {{\n",
       "    x.observe(outputEl, {childList: true});\n",
       "}}\n",
       "\n",
       "                        })                };                });            </script>        </div>"
      ]
     },
     "metadata": {},
     "output_type": "display_data"
    }
   ],
   "source": [
    "imshow(matrixes[0], save=f'', title=f\"Depth {depth}\", labels={\"x\":\"Head\", \"y\":\"Layer\"})\n"
   ]
  },
  {
   "cell_type": "code",
   "execution_count": 132,
   "metadata": {},
   "outputs": [
    {
     "data": {
      "application/vnd.plotly.v1+json": {
       "config": {
        "plotlyServerURL": "https://plot.ly"
       },
       "data": [
        {
         "colorscale": [
          [
           0,
           "#440154"
          ],
          [
           0.1111111111111111,
           "#482878"
          ],
          [
           0.2222222222222222,
           "#3e4989"
          ],
          [
           0.3333333333333333,
           "#31688e"
          ],
          [
           0.4444444444444444,
           "#26828e"
          ],
          [
           0.5555555555555556,
           "#1f9e89"
          ],
          [
           0.6666666666666666,
           "#35b779"
          ],
          [
           0.7777777777777778,
           "#6ece58"
          ],
          [
           0.8888888888888888,
           "#b5de2b"
          ],
          [
           1,
           "#fde725"
          ]
         ],
         "showscale": false,
         "type": "heatmap",
         "xaxis": "x",
         "yaxis": "y",
         "z": [
          [
           0.7126014072983932,
           0.6880305189519813,
           0.31931688002137404,
           0.2522024021593309,
           0.9559187999620442,
           0.9232995082699295,
           0.4573166098928203,
           0.8461938661543734,
           0.45232347763429603,
           0.4243890180725104,
           0.15676294759929466,
           0.42640605649197283,
           0.537416938599807,
           0.022504327428686466,
           0.4441130051754064,
           0.7813562183952003,
           0.6800460563742698,
           0.635156988863935,
           0.9095554284372025,
           0.01803200982523001,
           0.5570475861922342,
           0.7873488484097071,
           0.5413353827012672,
           0.32389555258037916,
           0.13625056509197786,
           0.8875630718161913,
           0.470762392387603,
           0.8781151969857014,
           0.5858521224331683,
           0.6741921166150008,
           0.80426115437845,
           0.6591555446001344
          ],
          [
           0.3980548406789377,
           0.513633383928651,
           0.8030455246758799,
           0.3736502963729842,
           0.3881214567684971,
           0.09569011605800115,
           0.9145844352217477,
           0.09103631494544173,
           0.6482091774485559,
           0.4131944788027977,
           0.40561939025544236,
           0.6795518365726839,
           0.06709373262987872,
           0.5937057829514346,
           0.7720317859723548,
           0.8282127578865942,
           0.1705303893937753,
           0.8974190500781737,
           0.6561460918474422,
           0.8818548008206828,
           0.48528071711019827,
           0.542033345097202,
           0.9190382770286711,
           0.8999095433546718,
           0.448160873369002,
           0.27441263163568175,
           0.39317043456426415,
           0.38776432852974974,
           0.28686687498279395,
           0.26857960433296657,
           0.8610629364797194,
           0.06986192068466168
          ],
          [
           0.6776111820995941,
           0.1728200514564523,
           0.34450589339406323,
           0.06154303413483686,
           0.26997363685546205,
           0.7684210711172421,
           0.8850153245472586,
           0.22152715190236705,
           0.46354783925892185,
           0.4703240479372064,
           0.8735753057597342,
           0.7627990528758054,
           0.5130772183680499,
           0.6707472004717734,
           0.8473550539093668,
           0.009538954025544943,
           0.4028900310500486,
           0.9072431672770787,
           0.7403130308439514,
           0.5428413743340746,
           0.5296445270351334,
           0.3477700976044378,
           0.5205205336415145,
           0.6553831994634532,
           0.4183630384287931,
           0.714153146392174,
           0.8612322272603858,
           0.15468484818486117,
           0.4515470228174244,
           0.4080200912850811,
           0.6874648040497281,
           0.24986746525792936
          ],
          [
           0.6402509149522763,
           0.877489241731488,
           0.4181315997936227,
           0.91101569997922,
           0.9931637389334784,
           0.10609204994795207,
           0.23305318798485863,
           0.9503797514820932,
           0.9583276864813868,
           0.0977072753867585,
           0.014998500377136681,
           0.16110002325642225,
           0.9960127833822483,
           0.17999961661068686,
           0.5025476067220231,
           0.848417726430511,
           0.02040161068820634,
           0.6044889822584595,
           0.2770254488696243,
           0.8623349164397316,
           0.28346114926407917,
           0.6867557202819089,
           0.6742196324473969,
           0.22149354885964,
           0.03479919986835012,
           0.4092495737853973,
           0.2891931519658697,
           0.8089777496137086,
           0.8003641884553453,
           0.4570239521926255,
           0.6065122253232189,
           0.6042595159869252
          ],
          [
           0.8271581484276234,
           0.4250024141231975,
           0.2754466797905091,
           0.26503491814054747,
           0.5361922792822041,
           0.44914820273221256,
           0.4401207709849362,
           0.09113733908970723,
           0.7186037406901956,
           0.2137366879819107,
           0.19695363020872136,
           0.41275832027739345,
           0.22777834161780142,
           0.5838582673080154,
           0.3714633393344715,
           0.4489117225927901,
           0.5371693216040289,
           0.20353552248180484,
           0.1557516228655298,
           0.8804219028736048,
           0.43372370283142103,
           0.41209360963253916,
           0.03561215027284148,
           0.4979763025873932,
           0.5541697216110001,
           0.5588408709546665,
           0.7070311693228843,
           0.17748183499101178,
           0.2522231342306188,
           0.8107304652304127,
           0.947170616843394,
           0.13593274736732064
          ],
          [
           0.4976495545052182,
           0.21417625273958685,
           0.06007316835498244,
           0.3255033381261354,
           0.14368762518421274,
           0.7099330734342463,
           0.5337254136714444,
           0.14383447099031088,
           0.009241588405514367,
           0.8081570490242127,
           0.17619440616424753,
           0.606216642220766,
           0.33692191307674557,
           0.5854859383150356,
           0.315653626982324,
           0.08693956069225417,
           0.2229500085577536,
           0.1880585664790756,
           0.42801935243964384,
           0.6582837834261573,
           0.26380607494635755,
           0.012069935300617951,
           0.5189373642647569,
           0.6057594893589721,
           0.9628704940018097,
           0.5894708030932468,
           0.47117255937814184,
           0.5734016258977038,
           0.927900629862027,
           0.8283781456016462,
           0.322978733363808,
           0.23725436365713726
          ],
          [
           0.26263361236607363,
           0.504421039715213,
           0.7440494512285778,
           0.5032192071829621,
           0.06779639582811259,
           0.7235807004399809,
           0.8059701286709539,
           0.28949786511971964,
           0.6641257392833504,
           0.4265919010543934,
           0.8891193557274428,
           0.8452255581607399,
           0.5254319983096423,
           0.6915055458135945,
           0.883349701022104,
           0.4957170100782755,
           0.31325074048882195,
           0.7536661379095813,
           0.22006625478469177,
           0.38853114800604205,
           0.8657272371067937,
           0.7244223402693151,
           0.40381100524749924,
           0.2147445024083574,
           0.3559683908322365,
           0.284104149227433,
           0.17608928794385392,
           0.7433329135656567,
           0.2520698868501715,
           0.4541674701677638,
           0.38585944683610907,
           0.9820773786356308
          ],
          [
           0.3910922441482205,
           0.0799824827967548,
           0.08982575257208403,
           0.5907537213530648,
           0.5993635517382656,
           0.41875899048265497,
           0.4318436923120297,
           0.05393258284087121,
           0.5165465103892622,
           0.5047394753803517,
           0.14954931855694453,
           0.10383938611092758,
           0.12357249059949049,
           0.10102824649125852,
           0.6097081955367598,
           0.19648265240291862,
           0.25143015218746345,
           0.17357214415143973,
           0.9578353044485031,
           0.8546174631518354,
           0.23049483735152088,
           0.327566293922126,
           0.20989284230499716,
           0.49187595946082374,
           0.019610532474253595,
           0.6713680088967957,
           0.5231581498176416,
           0.8986389283011033,
           0.16439268432841414,
           0.8041092460611317,
           0.7919610144667157,
           0.12718118921688693
          ],
          [
           0.3985592241441276,
           0.1701526411445169,
           0.2547205004575489,
           0.26324617483054435,
           0.5562363940257727,
           0.4114109317604655,
           0.9477328040063053,
           0.12637014194700513,
           0.9736921348501988,
           0.23063864021426395,
           0.7728739363818531,
           0.3389699261728214,
           0.1430813954173139,
           0.8578891852462399,
           0.3088608992364632,
           0.6588554042268422,
           0.5664436850866266,
           0.4717563093908743,
           0.4958194726485391,
           0.7322379140922876,
           0.08777291412344057,
           0.6681806619579052,
           0.8958121013985787,
           0.05778819701986415,
           0.14065333923366674,
           0.7166319367020314,
           0.43728164824461757,
           0.40354862081368836,
           0.13696663454423585,
           0.5067700407177881,
           0.12654531119637724,
           0.4766204563105404
          ],
          [
           0.7636152989616567,
           0.2582643578871635,
           0.4807861681797273,
           0.9920159693968357,
           0.6866504233540373,
           0.8413567713051986,
           0.41484760656054576,
           0.7678609231258553,
           0.040509172941321836,
           0.12291118254224498,
           0.20307059292006213,
           0.40195192461521956,
           0.8457448783257632,
           0.3462660507879305,
           0.6546211935154629,
           0.7093142948034834,
           0.5861823540883414,
           0.3572419681701362,
           0.5770533417135443,
           0.3422655927897462,
           0.08387373855201208,
           0.9928039781860144,
           0.1271824536325109,
           0.07234838383605735,
           0.8785307492071559,
           0.3018346608928951,
           0.6502969740735076,
           0.32900572966223285,
           0.39145427079447115,
           0.2621129720167965,
           0.3430440057930102,
           0.4107004005865431
          ],
          [
           0.7204160690923429,
           0.5115361942347918,
           0.9435652171569769,
           0.04188039383877551,
           0.5030683226320282,
           0.5842247888317181,
           0.9201969860742739,
           0.049158523621427586,
           0.573499584935216,
           0.853629928527957,
           0.24192772811923657,
           0.8762923485239374,
           0.019043409274291823,
           0.7324546291337297,
           0.933113221168653,
           0.6571976616400622,
           0.43902924398044796,
           0.04488101647271803,
           0.9201138133226288,
           0.4702962226915748,
           0.02899674433594801,
           0.6898210713287619,
           0.4818372535762582,
           0.12434531744241073,
           0.21427180931025958,
           0.06449068045584627,
           0.5742935397085736,
           0.6220294792520092,
           0.5057422983554444,
           0.8171021330026149,
           0.8610088213080136,
           0.6156243966831266
          ],
          [
           0.012756479707430546,
           0.6952296557477357,
           0.4179992169203516,
           0.565557483226387,
           0.6490806020188844,
           0.35023661432707676,
           0.9170985051717943,
           0.1339748667497812,
           0.6715118072810374,
           0.004359579956580428,
           0.9246511054051808,
           0.1125041332380915,
           0.09488423014757463,
           0.33300763305224423,
           0.3735662860390806,
           0.21430007232287862,
           0.5851216609271247,
           0.4429140980419636,
           0.03417558904108742,
           0.31965206225530063,
           0.8104329135731705,
           0.6897015348618686,
           0.7248708535798805,
           0.6981169240835235,
           0.3109730213830333,
           0.09966392207677588,
           0.272467184033096,
           0.8317853001851593,
           0.9804707977830711,
           0.49384701474156134,
           0.00970035492304222,
           0.14004481213422904
          ],
          [
           0.32208057531626577,
           0.5785853485929497,
           0.07509364580531397,
           0.9433572987098816,
           0.3650836732844007,
           0.912584217924823,
           0.7805218027570218,
           0.7554372725155811,
           0.606719579782232,
           0.6267838170518446,
           0.6380032352162481,
           0.6287213870255821,
           0.5537282313983612,
           0.9864140184828889,
           0.7322905674256961,
           0.7769463883925212,
           0.8724628150836742,
           0.21563976272584917,
           0.08380415909506078,
           0.48289443659859865,
           0.5140806956192732,
           0.8291817799499177,
           0.4437835792823357,
           0.5708530255443127,
           0.5270709385134583,
           0.03820278375739106,
           0.615214896596914,
           0.8280432857742522,
           0.15750054807580383,
           0.5943317339265958,
           0.5936105444464144,
           0.16418496405635874
          ],
          [
           0.12346357373073602,
           0.9800519429764848,
           0.39371916965303755,
           0.22742172872352928,
           0.17132454445437495,
           0.6676017135832351,
           0.6094452973272788,
           0.6435521229874175,
           0.08800602751145226,
           0.893534583498437,
           0.3892663968090483,
           0.31336940643035793,
           0.4623614472477392,
           0.39006606574762825,
           0.8635770031391459,
           0.9292609751978921,
           0.3034532164496062,
           0.8639358074599548,
           0.7815231295330671,
           0.9308076723447618,
           0.24575031218588783,
           0.5769591501209791,
           0.27454458474044463,
           0.8240944904843742,
           0.005324190571064258,
           0.5648191628863961,
           0.339203431271918,
           0.32268370707782024,
           0.644906323864917,
           0.8514844493139939,
           0.6091953913933262,
           0.8531729786467225
          ],
          [
           0.26459711188102997,
           0.5195018547649811,
           0.450536539067076,
           0.011644899503096218,
           0.5568121431407401,
           0.6615243241461749,
           0.5919144044190701,
           0.7362798987834215,
           0.5713395284530771,
           0.06675025485075692,
           0.11644552408471143,
           0.5964745775439524,
           0.2749791919736402,
           0.07964512903476584,
           0.42960274344854676,
           0.5543225980836554,
           0.32874598834960655,
           0.720433702225778,
           0.6437706081012446,
           0.33281836109167195,
           0.7548725289085606,
           0.6486950425330354,
           0.6374453787179021,
           0.553427700787068,
           0.011389668088552796,
           0.6965071834768891,
           0.3760417911091565,
           0.9426097101586556,
           0.8179847710772054,
           0.5876944695313122,
           0.25218198181926943,
           0.20371739327766658
          ],
          [
           0.3403848376775491,
           0.4765679435800185,
           0.2960655100389471,
           0.5149294953924828,
           0.16537042551318593,
           0.9777128128254999,
           0.10792455496499387,
           0.9319441396543721,
           0.9135780114026949,
           0.525360481819498,
           0.7249102718360844,
           0.4360482979725878,
           0.6300345775424382,
           0.3405759374211187,
           0.30115901978544535,
           0.5782297861695137,
           0.49812967418398035,
           0.5795363691499811,
           0.286660581287023,
           0.36695783181699526,
           0.08389796062890931,
           0.05227637227220572,
           0.25345712967301626,
           0.07424685933054576,
           0.1037747086347407,
           0.8129284053939371,
           0.0388736970166893,
           0.6589427939347428,
           0.2725577488154005,
           0.8715456807081264,
           0.48499228457749954,
           0.30557645932782573
          ],
          [
           0.5176389356894345,
           0.3819580190452688,
           0.5643010646698302,
           0.11453286832634824,
           0.9969905028125511,
           0.42555587769671754,
           0.34823063970736867,
           0.7102098483162649,
           0.3638994064953325,
           0.8332743050287577,
           0.45427072436042526,
           0.7195584132654349,
           0.10745321644188655,
           0.8461191855551118,
           0.7357179867781098,
           0.21171677846196568,
           0.14528600974578665,
           0.3162923487256244,
           0.9760705860319043,
           0.25683157456705863,
           0.4561272089466333,
           0.030020225717336313,
           0.39722752956623253,
           0.5713200154331027,
           0.9531246125079651,
           0.5167360449400644,
           0.8191073261776878,
           0.5471276425689006,
           0.0407850134355181,
           0.31500827518977403,
           0.5755495078311033,
           0.9505939659311243
          ],
          [
           0.8591303597512333,
           0.22835561417884764,
           0.2201098300191635,
           0.20117296711390076,
           0.9224988963025031,
           0.8526661531017207,
           0.7748834322529488,
           0.3927351142242276,
           0.5043807042987668,
           0.4643317447951528,
           0.25339810755937264,
           0.505028046148767,
           0.030496547852754463,
           0.13181037349745917,
           0.8865895961689464,
           0.7516797670314233,
           0.42286840905908707,
           0.5171503622838772,
           0.36999888595997743,
           0.7407798671606725,
           0.7841871792320796,
           0.7632851902031591,
           0.7226117248344496,
           0.20450433869279583,
           0.3379699792404788,
           0.4698454349836749,
           0.3307929914276556,
           0.754940200158329,
           0.3293535242499547,
           0.13823208678533716,
           0.3990404520483041,
           0.9799144327823803
          ],
          [
           0.2258814129335759,
           0.6121586589432291,
           0.4329730498397063,
           0.07102456764932663,
           0.4878766059980595,
           0.7021643286483125,
           0.5132199758278188,
           0.8721060637465811,
           0.28893701665758265,
           0.08624917130396492,
           0.9365656116580061,
           0.378196349528219,
           0.5764055514536334,
           0.792003126130196,
           0.3243136638755806,
           0.7161645381776112,
           0.13541884981782804,
           0.29129374720550527,
           0.1447106361365199,
           0.8112305584013578,
           0.22264923522678537,
           0.7174035554052103,
           0.9432983972456526,
           0.527772209068877,
           0.5400291922606877,
           0.46103356809781204,
           0.32589014339364275,
           0.4756550309249171,
           0.6028075322667594,
           0.9859915721706594,
           0.9377645593182242,
           0.8621529582931218
          ],
          [
           0.8891305357048583,
           0.46784918329204295,
           0.6574443271774648,
           0.8950667229362141,
           0.39295076499135306,
           0.9617624783454688,
           0.415786062069183,
           0.6010826653932156,
           0.7098047132723719,
           0.9505920130759383,
           0.24461627405226605,
           0.7461309782386423,
           0.5208155861440822,
           0.26855714062064107,
           0.7766068397963906,
           0.5522222801738466,
           0.6609738206496758,
           0.322901068577901,
           0.481273951827605,
           0.6173542509880671,
           0.404910814269844,
           0.1983725398477013,
           0.961640492315304,
           0.5114675400426174,
           0.7339203702877005,
           0.4110471935560581,
           0.35513176402571633,
           0.407164298467125,
           0.4091966437856498,
           0.5441801159419536,
           0.5434698699813632,
           0.49715381588287166
          ],
          [
           0.1347857849174381,
           0.49607547850053113,
           0.1691039004206515,
           0.12613578629576516,
           0.9326457173411677,
           0.6049500131477042,
           0.6594900581245843,
           0.4017936703333638,
           0.9089808919148642,
           0.6379304895796655,
           0.7691698695235875,
           0.36856246902771383,
           0.9600118808191255,
           0.820461290158315,
           0.8539484630145436,
           0.17219426742575428,
           0.2709632078712195,
           0.28562659968357706,
           0.27090922324687117,
           0.8554081621042879,
           0.03188479520859211,
           0.0760999889807743,
           0.2739148706299037,
           0.19987297464944365,
           0.23185961388284837,
           0.7979431892533,
           0.5631265938920469,
           0.0057706612929679935,
           0.42932276570419525,
           0.40788492685035893,
           0.11394526944454353,
           0.6761417886014571
          ],
          [
           0.7020971883794911,
           0.7208932190520977,
           0.728470945558592,
           0.00005282693229680113,
           0.9539208038467222,
           0.814208767054663,
           0.9039816965892853,
           0.015643295307434135,
           0.9338587957857394,
           0.8097885286881047,
           0.8372191429586986,
           0.09328738472196851,
           0.7387780289185977,
           0.959916689642091,
           0.6785473414181606,
           0.5705614046246065,
           0.945629677748997,
           0.442937121734436,
           0.5992935663104787,
           0.4763382934943662,
           0.9328462213602992,
           0.07608472676550726,
           0.5011197008253482,
           0.6869524413854383,
           0.7919065384222369,
           0.5830186474441363,
           0.908917744121454,
           0.9419914468838717,
           0.06431922319358352,
           0.40237053954137436,
           0.02345902172115444,
           0.3294166573744429
          ],
          [
           0.5368682179706021,
           0.9107949305099489,
           0.8465543224654029,
           0.12749972667198572,
           0.0930303747408957,
           0.589267338756667,
           0.5321179724587827,
           0.26637764143002385,
           0.8994530845538352,
           0.9273664094615535,
           0.40261143834016266,
           0.8903025571135202,
           0.38394889426297263,
           0.7368168318297001,
           0.47594221754772414,
           0.12258315650718299,
           0.9279342012370215,
           0.4540965933775366,
           0.7344870403224036,
           0.36717381443129216,
           0.01888087857623466,
           0.10053035869183591,
           0.4962194794899244,
           0.6899643571263624,
           0.33473532657927907,
           0.6954884591776503,
           0.698635589431956,
           0.7039359073278308,
           0.4925218540205084,
           0.914886150121504,
           0.4891965179806156,
           0.4502651934966382
          ],
          [
           0.199380819010627,
           0.3076550873563365,
           0.042334492518303346,
           0.6335352936161702,
           0.24853574392709288,
           0.3041552544854651,
           0.7708145216643212,
           0.3272211831614539,
           0.24219589201314218,
           0.16905774913370575,
           0.7748584021819559,
           0.12970625799002689,
           0.4537537602503535,
           0.5069301160771944,
           0.6873899126857146,
           0.6332834823329955,
           0.8107206729451748,
           0.04475143392623815,
           0.2964407247793972,
           0.28013411877537975,
           0.14601690559210823,
           0.28917825385644313,
           0.3097653141429034,
           0.5218844619274783,
           0.6637044789262561,
           0.3811005136118141,
           0.7194702313133812,
           0.33616533857958,
           0.29028367731476035,
           0.5411880558570243,
           0.023716360305790607,
           0.07978912363400037
          ],
          [
           0.41796954358652705,
           0.9429127113917565,
           0.7215117798434236,
           0.08812656950055775,
           0.8463180127808737,
           0.732300770608181,
           0.6109465257026532,
           0.8202929606091773,
           0.4041098477429571,
           0.22150105085385274,
           0.5120233891087593,
           0.5488417555934738,
           0.5383263720099121,
           0.5650737914801053,
           0.9487049182391808,
           0.9022456230962314,
           0.8757170365589394,
           0.8014168109086272,
           0.9434281072652854,
           0.09849464167940325,
           0.2651232614457395,
           0.4950559456545849,
           0.8465344931234052,
           0.5051657115227325,
           0.7480347393415887,
           0.13895990524891622,
           0.2524138129765602,
           0.7317760950376724,
           0.16473400888772405,
           0.35135593465492676,
           0.2648662578135714,
           0.3498616942224785
          ],
          [
           0.7083240490779703,
           0.367847181142801,
           0.5552633226079402,
           0.09993187705440965,
           0.8050176932346278,
           0.36988862564812486,
           0.6485341590333424,
           0.7253896016618326,
           0.2096609221117004,
           0.88467498495335,
           0.6162242516069529,
           0.42872514175148146,
           0.18233518357821954,
           0.9423009379012067,
           0.7550682041316251,
           0.20802456273324887,
           0.3377107747242245,
           0.8096742580880733,
           0.695677663215339,
           0.7657842927157243,
           0.4412011022129324,
           0.7164762626421669,
           0.3864937228639137,
           0.21126291693819643,
           0.63267703484136,
           0.9760139255987942,
           0.3106009713953296,
           0.46096959221253964,
           0.6740013710698536,
           0.5415062821224879,
           0.8434277957090492,
           0.7617427064695159
          ],
          [
           0.05829720386235704,
           0.998421233923774,
           0.7524024537194672,
           0.8639033162941132,
           0.6511977120953464,
           0.8562851280467623,
           0.11238297492870941,
           0.3477378355593156,
           0.8764209436044927,
           0.20165521126689223,
           0.07824209858002273,
           0.788118939945219,
           0.8354861556432962,
           0.1626522181899006,
           0.8543459827827155,
           0.6867677955971696,
           0.5200826832165839,
           0.830250192781385,
           0.4192492493189658,
           0.1939939562233972,
           0.28485267661061364,
           0.5051640182933148,
           0.5313307926731757,
           0.8055808264412336,
           0.7913527236523344,
           0.5813665572045749,
           0.7807854833654764,
           0.19177345829367098,
           0.05006452709329434,
           0.8736338226347001,
           0.07555449376276957,
           0.2466884297439973
          ],
          [
           0.6953189496243846,
           0.40944793762730913,
           0.8763139699155088,
           0.29797979466226954,
           0.011871346669359295,
           0.3006556405607441,
           0.5780750491848317,
           0.37593837540329333,
           0.5348727557587553,
           0.8765981188350187,
           0.9124850542303685,
           0.2659740646541121,
           0.4621404732699007,
           0.5491440152414512,
           0.9491124568882471,
           0.9986173191643847,
           0.23540724884152664,
           0.7269798713458154,
           0.37803106223319516,
           0.008108196886213226,
           0.009252522435902355,
           0.46056600756225574,
           0.4883349130043346,
           0.022569696573442655,
           0.6869274167743025,
           0.2940033885949531,
           0.5598931015359494,
           0.30091907316541877,
           0.1671343148693072,
           0.4071737385988753,
           0.23227336479050076,
           0.5348009769191681
          ],
          [
           0.19882853028647995,
           0.5084059766446271,
           0.15737851486886756,
           0.670974709485785,
           0.7539376844414241,
           0.11039423424993378,
           0.4678024120373392,
           0.07087170065487358,
           0.5981824455420024,
           0.26440429792964537,
           0.5276244568387078,
           0.5174610093842912,
           0.9243543461938004,
           0.5490832225687229,
           0.5829984797183156,
           0.4016531257643803,
           0.9490796031828168,
           0.7771859094396096,
           0.28540529030284156,
           0.8442095857762321,
           0.43239636018509,
           0.8286671435335939,
           0.822888068293502,
           0.1888701867628544,
           0.7011411313835769,
           0.2906429693065311,
           0.2974926699926682,
           0.29634807688058074,
           0.7255682475599482,
           0.22982604179253607,
           0.0009058352460902253,
           0.7152368534826331
          ],
          [
           0.17118474383512527,
           0.10448239530783465,
           0.23751612059406013,
           0.379900522322704,
           0.4759063274732007,
           0.04457004071263082,
           0.9705733326273605,
           0.7160630534195581,
           0.32319406532433614,
           0.31869725728539733,
           0.4485425493684594,
           0.626244822763033,
           0.14637306658896776,
           0.18892981376495233,
           0.8594345828335509,
           0.25625492388907256,
           0.38019499797517753,
           0.871271850950117,
           0.6631478293998225,
           0.34171187934168834,
           0.6836995457246208,
           0.01968321538141371,
           0.7356426600113652,
           0.4870160405162395,
           0.8131821472844613,
           0.9546376520064683,
           0.9257885494945683,
           0.9092650434553408,
           0.5121699559338871,
           0.36014211413893804,
           0.46503532473067277,
           0.6898960033133608
          ],
          [
           0.8839977768711867,
           0.20698630300011955,
           0.918193158461703,
           0.8151802319698891,
           0.9788560151782346,
           0.8802517732816871,
           0.27993732969190666,
           0.10595591134404769,
           0.11224107199158861,
           0.2912233185782761,
           0.6141837239845392,
           0.8043203260971725,
           0.8992503069815647,
           0.6237533843692328,
           0.0056313127480537295,
           0.1863167765185335,
           0.09972620385336795,
           0.36332447556901004,
           0.5013509936337459,
           0.04339717857856085,
           0.3484779757956553,
           0.17917967462532258,
           0.6470701662588739,
           0.46427236932434,
           0.4953176469339088,
           0.4276917880334611,
           0.956019710486567,
           0.21473512512156323,
           0.5166642598438743,
           0.7360173683653359,
           0.5568444131345626,
           0.9290208857168011
          ],
          [
           0.37796835564128417,
           0.463675805773178,
           0.08852231521472842,
           0.6089991110519285,
           0.28821196844810604,
           0.16030903951556885,
           0.5445312929045081,
           0.5323102633799106,
           0.07587164122404755,
           0.6982154534944728,
           0.6237721906508529,
           0.1890172827464972,
           0.46943486215404384,
           0.72032291647856,
           0.5294357405412765,
           0.3954890761835702,
           0.32233845808094364,
           0.6103938666440536,
           0.9391086983102406,
           0.6717448404774834,
           0.0747459036363155,
           0.4606849734821338,
           0.8908241315106276,
           0.09446242580108688,
           0.9888757121375433,
           0.9490693936454213,
           0.07827448072987586,
           0.9334133204495549,
           0.3631325902594622,
           0.8447091670758625,
           0.4183833377132715,
           0.44085511270251587
          ]
         ]
        },
        {
         "colorscale": [
          [
           0,
           "rgb(255,255,217)"
          ],
          [
           0.125,
           "rgb(237,248,177)"
          ],
          [
           0.25,
           "rgb(199,233,180)"
          ],
          [
           0.375,
           "rgb(127,205,187)"
          ],
          [
           0.5,
           "rgb(65,182,196)"
          ],
          [
           0.625,
           "rgb(29,145,192)"
          ],
          [
           0.75,
           "rgb(34,94,168)"
          ],
          [
           0.875,
           "rgb(37,52,148)"
          ],
          [
           1,
           "rgb(8,29,88)"
          ]
         ],
         "showscale": false,
         "type": "heatmap",
         "xaxis": "x2",
         "yaxis": "y2",
         "z": [
          [
           0.6342430909775426,
           0.7744774192759833,
           0.033789150948248636,
           0.5931559955271343,
           0.18673299409737099,
           0.34594951786320294,
           0.3479686661552165,
           0.4690603402211536,
           0.3341364118761734,
           0.10736111845066776,
           0.14562873852545144,
           0.03343798556109767,
           0.4702490853287543,
           0.9544476948529885,
           0.11567522364811655,
           0.946264493003082,
           0.7333615147320935,
           0.6374988029341632,
           0.6452777553235629,
           0.8267276483962821,
           0.10691986437982137,
           0.5047543235655417,
           0.6970911382607585,
           0.5868204450735637,
           0.8327790710232946,
           0.07227170901135149,
           0.690701039499166,
           0.5340277303847177,
           0.3791608639799434,
           0.34027498223403085,
           0.6208326327741929,
           0.8909953746442648
          ],
          [
           0.49617592610111527,
           0.8247231640769201,
           0.4021563818439675,
           0.10239446279317654,
           0.06150573645863855,
           0.051334371323677574,
           0.38015014195766994,
           0.33723775083584207,
           0.7179370236225695,
           0.7428215015848658,
           0.05085396883373983,
           0.22112326288901496,
           0.2742618501588997,
           0.5476119841428094,
           0.14451522390695026,
           0.13394121940000037,
           0.943788889207958,
           0.804202907297781,
           0.1806549020911703,
           0.40656780790549096,
           0.35562199925756555,
           0.7910040740654073,
           0.5102129164781221,
           0.12784973699346702,
           0.7389920631562439,
           0.39688797822491895,
           0.26292424763214706,
           0.37549862202072015,
           0.49775656360689635,
           0.34311551641700944,
           0.24190577259175783,
           0.39850202880398033
          ],
          [
           0.019172910749898242,
           0.7724978460963139,
           0.1709448935675858,
           0.043904613630637246,
           0.6536986929050792,
           0.7739361288236722,
           0.8138291315928432,
           0.49350918266059995,
           0.2053681846899853,
           0.7372276772498267,
           0.6997130771543372,
           0.24627073410317324,
           0.903407755862793,
           0.104371458082829,
           0.9826882395913257,
           0.8602478109774646,
           0.6878986454790752,
           0.9387498882798329,
           0.7223111683237078,
           0.19045699703004593,
           0.44215613811281174,
           0.07150302433163536,
           0.3896574222881154,
           0.7416030197372087,
           0.3864433509308174,
           0.3302941754681341,
           0.5953557225103119,
           0.872204528998895,
           0.04758319254611243,
           0.3854704346997354,
           0.1582407418152627,
           0.6953542507318696
          ],
          [
           0.10572456043113487,
           0.6648077585802445,
           0.2861808707979073,
           0.1989168137372247,
           0.9363525578249854,
           0.018524576745955867,
           0.43777727188956894,
           0.02162699246179378,
           0.483593048104329,
           0.5010473777944182,
           0.321662471394747,
           0.13216177752502367,
           0.3763875377344753,
           0.672262939932566,
           0.7823958086444591,
           0.5307506023881423,
           0.5898343944397556,
           0.2006163711246527,
           0.28733033322764945,
           0.16189561005235842,
           0.24929535000461134,
           0.22488678022553177,
           0.5194487863912376,
           0.5626887557907294,
           0.9449474208215045,
           0.19557064710152305,
           0.6416757101614959,
           0.8172592689875229,
           0.5602414637830525,
           0.2550036525010757,
           0.2625502300200002,
           0.03925305307099991
          ],
          [
           0.3054442265484817,
           0.7446036790033801,
           0.04751775720711038,
           0.21929528250483066,
           0.7062324985317819,
           0.7826515628228766,
           0.4553184100619284,
           0.6980743384786489,
           0.387952168654892,
           0.15991324502412751,
           0.3981494935229065,
           0.5799678202031429,
           0.9480532818528903,
           0.06875095208867732,
           0.5073940938449606,
           0.3289197782107244,
           0.5083116942766945,
           0.023975447376531678,
           0.3130253547015813,
           0.819868147527005,
           0.5539417338546375,
           0.4505824928161174,
           0.2855250717153396,
           0.2980425227913559,
           0.38310143359058446,
           0.8355707099645604,
           0.9672132068082684,
           0.4386553813503745,
           0.39335283874776183,
           0.8465507758198628,
           0.4269053206363036,
           0.5520181722956512
          ],
          [
           0.23094166459874443,
           0.7435025357790752,
           0.5319883182707819,
           0.8090345502403417,
           0.7807327300286697,
           0.21500476827002857,
           0.7156355505577624,
           0.8000544079513714,
           0.3461072407823951,
           0.17260911290227454,
           0.00263215557958818,
           0.45090365309314817,
           0.3524327315388416,
           0.5549098338254089,
           0.18804109258878576,
           0.8596655476664752,
           0.25775521562810966,
           0.22642960508764998,
           0.48071405648435594,
           0.49885102374427426,
           0.21508522878509284,
           0.27186072672591577,
           0.16970523915524494,
           0.7184601783231668,
           0.7700890312540819,
           0.4623284974592826,
           0.7140870226850174,
           0.7359353919374455,
           0.1382755276778086,
           0.9661780248345367,
           0.821031947096431,
           0.2044834611958235
          ],
          [
           0.18616503574607024,
           0.12566114557958274,
           0.13837856254191838,
           0.7481617990286962,
           0.46965425695162355,
           0.7829341727398672,
           0.7462548943502054,
           0.6046127135052216,
           0.6863666065786795,
           0.01835572437914179,
           0.31177764680502196,
           0.6378221792594102,
           0.0093449534862442,
           0.03297694368259341,
           0.8518879824703832,
           0.6840248616920718,
           0.26536973312034395,
           0.687962840118709,
           0.7924566691392633,
           0.30679428311010126,
           0.03603737749918745,
           0.9327791246877345,
           0.3451798382956305,
           0.10648176328470638,
           0.4918568713931474,
           0.7684677956641338,
           0.22164731461755915,
           0.26949005013336336,
           0.24271498679858317,
           0.9916730528316782,
           0.19740373373054254,
           0.575520216966124
          ],
          [
           0.9252646416569643,
           0.14689656887777924,
           0.9708541978677002,
           0.9474772343956246,
           0.8845719870582626,
           0.21455652133000225,
           0.6340550560109833,
           0.7608914729612402,
           0.9860279281964297,
           0.18042382208137042,
           0.7660258995192964,
           0.33880116992711296,
           0.17562646556800232,
           0.42137694121385494,
           0.7938359121486164,
           0.46484980370405216,
           0.5375231002030485,
           0.9951594102001212,
           0.399109299557426,
           0.6154007547092398,
           0.36524420161537186,
           0.39278564632870494,
           0.6956407534454081,
           0.9378869760948835,
           0.5423589504923214,
           0.7683999289487798,
           0.08920655881696382,
           0.21115803743192696,
           0.5021316409195324,
           0.02001172362877479,
           0.2528549787625588,
           0.5174012898249661
          ],
          [
           0.014961198256300712,
           0.2645462862260417,
           0.5140308194758695,
           0.5731492479812457,
           0.9257516930553055,
           0.6453456232506078,
           0.41473580252999376,
           0.9303511771330678,
           0.7848829833877943,
           0.2000089211127476,
           0.13084236134881977,
           0.675811635742733,
           0.5598831655769838,
           0.7896736137927557,
           0.7388050500786865,
           0.625211533857515,
           0.9863821716288922,
           0.5335897301104087,
           0.11310575650171983,
           0.8282735648159884,
           0.251853362345709,
           0.7773021481439183,
           0.9571070960000514,
           0.6967955139643413,
           0.5960301609498011,
           0.4603861756750406,
           0.36440986599540326,
           0.35300475097183626,
           0.6363727057095906,
           0.7512731169377459,
           0.6785170694844144,
           0.19841010119356273
          ],
          [
           0.4939871801434912,
           0.791640072183063,
           0.47570407818905625,
           0.5366232797354938,
           0.7711360481708222,
           0.6612653062650915,
           0.4093449208823926,
           0.895412711194219,
           0.1625670686634786,
           0.9955164485903247,
           0.1188525784762372,
           0.014949971104238902,
           0.8900189011487647,
           0.24495350836595609,
           0.7296996274467209,
           0.8110153749320693,
           0.8589863910321168,
           0.9915942356641667,
           0.29403971003999907,
           0.7102433419272591,
           0.11539985828082822,
           0.4068092913568494,
           0.8479716933125904,
           0.36765804605910835,
           0.5910953805356141,
           0.5037734437246341,
           0.6459515311120451,
           0.9728943893876949,
           0.05573552650140212,
           0.5739615175016297,
           0.8630287792502848,
           0.4813827117484275
          ],
          [
           0.07852718594157282,
           0.5605393524167709,
           0.33207389082382044,
           0.1549417853379359,
           0.849034513283473,
           0.5215995129911216,
           0.9332764123790667,
           0.8060165046030691,
           0.6929717937736674,
           0.005025503365311934,
           0.42782345663824994,
           0.1974862816520323,
           0.9107979110488678,
           0.17458398467636027,
           0.2860600516592855,
           0.5168367677344992,
           0.26336361899807925,
           0.20986467727912117,
           0.5990993251027524,
           0.08892952275502386,
           0.05816775872092472,
           0.3722452951860714,
           0.7206644545078623,
           0.554806758273948,
           0.42287646846677884,
           0.5657515642245824,
           0.3654514846532736,
           0.9361463354321129,
           0.05490489091077433,
           0.6733914790298352,
           0.8912826648277505,
           0.8038847087352534
          ],
          [
           0.18404103482144674,
           0.29592634898028836,
           0.7170479387071047,
           0.08427055918076554,
           0.811861699832584,
           0.7189069446047903,
           0.7296066492353426,
           0.10024137026759139,
           0.7177605448162309,
           0.67981812521997,
           0.8309224908218505,
           0.0415959562564695,
           0.023110668467792195,
           0.37300709987856073,
           0.14878828384915288,
           0.5583844775702219,
           0.9173489015067489,
           0.39147973033401573,
           0.8449503772726041,
           0.00024087451786647396,
           0.1685146434591842,
           0.03042353965408562,
           0.32814718051506864,
           0.9081895956965028,
           0.09695212359898775,
           0.6064097767438004,
           0.4514959391194442,
           0.9384682123658125,
           0.12251914253709384,
           0.21202785050222894,
           0.029541968611493274,
           0.43393524963137375
          ],
          [
           0.2778328995646543,
           0.8699059338903209,
           0.6049408131977551,
           0.6140907379757017,
           0.5319106968813024,
           0.091850337229201,
           0.44501868372535525,
           0.9995051897085165,
           0.8352292908460148,
           0.8934590541671159,
           0.8232263592464995,
           0.10304169343098268,
           0.22744825406479963,
           0.003121651356409627,
           0.30351012487811146,
           0.10860740234649258,
           0.472793345301583,
           0.6771274885739019,
           0.8745052950380771,
           0.7492171650908982,
           0.9385855957785052,
           0.053898290393788795,
           0.01217983541654144,
           0.6613381138362127,
           0.2893524102222462,
           0.25350101610577314,
           0.33088708769379427,
           0.26979605789236416,
           0.5114364063015873,
           0.4401484472241325,
           0.5124285513766563,
           0.6727136115004362
          ],
          [
           0.3871305089711483,
           0.2513076871421568,
           0.16620053680874547,
           0.3494741195326255,
           0.741806475246172,
           0.7567049101114696,
           0.6669053866842103,
           0.2340281753068746,
           0.5880862458546977,
           0.570689661576848,
           0.4842661981097255,
           0.5499789863838642,
           0.49179063262366807,
           0.5654563660741082,
           0.7155059546211288,
           0.10962819440343974,
           0.7496257521490237,
           0.1358861501275942,
           0.0666279984103747,
           0.9760796862214676,
           0.9569917688704415,
           0.06043654494056405,
           0.44325344147496215,
           0.18624493829977473,
           0.4853448971344181,
           0.8301772429995874,
           0.9506117747428903,
           0.6342526534515374,
           0.35390566721181704,
           0.6033255656445984,
           0.31200130610845034,
           0.9098236408320604
          ],
          [
           0.870400463105837,
           0.558231750279661,
           0.32479891538036054,
           0.29338967558297835,
           0.03341799470505946,
           0.8158208510252952,
           0.45038321303900797,
           0.3251329284002644,
           0.4711103549977539,
           0.818737990454652,
           0.12461420770752119,
           0.8576559882418273,
           0.897508835108354,
           0.9467079150338882,
           0.3974879924226278,
           0.21714040403767187,
           0.3736408184666985,
           0.3329120962314033,
           0.17615391250286005,
           0.6072666701014879,
           0.4766241605086289,
           0.8657009923240037,
           0.03210958048205825,
           0.6438679275551263,
           0.7629488785115611,
           0.759486569188307,
           0.8860739670955251,
           0.7290337428294941,
           0.9278100616476963,
           0.33265659982089146,
           0.5032094167515431,
           0.014079663282890675
          ],
          [
           0.006957587303291213,
           0.2401266204515199,
           0.10080719713908526,
           0.2602113679357536,
           0.1770432945283974,
           0.02852002483864824,
           0.9093041464060494,
           0.008223131388891525,
           0.7360821443370854,
           0.15214788691951653,
           0.9122296219996,
           0.8927959395898858,
           0.6539011463692573,
           0.6722341498006051,
           0.005339141969688543,
           0.984871566113602,
           0.8778326035758144,
           0.895106225730092,
           0.6592445370508719,
           0.34478692865453653,
           0.8936486490904808,
           0.29151692815119234,
           0.5627115433422029,
           0.0997309723438824,
           0.9219556301327502,
           0.14077045777121333,
           0.22489680573040727,
           0.558134158128215,
           0.7640930002129815,
           0.619351305936299,
           0.23213391280015616,
           0.0009430425274903342
          ],
          [
           0.7571505803074392,
           0.9852073259110937,
           0.8099131203060904,
           0.46020661815661534,
           0.9037672613991066,
           0.40984767311835,
           0.5249340842434675,
           0.47712976739568325,
           0.44762387266552495,
           0.7751907692939057,
           0.526768907269492,
           0.31671712202521607,
           0.2581581676584783,
           0.037747316967433386,
           0.583195161883046,
           0.2299614154010342,
           0.1481339220163831,
           0.6538299638276777,
           0.6812092578215488,
           0.752154892257666,
           0.5035768963385915,
           0.8940546052038866,
           0.9363427533982278,
           0.8073709397924894,
           0.6355934820081872,
           0.30372095359118867,
           0.9829449216202212,
           0.27413616719193834,
           0.20265692199043106,
           0.44215411378658276,
           0.05684057071238846,
           0.9784944646717908
          ],
          [
           0.5884335564164248,
           0.5569520916641753,
           0.6557962798997199,
           0.49702364777720665,
           0.03206351709454158,
           0.6123112888403968,
           0.7161738769564306,
           0.41674906062405315,
           0.7572955720711929,
           0.22700129933842061,
           0.22127659106618403,
           0.16141698768757395,
           0.37199475978916186,
           0.8470120353890835,
           0.8279120621490643,
           0.3828242079635038,
           0.5891187359802366,
           0.7208163164749156,
           0.24120677462802298,
           0.16814108589474708,
           0.972095993212311,
           0.6175573132096185,
           0.9814157218336639,
           0.3377559871322291,
           0.7030316999741315,
           0.22260363654123771,
           0.26120017127391293,
           0.511902121269624,
           0.3196181255080712,
           0.16762156384058446,
           0.262880701989326,
           0.03574839446586464
          ],
          [
           0.7044236214774866,
           0.4921166570858616,
           0.09424306640452562,
           0.1716939931284912,
           0.10253453811264401,
           0.6125928082758765,
           0.0942103636124938,
           0.7542823330352161,
           0.020510919320391174,
           0.2493757879958921,
           0.8906666758919072,
           0.718531318122246,
           0.07296833292568772,
           0.8211261044851798,
           0.4930351215402048,
           0.8467830271688292,
           0.6007397744503934,
           0.6818330320328587,
           0.9935015603957081,
           0.23233554592401817,
           0.6239455747613883,
           0.46032139005739836,
           0.039451952922691436,
           0.014470641502865034,
           0.11922857781785867,
           0.6490917405385481,
           0.5671630879133922,
           0.5534295611637274,
           0.031856762528260085,
           0.46930299636000705,
           0.9246228178425285,
           0.3975918693106466
          ],
          [
           0.6249224697884563,
           0.7798186756231436,
           0.7839252791418876,
           0.5192800823952713,
           0.8579519454023363,
           0.39137809336374696,
           0.8886932147847983,
           0.2402271663955453,
           0.28021640699057104,
           0.0531206241990011,
           0.7955818365422829,
           0.4170552362327056,
           0.22911661391139904,
           0.23179027761657967,
           0.9013999412292332,
           0.8339166004610369,
           0.5535308853571833,
           0.6161108004157211,
           0.474325570550291,
           0.39166654287880887,
           0.9154768812183315,
           0.12561270352030207,
           0.41844678971622795,
           0.34456190798787534,
           0.49815072025114837,
           0.45763187454517507,
           0.5188895316510814,
           0.1399189772269941,
           0.5131415015132771,
           0.24241881388721087,
           0.18433134898819126,
           0.06483421878619122
          ],
          [
           0.7626525587561409,
           0.42744192085655996,
           0.6266436833117583,
           0.7275933433047433,
           0.6793166653135535,
           0.4705007190896823,
           0.3878985289517298,
           0.3759599096406637,
           0.6400487969300563,
           0.4947943549418734,
           0.8491322479885106,
           0.8747019843267121,
           0.17056037800651846,
           0.13623365154572564,
           0.6304009260359995,
           0.3012257480622794,
           0.01857071876509886,
           0.8886426693629551,
           0.22690076724380825,
           0.9292806516858091,
           0.7174344508782536,
           0.7626534899114843,
           0.20146149579316042,
           0.23419442561681292,
           0.5212677538240658,
           0.17209985264986216,
           0.3054316926830323,
           0.32146247794780447,
           0.1596299332527641,
           0.20518283339516075,
           0.7885518420082566,
           0.16719585454726837
          ],
          [
           0.028457391843922486,
           0.6293549426289384,
           0.97598311939245,
           0.3312138146231214,
           0.1186557031962523,
           0.5703873253675308,
           0.9063542110956462,
           0.7840617798284788,
           0.622515868412716,
           0.3150564966075994,
           0.54188017327622,
           0.09124484130425536,
           0.67894542428067,
           0.7250960188976509,
           0.9650316229099188,
           0.26039735874507164,
           0.018456419043022643,
           0.5456084644271506,
           0.7067905043968145,
           0.790407475882988,
           0.1937389330248106,
           0.26175286903702366,
           0.5125909252672963,
           0.33060080997000185,
           0.860511486587445,
           0.47376015373872027,
           0.799578644102003,
           0.5806197604823538,
           0.773090141617112,
           0.33267298653032384,
           0.8314166219303112,
           0.2745723155510216
          ],
          [
           0.5460988080032908,
           0.21400711317387422,
           0.47552652162619335,
           0.31817520950870315,
           0.26670343063721424,
           0.9669850180280375,
           0.16007410548673062,
           0.7873258374573953,
           0.9841649594832149,
           0.01990148374007783,
           0.699027414042095,
           0.2529118055562871,
           0.040487824328304445,
           0.4028895789566308,
           0.935217810170875,
           0.011765094366997686,
           0.5878856919297817,
           0.5013964785953243,
           0.8733841643710475,
           0.08400171452062566,
           0.6815260298866503,
           0.6801096984332773,
           0.6690800168622832,
           0.942334494935037,
           0.8230875290068804,
           0.04197272624350601,
           0.47108285070451317,
           0.3979530562013335,
           0.31014722109080206,
           0.4513367251540973,
           0.38419418492597746,
           0.43233389987866533
          ],
          [
           0.9792618656086425,
           0.08863297474958076,
           0.9222308698387298,
           0.4802367134710267,
           0.6237422454995412,
           0.8301829666176939,
           0.36046302914925554,
           0.4304219080879669,
           0.40951848027871396,
           0.37473102253575985,
           0.9255293216468949,
           0.8289298911930121,
           0.1089999898629761,
           0.10812335247709604,
           0.4278695148529912,
           0.09865737673280905,
           0.6190930952711197,
           0.1436916072617339,
           0.5223732639668011,
           0.007219947003717753,
           0.3165963484126467,
           0.6771907236726554,
           0.48403894022784844,
           0.9782694859989881,
           0.8741037960662108,
           0.3590707790431512,
           0.0454865414722746,
           0.8456263001150188,
           0.9112343103146714,
           0.8206273934190368,
           0.12794994091976486,
           0.9979151344122877
          ],
          [
           0.25858422155277383,
           0.7242049128083701,
           0.9080348763357216,
           0.23568711433070944,
           0.9082585546770661,
           0.30948157919486696,
           0.9764132223840561,
           0.2812600203804746,
           0.9534358247578352,
           0.053544650892674905,
           0.709272011669813,
           0.5321111338370037,
           0.47787707712273064,
           0.22349431425584,
           0.705595789776492,
           0.1908094914463071,
           0.5528417959847682,
           0.2532453630402508,
           0.9556213797813561,
           0.028631193835652824,
           0.19972828011123656,
           0.24231060638744772,
           0.4140678257678164,
           0.23273024187005353,
           0.49134909026878526,
           0.872465523258539,
           0.7120634214091708,
           0.579961980535111,
           0.08900317798267965,
           0.6939921083892756,
           0.16641428431093985,
           0.786367385961698
          ],
          [
           0.2500567585101532,
           0.4170487283209009,
           0.3504702023179279,
           0.8588139146748568,
           0.12654445871340814,
           0.5656448823847886,
           0.14206160944306223,
           0.7047958361321867,
           0.9050781277944812,
           0.4346076538672534,
           0.4880922602649759,
           0.9274228364827622,
           0.5209913886493571,
           0.48759843804956093,
           0.5783291027043042,
           0.6892297363629519,
           0.10688337508703138,
           0.821110527741516,
           0.43550502745325925,
           0.07234850989748554,
           0.7861826691982131,
           0.3769499716862721,
           0.10036749509505394,
           0.6337790395432505,
           0.8801313534336417,
           0.8877535094139863,
           0.9576634748089732,
           0.867705459766688,
           0.002140919345475223,
           0.38024116641339023,
           0.818542579905503,
           0.3662530059984742
          ],
          [
           0.6015485063797061,
           0.606316947374532,
           0.36502530403882305,
           0.9044739272812876,
           0.5032283453861176,
           0.4647842059375008,
           0.9975137456618959,
           0.49350036407261666,
           0.17839825192858105,
           0.513069422863438,
           0.81401673551993,
           0.7768603268982814,
           0.788581765108471,
           0.7080237839979118,
           0.2542178290666882,
           0.8620840858402314,
           0.8934434653762651,
           0.19415269661854906,
           0.13045563655139392,
           0.975604968589112,
           0.8683239636503679,
           0.8932361472099467,
           0.8863763846243952,
           0.5416868240337284,
           0.6464017366657997,
           0.5453628521336417,
           0.05120634919032907,
           0.7455030853527727,
           0.5053320333358803,
           0.6477090747902298,
           0.5026398049755353,
           0.49181132232245595
          ],
          [
           0.17178910947776682,
           0.27871371514114895,
           0.1588526919439558,
           0.19566629562534243,
           0.9729773804203049,
           0.15311344577219843,
           0.26927042430520765,
           0.590589657738585,
           0.6101785762366418,
           0.15397412974382907,
           0.7937174257852123,
           0.785202867912825,
           0.2373177042038911,
           0.28866630267546045,
           0.937987865459497,
           0.8256714459794781,
           0.6977970330625238,
           0.08223322151060053,
           0.4182640809025757,
           0.559301872076827,
           0.18741128798377693,
           0.4482265821082245,
           0.60102587748869,
           0.3273766801153992,
           0.7809448189504872,
           0.8404495816388055,
           0.32360946943407076,
           0.8386571544924571,
           0.10357656610301502,
           0.8377290986226563,
           0.1527504316676166,
           0.08292715250972604
          ],
          [
           0.6417754044410112,
           0.4719373657552943,
           0.9078906004128328,
           0.3631891960908492,
           0.2871522634376287,
           0.5007349061441984,
           0.4559461857686613,
           0.34442804621718826,
           0.6937412986983286,
           0.7595618339139083,
           0.8529839690301366,
           0.9728566047103429,
           0.26665619213250447,
           0.7160934824899615,
           0.39425823549574524,
           0.6770819719511081,
           0.47598169034922033,
           0.9937731027679316,
           0.7289021357907499,
           0.9524913004343245,
           0.8349695494811857,
           0.9029010111633711,
           0.8144191972146749,
           0.4591591303759114,
           0.2517884533468844,
           0.3703201754505222,
           0.020236232639950447,
           0.5239931674646672,
           0.5050578002704087,
           0.5252504648304882,
           0.9740312249720638,
           0.9114540034548393
          ],
          [
           0.161712778330108,
           0.3688825215558892,
           0.4239561794632619,
           0.36053291785164776,
           0.7984959636039131,
           0.5240376698675869,
           0.572099816971625,
           0.8530135589879255,
           0.8059281534153586,
           0.1322115228202997,
           0.7139145840836343,
           0.43543612890203554,
           0.29464890306250047,
           0.050018820902186345,
           0.48724956034545097,
           0.3554366807245314,
           0.2515130396764008,
           0.6946717295969576,
           0.769485387315587,
           0.2447895190294248,
           0.049447436679347256,
           0.848752700565235,
           0.009959741204303318,
           0.937112493921472,
           0.6276198739827059,
           0.3218466352013203,
           0.2464779095767362,
           0.009005664264475244,
           0.23547141701087715,
           0.1377283015171411,
           0.6121662207231456,
           0.1665455885938013
          ],
          [
           0.5286298375366193,
           0.5901164223444708,
           0.2980416983469145,
           0.035064949018718705,
           0.0372538806141961,
           0.026347332193917605,
           0.7391246671365462,
           0.31800970481429813,
           0.7963001859676636,
           0.43173282384284917,
           0.45299810082996383,
           0.5128826025095737,
           0.7130314563751039,
           0.27350286582970706,
           0.1215873495335269,
           0.5560573351914615,
           0.32697762324273927,
           0.4424913136680374,
           0.6469467083373054,
           0.4941257411412706,
           0.6202788171008429,
           0.5442000021136278,
           0.7397963719360992,
           0.70593661771162,
           0.5341898918086192,
           0.6789030208597069,
           0.8735596022726128,
           0.4322712877881686,
           0.41276307274879365,
           0.7642456208523801,
           0.582553837041994,
           0.07100678022258855
          ],
          [
           0.8921120156910813,
           0.030783102237640136,
           0.7483963562097431,
           0.7587941427043129,
           0.9531110852819304,
           0.054134408402320755,
           0.596856860784491,
           0.42784057062705294,
           0.330632954859542,
           0.09031856029907304,
           0.5626541196713092,
           0.47904072567461364,
           0.10455445815102427,
           0.6124895070970834,
           0.7379531202529385,
           0.7672783010536482,
           0.9053731882624274,
           0.4094707418887772,
           0.953072768622137,
           0.8654294050826861,
           0.29650157102393904,
           0.15928303734945848,
           0.4353893961280134,
           0.4018987079559666,
           0.5757193053312043,
           0.583386232327748,
           0.7499869843799752,
           0.5098899482056102,
           0.10482264094076554,
           0.8582913355531061,
           0.30976458318518707,
           0.971297460306592
          ]
         ]
        },
        {
         "colorscale": [
          [
           0,
           "rgb(165,0,38)"
          ],
          [
           0.1,
           "rgb(215,48,39)"
          ],
          [
           0.2,
           "rgb(244,109,67)"
          ],
          [
           0.3,
           "rgb(253,174,97)"
          ],
          [
           0.4,
           "rgb(254,224,144)"
          ],
          [
           0.5,
           "rgb(255,255,191)"
          ],
          [
           0.6,
           "rgb(224,243,248)"
          ],
          [
           0.7,
           "rgb(171,217,233)"
          ],
          [
           0.8,
           "rgb(116,173,209)"
          ],
          [
           0.9,
           "rgb(69,117,180)"
          ],
          [
           1,
           "rgb(49,54,149)"
          ]
         ],
         "showscale": false,
         "type": "heatmap",
         "xaxis": "x3",
         "yaxis": "y3",
         "z": [
          [
           0.11786010867977015,
           0.9582511722325032,
           0.09101180688251698,
           0.23103613794705946,
           0.04657994208654159,
           0.7051131466389949,
           0.8502987365717918,
           0.4340710818159804,
           0.9285220750424297,
           0.5902990717555996,
           0.6300071354465232,
           0.8454192017007699,
           0.2968002050518389,
           0.3542657213276258,
           0.9059519191946444,
           0.9009634960387638,
           0.9764827762008709,
           0.9018383164416711,
           0.1273720360333609,
           0.8237242861369873,
           0.40983847810959406,
           0.9908013559459379,
           0.47228096432880107,
           0.5538360825022206,
           0.5297749152567985,
           0.3217370298582778,
           0.07502208889291817,
           0.8956512304019185,
           0.8026758125262868,
           0.13952678055966927,
           0.7767682713500729,
           0.62584666605061
          ],
          [
           0.4091437879176223,
           0.2540211490955627,
           0.8597287835022325,
           0.700188259294053,
           0.5477399094691369,
           0.6095685338984641,
           0.09106618208218098,
           0.4739197609111919,
           0.193700292785702,
           0.20838367900882537,
           0.6613039622868667,
           0.9112561518342881,
           0.40375661047834654,
           0.20774927301219037,
           0.6487469372366542,
           0.8711870463503177,
           0.7483188011224908,
           0.8687572305365872,
           0.5365546710107993,
           0.7518762443691909,
           0.14006455935893647,
           0.3482746153631915,
           0.38954916448152244,
           0.5112957462460346,
           0.9290763602568237,
           0.8742965602221743,
           0.13452549228918453,
           0.1727896518824632,
           0.35764054958891134,
           0.2907438658906739,
           0.6147709531562623,
           0.9027760477645449
          ],
          [
           0.9622915416725868,
           0.6536029525352265,
           0.8381592014010867,
           0.5252022002307971,
           0.20832694686003972,
           0.5246884120934774,
           0.5550826014376511,
           0.7424575642135566,
           0.2198829897073491,
           0.3683103820867317,
           0.3640274692145663,
           0.9594395957411649,
           0.44394496032671893,
           0.7550939672981465,
           0.750811381374439,
           0.2655441848032414,
           0.5718696893717321,
           0.8943028933186481,
           0.47519771945694944,
           0.9451175073425461,
           0.2144582293241616,
           0.07415910577403073,
           0.8914538731447493,
           0.8476811979622166,
           0.9925898759338447,
           0.6793934881124261,
           0.9366879266671495,
           0.8269490250841108,
           0.8444263331200869,
           0.5691415704542683,
           0.38236459791671085,
           0.9345580725432818
          ],
          [
           0.43211717561589447,
           0.5388193672496691,
           0.44611430712518774,
           0.5648183139601971,
           0.4705050789923272,
           0.04796755857947588,
           0.8820481860076986,
           0.4443938189157698,
           0.5889436485073487,
           0.13918780275798703,
           0.003387847982639136,
           0.24529009364364296,
           0.7045860321333502,
           0.0991945301128786,
           0.9088874403864678,
           0.21502256935618458,
           0.2045936142917758,
           0.18150796162149552,
           0.013981712971364746,
           0.7718054684782346,
           0.8750345312452585,
           0.6141627026161989,
           0.1881999816798623,
           0.28527799694087974,
           0.4759266973649633,
           0.9543459516233008,
           0.2473513718177428,
           0.731645903919888,
           0.4394482232929203,
           0.2978473483600218,
           0.45591593702211375,
           0.07120671754123253
          ],
          [
           0.7986873709303625,
           0.24330192798296713,
           0.7254121231929704,
           0.06834837144819472,
           0.9550985561656861,
           0.1930149854056986,
           0.8827420762070805,
           0.8094732096154345,
           0.967859924081416,
           0.4778906609457496,
           0.7273972938459515,
           0.37071065703778405,
           0.18436823801969382,
           0.4430759329334488,
           0.16574901538845488,
           0.9820446227863839,
           0.09624649114071637,
           0.5892117234526204,
           0.6264638552540559,
           0.5380795428740542,
           0.6621858857118336,
           0.11618077501189095,
           0.5550185242052911,
           0.28721257112736154,
           0.9401760633010566,
           0.7620716534397257,
           0.9725144821597427,
           0.037556069740189546,
           0.2851331751807087,
           0.195422586638349,
           0.0111545873118305,
           0.24232573024632142
          ],
          [
           0.6787759835204289,
           0.23108892213456855,
           0.5090034454826182,
           0.8878181149649986,
           0.6937579203490752,
           0.39462906990603197,
           0.3724689389121083,
           0.45573581400848473,
           0.17704144105990638,
           0.6340007674159881,
           0.3641528191046055,
           0.8523653492620437,
           0.7565526600578163,
           0.61051316409216,
           0.36420222264951607,
           0.2099318316734844,
           0.7761518641056229,
           0.48640909899108653,
           0.2247500381773575,
           0.19517461504000622,
           0.16540090450135903,
           0.777161196205595,
           0.2289871853003117,
           0.5266422635251975,
           0.45154636097305645,
           0.5796108992282839,
           0.8771549003711943,
           0.8677473900817306,
           0.45107607182485965,
           0.015366250734723308,
           0.4264438057143032,
           0.6061935374241404
          ],
          [
           0.5577647590980618,
           0.6513361058002055,
           0.15407573247308348,
           0.6465350987807326,
           0.18265161874377223,
           0.750523980696749,
           0.33908761326268,
           0.7098954333814536,
           0.04786559890610709,
           0.4078600255909134,
           0.7050345222633327,
           0.22687051633149413,
           0.7952870447972226,
           0.630779733104932,
           0.5875617721497983,
           0.3535488542043371,
           0.4824514703811176,
           0.5973493009778531,
           0.47246211391489046,
           0.6983133239405601,
           0.43369693310695956,
           0.20227318174203035,
           0.21393378280104725,
           0.005803768842941093,
           0.30095771555867246,
           0.7489176404785196,
           0.7941627088376095,
           0.20246754209575002,
           0.9590439968714077,
           0.5024027934801267,
           0.9169787490185026,
           0.7067652818616311
          ],
          [
           0.7224334230224131,
           0.08504362130607113,
           0.21999112689693068,
           0.008814833294472635,
           0.7161276404767375,
           0.34443828842851,
           0.7866525160763468,
           0.3389362199370263,
           0.8193337522988611,
           0.130698253748313,
           0.1733731567575082,
           0.3408765395839365,
           0.4084873888822733,
           0.3487028108429784,
           0.7636470325232199,
           0.0969513926267147,
           0.35121701963848806,
           0.8372399995154594,
           0.06679707726217199,
           0.9423435076713574,
           0.9863168422720129,
           0.08856817382508009,
           0.29127252225573697,
           0.37240066603535615,
           0.7763913686527261,
           0.5959268121167338,
           0.6443657004925674,
           0.757509822818506,
           0.11797899943702572,
           0.8332094569102624,
           0.705619804180144,
           0.5773417251963703
          ],
          [
           0.8897353347830567,
           0.7003063538838071,
           0.2016999626310254,
           0.42974538107566673,
           0.4940428669357333,
           0.055217626750405646,
           0.9546375133600558,
           0.12857726079687848,
           0.6974612672267269,
           0.5062310360908802,
           0.025632249884422587,
           0.9247474758643617,
           0.8518368088189332,
           0.5242579279038355,
           0.22894233613944526,
           0.12162289068009424,
           0.3633924794321266,
           0.2554282810460905,
           0.5066912010062987,
           0.966409296123429,
           0.5749534932296414,
           0.8899310558900979,
           0.6508788374957772,
           0.47524652658720046,
           0.8546075627333712,
           0.4713681101729975,
           0.868628170510361,
           0.2915767695757653,
           0.12881307376298812,
           0.8553144643629383,
           0.5874151637926668,
           0.8890923982489601
          ],
          [
           0.9378272069923832,
           0.053628390371449175,
           0.5009693018588683,
           0.37496454907452925,
           0.6258583970701171,
           0.7935911972023235,
           0.28059021597436895,
           0.5567983843731716,
           0.7087285799048996,
           0.13443108283573402,
           0.8140669059512669,
           0.6061095998529731,
           0.9495374371136518,
           0.3395289191306933,
           0.10814594233719865,
           0.5065012010369253,
           0.08581077170943885,
           0.9695265233240068,
           0.03868495825719154,
           0.753503901107308,
           0.525102398142244,
           0.3686206524982887,
           0.06584216450865465,
           0.6221669241736077,
           0.5852203293909553,
           0.28088327306759975,
           0.9102217014103121,
           0.3041100073428369,
           0.44972541059210613,
           0.5437624559186557,
           0.1002318781762861,
           0.9321617192136323
          ],
          [
           0.3745361524510411,
           0.08077921387434361,
           0.38729117367532995,
           0.6002025470925807,
           0.5136526718213296,
           0.694541974037274,
           0.05548394206791063,
           0.2845406102720561,
           0.8192305768401023,
           0.07989368779136086,
           0.8554859546959576,
           0.09189609207710625,
           0.8344542148916962,
           0.3607884010787267,
           0.6122090632572158,
           0.15288711564799817,
           0.06616872172518085,
           0.21593820402013508,
           0.12785381790869554,
           0.3124058976796318,
           0.5143832465110202,
           0.5887594635650095,
           0.7898681073797429,
           0.6562398932483586,
           0.608758325129553,
           0.41178202748577464,
           0.4738084349601387,
           0.4145208293901811,
           0.8421660300613831,
           0.23000045254839985,
           0.0057209315419646245,
           0.6513198972262393
          ],
          [
           0.2024621836388314,
           0.8901151363098093,
           0.8590463297066561,
           0.07672737192820589,
           0.10638840541407735,
           0.4951715922466663,
           0.6092226627693547,
           0.27490833748224075,
           0.7167977166993706,
           0.5949160209188715,
           0.3248241097485547,
           0.025371488042315593,
           0.7501502812985177,
           0.2147536658250827,
           0.8344737434626284,
           0.4202902600542552,
           0.5770774426317654,
           0.8729487304090019,
           0.8636230009199534,
           0.37151957524357326,
           0.20888889271484312,
           0.7751460777285947,
           0.4330802036021312,
           0.1920419935590041,
           0.9044253423171502,
           0.19810419424108738,
           0.025807168191231078,
           0.020279973767419968,
           0.6223153564542643,
           0.6616750607175304,
           0.3110417050569839,
           0.3200109892470634
          ],
          [
           0.33949391505994275,
           0.6801585467588787,
           0.058133791026828585,
           0.9291163526913256,
           0.22252104417744645,
           0.9996732052420922,
           0.17152269378718699,
           0.7715464573123775,
           0.22341254492962503,
           0.08084680164325397,
           0.8749333243506489,
           0.8587512591908919,
           0.40357039244960136,
           0.7023961425404268,
           0.5570659326839171,
           0.8529561136737488,
           0.3150559693186544,
           0.5236723999989852,
           0.48537237120455046,
           0.35390582625685874,
           0.8914550645563722,
           0.16587792466253548,
           0.14950863952069615,
           0.5769095353227514,
           0.657494229984942,
           0.19461925432456517,
           0.3907174422546241,
           0.9465638429787437,
           0.246617422690674,
           0.6683607021173941,
           0.7401493936975908,
           0.44812869946515954
          ],
          [
           0.937525986759583,
           0.7366567352187905,
           0.45792457986089785,
           0.569335201776094,
           0.6926134434251007,
           0.5921901804292182,
           0.8786975838260759,
           0.35688866228040117,
           0.29988574005580493,
           0.2138388894952643,
           0.037782968064595135,
           0.043013964380055336,
           0.8700551931092828,
           0.6783931464059073,
           0.6605324154364861,
           0.614642818934886,
           0.8492191446941049,
           0.48026692566562745,
           0.8704108285583003,
           0.35944502618223917,
           0.9267075043390905,
           0.6986569800812401,
           0.25717713602442727,
           0.5640849216886251,
           0.5330305614882556,
           0.13789882173033396,
           0.5912429057506141,
           0.31478562371695795,
           0.05234876680960243,
           0.9486561577065649,
           0.6414903690642878,
           0.876918931870847
          ],
          [
           0.6760560050132531,
           0.35698369214011294,
           0.5126880723288114,
           0.6757467603471771,
           0.9602523252014376,
           0.2536694591216965,
           0.8749770586241177,
           0.9240778052942694,
           0.6704155146589565,
           0.9312666274013378,
           0.3978785874773685,
           0.9530161760404428,
           0.7027828771659749,
           0.0420057674188119,
           0.9068728318190528,
           0.48447280903319256,
           0.46032698477783285,
           0.5664666059796343,
           0.14938454677122792,
           0.46916604856739863,
           0.8311272167177457,
           0.015482459137515336,
           0.2729171603243713,
           0.00245458644384422,
           0.41571130914984833,
           0.7283155104937347,
           0.7987718291146285,
           0.9451897611270066,
           0.6085046129707865,
           0.25462686665289547,
           0.924147949136699,
           0.7753157538803761
          ],
          [
           0.5744284830031445,
           0.695640215718936,
           0.9243163550074291,
           0.7123940284729217,
           0.368374507584734,
           0.7130282022890967,
           0.04027816273538787,
           0.38641556183058123,
           0.4063230318455793,
           0.16683823442083467,
           0.023085480551770177,
           0.13338123663774282,
           0.6546214957970551,
           0.8022888163636875,
           0.9882034927269742,
           0.3463635031084943,
           0.5993792222611017,
           0.9371449668151219,
           0.16704178133815262,
           0.7176455863427427,
           0.7549787331491632,
           0.08897553586933837,
           0.861249385183065,
           0.8131050471108439,
           0.033403006577434446,
           0.09108441488005148,
           0.04912689389185232,
           0.3347435317993622,
           0.5092889906799262,
           0.5323477279546288,
           0.26766675976944265,
           0.9115968865602742
          ],
          [
           0.3682627898719132,
           0.0455501559653525,
           0.30022711154138637,
           0.5311094225441555,
           0.40822182258823203,
           0.27384251909925916,
           0.13132324976431742,
           0.8191645000962298,
           0.9961452421241919,
           0.32954213352388206,
           0.3816210441766039,
           0.618037524676957,
           0.7184414747355413,
           0.39202953480359126,
           0.9049295169818152,
           0.5600039892289184,
           0.450390076405931,
           0.6466727531599051,
           0.9528038482491732,
           0.7945522944217055,
           0.04001313053512434,
           0.33230991073995964,
           0.4705446849512227,
           0.31451757220910526,
           0.7001875608304565,
           0.826269149862581,
           0.7313450951852716,
           0.9893332868282753,
           0.2725476478930291,
           0.8749894950244215,
           0.7666226651744862,
           0.3621787575581461
          ],
          [
           0.7341245436569687,
           0.10407595641824696,
           0.7893334823405523,
           0.5323306025871026,
           0.29229017270925317,
           0.6557773017841801,
           0.641619998714409,
           0.2094862227195997,
           0.030397414811526136,
           0.4336225869016739,
           0.5695118693444212,
           0.8766052783705984,
           0.9282167956475944,
           0.5288052181567664,
           0.7538034837685449,
           0.43930327232799693,
           0.746082156572893,
           0.20480152493916692,
           0.3710647348035314,
           0.6342279988136148,
           0.01815796560707883,
           0.722461310338954,
           0.8355355012681668,
           0.39914166109395144,
           0.4479424171771643,
           0.851282212216531,
           0.7756546353260334,
           0.288149489033375,
           0.32397610656153897,
           0.6788782323905966,
           0.5631980924481612,
           0.16222957109649694
          ],
          [
           0.3099299092291664,
           0.8999832768786541,
           0.6881744367222634,
           0.9859743176855195,
           0.7670125299807694,
           0.9419744321435902,
           0.2161885738704754,
           0.7714848748169257,
           0.02021752014779743,
           0.6707600217115339,
           0.46928227812024137,
           0.34676007192006864,
           0.8624043522930891,
           0.8542676926575307,
           0.022301704898643582,
           0.609505122449431,
           0.3678322243209564,
           0.41566100150044916,
           0.832040739218776,
           0.3098397715276783,
           0.9430488106376201,
           0.17963382637214076,
           0.6627224233681778,
           0.6721050670137647,
           0.2521951614279182,
           0.324750608967202,
           0.8347984925799404,
           0.7618052549549524,
           0.32909588031475956,
           0.5339565469349339,
           0.06168029625309546,
           0.20874588239862923
          ],
          [
           0.4858205588603991,
           0.0859737352792116,
           0.8433323548919375,
           0.7180062101076479,
           0.9436336706484948,
           0.6934669059640272,
           0.9404013722621856,
           0.554512555690965,
           0.6002186110619694,
           0.9769710546262609,
           0.6421291468642604,
           0.0307865688607466,
           0.7238027766305233,
           0.9054686921374157,
           0.7955802497943266,
           0.5838332726254226,
           0.6713035130935163,
           0.9901917892516717,
           0.09066208850933832,
           0.6672448286332395,
           0.2833976945705938,
           0.6400903965861701,
           0.6076235758839388,
           0.15345683210816208,
           0.20674664574023915,
           0.6216295780432135,
           0.12822994730377413,
           0.26518087513032285,
           0.8352455477380024,
           0.3270915060016386,
           0.4880601562696629,
           0.9411403351458403
          ],
          [
           0.2271490888369463,
           0.3896260173580104,
           0.6064577755435456,
           0.7553389295039722,
           0.9016533867127051,
           0.9154729875735151,
           0.776640074372623,
           0.22833083659331044,
           0.024809330042565803,
           0.3837739303556238,
           0.14154885098782333,
           0.7103876474382981,
           0.6611305868257168,
           0.04397164162145484,
           0.8365937791309511,
           0.24874326629118226,
           0.4322270754910422,
           0.6679337354557424,
           0.4294187868522533,
           0.4412878027999434,
           0.06562799533574037,
           0.4014435492600038,
           0.7648478932199835,
           0.9151763371865977,
           0.41349713706337177,
           0.42358582687907886,
           0.7026271063236521,
           0.9427720011052766,
           0.2670609402393602,
           0.44014420653793684,
           0.7959732435523011,
           0.6096935693740385
          ],
          [
           0.11058634396395473,
           0.6277327355622657,
           0.1867462845973269,
           0.5102159340784042,
           0.5291032676604385,
           0.8762033622249848,
           0.46249427401243814,
           0.2794424222358942,
           0.23096634821603157,
           0.8742518766843361,
           0.1710108544182284,
           0.42586856088314373,
           0.187173114926947,
           0.7733040401143754,
           0.474372639974619,
           0.35114369055681205,
           0.3610996406264668,
           0.8522142067229794,
           0.5537739542944381,
           0.7178678511312636,
           0.8970385162506845,
           0.901741676040642,
           0.32850905433786315,
           0.9524512631463853,
           0.024875882014605444,
           0.37683556101616567,
           0.8957988575088416,
           0.2746368798169829,
           0.27308145032131836,
           0.3026222850818887,
           0.6123133848469222,
           0.4383327756143538
          ],
          [
           0.7267348363533426,
           0.8949106425646658,
           0.6741993749428606,
           0.2044667201975755,
           0.9326819023605022,
           0.2644928733474785,
           0.14989429532815812,
           0.0899672788609609,
           0.5633837406661656,
           0.1137624624806518,
           0.13877588411263075,
           0.30003048059549664,
           0.28165300968446383,
           0.6042395103321423,
           0.8167452794726815,
           0.7613496562028924,
           0.26248445471647674,
           0.24531049798597993,
           0.9657915301069676,
           0.008236241591960125,
           0.8797205330602158,
           0.19972851912240497,
           0.9472843230897678,
           0.3423072848275197,
           0.4403517738932523,
           0.707120613944381,
           0.5876690514732603,
           0.3179393297068228,
           0.5538309158678235,
           0.7307068843628862,
           0.042334945902492094,
           0.011199305255704117
          ],
          [
           0.4580669390728913,
           0.1318366178035142,
           0.6643442914647144,
           0.21405245622743418,
           0.43285110679567096,
           0.19767093687426895,
           0.5484835857491245,
           0.1160534593845689,
           0.02310685278748026,
           0.051131638106697186,
           0.9542584415153099,
           0.14228621861093582,
           0.7084782531368352,
           0.06792620422282625,
           0.10816035223518217,
           0.5088762514093347,
           0.46487093015434366,
           0.9515803094398696,
           0.9448354530207373,
           0.7796086425424651,
           0.6021018301273497,
           0.454960317393011,
           0.35617853432842106,
           0.9470875469755554,
           0.6029088114246856,
           0.5790725276859945,
           0.23190112176891486,
           0.04669781788511307,
           0.9451885797595444,
           0.3137352588446539,
           0.4425890233244587,
           0.11463994358570684
          ],
          [
           0.836924329909292,
           0.027631832855930627,
           0.8339907620990965,
           0.1402850127879668,
           0.8865641126311521,
           0.7297726373361574,
           0.1646702625073051,
           0.5658179928594681,
           0.31265631435521946,
           0.17823309891158345,
           0.8591821994111084,
           0.4035227665072294,
           0.3985437143653825,
           0.16988667480662,
           0.3830656760857787,
           0.8716168463288502,
           0.3631287104896359,
           0.9516035624997881,
           0.9463088992083875,
           0.14489865930734602,
           0.17731125352264487,
           0.8626740703318891,
           0.3927609189247192,
           0.004373982283009337,
           0.273871819705371,
           0.59762899319556,
           0.799265965959968,
           0.13338861709325955,
           0.11054136441673534,
           0.9220926535723316,
           0.7511483678225827,
           0.5897796007780784
          ],
          [
           0.769186789995928,
           0.42885436130663845,
           0.7584557473091266,
           0.37180299127453575,
           0.24409457249260236,
           0.7290134212929686,
           0.4196722921572683,
           0.9813771043261948,
           0.349485182308101,
           0.9217274205310659,
           0.9329625485670795,
           0.24185294706474614,
           0.7982211815880134,
           0.43307450514456514,
           0.9175247272303481,
           0.4501242726352388,
           0.7443037173373661,
           0.46696740916379786,
           0.22780075571285618,
           0.1993501289446863,
           0.42543119425634557,
           0.7554946570142149,
           0.6050714851807668,
           0.6886292899005433,
           0.28232635073194245,
           0.4814353459576055,
           0.044395264969327,
           0.8175324159581207,
           0.9898921622398746,
           0.4068790626246709,
           0.01096365313154335,
           0.16979263955094737
          ],
          [
           0.6525268777504188,
           0.6120793182038592,
           0.7878647195855439,
           0.25388401096106816,
           0.763631915547134,
           0.6879840215236698,
           0.3228144977138433,
           0.545488148056962,
           0.14727380849832672,
           0.45256450343558263,
           0.881197339555641,
           0.4211913798253908,
           0.839566706475422,
           0.5902533652596944,
           0.19187671310235677,
           0.5811062446978964,
           0.5059833291570635,
           0.398641335196384,
           0.11963043951607033,
           0.4167086638472298,
           0.07276237623962711,
           0.09876905139875125,
           0.415916532932716,
           0.3053814819684637,
           0.9255443258622235,
           0.37570580538027054,
           0.7578581220721001,
           0.5302475263662427,
           0.7040856686423355,
           0.2601159830153992,
           0.9419049728383291,
           0.530088496914424
          ],
          [
           0.8313240712852497,
           0.3650456934761135,
           0.10021134905052453,
           0.6737116477208488,
           0.007759648337424485,
           0.4752929765655083,
           0.19280190266645925,
           0.6273755044353622,
           0.9794198731378522,
           0.46440290632064596,
           0.8174982565256667,
           0.507784186951121,
           0.4958400311040241,
           0.9304234931787778,
           0.8899658687466815,
           0.7858004651879744,
           0.2962557533167841,
           0.5450084157239405,
           0.223897233305685,
           0.44391669804653977,
           0.4842130657597906,
           0.8316400401693309,
           0.8960283653249931,
           0.41462006239647786,
           0.017704445073237207,
           0.8617738397893546,
           0.1742786785013607,
           0.6218819638903935,
           0.024970900434131194,
           0.39950647526056426,
           0.9859603021153498,
           0.1006936011038031
          ],
          [
           0.4236931519996423,
           0.30714995018995217,
           0.9050881233882643,
           0.8693401079073552,
           0.23769876030622883,
           0.08118778705043117,
           0.6271383940611175,
           0.33636871188370976,
           0.6720843906060631,
           0.032119756067814476,
           0.13339923517748942,
           0.6863722327726434,
           0.21237065530249777,
           0.8575876757624016,
           0.05859088771013543,
           0.21548198278557462,
           0.9985602484850686,
           0.43307610258679263,
           0.7029656635446435,
           0.18266304885701368,
           0.6098687349855377,
           0.7261060683694185,
           0.31447663586651053,
           0.8288971119758778,
           0.6034175784722833,
           0.3891230096150302,
           0.5576423933431586,
           0.5767608474359243,
           0.16553529269386602,
           0.40273236986696614,
           0.3434305880194931,
           0.40090272257912607
          ],
          [
           0.7611105884852579,
           0.48253840746667265,
           0.9403161532392643,
           0.2936764133584362,
           0.415703578284929,
           0.7869568104790414,
           0.5460245933207503,
           0.5470281464244477,
           0.053340163005183516,
           0.3985996627184558,
           0.2707337324217325,
           0.9993351228311154,
           0.30835507063231027,
           0.8844965347938635,
           0.6762337350404775,
           0.34091640919209043,
           0.5435343783741237,
           0.8405358799491938,
           0.8833682980309119,
           0.16039387500614521,
           0.3395731412081696,
           0.33522318021357167,
           0.04204479607594469,
           0.5982377598518965,
           0.854820052992188,
           0.3815743878255178,
           0.740035944984177,
           0.6277004136007399,
           0.3756487354930008,
           0.14105979949229708,
           0.7093238527759673,
           0.8545651689412405
          ],
          [
           0.6858544924014919,
           0.017878484034818065,
           0.21623289439099125,
           0.06947998488353191,
           0.5703860995762268,
           0.7564776788404124,
           0.11057918706865943,
           0.8383378205933852,
           0.5555089783954832,
           0.6899690121417249,
           0.9714018486086462,
           0.08368098824769732,
           0.9012240229777893,
           0.1261026959874093,
           0.39295880663668226,
           0.8514386963311144,
           0.9062542367378682,
           0.5063716735451453,
           0.5941046382754251,
           0.7081473345985572,
           0.8327586684527142,
           0.12151116953766616,
           0.8100693082292276,
           0.48127615051161676,
           0.450623425108169,
           0.42389975199699825,
           0.5092115852460426,
           0.9450505533946035,
           0.5482037727921516,
           0.9531775382631392,
           0.1802901306156406,
           0.7241359788326331
          ],
          [
           0.8122395386087472,
           0.6791288313348619,
           0.6069222802265404,
           0.5648127810861823,
           0.860930482578696,
           0.8216465971645001,
           0.12228872118059952,
           0.8485876570308781,
           0.4140686194404425,
           0.2536968299958108,
           0.8697685680139259,
           0.43202479963374163,
           0.8083646901768167,
           0.2634036119558445,
           0.003929321422217802,
           0.4954591929029444,
           0.10022825664288426,
           0.7543759555249097,
           0.27607513606941037,
           0.4436456466034787,
           0.08703356509155424,
           0.28665924844725266,
           0.781490243258572,
           0.15158791190231946,
           0.6471595611269574,
           0.9174258528045012,
           0.6798367597577203,
           0.8110216892922268,
           0.1089716293039158,
           0.25073182600205446,
           0.894538852240591,
           0.7151056136180892
          ]
         ]
        },
        {
         "colorscale": [
          [
           0,
           "rgb(0,0,131)"
          ],
          [
           0.2,
           "rgb(0,60,170)"
          ],
          [
           0.4,
           "rgb(5,255,255)"
          ],
          [
           0.6,
           "rgb(255,255,0)"
          ],
          [
           0.8,
           "rgb(250,0,0)"
          ],
          [
           1,
           "rgb(128,0,0)"
          ]
         ],
         "showscale": false,
         "type": "heatmap",
         "xaxis": "x4",
         "yaxis": "y4",
         "z": [
          [
           0.6395538263773112,
           0.6637667361217,
           0.4142005543046434,
           0.04455663161765322,
           0.784441542070729,
           0.6787132362153538,
           0.4728044641127247,
           0.8997596153682574,
           0.33615966498509886,
           0.2943217442312359,
           0.8727963250794428,
           0.7969876547589855,
           0.5149798106483447,
           0.13073473945784997,
           0.21507147146505246,
           0.6562279904088066,
           0.38504123784041167,
           0.8364731916659712,
           0.9499550093322041,
           0.8056369252749183,
           0.37754542299555716,
           0.7886864292314241,
           0.35144167347068345,
           0.1671000877656339,
           0.033393204865857395,
           0.38571671276102004,
           0.9035593036972819,
           0.2389865877556765,
           0.206513164929784,
           0.9698207852410403,
           0.02500411285059212,
           0.7857821503937543
          ],
          [
           0.32136995574087035,
           0.037487956869659333,
           0.9178025402095836,
           0.1396423302095836,
           0.5517792837256954,
           0.2740542074295478,
           0.06519280218469103,
           0.04992248566337909,
           0.11555669883633879,
           0.07136701388938005,
           0.7605581155199229,
           0.48556620228342917,
           0.3428920913489797,
           0.41836891013200717,
           0.9289467355726233,
           0.9107518127381472,
           0.7156764801225769,
           0.8846823774216878,
           0.3196480275876248,
           0.38110932600828284,
           0.613712181854228,
           0.6236259472972642,
           0.48169983801234095,
           0.40065784843795327,
           0.9861803116086951,
           0.8211236261177244,
           0.4349801978880452,
           0.7272924772395685,
           0.2695616932524595,
           0.10016932623732988,
           0.35243102555274064,
           0.4029728001233942
          ],
          [
           0.0165371245606708,
           0.814792001635896,
           0.3591934023891815,
           0.580418165780147,
           0.07396318727095597,
           0.17499682875058398,
           0.88969372532756,
           0.6086875278828008,
           0.9502840501704856,
           0.9987500343913169,
           0.3718601153330944,
           0.2988030640832746,
           0.8583560551590967,
           0.9986114270374542,
           0.6296412342324573,
           0.7951407225115223,
           0.7817458588152745,
           0.35533970821954697,
           0.5742703802570872,
           0.8330569412642136,
           0.6881138762610555,
           0.02116381398203826,
           0.3367056688975335,
           0.14447569659460535,
           0.2329722120780391,
           0.9054894774913257,
           0.03689328891076815,
           0.21980071196192374,
           0.30956935223823145,
           0.6168840719663948,
           0.5341016900858655,
           0.2182694828533861
          ],
          [
           0.16424106722315446,
           0.2367980345961188,
           0.5025296267016556,
           0.27117778571120343,
           0.9476025016077222,
           0.46386522142884756,
           0.058796016544637064,
           0.7292664058366334,
           0.3288452882089896,
           0.6534889320582475,
           0.279594370523232,
           0.5707437417333199,
           0.7721525048074647,
           0.928008741774554,
           0.26112714443307705,
           0.33485695099898116,
           0.4642664202859397,
           0.9271748377359889,
           0.9013868568106571,
           0.08987828010063803,
           0.13192982575381085,
           0.49550917733063826,
           0.10661927280542349,
           0.34558087334869747,
           0.14838537821747766,
           0.6360403551318858,
           0.9494954317391617,
           0.9967337702943815,
           0.3752411324969148,
           0.5990126371146123,
           0.8562676535240813,
           0.11746207279638399
          ],
          [
           0.689564411051965,
           0.40884366172506825,
           0.20614616028016408,
           0.402753618747442,
           0.07596028696491686,
           0.6954071485893057,
           0.2527426687484531,
           0.311405645044878,
           0.12108129824146274,
           0.8646591138898917,
           0.4934442792827386,
           0.5721468777864003,
           0.5694326830948546,
           0.41049311454134174,
           0.19252991543813947,
           0.7451327484983999,
           0.12705626535767434,
           0.1038737902788105,
           0.7101450375965034,
           0.20883702045198382,
           0.30677275135283233,
           0.47522746700174023,
           0.4493513167295462,
           0.7085791250649992,
           0.623431793443361,
           0.6443961622818657,
           0.7140543306554573,
           0.29261272742346534,
           0.32233331180047364,
           0.4379977478955541,
           0.3074621730335261,
           0.9849378689708634
          ],
          [
           0.8140519264214297,
           0.16465468825602958,
           0.005594155881869511,
           0.04278326824726786,
           0.24406345104292526,
           0.11429128583685655,
           0.5333381148925721,
           0.8579952227273586,
           0.7367502209132274,
           0.2156090630821904,
           0.39929925602578586,
           0.5078942095312776,
           0.8102058495033355,
           0.8391216031061648,
           0.909718311907776,
           0.5092452505028752,
           0.694274746435863,
           0.11180037123393716,
           0.5652889599539821,
           0.24869180947113512,
           0.4317168850266111,
           0.6340505083067194,
           0.2569859378537811,
           0.05218505779676108,
           0.010233856408757513,
           0.022159535544521547,
           0.008349737513769662,
           0.11035505655787547,
           0.23948871457012988,
           0.22122151418229918,
           0.9867965941798967,
           0.3060061052089432
          ],
          [
           0.1274207833593991,
           0.545562544167758,
           0.8579574553975083,
           0.6780603767876752,
           0.2960820891354503,
           0.561616159791455,
           0.7148559742004091,
           0.7281044923677423,
           0.6665384552976888,
           0.870810424775618,
           0.8701054583441044,
           0.5789365594070033,
           0.4298563691112123,
           0.6415702955650998,
           0.8182120013704631,
           0.005652104841184724,
           0.9919970090148511,
           0.18289377232919923,
           0.4702489856599762,
           0.8720297348428667,
           0.22504039904419937,
           0.4767952239003832,
           0.13258218018117918,
           0.3950763253881926,
           0.17713545479300252,
           0.363627748771157,
           0.373464216792722,
           0.9931707895983327,
           0.9948130293037722,
           0.11478627866061242,
           0.7259687793283472,
           0.051745479669101146
          ],
          [
           0.030192015337188627,
           0.10533389424496431,
           0.965485657007934,
           0.9408635478946974,
           0.19392782028068045,
           0.16167233555371152,
           0.24053508651594702,
           0.5155469940751422,
           0.5697046320354099,
           0.22159343043944735,
           0.7566227880899452,
           0.30955316940265076,
           0.9221313255294104,
           0.6567227064567306,
           0.4363511943036117,
           0.7899120017028454,
           0.8179146260466648,
           0.29048160560894365,
           0.33971454383608435,
           0.9359551537286034,
           0.16474103836327192,
           0.0421504169629342,
           0.4540553226095492,
           0.8012099002436289,
           0.7716681063107458,
           0.9195306289128325,
           0.5332006643690402,
           0.10006467156653331,
           0.5886889743360161,
           0.7783956143532116,
           0.0933281202698264,
           0.17265740109758976
          ],
          [
           0.012290661155670901,
           0.5936525794468104,
           0.8867343919459044,
           0.6706633160020995,
           0.982040087590982,
           0.06303365249976156,
           0.9030010851514962,
           0.8140682873866807,
           0.31424152049950493,
           0.9735265518372518,
           0.28793774817141504,
           0.8893047238282185,
           0.8807485770741894,
           0.7576576166029725,
           0.5634704738128519,
           0.12000274961688806,
           0.5319717344964983,
           0.35679625565493456,
           0.7922170331553517,
           0.7581292064968449,
           0.9106125073726052,
           0.014830162431707872,
           0.8091032168230461,
           0.9384620531246688,
           0.7893004491081501,
           0.1301944598703667,
           0.08127910484088774,
           0.02084523980770081,
           0.628745225828071,
           0.6296726518598873,
           0.9869137142182123,
           0.39804317410409573
          ],
          [
           0.33190628489749674,
           0.6244249271843925,
           0.825608672507594,
           0.9367739495230019,
           0.8031241661790386,
           0.42667398061580475,
           0.6349142353120641,
           0.856299326716117,
           0.49060968831173946,
           0.2166866437053927,
           0.16972343974787296,
           0.0001577445780567288,
           0.7182379949812843,
           0.1110972088459905,
           0.24383909969594042,
           0.29787633152279336,
           0.5603798601367683,
           0.39795727729576924,
           0.6746739920231618,
           0.05563865932870271,
           0.12393919426443945,
           0.4992115035332667,
           0.3369647878468298,
           0.2958133627513597,
           0.06702807903752273,
           0.8957191747480014,
           0.6918185861250508,
           0.12161815681964938,
           0.06504595773714061,
           0.974872533431243,
           0.6811725504395049,
           0.4174560710937415
          ],
          [
           0.7017310407557849,
           0.7563317864801591,
           0.7799622023887793,
           0.47787730565305764,
           0.429882758124848,
           0.01102808426890034,
           0.926557115141838,
           0.6033078783889431,
           0.2031539371899681,
           0.9196034194214366,
           0.9149319017702964,
           0.9891841643660959,
           0.8740565631389788,
           0.9977843878200647,
           0.24468618812327259,
           0.8422495851992341,
           0.8230283087957645,
           0.23094035922073375,
           0.09843754900099078,
           0.9794205136775996,
           0.29602455152061036,
           0.8708917904678061,
           0.0041271546746038945,
           0.021024807219602204,
           0.4658713086963684,
           0.23871468393506357,
           0.6898412834359643,
           0.5655643255679543,
           0.07748579745049144,
           0.16262829631571707,
           0.3880492700584143,
           0.18560406395543316
          ],
          [
           0.7922223472439286,
           0.41607023555328004,
           0.09343186684249927,
           0.48434290227212484,
           0.09083818106141417,
           0.12893730541981718,
           0.2396098320282053,
           0.8595277052474898,
           0.9246125323329719,
           0.8262577293320691,
           0.33407721741784724,
           0.27244644110883165,
           0.5491556907902392,
           0.7218531605331123,
           0.9933727881601748,
           0.13157071187892622,
           0.049291999023804434,
           0.694355888995271,
           0.8322257835039055,
           0.8463487798664232,
           0.6784635490771607,
           0.9540158041191871,
           0.5110047635445869,
           0.9138147983362125,
           0.967812136991523,
           0.8471574570031077,
           0.3097585632586206,
           0.19621565117029527,
           0.5481200649818184,
           0.45301475038018846,
           0.877758342192733,
           0.10003167106715372
          ],
          [
           0.2577400613115186,
           0.7517989445187085,
           0.09498664497731213,
           0.3207644140217002,
           0.38715539405398314,
           0.62259379656269,
           0.15813264571936458,
           0.8606044903497095,
           0.44754223546627425,
           0.9170217118805565,
           0.4678699136339316,
           0.27504025894073336,
           0.14182882868767488,
           0.003745094711284813,
           0.5321574849848356,
           0.10715669692692342,
           0.3917277636311782,
           0.5892717612370867,
           0.2756858969027003,
           0.17522429236611525,
           0.7747216226093416,
           0.9467911722816206,
           0.100440417861966,
           0.15559032438500786,
           0.9600126572527187,
           0.03778422181224628,
           0.9776323365504722,
           0.004644483084988771,
           0.8736686556513313,
           0.3073251809877495,
           0.9385888581772965,
           0.31694528863558546
          ],
          [
           0.654306321534056,
           0.08003256976593665,
           0.242329811453739,
           0.7736793464792507,
           0.5286858536788197,
           0.9279690617870447,
           0.4287514083413543,
           0.8698123658139231,
           0.4489554374782375,
           0.9792482787019853,
           0.9598343813988768,
           0.3291367055560803,
           0.8859236704168032,
           0.8476113742156492,
           0.21068039732756283,
           0.6242904007832697,
           0.07268231558981486,
           0.8367107205834616,
           0.17454588350349654,
           0.07081470138576451,
           0.4002190955388112,
           0.5769221385996435,
           0.854916958559771,
           0.9742425255217365,
           0.43949251256986366,
           0.06044692298527021,
           0.7491155790258707,
           0.5651732562239374,
           0.44789134484446314,
           0.30926887879218967,
           0.5023985278435357,
           0.33867960445703094
          ],
          [
           0.7570118677473603,
           0.5438936964926411,
           0.876847774154112,
           0.5435439146494421,
           0.23826241333993003,
           0.8510918822321445,
           0.5572190449300439,
           0.20684103814356125,
           0.6235078099562221,
           0.35771676494242755,
           0.8444056122920658,
           0.4532997386465428,
           0.7264413581074167,
           0.09553620763623716,
           0.3960243463023462,
           0.9832414364723987,
           0.8084602894771483,
           0.15994080236692865,
           0.2777640494772551,
           0.3298158088563611,
           0.6503655604954457,
           0.7569947594896556,
           0.7495266088079098,
           0.5098740563064028,
           0.8108205378381512,
           0.43707808275747506,
           0.1238805652955619,
           0.5644418416538133,
           0.9523013846011067,
           0.7929936513925113,
           0.5787006476922424,
           0.6468056603490969
          ],
          [
           0.9305620270355727,
           0.4283427944349605,
           0.33139413894263736,
           0.977241565000449,
           0.8634431335103334,
           0.3230435846186024,
           0.4637805973609228,
           0.41507812900779906,
           0.14909567867143392,
           0.9578193238132591,
           0.4043124312197588,
           0.875329082637908,
           0.18935622768066507,
           0.5478708106372198,
           0.02396138512426982,
           0.7642204838423086,
           0.5809138982462784,
           0.6255895834697527,
           0.05172088255465346,
           0.2110383302086154,
           0.07433087235358016,
           0.28891431580381177,
           0.627439007682151,
           0.5661859843173752,
           0.6121498216133903,
           0.5492512713778943,
           0.27302879567585936,
           0.24450749734442523,
           0.13705968353658127,
           0.8490708749034921,
           0.6164793585412445,
           0.18651101250405977
          ],
          [
           0.17720937982123952,
           0.8730356015261367,
           0.7427308637633193,
           0.6593990799053714,
           0.4068641075392998,
           0.26197556427851754,
           0.9794507631128238,
           0.7972395750228002,
           0.3017792231362765,
           0.8475647962784947,
           0.7589319486146815,
           0.29708054987799837,
           0.4265528542416397,
           0.18595344539102665,
           0.11105244437810935,
           0.7227620328396968,
           0.2675118573538666,
           0.8200593657462536,
           0.9956087115144261,
           0.07661981392964867,
           0.47303512508370027,
           0.8020625593108031,
           0.7889508965412335,
           0.7599971583309685,
           0.34899493530191095,
           0.4538532556850523,
           0.5949683573414702,
           0.9739405835732572,
           0.3275472709384929,
           0.9231438877168577,
           0.2693569181804941,
           0.9890744654737046
          ],
          [
           0.6702636868275917,
           0.46351148035855094,
           0.6133904280636049,
           0.2725311690402068,
           0.2741738575114666,
           0.11355454384349384,
           0.11405029770539876,
           0.34767174146891133,
           0.7628554778963716,
           0.6079711675981625,
           0.10258456033102081,
           0.852236524975911,
           0.6013676269900664,
           0.9608555767847797,
           0.6701854674112075,
           0.175174863704181,
           0.47378336230782225,
           0.6484975975472042,
           0.028264701049977692,
           0.014910264154807895,
           0.1294030005985679,
           0.25166443504547076,
           0.42954912352067554,
           0.4874404737597884,
           0.13802760893789678,
           0.6733915791158308,
           0.5961380616965348,
           0.2944640988411602,
           0.013659883435292008,
           0.07764791535329074,
           0.3916947755108394,
           0.15397435116568392
          ],
          [
           0.37681960614797083,
           0.6281826045103551,
           0.5472374278792835,
           0.23117588313739423,
           0.3438224912587524,
           0.6140311984486506,
           0.8608550280434487,
           0.7532134387388773,
           0.5534000268334149,
           0.3622929983164862,
           0.36505127754180544,
           0.8794173102643961,
           0.0392435760405464,
           0.987982644420261,
           0.6643754108515623,
           0.6811376990723905,
           0.037997837304742155,
           0.6055292748912722,
           0.484778060090447,
           0.10577890689406699,
           0.2779220107693591,
           0.8903144562136512,
           0.5499884158659529,
           0.41341657517390873,
           0.07268215584081095,
           0.7141215274023056,
           0.7028508233960326,
           0.6140436069725635,
           0.5102626462206492,
           0.4337844022073727,
           0.5932710929879923,
           0.2333954517284067
          ],
          [
           0.9412590641776477,
           0.5887945291802296,
           0.31119244435437654,
           0.4496798508851573,
           0.8056847888768923,
           0.16161606073029744,
           0.2928356224602604,
           0.6795080227365554,
           0.3154892064822239,
           0.792501681861466,
           0.13045348717736083,
           0.7626861704546085,
           0.06835171485056624,
           0.012592612667494785,
           0.8982235188321621,
           0.5813392169322986,
           0.3518268970868115,
           0.2325946369638504,
           0.6168857832608161,
           0.5090021835367382,
           0.9915977755299852,
           0.9832159866537458,
           0.6350245661416096,
           0.4428705061058905,
           0.4911409691346621,
           0.6824790662368619,
           0.10157454423538137,
           0.3283520738107182,
           0.07527224100360386,
           0.07336075951691956,
           0.19583924189423374,
           0.4852532545932269
          ],
          [
           0.7847743211627893,
           0.48549589116587255,
           0.33547661056086975,
           0.08235299033675814,
           0.5502955231831296,
           0.27126858648317675,
           0.6149341779171474,
           0.9771877391324183,
           0.11131432147755016,
           0.21212539872193992,
           0.47309453809937474,
           0.9686138153459295,
           0.7718097762699956,
           0.8982291931628301,
           0.3337148484757929,
           0.9920384737785946,
           0.1028328160641574,
           0.05297290604610083,
           0.8556026270540281,
           0.9272648702069862,
           0.09058535754610175,
           0.1134274267458415,
           0.033174157755773814,
           0.1045075626427241,
           0.20941981680028088,
           0.970076618910001,
           0.6678602222396804,
           0.7785530255185421,
           0.7761394036915221,
           0.5350737497792146,
           0.7974889777130172,
           0.5958075323899696
          ],
          [
           0.3145460976033576,
           0.5611101087684007,
           0.5335085861345135,
           0.8234530537593207,
           0.981727217381659,
           0.41104256542093054,
           0.7633906784413597,
           0.09976300403813354,
           0.7768313694482886,
           0.3714169119932321,
           0.039390162889686664,
           0.3632461785621772,
           0.6106427509216448,
           0.11925016768146657,
           0.9240344924302546,
           0.07767241327283858,
           0.9300067198331662,
           0.7071375179356865,
           0.3297121754142036,
           0.3907503477090932,
           0.7408093647327442,
           0.6014711008812074,
           0.6716429214549452,
           0.38916461651348,
           0.487813481807599,
           0.9898674840378934,
           0.2139228704997177,
           0.4178561865221314,
           0.2918231875739673,
           0.7651115104398498,
           0.7640126256657207,
           0.2924454609973959
          ],
          [
           0.0813903166329829,
           0.011432676672204045,
           0.4274505332424855,
           0.4103375943357709,
           0.9883898786398629,
           0.4698020756976796,
           0.25641836957542063,
           0.8912294410314674,
           0.4910679496535785,
           0.5991756352105778,
           0.09566871042821268,
           0.38291640732977406,
           0.9442236744737867,
           0.5895053841754254,
           0.3445018551424617,
           0.6256671806315931,
           0.9104110895781161,
           0.27399060047259005,
           0.5051167184706744,
           0.9586906539117553,
           0.17239614329845265,
           0.7196639255967116,
           0.6144810082029823,
           0.6796751311406348,
           0.35121963066756967,
           0.31387937348376493,
           0.6842096705883705,
           0.21554328510454535,
           0.4196547448590051,
           0.188174646052918,
           0.008304841123329743,
           0.9700573600380694
          ],
          [
           0.43170297865641905,
           0.9693496144198253,
           0.1403235197678261,
           0.587366779457486,
           0.2009740327912396,
           0.7900741269632747,
           0.7837029887609752,
           0.1126071490393118,
           0.9120644528763892,
           0.19462964720322462,
           0.6129773415893603,
           0.985633620087704,
           0.8823965347663638,
           0.956563928561169,
           0.34259877121811944,
           0.10557564221946336,
           0.1883468732894501,
           0.5004948950766138,
           0.7932296782733221,
           0.15015364418387522,
           0.6597315322607571,
           0.32357760403951186,
           0.3412020723921535,
           0.6619177301579263,
           0.4669994195332202,
           0.8120332930259939,
           0.15591850966282705,
           0.7899482697670385,
           0.06423524805742087,
           0.194053880245605,
           0.6561497145031654,
           0.8549256565110712
          ],
          [
           0.25267962773934904,
           0.32719160582891293,
           0.53712074828674,
           0.21157280648930232,
           0.8111562615875056,
           0.7736366450057608,
           0.1452917119657816,
           0.4638297318166321,
           0.7748277666546214,
           0.3373295311034148,
           0.6331068227177317,
           0.05021312145757273,
           0.608688760529318,
           0.152652980000607,
           0.8305833251144513,
           0.35544946358047846,
           0.2815538627281957,
           0.840888976711485,
           0.050144023071810206,
           0.3966087993343448,
           0.3700035405750314,
           0.28480037424955085,
           0.911754332001477,
           0.7509283935167222,
           0.06392316419193877,
           0.7146874494349541,
           0.527299133128794,
           0.9008678944015792,
           0.31294561734835846,
           0.5741619996095829,
           0.500755274740986,
           0.48956090622760573
          ],
          [
           0.45610539951721263,
           0.20562947553228128,
           0.7557099224923928,
           0.4513360327392887,
           0.9585162750026057,
           0.2608084271927763,
           0.6827438396270411,
           0.9407170796391084,
           0.6634583230160925,
           0.8712729076173946,
           0.8274809597570061,
           0.36011771548900384,
           0.6001239399394965,
           0.1562613398113556,
           0.5355258826955995,
           0.2304219718143372,
           0.7437368149524456,
           0.5280584218921246,
           0.4112273626316605,
           0.26879709616697756,
           0.9986984818412868,
           0.07171052088493268,
           0.04356068057242002,
           0.21725740049386455,
           0.9710724586278197,
           0.9792381683199844,
           0.654927734772136,
           0.8801066672064047,
           0.2139617308407954,
           0.9720420941766236,
           0.14278485013956466,
           0.10112518818165828
          ],
          [
           0.1122115392472729,
           0.5731279232725647,
           0.7809744007180524,
           0.3666671778746331,
           0.9778959877861265,
           0.43442013811832947,
           0.15044855077321628,
           0.4659667481861367,
           0.6790371654224399,
           0.8322257805043787,
           0.4587682899565929,
           0.5936068260491675,
           0.26734471215885336,
           0.645916526405514,
           0.9859719439503437,
           0.04905357258779386,
           0.8865306707051678,
           0.5622825027675228,
           0.25209865956229993,
           0.9548897100092579,
           0.4833543030588989,
           0.3316902516733856,
           0.18149762827084115,
           0.24445221025666208,
           0.8328490415914426,
           0.6144100093171658,
           0.9132456194883161,
           0.23196845215778583,
           0.12113857384890148,
           0.006087530975590005,
           0.5078620376159938,
           0.9983069303819881
          ],
          [
           0.694965268818639,
           0.30839459196514607,
           0.8768585830261717,
           0.7817222659879597,
           0.015415166076539255,
           0.8168604805410224,
           0.300526757238496,
           0.1496734645836011,
           0.22633083973707457,
           0.468579804375139,
           0.424867927068011,
           0.28888729937422675,
           0.1722183222070327,
           0.7622307896421693,
           0.9901097837349171,
           0.7777915804196904,
           0.2959369676715412,
           0.24480896141213337,
           0.21766587606593824,
           0.13669507448903628,
           0.5513305496923012,
           0.6054003719533442,
           0.7055026606631373,
           0.680213370933668,
           0.29233331128338247,
           0.33031100539684655,
           0.6815145354423379,
           0.34944764078362833,
           0.21262318961931304,
           0.37433615369673956,
           0.27208415757797766,
           0.0883127212185778
          ],
          [
           0.8301389022766535,
           0.8531113891570363,
           0.21975030016687946,
           0.06477219952520175,
           0.7388274373511795,
           0.2115286258634137,
           0.39343548943686024,
           0.06413525223738326,
           0.22626958475843517,
           0.7929022783296358,
           0.8043964469152018,
           0.2070848248877104,
           0.33591384510668953,
           0.13423841909374357,
           0.07417263028492238,
           0.9921717144484095,
           0.6555939512448392,
           0.5420965091983188,
           0.7654985004052995,
           0.8400771596877241,
           0.8067147680447275,
           0.016539449289876607,
           0.18680789819049848,
           0.654905302117831,
           0.3757593478039629,
           0.982482651061107,
           0.665404792638254,
           0.9565489087292065,
           0.20144648164579382,
           0.8639570281150231,
           0.32135230581522534,
           0.9895648082378068
          ],
          [
           0.1576886720731473,
           0.5163398188383266,
           0.792844533837122,
           0.4326424806040359,
           0.4680840601876467,
           0.986355795505741,
           0.4253081503011533,
           0.6040721005990636,
           0.0545396606751507,
           0.84221008021026,
           0.6481680489795435,
           0.40402010286281353,
           0.01616953995451975,
           0.5916688205935039,
           0.012657828484162192,
           0.0012036139090179088,
           0.6160985621493547,
           0.18901706733455426,
           0.1918875497180953,
           0.6532715658327437,
           0.05369718793937428,
           0.31340556147455634,
           0.14943190214201907,
           0.5801763697965339,
           0.6617651547273958,
           0.7211358535990435,
           0.25523121691856543,
           0.089249751636584,
           0.07868365694189783,
           0.4261515484507238,
           0.945844409062715,
           0.2177290342470246
          ],
          [
           0.25674160134154933,
           0.10088880210585893,
           0.6055702738939303,
           0.6798728739471749,
           0.64293120816076,
           0.8611302430447813,
           0.48642583502607173,
           0.13445704076706444,
           0.28940513070441265,
           0.6624299734213518,
           0.6131219737415599,
           0.5310031297429625,
           0.6829644186886872,
           0.6373908503732993,
           0.8813248894649517,
           0.5860163774782966,
           0.7786013587005565,
           0.24870715596646786,
           0.678182584589068,
           0.9021941183826757,
           0.38573232789983325,
           0.7791041873386466,
           0.7247893011954354,
           0.05952619687182248,
           0.5815083096240723,
           0.13018934920080238,
           0.9673191722305912,
           0.8114075027006562,
           0.10972380124712011,
           0.12175199764767841,
           0.594473854912619,
           0.3448891741731833
          ],
          [
           0.03490585907310928,
           0.5416415078330531,
           0.3878450996858469,
           0.10107649237174265,
           0.8019203922559827,
           0.915076765278806,
           0.75659393401413,
           0.8224223100162773,
           0.21649056726611737,
           0.263572950918601,
           0.20852754029918774,
           0.765063431365564,
           0.9479170789344971,
           0.7168372067339026,
           0.881466764879556,
           0.6386990948831726,
           0.38765990055879906,
           0.4257616149303052,
           0.07532143216740483,
           0.03145719524602608,
           0.6954756041890774,
           0.4384288920111806,
           0.5522150680546295,
           0.5576612476224163,
           0.2773758133333014,
           0.4758925108294907,
           0.47076022166770226,
           0.388427221227857,
           0.8206753834010705,
           0.4511640036875959,
           0.6036445245059878,
           0.8955201203808261
          ]
         ]
        }
       ],
       "layout": {
        "annotations": [
         {
          "font": {
           "size": 16
          },
          "showarrow": false,
          "text": "Matrix 1",
          "x": 0.225,
          "xanchor": "center",
          "xref": "paper",
          "y": 1,
          "yanchor": "bottom",
          "yref": "paper"
         },
         {
          "font": {
           "size": 16
          },
          "showarrow": false,
          "text": "Matrix 2",
          "x": 0.775,
          "xanchor": "center",
          "xref": "paper",
          "y": 1,
          "yanchor": "bottom",
          "yref": "paper"
         },
         {
          "font": {
           "size": 16
          },
          "showarrow": false,
          "text": "Matrix 3",
          "x": 0.225,
          "xanchor": "center",
          "xref": "paper",
          "y": 0.375,
          "yanchor": "bottom",
          "yref": "paper"
         },
         {
          "font": {
           "size": 16
          },
          "showarrow": false,
          "text": "Matrix 4",
          "x": 0.775,
          "xanchor": "center",
          "xref": "paper",
          "y": 0.375,
          "yanchor": "bottom",
          "yref": "paper"
         }
        ],
        "height": 800,
        "template": {
         "data": {
          "bar": [
           {
            "error_x": {
             "color": "#2a3f5f"
            },
            "error_y": {
             "color": "#2a3f5f"
            },
            "marker": {
             "line": {
              "color": "#E5ECF6",
              "width": 0.5
             },
             "pattern": {
              "fillmode": "overlay",
              "size": 10,
              "solidity": 0.2
             }
            },
            "type": "bar"
           }
          ],
          "barpolar": [
           {
            "marker": {
             "line": {
              "color": "#E5ECF6",
              "width": 0.5
             },
             "pattern": {
              "fillmode": "overlay",
              "size": 10,
              "solidity": 0.2
             }
            },
            "type": "barpolar"
           }
          ],
          "carpet": [
           {
            "aaxis": {
             "endlinecolor": "#2a3f5f",
             "gridcolor": "white",
             "linecolor": "white",
             "minorgridcolor": "white",
             "startlinecolor": "#2a3f5f"
            },
            "baxis": {
             "endlinecolor": "#2a3f5f",
             "gridcolor": "white",
             "linecolor": "white",
             "minorgridcolor": "white",
             "startlinecolor": "#2a3f5f"
            },
            "type": "carpet"
           }
          ],
          "choropleth": [
           {
            "colorbar": {
             "outlinewidth": 0,
             "ticks": ""
            },
            "type": "choropleth"
           }
          ],
          "contour": [
           {
            "colorbar": {
             "outlinewidth": 0,
             "ticks": ""
            },
            "colorscale": [
             [
              0,
              "#0d0887"
             ],
             [
              0.1111111111111111,
              "#46039f"
             ],
             [
              0.2222222222222222,
              "#7201a8"
             ],
             [
              0.3333333333333333,
              "#9c179e"
             ],
             [
              0.4444444444444444,
              "#bd3786"
             ],
             [
              0.5555555555555556,
              "#d8576b"
             ],
             [
              0.6666666666666666,
              "#ed7953"
             ],
             [
              0.7777777777777778,
              "#fb9f3a"
             ],
             [
              0.8888888888888888,
              "#fdca26"
             ],
             [
              1,
              "#f0f921"
             ]
            ],
            "type": "contour"
           }
          ],
          "contourcarpet": [
           {
            "colorbar": {
             "outlinewidth": 0,
             "ticks": ""
            },
            "type": "contourcarpet"
           }
          ],
          "heatmap": [
           {
            "colorbar": {
             "outlinewidth": 0,
             "ticks": ""
            },
            "colorscale": [
             [
              0,
              "#0d0887"
             ],
             [
              0.1111111111111111,
              "#46039f"
             ],
             [
              0.2222222222222222,
              "#7201a8"
             ],
             [
              0.3333333333333333,
              "#9c179e"
             ],
             [
              0.4444444444444444,
              "#bd3786"
             ],
             [
              0.5555555555555556,
              "#d8576b"
             ],
             [
              0.6666666666666666,
              "#ed7953"
             ],
             [
              0.7777777777777778,
              "#fb9f3a"
             ],
             [
              0.8888888888888888,
              "#fdca26"
             ],
             [
              1,
              "#f0f921"
             ]
            ],
            "type": "heatmap"
           }
          ],
          "heatmapgl": [
           {
            "colorbar": {
             "outlinewidth": 0,
             "ticks": ""
            },
            "colorscale": [
             [
              0,
              "#0d0887"
             ],
             [
              0.1111111111111111,
              "#46039f"
             ],
             [
              0.2222222222222222,
              "#7201a8"
             ],
             [
              0.3333333333333333,
              "#9c179e"
             ],
             [
              0.4444444444444444,
              "#bd3786"
             ],
             [
              0.5555555555555556,
              "#d8576b"
             ],
             [
              0.6666666666666666,
              "#ed7953"
             ],
             [
              0.7777777777777778,
              "#fb9f3a"
             ],
             [
              0.8888888888888888,
              "#fdca26"
             ],
             [
              1,
              "#f0f921"
             ]
            ],
            "type": "heatmapgl"
           }
          ],
          "histogram": [
           {
            "marker": {
             "pattern": {
              "fillmode": "overlay",
              "size": 10,
              "solidity": 0.2
             }
            },
            "type": "histogram"
           }
          ],
          "histogram2d": [
           {
            "colorbar": {
             "outlinewidth": 0,
             "ticks": ""
            },
            "colorscale": [
             [
              0,
              "#0d0887"
             ],
             [
              0.1111111111111111,
              "#46039f"
             ],
             [
              0.2222222222222222,
              "#7201a8"
             ],
             [
              0.3333333333333333,
              "#9c179e"
             ],
             [
              0.4444444444444444,
              "#bd3786"
             ],
             [
              0.5555555555555556,
              "#d8576b"
             ],
             [
              0.6666666666666666,
              "#ed7953"
             ],
             [
              0.7777777777777778,
              "#fb9f3a"
             ],
             [
              0.8888888888888888,
              "#fdca26"
             ],
             [
              1,
              "#f0f921"
             ]
            ],
            "type": "histogram2d"
           }
          ],
          "histogram2dcontour": [
           {
            "colorbar": {
             "outlinewidth": 0,
             "ticks": ""
            },
            "colorscale": [
             [
              0,
              "#0d0887"
             ],
             [
              0.1111111111111111,
              "#46039f"
             ],
             [
              0.2222222222222222,
              "#7201a8"
             ],
             [
              0.3333333333333333,
              "#9c179e"
             ],
             [
              0.4444444444444444,
              "#bd3786"
             ],
             [
              0.5555555555555556,
              "#d8576b"
             ],
             [
              0.6666666666666666,
              "#ed7953"
             ],
             [
              0.7777777777777778,
              "#fb9f3a"
             ],
             [
              0.8888888888888888,
              "#fdca26"
             ],
             [
              1,
              "#f0f921"
             ]
            ],
            "type": "histogram2dcontour"
           }
          ],
          "mesh3d": [
           {
            "colorbar": {
             "outlinewidth": 0,
             "ticks": ""
            },
            "type": "mesh3d"
           }
          ],
          "parcoords": [
           {
            "line": {
             "colorbar": {
              "outlinewidth": 0,
              "ticks": ""
             }
            },
            "type": "parcoords"
           }
          ],
          "pie": [
           {
            "automargin": true,
            "type": "pie"
           }
          ],
          "scatter": [
           {
            "fillpattern": {
             "fillmode": "overlay",
             "size": 10,
             "solidity": 0.2
            },
            "type": "scatter"
           }
          ],
          "scatter3d": [
           {
            "line": {
             "colorbar": {
              "outlinewidth": 0,
              "ticks": ""
             }
            },
            "marker": {
             "colorbar": {
              "outlinewidth": 0,
              "ticks": ""
             }
            },
            "type": "scatter3d"
           }
          ],
          "scattercarpet": [
           {
            "marker": {
             "colorbar": {
              "outlinewidth": 0,
              "ticks": ""
             }
            },
            "type": "scattercarpet"
           }
          ],
          "scattergeo": [
           {
            "marker": {
             "colorbar": {
              "outlinewidth": 0,
              "ticks": ""
             }
            },
            "type": "scattergeo"
           }
          ],
          "scattergl": [
           {
            "marker": {
             "colorbar": {
              "outlinewidth": 0,
              "ticks": ""
             }
            },
            "type": "scattergl"
           }
          ],
          "scattermapbox": [
           {
            "marker": {
             "colorbar": {
              "outlinewidth": 0,
              "ticks": ""
             }
            },
            "type": "scattermapbox"
           }
          ],
          "scatterpolar": [
           {
            "marker": {
             "colorbar": {
              "outlinewidth": 0,
              "ticks": ""
             }
            },
            "type": "scatterpolar"
           }
          ],
          "scatterpolargl": [
           {
            "marker": {
             "colorbar": {
              "outlinewidth": 0,
              "ticks": ""
             }
            },
            "type": "scatterpolargl"
           }
          ],
          "scatterternary": [
           {
            "marker": {
             "colorbar": {
              "outlinewidth": 0,
              "ticks": ""
             }
            },
            "type": "scatterternary"
           }
          ],
          "surface": [
           {
            "colorbar": {
             "outlinewidth": 0,
             "ticks": ""
            },
            "colorscale": [
             [
              0,
              "#0d0887"
             ],
             [
              0.1111111111111111,
              "#46039f"
             ],
             [
              0.2222222222222222,
              "#7201a8"
             ],
             [
              0.3333333333333333,
              "#9c179e"
             ],
             [
              0.4444444444444444,
              "#bd3786"
             ],
             [
              0.5555555555555556,
              "#d8576b"
             ],
             [
              0.6666666666666666,
              "#ed7953"
             ],
             [
              0.7777777777777778,
              "#fb9f3a"
             ],
             [
              0.8888888888888888,
              "#fdca26"
             ],
             [
              1,
              "#f0f921"
             ]
            ],
            "type": "surface"
           }
          ],
          "table": [
           {
            "cells": {
             "fill": {
              "color": "#EBF0F8"
             },
             "line": {
              "color": "white"
             }
            },
            "header": {
             "fill": {
              "color": "#C8D4E3"
             },
             "line": {
              "color": "white"
             }
            },
            "type": "table"
           }
          ]
         },
         "layout": {
          "annotationdefaults": {
           "arrowcolor": "#2a3f5f",
           "arrowhead": 0,
           "arrowwidth": 1
          },
          "autotypenumbers": "strict",
          "coloraxis": {
           "colorbar": {
            "outlinewidth": 0,
            "ticks": ""
           }
          },
          "colorscale": {
           "diverging": [
            [
             0,
             "#8e0152"
            ],
            [
             0.1,
             "#c51b7d"
            ],
            [
             0.2,
             "#de77ae"
            ],
            [
             0.3,
             "#f1b6da"
            ],
            [
             0.4,
             "#fde0ef"
            ],
            [
             0.5,
             "#f7f7f7"
            ],
            [
             0.6,
             "#e6f5d0"
            ],
            [
             0.7,
             "#b8e186"
            ],
            [
             0.8,
             "#7fbc41"
            ],
            [
             0.9,
             "#4d9221"
            ],
            [
             1,
             "#276419"
            ]
           ],
           "sequential": [
            [
             0,
             "#0d0887"
            ],
            [
             0.1111111111111111,
             "#46039f"
            ],
            [
             0.2222222222222222,
             "#7201a8"
            ],
            [
             0.3333333333333333,
             "#9c179e"
            ],
            [
             0.4444444444444444,
             "#bd3786"
            ],
            [
             0.5555555555555556,
             "#d8576b"
            ],
            [
             0.6666666666666666,
             "#ed7953"
            ],
            [
             0.7777777777777778,
             "#fb9f3a"
            ],
            [
             0.8888888888888888,
             "#fdca26"
            ],
            [
             1,
             "#f0f921"
            ]
           ],
           "sequentialminus": [
            [
             0,
             "#0d0887"
            ],
            [
             0.1111111111111111,
             "#46039f"
            ],
            [
             0.2222222222222222,
             "#7201a8"
            ],
            [
             0.3333333333333333,
             "#9c179e"
            ],
            [
             0.4444444444444444,
             "#bd3786"
            ],
            [
             0.5555555555555556,
             "#d8576b"
            ],
            [
             0.6666666666666666,
             "#ed7953"
            ],
            [
             0.7777777777777778,
             "#fb9f3a"
            ],
            [
             0.8888888888888888,
             "#fdca26"
            ],
            [
             1,
             "#f0f921"
            ]
           ]
          },
          "colorway": [
           "#636efa",
           "#EF553B",
           "#00cc96",
           "#ab63fa",
           "#FFA15A",
           "#19d3f3",
           "#FF6692",
           "#B6E880",
           "#FF97FF",
           "#FECB52"
          ],
          "font": {
           "color": "#2a3f5f"
          },
          "geo": {
           "bgcolor": "white",
           "lakecolor": "white",
           "landcolor": "#E5ECF6",
           "showlakes": true,
           "showland": true,
           "subunitcolor": "white"
          },
          "hoverlabel": {
           "align": "left"
          },
          "hovermode": "closest",
          "mapbox": {
           "style": "light"
          },
          "paper_bgcolor": "white",
          "plot_bgcolor": "#E5ECF6",
          "polar": {
           "angularaxis": {
            "gridcolor": "white",
            "linecolor": "white",
            "ticks": ""
           },
           "bgcolor": "#E5ECF6",
           "radialaxis": {
            "gridcolor": "white",
            "linecolor": "white",
            "ticks": ""
           }
          },
          "scene": {
           "xaxis": {
            "backgroundcolor": "#E5ECF6",
            "gridcolor": "white",
            "gridwidth": 2,
            "linecolor": "white",
            "showbackground": true,
            "ticks": "",
            "zerolinecolor": "white"
           },
           "yaxis": {
            "backgroundcolor": "#E5ECF6",
            "gridcolor": "white",
            "gridwidth": 2,
            "linecolor": "white",
            "showbackground": true,
            "ticks": "",
            "zerolinecolor": "white"
           },
           "zaxis": {
            "backgroundcolor": "#E5ECF6",
            "gridcolor": "white",
            "gridwidth": 2,
            "linecolor": "white",
            "showbackground": true,
            "ticks": "",
            "zerolinecolor": "white"
           }
          },
          "shapedefaults": {
           "line": {
            "color": "#2a3f5f"
           }
          },
          "ternary": {
           "aaxis": {
            "gridcolor": "white",
            "linecolor": "white",
            "ticks": ""
           },
           "baxis": {
            "gridcolor": "white",
            "linecolor": "white",
            "ticks": ""
           },
           "bgcolor": "#E5ECF6",
           "caxis": {
            "gridcolor": "white",
            "linecolor": "white",
            "ticks": ""
           }
          },
          "title": {
           "x": 0.05
          },
          "xaxis": {
           "automargin": true,
           "gridcolor": "white",
           "linecolor": "white",
           "ticks": "",
           "title": {
            "standoff": 15
           },
           "zerolinecolor": "white",
           "zerolinewidth": 2
          },
          "yaxis": {
           "automargin": true,
           "gridcolor": "white",
           "linecolor": "white",
           "ticks": "",
           "title": {
            "standoff": 15
           },
           "zerolinecolor": "white",
           "zerolinewidth": 2
          }
         }
        },
        "title": {
         "text": "Combined Plots"
        },
        "width": 800,
        "xaxis": {
         "anchor": "y",
         "domain": [
          0,
          0.45
         ]
        },
        "xaxis2": {
         "anchor": "y2",
         "domain": [
          0.55,
          1
         ]
        },
        "xaxis3": {
         "anchor": "y3",
         "domain": [
          0,
          0.45
         ]
        },
        "xaxis4": {
         "anchor": "y4",
         "domain": [
          0.55,
          1
         ]
        },
        "yaxis": {
         "anchor": "x",
         "domain": [
          0.625,
          1
         ]
        },
        "yaxis2": {
         "anchor": "x2",
         "domain": [
          0.625,
          1
         ]
        },
        "yaxis3": {
         "anchor": "x3",
         "domain": [
          0,
          0.375
         ]
        },
        "yaxis4": {
         "anchor": "x4",
         "domain": [
          0,
          0.375
         ]
        }
       }
      },
      "text/html": [
       "<div>                            <div id=\"aa522790-573c-43cf-a287-d512e39a3c48\" class=\"plotly-graph-div\" style=\"height:800px; width:800px;\"></div>            <script type=\"text/javascript\">                require([\"plotly\"], function(Plotly) {                    window.PLOTLYENV=window.PLOTLYENV || {};                                    if (document.getElementById(\"aa522790-573c-43cf-a287-d512e39a3c48\")) {                    Plotly.newPlot(                        \"aa522790-573c-43cf-a287-d512e39a3c48\",                        [{\"colorscale\":[[0.0,\"#440154\"],[0.1111111111111111,\"#482878\"],[0.2222222222222222,\"#3e4989\"],[0.3333333333333333,\"#31688e\"],[0.4444444444444444,\"#26828e\"],[0.5555555555555556,\"#1f9e89\"],[0.6666666666666666,\"#35b779\"],[0.7777777777777778,\"#6ece58\"],[0.8888888888888888,\"#b5de2b\"],[1.0,\"#fde725\"]],\"showscale\":false,\"z\":[[0.7126014072983932,0.6880305189519813,0.31931688002137404,0.2522024021593309,0.9559187999620442,0.9232995082699295,0.4573166098928203,0.8461938661543734,0.45232347763429603,0.4243890180725104,0.15676294759929466,0.42640605649197283,0.537416938599807,0.022504327428686466,0.4441130051754064,0.7813562183952003,0.6800460563742698,0.635156988863935,0.9095554284372025,0.01803200982523001,0.5570475861922342,0.7873488484097071,0.5413353827012672,0.32389555258037916,0.13625056509197786,0.8875630718161913,0.470762392387603,0.8781151969857014,0.5858521224331683,0.6741921166150008,0.80426115437845,0.6591555446001344],[0.3980548406789377,0.513633383928651,0.8030455246758799,0.3736502963729842,0.3881214567684971,0.09569011605800115,0.9145844352217477,0.09103631494544173,0.6482091774485559,0.4131944788027977,0.40561939025544236,0.6795518365726839,0.06709373262987872,0.5937057829514346,0.7720317859723548,0.8282127578865942,0.1705303893937753,0.8974190500781737,0.6561460918474422,0.8818548008206828,0.48528071711019827,0.542033345097202,0.9190382770286711,0.8999095433546718,0.448160873369002,0.27441263163568175,0.39317043456426415,0.38776432852974974,0.28686687498279395,0.26857960433296657,0.8610629364797194,0.06986192068466168],[0.6776111820995941,0.1728200514564523,0.34450589339406323,0.06154303413483686,0.26997363685546205,0.7684210711172421,0.8850153245472586,0.22152715190236705,0.46354783925892185,0.4703240479372064,0.8735753057597342,0.7627990528758054,0.5130772183680499,0.6707472004717734,0.8473550539093668,0.009538954025544943,0.4028900310500486,0.9072431672770787,0.7403130308439514,0.5428413743340746,0.5296445270351334,0.3477700976044378,0.5205205336415145,0.6553831994634532,0.4183630384287931,0.714153146392174,0.8612322272603858,0.15468484818486117,0.4515470228174244,0.4080200912850811,0.6874648040497281,0.24986746525792936],[0.6402509149522763,0.877489241731488,0.4181315997936227,0.91101569997922,0.9931637389334784,0.10609204994795207,0.23305318798485863,0.9503797514820932,0.9583276864813868,0.0977072753867585,0.014998500377136681,0.16110002325642225,0.9960127833822483,0.17999961661068686,0.5025476067220231,0.848417726430511,0.02040161068820634,0.6044889822584595,0.2770254488696243,0.8623349164397316,0.28346114926407917,0.6867557202819089,0.6742196324473969,0.22149354885964,0.03479919986835012,0.4092495737853973,0.2891931519658697,0.8089777496137086,0.8003641884553453,0.4570239521926255,0.6065122253232189,0.6042595159869252],[0.8271581484276234,0.4250024141231975,0.2754466797905091,0.26503491814054747,0.5361922792822041,0.44914820273221256,0.4401207709849362,0.09113733908970723,0.7186037406901956,0.2137366879819107,0.19695363020872136,0.41275832027739345,0.22777834161780142,0.5838582673080154,0.3714633393344715,0.4489117225927901,0.5371693216040289,0.20353552248180484,0.1557516228655298,0.8804219028736048,0.43372370283142103,0.41209360963253916,0.03561215027284148,0.4979763025873932,0.5541697216110001,0.5588408709546665,0.7070311693228843,0.17748183499101178,0.2522231342306188,0.8107304652304127,0.947170616843394,0.13593274736732064],[0.4976495545052182,0.21417625273958685,0.06007316835498244,0.3255033381261354,0.14368762518421274,0.7099330734342463,0.5337254136714444,0.14383447099031088,0.009241588405514367,0.8081570490242127,0.17619440616424753,0.606216642220766,0.33692191307674557,0.5854859383150356,0.315653626982324,0.08693956069225417,0.2229500085577536,0.1880585664790756,0.42801935243964384,0.6582837834261573,0.26380607494635755,0.012069935300617951,0.5189373642647569,0.6057594893589721,0.9628704940018097,0.5894708030932468,0.47117255937814184,0.5734016258977038,0.927900629862027,0.8283781456016462,0.322978733363808,0.23725436365713726],[0.26263361236607363,0.504421039715213,0.7440494512285778,0.5032192071829621,0.06779639582811259,0.7235807004399809,0.8059701286709539,0.28949786511971964,0.6641257392833504,0.4265919010543934,0.8891193557274428,0.8452255581607399,0.5254319983096423,0.6915055458135945,0.883349701022104,0.4957170100782755,0.31325074048882195,0.7536661379095813,0.22006625478469177,0.38853114800604205,0.8657272371067937,0.7244223402693151,0.40381100524749924,0.2147445024083574,0.3559683908322365,0.284104149227433,0.17608928794385392,0.7433329135656567,0.2520698868501715,0.4541674701677638,0.38585944683610907,0.9820773786356308],[0.3910922441482205,0.0799824827967548,0.08982575257208403,0.5907537213530648,0.5993635517382656,0.41875899048265497,0.4318436923120297,0.05393258284087121,0.5165465103892622,0.5047394753803517,0.14954931855694453,0.10383938611092758,0.12357249059949049,0.10102824649125852,0.6097081955367598,0.19648265240291862,0.25143015218746345,0.17357214415143973,0.9578353044485031,0.8546174631518354,0.23049483735152088,0.327566293922126,0.20989284230499716,0.49187595946082374,0.019610532474253595,0.6713680088967957,0.5231581498176416,0.8986389283011033,0.16439268432841414,0.8041092460611317,0.7919610144667157,0.12718118921688693],[0.3985592241441276,0.1701526411445169,0.2547205004575489,0.26324617483054435,0.5562363940257727,0.4114109317604655,0.9477328040063053,0.12637014194700513,0.9736921348501988,0.23063864021426395,0.7728739363818531,0.3389699261728214,0.1430813954173139,0.8578891852462399,0.3088608992364632,0.6588554042268422,0.5664436850866266,0.4717563093908743,0.4958194726485391,0.7322379140922876,0.08777291412344057,0.6681806619579052,0.8958121013985787,0.05778819701986415,0.14065333923366674,0.7166319367020314,0.43728164824461757,0.40354862081368836,0.13696663454423585,0.5067700407177881,0.12654531119637724,0.4766204563105404],[0.7636152989616567,0.2582643578871635,0.4807861681797273,0.9920159693968357,0.6866504233540373,0.8413567713051986,0.41484760656054576,0.7678609231258553,0.040509172941321836,0.12291118254224498,0.20307059292006213,0.40195192461521956,0.8457448783257632,0.3462660507879305,0.6546211935154629,0.7093142948034834,0.5861823540883414,0.3572419681701362,0.5770533417135443,0.3422655927897462,0.08387373855201208,0.9928039781860144,0.1271824536325109,0.07234838383605735,0.8785307492071559,0.3018346608928951,0.6502969740735076,0.32900572966223285,0.39145427079447115,0.2621129720167965,0.3430440057930102,0.4107004005865431],[0.7204160690923429,0.5115361942347918,0.9435652171569769,0.04188039383877551,0.5030683226320282,0.5842247888317181,0.9201969860742739,0.049158523621427586,0.573499584935216,0.853629928527957,0.24192772811923657,0.8762923485239374,0.019043409274291823,0.7324546291337297,0.933113221168653,0.6571976616400622,0.43902924398044796,0.04488101647271803,0.9201138133226288,0.4702962226915748,0.02899674433594801,0.6898210713287619,0.4818372535762582,0.12434531744241073,0.21427180931025958,0.06449068045584627,0.5742935397085736,0.6220294792520092,0.5057422983554444,0.8171021330026149,0.8610088213080136,0.6156243966831266],[0.012756479707430546,0.6952296557477357,0.4179992169203516,0.565557483226387,0.6490806020188844,0.35023661432707676,0.9170985051717943,0.1339748667497812,0.6715118072810374,0.004359579956580428,0.9246511054051808,0.1125041332380915,0.09488423014757463,0.33300763305224423,0.3735662860390806,0.21430007232287862,0.5851216609271247,0.4429140980419636,0.03417558904108742,0.31965206225530063,0.8104329135731705,0.6897015348618686,0.7248708535798805,0.6981169240835235,0.3109730213830333,0.09966392207677588,0.272467184033096,0.8317853001851593,0.9804707977830711,0.49384701474156134,0.00970035492304222,0.14004481213422904],[0.32208057531626577,0.5785853485929497,0.07509364580531397,0.9433572987098816,0.3650836732844007,0.912584217924823,0.7805218027570218,0.7554372725155811,0.606719579782232,0.6267838170518446,0.6380032352162481,0.6287213870255821,0.5537282313983612,0.9864140184828889,0.7322905674256961,0.7769463883925212,0.8724628150836742,0.21563976272584917,0.08380415909506078,0.48289443659859865,0.5140806956192732,0.8291817799499177,0.4437835792823357,0.5708530255443127,0.5270709385134583,0.03820278375739106,0.615214896596914,0.8280432857742522,0.15750054807580383,0.5943317339265958,0.5936105444464144,0.16418496405635874],[0.12346357373073602,0.9800519429764848,0.39371916965303755,0.22742172872352928,0.17132454445437495,0.6676017135832351,0.6094452973272788,0.6435521229874175,0.08800602751145226,0.893534583498437,0.3892663968090483,0.31336940643035793,0.4623614472477392,0.39006606574762825,0.8635770031391459,0.9292609751978921,0.3034532164496062,0.8639358074599548,0.7815231295330671,0.9308076723447618,0.24575031218588783,0.5769591501209791,0.27454458474044463,0.8240944904843742,0.005324190571064258,0.5648191628863961,0.339203431271918,0.32268370707782024,0.644906323864917,0.8514844493139939,0.6091953913933262,0.8531729786467225],[0.26459711188102997,0.5195018547649811,0.450536539067076,0.011644899503096218,0.5568121431407401,0.6615243241461749,0.5919144044190701,0.7362798987834215,0.5713395284530771,0.06675025485075692,0.11644552408471143,0.5964745775439524,0.2749791919736402,0.07964512903476584,0.42960274344854676,0.5543225980836554,0.32874598834960655,0.720433702225778,0.6437706081012446,0.33281836109167195,0.7548725289085606,0.6486950425330354,0.6374453787179021,0.553427700787068,0.011389668088552796,0.6965071834768891,0.3760417911091565,0.9426097101586556,0.8179847710772054,0.5876944695313122,0.25218198181926943,0.20371739327766658],[0.3403848376775491,0.4765679435800185,0.2960655100389471,0.5149294953924828,0.16537042551318593,0.9777128128254999,0.10792455496499387,0.9319441396543721,0.9135780114026949,0.525360481819498,0.7249102718360844,0.4360482979725878,0.6300345775424382,0.3405759374211187,0.30115901978544535,0.5782297861695137,0.49812967418398035,0.5795363691499811,0.286660581287023,0.36695783181699526,0.08389796062890931,0.05227637227220572,0.25345712967301626,0.07424685933054576,0.1037747086347407,0.8129284053939371,0.0388736970166893,0.6589427939347428,0.2725577488154005,0.8715456807081264,0.48499228457749954,0.30557645932782573],[0.5176389356894345,0.3819580190452688,0.5643010646698302,0.11453286832634824,0.9969905028125511,0.42555587769671754,0.34823063970736867,0.7102098483162649,0.3638994064953325,0.8332743050287577,0.45427072436042526,0.7195584132654349,0.10745321644188655,0.8461191855551118,0.7357179867781098,0.21171677846196568,0.14528600974578665,0.3162923487256244,0.9760705860319043,0.25683157456705863,0.4561272089466333,0.030020225717336313,0.39722752956623253,0.5713200154331027,0.9531246125079651,0.5167360449400644,0.8191073261776878,0.5471276425689006,0.0407850134355181,0.31500827518977403,0.5755495078311033,0.9505939659311243],[0.8591303597512333,0.22835561417884764,0.2201098300191635,0.20117296711390076,0.9224988963025031,0.8526661531017207,0.7748834322529488,0.3927351142242276,0.5043807042987668,0.4643317447951528,0.25339810755937264,0.505028046148767,0.030496547852754463,0.13181037349745917,0.8865895961689464,0.7516797670314233,0.42286840905908707,0.5171503622838772,0.36999888595997743,0.7407798671606725,0.7841871792320796,0.7632851902031591,0.7226117248344496,0.20450433869279583,0.3379699792404788,0.4698454349836749,0.3307929914276556,0.754940200158329,0.3293535242499547,0.13823208678533716,0.3990404520483041,0.9799144327823803],[0.2258814129335759,0.6121586589432291,0.4329730498397063,0.07102456764932663,0.4878766059980595,0.7021643286483125,0.5132199758278188,0.8721060637465811,0.28893701665758265,0.08624917130396492,0.9365656116580061,0.378196349528219,0.5764055514536334,0.792003126130196,0.3243136638755806,0.7161645381776112,0.13541884981782804,0.29129374720550527,0.1447106361365199,0.8112305584013578,0.22264923522678537,0.7174035554052103,0.9432983972456526,0.527772209068877,0.5400291922606877,0.46103356809781204,0.32589014339364275,0.4756550309249171,0.6028075322667594,0.9859915721706594,0.9377645593182242,0.8621529582931218],[0.8891305357048583,0.46784918329204295,0.6574443271774648,0.8950667229362141,0.39295076499135306,0.9617624783454688,0.415786062069183,0.6010826653932156,0.7098047132723719,0.9505920130759383,0.24461627405226605,0.7461309782386423,0.5208155861440822,0.26855714062064107,0.7766068397963906,0.5522222801738466,0.6609738206496758,0.322901068577901,0.481273951827605,0.6173542509880671,0.404910814269844,0.1983725398477013,0.961640492315304,0.5114675400426174,0.7339203702877005,0.4110471935560581,0.35513176402571633,0.407164298467125,0.4091966437856498,0.5441801159419536,0.5434698699813632,0.49715381588287166],[0.1347857849174381,0.49607547850053113,0.1691039004206515,0.12613578629576516,0.9326457173411677,0.6049500131477042,0.6594900581245843,0.4017936703333638,0.9089808919148642,0.6379304895796655,0.7691698695235875,0.36856246902771383,0.9600118808191255,0.820461290158315,0.8539484630145436,0.17219426742575428,0.2709632078712195,0.28562659968357706,0.27090922324687117,0.8554081621042879,0.03188479520859211,0.0760999889807743,0.2739148706299037,0.19987297464944365,0.23185961388284837,0.7979431892533,0.5631265938920469,0.0057706612929679935,0.42932276570419525,0.40788492685035893,0.11394526944454353,0.6761417886014571],[0.7020971883794911,0.7208932190520977,0.728470945558592,0.00005282693229680113,0.9539208038467222,0.814208767054663,0.9039816965892853,0.015643295307434135,0.9338587957857394,0.8097885286881047,0.8372191429586986,0.09328738472196851,0.7387780289185977,0.959916689642091,0.6785473414181606,0.5705614046246065,0.945629677748997,0.442937121734436,0.5992935663104787,0.4763382934943662,0.9328462213602992,0.07608472676550726,0.5011197008253482,0.6869524413854383,0.7919065384222369,0.5830186474441363,0.908917744121454,0.9419914468838717,0.06431922319358352,0.40237053954137436,0.02345902172115444,0.3294166573744429],[0.5368682179706021,0.9107949305099489,0.8465543224654029,0.12749972667198572,0.0930303747408957,0.589267338756667,0.5321179724587827,0.26637764143002385,0.8994530845538352,0.9273664094615535,0.40261143834016266,0.8903025571135202,0.38394889426297263,0.7368168318297001,0.47594221754772414,0.12258315650718299,0.9279342012370215,0.4540965933775366,0.7344870403224036,0.36717381443129216,0.01888087857623466,0.10053035869183591,0.4962194794899244,0.6899643571263624,0.33473532657927907,0.6954884591776503,0.698635589431956,0.7039359073278308,0.4925218540205084,0.914886150121504,0.4891965179806156,0.4502651934966382],[0.199380819010627,0.3076550873563365,0.042334492518303346,0.6335352936161702,0.24853574392709288,0.3041552544854651,0.7708145216643212,0.3272211831614539,0.24219589201314218,0.16905774913370575,0.7748584021819559,0.12970625799002689,0.4537537602503535,0.5069301160771944,0.6873899126857146,0.6332834823329955,0.8107206729451748,0.04475143392623815,0.2964407247793972,0.28013411877537975,0.14601690559210823,0.28917825385644313,0.3097653141429034,0.5218844619274783,0.6637044789262561,0.3811005136118141,0.7194702313133812,0.33616533857958,0.29028367731476035,0.5411880558570243,0.023716360305790607,0.07978912363400037],[0.41796954358652705,0.9429127113917565,0.7215117798434236,0.08812656950055775,0.8463180127808737,0.732300770608181,0.6109465257026532,0.8202929606091773,0.4041098477429571,0.22150105085385274,0.5120233891087593,0.5488417555934738,0.5383263720099121,0.5650737914801053,0.9487049182391808,0.9022456230962314,0.8757170365589394,0.8014168109086272,0.9434281072652854,0.09849464167940325,0.2651232614457395,0.4950559456545849,0.8465344931234052,0.5051657115227325,0.7480347393415887,0.13895990524891622,0.2524138129765602,0.7317760950376724,0.16473400888772405,0.35135593465492676,0.2648662578135714,0.3498616942224785],[0.7083240490779703,0.367847181142801,0.5552633226079402,0.09993187705440965,0.8050176932346278,0.36988862564812486,0.6485341590333424,0.7253896016618326,0.2096609221117004,0.88467498495335,0.6162242516069529,0.42872514175148146,0.18233518357821954,0.9423009379012067,0.7550682041316251,0.20802456273324887,0.3377107747242245,0.8096742580880733,0.695677663215339,0.7657842927157243,0.4412011022129324,0.7164762626421669,0.3864937228639137,0.21126291693819643,0.63267703484136,0.9760139255987942,0.3106009713953296,0.46096959221253964,0.6740013710698536,0.5415062821224879,0.8434277957090492,0.7617427064695159],[0.05829720386235704,0.998421233923774,0.7524024537194672,0.8639033162941132,0.6511977120953464,0.8562851280467623,0.11238297492870941,0.3477378355593156,0.8764209436044927,0.20165521126689223,0.07824209858002273,0.788118939945219,0.8354861556432962,0.1626522181899006,0.8543459827827155,0.6867677955971696,0.5200826832165839,0.830250192781385,0.4192492493189658,0.1939939562233972,0.28485267661061364,0.5051640182933148,0.5313307926731757,0.8055808264412336,0.7913527236523344,0.5813665572045749,0.7807854833654764,0.19177345829367098,0.05006452709329434,0.8736338226347001,0.07555449376276957,0.2466884297439973],[0.6953189496243846,0.40944793762730913,0.8763139699155088,0.29797979466226954,0.011871346669359295,0.3006556405607441,0.5780750491848317,0.37593837540329333,0.5348727557587553,0.8765981188350187,0.9124850542303685,0.2659740646541121,0.4621404732699007,0.5491440152414512,0.9491124568882471,0.9986173191643847,0.23540724884152664,0.7269798713458154,0.37803106223319516,0.008108196886213226,0.009252522435902355,0.46056600756225574,0.4883349130043346,0.022569696573442655,0.6869274167743025,0.2940033885949531,0.5598931015359494,0.30091907316541877,0.1671343148693072,0.4071737385988753,0.23227336479050076,0.5348009769191681],[0.19882853028647995,0.5084059766446271,0.15737851486886756,0.670974709485785,0.7539376844414241,0.11039423424993378,0.4678024120373392,0.07087170065487358,0.5981824455420024,0.26440429792964537,0.5276244568387078,0.5174610093842912,0.9243543461938004,0.5490832225687229,0.5829984797183156,0.4016531257643803,0.9490796031828168,0.7771859094396096,0.28540529030284156,0.8442095857762321,0.43239636018509,0.8286671435335939,0.822888068293502,0.1888701867628544,0.7011411313835769,0.2906429693065311,0.2974926699926682,0.29634807688058074,0.7255682475599482,0.22982604179253607,0.0009058352460902253,0.7152368534826331],[0.17118474383512527,0.10448239530783465,0.23751612059406013,0.379900522322704,0.4759063274732007,0.04457004071263082,0.9705733326273605,0.7160630534195581,0.32319406532433614,0.31869725728539733,0.4485425493684594,0.626244822763033,0.14637306658896776,0.18892981376495233,0.8594345828335509,0.25625492388907256,0.38019499797517753,0.871271850950117,0.6631478293998225,0.34171187934168834,0.6836995457246208,0.01968321538141371,0.7356426600113652,0.4870160405162395,0.8131821472844613,0.9546376520064683,0.9257885494945683,0.9092650434553408,0.5121699559338871,0.36014211413893804,0.46503532473067277,0.6898960033133608],[0.8839977768711867,0.20698630300011955,0.918193158461703,0.8151802319698891,0.9788560151782346,0.8802517732816871,0.27993732969190666,0.10595591134404769,0.11224107199158861,0.2912233185782761,0.6141837239845392,0.8043203260971725,0.8992503069815647,0.6237533843692328,0.0056313127480537295,0.1863167765185335,0.09972620385336795,0.36332447556901004,0.5013509936337459,0.04339717857856085,0.3484779757956553,0.17917967462532258,0.6470701662588739,0.46427236932434,0.4953176469339088,0.4276917880334611,0.956019710486567,0.21473512512156323,0.5166642598438743,0.7360173683653359,0.5568444131345626,0.9290208857168011],[0.37796835564128417,0.463675805773178,0.08852231521472842,0.6089991110519285,0.28821196844810604,0.16030903951556885,0.5445312929045081,0.5323102633799106,0.07587164122404755,0.6982154534944728,0.6237721906508529,0.1890172827464972,0.46943486215404384,0.72032291647856,0.5294357405412765,0.3954890761835702,0.32233845808094364,0.6103938666440536,0.9391086983102406,0.6717448404774834,0.0747459036363155,0.4606849734821338,0.8908241315106276,0.09446242580108688,0.9888757121375433,0.9490693936454213,0.07827448072987586,0.9334133204495549,0.3631325902594622,0.8447091670758625,0.4183833377132715,0.44085511270251587]],\"type\":\"heatmap\",\"xaxis\":\"x\",\"yaxis\":\"y\"},{\"colorscale\":[[0.0,\"rgb(255,255,217)\"],[0.125,\"rgb(237,248,177)\"],[0.25,\"rgb(199,233,180)\"],[0.375,\"rgb(127,205,187)\"],[0.5,\"rgb(65,182,196)\"],[0.625,\"rgb(29,145,192)\"],[0.75,\"rgb(34,94,168)\"],[0.875,\"rgb(37,52,148)\"],[1.0,\"rgb(8,29,88)\"]],\"showscale\":false,\"z\":[[0.6342430909775426,0.7744774192759833,0.033789150948248636,0.5931559955271343,0.18673299409737099,0.34594951786320294,0.3479686661552165,0.4690603402211536,0.3341364118761734,0.10736111845066776,0.14562873852545144,0.03343798556109767,0.4702490853287543,0.9544476948529885,0.11567522364811655,0.946264493003082,0.7333615147320935,0.6374988029341632,0.6452777553235629,0.8267276483962821,0.10691986437982137,0.5047543235655417,0.6970911382607585,0.5868204450735637,0.8327790710232946,0.07227170901135149,0.690701039499166,0.5340277303847177,0.3791608639799434,0.34027498223403085,0.6208326327741929,0.8909953746442648],[0.49617592610111527,0.8247231640769201,0.4021563818439675,0.10239446279317654,0.06150573645863855,0.051334371323677574,0.38015014195766994,0.33723775083584207,0.7179370236225695,0.7428215015848658,0.05085396883373983,0.22112326288901496,0.2742618501588997,0.5476119841428094,0.14451522390695026,0.13394121940000037,0.943788889207958,0.804202907297781,0.1806549020911703,0.40656780790549096,0.35562199925756555,0.7910040740654073,0.5102129164781221,0.12784973699346702,0.7389920631562439,0.39688797822491895,0.26292424763214706,0.37549862202072015,0.49775656360689635,0.34311551641700944,0.24190577259175783,0.39850202880398033],[0.019172910749898242,0.7724978460963139,0.1709448935675858,0.043904613630637246,0.6536986929050792,0.7739361288236722,0.8138291315928432,0.49350918266059995,0.2053681846899853,0.7372276772498267,0.6997130771543372,0.24627073410317324,0.903407755862793,0.104371458082829,0.9826882395913257,0.8602478109774646,0.6878986454790752,0.9387498882798329,0.7223111683237078,0.19045699703004593,0.44215613811281174,0.07150302433163536,0.3896574222881154,0.7416030197372087,0.3864433509308174,0.3302941754681341,0.5953557225103119,0.872204528998895,0.04758319254611243,0.3854704346997354,0.1582407418152627,0.6953542507318696],[0.10572456043113487,0.6648077585802445,0.2861808707979073,0.1989168137372247,0.9363525578249854,0.018524576745955867,0.43777727188956894,0.02162699246179378,0.483593048104329,0.5010473777944182,0.321662471394747,0.13216177752502367,0.3763875377344753,0.672262939932566,0.7823958086444591,0.5307506023881423,0.5898343944397556,0.2006163711246527,0.28733033322764945,0.16189561005235842,0.24929535000461134,0.22488678022553177,0.5194487863912376,0.5626887557907294,0.9449474208215045,0.19557064710152305,0.6416757101614959,0.8172592689875229,0.5602414637830525,0.2550036525010757,0.2625502300200002,0.03925305307099991],[0.3054442265484817,0.7446036790033801,0.04751775720711038,0.21929528250483066,0.7062324985317819,0.7826515628228766,0.4553184100619284,0.6980743384786489,0.387952168654892,0.15991324502412751,0.3981494935229065,0.5799678202031429,0.9480532818528903,0.06875095208867732,0.5073940938449606,0.3289197782107244,0.5083116942766945,0.023975447376531678,0.3130253547015813,0.819868147527005,0.5539417338546375,0.4505824928161174,0.2855250717153396,0.2980425227913559,0.38310143359058446,0.8355707099645604,0.9672132068082684,0.4386553813503745,0.39335283874776183,0.8465507758198628,0.4269053206363036,0.5520181722956512],[0.23094166459874443,0.7435025357790752,0.5319883182707819,0.8090345502403417,0.7807327300286697,0.21500476827002857,0.7156355505577624,0.8000544079513714,0.3461072407823951,0.17260911290227454,0.00263215557958818,0.45090365309314817,0.3524327315388416,0.5549098338254089,0.18804109258878576,0.8596655476664752,0.25775521562810966,0.22642960508764998,0.48071405648435594,0.49885102374427426,0.21508522878509284,0.27186072672591577,0.16970523915524494,0.7184601783231668,0.7700890312540819,0.4623284974592826,0.7140870226850174,0.7359353919374455,0.1382755276778086,0.9661780248345367,0.821031947096431,0.2044834611958235],[0.18616503574607024,0.12566114557958274,0.13837856254191838,0.7481617990286962,0.46965425695162355,0.7829341727398672,0.7462548943502054,0.6046127135052216,0.6863666065786795,0.01835572437914179,0.31177764680502196,0.6378221792594102,0.0093449534862442,0.03297694368259341,0.8518879824703832,0.6840248616920718,0.26536973312034395,0.687962840118709,0.7924566691392633,0.30679428311010126,0.03603737749918745,0.9327791246877345,0.3451798382956305,0.10648176328470638,0.4918568713931474,0.7684677956641338,0.22164731461755915,0.26949005013336336,0.24271498679858317,0.9916730528316782,0.19740373373054254,0.575520216966124],[0.9252646416569643,0.14689656887777924,0.9708541978677002,0.9474772343956246,0.8845719870582626,0.21455652133000225,0.6340550560109833,0.7608914729612402,0.9860279281964297,0.18042382208137042,0.7660258995192964,0.33880116992711296,0.17562646556800232,0.42137694121385494,0.7938359121486164,0.46484980370405216,0.5375231002030485,0.9951594102001212,0.399109299557426,0.6154007547092398,0.36524420161537186,0.39278564632870494,0.6956407534454081,0.9378869760948835,0.5423589504923214,0.7683999289487798,0.08920655881696382,0.21115803743192696,0.5021316409195324,0.02001172362877479,0.2528549787625588,0.5174012898249661],[0.014961198256300712,0.2645462862260417,0.5140308194758695,0.5731492479812457,0.9257516930553055,0.6453456232506078,0.41473580252999376,0.9303511771330678,0.7848829833877943,0.2000089211127476,0.13084236134881977,0.675811635742733,0.5598831655769838,0.7896736137927557,0.7388050500786865,0.625211533857515,0.9863821716288922,0.5335897301104087,0.11310575650171983,0.8282735648159884,0.251853362345709,0.7773021481439183,0.9571070960000514,0.6967955139643413,0.5960301609498011,0.4603861756750406,0.36440986599540326,0.35300475097183626,0.6363727057095906,0.7512731169377459,0.6785170694844144,0.19841010119356273],[0.4939871801434912,0.791640072183063,0.47570407818905625,0.5366232797354938,0.7711360481708222,0.6612653062650915,0.4093449208823926,0.895412711194219,0.1625670686634786,0.9955164485903247,0.1188525784762372,0.014949971104238902,0.8900189011487647,0.24495350836595609,0.7296996274467209,0.8110153749320693,0.8589863910321168,0.9915942356641667,0.29403971003999907,0.7102433419272591,0.11539985828082822,0.4068092913568494,0.8479716933125904,0.36765804605910835,0.5910953805356141,0.5037734437246341,0.6459515311120451,0.9728943893876949,0.05573552650140212,0.5739615175016297,0.8630287792502848,0.4813827117484275],[0.07852718594157282,0.5605393524167709,0.33207389082382044,0.1549417853379359,0.849034513283473,0.5215995129911216,0.9332764123790667,0.8060165046030691,0.6929717937736674,0.005025503365311934,0.42782345663824994,0.1974862816520323,0.9107979110488678,0.17458398467636027,0.2860600516592855,0.5168367677344992,0.26336361899807925,0.20986467727912117,0.5990993251027524,0.08892952275502386,0.05816775872092472,0.3722452951860714,0.7206644545078623,0.554806758273948,0.42287646846677884,0.5657515642245824,0.3654514846532736,0.9361463354321129,0.05490489091077433,0.6733914790298352,0.8912826648277505,0.8038847087352534],[0.18404103482144674,0.29592634898028836,0.7170479387071047,0.08427055918076554,0.811861699832584,0.7189069446047903,0.7296066492353426,0.10024137026759139,0.7177605448162309,0.67981812521997,0.8309224908218505,0.0415959562564695,0.023110668467792195,0.37300709987856073,0.14878828384915288,0.5583844775702219,0.9173489015067489,0.39147973033401573,0.8449503772726041,0.00024087451786647396,0.1685146434591842,0.03042353965408562,0.32814718051506864,0.9081895956965028,0.09695212359898775,0.6064097767438004,0.4514959391194442,0.9384682123658125,0.12251914253709384,0.21202785050222894,0.029541968611493274,0.43393524963137375],[0.2778328995646543,0.8699059338903209,0.6049408131977551,0.6140907379757017,0.5319106968813024,0.091850337229201,0.44501868372535525,0.9995051897085165,0.8352292908460148,0.8934590541671159,0.8232263592464995,0.10304169343098268,0.22744825406479963,0.003121651356409627,0.30351012487811146,0.10860740234649258,0.472793345301583,0.6771274885739019,0.8745052950380771,0.7492171650908982,0.9385855957785052,0.053898290393788795,0.01217983541654144,0.6613381138362127,0.2893524102222462,0.25350101610577314,0.33088708769379427,0.26979605789236416,0.5114364063015873,0.4401484472241325,0.5124285513766563,0.6727136115004362],[0.3871305089711483,0.2513076871421568,0.16620053680874547,0.3494741195326255,0.741806475246172,0.7567049101114696,0.6669053866842103,0.2340281753068746,0.5880862458546977,0.570689661576848,0.4842661981097255,0.5499789863838642,0.49179063262366807,0.5654563660741082,0.7155059546211288,0.10962819440343974,0.7496257521490237,0.1358861501275942,0.0666279984103747,0.9760796862214676,0.9569917688704415,0.06043654494056405,0.44325344147496215,0.18624493829977473,0.4853448971344181,0.8301772429995874,0.9506117747428903,0.6342526534515374,0.35390566721181704,0.6033255656445984,0.31200130610845034,0.9098236408320604],[0.870400463105837,0.558231750279661,0.32479891538036054,0.29338967558297835,0.03341799470505946,0.8158208510252952,0.45038321303900797,0.3251329284002644,0.4711103549977539,0.818737990454652,0.12461420770752119,0.8576559882418273,0.897508835108354,0.9467079150338882,0.3974879924226278,0.21714040403767187,0.3736408184666985,0.3329120962314033,0.17615391250286005,0.6072666701014879,0.4766241605086289,0.8657009923240037,0.03210958048205825,0.6438679275551263,0.7629488785115611,0.759486569188307,0.8860739670955251,0.7290337428294941,0.9278100616476963,0.33265659982089146,0.5032094167515431,0.014079663282890675],[0.006957587303291213,0.2401266204515199,0.10080719713908526,0.2602113679357536,0.1770432945283974,0.02852002483864824,0.9093041464060494,0.008223131388891525,0.7360821443370854,0.15214788691951653,0.9122296219996,0.8927959395898858,0.6539011463692573,0.6722341498006051,0.005339141969688543,0.984871566113602,0.8778326035758144,0.895106225730092,0.6592445370508719,0.34478692865453653,0.8936486490904808,0.29151692815119234,0.5627115433422029,0.0997309723438824,0.9219556301327502,0.14077045777121333,0.22489680573040727,0.558134158128215,0.7640930002129815,0.619351305936299,0.23213391280015616,0.0009430425274903342],[0.7571505803074392,0.9852073259110937,0.8099131203060904,0.46020661815661534,0.9037672613991066,0.40984767311835,0.5249340842434675,0.47712976739568325,0.44762387266552495,0.7751907692939057,0.526768907269492,0.31671712202521607,0.2581581676584783,0.037747316967433386,0.583195161883046,0.2299614154010342,0.1481339220163831,0.6538299638276777,0.6812092578215488,0.752154892257666,0.5035768963385915,0.8940546052038866,0.9363427533982278,0.8073709397924894,0.6355934820081872,0.30372095359118867,0.9829449216202212,0.27413616719193834,0.20265692199043106,0.44215411378658276,0.05684057071238846,0.9784944646717908],[0.5884335564164248,0.5569520916641753,0.6557962798997199,0.49702364777720665,0.03206351709454158,0.6123112888403968,0.7161738769564306,0.41674906062405315,0.7572955720711929,0.22700129933842061,0.22127659106618403,0.16141698768757395,0.37199475978916186,0.8470120353890835,0.8279120621490643,0.3828242079635038,0.5891187359802366,0.7208163164749156,0.24120677462802298,0.16814108589474708,0.972095993212311,0.6175573132096185,0.9814157218336639,0.3377559871322291,0.7030316999741315,0.22260363654123771,0.26120017127391293,0.511902121269624,0.3196181255080712,0.16762156384058446,0.262880701989326,0.03574839446586464],[0.7044236214774866,0.4921166570858616,0.09424306640452562,0.1716939931284912,0.10253453811264401,0.6125928082758765,0.0942103636124938,0.7542823330352161,0.020510919320391174,0.2493757879958921,0.8906666758919072,0.718531318122246,0.07296833292568772,0.8211261044851798,0.4930351215402048,0.8467830271688292,0.6007397744503934,0.6818330320328587,0.9935015603957081,0.23233554592401817,0.6239455747613883,0.46032139005739836,0.039451952922691436,0.014470641502865034,0.11922857781785867,0.6490917405385481,0.5671630879133922,0.5534295611637274,0.031856762528260085,0.46930299636000705,0.9246228178425285,0.3975918693106466],[0.6249224697884563,0.7798186756231436,0.7839252791418876,0.5192800823952713,0.8579519454023363,0.39137809336374696,0.8886932147847983,0.2402271663955453,0.28021640699057104,0.0531206241990011,0.7955818365422829,0.4170552362327056,0.22911661391139904,0.23179027761657967,0.9013999412292332,0.8339166004610369,0.5535308853571833,0.6161108004157211,0.474325570550291,0.39166654287880887,0.9154768812183315,0.12561270352030207,0.41844678971622795,0.34456190798787534,0.49815072025114837,0.45763187454517507,0.5188895316510814,0.1399189772269941,0.5131415015132771,0.24241881388721087,0.18433134898819126,0.06483421878619122],[0.7626525587561409,0.42744192085655996,0.6266436833117583,0.7275933433047433,0.6793166653135535,0.4705007190896823,0.3878985289517298,0.3759599096406637,0.6400487969300563,0.4947943549418734,0.8491322479885106,0.8747019843267121,0.17056037800651846,0.13623365154572564,0.6304009260359995,0.3012257480622794,0.01857071876509886,0.8886426693629551,0.22690076724380825,0.9292806516858091,0.7174344508782536,0.7626534899114843,0.20146149579316042,0.23419442561681292,0.5212677538240658,0.17209985264986216,0.3054316926830323,0.32146247794780447,0.1596299332527641,0.20518283339516075,0.7885518420082566,0.16719585454726837],[0.028457391843922486,0.6293549426289384,0.97598311939245,0.3312138146231214,0.1186557031962523,0.5703873253675308,0.9063542110956462,0.7840617798284788,0.622515868412716,0.3150564966075994,0.54188017327622,0.09124484130425536,0.67894542428067,0.7250960188976509,0.9650316229099188,0.26039735874507164,0.018456419043022643,0.5456084644271506,0.7067905043968145,0.790407475882988,0.1937389330248106,0.26175286903702366,0.5125909252672963,0.33060080997000185,0.860511486587445,0.47376015373872027,0.799578644102003,0.5806197604823538,0.773090141617112,0.33267298653032384,0.8314166219303112,0.2745723155510216],[0.5460988080032908,0.21400711317387422,0.47552652162619335,0.31817520950870315,0.26670343063721424,0.9669850180280375,0.16007410548673062,0.7873258374573953,0.9841649594832149,0.01990148374007783,0.699027414042095,0.2529118055562871,0.040487824328304445,0.4028895789566308,0.935217810170875,0.011765094366997686,0.5878856919297817,0.5013964785953243,0.8733841643710475,0.08400171452062566,0.6815260298866503,0.6801096984332773,0.6690800168622832,0.942334494935037,0.8230875290068804,0.04197272624350601,0.47108285070451317,0.3979530562013335,0.31014722109080206,0.4513367251540973,0.38419418492597746,0.43233389987866533],[0.9792618656086425,0.08863297474958076,0.9222308698387298,0.4802367134710267,0.6237422454995412,0.8301829666176939,0.36046302914925554,0.4304219080879669,0.40951848027871396,0.37473102253575985,0.9255293216468949,0.8289298911930121,0.1089999898629761,0.10812335247709604,0.4278695148529912,0.09865737673280905,0.6190930952711197,0.1436916072617339,0.5223732639668011,0.007219947003717753,0.3165963484126467,0.6771907236726554,0.48403894022784844,0.9782694859989881,0.8741037960662108,0.3590707790431512,0.0454865414722746,0.8456263001150188,0.9112343103146714,0.8206273934190368,0.12794994091976486,0.9979151344122877],[0.25858422155277383,0.7242049128083701,0.9080348763357216,0.23568711433070944,0.9082585546770661,0.30948157919486696,0.9764132223840561,0.2812600203804746,0.9534358247578352,0.053544650892674905,0.709272011669813,0.5321111338370037,0.47787707712273064,0.22349431425584,0.705595789776492,0.1908094914463071,0.5528417959847682,0.2532453630402508,0.9556213797813561,0.028631193835652824,0.19972828011123656,0.24231060638744772,0.4140678257678164,0.23273024187005353,0.49134909026878526,0.872465523258539,0.7120634214091708,0.579961980535111,0.08900317798267965,0.6939921083892756,0.16641428431093985,0.786367385961698],[0.2500567585101532,0.4170487283209009,0.3504702023179279,0.8588139146748568,0.12654445871340814,0.5656448823847886,0.14206160944306223,0.7047958361321867,0.9050781277944812,0.4346076538672534,0.4880922602649759,0.9274228364827622,0.5209913886493571,0.48759843804956093,0.5783291027043042,0.6892297363629519,0.10688337508703138,0.821110527741516,0.43550502745325925,0.07234850989748554,0.7861826691982131,0.3769499716862721,0.10036749509505394,0.6337790395432505,0.8801313534336417,0.8877535094139863,0.9576634748089732,0.867705459766688,0.002140919345475223,0.38024116641339023,0.818542579905503,0.3662530059984742],[0.6015485063797061,0.606316947374532,0.36502530403882305,0.9044739272812876,0.5032283453861176,0.4647842059375008,0.9975137456618959,0.49350036407261666,0.17839825192858105,0.513069422863438,0.81401673551993,0.7768603268982814,0.788581765108471,0.7080237839979118,0.2542178290666882,0.8620840858402314,0.8934434653762651,0.19415269661854906,0.13045563655139392,0.975604968589112,0.8683239636503679,0.8932361472099467,0.8863763846243952,0.5416868240337284,0.6464017366657997,0.5453628521336417,0.05120634919032907,0.7455030853527727,0.5053320333358803,0.6477090747902298,0.5026398049755353,0.49181132232245595],[0.17178910947776682,0.27871371514114895,0.1588526919439558,0.19566629562534243,0.9729773804203049,0.15311344577219843,0.26927042430520765,0.590589657738585,0.6101785762366418,0.15397412974382907,0.7937174257852123,0.785202867912825,0.2373177042038911,0.28866630267546045,0.937987865459497,0.8256714459794781,0.6977970330625238,0.08223322151060053,0.4182640809025757,0.559301872076827,0.18741128798377693,0.4482265821082245,0.60102587748869,0.3273766801153992,0.7809448189504872,0.8404495816388055,0.32360946943407076,0.8386571544924571,0.10357656610301502,0.8377290986226563,0.1527504316676166,0.08292715250972604],[0.6417754044410112,0.4719373657552943,0.9078906004128328,0.3631891960908492,0.2871522634376287,0.5007349061441984,0.4559461857686613,0.34442804621718826,0.6937412986983286,0.7595618339139083,0.8529839690301366,0.9728566047103429,0.26665619213250447,0.7160934824899615,0.39425823549574524,0.6770819719511081,0.47598169034922033,0.9937731027679316,0.7289021357907499,0.9524913004343245,0.8349695494811857,0.9029010111633711,0.8144191972146749,0.4591591303759114,0.2517884533468844,0.3703201754505222,0.020236232639950447,0.5239931674646672,0.5050578002704087,0.5252504648304882,0.9740312249720638,0.9114540034548393],[0.161712778330108,0.3688825215558892,0.4239561794632619,0.36053291785164776,0.7984959636039131,0.5240376698675869,0.572099816971625,0.8530135589879255,0.8059281534153586,0.1322115228202997,0.7139145840836343,0.43543612890203554,0.29464890306250047,0.050018820902186345,0.48724956034545097,0.3554366807245314,0.2515130396764008,0.6946717295969576,0.769485387315587,0.2447895190294248,0.049447436679347256,0.848752700565235,0.009959741204303318,0.937112493921472,0.6276198739827059,0.3218466352013203,0.2464779095767362,0.009005664264475244,0.23547141701087715,0.1377283015171411,0.6121662207231456,0.1665455885938013],[0.5286298375366193,0.5901164223444708,0.2980416983469145,0.035064949018718705,0.0372538806141961,0.026347332193917605,0.7391246671365462,0.31800970481429813,0.7963001859676636,0.43173282384284917,0.45299810082996383,0.5128826025095737,0.7130314563751039,0.27350286582970706,0.1215873495335269,0.5560573351914615,0.32697762324273927,0.4424913136680374,0.6469467083373054,0.4941257411412706,0.6202788171008429,0.5442000021136278,0.7397963719360992,0.70593661771162,0.5341898918086192,0.6789030208597069,0.8735596022726128,0.4322712877881686,0.41276307274879365,0.7642456208523801,0.582553837041994,0.07100678022258855],[0.8921120156910813,0.030783102237640136,0.7483963562097431,0.7587941427043129,0.9531110852819304,0.054134408402320755,0.596856860784491,0.42784057062705294,0.330632954859542,0.09031856029907304,0.5626541196713092,0.47904072567461364,0.10455445815102427,0.6124895070970834,0.7379531202529385,0.7672783010536482,0.9053731882624274,0.4094707418887772,0.953072768622137,0.8654294050826861,0.29650157102393904,0.15928303734945848,0.4353893961280134,0.4018987079559666,0.5757193053312043,0.583386232327748,0.7499869843799752,0.5098899482056102,0.10482264094076554,0.8582913355531061,0.30976458318518707,0.971297460306592]],\"type\":\"heatmap\",\"xaxis\":\"x2\",\"yaxis\":\"y2\"},{\"colorscale\":[[0.0,\"rgb(165,0,38)\"],[0.1,\"rgb(215,48,39)\"],[0.2,\"rgb(244,109,67)\"],[0.3,\"rgb(253,174,97)\"],[0.4,\"rgb(254,224,144)\"],[0.5,\"rgb(255,255,191)\"],[0.6,\"rgb(224,243,248)\"],[0.7,\"rgb(171,217,233)\"],[0.8,\"rgb(116,173,209)\"],[0.9,\"rgb(69,117,180)\"],[1.0,\"rgb(49,54,149)\"]],\"showscale\":false,\"z\":[[0.11786010867977015,0.9582511722325032,0.09101180688251698,0.23103613794705946,0.04657994208654159,0.7051131466389949,0.8502987365717918,0.4340710818159804,0.9285220750424297,0.5902990717555996,0.6300071354465232,0.8454192017007699,0.2968002050518389,0.3542657213276258,0.9059519191946444,0.9009634960387638,0.9764827762008709,0.9018383164416711,0.1273720360333609,0.8237242861369873,0.40983847810959406,0.9908013559459379,0.47228096432880107,0.5538360825022206,0.5297749152567985,0.3217370298582778,0.07502208889291817,0.8956512304019185,0.8026758125262868,0.13952678055966927,0.7767682713500729,0.62584666605061],[0.4091437879176223,0.2540211490955627,0.8597287835022325,0.700188259294053,0.5477399094691369,0.6095685338984641,0.09106618208218098,0.4739197609111919,0.193700292785702,0.20838367900882537,0.6613039622868667,0.9112561518342881,0.40375661047834654,0.20774927301219037,0.6487469372366542,0.8711870463503177,0.7483188011224908,0.8687572305365872,0.5365546710107993,0.7518762443691909,0.14006455935893647,0.3482746153631915,0.38954916448152244,0.5112957462460346,0.9290763602568237,0.8742965602221743,0.13452549228918453,0.1727896518824632,0.35764054958891134,0.2907438658906739,0.6147709531562623,0.9027760477645449],[0.9622915416725868,0.6536029525352265,0.8381592014010867,0.5252022002307971,0.20832694686003972,0.5246884120934774,0.5550826014376511,0.7424575642135566,0.2198829897073491,0.3683103820867317,0.3640274692145663,0.9594395957411649,0.44394496032671893,0.7550939672981465,0.750811381374439,0.2655441848032414,0.5718696893717321,0.8943028933186481,0.47519771945694944,0.9451175073425461,0.2144582293241616,0.07415910577403073,0.8914538731447493,0.8476811979622166,0.9925898759338447,0.6793934881124261,0.9366879266671495,0.8269490250841108,0.8444263331200869,0.5691415704542683,0.38236459791671085,0.9345580725432818],[0.43211717561589447,0.5388193672496691,0.44611430712518774,0.5648183139601971,0.4705050789923272,0.04796755857947588,0.8820481860076986,0.4443938189157698,0.5889436485073487,0.13918780275798703,0.003387847982639136,0.24529009364364296,0.7045860321333502,0.0991945301128786,0.9088874403864678,0.21502256935618458,0.2045936142917758,0.18150796162149552,0.013981712971364746,0.7718054684782346,0.8750345312452585,0.6141627026161989,0.1881999816798623,0.28527799694087974,0.4759266973649633,0.9543459516233008,0.2473513718177428,0.731645903919888,0.4394482232929203,0.2978473483600218,0.45591593702211375,0.07120671754123253],[0.7986873709303625,0.24330192798296713,0.7254121231929704,0.06834837144819472,0.9550985561656861,0.1930149854056986,0.8827420762070805,0.8094732096154345,0.967859924081416,0.4778906609457496,0.7273972938459515,0.37071065703778405,0.18436823801969382,0.4430759329334488,0.16574901538845488,0.9820446227863839,0.09624649114071637,0.5892117234526204,0.6264638552540559,0.5380795428740542,0.6621858857118336,0.11618077501189095,0.5550185242052911,0.28721257112736154,0.9401760633010566,0.7620716534397257,0.9725144821597427,0.037556069740189546,0.2851331751807087,0.195422586638349,0.0111545873118305,0.24232573024632142],[0.6787759835204289,0.23108892213456855,0.5090034454826182,0.8878181149649986,0.6937579203490752,0.39462906990603197,0.3724689389121083,0.45573581400848473,0.17704144105990638,0.6340007674159881,0.3641528191046055,0.8523653492620437,0.7565526600578163,0.61051316409216,0.36420222264951607,0.2099318316734844,0.7761518641056229,0.48640909899108653,0.2247500381773575,0.19517461504000622,0.16540090450135903,0.777161196205595,0.2289871853003117,0.5266422635251975,0.45154636097305645,0.5796108992282839,0.8771549003711943,0.8677473900817306,0.45107607182485965,0.015366250734723308,0.4264438057143032,0.6061935374241404],[0.5577647590980618,0.6513361058002055,0.15407573247308348,0.6465350987807326,0.18265161874377223,0.750523980696749,0.33908761326268,0.7098954333814536,0.04786559890610709,0.4078600255909134,0.7050345222633327,0.22687051633149413,0.7952870447972226,0.630779733104932,0.5875617721497983,0.3535488542043371,0.4824514703811176,0.5973493009778531,0.47246211391489046,0.6983133239405601,0.43369693310695956,0.20227318174203035,0.21393378280104725,0.005803768842941093,0.30095771555867246,0.7489176404785196,0.7941627088376095,0.20246754209575002,0.9590439968714077,0.5024027934801267,0.9169787490185026,0.7067652818616311],[0.7224334230224131,0.08504362130607113,0.21999112689693068,0.008814833294472635,0.7161276404767375,0.34443828842851,0.7866525160763468,0.3389362199370263,0.8193337522988611,0.130698253748313,0.1733731567575082,0.3408765395839365,0.4084873888822733,0.3487028108429784,0.7636470325232199,0.0969513926267147,0.35121701963848806,0.8372399995154594,0.06679707726217199,0.9423435076713574,0.9863168422720129,0.08856817382508009,0.29127252225573697,0.37240066603535615,0.7763913686527261,0.5959268121167338,0.6443657004925674,0.757509822818506,0.11797899943702572,0.8332094569102624,0.705619804180144,0.5773417251963703],[0.8897353347830567,0.7003063538838071,0.2016999626310254,0.42974538107566673,0.4940428669357333,0.055217626750405646,0.9546375133600558,0.12857726079687848,0.6974612672267269,0.5062310360908802,0.025632249884422587,0.9247474758643617,0.8518368088189332,0.5242579279038355,0.22894233613944526,0.12162289068009424,0.3633924794321266,0.2554282810460905,0.5066912010062987,0.966409296123429,0.5749534932296414,0.8899310558900979,0.6508788374957772,0.47524652658720046,0.8546075627333712,0.4713681101729975,0.868628170510361,0.2915767695757653,0.12881307376298812,0.8553144643629383,0.5874151637926668,0.8890923982489601],[0.9378272069923832,0.053628390371449175,0.5009693018588683,0.37496454907452925,0.6258583970701171,0.7935911972023235,0.28059021597436895,0.5567983843731716,0.7087285799048996,0.13443108283573402,0.8140669059512669,0.6061095998529731,0.9495374371136518,0.3395289191306933,0.10814594233719865,0.5065012010369253,0.08581077170943885,0.9695265233240068,0.03868495825719154,0.753503901107308,0.525102398142244,0.3686206524982887,0.06584216450865465,0.6221669241736077,0.5852203293909553,0.28088327306759975,0.9102217014103121,0.3041100073428369,0.44972541059210613,0.5437624559186557,0.1002318781762861,0.9321617192136323],[0.3745361524510411,0.08077921387434361,0.38729117367532995,0.6002025470925807,0.5136526718213296,0.694541974037274,0.05548394206791063,0.2845406102720561,0.8192305768401023,0.07989368779136086,0.8554859546959576,0.09189609207710625,0.8344542148916962,0.3607884010787267,0.6122090632572158,0.15288711564799817,0.06616872172518085,0.21593820402013508,0.12785381790869554,0.3124058976796318,0.5143832465110202,0.5887594635650095,0.7898681073797429,0.6562398932483586,0.608758325129553,0.41178202748577464,0.4738084349601387,0.4145208293901811,0.8421660300613831,0.23000045254839985,0.0057209315419646245,0.6513198972262393],[0.2024621836388314,0.8901151363098093,0.8590463297066561,0.07672737192820589,0.10638840541407735,0.4951715922466663,0.6092226627693547,0.27490833748224075,0.7167977166993706,0.5949160209188715,0.3248241097485547,0.025371488042315593,0.7501502812985177,0.2147536658250827,0.8344737434626284,0.4202902600542552,0.5770774426317654,0.8729487304090019,0.8636230009199534,0.37151957524357326,0.20888889271484312,0.7751460777285947,0.4330802036021312,0.1920419935590041,0.9044253423171502,0.19810419424108738,0.025807168191231078,0.020279973767419968,0.6223153564542643,0.6616750607175304,0.3110417050569839,0.3200109892470634],[0.33949391505994275,0.6801585467588787,0.058133791026828585,0.9291163526913256,0.22252104417744645,0.9996732052420922,0.17152269378718699,0.7715464573123775,0.22341254492962503,0.08084680164325397,0.8749333243506489,0.8587512591908919,0.40357039244960136,0.7023961425404268,0.5570659326839171,0.8529561136737488,0.3150559693186544,0.5236723999989852,0.48537237120455046,0.35390582625685874,0.8914550645563722,0.16587792466253548,0.14950863952069615,0.5769095353227514,0.657494229984942,0.19461925432456517,0.3907174422546241,0.9465638429787437,0.246617422690674,0.6683607021173941,0.7401493936975908,0.44812869946515954],[0.937525986759583,0.7366567352187905,0.45792457986089785,0.569335201776094,0.6926134434251007,0.5921901804292182,0.8786975838260759,0.35688866228040117,0.29988574005580493,0.2138388894952643,0.037782968064595135,0.043013964380055336,0.8700551931092828,0.6783931464059073,0.6605324154364861,0.614642818934886,0.8492191446941049,0.48026692566562745,0.8704108285583003,0.35944502618223917,0.9267075043390905,0.6986569800812401,0.25717713602442727,0.5640849216886251,0.5330305614882556,0.13789882173033396,0.5912429057506141,0.31478562371695795,0.05234876680960243,0.9486561577065649,0.6414903690642878,0.876918931870847],[0.6760560050132531,0.35698369214011294,0.5126880723288114,0.6757467603471771,0.9602523252014376,0.2536694591216965,0.8749770586241177,0.9240778052942694,0.6704155146589565,0.9312666274013378,0.3978785874773685,0.9530161760404428,0.7027828771659749,0.0420057674188119,0.9068728318190528,0.48447280903319256,0.46032698477783285,0.5664666059796343,0.14938454677122792,0.46916604856739863,0.8311272167177457,0.015482459137515336,0.2729171603243713,0.00245458644384422,0.41571130914984833,0.7283155104937347,0.7987718291146285,0.9451897611270066,0.6085046129707865,0.25462686665289547,0.924147949136699,0.7753157538803761],[0.5744284830031445,0.695640215718936,0.9243163550074291,0.7123940284729217,0.368374507584734,0.7130282022890967,0.04027816273538787,0.38641556183058123,0.4063230318455793,0.16683823442083467,0.023085480551770177,0.13338123663774282,0.6546214957970551,0.8022888163636875,0.9882034927269742,0.3463635031084943,0.5993792222611017,0.9371449668151219,0.16704178133815262,0.7176455863427427,0.7549787331491632,0.08897553586933837,0.861249385183065,0.8131050471108439,0.033403006577434446,0.09108441488005148,0.04912689389185232,0.3347435317993622,0.5092889906799262,0.5323477279546288,0.26766675976944265,0.9115968865602742],[0.3682627898719132,0.0455501559653525,0.30022711154138637,0.5311094225441555,0.40822182258823203,0.27384251909925916,0.13132324976431742,0.8191645000962298,0.9961452421241919,0.32954213352388206,0.3816210441766039,0.618037524676957,0.7184414747355413,0.39202953480359126,0.9049295169818152,0.5600039892289184,0.450390076405931,0.6466727531599051,0.9528038482491732,0.7945522944217055,0.04001313053512434,0.33230991073995964,0.4705446849512227,0.31451757220910526,0.7001875608304565,0.826269149862581,0.7313450951852716,0.9893332868282753,0.2725476478930291,0.8749894950244215,0.7666226651744862,0.3621787575581461],[0.7341245436569687,0.10407595641824696,0.7893334823405523,0.5323306025871026,0.29229017270925317,0.6557773017841801,0.641619998714409,0.2094862227195997,0.030397414811526136,0.4336225869016739,0.5695118693444212,0.8766052783705984,0.9282167956475944,0.5288052181567664,0.7538034837685449,0.43930327232799693,0.746082156572893,0.20480152493916692,0.3710647348035314,0.6342279988136148,0.01815796560707883,0.722461310338954,0.8355355012681668,0.39914166109395144,0.4479424171771643,0.851282212216531,0.7756546353260334,0.288149489033375,0.32397610656153897,0.6788782323905966,0.5631980924481612,0.16222957109649694],[0.3099299092291664,0.8999832768786541,0.6881744367222634,0.9859743176855195,0.7670125299807694,0.9419744321435902,0.2161885738704754,0.7714848748169257,0.02021752014779743,0.6707600217115339,0.46928227812024137,0.34676007192006864,0.8624043522930891,0.8542676926575307,0.022301704898643582,0.609505122449431,0.3678322243209564,0.41566100150044916,0.832040739218776,0.3098397715276783,0.9430488106376201,0.17963382637214076,0.6627224233681778,0.6721050670137647,0.2521951614279182,0.324750608967202,0.8347984925799404,0.7618052549549524,0.32909588031475956,0.5339565469349339,0.06168029625309546,0.20874588239862923],[0.4858205588603991,0.0859737352792116,0.8433323548919375,0.7180062101076479,0.9436336706484948,0.6934669059640272,0.9404013722621856,0.554512555690965,0.6002186110619694,0.9769710546262609,0.6421291468642604,0.0307865688607466,0.7238027766305233,0.9054686921374157,0.7955802497943266,0.5838332726254226,0.6713035130935163,0.9901917892516717,0.09066208850933832,0.6672448286332395,0.2833976945705938,0.6400903965861701,0.6076235758839388,0.15345683210816208,0.20674664574023915,0.6216295780432135,0.12822994730377413,0.26518087513032285,0.8352455477380024,0.3270915060016386,0.4880601562696629,0.9411403351458403],[0.2271490888369463,0.3896260173580104,0.6064577755435456,0.7553389295039722,0.9016533867127051,0.9154729875735151,0.776640074372623,0.22833083659331044,0.024809330042565803,0.3837739303556238,0.14154885098782333,0.7103876474382981,0.6611305868257168,0.04397164162145484,0.8365937791309511,0.24874326629118226,0.4322270754910422,0.6679337354557424,0.4294187868522533,0.4412878027999434,0.06562799533574037,0.4014435492600038,0.7648478932199835,0.9151763371865977,0.41349713706337177,0.42358582687907886,0.7026271063236521,0.9427720011052766,0.2670609402393602,0.44014420653793684,0.7959732435523011,0.6096935693740385],[0.11058634396395473,0.6277327355622657,0.1867462845973269,0.5102159340784042,0.5291032676604385,0.8762033622249848,0.46249427401243814,0.2794424222358942,0.23096634821603157,0.8742518766843361,0.1710108544182284,0.42586856088314373,0.187173114926947,0.7733040401143754,0.474372639974619,0.35114369055681205,0.3610996406264668,0.8522142067229794,0.5537739542944381,0.7178678511312636,0.8970385162506845,0.901741676040642,0.32850905433786315,0.9524512631463853,0.024875882014605444,0.37683556101616567,0.8957988575088416,0.2746368798169829,0.27308145032131836,0.3026222850818887,0.6123133848469222,0.4383327756143538],[0.7267348363533426,0.8949106425646658,0.6741993749428606,0.2044667201975755,0.9326819023605022,0.2644928733474785,0.14989429532815812,0.0899672788609609,0.5633837406661656,0.1137624624806518,0.13877588411263075,0.30003048059549664,0.28165300968446383,0.6042395103321423,0.8167452794726815,0.7613496562028924,0.26248445471647674,0.24531049798597993,0.9657915301069676,0.008236241591960125,0.8797205330602158,0.19972851912240497,0.9472843230897678,0.3423072848275197,0.4403517738932523,0.707120613944381,0.5876690514732603,0.3179393297068228,0.5538309158678235,0.7307068843628862,0.042334945902492094,0.011199305255704117],[0.4580669390728913,0.1318366178035142,0.6643442914647144,0.21405245622743418,0.43285110679567096,0.19767093687426895,0.5484835857491245,0.1160534593845689,0.02310685278748026,0.051131638106697186,0.9542584415153099,0.14228621861093582,0.7084782531368352,0.06792620422282625,0.10816035223518217,0.5088762514093347,0.46487093015434366,0.9515803094398696,0.9448354530207373,0.7796086425424651,0.6021018301273497,0.454960317393011,0.35617853432842106,0.9470875469755554,0.6029088114246856,0.5790725276859945,0.23190112176891486,0.04669781788511307,0.9451885797595444,0.3137352588446539,0.4425890233244587,0.11463994358570684],[0.836924329909292,0.027631832855930627,0.8339907620990965,0.1402850127879668,0.8865641126311521,0.7297726373361574,0.1646702625073051,0.5658179928594681,0.31265631435521946,0.17823309891158345,0.8591821994111084,0.4035227665072294,0.3985437143653825,0.16988667480662,0.3830656760857787,0.8716168463288502,0.3631287104896359,0.9516035624997881,0.9463088992083875,0.14489865930734602,0.17731125352264487,0.8626740703318891,0.3927609189247192,0.004373982283009337,0.273871819705371,0.59762899319556,0.799265965959968,0.13338861709325955,0.11054136441673534,0.9220926535723316,0.7511483678225827,0.5897796007780784],[0.769186789995928,0.42885436130663845,0.7584557473091266,0.37180299127453575,0.24409457249260236,0.7290134212929686,0.4196722921572683,0.9813771043261948,0.349485182308101,0.9217274205310659,0.9329625485670795,0.24185294706474614,0.7982211815880134,0.43307450514456514,0.9175247272303481,0.4501242726352388,0.7443037173373661,0.46696740916379786,0.22780075571285618,0.1993501289446863,0.42543119425634557,0.7554946570142149,0.6050714851807668,0.6886292899005433,0.28232635073194245,0.4814353459576055,0.044395264969327,0.8175324159581207,0.9898921622398746,0.4068790626246709,0.01096365313154335,0.16979263955094737],[0.6525268777504188,0.6120793182038592,0.7878647195855439,0.25388401096106816,0.763631915547134,0.6879840215236698,0.3228144977138433,0.545488148056962,0.14727380849832672,0.45256450343558263,0.881197339555641,0.4211913798253908,0.839566706475422,0.5902533652596944,0.19187671310235677,0.5811062446978964,0.5059833291570635,0.398641335196384,0.11963043951607033,0.4167086638472298,0.07276237623962711,0.09876905139875125,0.415916532932716,0.3053814819684637,0.9255443258622235,0.37570580538027054,0.7578581220721001,0.5302475263662427,0.7040856686423355,0.2601159830153992,0.9419049728383291,0.530088496914424],[0.8313240712852497,0.3650456934761135,0.10021134905052453,0.6737116477208488,0.007759648337424485,0.4752929765655083,0.19280190266645925,0.6273755044353622,0.9794198731378522,0.46440290632064596,0.8174982565256667,0.507784186951121,0.4958400311040241,0.9304234931787778,0.8899658687466815,0.7858004651879744,0.2962557533167841,0.5450084157239405,0.223897233305685,0.44391669804653977,0.4842130657597906,0.8316400401693309,0.8960283653249931,0.41462006239647786,0.017704445073237207,0.8617738397893546,0.1742786785013607,0.6218819638903935,0.024970900434131194,0.39950647526056426,0.9859603021153498,0.1006936011038031],[0.4236931519996423,0.30714995018995217,0.9050881233882643,0.8693401079073552,0.23769876030622883,0.08118778705043117,0.6271383940611175,0.33636871188370976,0.6720843906060631,0.032119756067814476,0.13339923517748942,0.6863722327726434,0.21237065530249777,0.8575876757624016,0.05859088771013543,0.21548198278557462,0.9985602484850686,0.43307610258679263,0.7029656635446435,0.18266304885701368,0.6098687349855377,0.7261060683694185,0.31447663586651053,0.8288971119758778,0.6034175784722833,0.3891230096150302,0.5576423933431586,0.5767608474359243,0.16553529269386602,0.40273236986696614,0.3434305880194931,0.40090272257912607],[0.7611105884852579,0.48253840746667265,0.9403161532392643,0.2936764133584362,0.415703578284929,0.7869568104790414,0.5460245933207503,0.5470281464244477,0.053340163005183516,0.3985996627184558,0.2707337324217325,0.9993351228311154,0.30835507063231027,0.8844965347938635,0.6762337350404775,0.34091640919209043,0.5435343783741237,0.8405358799491938,0.8833682980309119,0.16039387500614521,0.3395731412081696,0.33522318021357167,0.04204479607594469,0.5982377598518965,0.854820052992188,0.3815743878255178,0.740035944984177,0.6277004136007399,0.3756487354930008,0.14105979949229708,0.7093238527759673,0.8545651689412405],[0.6858544924014919,0.017878484034818065,0.21623289439099125,0.06947998488353191,0.5703860995762268,0.7564776788404124,0.11057918706865943,0.8383378205933852,0.5555089783954832,0.6899690121417249,0.9714018486086462,0.08368098824769732,0.9012240229777893,0.1261026959874093,0.39295880663668226,0.8514386963311144,0.9062542367378682,0.5063716735451453,0.5941046382754251,0.7081473345985572,0.8327586684527142,0.12151116953766616,0.8100693082292276,0.48127615051161676,0.450623425108169,0.42389975199699825,0.5092115852460426,0.9450505533946035,0.5482037727921516,0.9531775382631392,0.1802901306156406,0.7241359788326331],[0.8122395386087472,0.6791288313348619,0.6069222802265404,0.5648127810861823,0.860930482578696,0.8216465971645001,0.12228872118059952,0.8485876570308781,0.4140686194404425,0.2536968299958108,0.8697685680139259,0.43202479963374163,0.8083646901768167,0.2634036119558445,0.003929321422217802,0.4954591929029444,0.10022825664288426,0.7543759555249097,0.27607513606941037,0.4436456466034787,0.08703356509155424,0.28665924844725266,0.781490243258572,0.15158791190231946,0.6471595611269574,0.9174258528045012,0.6798367597577203,0.8110216892922268,0.1089716293039158,0.25073182600205446,0.894538852240591,0.7151056136180892]],\"type\":\"heatmap\",\"xaxis\":\"x3\",\"yaxis\":\"y3\"},{\"colorscale\":[[0.0,\"rgb(0,0,131)\"],[0.2,\"rgb(0,60,170)\"],[0.4,\"rgb(5,255,255)\"],[0.6,\"rgb(255,255,0)\"],[0.8,\"rgb(250,0,0)\"],[1.0,\"rgb(128,0,0)\"]],\"showscale\":false,\"z\":[[0.6395538263773112,0.6637667361217,0.4142005543046434,0.04455663161765322,0.784441542070729,0.6787132362153538,0.4728044641127247,0.8997596153682574,0.33615966498509886,0.2943217442312359,0.8727963250794428,0.7969876547589855,0.5149798106483447,0.13073473945784997,0.21507147146505246,0.6562279904088066,0.38504123784041167,0.8364731916659712,0.9499550093322041,0.8056369252749183,0.37754542299555716,0.7886864292314241,0.35144167347068345,0.1671000877656339,0.033393204865857395,0.38571671276102004,0.9035593036972819,0.2389865877556765,0.206513164929784,0.9698207852410403,0.02500411285059212,0.7857821503937543],[0.32136995574087035,0.037487956869659333,0.9178025402095836,0.1396423302095836,0.5517792837256954,0.2740542074295478,0.06519280218469103,0.04992248566337909,0.11555669883633879,0.07136701388938005,0.7605581155199229,0.48556620228342917,0.3428920913489797,0.41836891013200717,0.9289467355726233,0.9107518127381472,0.7156764801225769,0.8846823774216878,0.3196480275876248,0.38110932600828284,0.613712181854228,0.6236259472972642,0.48169983801234095,0.40065784843795327,0.9861803116086951,0.8211236261177244,0.4349801978880452,0.7272924772395685,0.2695616932524595,0.10016932623732988,0.35243102555274064,0.4029728001233942],[0.0165371245606708,0.814792001635896,0.3591934023891815,0.580418165780147,0.07396318727095597,0.17499682875058398,0.88969372532756,0.6086875278828008,0.9502840501704856,0.9987500343913169,0.3718601153330944,0.2988030640832746,0.8583560551590967,0.9986114270374542,0.6296412342324573,0.7951407225115223,0.7817458588152745,0.35533970821954697,0.5742703802570872,0.8330569412642136,0.6881138762610555,0.02116381398203826,0.3367056688975335,0.14447569659460535,0.2329722120780391,0.9054894774913257,0.03689328891076815,0.21980071196192374,0.30956935223823145,0.6168840719663948,0.5341016900858655,0.2182694828533861],[0.16424106722315446,0.2367980345961188,0.5025296267016556,0.27117778571120343,0.9476025016077222,0.46386522142884756,0.058796016544637064,0.7292664058366334,0.3288452882089896,0.6534889320582475,0.279594370523232,0.5707437417333199,0.7721525048074647,0.928008741774554,0.26112714443307705,0.33485695099898116,0.4642664202859397,0.9271748377359889,0.9013868568106571,0.08987828010063803,0.13192982575381085,0.49550917733063826,0.10661927280542349,0.34558087334869747,0.14838537821747766,0.6360403551318858,0.9494954317391617,0.9967337702943815,0.3752411324969148,0.5990126371146123,0.8562676535240813,0.11746207279638399],[0.689564411051965,0.40884366172506825,0.20614616028016408,0.402753618747442,0.07596028696491686,0.6954071485893057,0.2527426687484531,0.311405645044878,0.12108129824146274,0.8646591138898917,0.4934442792827386,0.5721468777864003,0.5694326830948546,0.41049311454134174,0.19252991543813947,0.7451327484983999,0.12705626535767434,0.1038737902788105,0.7101450375965034,0.20883702045198382,0.30677275135283233,0.47522746700174023,0.4493513167295462,0.7085791250649992,0.623431793443361,0.6443961622818657,0.7140543306554573,0.29261272742346534,0.32233331180047364,0.4379977478955541,0.3074621730335261,0.9849378689708634],[0.8140519264214297,0.16465468825602958,0.005594155881869511,0.04278326824726786,0.24406345104292526,0.11429128583685655,0.5333381148925721,0.8579952227273586,0.7367502209132274,0.2156090630821904,0.39929925602578586,0.5078942095312776,0.8102058495033355,0.8391216031061648,0.909718311907776,0.5092452505028752,0.694274746435863,0.11180037123393716,0.5652889599539821,0.24869180947113512,0.4317168850266111,0.6340505083067194,0.2569859378537811,0.05218505779676108,0.010233856408757513,0.022159535544521547,0.008349737513769662,0.11035505655787547,0.23948871457012988,0.22122151418229918,0.9867965941798967,0.3060061052089432],[0.1274207833593991,0.545562544167758,0.8579574553975083,0.6780603767876752,0.2960820891354503,0.561616159791455,0.7148559742004091,0.7281044923677423,0.6665384552976888,0.870810424775618,0.8701054583441044,0.5789365594070033,0.4298563691112123,0.6415702955650998,0.8182120013704631,0.005652104841184724,0.9919970090148511,0.18289377232919923,0.4702489856599762,0.8720297348428667,0.22504039904419937,0.4767952239003832,0.13258218018117918,0.3950763253881926,0.17713545479300252,0.363627748771157,0.373464216792722,0.9931707895983327,0.9948130293037722,0.11478627866061242,0.7259687793283472,0.051745479669101146],[0.030192015337188627,0.10533389424496431,0.965485657007934,0.9408635478946974,0.19392782028068045,0.16167233555371152,0.24053508651594702,0.5155469940751422,0.5697046320354099,0.22159343043944735,0.7566227880899452,0.30955316940265076,0.9221313255294104,0.6567227064567306,0.4363511943036117,0.7899120017028454,0.8179146260466648,0.29048160560894365,0.33971454383608435,0.9359551537286034,0.16474103836327192,0.0421504169629342,0.4540553226095492,0.8012099002436289,0.7716681063107458,0.9195306289128325,0.5332006643690402,0.10006467156653331,0.5886889743360161,0.7783956143532116,0.0933281202698264,0.17265740109758976],[0.012290661155670901,0.5936525794468104,0.8867343919459044,0.6706633160020995,0.982040087590982,0.06303365249976156,0.9030010851514962,0.8140682873866807,0.31424152049950493,0.9735265518372518,0.28793774817141504,0.8893047238282185,0.8807485770741894,0.7576576166029725,0.5634704738128519,0.12000274961688806,0.5319717344964983,0.35679625565493456,0.7922170331553517,0.7581292064968449,0.9106125073726052,0.014830162431707872,0.8091032168230461,0.9384620531246688,0.7893004491081501,0.1301944598703667,0.08127910484088774,0.02084523980770081,0.628745225828071,0.6296726518598873,0.9869137142182123,0.39804317410409573],[0.33190628489749674,0.6244249271843925,0.825608672507594,0.9367739495230019,0.8031241661790386,0.42667398061580475,0.6349142353120641,0.856299326716117,0.49060968831173946,0.2166866437053927,0.16972343974787296,0.0001577445780567288,0.7182379949812843,0.1110972088459905,0.24383909969594042,0.29787633152279336,0.5603798601367683,0.39795727729576924,0.6746739920231618,0.05563865932870271,0.12393919426443945,0.4992115035332667,0.3369647878468298,0.2958133627513597,0.06702807903752273,0.8957191747480014,0.6918185861250508,0.12161815681964938,0.06504595773714061,0.974872533431243,0.6811725504395049,0.4174560710937415],[0.7017310407557849,0.7563317864801591,0.7799622023887793,0.47787730565305764,0.429882758124848,0.01102808426890034,0.926557115141838,0.6033078783889431,0.2031539371899681,0.9196034194214366,0.9149319017702964,0.9891841643660959,0.8740565631389788,0.9977843878200647,0.24468618812327259,0.8422495851992341,0.8230283087957645,0.23094035922073375,0.09843754900099078,0.9794205136775996,0.29602455152061036,0.8708917904678061,0.0041271546746038945,0.021024807219602204,0.4658713086963684,0.23871468393506357,0.6898412834359643,0.5655643255679543,0.07748579745049144,0.16262829631571707,0.3880492700584143,0.18560406395543316],[0.7922223472439286,0.41607023555328004,0.09343186684249927,0.48434290227212484,0.09083818106141417,0.12893730541981718,0.2396098320282053,0.8595277052474898,0.9246125323329719,0.8262577293320691,0.33407721741784724,0.27244644110883165,0.5491556907902392,0.7218531605331123,0.9933727881601748,0.13157071187892622,0.049291999023804434,0.694355888995271,0.8322257835039055,0.8463487798664232,0.6784635490771607,0.9540158041191871,0.5110047635445869,0.9138147983362125,0.967812136991523,0.8471574570031077,0.3097585632586206,0.19621565117029527,0.5481200649818184,0.45301475038018846,0.877758342192733,0.10003167106715372],[0.2577400613115186,0.7517989445187085,0.09498664497731213,0.3207644140217002,0.38715539405398314,0.62259379656269,0.15813264571936458,0.8606044903497095,0.44754223546627425,0.9170217118805565,0.4678699136339316,0.27504025894073336,0.14182882868767488,0.003745094711284813,0.5321574849848356,0.10715669692692342,0.3917277636311782,0.5892717612370867,0.2756858969027003,0.17522429236611525,0.7747216226093416,0.9467911722816206,0.100440417861966,0.15559032438500786,0.9600126572527187,0.03778422181224628,0.9776323365504722,0.004644483084988771,0.8736686556513313,0.3073251809877495,0.9385888581772965,0.31694528863558546],[0.654306321534056,0.08003256976593665,0.242329811453739,0.7736793464792507,0.5286858536788197,0.9279690617870447,0.4287514083413543,0.8698123658139231,0.4489554374782375,0.9792482787019853,0.9598343813988768,0.3291367055560803,0.8859236704168032,0.8476113742156492,0.21068039732756283,0.6242904007832697,0.07268231558981486,0.8367107205834616,0.17454588350349654,0.07081470138576451,0.4002190955388112,0.5769221385996435,0.854916958559771,0.9742425255217365,0.43949251256986366,0.06044692298527021,0.7491155790258707,0.5651732562239374,0.44789134484446314,0.30926887879218967,0.5023985278435357,0.33867960445703094],[0.7570118677473603,0.5438936964926411,0.876847774154112,0.5435439146494421,0.23826241333993003,0.8510918822321445,0.5572190449300439,0.20684103814356125,0.6235078099562221,0.35771676494242755,0.8444056122920658,0.4532997386465428,0.7264413581074167,0.09553620763623716,0.3960243463023462,0.9832414364723987,0.8084602894771483,0.15994080236692865,0.2777640494772551,0.3298158088563611,0.6503655604954457,0.7569947594896556,0.7495266088079098,0.5098740563064028,0.8108205378381512,0.43707808275747506,0.1238805652955619,0.5644418416538133,0.9523013846011067,0.7929936513925113,0.5787006476922424,0.6468056603490969],[0.9305620270355727,0.4283427944349605,0.33139413894263736,0.977241565000449,0.8634431335103334,0.3230435846186024,0.4637805973609228,0.41507812900779906,0.14909567867143392,0.9578193238132591,0.4043124312197588,0.875329082637908,0.18935622768066507,0.5478708106372198,0.02396138512426982,0.7642204838423086,0.5809138982462784,0.6255895834697527,0.05172088255465346,0.2110383302086154,0.07433087235358016,0.28891431580381177,0.627439007682151,0.5661859843173752,0.6121498216133903,0.5492512713778943,0.27302879567585936,0.24450749734442523,0.13705968353658127,0.8490708749034921,0.6164793585412445,0.18651101250405977],[0.17720937982123952,0.8730356015261367,0.7427308637633193,0.6593990799053714,0.4068641075392998,0.26197556427851754,0.9794507631128238,0.7972395750228002,0.3017792231362765,0.8475647962784947,0.7589319486146815,0.29708054987799837,0.4265528542416397,0.18595344539102665,0.11105244437810935,0.7227620328396968,0.2675118573538666,0.8200593657462536,0.9956087115144261,0.07661981392964867,0.47303512508370027,0.8020625593108031,0.7889508965412335,0.7599971583309685,0.34899493530191095,0.4538532556850523,0.5949683573414702,0.9739405835732572,0.3275472709384929,0.9231438877168577,0.2693569181804941,0.9890744654737046],[0.6702636868275917,0.46351148035855094,0.6133904280636049,0.2725311690402068,0.2741738575114666,0.11355454384349384,0.11405029770539876,0.34767174146891133,0.7628554778963716,0.6079711675981625,0.10258456033102081,0.852236524975911,0.6013676269900664,0.9608555767847797,0.6701854674112075,0.175174863704181,0.47378336230782225,0.6484975975472042,0.028264701049977692,0.014910264154807895,0.1294030005985679,0.25166443504547076,0.42954912352067554,0.4874404737597884,0.13802760893789678,0.6733915791158308,0.5961380616965348,0.2944640988411602,0.013659883435292008,0.07764791535329074,0.3916947755108394,0.15397435116568392],[0.37681960614797083,0.6281826045103551,0.5472374278792835,0.23117588313739423,0.3438224912587524,0.6140311984486506,0.8608550280434487,0.7532134387388773,0.5534000268334149,0.3622929983164862,0.36505127754180544,0.8794173102643961,0.0392435760405464,0.987982644420261,0.6643754108515623,0.6811376990723905,0.037997837304742155,0.6055292748912722,0.484778060090447,0.10577890689406699,0.2779220107693591,0.8903144562136512,0.5499884158659529,0.41341657517390873,0.07268215584081095,0.7141215274023056,0.7028508233960326,0.6140436069725635,0.5102626462206492,0.4337844022073727,0.5932710929879923,0.2333954517284067],[0.9412590641776477,0.5887945291802296,0.31119244435437654,0.4496798508851573,0.8056847888768923,0.16161606073029744,0.2928356224602604,0.6795080227365554,0.3154892064822239,0.792501681861466,0.13045348717736083,0.7626861704546085,0.06835171485056624,0.012592612667494785,0.8982235188321621,0.5813392169322986,0.3518268970868115,0.2325946369638504,0.6168857832608161,0.5090021835367382,0.9915977755299852,0.9832159866537458,0.6350245661416096,0.4428705061058905,0.4911409691346621,0.6824790662368619,0.10157454423538137,0.3283520738107182,0.07527224100360386,0.07336075951691956,0.19583924189423374,0.4852532545932269],[0.7847743211627893,0.48549589116587255,0.33547661056086975,0.08235299033675814,0.5502955231831296,0.27126858648317675,0.6149341779171474,0.9771877391324183,0.11131432147755016,0.21212539872193992,0.47309453809937474,0.9686138153459295,0.7718097762699956,0.8982291931628301,0.3337148484757929,0.9920384737785946,0.1028328160641574,0.05297290604610083,0.8556026270540281,0.9272648702069862,0.09058535754610175,0.1134274267458415,0.033174157755773814,0.1045075626427241,0.20941981680028088,0.970076618910001,0.6678602222396804,0.7785530255185421,0.7761394036915221,0.5350737497792146,0.7974889777130172,0.5958075323899696],[0.3145460976033576,0.5611101087684007,0.5335085861345135,0.8234530537593207,0.981727217381659,0.41104256542093054,0.7633906784413597,0.09976300403813354,0.7768313694482886,0.3714169119932321,0.039390162889686664,0.3632461785621772,0.6106427509216448,0.11925016768146657,0.9240344924302546,0.07767241327283858,0.9300067198331662,0.7071375179356865,0.3297121754142036,0.3907503477090932,0.7408093647327442,0.6014711008812074,0.6716429214549452,0.38916461651348,0.487813481807599,0.9898674840378934,0.2139228704997177,0.4178561865221314,0.2918231875739673,0.7651115104398498,0.7640126256657207,0.2924454609973959],[0.0813903166329829,0.011432676672204045,0.4274505332424855,0.4103375943357709,0.9883898786398629,0.4698020756976796,0.25641836957542063,0.8912294410314674,0.4910679496535785,0.5991756352105778,0.09566871042821268,0.38291640732977406,0.9442236744737867,0.5895053841754254,0.3445018551424617,0.6256671806315931,0.9104110895781161,0.27399060047259005,0.5051167184706744,0.9586906539117553,0.17239614329845265,0.7196639255967116,0.6144810082029823,0.6796751311406348,0.35121963066756967,0.31387937348376493,0.6842096705883705,0.21554328510454535,0.4196547448590051,0.188174646052918,0.008304841123329743,0.9700573600380694],[0.43170297865641905,0.9693496144198253,0.1403235197678261,0.587366779457486,0.2009740327912396,0.7900741269632747,0.7837029887609752,0.1126071490393118,0.9120644528763892,0.19462964720322462,0.6129773415893603,0.985633620087704,0.8823965347663638,0.956563928561169,0.34259877121811944,0.10557564221946336,0.1883468732894501,0.5004948950766138,0.7932296782733221,0.15015364418387522,0.6597315322607571,0.32357760403951186,0.3412020723921535,0.6619177301579263,0.4669994195332202,0.8120332930259939,0.15591850966282705,0.7899482697670385,0.06423524805742087,0.194053880245605,0.6561497145031654,0.8549256565110712],[0.25267962773934904,0.32719160582891293,0.53712074828674,0.21157280648930232,0.8111562615875056,0.7736366450057608,0.1452917119657816,0.4638297318166321,0.7748277666546214,0.3373295311034148,0.6331068227177317,0.05021312145757273,0.608688760529318,0.152652980000607,0.8305833251144513,0.35544946358047846,0.2815538627281957,0.840888976711485,0.050144023071810206,0.3966087993343448,0.3700035405750314,0.28480037424955085,0.911754332001477,0.7509283935167222,0.06392316419193877,0.7146874494349541,0.527299133128794,0.9008678944015792,0.31294561734835846,0.5741619996095829,0.500755274740986,0.48956090622760573],[0.45610539951721263,0.20562947553228128,0.7557099224923928,0.4513360327392887,0.9585162750026057,0.2608084271927763,0.6827438396270411,0.9407170796391084,0.6634583230160925,0.8712729076173946,0.8274809597570061,0.36011771548900384,0.6001239399394965,0.1562613398113556,0.5355258826955995,0.2304219718143372,0.7437368149524456,0.5280584218921246,0.4112273626316605,0.26879709616697756,0.9986984818412868,0.07171052088493268,0.04356068057242002,0.21725740049386455,0.9710724586278197,0.9792381683199844,0.654927734772136,0.8801066672064047,0.2139617308407954,0.9720420941766236,0.14278485013956466,0.10112518818165828],[0.1122115392472729,0.5731279232725647,0.7809744007180524,0.3666671778746331,0.9778959877861265,0.43442013811832947,0.15044855077321628,0.4659667481861367,0.6790371654224399,0.8322257805043787,0.4587682899565929,0.5936068260491675,0.26734471215885336,0.645916526405514,0.9859719439503437,0.04905357258779386,0.8865306707051678,0.5622825027675228,0.25209865956229993,0.9548897100092579,0.4833543030588989,0.3316902516733856,0.18149762827084115,0.24445221025666208,0.8328490415914426,0.6144100093171658,0.9132456194883161,0.23196845215778583,0.12113857384890148,0.006087530975590005,0.5078620376159938,0.9983069303819881],[0.694965268818639,0.30839459196514607,0.8768585830261717,0.7817222659879597,0.015415166076539255,0.8168604805410224,0.300526757238496,0.1496734645836011,0.22633083973707457,0.468579804375139,0.424867927068011,0.28888729937422675,0.1722183222070327,0.7622307896421693,0.9901097837349171,0.7777915804196904,0.2959369676715412,0.24480896141213337,0.21766587606593824,0.13669507448903628,0.5513305496923012,0.6054003719533442,0.7055026606631373,0.680213370933668,0.29233331128338247,0.33031100539684655,0.6815145354423379,0.34944764078362833,0.21262318961931304,0.37433615369673956,0.27208415757797766,0.0883127212185778],[0.8301389022766535,0.8531113891570363,0.21975030016687946,0.06477219952520175,0.7388274373511795,0.2115286258634137,0.39343548943686024,0.06413525223738326,0.22626958475843517,0.7929022783296358,0.8043964469152018,0.2070848248877104,0.33591384510668953,0.13423841909374357,0.07417263028492238,0.9921717144484095,0.6555939512448392,0.5420965091983188,0.7654985004052995,0.8400771596877241,0.8067147680447275,0.016539449289876607,0.18680789819049848,0.654905302117831,0.3757593478039629,0.982482651061107,0.665404792638254,0.9565489087292065,0.20144648164579382,0.8639570281150231,0.32135230581522534,0.9895648082378068],[0.1576886720731473,0.5163398188383266,0.792844533837122,0.4326424806040359,0.4680840601876467,0.986355795505741,0.4253081503011533,0.6040721005990636,0.0545396606751507,0.84221008021026,0.6481680489795435,0.40402010286281353,0.01616953995451975,0.5916688205935039,0.012657828484162192,0.0012036139090179088,0.6160985621493547,0.18901706733455426,0.1918875497180953,0.6532715658327437,0.05369718793937428,0.31340556147455634,0.14943190214201907,0.5801763697965339,0.6617651547273958,0.7211358535990435,0.25523121691856543,0.089249751636584,0.07868365694189783,0.4261515484507238,0.945844409062715,0.2177290342470246],[0.25674160134154933,0.10088880210585893,0.6055702738939303,0.6798728739471749,0.64293120816076,0.8611302430447813,0.48642583502607173,0.13445704076706444,0.28940513070441265,0.6624299734213518,0.6131219737415599,0.5310031297429625,0.6829644186886872,0.6373908503732993,0.8813248894649517,0.5860163774782966,0.7786013587005565,0.24870715596646786,0.678182584589068,0.9021941183826757,0.38573232789983325,0.7791041873386466,0.7247893011954354,0.05952619687182248,0.5815083096240723,0.13018934920080238,0.9673191722305912,0.8114075027006562,0.10972380124712011,0.12175199764767841,0.594473854912619,0.3448891741731833],[0.03490585907310928,0.5416415078330531,0.3878450996858469,0.10107649237174265,0.8019203922559827,0.915076765278806,0.75659393401413,0.8224223100162773,0.21649056726611737,0.263572950918601,0.20852754029918774,0.765063431365564,0.9479170789344971,0.7168372067339026,0.881466764879556,0.6386990948831726,0.38765990055879906,0.4257616149303052,0.07532143216740483,0.03145719524602608,0.6954756041890774,0.4384288920111806,0.5522150680546295,0.5576612476224163,0.2773758133333014,0.4758925108294907,0.47076022166770226,0.388427221227857,0.8206753834010705,0.4511640036875959,0.6036445245059878,0.8955201203808261]],\"type\":\"heatmap\",\"xaxis\":\"x4\",\"yaxis\":\"y4\"}],                        {\"template\":{\"data\":{\"histogram2dcontour\":[{\"type\":\"histogram2dcontour\",\"colorbar\":{\"outlinewidth\":0,\"ticks\":\"\"},\"colorscale\":[[0.0,\"#0d0887\"],[0.1111111111111111,\"#46039f\"],[0.2222222222222222,\"#7201a8\"],[0.3333333333333333,\"#9c179e\"],[0.4444444444444444,\"#bd3786\"],[0.5555555555555556,\"#d8576b\"],[0.6666666666666666,\"#ed7953\"],[0.7777777777777778,\"#fb9f3a\"],[0.8888888888888888,\"#fdca26\"],[1.0,\"#f0f921\"]]}],\"choropleth\":[{\"type\":\"choropleth\",\"colorbar\":{\"outlinewidth\":0,\"ticks\":\"\"}}],\"histogram2d\":[{\"type\":\"histogram2d\",\"colorbar\":{\"outlinewidth\":0,\"ticks\":\"\"},\"colorscale\":[[0.0,\"#0d0887\"],[0.1111111111111111,\"#46039f\"],[0.2222222222222222,\"#7201a8\"],[0.3333333333333333,\"#9c179e\"],[0.4444444444444444,\"#bd3786\"],[0.5555555555555556,\"#d8576b\"],[0.6666666666666666,\"#ed7953\"],[0.7777777777777778,\"#fb9f3a\"],[0.8888888888888888,\"#fdca26\"],[1.0,\"#f0f921\"]]}],\"heatmap\":[{\"type\":\"heatmap\",\"colorbar\":{\"outlinewidth\":0,\"ticks\":\"\"},\"colorscale\":[[0.0,\"#0d0887\"],[0.1111111111111111,\"#46039f\"],[0.2222222222222222,\"#7201a8\"],[0.3333333333333333,\"#9c179e\"],[0.4444444444444444,\"#bd3786\"],[0.5555555555555556,\"#d8576b\"],[0.6666666666666666,\"#ed7953\"],[0.7777777777777778,\"#fb9f3a\"],[0.8888888888888888,\"#fdca26\"],[1.0,\"#f0f921\"]]}],\"heatmapgl\":[{\"type\":\"heatmapgl\",\"colorbar\":{\"outlinewidth\":0,\"ticks\":\"\"},\"colorscale\":[[0.0,\"#0d0887\"],[0.1111111111111111,\"#46039f\"],[0.2222222222222222,\"#7201a8\"],[0.3333333333333333,\"#9c179e\"],[0.4444444444444444,\"#bd3786\"],[0.5555555555555556,\"#d8576b\"],[0.6666666666666666,\"#ed7953\"],[0.7777777777777778,\"#fb9f3a\"],[0.8888888888888888,\"#fdca26\"],[1.0,\"#f0f921\"]]}],\"contourcarpet\":[{\"type\":\"contourcarpet\",\"colorbar\":{\"outlinewidth\":0,\"ticks\":\"\"}}],\"contour\":[{\"type\":\"contour\",\"colorbar\":{\"outlinewidth\":0,\"ticks\":\"\"},\"colorscale\":[[0.0,\"#0d0887\"],[0.1111111111111111,\"#46039f\"],[0.2222222222222222,\"#7201a8\"],[0.3333333333333333,\"#9c179e\"],[0.4444444444444444,\"#bd3786\"],[0.5555555555555556,\"#d8576b\"],[0.6666666666666666,\"#ed7953\"],[0.7777777777777778,\"#fb9f3a\"],[0.8888888888888888,\"#fdca26\"],[1.0,\"#f0f921\"]]}],\"surface\":[{\"type\":\"surface\",\"colorbar\":{\"outlinewidth\":0,\"ticks\":\"\"},\"colorscale\":[[0.0,\"#0d0887\"],[0.1111111111111111,\"#46039f\"],[0.2222222222222222,\"#7201a8\"],[0.3333333333333333,\"#9c179e\"],[0.4444444444444444,\"#bd3786\"],[0.5555555555555556,\"#d8576b\"],[0.6666666666666666,\"#ed7953\"],[0.7777777777777778,\"#fb9f3a\"],[0.8888888888888888,\"#fdca26\"],[1.0,\"#f0f921\"]]}],\"mesh3d\":[{\"type\":\"mesh3d\",\"colorbar\":{\"outlinewidth\":0,\"ticks\":\"\"}}],\"scatter\":[{\"fillpattern\":{\"fillmode\":\"overlay\",\"size\":10,\"solidity\":0.2},\"type\":\"scatter\"}],\"parcoords\":[{\"type\":\"parcoords\",\"line\":{\"colorbar\":{\"outlinewidth\":0,\"ticks\":\"\"}}}],\"scatterpolargl\":[{\"type\":\"scatterpolargl\",\"marker\":{\"colorbar\":{\"outlinewidth\":0,\"ticks\":\"\"}}}],\"bar\":[{\"error_x\":{\"color\":\"#2a3f5f\"},\"error_y\":{\"color\":\"#2a3f5f\"},\"marker\":{\"line\":{\"color\":\"#E5ECF6\",\"width\":0.5},\"pattern\":{\"fillmode\":\"overlay\",\"size\":10,\"solidity\":0.2}},\"type\":\"bar\"}],\"scattergeo\":[{\"type\":\"scattergeo\",\"marker\":{\"colorbar\":{\"outlinewidth\":0,\"ticks\":\"\"}}}],\"scatterpolar\":[{\"type\":\"scatterpolar\",\"marker\":{\"colorbar\":{\"outlinewidth\":0,\"ticks\":\"\"}}}],\"histogram\":[{\"marker\":{\"pattern\":{\"fillmode\":\"overlay\",\"size\":10,\"solidity\":0.2}},\"type\":\"histogram\"}],\"scattergl\":[{\"type\":\"scattergl\",\"marker\":{\"colorbar\":{\"outlinewidth\":0,\"ticks\":\"\"}}}],\"scatter3d\":[{\"type\":\"scatter3d\",\"line\":{\"colorbar\":{\"outlinewidth\":0,\"ticks\":\"\"}},\"marker\":{\"colorbar\":{\"outlinewidth\":0,\"ticks\":\"\"}}}],\"scattermapbox\":[{\"type\":\"scattermapbox\",\"marker\":{\"colorbar\":{\"outlinewidth\":0,\"ticks\":\"\"}}}],\"scatterternary\":[{\"type\":\"scatterternary\",\"marker\":{\"colorbar\":{\"outlinewidth\":0,\"ticks\":\"\"}}}],\"scattercarpet\":[{\"type\":\"scattercarpet\",\"marker\":{\"colorbar\":{\"outlinewidth\":0,\"ticks\":\"\"}}}],\"carpet\":[{\"aaxis\":{\"endlinecolor\":\"#2a3f5f\",\"gridcolor\":\"white\",\"linecolor\":\"white\",\"minorgridcolor\":\"white\",\"startlinecolor\":\"#2a3f5f\"},\"baxis\":{\"endlinecolor\":\"#2a3f5f\",\"gridcolor\":\"white\",\"linecolor\":\"white\",\"minorgridcolor\":\"white\",\"startlinecolor\":\"#2a3f5f\"},\"type\":\"carpet\"}],\"table\":[{\"cells\":{\"fill\":{\"color\":\"#EBF0F8\"},\"line\":{\"color\":\"white\"}},\"header\":{\"fill\":{\"color\":\"#C8D4E3\"},\"line\":{\"color\":\"white\"}},\"type\":\"table\"}],\"barpolar\":[{\"marker\":{\"line\":{\"color\":\"#E5ECF6\",\"width\":0.5},\"pattern\":{\"fillmode\":\"overlay\",\"size\":10,\"solidity\":0.2}},\"type\":\"barpolar\"}],\"pie\":[{\"automargin\":true,\"type\":\"pie\"}]},\"layout\":{\"autotypenumbers\":\"strict\",\"colorway\":[\"#636efa\",\"#EF553B\",\"#00cc96\",\"#ab63fa\",\"#FFA15A\",\"#19d3f3\",\"#FF6692\",\"#B6E880\",\"#FF97FF\",\"#FECB52\"],\"font\":{\"color\":\"#2a3f5f\"},\"hovermode\":\"closest\",\"hoverlabel\":{\"align\":\"left\"},\"paper_bgcolor\":\"white\",\"plot_bgcolor\":\"#E5ECF6\",\"polar\":{\"bgcolor\":\"#E5ECF6\",\"angularaxis\":{\"gridcolor\":\"white\",\"linecolor\":\"white\",\"ticks\":\"\"},\"radialaxis\":{\"gridcolor\":\"white\",\"linecolor\":\"white\",\"ticks\":\"\"}},\"ternary\":{\"bgcolor\":\"#E5ECF6\",\"aaxis\":{\"gridcolor\":\"white\",\"linecolor\":\"white\",\"ticks\":\"\"},\"baxis\":{\"gridcolor\":\"white\",\"linecolor\":\"white\",\"ticks\":\"\"},\"caxis\":{\"gridcolor\":\"white\",\"linecolor\":\"white\",\"ticks\":\"\"}},\"coloraxis\":{\"colorbar\":{\"outlinewidth\":0,\"ticks\":\"\"}},\"colorscale\":{\"sequential\":[[0.0,\"#0d0887\"],[0.1111111111111111,\"#46039f\"],[0.2222222222222222,\"#7201a8\"],[0.3333333333333333,\"#9c179e\"],[0.4444444444444444,\"#bd3786\"],[0.5555555555555556,\"#d8576b\"],[0.6666666666666666,\"#ed7953\"],[0.7777777777777778,\"#fb9f3a\"],[0.8888888888888888,\"#fdca26\"],[1.0,\"#f0f921\"]],\"sequentialminus\":[[0.0,\"#0d0887\"],[0.1111111111111111,\"#46039f\"],[0.2222222222222222,\"#7201a8\"],[0.3333333333333333,\"#9c179e\"],[0.4444444444444444,\"#bd3786\"],[0.5555555555555556,\"#d8576b\"],[0.6666666666666666,\"#ed7953\"],[0.7777777777777778,\"#fb9f3a\"],[0.8888888888888888,\"#fdca26\"],[1.0,\"#f0f921\"]],\"diverging\":[[0,\"#8e0152\"],[0.1,\"#c51b7d\"],[0.2,\"#de77ae\"],[0.3,\"#f1b6da\"],[0.4,\"#fde0ef\"],[0.5,\"#f7f7f7\"],[0.6,\"#e6f5d0\"],[0.7,\"#b8e186\"],[0.8,\"#7fbc41\"],[0.9,\"#4d9221\"],[1,\"#276419\"]]},\"xaxis\":{\"gridcolor\":\"white\",\"linecolor\":\"white\",\"ticks\":\"\",\"title\":{\"standoff\":15},\"zerolinecolor\":\"white\",\"automargin\":true,\"zerolinewidth\":2},\"yaxis\":{\"gridcolor\":\"white\",\"linecolor\":\"white\",\"ticks\":\"\",\"title\":{\"standoff\":15},\"zerolinecolor\":\"white\",\"automargin\":true,\"zerolinewidth\":2},\"scene\":{\"xaxis\":{\"backgroundcolor\":\"#E5ECF6\",\"gridcolor\":\"white\",\"linecolor\":\"white\",\"showbackground\":true,\"ticks\":\"\",\"zerolinecolor\":\"white\",\"gridwidth\":2},\"yaxis\":{\"backgroundcolor\":\"#E5ECF6\",\"gridcolor\":\"white\",\"linecolor\":\"white\",\"showbackground\":true,\"ticks\":\"\",\"zerolinecolor\":\"white\",\"gridwidth\":2},\"zaxis\":{\"backgroundcolor\":\"#E5ECF6\",\"gridcolor\":\"white\",\"linecolor\":\"white\",\"showbackground\":true,\"ticks\":\"\",\"zerolinecolor\":\"white\",\"gridwidth\":2}},\"shapedefaults\":{\"line\":{\"color\":\"#2a3f5f\"}},\"annotationdefaults\":{\"arrowcolor\":\"#2a3f5f\",\"arrowhead\":0,\"arrowwidth\":1},\"geo\":{\"bgcolor\":\"white\",\"landcolor\":\"#E5ECF6\",\"subunitcolor\":\"white\",\"showland\":true,\"showlakes\":true,\"lakecolor\":\"white\"},\"title\":{\"x\":0.05},\"mapbox\":{\"style\":\"light\"}}},\"xaxis\":{\"anchor\":\"y\",\"domain\":[0.0,0.45]},\"yaxis\":{\"anchor\":\"x\",\"domain\":[0.625,1.0]},\"xaxis2\":{\"anchor\":\"y2\",\"domain\":[0.55,1.0]},\"yaxis2\":{\"anchor\":\"x2\",\"domain\":[0.625,1.0]},\"xaxis3\":{\"anchor\":\"y3\",\"domain\":[0.0,0.45]},\"yaxis3\":{\"anchor\":\"x3\",\"domain\":[0.0,0.375]},\"xaxis4\":{\"anchor\":\"y4\",\"domain\":[0.55,1.0]},\"yaxis4\":{\"anchor\":\"x4\",\"domain\":[0.0,0.375]},\"annotations\":[{\"font\":{\"size\":16},\"showarrow\":false,\"text\":\"Matrix 1\",\"x\":0.225,\"xanchor\":\"center\",\"xref\":\"paper\",\"y\":1.0,\"yanchor\":\"bottom\",\"yref\":\"paper\"},{\"font\":{\"size\":16},\"showarrow\":false,\"text\":\"Matrix 2\",\"x\":0.775,\"xanchor\":\"center\",\"xref\":\"paper\",\"y\":1.0,\"yanchor\":\"bottom\",\"yref\":\"paper\"},{\"font\":{\"size\":16},\"showarrow\":false,\"text\":\"Matrix 3\",\"x\":0.225,\"xanchor\":\"center\",\"xref\":\"paper\",\"y\":0.375,\"yanchor\":\"bottom\",\"yref\":\"paper\"},{\"font\":{\"size\":16},\"showarrow\":false,\"text\":\"Matrix 4\",\"x\":0.775,\"xanchor\":\"center\",\"xref\":\"paper\",\"y\":0.375,\"yanchor\":\"bottom\",\"yref\":\"paper\"}],\"title\":{\"text\":\"Combined Plots\"},\"height\":800,\"width\":800},                        {\"responsive\": true}                    ).then(function(){\n",
       "                            \n",
       "var gd = document.getElementById('aa522790-573c-43cf-a287-d512e39a3c48');\n",
       "var x = new MutationObserver(function (mutations, observer) {{\n",
       "        var display = window.getComputedStyle(gd).display;\n",
       "        if (!display || display === 'none') {{\n",
       "            console.log([gd, 'removed!']);\n",
       "            Plotly.purge(gd);\n",
       "            observer.disconnect();\n",
       "        }}\n",
       "}});\n",
       "\n",
       "// Listen for the removal of the full notebook cells\n",
       "var notebookContainer = gd.closest('#notebook-container');\n",
       "if (notebookContainer) {{\n",
       "    x.observe(notebookContainer, {childList: true});\n",
       "}}\n",
       "\n",
       "// Listen for the clearing of the current output cell\n",
       "var outputEl = gd.closest('.output');\n",
       "if (outputEl) {{\n",
       "    x.observe(outputEl, {childList: true});\n",
       "}}\n",
       "\n",
       "                        })                };                });            </script>        </div>"
      ]
     },
     "metadata": {},
     "output_type": "display_data"
    }
   ],
   "source": [
    "import plotly.graph_objects as go\n",
    "from plotly.subplots import make_subplots\n",
    "import numpy as np\n",
    "\n",
    "# Example: Four 32x32 matrices\n",
    "matrix1 = np.random.rand(32, 32)\n",
    "matrix2 = np.random.rand(32, 32)\n",
    "matrix3 = np.random.rand(32, 32)\n",
    "matrix4 = np.random.rand(32, 32)\n",
    "\n",
    "# Define colors for each matrix\n",
    "color_scales = ['Viridis', 'YlGnBu', 'RdYlBu', 'Jet']\n",
    "\n",
    "# Create subplots with shared axes\n",
    "fig = make_subplots(rows=2, cols=2, subplot_titles=['Matrix 1', 'Matrix 2', 'Matrix 3', 'Matrix 4'])\n",
    "\n",
    "# Add trace for each matrix\n",
    "for i, matrix in enumerate([matrix1, matrix2, matrix3, matrix4]):\n",
    "    row = i // 2 + 1\n",
    "    col = i % 2 + 1\n",
    "\n",
    "    fig.add_trace(\n",
    "        go.Heatmap(\n",
    "            z=matrix,\n",
    "            colorscale=color_scales[i],\n",
    "            showscale=False,\n",
    "        ),\n",
    "        row=row,\n",
    "        col=col,\n",
    "    )\n",
    "\n",
    "# Update layout\n",
    "fig.update_layout(\n",
    "    height=800,\n",
    "    width=800,\n",
    "    title_text='Combined Plots',\n",
    ")\n",
    "\n",
    "# Show the plot\n",
    "fig.show()\n"
   ]
  },
  {
   "cell_type": "code",
   "execution_count": null,
   "metadata": {},
   "outputs": [],
   "source": []
  }
 ],
 "metadata": {
  "kernelspec": {
   "display_name": "venv",
   "language": "python",
   "name": "python3"
  },
  "language_info": {
   "codemirror_mode": {
    "name": "ipython",
    "version": 3
   },
   "file_extension": ".py",
   "mimetype": "text/x-python",
   "name": "python",
   "nbconvert_exporter": "python",
   "pygments_lexer": "ipython3",
   "version": "3.10.6"
  }
 },
 "nbformat": 4,
 "nbformat_minor": 2
}
