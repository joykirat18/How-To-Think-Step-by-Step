{
 "cells": [
  {
   "cell_type": "code",
   "execution_count": 11,
   "metadata": {},
   "outputs": [],
   "source": [
    "import json\n",
    "filename = 'data/noiseCOT_false_0_step_answer_3hop_distractors_llama7b.json'\n",
    "with open(filename, 'r') as f:\n",
    "    COTData = json.load(f)"
   ]
  },
  {
   "cell_type": "code",
   "execution_count": 12,
   "metadata": {},
   "outputs": [
    {
     "data": {
      "text/plain": [
       "100"
      ]
     },
     "execution_count": 12,
     "metadata": {},
     "output_type": "execute_result"
    }
   ],
   "source": [
    "len(COTData)"
   ]
  },
  {
   "cell_type": "code",
   "execution_count": 13,
   "metadata": {},
   "outputs": [],
   "source": [
    "data = COTData[0]"
   ]
  },
  {
   "cell_type": "code",
   "execution_count": 14,
   "metadata": {},
   "outputs": [
    {
     "data": {
      "text/plain": [
       "{'question': 'Cow is cold. Sheep are cows. Snake is sheep. Sally is snake.',\n",
       " 'query': 'True or false: Sally is cold.',\n",
       " 'answer': 'Sally is snake. Snake is sheep. Sally is sheep. Sheep are cows. Sally is cow. Cow is cold. Sally is cold. True',\n",
       " 'label': 'True',\n",
       " 'prompt': 'Cow is cold. Sheep are cows. Snake is sheep. Sally is snake. True or false: Sally is cold. Let us think step by step.',\n",
       " 'generated': 'Sally is snake. Snake is sheep. Sally is sheep. Sheep are cows. Sally is cow. Cow is cold. Sally is cold. True',\n",
       " 'noise_response_0': '',\n",
       " 'noise_prompt_0': 'Cow is cold. Sheep are cows. Snake is sheep. Sally is snake. True or false: Rex is cold. Let us think step by step.',\n",
       " 'response_0': '',\n",
       " 'noise_response_1': 'Sally is',\n",
       " 'noise_prompt_1': 'Cow is cold. Sheep are cows. Snake is sheep. Sally is slow. True or false: Sally is cold. Let us think step by step.',\n",
       " 'response_1': 'Sally is',\n",
       " 'noise_response_2': 'Alex is snake.',\n",
       " 'noise_prompt_2': 'Cow is cold. Sheep are cows. Snake is sheep. Sally is snake. True or false: Sally is cold. Let us think step by step.',\n",
       " 'response_2': 'Sally is snake.',\n",
       " 'noise_response_3': 'Sally is snake. Snake is',\n",
       " 'noise_prompt_3': 'Cow is cold. Sheep are cows. Snake is lepidopteran. Sally is snake. True or false: Sally is cold. Let us think step by step.',\n",
       " 'response_3': 'Sally is snake. Snake is',\n",
       " 'noise_response_4': 'Sally is snake. Wren is sheep.',\n",
       " 'noise_prompt_4': 'Cow is cold. Sheep are cows. Snake is sheep. Sally is snake. True or false: Sally is cold. Let us think step by step.',\n",
       " 'response_4': 'Sally is snake. Snake is sheep.',\n",
       " 'noise_response_5': 'Sally is snake. Snake is mammal. Sally is',\n",
       " 'noise_prompt_5': 'Cow is cold. Sheep are cows. Snake is sheep. Sally is snake. True or false: Sally is cold. Let us think step by step.',\n",
       " 'response_5': 'Sally is snake. Snake is sheep. Sally is',\n",
       " 'noise_response_6': 'Sally is snake. Snake is sheep. Sally is sheep.',\n",
       " 'noise_prompt_6': 'Cow is cold. Feline are cows. Snake is sheep. Sally is snake. True or false: Sally is cold. Let us think step by step.',\n",
       " 'response_6': 'Sally is snake. Snake is sheep. Sally is sheep.',\n",
       " 'noise_response_7': 'Sally is snake. Snake is sheep. Sally is sheep. Sheep are',\n",
       " 'noise_prompt_7': 'Cow is cold. Sheep are cows. Snake is sheep. Sally is snake. True or false: Sally is bright. Let us think step by step.',\n",
       " 'response_7': 'Sally is snake. Snake is sheep. Sally is sheep. Sheep are',\n",
       " 'noise_response_8': 'Sally is snake. Snake is sheep. Sally is sheep. Wren are cows.',\n",
       " 'noise_prompt_8': 'Cow is cold. Sheep are cows. Snake is sheep. Sally is snake. True or false: Sally is cold. Let us think step by step.',\n",
       " 'response_8': 'Sally is snake. Snake is sheep. Sally is sheep. Sheep are cows.',\n",
       " 'noise_response_9': 'Sally is snake. Snake is sheep. Sally is sheep. Sheep are Arthropod. Sally is',\n",
       " 'noise_prompt_9': 'Cow is cold. Sheep are cows. Snake is sheep. Sally is snake. True or false: Sally is cold. Let us think step by step.',\n",
       " 'response_9': 'Sally is snake. Snake is sheep. Sally is sheep. Sheep are cows. Sally is',\n",
       " 'noise_response_10': 'Sally is snake. Snake is sheep. Sally is sheep. Sheep are cows. Sally is cow.',\n",
       " 'noise_prompt_10': 'arthropod is cold. Sheep are cows. Snake is sheep. Sally is snake. True or false: Sally is cold. Let us think step by step.',\n",
       " 'response_10': 'Sally is snake. Snake is sheep. Sally is sheep. Sheep are cows. Sally is cow.',\n",
       " 'noise_response_11': 'Sally is snake. Snake is sheep. Sally is sheep. Sheep are cows. Sally is cow. Cow is',\n",
       " 'noise_prompt_11': 'Cow is cold. Sheep are cows. Snake is sheep. Sally is snake. True or false: Sally is wooden. Let us think step by step.',\n",
       " 'response_11': 'Sally is snake. Snake is sheep. Sally is sheep. Sheep are cows. Sally is cow. Cow is',\n",
       " 'noise_response_12': 'Sally is snake. Snake is sheep. Sally is sheep. Sheep are cows. Stella is cow. Cow is cold.',\n",
       " 'noise_prompt_12': 'Cow is cold. Sheep are cows. Snake is sheep. Sally is snake. True or false: Sally is cold. Let us think step by step.',\n",
       " 'response_12': 'Sally is snake. Snake is sheep. Sally is sheep. Sheep are cows. Sally is cow. Cow is cold.',\n",
       " 'noise_response_13': 'Sally is snake. Snake is sheep. Sally is sheep. Sheep are cows. Sally is cow. Cow is kind. Sally is',\n",
       " 'noise_prompt_13': 'Cow is cold. Sheep are cows. Snake is sheep. Sally is snake. True or false: Sally is cold. Let us think step by step.',\n",
       " 'response_13': 'Sally is snake. Snake is sheep. Sally is sheep. Sheep are cows. Sally is cow. Cow is cold. Sally is'}"
      ]
     },
     "execution_count": 14,
     "metadata": {},
     "output_type": "execute_result"
    }
   ],
   "source": [
    "data"
   ]
  },
  {
   "cell_type": "code",
   "execution_count": 15,
   "metadata": {},
   "outputs": [],
   "source": [
    "available_property_families = [\"blue\", \"red\", \"brown\", \"orange\",\n",
    "\t\t\t\t\t\t\t\"small\", \"large\",\n",
    "\t\t\t\t\t\t\t\"metallic\", \"wooden\", \"luminous\", \"liquid\",\n",
    "\t\t\t\t\t\t\t\"transparent\", \"opaque\",\n",
    "\t\t\t\t\t\t\t\"nervous\", \"happy\", \"feisty\", \"shy\",\n",
    "\t\t\t\t\t\t\t\"bright\", \"dull\",\n",
    "\t\t\t\t\t\t\t\"sweet\", \"sour\", \"spicy\", \"bitter\",\n",
    "\t\t\t\t\t\t\t\"floral\", \"fruity\", \"earthy\",\n",
    "\t\t\t\t\t\t\t\"hot\", \"cold\", \"temperate\",\n",
    "\t\t\t\t\t\t\t\"kind\", \"mean\", \"angry\", \"amenable\", \"aggressive\",\n",
    "\t\t\t\t\t\t\t\"melodic\", \"muffled\", \"discordant\", \"loud\",\n",
    "\t\t\t\t\t\t\t\"slow\", \"moderate\", \"fast\",\n",
    "\t\t\t\t\t\t\t\"windy\", \"sunny\", \"overcast\", \"rainy\", \"snowy\"]"
   ]
  },
  {
   "cell_type": "code",
   "execution_count": 16,
   "metadata": {},
   "outputs": [
    {
     "name": "stdout",
     "output_type": "stream",
     "text": [
      "14\n",
      "14\n",
      "13\n",
      "14\n",
      "13\n",
      "14\n",
      "14\n",
      "14\n",
      "14\n",
      "14\n",
      "14\n",
      "14\n",
      "14\n",
      "13\n",
      "14\n",
      "13\n",
      "14\n",
      "13\n",
      "14\n",
      "14\n",
      "14\n",
      "14\n",
      "14\n",
      "14\n",
      "14\n",
      "14\n",
      "14\n",
      "14\n",
      "14\n",
      "14\n",
      "14\n",
      "14\n",
      "14\n",
      "14\n",
      "14\n",
      "14\n",
      "14\n",
      "14\n",
      "14\n",
      "14\n",
      "14\n",
      "14\n",
      "14\n",
      "14\n",
      "14\n",
      "14\n",
      "13\n",
      "14\n",
      "14\n",
      "13\n",
      "14\n",
      "14\n",
      "13\n",
      "14\n",
      "14\n",
      "14\n",
      "14\n",
      "14\n",
      "14\n",
      "14\n",
      "13\n",
      "14\n",
      "13\n",
      "14\n",
      "14\n",
      "14\n",
      "14\n",
      "14\n",
      "14\n",
      "14\n",
      "14\n",
      "14\n",
      "14\n",
      "14\n",
      "14\n",
      "14\n",
      "14\n",
      "14\n",
      "14\n",
      "14\n",
      "14\n",
      "14\n",
      "14\n",
      "13\n",
      "14\n",
      "14\n",
      "14\n",
      "14\n",
      "14\n",
      "13\n",
      "14\n",
      "14\n",
      "14\n",
      "14\n",
      "14\n",
      "14\n",
      "14\n",
      "14\n",
      "14\n",
      "14\n"
     ]
    }
   ],
   "source": [
    "for data in COTData:\n",
    "    lastResponseNumber = 0\n",
    "    \n",
    "    for i in range(100):\n",
    "        try:\n",
    "            response = data[f'response_{i}']\n",
    "        except:\n",
    "            lastResponseNumber = i\n",
    "            break\n",
    "    data[f'noise_prompt_{lastResponseNumber}'] = data['prompt']\n",
    "    data[f'response_{lastResponseNumber}'] = data['answer'][: data['answer'].rfind('.') + 1]\n",
    "\n",
    "    splits = data[f'response_{lastResponseNumber}'].split(' ')\n",
    "    for entity in available_property_families:\n",
    "        if(entity in splits[-1]):\n",
    "            old = splits[-1]\n",
    "            import random\n",
    "            available_name_without_old = [prop for prop in available_property_families if prop != entity]\n",
    "            new = random.choice(available_name_without_old)\n",
    "            if('.' in old):\n",
    "                new += '.'\n",
    "            splits[-1] = new\n",
    "            break\n",
    "    noise_response = ' '.join(splits)\n",
    "    \n",
    "    print(lastResponseNumber)\n",
    "    data[f'noise_response_{lastResponseNumber}'] = noise_response\n",
    "\n",
    "    \n",
    "            "
   ]
  },
  {
   "cell_type": "code",
   "execution_count": 17,
   "metadata": {},
   "outputs": [
    {
     "data": {
      "text/plain": [
       "{'question': 'Butterflies are muffled. Arthropods are butterflies. Animal is arthropod. Stella is animal.',\n",
       " 'query': 'True or false: Stella is bitter.',\n",
       " 'answer': 'Stella is animal. Animal is arthropod. Stella is arthropod. Arthropods are butterflies. Stella is butterfly. Butterflies are muffled. Stella is muffled. False',\n",
       " 'label': 'False',\n",
       " 'prompt': 'Butterflies are muffled. Arthropods are butterflies. Animal is arthropod. Stella is animal. True or false: Stella is bitter. Let us think step by step.',\n",
       " 'generated': 'Stella is animal. Animal is arthropod. Stella is arthropod. Arthropods are butterflies. Stella is butterfly. Butterflies are muffled. Stella is muffled. False',\n",
       " 'noise_response_0': '',\n",
       " 'noise_prompt_0': 'Butterflies are muffled. Arthropods are butterflies. Animal is arthropod. Stella is animal. True or false: Alex is bitter. Let us think step by step.',\n",
       " 'response_0': '',\n",
       " 'noise_response_1': 'Stella is',\n",
       " 'noise_prompt_1': 'Butterflies are muffled. Arthropods are butterflies. Animal is arthropod. Stella is Animal. True or false: Stella is bitter. Let us think step by step.',\n",
       " 'response_1': 'Stella is',\n",
       " 'noise_response_2': 'Stella is animal.',\n",
       " 'noise_prompt_2': 'Butterflies are muffled. Arthropods are butterflies. Snake is arthropod. Stella is animal. True or false: Stella is bitter. Let us think step by step.',\n",
       " 'response_2': 'Stella is animal.',\n",
       " 'noise_response_3': 'Stella is animal. Animal is',\n",
       " 'noise_prompt_3': 'Butterflies are muffled. Arthropods are butterflies. Animal is Snake. Stella is animal. True or false: Stella is bitter. Let us think step by step.',\n",
       " 'response_3': 'Stella is animal. Animal is',\n",
       " 'noise_response_4': 'Polly is animal. Animal is arthropod.',\n",
       " 'noise_prompt_4': 'Butterflies are muffled. Arthropods are butterflies. Animal is arthropod. Stella is animal. True or false: Stella is bitter. Let us think step by step.',\n",
       " 'response_4': 'Stella is animal. Animal is arthropod.',\n",
       " 'noise_response_5': 'Stella is animal. Animal is Butterfly. Stella is',\n",
       " 'noise_prompt_5': 'Butterflies are muffled. Arthropods are butterflies. Animal is arthropod. Stella is animal. True or false: Stella is bitter. Let us think step by step.',\n",
       " 'response_5': 'Stella is animal. Animal is arthropod. Stella is',\n",
       " 'noise_response_6': 'Stella is animal. Animal is arthropod. Stella is arthropod.',\n",
       " 'noise_prompt_6': 'Butterflies are muffled. Moth are butterflies. Animal is arthropod. Stella is animal. True or false: Stella is bitter. Let us think step by step.',\n",
       " 'response_6': 'Stella is animal. Animal is arthropod. Stella is arthropod.',\n",
       " 'noise_response_7': 'Stella is animal. Animal is arthropod. Stella is arthropod. Arthropods are',\n",
       " 'noise_prompt_7': 'Butterflies are muffled. Arthropods are animal. Animal is arthropod. Stella is animal. True or false: Stella is bitter. Let us think step by step.',\n",
       " 'response_7': 'Stella is animal. Animal is arthropod. Stella is arthropod. Arthropods are',\n",
       " 'noise_response_8': 'Stella is animal. Animal is arthropod. Rex is arthropod. Arthropods are butterflies.',\n",
       " 'noise_prompt_8': 'Butterflies are muffled. Arthropods are butterflies. Animal is arthropod. Stella is animal. True or false: Stella is bitter. Let us think step by step.',\n",
       " 'response_8': 'Stella is animal. Animal is arthropod. Stella is arthropod. Arthropods are butterflies.',\n",
       " 'noise_response_9': 'Stella is animal. Animal is arthropod. Stella is arthropod. Arthropods are spider. Stella is',\n",
       " 'noise_prompt_9': 'Butterflies are muffled. Arthropods are butterflies. Animal is arthropod. Stella is animal. True or false: Stella is bitter. Let us think step by step.',\n",
       " 'response_9': 'Stella is animal. Animal is arthropod. Stella is arthropod. Arthropods are butterflies. Stella is',\n",
       " 'noise_response_10': 'Stella is animal. Animal is arthropod. Stella is arthropod. Arthropods are butterflies. Stella is butterfly.',\n",
       " 'noise_prompt_10': 'moth are muffled. Arthropods are butterflies. Animal is arthropod. Stella is animal. True or false: Stella is bitter. Let us think step by step.',\n",
       " 'response_10': 'Stella is animal. Animal is arthropod. Stella is arthropod. Arthropods are butterflies. Stella is butterfly.',\n",
       " 'noise_response_11': 'Stella is animal. Animal is arthropod. Stella is arthropod. Arthropods are butterflies. Stella is butterfly. Butterflies are',\n",
       " 'noise_prompt_11': 'Butterflies are small. Arthropods are butterflies. Animal is arthropod. Stella is animal. True or false: Stella is bitter. Let us think step by step.',\n",
       " 'response_11': 'Stella is animal. Animal is arthropod. Stella is arthropod. Arthropods are butterflies. Stella is butterfly. Butterflies are',\n",
       " 'noise_response_12': 'Stella is animal. Animal is arthropod. Stella is arthropod. Arthropods are butterflies. Wren is butterfly. Butterflies are muffled.',\n",
       " 'noise_prompt_12': 'Butterflies are muffled. Arthropods are butterflies. Animal is arthropod. Stella is animal. True or false: Stella is bitter. Let us think step by step.',\n",
       " 'response_12': 'Stella is animal. Animal is arthropod. Stella is arthropod. Arthropods are butterflies. Stella is butterfly. Butterflies are muffled.',\n",
       " 'noise_response_13': 'Stella is animal. Animal is arthropod. Stella is arthropod. Arthropods are butterflies. Stella is butterfly. Butterflies are floral. Stella is',\n",
       " 'noise_prompt_13': 'Butterflies are muffled. Arthropods are butterflies. Animal is arthropod. Stella is animal. True or false: Stella is bitter. Let us think step by step.',\n",
       " 'response_13': 'Stella is animal. Animal is arthropod. Stella is arthropod. Arthropods are butterflies. Stella is butterfly. Butterflies are muffled. Stella is',\n",
       " 'noise_prompt_14': 'Butterflies are muffled. Arthropods are butterflies. Animal is arthropod. Stella is animal. True or false: Stella is bitter. Let us think step by step.',\n",
       " 'response_14': 'Stella is animal. Animal is arthropod. Stella is arthropod. Arthropods are butterflies. Stella is butterfly. Butterflies are muffled. Stella is muffled.',\n",
       " 'noise_response_14': 'Stella is animal. Animal is arthropod. Stella is arthropod. Arthropods are butterflies. Stella is butterfly. Butterflies are muffled. Stella is wooden.'}"
      ]
     },
     "execution_count": 17,
     "metadata": {},
     "output_type": "execute_result"
    }
   ],
   "source": [
    "COTData[1]"
   ]
  },
  {
   "cell_type": "code",
   "execution_count": null,
   "metadata": {},
   "outputs": [],
   "source": [
    "COTData[140]"
   ]
  },
  {
   "cell_type": "code",
   "execution_count": 19,
   "metadata": {},
   "outputs": [],
   "source": [
    "with open(filename, 'w') as f:\n",
    "    json.dump(COTData, f)"
   ]
  },
  {
   "cell_type": "code",
   "execution_count": 9,
   "metadata": {},
   "outputs": [],
   "source": [
    "lastResponseNumber = 0\n",
    "for i in range(100):\n",
    "    try:\n",
    "        response = data[f'response_{i}']\n",
    "    except:\n",
    "        lastResponseNumber = i\n",
    "        break\n",
    "            "
   ]
  },
  {
   "cell_type": "code",
   "execution_count": 10,
   "metadata": {},
   "outputs": [
    {
     "data": {
      "text/plain": [
       "10"
      ]
     },
     "execution_count": 10,
     "metadata": {},
     "output_type": "execute_result"
    }
   ],
   "source": [
    "lastResponseNumber"
   ]
  },
  {
   "cell_type": "code",
   "execution_count": 15,
   "metadata": {},
   "outputs": [],
   "source": [
    "data[f'response_{lastResponseNumber}'] = data['answer'][: data['answer'].rfind('.') + 1]"
   ]
  },
  {
   "cell_type": "code",
   "execution_count": 16,
   "metadata": {},
   "outputs": [
    {
     "data": {
      "text/plain": [
       "'Max is lempus. Lempus is tumpus. Max is tumpus. Tumpus is bright. Max is bright.'"
      ]
     },
     "execution_count": 16,
     "metadata": {},
     "output_type": "execute_result"
    }
   ],
   "source": [
    "data[f'response_{lastResponseNumber}']"
   ]
  },
  {
   "cell_type": "code",
   "execution_count": 17,
   "metadata": {},
   "outputs": [],
   "source": [
    "available_property_families = [\"blue\", \"red\", \"brown\", \"orange\",\n",
    "\t\t\t\t\t\t\t\"small\", \"large\",\n",
    "\t\t\t\t\t\t\t\"metallic\", \"wooden\", \"luminous\", \"liquid\",\n",
    "\t\t\t\t\t\t\t\"transparent\", \"opaque\",\n",
    "\t\t\t\t\t\t\t\"nervous\", \"happy\", \"feisty\", \"shy\",\n",
    "\t\t\t\t\t\t\t\"bright\", \"dull\",\n",
    "\t\t\t\t\t\t\t\"sweet\", \"sour\", \"spicy\", \"bitter\",\n",
    "\t\t\t\t\t\t\t\"floral\", \"fruity\", \"earthy\",\n",
    "\t\t\t\t\t\t\t\"hot\", \"cold\", \"temperate\",\n",
    "\t\t\t\t\t\t\t\"kind\", \"mean\", \"angry\", \"amenable\", \"aggressive\",\n",
    "\t\t\t\t\t\t\t\"melodic\", \"muffled\", \"discordant\", \"loud\",\n",
    "\t\t\t\t\t\t\t\"slow\", \"moderate\", \"fast\",\n",
    "\t\t\t\t\t\t\t\"windy\", \"sunny\", \"overcast\", \"rainy\", \"snowy\"]"
   ]
  },
  {
   "cell_type": "code",
   "execution_count": 24,
   "metadata": {},
   "outputs": [],
   "source": [
    "splits = data[f'response_{lastResponseNumber}'].split(' ')\n",
    "for entity in available_property_families:\n",
    "    if(entity in splits[-1]):\n",
    "        old = splits[-1]\n",
    "        import random\n",
    "        available_name_without_old = [prop for prop in available_property_families if prop != entity]\n",
    "        new = random.choice(available_name_without_old)\n",
    "        if('.' in old):\n",
    "            new += '.'\n",
    "        splits[-1] = new\n",
    "        break\n",
    "noise_response = ' '.join(splits)"
   ]
  },
  {
   "cell_type": "code",
   "execution_count": 25,
   "metadata": {},
   "outputs": [
    {
     "data": {
      "text/plain": [
       "'Max is lempus. Lempus is tumpus. Max is tumpus. Tumpus is bright. Max is orange.'"
      ]
     },
     "execution_count": 25,
     "metadata": {},
     "output_type": "execute_result"
    }
   ],
   "source": [
    "noise_response"
   ]
  },
  {
   "cell_type": "code",
   "execution_count": 26,
   "metadata": {},
   "outputs": [],
   "source": [
    "data[f'noise_response_{lastResponseNumber}'] = noise_response"
   ]
  },
  {
   "cell_type": "code",
   "execution_count": 27,
   "metadata": {},
   "outputs": [],
   "source": [
    "data[f'noise_prompt_{lastResponseNumber}'] = data['prompt']"
   ]
  },
  {
   "cell_type": "code",
   "execution_count": 28,
   "metadata": {},
   "outputs": [
    {
     "data": {
      "text/plain": [
       "{'question': 'Tumpus is bright. Lempus is tumpus. Max is lempus.',\n",
       " 'query': 'True or false: Max is bright.',\n",
       " 'answer': 'Max is lempus. Lempus is tumpus. Max is tumpus. Tumpus is bright. Max is bright. True',\n",
       " 'label': 'True',\n",
       " 'prompt': 'Tumpus is bright. Lempus is tumpus. Max is lempus. True or false: Max is bright. Let us think step by step.',\n",
       " 'generated': 'Max is lempus. Lempus is tumpus. Max is tumpus. Tumpus is bright. Max is bright. True',\n",
       " 'noise_response_0': '',\n",
       " 'noise_prompt_0': 'Tumpus is bright. Lempus is tumpus. Max is lempus. True or false: Sam is bright. Let us think step by step.',\n",
       " 'response_0': '',\n",
       " 'noise_response_1': 'Max is',\n",
       " 'noise_prompt_1': 'Tumpus is bright. Lempus is tumpus. Max is Shumpus. True or false: Max is bright. Let us think step by step.',\n",
       " 'response_1': 'Max is',\n",
       " 'noise_response_2': 'Max is lempus.',\n",
       " 'noise_prompt_2': 'Tumpus is bright. Shumpus is tumpus. Max is lempus. True or false: Max is bright. Let us think step by step.',\n",
       " 'response_2': 'Max is lempus.',\n",
       " 'noise_response_3': 'Max is lempus. Lempus is',\n",
       " 'noise_prompt_3': 'Tumpus is bright. Lempus is liquid. Max is lempus. True or false: Max is bright. Let us think step by step.',\n",
       " 'response_3': 'Max is lempus. Lempus is',\n",
       " 'noise_response_4': 'Rex is lempus. Lempus is tumpus.',\n",
       " 'noise_prompt_4': 'Tumpus is bright. Lempus is tumpus. Max is lempus. True or false: Max is bright. Let us think step by step.',\n",
       " 'response_4': 'Max is lempus. Lempus is tumpus.',\n",
       " 'noise_response_5': 'Max is lempus. Lempus is shy. Max is',\n",
       " 'noise_prompt_5': 'Tumpus is bright. Lempus is tumpus. Max is lempus. True or false: Max is bright. Let us think step by step.',\n",
       " 'response_5': 'Max is lempus. Lempus is tumpus. Max is',\n",
       " 'noise_response_6': 'Max is lempus. Lempus is tumpus. Max is tumpus.',\n",
       " 'noise_prompt_6': 'Dumpus is bright. Lempus is tumpus. Max is lempus. True or false: Max is bright. Let us think step by step.',\n",
       " 'response_6': 'Max is lempus. Lempus is tumpus. Max is tumpus.',\n",
       " 'noise_response_7': 'Max is lempus. Lempus is tumpus. Max is tumpus. Tumpus is',\n",
       " 'noise_prompt_7': 'Tumpus is bright. Lempus is tumpus. Max is lempus. True or false: Max is fast. Let us think step by step.',\n",
       " 'response_7': 'Max is lempus. Lempus is tumpus. Max is tumpus. Tumpus is',\n",
       " 'noise_response_8': 'Max is lempus. Lempus is tumpus. Sally is tumpus. Tumpus is bright.',\n",
       " 'noise_prompt_8': 'Tumpus is bright. Lempus is tumpus. Max is lempus. True or false: Max is bright. Let us think step by step.',\n",
       " 'response_8': 'Max is lempus. Lempus is tumpus. Max is tumpus. Tumpus is bright.',\n",
       " 'noise_response_9': 'Max is lempus. Lempus is tumpus. Max is tumpus. Tumpus is small. Max is',\n",
       " 'noise_prompt_9': 'Tumpus is bright. Lempus is tumpus. Max is lempus. True or false: Max is bright. Let us think step by step.',\n",
       " 'response_9': 'Max is lempus. Lempus is tumpus. Max is tumpus. Tumpus is bright. Max is',\n",
       " 'response_10': 'Max is lempus. Lempus is tumpus. Max is tumpus. Tumpus is bright. Max is bright.',\n",
       " 'noise_response_10': 'Max is lempus. Lempus is tumpus. Max is tumpus. Tumpus is bright. Max is orange.',\n",
       " 'noise_prompt_10': 'Tumpus is bright. Lempus is tumpus. Max is lempus. True or false: Max is bright. Let us think step by step.'}"
      ]
     },
     "execution_count": 28,
     "metadata": {},
     "output_type": "execute_result"
    }
   ],
   "source": [
    "data"
   ]
  },
  {
   "cell_type": "code",
   "execution_count": 3,
   "metadata": {},
   "outputs": [],
   "source": [
    "prompts = [\n",
    "\"Gorpus is twimpus. Alex is rompus. Lorpuses are small. Lempus is lorpus. Tumpus is lempus. Rex is tumpus. True or false: Rex is muffled. Let us think step by step.\",\n",
    "\"Gorpuses are discordant. Wren is zumpus. Yumpus is small. Grimpuses are yumpuses. Shumpus is grimpus. Max is shumpus. True or false: Max is small. Let us think step by step.\",\n",
    "\"Sterpuses are dull. Impus is medium. Brimpuses are fast. Tumpuses are brimpuses. Jompuses are tumpuses. Max is jompus. True or false: Max is fast. Let us think step by step.\",\n",
    "\"Borpin are wumpus. Wumpuses are angry. Zumpus is bright. Wumpuses are zumpuses. Yumpus is wumpus. Rex is yumpus. True or false: Rex is happy. Let us think step by step.\",\n",
    "\"Gorpus is jelgit. Yumpuses are loud. Lempuses are mean. Brimpuses are lempuses. Zumpus is brimpus. Wren is zumpus. True or false: Wren is bitter. Let us think step by step.\",\n",
    "\"Gorpus is tumpus. Max is lempus. Grimpus is mean. Lempuses are grimpuses. Numpuses are lempuses. Sally is numpus. True or false: Sally is mean. Let us think step by step.\"]"
   ]
  },
  {
   "cell_type": "code",
   "execution_count": 5,
   "metadata": {},
   "outputs": [],
   "source": [
    "prompts = [\n",
    "    \"Gorpus is twimpus. Alex is rompus. Rompuses are transparent. Lempus is rompus. Sterpuses are lempuses. Zumpus is sterpus. Stella is zumpus. True or false: Stella is slow. Let us think step by step.\",\n",
    "    \"Gorpuses are discordant. Wren is zumpus. Shumpus is moderate. Lorpuses are shumpuses. Vumpus is lorpus. Lempus is vumpus. Sally is lempus. True or false: Sally is liquid. Let us think step by step.\",\n",
    "    \"Sterpuses are dull. Impus is medium. Jompus is fruity. Brimpus is jompus. Sterpus is brimpus. Wumpuses are sterpuses. Polly is wumpus. True or false: Polly is fruity. Let us think step by step.\",\n",
    "    \"Borpin are wumpus. Wumpuses are angry. Impuses are fruity. Sterpus is impus. Numpuses are sterpuses. Jompuses are numpuses. Polly is jompus. True or false: Polly is fruity. Let us think step by step.\",\n",
    "    \"Gorpus is jelgit. Yumpuses are loud. Rompus is earthy. Zumpuses are rompuses. Dumpus is zumpus. Lempuses are dumpuses. Wren is lempus. True or false: Wren is slow. Let us think step by step.\",\n",
    "    \"Gorpus is tumpus. Max is lempus. Wumpuses are muffled. Shumpuses are wumpuses. Dumpus is shumpus. Zumpus is dumpus. Sam is zumpus. True or false: Sam is muffled. Let us think step by step.\"\n",
    "]"
   ]
  },
  {
   "cell_type": "code",
   "execution_count": 6,
   "metadata": {},
   "outputs": [
    {
     "name": "stdout",
     "output_type": "stream",
     "text": [
      "Sterpuses are lempuses. Stella is zumpus. Zumpus is sterpus. Gorpus is twimpus. Lempus is rompus. Alex is rompus. Rompuses are transparent. True or false: Stella is slow. Let us think step by step.\n",
      "Wren is zumpus. Shumpus is moderate. Sally is lempus. Lorpuses are shumpuses. Vumpus is lorpus. Lempus is vumpus. Gorpuses are discordant. True or false: Sally is liquid. Let us think step by step.\n",
      "Wumpuses are sterpuses. Jompus is fruity. Sterpus is brimpus. Impus is medium. Sterpuses are dull. Polly is wumpus. Brimpus is jompus. True or false: Polly is fruity. Let us think step by step.\n",
      "Polly is jompus. Borpin are wumpus. Impuses are fruity. Sterpus is impus. Numpuses are sterpuses. Wumpuses are angry. Jompuses are numpuses. True or false: Polly is fruity. Let us think step by step.\n",
      "Lempuses are dumpuses. Gorpus is jelgit. Wren is lempus. Zumpuses are rompuses. Rompus is earthy. Dumpus is zumpus. Yumpuses are loud. True or false: Wren is slow. Let us think step by step.\n",
      "Shumpuses are wumpuses. Wumpuses are muffled. Gorpus is tumpus. Max is lempus. Zumpus is dumpus. Sam is zumpus. Dumpus is shumpus. True or false: Sam is muffled. Let us think step by step.\n"
     ]
    }
   ],
   "source": [
    "for prompt in prompts:\n",
    "    splits = prompt.split('. ')\n",
    "    promptSplit = splits[:7]\n",
    "    querySplit = splits[7:]\n",
    "    import random \n",
    "    random.shuffle(promptSplit)\n",
    "    finalSplit = promptSplit + querySplit\n",
    "    finalPrompt = '. '.join(finalSplit)\n",
    "    print(finalPrompt)\n"
   ]
  },
  {
   "cell_type": "code",
   "execution_count": 1,
   "metadata": {},
   "outputs": [],
   "source": [
    "prompts = [\n",
    "\"Fae is cow. Crustaceans are large. Snake is metallic. Cats are snakes. Vertebrate is cat. Stella is vertebrate. True or false: Stella is red. Let us think step by step.\",\n",
    "\"Vertebrates are cows. Sheep is bitter. Carnivores are amenable. Snake is carnivore. Cats are snakes. Sam is cat. True or false: Sam is amenable. Let us think step by step.\",\n",
    "\"Dogs are mammals. Mammals are snowy. Carnivore is fast. Feline is carnivore. Cow is feline. Stella is cow. True or false: Stella is opaque. Let us think step by step.\",\n",
    "\"Moths are discordant. Spiders are moths. Sheep is loud. Animals are sheep. Mammal is animal. Fae is mammal. True or false: Fae is loud. Let us think step by step.\",\n",
    "\"Dogs are cows. Max is dog. Vertebrates are feisty. Cat is vertebrate. Mammals are cats. Sam is mammal. True or false: Sam is sour. Let us think step by step.\",\n",
    "\"Dog is feisty. Feline is small. Snakes are sweet. Mammals are snakes. Cows are mammals. Sam is cow. True or false: Sam is sweet. Let us think step by step.\"]"
   ]
  },
  {
   "cell_type": "code",
   "execution_count": 2,
   "metadata": {},
   "outputs": [],
   "source": [
    "prompts = [\n",
    "    \"Fae is cow. Crustaceans are large. Cow is kind. Animals are cows. Vertebrates are animals. Feline is vertebrate. Rex is feline. True or false: Rex is kind. Let us think step by step.\",\n",
    "    \"Vertebrates are cows. Sheep is bitter. Mammal is spicy. Vertebrates are mammals. Dogs are vertebrates. Carnivores are dogs. Wren is carnivore. True or false: Wren is temperate. Let us think step by step.\",\n",
    "    \"Dogs are mammals. Mammals are snowy. Lepidopterans are temperate. Ants are lepidopterans. Animals are ants. Butterflies are animals. Rex is butterfly. True or false: Rex is temperate. Let us think step by step.\",\n",
    "    \"Moths are discordant. Spiders are moths. Vertebrate is red. Dog is vertebrate. Mammals are dogs. Carnivores are mammals. Polly is carnivore. True or false: Polly is sweet. Let us think step by step.\",\n",
    "    \"Dogs are cows. Max is dog. Mammals are amenable. Carnivore is mammal. Snakes are carnivores. Cows are snakes. Stella is cow. True or false: Stella is amenable. Let us think step by step.\",\n",
    "    \"Dog is feisty. Feline is small. Animal is large. Invertebrate is animal. Crustaceans are invertebrates. Insects are crustaceans. Sally is insect. True or false: Sally is liquid. Let us think step by step.\"\n",
    "]"
   ]
  },
  {
   "cell_type": "code",
   "execution_count": null,
   "metadata": {},
   "outputs": [],
   "source": []
  }
 ],
 "metadata": {
  "kernelspec": {
   "display_name": "venv",
   "language": "python",
   "name": "python3"
  },
  "language_info": {
   "codemirror_mode": {
    "name": "ipython",
    "version": 3
   },
   "file_extension": ".py",
   "mimetype": "text/x-python",
   "name": "python",
   "nbconvert_exporter": "python",
   "pygments_lexer": "ipython3",
   "version": "3.10.6"
  },
  "orig_nbformat": 4
 },
 "nbformat": 4,
 "nbformat_minor": 2
}
